{
 "cells": [
  {
   "cell_type": "markdown",
   "metadata": {},
   "source": [
    "## Propiedades de **Numpy** arrays\n",
    "\n",
    "### Propiedades básicas\n",
    "\n",
    "Hay tres propiedades básicas que caracterizan a un array:\n",
    "\n",
    "* `shape`: Contiene información sobre la forma que tiene un array (sus dimensiones: vector, matriz, o tensor)\n",
    "* `dtype`: Es el tipo de cada uno de sus elementos (todos son iguales)\n",
    "* `stride`: Contiene la información sobre como recorrer el array. Por ejemplo si es una matriz, tiene la información de cuántos bytes en memoria hay que pasar para pasar de una fila a la siguiente y de una columna a la siguiente."
   ]
  },
  {
   "cell_type": "code",
   "execution_count": 2,
   "metadata": {},
   "outputs": [],
   "source": [
    "import numpy as np"
   ]
  },
  {
   "cell_type": "code",
   "execution_count": 8,
   "metadata": {},
   "outputs": [],
   "source": [
    "arr = np.arange(55).reshape((5,11))+1"
   ]
  },
  {
   "cell_type": "code",
   "execution_count": 9,
   "metadata": {},
   "outputs": [
    {
     "name": "stdout",
     "output_type": "stream",
     "text": [
      "shape  : (5, 11)\n",
      "dtype  : int64\n",
      "strides: (88, 8)\n"
     ]
    }
   ],
   "source": [
    "print( 'shape  :', arr.shape)\n",
    "print( 'dtype  :', arr.dtype)\n",
    "print( 'strides:', arr.strides)"
   ]
  },
  {
   "cell_type": "code",
   "execution_count": 10,
   "metadata": {},
   "outputs": [
    {
     "name": "stdout",
     "output_type": "stream",
     "text": [
      "(55,)\n",
      "(5, 11)\n"
     ]
    }
   ],
   "source": [
    "print(np.arange(55).shape)\n",
    "print(arr.shape)"
   ]
  },
  {
   "cell_type": "markdown",
   "metadata": {},
   "source": [
    "### Otras propiedades y métodos de los *array*\n",
    "\n",
    "Los array tienen atributos que nos dan información sobre sus características:"
   ]
  },
  {
   "cell_type": "code",
   "execution_count": 11,
   "metadata": {},
   "outputs": [
    {
     "name": "stdout",
     "output_type": "stream",
     "text": [
      "Número total de elementos : 55\n",
      "Número de dimensiones     : 2\n",
      "Memoria usada             : 440 bytes\n"
     ]
    }
   ],
   "source": [
    "print( 'Número total de elementos :', arr.size)\n",
    "print( 'Número de dimensiones     :', arr.ndim)\n",
    "print( 'Memoria usada             : {} bytes'.format( arr.nbytes))"
   ]
  },
  {
   "cell_type": "markdown",
   "metadata": {},
   "source": [
    "Además, tienen métodos que facilitan algunos cálculos comunes. Veamos algunos de ellos:"
   ]
  },
  {
   "cell_type": "code",
   "execution_count": 12,
   "metadata": {},
   "outputs": [
    {
     "name": "stdout",
     "output_type": "stream",
     "text": [
      "Mínimo y máximo                  : 1 55\n",
      "Suma y producto de sus elementos : 1540 6711489344688881664\n",
      "Media y desviación standard      : 28.0 15.874507866387544\n"
     ]
    }
   ],
   "source": [
    "print( 'Mínimo y máximo                  :', arr.min(), arr.max())\n",
    "print( 'Suma y producto de sus elementos :', arr.sum(), arr.prod())\n",
    "print( 'Media y desviación standard      :', arr.mean(), arr.std())"
   ]
  },
  {
   "cell_type": "markdown",
   "metadata": {},
   "source": [
    "Para todos estos métodos, las operaciones se realizan sobre todos los elementos. En array multidimensionales uno puede elegir realizar los cálculos sólo sobre un dado eje:"
   ]
  },
  {
   "cell_type": "code",
   "execution_count": 13,
   "metadata": {},
   "outputs": [
    {
     "name": "stdout",
     "output_type": "stream",
     "text": [
      "Para el array:\n",
      " [[ 1  2  3  4  5  6  7  8  9 10 11]\n",
      " [12 13 14 15 16 17 18 19 20 21 22]\n",
      " [23 24 25 26 27 28 29 30 31 32 33]\n",
      " [34 35 36 37 38 39 40 41 42 43 44]\n",
      " [45 46 47 48 49 50 51 52 53 54 55]]\n"
     ]
    }
   ],
   "source": [
    "print( 'Para el array:\\n', arr)"
   ]
  },
  {
   "cell_type": "code",
   "execution_count": 14,
   "metadata": {},
   "outputs": [
    {
     "name": "stdout",
     "output_type": "stream",
     "text": [
      "La suma de todos los elementos es    : 1540\n"
     ]
    }
   ],
   "source": [
    "print( 'La suma de todos los elementos es    :', arr.sum())"
   ]
  },
  {
   "cell_type": "code",
   "execution_count": 15,
   "metadata": {},
   "outputs": [
    {
     "name": "stdout",
     "output_type": "stream",
     "text": [
      "La suma de elementos de las filas es : [ 66 187 308 429 550]\n"
     ]
    }
   ],
   "source": [
    "print( 'La suma de elementos de las filas es :', arr.sum(axis=1))"
   ]
  },
  {
   "cell_type": "code",
   "execution_count": 16,
   "metadata": {},
   "outputs": [
    {
     "name": "stdout",
     "output_type": "stream",
     "text": [
      "La suma de elementos de las columnas es : [115 120 125 130 135 140 145 150 155 160 165]\n"
     ]
    }
   ],
   "source": [
    "print( 'La suma de elementos de las columnas es :', arr.sum(axis=0))"
   ]
  },
  {
   "cell_type": "code",
   "execution_count": 17,
   "metadata": {},
   "outputs": [
    {
     "name": "stdout",
     "output_type": "stream",
     "text": [
      "[ 1  2  3  4  5  6  7  8  9 10 11]\n",
      "[ 1 12 23 34 45]\n"
     ]
    }
   ],
   "source": [
    "print(arr.min(axis=0))\n",
    "print(arr.min(axis=1))"
   ]
  },
  {
   "cell_type": "markdown",
   "metadata": {},
   "source": [
    "## Operaciones sobre arrays\n",
    "\n",
    "### Operaciones básicas\n",
    "\n",
    "Los array se pueden usar en operaciones:"
   ]
  },
  {
   "cell_type": "code",
   "execution_count": 18,
   "metadata": {},
   "outputs": [
    {
     "data": {
      "text/plain": [
       "array([[ 2,  3,  4,  5,  6,  7,  8,  9, 10, 11, 12],\n",
       "       [13, 14, 15, 16, 17, 18, 19, 20, 21, 22, 23],\n",
       "       [24, 25, 26, 27, 28, 29, 30, 31, 32, 33, 34],\n",
       "       [35, 36, 37, 38, 39, 40, 41, 42, 43, 44, 45],\n",
       "       [46, 47, 48, 49, 50, 51, 52, 53, 54, 55, 56]])"
      ]
     },
     "execution_count": 18,
     "metadata": {},
     "output_type": "execute_result"
    }
   ],
   "source": [
    "arr + 1"
   ]
  },
  {
   "cell_type": "code",
   "execution_count": 19,
   "metadata": {},
   "outputs": [],
   "source": [
    "# Suma de una constante\n",
    "arr1 = 1 + arr[:,::-1]              # Creamos un segundo array"
   ]
  },
  {
   "cell_type": "code",
   "execution_count": 20,
   "metadata": {},
   "outputs": [
    {
     "data": {
      "text/plain": [
       "array([[12, 11, 10,  9,  8,  7,  6,  5,  4,  3,  2],\n",
       "       [23, 22, 21, 20, 19, 18, 17, 16, 15, 14, 13],\n",
       "       [34, 33, 32, 31, 30, 29, 28, 27, 26, 25, 24],\n",
       "       [45, 44, 43, 42, 41, 40, 39, 38, 37, 36, 35],\n",
       "       [56, 55, 54, 53, 52, 51, 50, 49, 48, 47, 46]])"
      ]
     },
     "execution_count": 20,
     "metadata": {},
     "output_type": "execute_result"
    }
   ],
   "source": [
    "arr1"
   ]
  },
  {
   "cell_type": "code",
   "execution_count": 22,
   "metadata": {},
   "outputs": [
    {
     "data": {
      "text/plain": [
       "array([[ 34,  29,  24,  19,  14,   9,   4,  -1,  -6, -11, -16],\n",
       "       [ 45,  40,  35,  30,  25,  20,  15,  10,   5,   0,  -5],\n",
       "       [ 56,  51,  46,  41,  36,  31,  26,  21,  16,  11,   6],\n",
       "       [ 67,  62,  57,  52,  47,  42,  37,  32,  27,  22,  17],\n",
       "       [ 78,  73,  68,  63,  58,  53,  48,  43,  38,  33,  28]])"
      ]
     },
     "execution_count": 22,
     "metadata": {},
     "output_type": "execute_result"
    }
   ],
   "source": [
    "# Multiplicación por constantes y suma de arrays\n",
    "-2* arr + 3*arr1"
   ]
  },
  {
   "cell_type": "code",
   "execution_count": 23,
   "metadata": {},
   "outputs": [
    {
     "data": {
      "text/plain": [
       "array([[ 0.2,  0.4,  0.6,  0.8,  1. ,  1.2,  1.4,  1.6,  1.8,  2. ,  2.2],\n",
       "       [ 2.4,  2.6,  2.8,  3. ,  3.2,  3.4,  3.6,  3.8,  4. ,  4.2,  4.4],\n",
       "       [ 4.6,  4.8,  5. ,  5.2,  5.4,  5.6,  5.8,  6. ,  6.2,  6.4,  6.6],\n",
       "       [ 6.8,  7. ,  7.2,  7.4,  7.6,  7.8,  8. ,  8.2,  8.4,  8.6,  8.8],\n",
       "       [ 9. ,  9.2,  9.4,  9.6,  9.8, 10. , 10.2, 10.4, 10.6, 10.8, 11. ]])"
      ]
     },
     "execution_count": 23,
     "metadata": {},
     "output_type": "execute_result"
    }
   ],
   "source": [
    "# División por constantes\n",
    "arr/5"
   ]
  },
  {
   "cell_type": "code",
   "execution_count": 24,
   "metadata": {},
   "outputs": [
    {
     "data": {
      "text/plain": [
       "array([[  12,   22,   30,   36,   40,   42,   42,   40,   36,   30,   22],\n",
       "       [ 276,  286,  294,  300,  304,  306,  306,  304,  300,  294,  286],\n",
       "       [ 782,  792,  800,  806,  810,  812,  812,  810,  806,  800,  792],\n",
       "       [1530, 1540, 1548, 1554, 1558, 1560, 1560, 1558, 1554, 1548, 1540],\n",
       "       [2520, 2530, 2538, 2544, 2548, 2550, 2550, 2548, 2544, 2538, 2530]])"
      ]
     },
     "execution_count": 24,
     "metadata": {},
     "output_type": "execute_result"
    }
   ],
   "source": [
    "# Multiplicación entre arrays\n",
    "arr * arr1"
   ]
  },
  {
   "cell_type": "code",
   "execution_count": 25,
   "metadata": {},
   "outputs": [
    {
     "data": {
      "text/plain": [
       "array([[0.08333333, 0.18181818, 0.3       , 0.44444444, 0.625     ,\n",
       "        0.85714286, 1.16666667, 1.6       , 2.25      , 3.33333333,\n",
       "        5.5       ],\n",
       "       [0.52173913, 0.59090909, 0.66666667, 0.75      , 0.84210526,\n",
       "        0.94444444, 1.05882353, 1.1875    , 1.33333333, 1.5       ,\n",
       "        1.69230769],\n",
       "       [0.67647059, 0.72727273, 0.78125   , 0.83870968, 0.9       ,\n",
       "        0.96551724, 1.03571429, 1.11111111, 1.19230769, 1.28      ,\n",
       "        1.375     ],\n",
       "       [0.75555556, 0.79545455, 0.8372093 , 0.88095238, 0.92682927,\n",
       "        0.975     , 1.02564103, 1.07894737, 1.13513514, 1.19444444,\n",
       "        1.25714286],\n",
       "       [0.80357143, 0.83636364, 0.87037037, 0.90566038, 0.94230769,\n",
       "        0.98039216, 1.02      , 1.06122449, 1.10416667, 1.14893617,\n",
       "        1.19565217]])"
      ]
     },
     "execution_count": 25,
     "metadata": {},
     "output_type": "execute_result"
    }
   ],
   "source": [
    "arr / arr1"
   ]
  },
  {
   "cell_type": "markdown",
   "metadata": {},
   "source": [
    "Como vemos, están definidas todas las operaciones por constantes y entre arrays. En operaciones con constantes, se aplican sobre cada elemento del array. En operaciones entre arrays se realizan elemento a elemento (y el número de elementos de los dos array debe ser compatible)."
   ]
  },
  {
   "cell_type": "markdown",
   "metadata": {},
   "source": [
    "### Comparaciones \n",
    "\n",
    "También se pueden comparar dos arrays elemento a elemento"
   ]
  },
  {
   "cell_type": "code",
   "execution_count": 26,
   "metadata": {},
   "outputs": [],
   "source": [
    "v = np.linspace(0,19,20)\n",
    "w = np.linspace(0.5,18,20)"
   ]
  },
  {
   "cell_type": "code",
   "execution_count": 27,
   "metadata": {},
   "outputs": [
    {
     "name": "stdout",
     "output_type": "stream",
     "text": [
      "[ 0.  1.  2.  3.  4.  5.  6.  7.  8.  9. 10. 11. 12. 13. 14. 15. 16. 17.\n",
      " 18. 19.]\n",
      "[ 0.5         1.42105263  2.34210526  3.26315789  4.18421053  5.10526316\n",
      "  6.02631579  6.94736842  7.86842105  8.78947368  9.71052632 10.63157895\n",
      " 11.55263158 12.47368421 13.39473684 14.31578947 15.23684211 16.15789474\n",
      " 17.07894737 18.        ]\n"
     ]
    }
   ],
   "source": [
    "print (v)\n",
    "print (w)"
   ]
  },
  {
   "cell_type": "code",
   "execution_count": 28,
   "metadata": {},
   "outputs": [
    {
     "name": "stdout",
     "output_type": "stream",
     "text": [
      "[False False False False False False False False False False False False\n",
      " False  True  True  True  True  True  True  True]\n"
     ]
    }
   ],
   "source": [
    "# Comparación de un array con una constante\n",
    "print(v > 12)"
   ]
  },
  {
   "cell_type": "code",
   "execution_count": 29,
   "metadata": {},
   "outputs": [
    {
     "name": "stdout",
     "output_type": "stream",
     "text": [
      "[False False False False False False False  True  True  True  True  True\n",
      "  True  True  True  True  True  True  True  True]\n"
     ]
    }
   ],
   "source": [
    "# Comparación de un array con otro\n",
    "print(v > w)"
   ]
  },
  {
   "cell_type": "markdown",
   "metadata": {},
   "source": [
    "### Funciones definidas en **Numpy**\n",
    "\n",
    "Algunas de las funciones definidas en numpy se aplican a cada elemento. Por ejemplo, las funciones matemáticas:"
   ]
  },
  {
   "cell_type": "code",
   "execution_count": 30,
   "metadata": {},
   "outputs": [
    {
     "data": {
      "text/plain": [
       "array([[-0.53657292, -0.99999021, -0.54402111,  0.41211849,  0.98935825,\n",
       "         0.6569866 , -0.2794155 , -0.95892427, -0.7568025 ,  0.14112001,\n",
       "         0.90929743],\n",
       "       [-0.8462204 , -0.00885131,  0.83665564,  0.91294525,  0.14987721,\n",
       "        -0.75098725, -0.96139749, -0.28790332,  0.65028784,  0.99060736,\n",
       "         0.42016704],\n",
       "       [ 0.52908269,  0.99991186,  0.55142668, -0.40403765, -0.98803162,\n",
       "        -0.66363388,  0.27090579,  0.95637593,  0.76255845, -0.13235175,\n",
       "        -0.90557836],\n",
       "       [ 0.85090352,  0.01770193, -0.83177474, -0.91652155, -0.15862267,\n",
       "         0.74511316,  0.96379539,  0.29636858, -0.64353813, -0.99177885,\n",
       "        -0.42818267],\n",
       "       [-0.521551  , -0.99975517, -0.55878905,  0.39592515,  0.98662759,\n",
       "         0.67022918, -0.26237485, -0.95375265, -0.76825466,  0.12357312,\n",
       "         0.90178835]])"
      ]
     },
     "execution_count": 30,
     "metadata": {},
     "output_type": "execute_result"
    }
   ],
   "source": [
    "np.sin(arr1)"
   ]
  },
  {
   "cell_type": "code",
   "execution_count": 31,
   "metadata": {},
   "outputs": [
    {
     "data": {
      "text/plain": [
       "array([[6.06530660e-001, 1.35335283e-001, 1.11089965e-002,\n",
       "        3.35462628e-004, 3.72665317e-006, 1.52299797e-008,\n",
       "        2.28973485e-011, 1.26641655e-014, 2.57675711e-018,\n",
       "        1.92874985e-022, 5.31109225e-027],\n",
       "       [5.38018616e-032, 2.00500878e-037, 2.74878501e-043,\n",
       "        1.38634329e-049, 2.57220937e-056, 1.75568810e-063,\n",
       "        4.40853133e-071, 4.07235863e-079, 1.38389653e-087,\n",
       "        1.73008221e-096, 7.95674389e-106],\n",
       "       [1.34619985e-115, 8.37894253e-126, 1.91855567e-136,\n",
       "        1.61608841e-147, 5.00796571e-159, 5.70904011e-171,\n",
       "        2.39425476e-183, 3.69388307e-196, 2.09653176e-209,\n",
       "        4.37749104e-223, 3.36244047e-237],\n",
       "       [9.50144065e-252, 9.87710872e-267, 3.77724997e-282,\n",
       "        5.31406836e-298, 2.75032531e-314, 0.00000000e+000,\n",
       "        0.00000000e+000, 0.00000000e+000, 0.00000000e+000,\n",
       "        0.00000000e+000, 0.00000000e+000],\n",
       "       [0.00000000e+000, 0.00000000e+000, 0.00000000e+000,\n",
       "        0.00000000e+000, 0.00000000e+000, 0.00000000e+000,\n",
       "        0.00000000e+000, 0.00000000e+000, 0.00000000e+000,\n",
       "        0.00000000e+000, 0.00000000e+000]])"
      ]
     },
     "execution_count": 31,
     "metadata": {},
     "output_type": "execute_result"
    }
   ],
   "source": [
    "np.exp(-arr**2/2)"
   ]
  },
  {
   "cell_type": "markdown",
   "metadata": {},
   "source": [
    "Podemos elegir elementos de un array basados en condiciones:"
   ]
  },
  {
   "cell_type": "code",
   "execution_count": 32,
   "metadata": {},
   "outputs": [
    {
     "data": {
      "text/plain": [
       "array([10., 11., 12., 13., 14., 15., 16., 17., 18., 19.])"
      ]
     },
     "execution_count": 32,
     "metadata": {},
     "output_type": "execute_result"
    }
   ],
   "source": [
    "v[w > 9]"
   ]
  },
  {
   "cell_type": "markdown",
   "metadata": {},
   "source": [
    "Aquí eligiendo elementos de `v` basados en una condición sobre los elementos de `w`. Veamos en más detalle:"
   ]
  },
  {
   "cell_type": "code",
   "execution_count": 34,
   "metadata": {},
   "outputs": [
    {
     "name": "stdout",
     "output_type": "stream",
     "text": [
      "[False False False False False False False False False False  True  True\n",
      "  True  True  True  True  True  True  True  True]\n",
      "[10. 11. 12. 13. 14. 15. 16. 17. 18. 19.]\n",
      "20 20 20 10\n"
     ]
    }
   ],
   "source": [
    "c = w > 9  # Array con condición\n",
    "print(c)\n",
    "x = v[c]   # Creamos un nuevo array con los valores donde c es verdadero\n",
    "print(x)\n",
    "print(len(c), len(w), len(v), len(x))"
   ]
  },
  {
   "cell_type": "markdown",
   "metadata": {},
   "source": [
    "También podemos hacer todo tipo de operaciones (suma, resta, multiplicación,....) entre *arrays*"
   ]
  },
  {
   "cell_type": "markdown",
   "metadata": {},
   "source": [
    "-----\n",
    "\n",
    "## Ejercicios 08 (b)\n",
    "\n",
    "3. Escriba una función `suma_potencias(p, n)` (utilizando arrays y **Numpy**) que calcule la operación $$s_{2} = \\sum_{k=0}^{n}k^{p}$$. \n",
    "\n",
    "4.   Usando las funciones de numpy `sign` y `maximum` definir las siguientes funciones, que acepten como argumento un array y devuelvan un array con el mismo *shape*:\n",
    "  - función de Heaviside, que vale 1 para valores positivos de su argumento y 0 para valores negativos.\n",
    "  - La función escalón, que vale 0 para valores del argumento fuera del intervalo $(-1,1)$ y 1 para argumentos en el intervalo.\n",
    "  - La función rampa, que vale 0 para valores negativos de $x$ y $x$ para valores positivos.\n",
    "\n",
    "-----"
   ]
  },
  {
   "cell_type": "markdown",
   "metadata": {},
   "source": [
    "### Lectura y escritura de datos a archivos"
   ]
  },
  {
   "cell_type": "markdown",
   "metadata": {},
   "source": [
    "Numpy tiene funciones que permiten escribir y leer datos de varias maneras, tanto en formato *texto* como en *binario*. En general el modo *texto* ocupa más espacio pero puede ser leído y modificado con un editor."
   ]
  },
  {
   "cell_type": "markdown",
   "metadata": {},
   "source": [
    "#### Datos en formato texto"
   ]
  },
  {
   "cell_type": "code",
   "execution_count": 35,
   "metadata": {},
   "outputs": [
    {
     "name": "stdout",
     "output_type": "stream",
     "text": [
      "% x    y   \r\n",
      "%  z    z2\r\n",
      "1.00e+00 2.00e+00 3.00e+00 4.00e+00 5.00e+00 6.00e+00 7.00e+00 8.00e+00 9.00e+00 1.00e+01 1.10e+01\r\n",
      "1.20e+01 1.30e+01 1.40e+01 1.50e+01 1.60e+01 1.70e+01 1.80e+01 1.90e+01 2.00e+01 2.10e+01 2.20e+01\r\n",
      "2.30e+01 2.40e+01 2.50e+01 2.60e+01 2.70e+01 2.80e+01 2.90e+01 3.00e+01 3.10e+01 3.20e+01 3.30e+01\r\n",
      "3.40e+01 3.50e+01 3.60e+01 3.70e+01 3.80e+01 3.90e+01 4.00e+01 4.10e+01 4.20e+01 4.30e+01 4.40e+01\r\n",
      "4.50e+01 4.60e+01 4.70e+01 4.80e+01 4.90e+01 5.00e+01 5.10e+01 5.20e+01 5.30e+01 5.40e+01 5.50e+01\r\n"
     ]
    }
   ],
   "source": [
    "np.savetxt('test.out', arr, fmt='%.2e', header=\"x    y   \\n z    z2\", comments=\"% \")\n",
    "!cat test.out"
   ]
  },
  {
   "cell_type": "code",
   "execution_count": 36,
   "metadata": {},
   "outputs": [
    {
     "name": "stdout",
     "output_type": "stream",
     "text": [
      "[[ 1.  2.  3.  4.  5.  6.  7.  8.  9. 10. 11.]\n",
      " [12. 13. 14. 15. 16. 17. 18. 19. 20. 21. 22.]\n",
      " [23. 24. 25. 26. 27. 28. 29. 30. 31. 32. 33.]\n",
      " [34. 35. 36. 37. 38. 39. 40. 41. 42. 43. 44.]\n",
      " [45. 46. 47. 48. 49. 50. 51. 52. 53. 54. 55.]]\n"
     ]
    }
   ],
   "source": [
    "arr2 = np.loadtxt('test.out', comments=\"%\")\n",
    "print(arr2)"
   ]
  },
  {
   "cell_type": "code",
   "execution_count": 37,
   "metadata": {},
   "outputs": [
    {
     "name": "stdout",
     "output_type": "stream",
     "text": [
      "(5, 11)\n",
      "2\n",
      "55\n"
     ]
    }
   ],
   "source": [
    "print(arr2.shape)\n",
    "print(arr2.ndim)\n",
    "print(arr2.size)"
   ]
  },
  {
   "cell_type": "markdown",
   "metadata": {},
   "source": [
    "-----\n",
    "\n",
    "## Ejercicios 08 (c)\n",
    "\n",
    "5. **PARA ENTREGAR. Caída libre** Cree un programa que calcule la posición y velocidad de una partícula en caída libre para condiciones iniciales dadas ($h_{0}$, $v_{0}$), y un valor de gravedad dados. Se utilizará la convención de que alturas y velocidades positivas corresponden a vectores apuntando hacia arriba (una velocidad positiva significa que la partícula se aleja de la tierra). \n",
    "\n",
    "El programa debe realizar el cálculo de la velocidad y altura para un conjunto de tiempos equiespaciados. El usuario debe poder decidir o modificar el comportamiento del programa mediante opciones por línea de comandos. \n",
    "\n",
    "  El programa debe aceptar las siguientes opciones por líneas de comando:\n",
    "  - `-v vel` o, equivalentemente `--velocidad=vel`, donde `vel` es el número dando la velocidad inicial en m/s. El valor por defecto será `0`. \n",
    "  - `-a alt` o, equivalentemente `--altura=alt`, donde `alt` es un número dando la altura inicial en metros. El valor por defecto será `1000`. La altura inicial debe ser un número positivo.\n",
    "  - `-g grav`, donde `grav` es el módulo del valor de la aceleración de la gravedad en $m/s^2$. El valor por defecto será `9.8`.\n",
    "  - `-o nombre` o, equivalentemente `--output=nombre`, donde `nombre` será el nombre de un archivo donde se escribirán los resultados. Si el usuario no usa esta opción, debe imprimir por pantalla (`sys.stdout`).\n",
    "  - `-n N` o, equivalentemente `--Ndatos=N`, donde `N` es un número entero indicando la cantidad de datos que deben calcularse. Valor por defecto: `100`\n",
    "  - `--ti=instante_inicial` indica el tiempo inicial de cálculo. Valor por defecto: `0`. No puede ser mayor que el tiempo de llegada a la posición $h=0$\n",
    "  - `--tf=tiempo_final` indica el tiempo inicial de cálculo. Valor por defecto será el correspondiente al tiempo de llegada a la posición $h=0$.\n",
    "\n",
    "**NOTA:** Envíe el programa llamado **08_Suapellido.py** en un adjunto por correo electrónico, con asunto: **08_Suapellido**, antes del día miércoles 9 de Marzo.\n",
    "\n",
    "6. Queremos realizar numéricamente la integral\n",
    "  $$\n",
    "  \\int_{a}^{b}f(x)dx\n",
    "  $$\n",
    "  utilizando el método de los trapecios. Para eso partimos el intervalo $[a,b]$ en $N$ subintervalos y aproximamos la curva en cada subintervalo por una recta\n",
    "\n",
    "![](figuras/trapez_rule_wiki.png)\n",
    "\n",
    "  La línea azul representa la función $f(x)$ y la línea roja la interpolación por una recta (figura de https://en.wikipedia.org/wiki/Trapezoidal_rule)\n",
    "\n",
    "  Si llamamos $x_{i}$ ($i=0,\\ldots,n,$ con $x_{0}=a$ y $x_{n}=b$) los puntos equiespaciados, entonces queda\n",
    "  $$\n",
    "     \\int_{a}^{b}f(x)dx\\approx\\frac{h}{2}\\sum_{i=1}^{n}\\left(f(x_{i})+f(x_{i-1})\\right).\n",
    "  $$\n",
    "\n",
    "  * Escriba una función  `trapz(x, y)` que reciba dos arrays unidimensionales `x` e `y` y aplique la fórmula de los trapecios.\n",
    "\n",
    "  * Escriba una función `trapzf(f, a, b, npts=100)` que recibe una función `f`, los límites `a`, `b` y el número de puntos a utilizar `npts`, y devuelve el valor de la integral por trapecios.\n",
    "\n",
    "  * Calcule la integral logarítmica de Euler:\n",
    "  $$\\mathrm{Li}(t) = \\int_2^t \\frac{1}{\\ln x} dx$$\n",
    "  usando la función ´trapzf´ para valores de `npts=10, 20, 30, 40, 50, 60`\n",
    "\n",
    "-----"
   ]
  }
 ],
 "metadata": {
  "kernelspec": {
   "display_name": "Python 3",
   "language": "python",
   "name": "python3"
  },
  "language_info": {
   "codemirror_mode": {
    "name": "ipython",
    "version": 3
   },
   "file_extension": ".py",
   "mimetype": "text/x-python",
   "name": "python",
   "nbconvert_exporter": "python",
   "pygments_lexer": "ipython3",
   "version": "3.10.2"
  },
  "name": "08_2_numpy_arrays.ipynb",
  "toc": {
   "base_numbering": 1,
   "nav_menu": {},
   "number_sections": true,
   "sideBar": true,
   "skip_h1_title": true,
   "title_cell": "Contenidos",
   "title_sidebar": "Contenidos",
   "toc_cell": false,
   "toc_position": {},
   "toc_section_display": true,
   "toc_window_display": false
  }
 },
 "nbformat": 4,
 "nbformat_minor": 4
}
