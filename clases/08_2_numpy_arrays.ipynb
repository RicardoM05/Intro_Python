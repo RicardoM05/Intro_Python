{
 "cells": [
  {
   "cell_type": "markdown",
   "id": "70658a49-c459-43fa-a99a-a2c7036d4f1c",
   "metadata": {
    "collapsed": false
   },
   "source": [
    "## Propiedades de **Numpy** arrays\n",
    "\n",
    "### Propiedades básicas\n",
    "\n",
    "Hay tres propiedades básicas que caracterizan a un array:\n",
    "\n",
    "* `shape`: Contiene información sobre la forma que tiene un array (sus dimensiones: vector, matriz, o tensor)\n",
    "* `dtype`: Es el tipo de cada uno de sus elementos (todos son iguales)\n",
    "* `stride`: Contiene la información sobre como recorrer el array. Por ejemplo si es una matriz, tiene la información de cuántos bytes en memoria hay que pasar para pasar de una fila a la siguiente y de una columna a la siguiente."
   ]
  },
  {
   "cell_type": "code",
   "execution_count": null,
   "id": "5fb66cfa-3f4d-48e0-b7c0-21c2e965c46b",
   "metadata": {
    "collapsed": false
   },
   "outputs": [],
   "source": [
    "import numpy as np"
   ]
  },
  {
   "cell_type": "code",
   "execution_count": null,
   "id": "09f9db64-a409-4884-a902-b209b8712bdb",
   "metadata": {
    "collapsed": false
   },
   "outputs": [],
   "source": [
    "arr = np.arange(55).reshape((5,11))+1"
   ]
  },
  {
   "cell_type": "code",
   "execution_count": null,
   "id": "5d45a832-2962-4dcb-a08e-216470f799eb",
   "metadata": {
    "collapsed": false
   },
   "outputs": [],
   "source": [
    "print( 'shape  :', arr.shape)\n",
    "print( 'dtype  :', arr.dtype)\n",
    "print( 'strides:', arr.strides)"
   ]
  },
  {
   "cell_type": "code",
   "execution_count": null,
   "id": "6754957e-828a-4323-9e51-b869e2ecd854",
   "metadata": {
    "collapsed": false
   },
   "outputs": [],
   "source": [
    "print(np.arange(55).shape)\n",
    "print(arr.shape)"
   ]
  },
  {
   "cell_type": "markdown",
   "id": "f5f4221f-6fbc-421a-b46b-07f62d4ef338",
   "metadata": {
    "collapsed": false
   },
   "source": [
    "### Otras propiedades y métodos de los *array*\n",
    "\n",
    "Los array tienen atributos que nos dan información sobre sus características:"
   ]
  },
  {
   "cell_type": "code",
   "execution_count": null,
   "id": "09ff1ba7-f403-4c49-8dd2-3cbe5c209010",
   "metadata": {
    "collapsed": false
   },
   "outputs": [],
   "source": [
    "print( 'Número total de elementos :', arr.size)\n",
    "print( 'Número de dimensiones     :', arr.ndim)\n",
    "print( 'Memoria usada             : {} bytes'.format( arr.nbytes))"
   ]
  },
  {
   "cell_type": "markdown",
   "id": "eb660863-d930-459b-91cb-3624edb7e142",
   "metadata": {
    "collapsed": false
   },
   "source": [
    "Además, tienen métodos que facilitan algunos cálculos comunes. Veamos algunos de ellos:"
   ]
  },
  {
   "cell_type": "code",
   "execution_count": null,
   "id": "052274a6-ccbc-45a2-8e74-7b6ef1b4a049",
   "metadata": {
    "collapsed": false
   },
   "outputs": [],
   "source": [
    "print( 'Mínimo y máximo                  :', arr.min(), arr.max())\n",
    "print( 'Suma y producto de sus elementos :', arr.sum(), arr.prod())\n",
    "print( 'Media y desviación standard      :', arr.mean(), arr.std())"
   ]
  },
  {
   "cell_type": "markdown",
   "id": "451c9794-13d0-4eb9-8a9b-553f7181cb53",
   "metadata": {
    "collapsed": false
   },
   "source": [
    "Para todos estos métodos, las operaciones se realizan sobre todos los elementos. En array multidimensionales uno puede elegir realizar los cálculos sólo sobre un dado eje:"
   ]
  },
  {
   "cell_type": "code",
   "execution_count": null,
   "id": "f0b2496f-d55a-4a1f-9e2a-5a267e5aac48",
   "metadata": {
    "collapsed": false
   },
   "outputs": [],
   "source": [
    "print( 'Para el array:\\n', arr)"
   ]
  },
  {
   "cell_type": "code",
   "execution_count": null,
   "id": "cd963944-841b-4479-997f-bd4fc69e6698",
   "metadata": {
    "collapsed": false
   },
   "outputs": [],
   "source": [
    "print( 'La suma de todos los elementos es    :', arr.sum())"
   ]
  },
  {
   "cell_type": "code",
   "execution_count": null,
   "id": "2ba4f7a4-1349-4cd2-a321-ddb25d913d2b",
   "metadata": {
    "collapsed": false
   },
   "outputs": [],
   "source": [
    "print( 'La suma de elementos de las filas es :', arr.sum(axis=1))"
   ]
  },
  {
   "cell_type": "code",
   "execution_count": null,
   "id": "2c2cfc6e-2e66-40b2-9088-5293d89376e6",
   "metadata": {
    "collapsed": false
   },
   "outputs": [],
   "source": [
    "print( 'La suma de elementos de las columnas es :', arr.sum(axis=0))"
   ]
  },
  {
   "cell_type": "code",
   "execution_count": null,
   "id": "ca906f2b-347c-4b08-aa28-be5c4c7be557",
   "metadata": {
    "collapsed": false
   },
   "outputs": [],
   "source": [
    "print(arr.min(axis=0))\n",
    "print(arr.min(axis=1))"
   ]
  },
  {
   "cell_type": "markdown",
   "id": "4eab0d05-cc78-4fb9-98b3-bb22262f9396",
   "metadata": {
    "collapsed": false
   },
   "source": [
    "## Operaciones sobre arrays\n",
    "\n",
    "### Operaciones básicas\n",
    "\n",
    "Los array se pueden usar en operaciones:"
   ]
  },
  {
   "cell_type": "code",
   "execution_count": null,
   "id": "a0bf0286-989f-45b1-be44-c9fb0b3aaed1",
   "metadata": {
    "collapsed": false
   },
   "outputs": [],
   "source": [
    "arr + 1"
   ]
  },
  {
   "cell_type": "code",
   "execution_count": null,
   "id": "c376a445-30ce-42c2-82c8-978658b0527b",
   "metadata": {
    "collapsed": false
   },
   "outputs": [],
   "source": [
    "# Suma de una constante\n",
    "arr1 = 1 + arr[:,::-1]              # Creamos un segundo array"
   ]
  },
  {
   "cell_type": "code",
   "execution_count": null,
   "id": "7607565d-43bb-4e2a-b493-6ced08520f2d",
   "metadata": {
    "collapsed": false
   },
   "outputs": [],
   "source": [
    "arr1"
   ]
  },
  {
   "cell_type": "code",
   "execution_count": null,
   "id": "d0b3a3a0-1132-4f76-b383-575d44c0fe26",
   "metadata": {
    "collapsed": false
   },
   "outputs": [],
   "source": [
    "# Multiplicación por constantes y suma de arrays\n",
    "-2* arr + 3*arr1"
   ]
  },
  {
   "cell_type": "code",
   "execution_count": null,
   "id": "b021a3a6-195b-41c0-bede-4e8e3a390a12",
   "metadata": {
    "collapsed": false
   },
   "outputs": [],
   "source": [
    "# División por constantes\n",
    "arr/5"
   ]
  },
  {
   "cell_type": "code",
   "execution_count": null,
   "id": "7fec993b-87a8-4c40-b13f-ea1abe9bbc1e",
   "metadata": {
    "collapsed": false
   },
   "outputs": [],
   "source": [
    "# Multiplicación entre arrays\n",
    "arr * arr1"
   ]
  },
  {
   "cell_type": "code",
   "execution_count": null,
   "id": "9c990213-d0e9-4ffb-9551-c756c022421b",
   "metadata": {
    "collapsed": false
   },
   "outputs": [],
   "source": [
    "arr / arr1"
   ]
  },
  {
   "cell_type": "markdown",
   "id": "774277a0-9e86-46fe-9737-bb9da6c12543",
   "metadata": {
    "collapsed": false
   },
   "source": [
    "Como vemos, están definidas todas las operaciones por constantes y entre arrays. En operaciones con constantes, se aplican sobre cada elemento del array. En operaciones entre arrays se realizan elemento a elemento (y el número de elementos de los dos array debe ser compatible)."
   ]
  },
  {
   "cell_type": "markdown",
   "id": "5514b933-3cf2-4117-b0b6-b94b77aff7c3",
   "metadata": {
    "collapsed": false
   },
   "source": [
    "### Comparaciones \n",
    "\n",
    "También se pueden comparar dos arrays elemento a elemento"
   ]
  },
  {
   "cell_type": "code",
   "execution_count": null,
   "id": "a7ce3198-2a02-4b70-8c80-15c06ebee99a",
   "metadata": {
    "collapsed": false
   },
   "outputs": [],
   "source": [
    "v = np.linspace(0,19,20)\n",
    "w = np.linspace(0.5,18,20)"
   ]
  },
  {
   "cell_type": "code",
   "execution_count": null,
   "id": "41a359d9-290e-4ec7-8574-278c9ce849f7",
   "metadata": {
    "collapsed": false
   },
   "outputs": [],
   "source": [
    "print (v)\n",
    "print (w)"
   ]
  },
  {
   "cell_type": "code",
   "execution_count": null,
   "id": "45f619bf-c6af-42c0-97a4-710eb97baba6",
   "metadata": {
    "collapsed": false
   },
   "outputs": [],
   "source": [
    "# Comparación de un array con una constante\n",
    "print(v > 12)"
   ]
  },
  {
   "cell_type": "code",
   "execution_count": null,
   "id": "95fb3fec-6162-40db-b53c-f6bf07fb69bb",
   "metadata": {
    "collapsed": false
   },
   "outputs": [],
   "source": [
    "# Comparación de un array con otro\n",
    "print(v > w)"
   ]
  },
  {
   "cell_type": "markdown",
   "id": "a78171e4-bbef-49a8-a69a-9d15f8d9900e",
   "metadata": {
    "collapsed": false
   },
   "source": [
    "### Funciones definidas en **Numpy**\n",
    "\n",
    "Algunas de las funciones definidas en numpy se aplican a cada elemento. Por ejemplo, las funciones matemáticas:"
   ]
  },
  {
   "cell_type": "code",
   "execution_count": null,
   "id": "5b8b0d50-552c-4d54-a253-0c6d5fbf5256",
   "metadata": {
    "collapsed": false
   },
   "outputs": [],
   "source": [
    "np.sin(arr1)"
   ]
  },
  {
   "cell_type": "code",
   "execution_count": null,
   "id": "2e5a9cb3-f1ae-4a6a-af89-c68e2b03c5bd",
   "metadata": {
    "collapsed": false
   },
   "outputs": [],
   "source": [
    "np.exp(-arr**2/2)"
   ]
  },
  {
   "cell_type": "markdown",
   "id": "5416213a-274e-49f9-a976-c5e8d5161a0f",
   "metadata": {
    "collapsed": false
   },
   "source": [
    "Podemos elegir elementos de un array basados en condiciones:"
   ]
  },
  {
   "cell_type": "code",
   "execution_count": null,
   "id": "a2858f42-476c-4f34-8830-8dacdc4636f6",
   "metadata": {
    "collapsed": false
   },
   "outputs": [],
   "source": [
    "v[w > 9]"
   ]
  },
  {
   "cell_type": "markdown",
   "id": "327caf86-a3f8-4731-8fd2-66d9b3509f8f",
   "metadata": {
    "collapsed": false
   },
   "source": [
    "Aquí eligiendo elementos de `v` basados en una condición sobre los elementos de `w`. Veamos en más detalle:"
   ]
  },
  {
   "cell_type": "code",
   "execution_count": null,
   "id": "ffbb78f2-ce10-4183-8b0b-3351149d0358",
   "metadata": {
    "collapsed": false
   },
   "outputs": [],
   "source": [
    "c = w > 9  # Array con condición\n",
    "print(c)\n",
    "x = v[c]   # Creamos un nuevo array con los valores donde c es verdadero\n",
    "print(x)\n",
    "print(len(c), len(w), len(v), len(x))"
   ]
  },
  {
   "cell_type": "markdown",
   "id": "bdef2afd-edee-44e7-9f44-a42b76bad555",
   "metadata": {
    "collapsed": false
   },
   "source": [
    "También podemos hacer todo tipo de operaciones (suma, resta, multiplicación,....) entre *arrays*"
   ]
  },
  {
   "cell_type": "markdown",
   "id": "d9d72307-bf09-495e-89b4-6990d453c6b7",
   "metadata": {
    "collapsed": false
   },
   "source": [
    "-----\n",
    "\n",
    "## Ejercicios 08 (b)\n",
    "\n",
    "3. Escriba una función `suma_potencias(p, n)` (utilizando arrays y **Numpy**) que calcule la operación $$s_{2} = \\sum_{k=0}^{n}k^{p}$$. \n",
    "\n",
    "4.   Usando las funciones de numpy `sign` y `maximum` definir las siguientes funciones, que acepten como argumento un array y devuelvan un array con el mismo *shape*:\n",
    "  - función de Heaviside, que vale 1 para valores positivos de su argumento y 0 para valores negativos.\n",
    "  - La función escalón, que vale 0 para valores del argumento fuera del intervalo $(-1,1)$ y 1 para argumentos en el intervalo.\n",
    "  - La función rampa, que vale 0 para valores negativos de $x$ y $x$ para valores positivos.\n",
    "\n",
    "-----"
   ]
  },
  {
   "cell_type": "code",
   "execution_count": null,
   "id": "92081917-3c87-4291-987f-1c72bf3930fb",
   "metadata": {
    "collapsed": false
   },
   "outputs": [],
   "source": [
    "arr2 = np.loadtxt('test.out', comments=\"%\")\n",
    "print(arr2)"
   ]
  },
  {
   "cell_type": "code",
   "execution_count": null,
   "id": "0798a98b-4e15-4fc5-a270-0f5b2c95df70",
   "metadata": {
    "collapsed": false
   },
   "outputs": [],
   "source": [
    "print(arr2.shape)\n",
    "print(arr2.ndim)\n",
    "print(arr2.size)"
   ]
  },
  {
   "cell_type": "markdown",
   "id": "1e72270c-f55b-4480-834e-2fe4e5804fa9",
   "metadata": {
    "collapsed": false
   },
   "source": [
    "-----\n",
    "\n",
    "## Ejercicios 08 (c)\n",
    "\n",
    "5. **PARA ENTREGAR. Caída libre** Cree un programa que calcule la posición y velocidad de una partícula en caída libre para condiciones iniciales dadas ($h_{0}$, $v_{0}$), y un valor de gravedad dados. Se utilizará la convención de que alturas y velocidades positivas corresponden a vectores apuntando hacia arriba (una velocidad positiva significa que la partícula se aleja de la tierra). \n",
    "\n",
    "El programa debe realizar el cálculo de la velocidad y altura para un conjunto de tiempos equiespaciados. El usuario debe poder decidir o modificar el comportamiento del programa mediante opciones por línea de comandos. \n",
    "\n",
    "El programa debe aceptar las siguientes opciones por líneas de comando:\n",
    "\n",
    "- `-v vel` o, equivalentemente `--velocidad=vel`, donde `vel` es el número dando la velocidad inicial en m/s. El valor por defecto será `0`. \n",
    "- `-a alt` o, equivalentemente `--altura=alt`, donde `alt` es un número dando la altura inicial en metros. El valor por defecto será `1000`. La altura inicial debe ser un número positivo.\n",
    "- `-g grav`, donde `grav` es el módulo del valor de la aceleración de la gravedad en $m/s^2$. El valor por defecto será `9.8`.\n",
    "- `-o nombre` o, equivalentemente `--output=nombre`, donde `nombre` será el nombre de un archivo donde se escribirán los resultados. Si el usuario no usa esta opción, debe imprimir por pantalla (`sys.stdout`).\n",
    "- `-n N` o, equivalentemente `--Ndatos=N`, donde `N` es un número entero indicando la cantidad de datos que deben calcularse. Valor por defecto: `100`\n",
    "- `--ti=instante_inicial` indica el tiempo inicial de cálculo. Valor por defecto: `0`. No puede ser mayor que el tiempo de llegada a la posición $h=0$\n",
    "- `--tf=tiempo_final` indica el tiempo inicial de cálculo. Valor por defecto será el correspondiente al tiempo de llegada a la posición $h=0$.\n",
    "\n",
    "**NOTA:** Envíe el programa llamado **08_Suapellido.py** en un adjunto por correo electrónico, con asunto: **08_Suapellido**, antes del día miércoles 9 de Marzo.\n",
    "\n",
    "6. Queremos realizar numéricamente la integral\n",
    "  $$\n",
    "  \\int_{a}^{b}f(x)dx\n",
    "  $$\n",
    "  utilizando el método de los trapecios. Para eso partimos el intervalo $[a,b]$ en $N$ subintervalos y aproximamos la curva en cada subintervalo por una recta\n",
    "\n",
    "![](figuras/trapez_rule_wiki.png)\n",
    "\n",
    "  La línea azul representa la función $f(x)$ y la línea roja la interpolación por una recta (figura de https://en.wikipedia.org/wiki/Trapezoidal_rule)\n",
    "\n",
    "  Si llamamos $x_{i}$ ($i=0,\\ldots,n,$ con $x_{0}=a$ y $x_{n}=b$) los puntos equiespaciados, entonces queda\n",
    "  $$\n",
    "     \\int_{a}^{b}f(x)dx\\approx\\frac{h}{2}\\sum_{i=1}^{n}\\left(f(x_{i})+f(x_{i-1})\\right).\n",
    "  $$\n",
    "\n",
    "  * Escriba una función  `trapz(x, y)` que reciba dos arrays unidimensionales `x` e `y` y aplique la fórmula de los trapecios.\n",
    "\n",
    "  * Escriba una función `trapzf(f, a, b, npts=100)` que recibe una función `f`, los límites `a`, `b` y el número de puntos a utilizar `npts`, y devuelve el valor de la integral por trapecios.\n",
    "\n",
    "  * Calcule la integral logarítmica de Euler:\n",
    "  $$\\mathrm{Li}(t) = \\int_2^t \\frac{1}{\\ln x} dx$$\n",
    "  usando la función ´trapzf´ para valores de `npts=10, 20, 30, 40, 50, 60`\n",
    "\n",
    "-----"
   ]
  }
 ],
 "metadata": {
  "kernelspec": {
   "argv": [
    "/usr/bin/python3",
    "-m",
    "ipykernel_launcher",
    "-f",
    "{connection_file}"
   ],
   "display_name": "Python 3 (ipykernel)",
   "env": null,
   "interrupt_mode": "signal",
   "language": "python",
   "metadata": {
    "debugger": false
   },
   "name": "python3"
  },
  "language_info": {
   "codemirror_mode": {
    "name": "ipython",
    "version": 3
   },
   "file_extension": ".py",
   "mimetype": "text/x-python",
   "name": "python",
   "nbconvert_exporter": "python",
   "pygments_lexer": "ipython3",
   "version": "3.10.2"
  },
  "name": "08_2_numpy_arrays.ipynb",
  "toc": {
   "base_numbering": 1,
   "nav_menu": null,
   "number_sections": true,
   "sideBar": true,
   "skip_h1_title": true,
   "title_cell": "Contenidos",
   "title_sidebar": "Contenidos",
   "toc_cell": false,
   "toc_position": null,
   "toc_section_display": true,
   "toc_window_display": false
  }
 },
 "nbformat": 4,
 "nbformat_minor": 4
}
