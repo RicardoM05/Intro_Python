{
 "cells": [
  {
   "cell_type": "markdown",
   "metadata": {
    "collapsed": false
   },
   "source": [
    "\n",
    "## Escritura y lectura a archivos\n",
    "\n",
    "Nuestros programas necesitan interactuar con el mundo exterior. Hasta ahora utilizamos la función `print()` para imprimir por pantalla mensajes y resultados. Para leer o escribir un archivo primero debemos abrirlo, utilizando la función `open()`"
   ]
  },
  {
   "cell_type": "code",
   "execution_count": 1,
   "metadata": {
    "collapsed": false
   },
   "outputs": [],
   "source": [
    "f = open('../data/names.txt')   # Abrimos el archivo (para leer)"
   ]
  },
  {
   "cell_type": "code",
   "execution_count": 2,
   "metadata": {
    "collapsed": false
   },
   "outputs": [
    {
     "data": {
      "text/plain": [
       "<_io.TextIOWrapper name='../data/names.txt' mode='r' encoding='UTF-8'>"
      ]
     },
     "execution_count": 2,
     "metadata": {},
     "output_type": "execute_result"
    }
   ],
   "source": [
    "f"
   ]
  },
  {
   "cell_type": "code",
   "execution_count": 3,
   "metadata": {
    "collapsed": false
   },
   "outputs": [],
   "source": [
    "s = f.read()                    # Leemos el archivo"
   ]
  },
  {
   "cell_type": "code",
   "execution_count": 4,
   "metadata": {
    "collapsed": false
   },
   "outputs": [],
   "source": [
    "f.close()                       # Cerramos el archivo"
   ]
  },
  {
   "cell_type": "code",
   "execution_count": 6,
   "metadata": {
    "collapsed": false
   },
   "outputs": [
    {
     "name": "stdout",
     "output_type": "stream",
     "text": [
      "Aaa\n",
      "Aaron\n",
      "Aba\n",
      "Ababa\n",
      "Ada\n",
      "Ada\n",
      "Adam\n",
      "Adlai\n",
      "Adrian\n",
      "Adrienne\n",
      "Agatha\n",
      "Agnetha\n",
      "Ahmed\n",
      "Ahmet\n",
      "Aimee\n",
      "Al\n",
      "Ala\n",
      "Alain\n"
     ]
    }
   ],
   "source": [
    "print(s[:100])"
   ]
  },
  {
   "cell_type": "markdown",
   "metadata": {
    "collapsed": false
   },
   "source": [
    "Básicamente esta secuencia de trabajo es la que uno utilizará siempre. Sin embargo, hay un potencial problema, que ocurrirá si hay algún error entre la apertura y el cierre del archivo. Para ello existe una sintaxis alternativa"
   ]
  },
  {
   "cell_type": "code",
   "execution_count": 8,
   "metadata": {
    "collapsed": false
   },
   "outputs": [
    {
     "name": "stdout",
     "output_type": "stream",
     "text": [
      "Aaa\n",
      "Aaron\n",
      "Aba\n",
      "Ababa\n",
      "Ada\n",
      "Ada\n",
      "Adam\n",
      "Adlai\n",
      "Adrian\n",
      "Adri\n"
     ]
    }
   ],
   "source": [
    "with open('../data/names.txt') as fi:\n",
    "  s = fi.read()\n",
    "print(s[:50])"
   ]
  },
  {
   "cell_type": "code",
   "execution_count": 11,
   "metadata": {
    "collapsed": false
   },
   "outputs": [
    {
     "data": {
      "text/plain": [
       "<_io.TextIOWrapper name='../data/names.txt' mode='r' encoding='UTF-8'>"
      ]
     },
     "execution_count": 11,
     "metadata": {},
     "output_type": "execute_result"
    }
   ],
   "source": [
    "# fi todavía existe pero está cerrado\n",
    "fi"
   ]
  },
  {
   "cell_type": "markdown",
   "metadata": {
    "collapsed": false
   },
   "source": [
    "La palabra `with` es una palabra reservada del lenguaje y la construcción se conoce como *contexto*. Básicamente dice que todo lo que está dentro del bloque se realizará en el contexto en que `f` es el objeto de archivo abierto para lectura."
   ]
  },
  {
   "cell_type": "markdown",
   "metadata": {
    "collapsed": false
   },
   "source": [
    "### Ejemplos\n",
    "\n",
    "Vamos a repasar algunos de los conceptos discutidos las clases anteriores e introducir algunas nuevas funcionalidades con ejemplos\n",
    "\n",
    "#### Ejemplo 03-1\n"
   ]
  },
  {
   "cell_type": "code",
   "execution_count": 12,
   "metadata": {
    "collapsed": false
   },
   "outputs": [
    {
     "name": "stdout",
     "output_type": "stream",
     "text": [
      "Aaa\r\n",
      "Aaron\r\n",
      "Aba\r\n",
      "Ababa\r\n",
      "Ada\r\n",
      "Ada\r\n",
      "Adam\r\n",
      "Adlai\r\n",
      "Adrian\r\n",
      "Adrienne\r\n"
     ]
    }
   ],
   "source": [
    "!head ../data/names.txt # Muestro el contenido del archivo"
   ]
  },
  {
   "cell_type": "code",
   "execution_count": 14,
   "metadata": {
    "collapsed": false
   },
   "outputs": [
    {
     "name": "stdout",
     "output_type": "stream",
     "text": [
      "Aaa, Aba, Ada, Ada, Ala, Alf, Ama, Ami, Amy, Ana, Ann, Art, Bea, Ben, Bib, Bob, Bob, Bub, Bud, Cdc, Dad, Dan, Deb, Del, Did, Dod, Don, Dud, Eke, Eli, Ere, Eva, Eve, Eve, Ewe, Eye, Fay, Gag, Gay, Gig, Gil, Gog, Guy, Hal, Hon, Hsi, Huh, Hui, Hwa, Ian, Iii, Ima, Ira, Jan, Jay, Jef, Jem, Jen, Jim, Jin, Job, Joe, Jon, Jos, Jun, Kaj, Kay, Kee, Ken, Kim, Kit, Kyu, Lar, Lea, Lee, Len, Leo, Les, Lex, Lin, Liz, Lou, Luc, Lui, Lum, Mac, Mah, Mat, Max, May, Meg, Moe, Mum, Mwa, Nan, Ned, Non, Nou, Nun, Old, Ole, Pam, Pap, Pat, Pdp, Pep, Per, Pia, Pim, Pip, Pop, Pup, Raj, Ram, Ray, Reg, Rex, Ric, Rik, Rob, Rod, Ron, Roy, S's, Sal, Sam, Sho, Sid, Sir, Sis, Son, Spy, Sri, Ssi, Stu, Sue, Sus, Suu, Syd, Tad, Tai, Tal, Tao, Tat, Ted, Tex, The, Tim, Tip, Tit, Tnt, Tom, Tor, Tot, Uma, Una, Uri, Urs, Val, Van, Vic, Wes, Win, Wow, Zoe, Zon, \n",
      "\n",
      "Encontramos 166 palabras que tienen 3 letras\n"
     ]
    }
   ],
   "source": [
    "# %load scripts/03_ejemplo_1.py\n",
    "#!/usr/bin/env python3\n",
    "\n",
    "fname = '../data/names.txt'\n",
    "n = 0                           # contador\n",
    "minlen = 3                      # longitud mínima\n",
    "maxlen = 3                      # longitud máxima\n",
    "\n",
    "with  open(fname, 'r') as fi:\n",
    "  lines = fi.readlines()        # El resultado es una lista\n",
    "\n",
    "for line in lines:\n",
    "  if minlen <= len(line.strip()) <= maxlen:\n",
    "    n += 1\n",
    "    print(line.strip(), end=', ')  # No Newline\n",
    "\n",
    "print('\\n')\n",
    "if minlen == maxlen:\n",
    "  mensaje = 'Encontramos {} palabras que tienen {} letras'.format(n, minlen)\n",
    "else:\n",
    "  mensaje = 'Encontramos {0} palabras que tienen entre {1} y {2} letras'\\\n",
    "      .format(n, minlen, maxlen)\n",
    "\n",
    "print(mensaje)\n"
   ]
  },
  {
   "cell_type": "markdown",
   "metadata": {
    "collapsed": false
   },
   "source": [
    "Hemos utilizado aquí:\n",
    "\n",
    "* Apertura, lectura, y cerrado de archivos \n",
    "* Iteración en un loop `for`\n",
    "* Bloques condicionesles (if/else)\n",
    "* Formato de cadenas de caracteres con reemplazo\n",
    "* Impresión por pantalla\n",
    "\n",
    " La apertura de archivos se realiza utilizando la función `open` (este es un buen momento para mirar su documentación) con dos argumentos: el primero es el nombre del archivo y el segundo el modo en que queremos abrilo (en este caso la `r` indica lectura).\n",
    "\n",
    "Con el archivo abierto, en la línea 9 leemos línea por línea todo el archivo. El resultado es una lista, donde cada elemento es una línea.\n",
    "\n",
    "Recorremos la lista, y en cada elemento comparamos la longitud de la línea con ciertos valores. Imprimimos las líneas seleccionadas\n",
    "\n",
    "Finalmente, escribimos el número total de líneas.\n",
    "\n",
    "Veamos una leve modificación de este programa\n",
    "\n",
    "#### Ejemplo 03-2"
   ]
  },
  {
   "cell_type": "code",
   "execution_count": 15,
   "metadata": {
    "collapsed": false
   },
   "outputs": [
    {
     "name": "stdout",
     "output_type": "stream",
     "text": [
      "(01): aaa, (02): aba, (03): ada, (04): ada, (05): ala, (06): ama, (07): ana, (08): bib, (09): bob, (10): bob, (11): bub, (12): cdc, (13): dad, (14): did, (15): dod, (16): dud, (17): eke, (18): ere, (19): eve, (20): eve, (21): ewe, (22): eye, (23): gag, (24): gig, (25): gog, (26): huh, (27): iii, (28): mum, (29): nan, (30): non, (31): nun, (32): pap, (33): pdp, (34): pep, (35): pip, (36): pop, (37): pup, (38): s's, (39): sis, (40): sus, (41): tat, (42): tit, (43): tnt, (44): tot, (45): wow, \n",
      "\n",
      "Encontramos un total de 45 palabras capicúa que tienen 3 letras\n"
     ]
    }
   ],
   "source": [
    "# %load scripts/03_ejemplo_2.py\n",
    "#!/usr/bin/env python3\n",
    "\n",
    "\"\"\"Programa para contar e imprimir las palabras de una longitud dada\"\"\"\n",
    "\n",
    "fname = '../data/names.txt'\n",
    "\n",
    "n = 0                           # contador\n",
    "minlen = 3                      # longitud mínima\n",
    "maxlen = 3                      # longitud máxima\n",
    "\n",
    "with  open(fname, 'r') as fi:\n",
    "  for line in fi:\n",
    "    p = line.strip().lower()\n",
    "    if (minlen <= len(p) <= maxlen) and (p == p[::-1]):\n",
    "      n += 1\n",
    "      print('({:02d}): {}'.format(n, p), end=', ')  # Vamos numerando las coincidencias\n",
    "print('\\n')\n",
    "if minlen == maxlen:\n",
    "  mensaje = ('Encontramos un total de {} palabras capicúa que tienen {} letras'.\n",
    "             format(n, minlen))\n",
    "else:\n",
    "  mensaje = 'Encontramos un total de {} palabras que tienen\\\n",
    " entre {} y {} letras'.format(n, minlen, maxlen)\n",
    "\n",
    "print(mensaje)\n"
   ]
  },
  {
   "cell_type": "markdown",
   "metadata": {
    "collapsed": false
   },
   "source": [
    "Aquí en lugar de leer todas las líneas e iterar sobre las líneas resultantes, iteramos directamente sobre el archivo abierto.\n",
    "\n",
    "Además incluimos un string al principio del archivo, que servirá de documentación, y puede accederse mediante los mecanismos usuales de ayuda de Python.\n",
    "\n",
    "Imprimimos el número de palabra junto con la palabra, usamos `02d`, indicando que es un entero (`d`), que queremos que el campo sea de un mínimo número de caracteres de ancho (en este caso 2). Al escribirlo como `02` le pedimos que complete los vacíos con ceros.\n",
    "\n"
   ]
  },
  {
   "cell_type": "code",
   "execution_count": 16,
   "metadata": {
    "collapsed": false
   },
   "outputs": [],
   "source": [
    "s = \"Hola\\n y chau\"\n",
    "with open('tmp.txt','w') as fo:\n",
    "    fo.write(s)\n",
    "    "
   ]
  },
  {
   "cell_type": "code",
   "execution_count": 17,
   "metadata": {
    "collapsed": false
   },
   "outputs": [
    {
     "name": "stdout",
     "output_type": "stream",
     "text": [
      "Hola\r\n",
      " y chau"
     ]
    }
   ],
   "source": [
    "!cat tmp.txt"
   ]
  },
  {
   "cell_type": "markdown",
   "metadata": {
    "collapsed": false
   },
   "source": [
    "\n",
    "## Archivos comprimidos\n",
    "\n",
    "Existen varias formas de reducir el tamaño de los archivos de datos.  Varios factores, tales como el sistema operativo, nuestra familiaridad con cada uno de ellos, le da una cierta preferencia a algunos de los métodos disponibles. Veamos cómo hacer para leer y escribir algunos de los siguientes formatos: **zip, gzip, bz2** \n"
   ]
  },
  {
   "cell_type": "code",
   "execution_count": 18,
   "metadata": {
    "collapsed": false
   },
   "outputs": [],
   "source": [
    "import gzip\n",
    "import bz2"
   ]
  },
  {
   "cell_type": "code",
   "execution_count": 19,
   "metadata": {
    "collapsed": false
   },
   "outputs": [],
   "source": [
    "fi= gzip.open('../data/palabras.words.gz')\n",
    "a = fi.read()\n",
    "fi.close()"
   ]
  },
  {
   "cell_type": "code",
   "execution_count": 20,
   "metadata": {
    "collapsed": false
   },
   "outputs": [
    {
     "name": "stdout",
     "output_type": "stream",
     "text": [
      "[b'\\xc3\\x81frica', b'\\xc3\\x81ngela', b'\\xc3\\xa1baco', b'\\xc3\\xa1bsida', b'\\xc3\\xa1bside', b'\\xc3\\xa1cana', b'\\xc3\\xa1caro', b'\\xc3\\xa1cates', b'\\xc3\\xa1cido', b'\\xc3\\xa1cigos']\n"
     ]
    }
   ],
   "source": [
    "l= a.splitlines()\n",
    "print(l[:10])"
   ]
  },
  {
   "cell_type": "markdown",
   "metadata": {
    "collapsed": false
   },
   "source": [
    "Con todo esto podríamos escribir (si tuviéramos necesidad) una función que puede leer un archivo en cualquiera de estos formatos"
   ]
  },
  {
   "cell_type": "code",
   "execution_count": 22,
   "metadata": {
    "collapsed": false
   },
   "outputs": [],
   "source": [
    "import gzip\n",
    "import bz2\n",
    "from os.path import splitext\n",
    "import zipfile\n",
    "\n",
    "def abrir(fname, mode='r'):\n",
    "  if fname.endswith('gz'):\n",
    "    fi= gzip.open(fname, mode=mode)\n",
    "  elif fname.endswith('bz2'):\n",
    "    fi= bz2.open(fname, mode=mode)    \n",
    "  elif fname.endswith('zip'):\n",
    "    fi= zipfile.ZipFile(fname, mode=mode)\n",
    "  else:\n",
    "    fi = open(fname, mode=mode)\n",
    "  return fi"
   ]
  },
  {
   "cell_type": "code",
   "execution_count": 23,
   "metadata": {
    "collapsed": false
   },
   "outputs": [],
   "source": [
    "ff= abrir('../data/palabras.words.gz')\n",
    "a = ff.read()\n",
    "ff.close()"
   ]
  },
  {
   "cell_type": "code",
   "execution_count": 24,
   "metadata": {
    "collapsed": false
   },
   "outputs": [],
   "source": [
    "l = a.splitlines()"
   ]
  },
  {
   "cell_type": "code",
   "execution_count": 25,
   "metadata": {
    "collapsed": false
   },
   "outputs": [
    {
     "name": "stdout",
     "output_type": "stream",
     "text": [
      "b'\\xc3\\x81frica'\n"
     ]
    }
   ],
   "source": [
    "print(l[0])"
   ]
  },
  {
   "cell_type": "markdown",
   "metadata": {
    "collapsed": false
   },
   "source": [
    "-----\n",
    "\n",
    "## Ejercicios 05 (a)\n",
    "\n",
    "1. Realice un programa que:\n",
    "  * Lea el archivo names.txt\n",
    "  * Guarde en un nuevo archivo (llamado pares.txt) palabra por medio del archivo original (la primera, tercera, ...) una por línea, pero en el orden inverso al leído\n",
    "  * Agregue al final de dicho archivo, las palabras pares pero separadas por un punto y coma (;)\n",
    "  * En un archivo llamado longitudes.txt guarde las palabras ordenadas por su longitud, y para cada longitud ordenadas alfabéticamente.\n",
    "  * En un archivo llamado letras.txt guarde sólo aquellas palabras que contienen las letras `w,x,y,z`, con el formato:\n",
    "    - w: Walter, ....\n",
    "    - x: Xilofón, ...\n",
    "    - y: ....\n",
    "    - z: ....\n",
    "  * Cree un diccionario, donde cada *key* es la primera letra y cada valor es una lista, cuyo elemento es una tuple (palabra, longitud). Por ejemplo:\n",
    "  ```python\n",
    "  d['a'] = [('Aaa',3),('Anna', 4), ...]\n",
    "  ```\n",
    "\n",
    "\n",
    "2. Realice un programa para:\n",
    "    * Leer los datos del archivo **aluminio.dat** y poner los datos del elemento en un diccionario de la forma:\n",
    "```python\n",
    "    d = {'S': 'Al', 'Z':13, 'A':27, 'M': '26.98153863(12)', 'P': 1.0000, 'MS':26.9815386(8)'}\n",
    "    ```\n",
    "    * Modifique el programa anterior para que las masas sean números (`float`) y descarte el valor de la incerteza (el número entre paréntesis)\n",
    "    * Agregue el código necesario para obtener una impresión de la forma:\n",
    "```\n",
    "    Elemento: Al\n",
    "    Número Atómico: 13\n",
    "    Número de Masa: 27\n",
    "    Masa: 26.98154\n",
    "```\n",
    "      Note que la masa sólo debe contener 5 números decimales\n",
    "\n",
    "-----"
   ]
  },
  {
   "cell_type": "code",
   "execution_count": null,
   "metadata": {
    "collapsed": false
   },
   "outputs": [],
   "source": []
  }
 ],
 "metadata": {
  "kernelspec": {
   "argv": [
    "python",
    "-m",
    "ipykernel_launcher",
    "-f",
    "{connection_file}"
   ],
   "display_name": "Python 3 (ipykernel)",
   "env": null,
   "interrupt_mode": "signal",
   "language": "python",
   "metadata": {
    "debugger": true
   },
   "name": "python3"
  },
  "language_info": {
   "codemirror_mode": {
    "name": "ipython",
    "version": 3
   },
   "file_extension": ".py",
   "mimetype": "text/x-python",
   "name": "python",
   "nbconvert_exporter": "python",
   "pygments_lexer": "ipython3",
   "version": "3.10.2"
  },
  "name": "05_3_inout.ipynb",
  "toc": {
   "base_numbering": 1,
   "nav_menu": null,
   "number_sections": true,
   "sideBar": true,
   "skip_h1_title": true,
   "title_cell": "Contenidos",
   "title_sidebar": "Contenidos",
   "toc_cell": false,
   "toc_position": null,
   "toc_section_display": true,
   "toc_window_display": false
  }
 },
 "nbformat": 4,
 "nbformat_minor": 4
}
