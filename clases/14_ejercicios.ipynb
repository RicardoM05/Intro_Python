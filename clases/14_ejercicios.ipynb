{
 "cells": [
  {
   "cell_type": "markdown",
   "metadata": {
    "ein.tags": "worksheet-0",
    "slideshow": {
     "slide_type": "-"
    }
   },
   "source": [
    "## Ejercicios de Clase 14\n",
    "\n",
    "1. Realizar un programa para presentar en una figura tres gráficos modificando el ejemplo presentado en clases. Agregue a la izquierda un panel donde se muestre un corte horizontal. El corte debe estar en la mitad del gráfico ($y_{0}=136$). En la figura debe mostrar la posición del corte (similarmente a como se hizo con el corte en $x$) con una línea de otro color.\n",
    "\n",
    "1. Modificar el ejemplo dado en clases (**analizar_figura_2.py**) para presentar tres gráficos, agregando a la izquierda un panel donde se muestre el corte horizontal de la misma manera que en el ejercicio anterior. Al seleccionar con el *mouse* debe mostrar los dos cortes (horizontal y vertical)"
   ]
  }
 ],
 "metadata": {
  "kernelspec": {
   "argv": [
    "/usr/bin/python3",
    "-m",
    "ipykernel_launcher",
    "-f",
    "{connection_file}"
   ],
   "display_name": "Python 3",
   "env": null,
   "interrupt_mode": "signal",
   "language": "python",
   "metadata": null,
   "name": "python3"
  },
  "name": "14_ejercicios.ipynb"
 },
 "nbformat": 4,
 "nbformat_minor": 2
}
