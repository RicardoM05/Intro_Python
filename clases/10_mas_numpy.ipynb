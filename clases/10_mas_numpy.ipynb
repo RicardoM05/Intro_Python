{
 "cells": [
  {
   "cell_type": "markdown",
   "metadata": {
    "ein.tags": "worksheet-0",
    "slideshow": {
     "slide_type": "-"
    }
   },
   "source": [
    "# Más información sobre **Numpy** <a class=\"tocSkip\">\n",
    "\n",
    "## Creación y operación sobre **Numpy** arrays\n",
    "Vamos a ver algunas características de los `arrays` de Numpy en un poco más de detalle\n",
    "\n",
    "### Funciones para crear arrays\n",
    "\n",
    "Vimos varios métodos que permiten crear e inicializar arrays"
   ]
  },
  {
   "cell_type": "code",
   "execution_count": 1,
   "metadata": {
    "autoscroll": false,
    "ein.hycell": false,
    "ein.tags": "worksheet-0",
    "slideshow": {
     "slide_type": "-"
    }
   },
   "outputs": [],
   "source": [
    "import numpy as np\n",
    "import matplotlib.pyplot as plt"
   ]
  },
  {
   "cell_type": "code",
   "execution_count": 2,
   "metadata": {
    "autoscroll": false,
    "ein.hycell": false,
    "ein.tags": "worksheet-0",
    "slideshow": {
     "slide_type": "-"
    }
   },
   "outputs": [
    {
     "name": "stdout",
     "output_type": "stream",
     "text": [
      "Array empty unid:\n",
      " [ 4.65293215e-310  0.00000000e+000  2.61691551e-219  6.93734310e-310\n",
      "  6.93734306e-310  2.12298976e+064  6.93734309e-310  4.65293213e-310\n",
      " -5.27140143e-104  6.93734309e-310]\n",
      " ********************************************************************************\n",
      "Array zeros unid:\n",
      " [0. 0. 0. 0. 0. 0. 0. 0. 0. 0.]\n",
      " ********************************************************************************\n",
      "Array zeros bidi:\n",
      " [[0. 0.]\n",
      " [0. 0.]\n",
      " [0. 0.]\n",
      " [0. 0.]\n",
      " [0. 0.]]\n",
      " ********************************************************************************\n",
      "Array ones bidi:\n",
      " [[1. 1.]\n",
      " [1. 1.]\n",
      " [1. 1.]\n",
      " [1. 1.]\n",
      " [1. 1.]]\n",
      " ********************************************************************************\n",
      "Array arange:\n",
      " [0 1 2 3 4 5 6 7 8 9]\n",
      " ********************************************************************************\n",
      "Array lineal:\n",
      " [ 0.   2.5  5.   7.5 10. ]\n",
      " ********************************************************************************\n",
      "Array log:\n",
      " [  1.           1.66810054   2.7825594    4.64158883   7.74263683\n",
      "  12.91549665  21.5443469   35.93813664  59.94842503 100.        ]\n",
      " ********************************************************************************\n",
      "Array diag:\n",
      " [[0 0 0 0 0]\n",
      " [0 1 0 0 0]\n",
      " [0 0 2 0 0]\n",
      " [0 0 0 3 0]\n",
      " [0 0 0 0 4]]\n",
      " ********************************************************************************\n"
     ]
    }
   ],
   "source": [
    "a= {}\n",
    "a['empty unid'] = np.empty(10)    #  Creación de un array de 10 elementos\n",
    "a['zeros unid'] = np.zeros(10)    #  Creación de un array de 10 elementos inicializados en cero\n",
    "a['zeros bidi'] = np.zeros((5,2)) #  Array bidimensional 10 elementos con *shape* 5x2\n",
    "a['ones bidi'] = np.ones((5,2)) #  Array bidimensional 10 elementos con *shape* 5x2, inicializado en 1\n",
    "a['arange'] = np.arange(10)  # Array inicializado con una secuencia\n",
    "a['lineal'] = np.linspace(0,10,5)  # Array inicializado con una secuencia equiespaciada\n",
    "a['log'] = np.logspace(0,2,10)  # Array inicializado con una secuencia con espaciado logarítmico\n",
    "a['diag'] = np.diag(np.arange(5)) # Matriz diagonal a partir de un vector\n",
    "\n",
    "for k,v in a.items():\n",
    "  print('Array {}:\\n {}\\n'.format(k,v), 80*\"*\")"
   ]
  },
  {
   "cell_type": "markdown",
   "metadata": {
    "ein.tags": "worksheet-0",
    "slideshow": {
     "slide_type": "-"
    }
   },
   "source": [
    "La función `np.tile(A, reps)` permite crear un array repitiendo el patrón `A` las veces indicada por `reps` a lo largo de cada eje"
   ]
  },
  {
   "cell_type": "code",
   "execution_count": 3,
   "metadata": {
    "autoscroll": false,
    "ein.hycell": false,
    "ein.tags": "worksheet-0",
    "slideshow": {
     "slide_type": "-"
    }
   },
   "outputs": [
    {
     "data": {
      "text/plain": [
       "array([1, 3, 5])"
      ]
     },
     "execution_count": 3,
     "metadata": {},
     "output_type": "execute_result"
    }
   ],
   "source": [
    "a = np.arange(1,6,2)\n",
    "a"
   ]
  },
  {
   "cell_type": "code",
   "execution_count": 4,
   "metadata": {
    "autoscroll": false,
    "ein.hycell": false,
    "ein.tags": "worksheet-0",
    "slideshow": {
     "slide_type": "-"
    }
   },
   "outputs": [
    {
     "data": {
      "text/plain": [
       "array([1, 3, 5, 1, 3, 5])"
      ]
     },
     "execution_count": 4,
     "metadata": {},
     "output_type": "execute_result"
    }
   ],
   "source": [
    "np.tile(a, 2)"
   ]
  },
  {
   "cell_type": "code",
   "execution_count": 5,
   "metadata": {
    "autoscroll": false,
    "ein.hycell": false,
    "ein.tags": "worksheet-0",
    "slideshow": {
     "slide_type": "-"
    }
   },
   "outputs": [],
   "source": [
    "a1=np.tile(a, (1,2))"
   ]
  },
  {
   "cell_type": "code",
   "execution_count": 6,
   "metadata": {
    "autoscroll": false,
    "ein.hycell": false,
    "ein.tags": "worksheet-0",
    "slideshow": {
     "slide_type": "-"
    }
   },
   "outputs": [
    {
     "data": {
      "text/plain": [
       "(1, 6)"
      ]
     },
     "execution_count": 6,
     "metadata": {},
     "output_type": "execute_result"
    }
   ],
   "source": [
    "a1.shape"
   ]
  },
  {
   "cell_type": "code",
   "execution_count": 7,
   "metadata": {
    "autoscroll": false,
    "ein.hycell": false,
    "ein.tags": "worksheet-0",
    "slideshow": {
     "slide_type": "-"
    }
   },
   "outputs": [
    {
     "data": {
      "text/plain": [
       "array([[1, 3, 5, 1, 3, 5]])"
      ]
     },
     "execution_count": 7,
     "metadata": {},
     "output_type": "execute_result"
    }
   ],
   "source": [
    "a1"
   ]
  },
  {
   "cell_type": "code",
   "execution_count": 8,
   "metadata": {
    "autoscroll": false,
    "ein.hycell": false,
    "ein.tags": "worksheet-0",
    "slideshow": {
     "slide_type": "-"
    }
   },
   "outputs": [],
   "source": [
    "b = [[1,2],[3,4]]"
   ]
  },
  {
   "cell_type": "code",
   "execution_count": 9,
   "metadata": {
    "autoscroll": false,
    "ein.hycell": false,
    "ein.tags": "worksheet-0",
    "slideshow": {
     "slide_type": "-"
    }
   },
   "outputs": [
    {
     "name": "stdout",
     "output_type": "stream",
     "text": [
      "[[1, 2], [3, 4]]\n"
     ]
    }
   ],
   "source": [
    "print(b)"
   ]
  },
  {
   "cell_type": "code",
   "execution_count": 10,
   "metadata": {
    "autoscroll": false,
    "ein.hycell": false,
    "ein.tags": "worksheet-0",
    "slideshow": {
     "slide_type": "-"
    }
   },
   "outputs": [
    {
     "data": {
      "text/plain": [
       "array([[1, 2, 1, 2],\n",
       "       [3, 4, 3, 4]])"
      ]
     },
     "execution_count": 10,
     "metadata": {},
     "output_type": "execute_result"
    }
   ],
   "source": [
    "np.tile(b,(1,2))"
   ]
  },
  {
   "cell_type": "code",
   "execution_count": 11,
   "metadata": {
    "autoscroll": false,
    "ein.hycell": false,
    "ein.tags": "worksheet-0",
    "slideshow": {
     "slide_type": "-"
    }
   },
   "outputs": [
    {
     "data": {
      "text/plain": [
       "array([[1, 2],\n",
       "       [3, 4],\n",
       "       [1, 2],\n",
       "       [3, 4]])"
      ]
     },
     "execution_count": 11,
     "metadata": {},
     "output_type": "execute_result"
    }
   ],
   "source": [
    "np.tile(b, (2,1))"
   ]
  },
  {
   "cell_type": "markdown",
   "metadata": {
    "ein.tags": "worksheet-0",
    "slideshow": {
     "slide_type": "-"
    }
   },
   "source": [
    "En general, el argumento `reps = (nrows, ncols)` indica el número de repeticiones en filas (hacia abajo) y columnas (hacia la derecha), creando nuevas dimensiones si es necesario"
   ]
  },
  {
   "cell_type": "code",
   "execution_count": 12,
   "metadata": {
    "autoscroll": false,
    "ein.hycell": false,
    "ein.tags": "worksheet-0",
    "slideshow": {
     "slide_type": "-"
    }
   },
   "outputs": [
    {
     "data": {
      "text/plain": [
       "array([1, 3, 5])"
      ]
     },
     "execution_count": 12,
     "metadata": {},
     "output_type": "execute_result"
    }
   ],
   "source": [
    "a"
   ]
  },
  {
   "cell_type": "code",
   "execution_count": 13,
   "metadata": {
    "autoscroll": false,
    "ein.hycell": false,
    "ein.tags": "worksheet-0",
    "slideshow": {
     "slide_type": "-"
    }
   },
   "outputs": [
    {
     "data": {
      "text/plain": [
       "array([[1, 3, 5, 1, 3, 5],\n",
       "       [1, 3, 5, 1, 3, 5],\n",
       "       [1, 3, 5, 1, 3, 5]])"
      ]
     },
     "execution_count": 13,
     "metadata": {},
     "output_type": "execute_result"
    }
   ],
   "source": [
    "np.tile(a, (3,2))"
   ]
  },
  {
   "cell_type": "markdown",
   "metadata": {
    "ein.tags": "worksheet-0",
    "slideshow": {
     "slide_type": "-"
    }
   },
   "source": [
    "### Funciones que actúan sobre arrays\n",
    "\n",
    "Numpy incluye muchas funciones matemáticas que actúan sobre arrays completos (de una o más dimensiones). La lista completa se encuentra en la [documentación](http://docs.scipy.org/doc/numpy/reference/ufuncs.html#available-ufuncs) e incluye:"
   ]
  },
  {
   "cell_type": "code",
   "execution_count": 14,
   "metadata": {
    "autoscroll": false,
    "ein.hycell": false,
    "ein.tags": "worksheet-0",
    "slideshow": {
     "slide_type": "-"
    }
   },
   "outputs": [],
   "source": [
    "x = np.linspace(np.pi/180, np.pi,7)\n",
    "y = np.geomspace(10,100,7)"
   ]
  },
  {
   "cell_type": "code",
   "execution_count": 15,
   "metadata": {
    "autoscroll": false,
    "ein.hycell": false,
    "ein.tags": "worksheet-0",
    "slideshow": {
     "slide_type": "-"
    }
   },
   "outputs": [
    {
     "name": "stdout",
     "output_type": "stream",
     "text": [
      "[0.01745329 0.53814319 1.05883308 1.57952297 2.10021287 2.62090276\n",
      " 3.14159265]\n",
      "[ 10.          14.67799268  21.5443469   31.6227766   46.41588834\n",
      "  68.12920691 100.        ]\n",
      "[ 10.01745329  15.21613586  22.60317998  33.20229957  48.5161012\n",
      "  70.75010967 103.14159265]\n",
      "[1.74532925e-01 7.89886174e+00 2.28118672e+01 4.99489021e+01\n",
      " 9.74832459e+01 1.78560026e+02 3.14159265e+02]\n",
      "[572.95779513  27.27525509  20.34725522  20.02046006  22.10056375\n",
      "  25.99455727  31.83098862]\n",
      "[0. 0. 0. 0. 1. 1. 1.]\n"
     ]
    }
   ],
   "source": [
    "print(x)\n",
    "print(y)\n",
    "print(x+y)                      # Suma elemento a elemento\n",
    "print(x*y)                      # Multiplicación elemento a elemento\n",
    "print(y/x)                      # División elemento a elemento\n",
    "print(x//2)                     # División entera elemento a elemento"
   ]
  },
  {
   "cell_type": "code",
   "execution_count": 16,
   "metadata": {
    "autoscroll": false,
    "ein.hycell": false,
    "ein.tags": "worksheet-0",
    "slideshow": {
     "slide_type": "-"
    }
   },
   "outputs": [
    {
     "name": "stdout",
     "output_type": "stream",
     "text": [
      "x = [0.01745329 0.53814319 1.05883308 1.57952297 2.10021287 2.62090276\n",
      " 3.14159265]\n",
      "square\n",
      " [3.04617420e-04 2.89598089e-01 1.12112749e+00 2.49489282e+00\n",
      " 4.41089408e+00 6.86913128e+00 9.86960440e+00]\n",
      "sin\n",
      " [1.74524064e-02 5.12542501e-01 8.71784414e-01 9.99961923e-01\n",
      " 8.63101882e-01 4.97478722e-01 1.22464680e-16]\n",
      "tanh\n",
      " [0.01745152 0.49158114 0.78521683 0.91852736 0.97046433 0.9894743\n",
      " 0.99627208]\n",
      "exp\n",
      " [0.98269813 0.58383131 0.34686033 0.20607338 0.12243036 0.07273717\n",
      " 0.04321392]\n",
      "log\n",
      " [-4.04822697 -0.61963061  0.05716743  0.45712289  0.7420387   0.96351882\n",
      "  1.14472989]\n",
      "abs\n",
      " [0.01745329 0.53814319 1.05883308 1.57952297 2.10021287 2.62090276\n",
      " 3.14159265]\n",
      "resto\n",
      " [0.01745329 0.53814319 1.05883308 1.57952297 0.10021287 0.62090276\n",
      " 1.14159265]\n"
     ]
    }
   ],
   "source": [
    "print('x =', x)\n",
    "print('square\\n', x**2)              # potencias\n",
    "print('sin\\n',np.sin(x))             # Seno (np.cos, np.tan)\n",
    "print(\"tanh\\n\",np.tanh(x))           # tang hiperb (np.sinh, np.cosh)\n",
    "print('exp\\n', np.exp(-x))           # exponenciales\n",
    "print('log\\n', np.log(x))            # logaritmo en base e (np.log10)\n",
    "print('abs\\n',np.absolute(x))        # Valor absoluto\n",
    "print('resto\\n', np.remainder(x,2))  # Resto"
   ]
  },
  {
   "cell_type": "markdown",
   "metadata": {
    "ein.tags": "worksheet-0",
    "slideshow": {
     "slide_type": "-"
    }
   },
   "source": [
    "### Productos entre arrays y productos vectoriales"
   ]
  },
  {
   "cell_type": "code",
   "execution_count": 17,
   "metadata": {
    "autoscroll": false,
    "ein.hycell": false,
    "ein.tags": "worksheet-0",
    "slideshow": {
     "slide_type": "-"
    }
   },
   "outputs": [],
   "source": [
    "# Creamos arrays unidimensionales (vectores) y bidimensionales (matrices)\n",
    "v1 = np.array([2, 3, 4])\n",
    "v2 = np.array([1, 1, 1])\n",
    "A = np.arange(1,13,2).reshape(2, 3)\n",
    "B = np.linspace(0.5,11.5,12).reshape(3, 4)"
   ]
  },
  {
   "cell_type": "code",
   "execution_count": 18,
   "metadata": {
    "autoscroll": false,
    "ein.hycell": false,
    "ein.tags": "worksheet-0",
    "slideshow": {
     "slide_type": "-"
    }
   },
   "outputs": [
    {
     "name": "stdout",
     "output_type": "stream",
     "text": [
      "[[ 1  3  5]\n",
      " [ 7  9 11]]\n"
     ]
    }
   ],
   "source": [
    "print(A)"
   ]
  },
  {
   "cell_type": "code",
   "execution_count": 19,
   "metadata": {
    "autoscroll": false,
    "ein.hycell": false,
    "ein.tags": "worksheet-0",
    "slideshow": {
     "slide_type": "-"
    }
   },
   "outputs": [
    {
     "name": "stdout",
     "output_type": "stream",
     "text": [
      "[[ 0.5  1.5  2.5  3.5]\n",
      " [ 4.5  5.5  6.5  7.5]\n",
      " [ 8.5  9.5 10.5 11.5]]\n"
     ]
    }
   ],
   "source": [
    "print(B)"
   ]
  },
  {
   "cell_type": "code",
   "execution_count": 20,
   "metadata": {
    "autoscroll": false,
    "ein.hycell": false,
    "ein.tags": "worksheet-0",
    "slideshow": {
     "slide_type": "-"
    }
   },
   "outputs": [
    {
     "name": "stdout",
     "output_type": "stream",
     "text": [
      "[2 3 4]\n"
     ]
    }
   ],
   "source": [
    "print(v1*v2)"
   ]
  },
  {
   "cell_type": "code",
   "execution_count": 21,
   "metadata": {
    "autoscroll": false,
    "ein.hycell": false,
    "ein.tags": "worksheet-0",
    "slideshow": {
     "slide_type": "-"
    }
   },
   "outputs": [
    {
     "name": "stdout",
     "output_type": "stream",
     "text": [
      "[[ 2  9 20]\n",
      " [14 27 44]]\n"
     ]
    }
   ],
   "source": [
    "print(A*v1)"
   ]
  },
  {
   "cell_type": "markdown",
   "metadata": {
    "ein.tags": "worksheet-0",
    "slideshow": {
     "slide_type": "-"
    }
   },
   "source": [
    "Los productos se realizan \"elemento a elemento\", si queremos obtener \"productos internos\" o productos entre matrices (o matrices y vectores)"
   ]
  },
  {
   "cell_type": "code",
   "execution_count": 22,
   "metadata": {
    "autoscroll": false,
    "ein.hycell": false,
    "ein.tags": "worksheet-0",
    "slideshow": {
     "slide_type": "-"
    }
   },
   "outputs": [
    {
     "name": "stdout",
     "output_type": "stream",
     "text": [
      "[2 3 4] . [1 1 1] = 9\n"
     ]
    }
   ],
   "source": [
    "print(v1, '.', v2, '=', np.dot(v1, v2))"
   ]
  },
  {
   "cell_type": "code",
   "execution_count": 23,
   "metadata": {
    "autoscroll": false,
    "ein.hycell": false,
    "ein.tags": "worksheet-0",
    "slideshow": {
     "slide_type": "-"
    }
   },
   "outputs": [
    {
     "name": "stdout",
     "output_type": "stream",
     "text": [
      "[[ 1  3  5]\n",
      " [ 7  9 11]] x [2 3 4] = [31 85]\n"
     ]
    }
   ],
   "source": [
    "print( A, 'x', v1, '=', np.dot(A, v1))\n"
   ]
  },
  {
   "cell_type": "code",
   "execution_count": 24,
   "metadata": {
    "autoscroll": false,
    "ein.hycell": false,
    "ein.tags": "worksheet-0",
    "slideshow": {
     "slide_type": "-"
    }
   },
   "outputs": [
    {
     "name": "stdout",
     "output_type": "stream",
     "text": [
      "(2, 3) (3, 4)\n"
     ]
    }
   ],
   "source": [
    "print(A.shape, B.shape)"
   ]
  },
  {
   "cell_type": "code",
   "execution_count": 25,
   "metadata": {
    "autoscroll": false,
    "ein.hycell": false,
    "ein.tags": "worksheet-0",
    "slideshow": {
     "slide_type": "-"
    }
   },
   "outputs": [
    {
     "name": "stdout",
     "output_type": "stream",
     "text": [
      "A x B = \n",
      " [[ 56.5  65.5  74.5  83.5]\n",
      " [137.5 164.5 191.5 218.5]]\n"
     ]
    }
   ],
   "source": [
    "print( 'A x B = \\n',np.dot(A, B) )"
   ]
  },
  {
   "cell_type": "code",
   "execution_count": 26,
   "metadata": {
    "autoscroll": false,
    "ein.hycell": false,
    "ein.tags": "worksheet-0",
    "slideshow": {
     "slide_type": "-"
    }
   },
   "outputs": [
    {
     "name": "stdout",
     "output_type": "stream",
     "text": [
      "B^t x A^t =\n",
      "  [[ 56.5 137.5]\n",
      " [ 65.5 164.5]\n",
      " [ 74.5 191.5]\n",
      " [ 83.5 218.5]]\n"
     ]
    }
   ],
   "source": [
    "print( 'B^t x A^t =\\n ',np.dot(B.T, A.T))"
   ]
  },
  {
   "cell_type": "markdown",
   "metadata": {
    "ein.tags": "worksheet-0",
    "slideshow": {
     "slide_type": "-"
    }
   },
   "source": [
    "Además, el módulo numpy.linalg incluye otras funcionalidades como determinantes, normas, determinación de autovalores y autovectores, descomposiciones, etc."
   ]
  },
  {
   "cell_type": "markdown",
   "metadata": {
    "ein.tags": "worksheet-0",
    "slideshow": {
     "slide_type": "-"
    }
   },
   "source": [
    "### Comparaciones entre arrays\n",
    "\n",
    "La comparación, como las operaciones y aplicación de funciones se realiza \"elemento a elemento\".\n",
    "\n",
    "|Funciones                                           |  Operadores    |\n",
    "|:---------------------------------------------------|:--------------:|\n",
    "|greater(x1, x2, /[, out, where, casting, ...])      |    (x1 > x2)   |\n",
    "|greater_equal(x1, x2, /[, out, where, ...]) \t     |    (x1 >= x2)  |\n",
    "|less(x1, x2, /[, out, where, casting, ...]) \t     |    (x1 < x2)   |\n",
    "|less_equal(x1, x2, /[, out, where, casting, ...])   |    (x1 =< x2)  |\n",
    "|not_equal(x1, x2, /[, out, where, casting, ...])    |    (x1 != x2)  |\n",
    "|equal(x1, x2, /[, out, where, casting, ...]) \t     |    (x1 == x2)  |\n"
   ]
  },
  {
   "cell_type": "code",
   "execution_count": 27,
   "metadata": {
    "autoscroll": false,
    "ein.hycell": false,
    "ein.tags": "worksheet-0",
    "slideshow": {
     "slide_type": "-"
    }
   },
   "outputs": [],
   "source": [
    "z = np.array((-1,3,4,0.5,2,9,0.7))"
   ]
  },
  {
   "cell_type": "code",
   "execution_count": 28,
   "metadata": {
    "autoscroll": false,
    "ein.hycell": false,
    "ein.tags": "worksheet-0",
    "slideshow": {
     "slide_type": "-"
    }
   },
   "outputs": [
    {
     "name": "stdout",
     "output_type": "stream",
     "text": [
      "[0.01745329 0.53814319 1.05883308 1.57952297 2.10021287 2.62090276\n",
      " 3.14159265]\n",
      "[ 10.          14.67799268  21.5443469   31.6227766   46.41588834\n",
      "  68.12920691 100.        ]\n",
      "[-1.   3.   4.   0.5  2.   9.   0.7]\n"
     ]
    }
   ],
   "source": [
    "print(x)\n",
    "print(y)\n",
    "print(z)"
   ]
  },
  {
   "cell_type": "code",
   "execution_count": 29,
   "metadata": {
    "autoscroll": false,
    "ein.hycell": false,
    "ein.tags": "worksheet-0",
    "slideshow": {
     "slide_type": "-"
    }
   },
   "outputs": [
    {
     "name": "stdout",
     "output_type": "stream",
     "text": [
      "[False  True  True False False  True False]\n",
      "[ True  True  True  True  True  True  True]\n",
      "[ True  True  True  True  True  True  True]\n"
     ]
    }
   ],
   "source": [
    "c1 = x <= z\n",
    "c2 = np.less_equal(z,y)\n",
    "c3 = np.less_equal(x,y)\n",
    "print(c1)\n",
    "print(c2)\n",
    "print(c3)\n"
   ]
  },
  {
   "cell_type": "code",
   "execution_count": 30,
   "metadata": {
    "autoscroll": false,
    "ein.hycell": false,
    "ein.tags": "worksheet-0",
    "slideshow": {
     "slide_type": "-"
    }
   },
   "outputs": [
    {
     "data": {
      "text/plain": [
       "array([False,  True,  True, False, False,  True, False])"
      ]
     },
     "execution_count": 30,
     "metadata": {},
     "output_type": "execute_result"
    }
   ],
   "source": [
    "c1                              # Veamos que tipo de array es:"
   ]
  },
  {
   "cell_type": "code",
   "execution_count": 31,
   "metadata": {
    "autoscroll": false,
    "ein.hycell": false,
    "ein.tags": "worksheet-0",
    "slideshow": {
     "slide_type": "-"
    }
   },
   "outputs": [
    {
     "data": {
      "text/plain": [
       "(3, 7, 7)"
      ]
     },
     "execution_count": 31,
     "metadata": {},
     "output_type": "execute_result"
    }
   ],
   "source": [
    "np.sum(c1), np.sum(c2), c3.sum()"
   ]
  },
  {
   "cell_type": "markdown",
   "metadata": {
    "ein.tags": "worksheet-0",
    "slideshow": {
     "slide_type": "-"
    }
   },
   "source": [
    "Como vemos, las comparaciones nos dan un vector de variables lógicas.\n",
    "Cuando queremos combinar condiciones no funciona usar las palabras `and` y `or` de *Python* porque estaríamos comparando los dos elementos (arrays completos)."
   ]
  },
  {
   "cell_type": "code",
   "execution_count": 32,
   "metadata": {
    "autoscroll": false,
    "ein.hycell": false,
    "ein.tags": "worksheet-0",
    "slideshow": {
     "slide_type": "-"
    }
   },
   "outputs": [
    {
     "name": "stdout",
     "output_type": "stream",
     "text": [
      "[False  True  True False False  True False]\n",
      "[False  True  True False False  True False]\n",
      "[ True  True  True  True  True  True  True]\n",
      "[ True  True  True  True  True  True  True]\n"
     ]
    }
   ],
   "source": [
    "print(np.logical_and(c1, c2))\n",
    "print(c1 & c2)\n",
    "print(np.logical_and(c2, c3))\n",
    "print(c2 & c3)"
   ]
  },
  {
   "cell_type": "code",
   "execution_count": 33,
   "metadata": {
    "autoscroll": false,
    "ein.hycell": false,
    "ein.tags": "worksheet-0",
    "slideshow": {
     "slide_type": "-"
    }
   },
   "outputs": [
    {
     "name": "stdout",
     "output_type": "stream",
     "text": [
      "[ True  True  True  True  True  True  True]\n",
      "[ True  True  True  True  True  True  True]\n",
      "[ True  True  True  True  True  True  True]\n",
      "[ True  True  True  True  True  True  True]\n"
     ]
    }
   ],
   "source": [
    "print(np.logical_or(c1, c2))\n",
    "print(c1 | c2)\n",
    "print(np.logical_or(c2, c3))\n",
    "print(c2 | c3)"
   ]
  },
  {
   "cell_type": "code",
   "execution_count": 34,
   "metadata": {
    "autoscroll": false,
    "ein.hycell": false,
    "ein.tags": "worksheet-0",
    "slideshow": {
     "slide_type": "-"
    }
   },
   "outputs": [
    {
     "name": "stdout",
     "output_type": "stream",
     "text": [
      "[ True False False  True  True False  True]\n",
      "[False False False False False False False]\n"
     ]
    }
   ],
   "source": [
    "print(np.logical_xor(c1, c2))\n",
    "print(np.logical_xor(c2, c3))"
   ]
  },
  {
   "cell_type": "markdown",
   "metadata": {
    "ein.tags": "worksheet-0",
    "slideshow": {
     "slide_type": "-"
    }
   },
   "source": [
    "## Atributos de *arrays*\n",
    "\n",
    "Los array tienen otras propiedades, que pueden explorarse apretando `<TAB>` en una terminal o notebook de **IPython** o leyendo la documentación de [Numpy](http://docs.scipy.org/doc/numpy/user), o utilizando la función `dir(arr)` (donde `arr` es una variable del tipo array) o `dir(np.ndarray)`.\n",
    "\n",
    "En la tabla se muestra una lista de los atributos de los numpy array \n",
    "\n",
    "![](figuras/array_atr.png)\n",
    "\n",
    "\n",
    "Exploremos algunas de ellas\n",
    "\n",
    "### reshape"
   ]
  },
  {
   "cell_type": "code",
   "execution_count": 35,
   "metadata": {
    "autoscroll": false,
    "ein.hycell": false,
    "ein.tags": "worksheet-0",
    "slideshow": {
     "slide_type": "-"
    }
   },
   "outputs": [
    {
     "name": "stdout",
     "output_type": "stream",
     "text": [
      "Vector original:\n",
      " [ 0  1  2  3  4  5  6  7  8  9 10 11]\n",
      "Cambiando la forma a 3x4:\n",
      " [[ 0  1  2  3]\n",
      " [ 4  5  6  7]\n",
      " [ 8  9 10 11]]\n",
      "Cambiando la forma a 4x3:\n",
      " [[ 0  1  2]\n",
      " [ 3  4  5]\n",
      " [ 6  7  8]\n",
      " [ 9 10 11]]\n"
     ]
    }
   ],
   "source": [
    "arr= np.arange(12)                         # Vector\n",
    "print(\"Vector original:\\n\", arr)\n",
    "arr2= arr.reshape((3,4))                   # Le cambiamos la forma a matriz de 3x4\n",
    "print(\"Cambiando la forma a 3x4:\\n\", arr2)\n",
    "arr3= np.reshape(arr,(4,3))                # Le cambiamos la forma a matriz de 4x3\n",
    "print(\"Cambiando la forma a 4x3:\\n\", arr3)"
   ]
  },
  {
   "cell_type": "code",
   "execution_count": 36,
   "metadata": {
    "autoscroll": false,
    "ein.hycell": false,
    "ein.tags": "worksheet-0",
    "slideshow": {
     "slide_type": "-"
    }
   },
   "outputs": [],
   "source": [
    "arr2[0,0] = 5\n",
    "arr2[2,1] = -9"
   ]
  },
  {
   "cell_type": "code",
   "execution_count": 37,
   "metadata": {
    "autoscroll": false,
    "ein.hycell": false,
    "ein.tags": "worksheet-0",
    "slideshow": {
     "slide_type": "-"
    }
   },
   "outputs": [
    {
     "name": "stdout",
     "output_type": "stream",
     "text": [
      "[[ 5  1  2  3]\n",
      " [ 4  5  6  7]\n",
      " [ 8 -9 10 11]]\n"
     ]
    }
   ],
   "source": [
    "print(arr2)"
   ]
  },
  {
   "cell_type": "code",
   "execution_count": 38,
   "metadata": {
    "autoscroll": false,
    "ein.hycell": false,
    "ein.tags": "worksheet-0",
    "slideshow": {
     "slide_type": "-"
    }
   },
   "outputs": [
    {
     "name": "stdout",
     "output_type": "stream",
     "text": [
      "[ 5  1  2  3  4  5  6  7  8 -9 10 11]\n"
     ]
    }
   ],
   "source": [
    "print(arr)"
   ]
  },
  {
   "cell_type": "code",
   "execution_count": 39,
   "metadata": {
    "autoscroll": false,
    "ein.hycell": false,
    "ein.tags": "worksheet-0",
    "slideshow": {
     "slide_type": "-"
    }
   },
   "outputs": [
    {
     "name": "stdout",
     "output_type": "stream",
     "text": [
      "[[ 5  1  2]\n",
      " [ 3  4  5]\n",
      " [ 6  7  8]\n",
      " [-9 10 11]]\n"
     ]
    }
   ],
   "source": [
    "print(arr3)"
   ]
  },
  {
   "cell_type": "code",
   "execution_count": 40,
   "metadata": {},
   "outputs": [
    {
     "name": "stdout",
     "output_type": "stream",
     "text": [
      "Error: la nueva forma es incompatible: cannot reshape array of size 12 into shape (3,3)\n"
     ]
    }
   ],
   "source": [
    "try:\n",
    "    arr.reshape((3,3))   # Si la nueva forma no es adecuada, falla\n",
    "except ValueError as e:\n",
    "    print(\"Error: la nueva forma es incompatible:\", e)"
   ]
  },
  {
   "cell_type": "markdown",
   "metadata": {
    "ein.tags": "worksheet-0",
    "slideshow": {
     "slide_type": "-"
    }
   },
   "source": [
    "### transpose"
   ]
  },
  {
   "cell_type": "code",
   "execution_count": 41,
   "metadata": {
    "autoscroll": false,
    "ein.hycell": false,
    "ein.tags": "worksheet-0",
    "slideshow": {
     "slide_type": "-"
    }
   },
   "outputs": [
    {
     "name": "stdout",
     "output_type": "stream",
     "text": [
      "Transpose:\n",
      " [[ 5  4  8]\n",
      " [ 1  5 -9]\n",
      " [ 2  6 10]\n",
      " [ 3  7 11]]\n",
      "Transpose:\n",
      " [[ 5  3  6 -9]\n",
      " [ 1  4  7 10]\n",
      " [ 2  5  8 11]]\n"
     ]
    }
   ],
   "source": [
    "print('Transpose:\\n', arr2.T)\n",
    "print('Transpose:\\n', np.transpose(arr3))"
   ]
  },
  {
   "cell_type": "markdown",
   "metadata": {
    "ein.tags": "worksheet-0",
    "slideshow": {
     "slide_type": "-"
    }
   },
   "source": [
    "### min, max\n",
    "\n",
    "Las funciones para encontrar mínimo y máximo pueden aplicarse tanto a vectores como a arrays` con más dimensiones. En este último caso puede elegirse si se trabaja sobre uno de los ejes:"
   ]
  },
  {
   "cell_type": "code",
   "execution_count": 42,
   "metadata": {
    "autoscroll": false,
    "ein.hycell": false,
    "ein.tags": "worksheet-0",
    "slideshow": {
     "slide_type": "-"
    }
   },
   "outputs": [
    {
     "name": "stdout",
     "output_type": "stream",
     "text": [
      "[[ 5  1  2  3]\n",
      " [ 4  5  6  7]\n",
      " [ 8 -9 10 11]]\n",
      "11\n",
      "[ 8  5 10 11]\n",
      "[ 5  7 11]\n"
     ]
    }
   ],
   "source": [
    "print(arr2)\n",
    "print(np.max(arr2))\n",
    "print(np.max(arr2,axis=0))\n",
    "print(np.max(arr2,axis=1))\n"
   ]
  },
  {
   "cell_type": "code",
   "execution_count": 43,
   "metadata": {},
   "outputs": [
    {
     "data": {
      "text/plain": [
       "7"
      ]
     },
     "execution_count": 43,
     "metadata": {},
     "output_type": "execute_result"
    }
   ],
   "source": [
    "np.max(arr2[1,:])"
   ]
  },
  {
   "cell_type": "markdown",
   "metadata": {
    "ein.tags": "worksheet-0",
    "slideshow": {
     "slide_type": "-"
    }
   },
   "source": [
    "El primer eje `(axis=0)` corresponde a las columnas (convención del lenguaje `C`), y por lo tanto dará un valor por cada columna.\n",
    "\n",
    "Si no damos el argumento opcional `axis` ambas funciones nos darán el mínimo o máximo de todos los elementos. Si le damos un eje nos devolverá el mínimo a lo largo de ese eje. "
   ]
  },
  {
   "cell_type": "markdown",
   "metadata": {
    "ein.tags": "worksheet-0",
    "slideshow": {
     "slide_type": "-"
    }
   },
   "source": [
    "### argmin, argmax\n",
    "\n",
    "Estas funciones trabajan de la misma manera que `min` y `max` pero devuelve los índices en lugar de los valores."
   ]
  },
  {
   "cell_type": "code",
   "execution_count": 44,
   "metadata": {
    "autoscroll": false,
    "ein.hycell": false,
    "ein.tags": "worksheet-0",
    "slideshow": {
     "slide_type": "-"
    }
   },
   "outputs": [
    {
     "name": "stdout",
     "output_type": "stream",
     "text": [
      "11\n",
      "[2 1 2 2]\n",
      "[0 3 3]\n"
     ]
    }
   ],
   "source": [
    "print(np.argmax(arr2))\n",
    "print(np.argmax(arr2,axis=0))\n",
    "print(np.argmax(arr2,axis=1))\n"
   ]
  },
  {
   "cell_type": "markdown",
   "metadata": {
    "ein.tags": "worksheet-0",
    "slideshow": {
     "slide_type": "-"
    }
   },
   "source": [
    "### sum, prod, mean, std\n",
    "\n"
   ]
  },
  {
   "cell_type": "code",
   "execution_count": 45,
   "metadata": {
    "autoscroll": false,
    "ein.hycell": false,
    "ein.tags": "worksheet-0",
    "slideshow": {
     "slide_type": "-"
    }
   },
   "outputs": [
    {
     "name": "stdout",
     "output_type": "stream",
     "text": [
      "[[ 5  1  2  3]\n",
      " [ 4  5  6  7]\n",
      " [ 8 -9 10 11]]\n",
      "sum 53\n",
      "sum, 0 [17 -3 18 21]\n",
      "sum, 1 [11 22 20]\n"
     ]
    }
   ],
   "source": [
    "print(arr2)\n",
    "print('sum', np.sum(arr2))\n",
    "print('sum, 0', np.sum(arr2,axis=0))\n",
    "print('sum, 1', np.sum(arr2,axis=1))\n"
   ]
  },
  {
   "cell_type": "code",
   "execution_count": 46,
   "metadata": {
    "autoscroll": false,
    "ein.hycell": false,
    "ein.tags": "worksheet-0",
    "slideshow": {
     "slide_type": "-"
    }
   },
   "outputs": [
    {
     "name": "stdout",
     "output_type": "stream",
     "text": [
      "-199584000\n",
      "[160 -45 120 231]\n",
      "[   30   840 -7920]\n"
     ]
    }
   ],
   "source": [
    "print(np.prod(arr2))\n",
    "print(np.prod(arr2,axis=0))\n",
    "print(np.prod(arr2,axis=1))"
   ]
  },
  {
   "cell_type": "code",
   "execution_count": 47,
   "metadata": {
    "autoscroll": false,
    "ein.hycell": false,
    "ein.tags": "worksheet-0",
    "slideshow": {
     "slide_type": "-"
    }
   },
   "outputs": [
    {
     "name": "stdout",
     "output_type": "stream",
     "text": [
      "4.416666666666667 = 4.416666666666667\n",
      "[ 5.66666667 -1.          6.          7.        ]\n",
      "[2.75 5.5  5.  ]\n",
      "4.9742391936411305\n",
      "[1.47901995 1.11803399 8.15475322]\n"
     ]
    }
   ],
   "source": [
    "print(arr2.mean(), '=', arr2.sum()/arr2.size)\n",
    "print(np.mean(arr2,axis=0))\n",
    "print(np.mean(arr2,axis=1))\n",
    "print(np.std(arr2))\n",
    "print(np.std(arr2,axis=1))\n"
   ]
  },
  {
   "cell_type": "markdown",
   "metadata": {
    "ein.tags": "worksheet-0",
    "slideshow": {
     "slide_type": "-"
    }
   },
   "source": [
    "### cumsum, cumprod, trapz"
   ]
  },
  {
   "cell_type": "markdown",
   "metadata": {
    "ein.tags": "worksheet-0",
    "slideshow": {
     "slide_type": "-"
    }
   },
   "source": [
    "Las funciones `cumsum` y `cumprod` devuelven la suma y producto acumulativo recorriendo el array, opcionalmente a lo largo de un eje"
   ]
  },
  {
   "cell_type": "code",
   "execution_count": 48,
   "metadata": {
    "autoscroll": false,
    "ein.hycell": false,
    "ein.tags": "worksheet-0",
    "slideshow": {
     "slide_type": "-"
    }
   },
   "outputs": [
    {
     "name": "stdout",
     "output_type": "stream",
     "text": [
      "[[ 5  1  2  3]\n",
      " [ 4  5  6  7]\n",
      " [ 8 -9 10 11]]\n"
     ]
    }
   ],
   "source": [
    "print(arr2)"
   ]
  },
  {
   "cell_type": "code",
   "execution_count": 49,
   "metadata": {
    "autoscroll": false,
    "ein.hycell": false,
    "ein.tags": "worksheet-0",
    "slideshow": {
     "slide_type": "-"
    }
   },
   "outputs": [
    {
     "name": "stdout",
     "output_type": "stream",
     "text": [
      "[ 5  6  8 11 15 20 26 33 41 32 42 53]\n"
     ]
    }
   ],
   "source": [
    "# Suma todos los elementos anteriores y devuelve el array unidimensional\n",
    "print(arr2.cumsum())"
   ]
  },
  {
   "cell_type": "code",
   "execution_count": 50,
   "metadata": {
    "autoscroll": false,
    "ein.hycell": false,
    "ein.tags": "worksheet-0",
    "slideshow": {
     "slide_type": "-"
    }
   },
   "outputs": [
    {
     "name": "stdout",
     "output_type": "stream",
     "text": [
      "[[ 5  1  2  3]\n",
      " [ 9  6  8 10]\n",
      " [17 -3 18 21]]\n"
     ]
    }
   ],
   "source": [
    "# Para cada columna, en cada posición suma los elementos anteriores\n",
    "print(arr2.cumsum(axis=0))"
   ]
  },
  {
   "cell_type": "code",
   "execution_count": 51,
   "metadata": {
    "autoscroll": false,
    "ein.hycell": false,
    "ein.tags": "worksheet-0",
    "slideshow": {
     "slide_type": "-"
    }
   },
   "outputs": [
    {
     "name": "stdout",
     "output_type": "stream",
     "text": [
      "[[ 5  6  8 11]\n",
      " [ 4  9 15 22]\n",
      " [ 8 -1  9 20]]\n"
     ]
    }
   ],
   "source": [
    "# En cada fila, el valor es la suma de todos los elementos anteriores de la fila\n",
    "print(arr2.cumsum(axis=1))"
   ]
  },
  {
   "cell_type": "code",
   "execution_count": 52,
   "metadata": {
    "autoscroll": false,
    "ein.hycell": false,
    "ein.tags": "worksheet-0",
    "slideshow": {
     "slide_type": "-"
    }
   },
   "outputs": [
    {
     "name": "stdout",
     "output_type": "stream",
     "text": [
      "[[  5   1   2   3]\n",
      " [ 20   5  12  21]\n",
      " [160 -45 120 231]]\n"
     ]
    }
   ],
   "source": [
    "# Igual que antes pero con el producto\n",
    "print(arr2.cumprod(axis=0))"
   ]
  },
  {
   "cell_type": "markdown",
   "metadata": {
    "ein.tags": "worksheet-0",
    "slideshow": {
     "slide_type": "-"
    }
   },
   "source": [
    "La función trapz evalúa la integral a lo largo de un eje, usando la regla de los trapecios (la misma que nosotros programamos en un ejercicio)"
   ]
  },
  {
   "cell_type": "code",
   "execution_count": 53,
   "metadata": {
    "autoscroll": false,
    "ein.hycell": false,
    "ein.tags": "worksheet-0",
    "slideshow": {
     "slide_type": "-"
    }
   },
   "outputs": [
    {
     "name": "stdout",
     "output_type": "stream",
     "text": [
      "[10.5  1.  12.  14. ]\n",
      "[ 7.  16.5 10.5]\n"
     ]
    }
   ],
   "source": [
    "print(np.trapz(arr2,axis=0))\n",
    "print(np.trapz(arr2,axis=1))"
   ]
  },
  {
   "cell_type": "code",
   "execution_count": 54,
   "metadata": {
    "autoscroll": false,
    "ein.hycell": false,
    "ein.tags": "worksheet-0",
    "slideshow": {
     "slide_type": "-"
    }
   },
   "outputs": [
    {
     "name": "stdout",
     "output_type": "stream",
     "text": [
      "[ 7.  16.5 10.5]\n"
     ]
    }
   ],
   "source": [
    "# el valor por default de axis es -1\n",
    "print(np.trapz(arr2))"
   ]
  },
  {
   "cell_type": "markdown",
   "metadata": {
    "ein.tags": "worksheet-0",
    "slideshow": {
     "slide_type": "-"
    }
   },
   "source": [
    "### nonzero\n",
    "\n",
    "Devuelve una *tupla* de arrays, una por dimensión, que contiene los índices de los elementos no nulos"
   ]
  },
  {
   "cell_type": "code",
   "execution_count": 55,
   "metadata": {
    "autoscroll": false,
    "ein.hycell": false,
    "ein.tags": "worksheet-0",
    "slideshow": {
     "slide_type": "-"
    }
   },
   "outputs": [
    {
     "data": {
      "text/plain": [
       "array([[ 5,  1,  2,  3],\n",
       "       [ 0,  0,  6,  7],\n",
       "       [ 8, -9,  0,  0]])"
      ]
     },
     "execution_count": 55,
     "metadata": {},
     "output_type": "execute_result"
    }
   ],
   "source": [
    "# El método copy() crea un nuevo array con los mismos valores que el original\n",
    "arr4 = arr2.copy()\n",
    "arr4[1,:2] = arr4[2,2:] = 0\n",
    "arr4"
   ]
  },
  {
   "cell_type": "code",
   "execution_count": 56,
   "metadata": {
    "autoscroll": false,
    "ein.hycell": false,
    "ein.tags": "worksheet-0",
    "slideshow": {
     "slide_type": "-"
    }
   },
   "outputs": [
    {
     "data": {
      "text/plain": [
       "array([[ 5,  1,  2,  3],\n",
       "       [ 4,  5,  6,  7],\n",
       "       [ 8, -9, 10, 11]])"
      ]
     },
     "execution_count": 56,
     "metadata": {},
     "output_type": "execute_result"
    }
   ],
   "source": [
    "# Vemos que arr2 no se modifica al modificar arr4.\n",
    "arr2"
   ]
  },
  {
   "cell_type": "code",
   "execution_count": 57,
   "metadata": {
    "autoscroll": false,
    "ein.hycell": false,
    "ein.tags": "worksheet-0",
    "slideshow": {
     "slide_type": "-"
    }
   },
   "outputs": [
    {
     "data": {
      "text/plain": [
       "(array([0, 0, 0, 0, 1, 1, 2, 2]), array([0, 1, 2, 3, 2, 3, 0, 1]))"
      ]
     },
     "execution_count": 57,
     "metadata": {},
     "output_type": "execute_result"
    }
   ],
   "source": [
    "np.nonzero(arr4)"
   ]
  },
  {
   "cell_type": "code",
   "execution_count": 58,
   "metadata": {
    "autoscroll": false,
    "ein.hycell": false,
    "ein.tags": "worksheet-0",
    "slideshow": {
     "slide_type": "-"
    }
   },
   "outputs": [
    {
     "data": {
      "text/plain": [
       "array([[0, 0],\n",
       "       [0, 1],\n",
       "       [0, 2],\n",
       "       [0, 3],\n",
       "       [1, 2],\n",
       "       [1, 3],\n",
       "       [2, 0],\n",
       "       [2, 1]])"
      ]
     },
     "execution_count": 58,
     "metadata": {},
     "output_type": "execute_result"
    }
   ],
   "source": [
    "np.transpose(arr4.nonzero())"
   ]
  },
  {
   "cell_type": "code",
   "execution_count": 59,
   "metadata": {
    "autoscroll": false,
    "ein.hycell": false,
    "ein.tags": "worksheet-0",
    "slideshow": {
     "slide_type": "-"
    }
   },
   "outputs": [
    {
     "data": {
      "text/plain": [
       "array([ 5,  1,  2,  3,  6,  7,  8, -9])"
      ]
     },
     "execution_count": 59,
     "metadata": {},
     "output_type": "execute_result"
    }
   ],
   "source": [
    "arr4[arr4.nonzero()]"
   ]
  },
  {
   "cell_type": "markdown",
   "metadata": {
    "ein.tags": "worksheet-0",
    "slideshow": {
     "slide_type": "-"
    }
   },
   "source": [
    "## Convertir un array a unidimensional (ravel)\n"
   ]
  },
  {
   "cell_type": "code",
   "execution_count": 60,
   "metadata": {
    "autoscroll": false,
    "ein.hycell": false,
    "ein.tags": "worksheet-0",
    "slideshow": {
     "slide_type": "-"
    }
   },
   "outputs": [],
   "source": [
    "a = np.array([[1,2],[3,4]])"
   ]
  },
  {
   "cell_type": "code",
   "execution_count": 61,
   "metadata": {
    "autoscroll": false,
    "ein.hycell": false,
    "ein.tags": "worksheet-0",
    "slideshow": {
     "slide_type": "-"
    }
   },
   "outputs": [
    {
     "name": "stdout",
     "output_type": "stream",
     "text": [
      "[[1 2]\n",
      " [3 4]]\n"
     ]
    }
   ],
   "source": [
    "print(a)"
   ]
  },
  {
   "cell_type": "code",
   "execution_count": 62,
   "metadata": {
    "autoscroll": false,
    "ein.hycell": false,
    "ein.tags": "worksheet-0",
    "slideshow": {
     "slide_type": "-"
    }
   },
   "outputs": [],
   "source": [
    "b= np.ravel(a)"
   ]
  },
  {
   "cell_type": "code",
   "execution_count": 63,
   "metadata": {
    "autoscroll": false,
    "ein.hycell": false,
    "ein.tags": "worksheet-0",
    "slideshow": {
     "slide_type": "-"
    }
   },
   "outputs": [
    {
     "name": "stdout",
     "output_type": "stream",
     "text": [
      "(2, 2) (4,)\n",
      "[1 2 3 4]\n"
     ]
    }
   ],
   "source": [
    "print(a.shape, b.shape)\n",
    "print(b)"
   ]
  },
  {
   "cell_type": "code",
   "execution_count": 64,
   "metadata": {
    "autoscroll": false,
    "ein.hycell": false,
    "ein.tags": "worksheet-0",
    "slideshow": {
     "slide_type": "-"
    }
   },
   "outputs": [
    {
     "data": {
      "text/plain": [
       "True"
      ]
     },
     "execution_count": 64,
     "metadata": {},
     "output_type": "execute_result"
    }
   ],
   "source": [
    "b.base  is a"
   ]
  },
  {
   "cell_type": "markdown",
   "metadata": {
    "ein.tags": "worksheet-0",
    "slideshow": {
     "slide_type": "-"
    }
   },
   "source": [
    "`ravel` tiene un argumento opcional 'order'"
   ]
  },
  {
   "cell_type": "code",
   "execution_count": 65,
   "metadata": {
    "autoscroll": false,
    "ein.hycell": false,
    "ein.tags": "worksheet-0",
    "slideshow": {
     "slide_type": "-"
    }
   },
   "outputs": [
    {
     "data": {
      "text/plain": [
       "array([1, 2, 3, 4])"
      ]
     },
     "execution_count": 65,
     "metadata": {},
     "output_type": "execute_result"
    }
   ],
   "source": [
    "np.ravel(a, order='C')          # order='C' es el default "
   ]
  },
  {
   "cell_type": "code",
   "execution_count": 66,
   "metadata": {
    "autoscroll": false,
    "ein.hycell": false,
    "ein.tags": "worksheet-0",
    "slideshow": {
     "slide_type": "-"
    }
   },
   "outputs": [
    {
     "data": {
      "text/plain": [
       "array([1, 3, 2, 4])"
      ]
     },
     "execution_count": 66,
     "metadata": {},
     "output_type": "execute_result"
    }
   ],
   "source": [
    "np.ravel(a, order='F')"
   ]
  },
  {
   "cell_type": "markdown",
   "metadata": {
    "ein.tags": "worksheet-0",
    "slideshow": {
     "slide_type": "-"
    }
   },
   "source": [
    "El método `flatten` hace algo muy parecido a `ravel`, la diferencia es que `flatten` siempre crea una nueva copia del array, mientras que `ravel` puede devolver una nueva vista del mismo array."
   ]
  },
  {
   "cell_type": "code",
   "execution_count": 67,
   "metadata": {
    "autoscroll": false,
    "ein.hycell": false,
    "ein.tags": "worksheet-0",
    "slideshow": {
     "slide_type": "-"
    }
   },
   "outputs": [
    {
     "data": {
      "text/plain": [
       "array([1, 2, 3, 4])"
      ]
     },
     "execution_count": 67,
     "metadata": {},
     "output_type": "execute_result"
    }
   ],
   "source": [
    "a.flatten()"
   ]
  },
  {
   "cell_type": "markdown",
   "metadata": {
    "ein.tags": "worksheet-0",
    "slideshow": {
     "slide_type": "-"
    }
   },
   "source": [
    "## Ejercicios 10 (a)\n",
    "\n",
    "1. Dado un array `a` de números, creado por ejemplo usando:\n",
    "   ```python\n",
    "   a = np.random.uniform(size=100)\n",
    "   ```\n",
    "   Encontrar el número más cercano a un número escalar dado (por ejemplo x=0.5). Utilice los métodos discutidos."
   ]
  },
  {
   "cell_type": "markdown",
   "metadata": {
    "ein.tags": "worksheet-0",
    "slideshow": {
     "slide_type": "-"
    }
   },
   "source": [
    "## Copias de arrays y vistas\n",
    "\n",
    "Para poder controlar el uso de memoria y su optimización, **Numpy** no siempre crea un nuevo vector al realizar operaciones. Por ejemplo cuando seleccionamos una parte de un array usando la notación con \":\" (*slicing*) devuelve algo que parece un nuevo array pero que en realidad es una nueva vista del mismo array. Lo mismo ocurre con el método `reshape`"
   ]
  },
  {
   "cell_type": "code",
   "execution_count": 68,
   "metadata": {
    "autoscroll": false,
    "ein.hycell": false,
    "ein.tags": "worksheet-0",
    "slideshow": {
     "slide_type": "-"
    }
   },
   "outputs": [
    {
     "name": "stdout",
     "output_type": "stream",
     "text": [
      "[ 1.  2.  3.  4.  5.  6.  7.  8.  9. 10. 11. 12. 13. 14. 15. 16. 17. 18.\n",
      " 19. 20. 21. 22. 23. 24.]\n"
     ]
    }
   ],
   "source": [
    "x0 = np.linspace(1,24,24)\n",
    "print(x0)"
   ]
  },
  {
   "cell_type": "code",
   "execution_count": 69,
   "metadata": {
    "autoscroll": false,
    "ein.hycell": false,
    "ein.tags": "worksheet-0",
    "slideshow": {
     "slide_type": "-"
    }
   },
   "outputs": [
    {
     "name": "stdout",
     "output_type": "stream",
     "text": [
      "[ 1.  3.  5.  7.  9. 11. 13. 15. 17. 19. 21. 23.]\n"
     ]
    }
   ],
   "source": [
    "y0 = x0[::2]\n",
    "print(y0)"
   ]
  },
  {
   "cell_type": "markdown",
   "metadata": {
    "ein.tags": "worksheet-0",
    "slideshow": {
     "slide_type": "-"
    }
   },
   "source": [
    "El método `base` nos da acceso al objeto que tiene los datos. Por ejemplo, en este caso\n"
   ]
  },
  {
   "cell_type": "code",
   "execution_count": 70,
   "metadata": {
    "autoscroll": false,
    "ein.hycell": false,
    "ein.tags": "worksheet-0",
    "slideshow": {
     "slide_type": "-"
    }
   },
   "outputs": [
    {
     "name": "stdout",
     "output_type": "stream",
     "text": [
      "[ 1.  2.  3.  4.  5.  6.  7.  8.  9. 10. 11. 12. 13. 14. 15. 16. 17. 18.\n",
      " 19. 20. 21. 22. 23. 24.]\n"
     ]
    }
   ],
   "source": [
    "print(x0.base)"
   ]
  },
  {
   "cell_type": "code",
   "execution_count": 71,
   "metadata": {
    "autoscroll": false,
    "ein.hycell": false,
    "ein.tags": "worksheet-0",
    "slideshow": {
     "slide_type": "-"
    }
   },
   "outputs": [
    {
     "name": "stdout",
     "output_type": "stream",
     "text": [
      "[ 1.  2.  3.  4.  5.  6.  7.  8.  9. 10. 11. 12. 13. 14. 15. 16. 17. 18.\n",
      " 19. 20. 21. 22. 23. 24.]\n"
     ]
    }
   ],
   "source": [
    "print(y0.base)"
   ]
  },
  {
   "cell_type": "code",
   "execution_count": 72,
   "metadata": {
    "autoscroll": false,
    "ein.hycell": false,
    "ein.tags": "worksheet-0",
    "slideshow": {
     "slide_type": "-"
    }
   },
   "outputs": [
    {
     "data": {
      "text/plain": [
       "True"
      ]
     },
     "execution_count": 72,
     "metadata": {},
     "output_type": "execute_result"
    }
   ],
   "source": [
    "y0.base is x0.base"
   ]
  },
  {
   "cell_type": "code",
   "execution_count": 73,
   "metadata": {
    "autoscroll": false,
    "ein.hycell": false,
    "ein.tags": "worksheet-0",
    "slideshow": {
     "slide_type": "-"
    }
   },
   "outputs": [
    {
     "data": {
      "text/plain": [
       "(numpy.ndarray, numpy.ndarray)"
      ]
     },
     "execution_count": 73,
     "metadata": {},
     "output_type": "execute_result"
    }
   ],
   "source": [
    "type(x0), type(y0)"
   ]
  },
  {
   "cell_type": "code",
   "execution_count": 74,
   "metadata": {
    "autoscroll": false,
    "ein.hycell": false,
    "ein.tags": "worksheet-0",
    "slideshow": {
     "slide_type": "-"
    }
   },
   "outputs": [
    {
     "data": {
      "text/plain": [
       "(12, 24)"
      ]
     },
     "execution_count": 74,
     "metadata": {},
     "output_type": "execute_result"
    }
   ],
   "source": [
    "y0.size, x0.size"
   ]
  },
  {
   "cell_type": "code",
   "execution_count": 75,
   "metadata": {
    "autoscroll": false,
    "ein.hycell": false,
    "ein.tags": "worksheet-0",
    "slideshow": {
     "slide_type": "-"
    }
   },
   "outputs": [
    {
     "name": "stdout",
     "output_type": "stream",
     "text": [
      "[ 1.  2. -1.  4.  5.  6.  7.  8.  9. 10. 11. 12. 13. 14. 15. 16. 17. 18.\n",
      " 19. 20. 21. 22. 23. 24.]\n"
     ]
    }
   ],
   "source": [
    "y0[1] = -1\n",
    "print(x0)"
   ]
  },
  {
   "cell_type": "markdown",
   "metadata": {
    "ein.tags": "worksheet-0",
    "slideshow": {
     "slide_type": "-"
    }
   },
   "source": [
    "En este ejemplo, el array `y0` está basado en `x0`, o --lo que es lo mismo-- el objeto base de `y0` es `x0`. Por lo tanto, al modificar uno, se modifica el otro.\n",
    "\n",
    "Las funciones `reshape` y `transpose` también devuelven **vistas** del array original en lugar de una nueva copia"
   ]
  },
  {
   "cell_type": "code",
   "execution_count": 76,
   "metadata": {
    "autoscroll": false,
    "ein.hycell": false,
    "ein.tags": "worksheet-0",
    "slideshow": {
     "slide_type": "-"
    }
   },
   "outputs": [
    {
     "name": "stdout",
     "output_type": "stream",
     "text": [
      "[ 1.  2.  3.  4.  5.  6.  7.  8.  9. 10. 11. 12. 13. 14. 15. 16. 17. 18.\n",
      " 19. 20. 21. 22. 23. 24.]\n"
     ]
    }
   ],
   "source": [
    "x0 = np.linspace(1,24,24)\n",
    "print(x0)\n",
    "x1 = x0.reshape(6,-1)"
   ]
  },
  {
   "cell_type": "code",
   "execution_count": 77,
   "metadata": {
    "autoscroll": false,
    "ein.hycell": false,
    "ein.tags": "worksheet-0",
    "slideshow": {
     "slide_type": "-"
    }
   },
   "outputs": [
    {
     "name": "stdout",
     "output_type": "stream",
     "text": [
      "[[ 1.  2.  3.  4.]\n",
      " [ 5.  6.  7.  8.]\n",
      " [ 9. 10. 11. 12.]\n",
      " [13. 14. 15. 16.]\n",
      " [17. 18. 19. 20.]\n",
      " [21. 22. 23. 24.]]\n"
     ]
    }
   ],
   "source": [
    "print(x1)"
   ]
  },
  {
   "cell_type": "code",
   "execution_count": 78,
   "metadata": {
    "autoscroll": false,
    "ein.hycell": false,
    "ein.tags": "worksheet-0",
    "slideshow": {
     "slide_type": "-"
    }
   },
   "outputs": [
    {
     "name": "stdout",
     "output_type": "stream",
     "text": [
      "True\n"
     ]
    }
   ],
   "source": [
    "print(x1.base is x0.base)"
   ]
  },
  {
   "cell_type": "code",
   "execution_count": 79,
   "metadata": {
    "autoscroll": false,
    "ein.hycell": false,
    "ein.tags": "worksheet-0",
    "slideshow": {
     "slide_type": "-"
    }
   },
   "outputs": [
    {
     "name": "stdout",
     "output_type": "stream",
     "text": [
      "True\n"
     ]
    }
   ],
   "source": [
    "x2 = x1.transpose()\n",
    "print(x2.base is x0.base)"
   ]
  },
  {
   "cell_type": "code",
   "execution_count": 80,
   "metadata": {},
   "outputs": [
    {
     "data": {
      "text/plain": [
       "array([[ 1.,  5.,  9., 13., 17., 21.],\n",
       "       [ 2.,  6., 10., 14., 18., 22.],\n",
       "       [ 3.,  7., 11., 15., 19., 23.],\n",
       "       [ 4.,  8., 12., 16., 20., 24.]])"
      ]
     },
     "execution_count": 80,
     "metadata": {},
     "output_type": "execute_result"
    }
   ],
   "source": [
    "x2"
   ]
  },
  {
   "cell_type": "markdown",
   "metadata": {
    "ein.tags": "worksheet-0",
    "slideshow": {
     "slide_type": "-"
    }
   },
   "source": [
    "Las \"vistas\" son referencias al mismo conjunto de datos, pero la información respecto al objeto puede ser diferente. Por ejemplo en el anterior `x0`, `x1` y `x` son diferentes objetos pero con los mismos datos (no sólo iguales)"
   ]
  },
  {
   "cell_type": "code",
   "execution_count": 81,
   "metadata": {
    "autoscroll": false,
    "ein.hycell": false,
    "ein.tags": "worksheet-0",
    "slideshow": {
     "slide_type": "-"
    }
   },
   "outputs": [
    {
     "name": "stdout",
     "output_type": "stream",
     "text": [
      "True\n",
      "True\n",
      "(24,) (8,) float64\n",
      "(6, 4) (32, 8) float64\n",
      "(4, 6) (8, 32) float64\n"
     ]
    }
   ],
   "source": [
    "print(x1.base is x0.base)\n",
    "print(x2.base is x0.base)\n",
    "print(x0.shape, x0.strides, x0.dtype)\n",
    "print(x1.shape, x1.strides, x1.dtype)\n",
    "print(x2.shape, x2.strides, x2.dtype)"
   ]
  },
  {
   "cell_type": "markdown",
   "metadata": {
    "ein.tags": "worksheet-0",
    "slideshow": {
     "slide_type": "-"
    }
   },
   "source": [
    "Los datos en los tres objetos están compartidos:"
   ]
  },
  {
   "cell_type": "code",
   "execution_count": 82,
   "metadata": {
    "autoscroll": false,
    "ein.hycell": false,
    "ein.tags": "worksheet-0",
    "slideshow": {
     "slide_type": "-"
    }
   },
   "outputs": [
    {
     "name": "stdout",
     "output_type": "stream",
     "text": [
      "original\n",
      "x2 = [[ 1.  5.  9. 13. 17. 21.]\n",
      " [ 2.  6. 10. 14. 18. 22.]\n",
      " [ 3.  7. 11. 15. 19. 23.]\n",
      " [ 4.  8. 12. 16. 20. 24.]]\n",
      "x0 = [ 1.  2.  3.  4.  5.  6.  7.  8.  9. 10. 11. 12. 13. 14. 15. 16. 17. 18.\n",
      " 19. 20. 21. 22. 23. -1.]\n"
     ]
    }
   ],
   "source": [
    "print('original')\n",
    "print('x2 =',x2)\n",
    "x0[-1] =-1\n",
    "print('x0 =',x0)"
   ]
  },
  {
   "cell_type": "code",
   "execution_count": 83,
   "metadata": {
    "autoscroll": false,
    "ein.hycell": false,
    "ein.tags": "worksheet-0",
    "slideshow": {
     "slide_type": "-"
    }
   },
   "outputs": [
    {
     "name": "stdout",
     "output_type": "stream",
     "text": [
      "cambiado\n",
      "x2 = [[ 1.  5.  9. 13. 17. 21.]\n",
      " [ 2.  6. 10. 14. 18. 22.]\n",
      " [ 3.  7. 11. 15. 19. 23.]\n",
      " [ 4.  8. 12. 16. 20. -1.]]\n"
     ]
    }
   ],
   "source": [
    "print('cambiado')\n",
    "print('x2 =',x2)"
   ]
  },
  {
   "cell_type": "code",
   "execution_count": 84,
   "metadata": {
    "autoscroll": false,
    "ein.hycell": false,
    "ein.tags": "worksheet-0",
    "slideshow": {
     "slide_type": "-"
    }
   },
   "outputs": [
    {
     "name": "stdout",
     "output_type": "stream",
     "text": [
      "x1 = [[ 1.  2.  3.  4.]\n",
      " [ 5.  6.  7.  8.]\n",
      " [ 9. 10. 11. 12.]\n",
      " [13. 14. 15. 16.]\n",
      " [17. 18. 19. 20.]\n",
      " [21. 22. 23. -1.]]\n"
     ]
    }
   ],
   "source": [
    "print('x1 =',x1)"
   ]
  },
  {
   "cell_type": "markdown",
   "metadata": {
    "ein.tags": "worksheet-0",
    "slideshow": {
     "slide_type": "-"
    }
   },
   "source": [
    "## Indexado avanzado \n"
   ]
  },
  {
   "cell_type": "markdown",
   "metadata": {
    "ein.tags": "worksheet-0",
    "slideshow": {
     "slide_type": "-"
    }
   },
   "source": [
    "### Indexado con secuencias de índices\n",
    "\n",
    "Consideremos un vector simple, y elijamos algunos de sus elementos"
   ]
  },
  {
   "cell_type": "code",
   "execution_count": 85,
   "metadata": {
    "autoscroll": false,
    "ein.hycell": false,
    "ein.tags": "worksheet-0",
    "slideshow": {
     "slide_type": "-"
    }
   },
   "outputs": [
    {
     "data": {
      "text/plain": [
       "array([0. , 0.5, 1. , 1.5, 2. , 2.5, 3. ])"
      ]
     },
     "execution_count": 85,
     "metadata": {},
     "output_type": "execute_result"
    }
   ],
   "source": [
    "x = np.linspace(0,3,7)\n",
    "x"
   ]
  },
  {
   "cell_type": "code",
   "execution_count": 86,
   "metadata": {
    "autoscroll": false,
    "ein.hycell": false,
    "ein.tags": "worksheet-0",
    "slideshow": {
     "slide_type": "-"
    }
   },
   "outputs": [
    {
     "data": {
      "text/plain": [
       "array([0.5, 1.5, 2.5])"
      ]
     },
     "execution_count": 86,
     "metadata": {},
     "output_type": "execute_result"
    }
   ],
   "source": [
    "# Standard slicing\n",
    "v1=x[1::2]\n",
    "v1"
   ]
  },
  {
   "cell_type": "markdown",
   "metadata": {
    "ein.tags": "worksheet-0",
    "slideshow": {
     "slide_type": "-"
    }
   },
   "source": [
    "Esta es la manera simple de seleccionar elementos de un array, y como vimos lo que se obtiene es una vista del mismo array. **Numpy** permite además seleccionar partes de un array usando otro array de índices:"
   ]
  },
  {
   "cell_type": "code",
   "execution_count": 87,
   "metadata": {
    "autoscroll": false,
    "ein.hycell": false,
    "ein.tags": "worksheet-0",
    "slideshow": {
     "slide_type": "-"
    }
   },
   "outputs": [],
   "source": [
    "# Array Slicing con índices ind\n",
    "i1 = np.array([1,3,-1,0])   \n",
    "v2 = x[i1]"
   ]
  },
  {
   "cell_type": "code",
   "execution_count": 88,
   "metadata": {
    "autoscroll": false,
    "ein.hycell": false,
    "ein.tags": "worksheet-0",
    "slideshow": {
     "slide_type": "-"
    }
   },
   "outputs": [
    {
     "name": "stdout",
     "output_type": "stream",
     "text": [
      "[0.  0.5 1.  1.5 2.  2.5 3. ]\n",
      "[0.5 1.5 3.  0. ]\n"
     ]
    }
   ],
   "source": [
    "print(x)\n",
    "print(x[i1])"
   ]
  },
  {
   "cell_type": "code",
   "execution_count": 89,
   "metadata": {
    "autoscroll": false,
    "ein.hycell": false,
    "ein.tags": "worksheet-0",
    "slideshow": {
     "slide_type": "-"
    }
   },
   "outputs": [
    {
     "name": "stdout",
     "output_type": "stream",
     "text": [
      "True\n",
      "False\n"
     ]
    }
   ],
   "source": [
    "print(v1.base is x.base)\n",
    "print(v2.base is x.base)"
   ]
  },
  {
   "cell_type": "code",
   "execution_count": 90,
   "metadata": {
    "autoscroll": false,
    "ein.hycell": false,
    "ein.tags": "worksheet-0",
    "slideshow": {
     "slide_type": "-"
    }
   },
   "outputs": [
    {
     "data": {
      "text/plain": [
       "array([0.5, 1. , 3. ])"
      ]
     },
     "execution_count": 90,
     "metadata": {},
     "output_type": "execute_result"
    }
   ],
   "source": [
    "x[[1,2,-1]]"
   ]
  },
  {
   "cell_type": "markdown",
   "metadata": {
    "ein.tags": "worksheet-0",
    "slideshow": {
     "slide_type": "-"
    }
   },
   "source": [
    "Los índices negativos funcionan en exactamente la misma manera que en el caso simple. \n",
    "\n",
    "Es importante notar que cuando se usan arrays índices, lo que se obtiene es un nuevo array (no una vista), y este nuevo array tiene las dimensiones (`shape`) del array de índices"
   ]
  },
  {
   "cell_type": "code",
   "execution_count": 91,
   "metadata": {
    "autoscroll": false,
    "ein.hycell": false,
    "ein.tags": "worksheet-0",
    "slideshow": {
     "slide_type": "-"
    }
   },
   "outputs": [
    {
     "name": "stdout",
     "output_type": "stream",
     "text": [
      "[[0.5 0. ]\n",
      " [1.  0.5]]\n",
      "x  shape: (7,)\n",
      "v3 shape: (2, 2)\n"
     ]
    }
   ],
   "source": [
    "i2 = np.array([[1,0],[2,1]])\n",
    "v3= x[i2]\n",
    "print(v3)\n",
    "print('x  shape:', x.shape)\n",
    "print('v3 shape:', v3.shape)"
   ]
  },
  {
   "cell_type": "markdown",
   "metadata": {
    "ein.tags": "worksheet-0",
    "slideshow": {
     "slide_type": "-"
    }
   },
   "source": [
    "### Índices de arrays multidimensionales"
   ]
  },
  {
   "cell_type": "code",
   "execution_count": 92,
   "metadata": {
    "autoscroll": false,
    "ein.hycell": false,
    "ein.tags": "worksheet-0",
    "slideshow": {
     "slide_type": "-"
    }
   },
   "outputs": [
    {
     "data": {
      "text/plain": [
       "array([[12.5, 11.5, 10.5,  9.5],\n",
       "       [ 8.5,  7.5,  6.5,  5.5],\n",
       "       [ 4.5,  3.5,  2.5,  1.5]])"
      ]
     },
     "execution_count": 92,
     "metadata": {},
     "output_type": "execute_result"
    }
   ],
   "source": [
    "y = np.arange(12,0,-1).reshape(3,4)+0.5\n",
    "y"
   ]
  },
  {
   "cell_type": "code",
   "execution_count": 93,
   "metadata": {
    "autoscroll": false,
    "ein.hycell": false,
    "ein.tags": "worksheet-0",
    "slideshow": {
     "slide_type": "-"
    }
   },
   "outputs": [
    {
     "name": "stdout",
     "output_type": "stream",
     "text": [
      "[12.5 11.5 10.5  9.5]\n",
      "[4.5 3.5 2.5 1.5]\n"
     ]
    }
   ],
   "source": [
    "print(y[0])                     # Primera fila\n",
    "print(y[2])                     # Última fila\n"
   ]
  },
  {
   "cell_type": "code",
   "execution_count": 94,
   "metadata": {
    "autoscroll": false,
    "ein.hycell": false,
    "ein.tags": "worksheet-0",
    "slideshow": {
     "slide_type": "-"
    }
   },
   "outputs": [
    {
     "name": "stdout",
     "output_type": "stream",
     "text": [
      "[[12.5 11.5 10.5  9.5]\n",
      " [ 4.5  3.5  2.5  1.5]]\n"
     ]
    }
   ],
   "source": [
    "i = np.array([0,2])\n",
    "print(y[i])       # Primera y última fila"
   ]
  },
  {
   "cell_type": "markdown",
   "metadata": {
    "ein.tags": "worksheet-0",
    "slideshow": {
     "slide_type": "-"
    }
   },
   "source": [
    "Si usamos más de un array de índices para seleccionar elementos de un array multidimensional, cada array de índices se refiere a una dimensión diferente. Consideremos el array `y`"
   ]
  },
  {
   "cell_type": "code",
   "execution_count": 95,
   "metadata": {
    "autoscroll": false,
    "ein.hycell": false,
    "ein.tags": "worksheet-0",
    "slideshow": {
     "slide_type": "-"
    }
   },
   "outputs": [
    {
     "name": "stdout",
     "output_type": "stream",
     "text": [
      "[[12.5 11.5 10.5  9.5]\n",
      " [ 8.5  7.5  6.5  5.5]\n",
      " [ 4.5  3.5  2.5  1.5]]\n"
     ]
    }
   ],
   "source": [
    "print(y)"
   ]
  },
  {
   "cell_type": "markdown",
   "metadata": {
    "ein.tags": "worksheet-0",
    "slideshow": {
     "slide_type": "-"
    }
   },
   "source": [
    "![](figuras/adv_index.png)\n",
    "Si queremos elegir los elementos en los lugares `[0,1], [1,2], [0,3], [1,1]` (en ese orden) \n",
    "podemos crear dos array de índices con los valores correspondientes a cada dimensión"
   ]
  },
  {
   "cell_type": "code",
   "execution_count": 96,
   "metadata": {
    "autoscroll": false,
    "ein.hycell": false,
    "ein.tags": "worksheet-0",
    "slideshow": {
     "slide_type": "-"
    }
   },
   "outputs": [
    {
     "name": "stdout",
     "output_type": "stream",
     "text": [
      "[11.5  6.5  9.5  7.5]\n"
     ]
    }
   ],
   "source": [
    "i = np.array([0,1,0,1])\n",
    "j = np.array([1,2,3,1])\n",
    "print(y[i,j])"
   ]
  },
  {
   "cell_type": "markdown",
   "metadata": {
    "ein.tags": "worksheet-0",
    "slideshow": {
     "slide_type": "-"
    }
   },
   "source": [
    "### Indexado con condiciones\n",
    "\n",
    "Además de usar notación de *slices*, e índices también podemos seleccionar partes de arrays usando una matriz de condiciones. Primero creamos una matriz de coniciones `c`"
   ]
  },
  {
   "cell_type": "code",
   "execution_count": 97,
   "metadata": {
    "autoscroll": false,
    "ein.hycell": false,
    "ein.tags": "worksheet-0",
    "slideshow": {
     "slide_type": "-"
    }
   },
   "outputs": [
    {
     "name": "stdout",
     "output_type": "stream",
     "text": [
      "[[False False False False]\n",
      " [False False False False]\n",
      " [False False False False]]\n"
     ]
    }
   ],
   "source": [
    "c = False*np.empty((3,4), dtype='bool')\n",
    "print(c)"
   ]
  },
  {
   "cell_type": "code",
   "execution_count": 98,
   "metadata": {
    "autoscroll": false,
    "ein.hycell": false,
    "ein.tags": "worksheet-0",
    "slideshow": {
     "slide_type": "-"
    }
   },
   "outputs": [
    {
     "data": {
      "text/plain": [
       "array([[0., 0., 0., 0.],\n",
       "       [0., 0., 0., 0.],\n",
       "       [0., 0., 0., 0.]])"
      ]
     },
     "execution_count": 98,
     "metadata": {},
     "output_type": "execute_result"
    }
   ],
   "source": [
    "False*np.empty((3,4))"
   ]
  },
  {
   "cell_type": "code",
   "execution_count": 99,
   "metadata": {
    "autoscroll": false,
    "ein.hycell": false,
    "ein.tags": "worksheet-0",
    "slideshow": {
     "slide_type": "-"
    }
   },
   "outputs": [
    {
     "name": "stdout",
     "output_type": "stream",
     "text": [
      "[[False  True False  True]\n",
      " [False  True  True False]\n",
      " [False False False False]]\n"
     ]
    }
   ],
   "source": [
    "c[i,j]= True                    # Aplico la notación de índice avanzado\n",
    "print(c)"
   ]
  },
  {
   "cell_type": "markdown",
   "metadata": {
    "ein.tags": "worksheet-0",
    "slideshow": {
     "slide_type": "-"
    }
   },
   "source": [
    "Como vemos, `c` es una matriz con la misma forma que `y`. Esto permite seleccionar los valores donde el array de condiciones es verdadero:"
   ]
  },
  {
   "cell_type": "code",
   "execution_count": 100,
   "metadata": {
    "autoscroll": false,
    "ein.hycell": false,
    "ein.tags": "worksheet-0",
    "slideshow": {
     "slide_type": "-"
    }
   },
   "outputs": [
    {
     "data": {
      "text/plain": [
       "array([11.5,  9.5,  7.5,  6.5])"
      ]
     },
     "execution_count": 100,
     "metadata": {},
     "output_type": "execute_result"
    }
   ],
   "source": [
    "y[c]"
   ]
  },
  {
   "cell_type": "markdown",
   "metadata": {
    "ein.tags": "worksheet-0",
    "slideshow": {
     "slide_type": "-"
    }
   },
   "source": [
    "Esta es una notación  potente. Por ejemplo, si en el array anterior queremos seleccionar todos los valores que sobrepasan cierto umbral (por ejemplo, los valores mayores a 7)"
   ]
  },
  {
   "cell_type": "code",
   "execution_count": 101,
   "metadata": {
    "autoscroll": false,
    "ein.hycell": false,
    "ein.tags": "worksheet-0",
    "slideshow": {
     "slide_type": "-"
    }
   },
   "outputs": [
    {
     "name": "stdout",
     "output_type": "stream",
     "text": [
      "[[12.5 11.5 10.5  9.5]\n",
      " [ 8.5  7.5  6.5  5.5]\n",
      " [ 4.5  3.5  2.5  1.5]]\n",
      "[[ True  True  True  True]\n",
      " [ True  True False False]\n",
      " [False False False False]]\n"
     ]
    }
   ],
   "source": [
    "print(y)\n",
    "c1 = (y > 7)\n",
    "print(c1)"
   ]
  },
  {
   "cell_type": "markdown",
   "metadata": {
    "ein.tags": "worksheet-0",
    "slideshow": {
     "slide_type": "-"
    }
   },
   "source": [
    "El resultado de una comparación es un array donde cada elemento es un variable lógica (`True` o `False`). Podemos utilizarlo para seleccionar los valores que cumplen la condición dada. Por ejemplo"
   ]
  },
  {
   "cell_type": "code",
   "execution_count": 102,
   "metadata": {
    "autoscroll": false,
    "ein.hycell": false,
    "ein.tags": "worksheet-0",
    "slideshow": {
     "slide_type": "-"
    }
   },
   "outputs": [
    {
     "data": {
      "text/plain": [
       "array([12.5, 11.5, 10.5,  9.5,  8.5,  7.5])"
      ]
     },
     "execution_count": 102,
     "metadata": {},
     "output_type": "execute_result"
    }
   ],
   "source": [
    "y[c1]"
   ]
  },
  {
   "cell_type": "markdown",
   "metadata": {
    "ein.tags": "worksheet-0",
    "slideshow": {
     "slide_type": "-"
    }
   },
   "source": [
    "De la misma manera, si queremos todos los valores entre 4 y 7 (incluidos), podemos hacer"
   ]
  },
  {
   "cell_type": "code",
   "execution_count": 103,
   "metadata": {
    "autoscroll": false,
    "ein.hycell": false,
    "ein.tags": "worksheet-0",
    "slideshow": {
     "slide_type": "-"
    }
   },
   "outputs": [
    {
     "data": {
      "text/plain": [
       "array([6.5, 5.5, 4.5])"
      ]
     },
     "execution_count": 103,
     "metadata": {},
     "output_type": "execute_result"
    }
   ],
   "source": [
    "y[(y >= 4) & (y <= 7)]"
   ]
  },
  {
   "cell_type": "markdown",
   "metadata": {
    "ein.tags": "worksheet-0",
    "slideshow": {
     "slide_type": "-"
    }
   },
   "source": [
    "Como mostramos en este ejemplo, no es necesario crear la matriz de condiciones previamente.\n",
    "\n",
    "**Numpy** tiene funciones especiales para analizar datos de array que sirven para quedarse con los valores que cumplen ciertas condiciones. La función `nonzero` devuelve los índices donde el argumento no se anula:"
   ]
  },
  {
   "cell_type": "code",
   "execution_count": 104,
   "metadata": {
    "autoscroll": false,
    "ein.hycell": false,
    "ein.tags": "worksheet-0",
    "slideshow": {
     "slide_type": "-"
    }
   },
   "outputs": [
    {
     "data": {
      "text/plain": [
       "(array([1, 1, 2]), array([2, 3, 0]))"
      ]
     },
     "execution_count": 104,
     "metadata": {},
     "output_type": "execute_result"
    }
   ],
   "source": [
    "c1 = (y>=4) & (y <=7)\n",
    "np.nonzero(c1)\n"
   ]
  },
  {
   "cell_type": "markdown",
   "metadata": {
    "ein.tags": "worksheet-0",
    "slideshow": {
     "slide_type": "-"
    }
   },
   "source": [
    "Esta es la notación de avanzada de índices, y nos dice que los elementos cuya condición es diferente de cero (`True`) están en las posiciones: `[1,2], [1,3], [2,0]`. "
   ]
  },
  {
   "cell_type": "code",
   "execution_count": 105,
   "metadata": {
    "autoscroll": false,
    "ein.hycell": false,
    "ein.tags": "worksheet-0",
    "slideshow": {
     "slide_type": "-"
    }
   },
   "outputs": [
    {
     "name": "stdout",
     "output_type": "stream",
     "text": [
      "indx = [1 1 2]\n",
      "indy = [2 3 0]\n"
     ]
    }
   ],
   "source": [
    "indx, indy = np.nonzero(c1)\n",
    "print('indx =', indx)\n",
    "print('indy =', indy)"
   ]
  },
  {
   "cell_type": "code",
   "execution_count": 106,
   "metadata": {
    "autoscroll": false,
    "ein.hycell": false,
    "ein.tags": "worksheet-0",
    "slideshow": {
     "slide_type": "-"
    }
   },
   "outputs": [
    {
     "name": "stdout",
     "output_type": "stream",
     "text": [
      "y[1,2]=6.5\n",
      "y[1,3]=5.5\n",
      "y[2,0]=4.5\n"
     ]
    }
   ],
   "source": [
    "for i,j in zip(indx, indy):\n",
    "  print('y[{},{}]={}'.format(i,j,y[i,j]))"
   ]
  },
  {
   "cell_type": "code",
   "execution_count": 107,
   "metadata": {
    "autoscroll": false,
    "ein.hycell": false,
    "ein.tags": "worksheet-0",
    "slideshow": {
     "slide_type": "-"
    }
   },
   "outputs": [
    {
     "name": "stdout",
     "output_type": "stream",
     "text": [
      "(array([1, 1, 2]), array([2, 3, 0]))\n",
      "[[1 2]\n",
      " [1 3]\n",
      " [2 0]]\n",
      "[6.5 5.5 4.5]\n"
     ]
    }
   ],
   "source": [
    "print(np.nonzero(c1))\n",
    "print(np.transpose(np.nonzero(c1)))\n",
    "print(y[np.nonzero(c1)])"
   ]
  },
  {
   "cell_type": "markdown",
   "metadata": {
    "ein.tags": "worksheet-0",
    "slideshow": {
     "slide_type": "-"
    }
   },
   "source": [
    "El resultado de `nonzero()` se puede utilizar directamente para elegir los elementos con la notación de índices avanzados, y su transpuesta es un array  donde cada elemento es un índice donde no se anula.\n",
    "\n",
    "Existe la función `np.argwhere()` que es lo mismo que ``np.transpose(np.nonzero(a))``.\n",
    "\n",
    "Otra función que sirve para elegir elementos basados en alguna condición es `np.compress(condition, a, axis=None, out=None)` que acepta un array unidimensional como condición"
   ]
  },
  {
   "cell_type": "code",
   "execution_count": 108,
   "metadata": {
    "autoscroll": false,
    "ein.hycell": false,
    "ein.tags": "worksheet-0",
    "slideshow": {
     "slide_type": "-"
    }
   },
   "outputs": [
    {
     "name": "stdout",
     "output_type": "stream",
     "text": [
      "[False False False False False False  True  True  True False False False]\n",
      "[6.5 5.5 4.5]\n"
     ]
    }
   ],
   "source": [
    "c2 = np.ravel(c1)\n",
    "print(c2)\n",
    "print(np.compress(c2,y))"
   ]
  },
  {
   "cell_type": "markdown",
   "metadata": {
    "ein.tags": "worksheet-0",
    "slideshow": {
     "slide_type": "-"
    }
   },
   "source": [
    "La función `extract` es equivalente a convertir los dos vectores (condición y datos) a una dimensión (`ravel`) y luego aplicar `compress`"
   ]
  },
  {
   "cell_type": "code",
   "execution_count": 109,
   "metadata": {
    "autoscroll": false,
    "ein.hycell": false,
    "ein.tags": "worksheet-0",
    "slideshow": {
     "slide_type": "-"
    }
   },
   "outputs": [
    {
     "data": {
      "text/plain": [
       "array([6.5, 5.5, 4.5])"
      ]
     },
     "execution_count": 109,
     "metadata": {},
     "output_type": "execute_result"
    }
   ],
   "source": [
    "np.extract(c1, y)"
   ]
  },
  {
   "cell_type": "markdown",
   "metadata": {
    "ein.tags": "worksheet-0",
    "slideshow": {
     "slide_type": "-"
    }
   },
   "source": [
    "### Función where\n",
    "\n",
    "La función `where` permite operar condicionalmente sobre algunos elementos.  Por ejemplo, si queremos convolucionar el vector `y` con un escalón localizado en la región `[2,8]`:"
   ]
  },
  {
   "cell_type": "code",
   "execution_count": 110,
   "metadata": {
    "autoscroll": false,
    "ein.hycell": false,
    "ein.tags": "worksheet-0",
    "slideshow": {
     "slide_type": "-"
    }
   },
   "outputs": [
    {
     "data": {
      "text/plain": [
       "array([[0. , 0. , 0. , 0. ],\n",
       "       [0. , 7.5, 6.5, 5.5],\n",
       "       [4.5, 3.5, 2.5, 0. ]])"
      ]
     },
     "execution_count": 110,
     "metadata": {},
     "output_type": "execute_result"
    }
   ],
   "source": [
    "np.where((y > 2) &  (y < 8) , y, 0)"
   ]
  },
  {
   "cell_type": "markdown",
   "metadata": {
    "ein.tags": "worksheet-0",
    "slideshow": {
     "slide_type": "-"
    }
   },
   "source": [
    "Por ejemplo, para implementar la función de Heaviside"
   ]
  },
  {
   "cell_type": "code",
   "execution_count": 111,
   "metadata": {
    "autoscroll": false,
    "ein.hycell": false,
    "ein.tags": "worksheet-0",
    "slideshow": {
     "slide_type": "-"
    }
   },
   "outputs": [
    {
     "data": {
      "text/plain": [
       "array([0, 0, 0, 0, 0, 1, 1, 1, 1, 1, 1])"
      ]
     },
     "execution_count": 111,
     "metadata": {},
     "output_type": "execute_result"
    }
   ],
   "source": [
    "import matplotlib.pyplot as plt\n",
    "\n",
    "def H(x):\n",
    "  return np.where(x < 0, 0, 1)\n",
    "x = np.linspace(-1,1,11)\n",
    "H(x)"
   ]
  },
  {
   "cell_type": "code",
   "execution_count": 112,
   "metadata": {
    "autoscroll": false,
    "ein.hycell": false,
    "ein.tags": "worksheet-0",
    "slideshow": {
     "slide_type": "-"
    }
   },
   "outputs": [
    {
     "data": {
      "text/plain": [
       "[<matplotlib.lines.Line2D at 0x7fb489fa5a10>]"
      ]
     },
     "execution_count": 112,
     "metadata": {},
     "output_type": "execute_result"
    },
    {
     "data": {
      "image/png": "[encoded data removed]",
      "text/plain": [
       "<Figure size 432x288 with 1 Axes>"
      ]
     },
     "metadata": {
      "needs_background": "light"
     },
     "output_type": "display_data"
    }
   ],
   "source": [
    "plt.plot(x,H(x), 'o')"
   ]
  },
  {
   "cell_type": "markdown",
   "metadata": {
    "ein.tags": "worksheet-0",
    "slideshow": {
     "slide_type": "-"
    }
   },
   "source": [
    "## Extensión de las dimensiones (*Broadcasting*)\n",
    "\n",
    "Vimos que en **Numpy** las operaciones (y comparaciones) se realizan \"elemento a elemento\". Sin embargo usamos expresiones del tipo `y > 4` donde comparamos un `ndarray` con un escalar. En este caso, lo que hace **Numpy** es extender automáticamente el escalar a un array de las mismas dimensiones que `y`\n",
    "\n",
    "```python\n",
    "  4 -> 4*np.ones(y.shape)\n",
    "  ```\n",
    "\n",
    "Hagamos esto explícitamente"
   ]
  },
  {
   "cell_type": "code",
   "execution_count": 113,
   "metadata": {},
   "outputs": [
    {
     "data": {
      "text/plain": [
       "array([[12.5, 11.5, 10.5,  9.5],\n",
       "       [ 8.5,  7.5,  6.5,  5.5],\n",
       "       [ 4.5,  3.5,  2.5,  1.5]])"
      ]
     },
     "execution_count": 113,
     "metadata": {},
     "output_type": "execute_result"
    }
   ],
   "source": [
    "y"
   ]
  },
  {
   "cell_type": "code",
   "execution_count": 114,
   "metadata": {
    "autoscroll": false,
    "ein.hycell": false,
    "ein.tags": "worksheet-0",
    "slideshow": {
     "slide_type": "-"
    }
   },
   "outputs": [
    {
     "data": {
      "text/plain": [
       "True"
      ]
     },
     "execution_count": 114,
     "metadata": {},
     "output_type": "execute_result"
    }
   ],
   "source": [
    "y4 = 4*np.ones(y.shape)\n",
    "np.all((y > y4) == (y > 4)) # np.all devuelve True si **TODOS** los elementos son iguales"
   ]
  },
  {
   "cell_type": "markdown",
   "metadata": {
    "ein.tags": "worksheet-0",
    "slideshow": {
     "slide_type": "-"
    }
   },
   "source": [
    "De la misma manera, hay veces que podemos operar sobre arrays de distintas dimensiones"
   ]
  },
  {
   "cell_type": "code",
   "execution_count": 115,
   "metadata": {
    "autoscroll": false,
    "ein.hycell": false,
    "ein.tags": "worksheet-0",
    "slideshow": {
     "slide_type": "-"
    }
   },
   "outputs": [
    {
     "data": {
      "text/plain": [
       "array([[4., 4., 4., 4.],\n",
       "       [4., 4., 4., 4.],\n",
       "       [4., 4., 4., 4.]])"
      ]
     },
     "execution_count": 115,
     "metadata": {},
     "output_type": "execute_result"
    }
   ],
   "source": [
    "y4"
   ]
  },
  {
   "cell_type": "code",
   "execution_count": 116,
   "metadata": {
    "autoscroll": false,
    "ein.hycell": false,
    "ein.tags": "worksheet-0",
    "slideshow": {
     "slide_type": "-"
    }
   },
   "outputs": [
    {
     "data": {
      "text/plain": [
       "array([[16.5, 15.5, 14.5, 13.5],\n",
       "       [12.5, 11.5, 10.5,  9.5],\n",
       "       [ 8.5,  7.5,  6.5,  5.5]])"
      ]
     },
     "execution_count": 116,
     "metadata": {},
     "output_type": "execute_result"
    }
   ],
   "source": [
    "y + y4"
   ]
  },
  {
   "cell_type": "code",
   "execution_count": 117,
   "metadata": {},
   "outputs": [
    {
     "data": {
      "text/plain": [
       "array([[16.5, 15.5, 14.5, 13.5],\n",
       "       [12.5, 11.5, 10.5,  9.5],\n",
       "       [ 8.5,  7.5,  6.5,  5.5]])"
      ]
     },
     "execution_count": 117,
     "metadata": {},
     "output_type": "execute_result"
    }
   ],
   "source": [
    "y + 4"
   ]
  },
  {
   "cell_type": "markdown",
   "metadata": {
    "ein.tags": "worksheet-0",
    "slideshow": {
     "slide_type": "-"
    }
   },
   "source": [
    "Como vemos eso es igual a `y + 4*np.ones(y.shape)`. En general, si Numpy puede transformar los arreglos para que todos tengan el mismo tamaño, lo hará en forma automática. \n",
    "\n",
    "Las reglas de la extensión automática son:\n",
    "\n",
    "1. La extensión se realiza por dimensión. Dos dimensiones son compatibles si son iguales o una de ellas es 1.\n",
    "2. Si los dos `arrays` difieren en el número de dimensiones, el que tiene menor dimensión se llena con `1` (unos) en el primer eje.\n",
    "\n",
    "Veamos algunos ejemplos:\n"
   ]
  },
  {
   "cell_type": "code",
   "execution_count": 118,
   "metadata": {
    "autoscroll": false,
    "ein.hycell": false,
    "ein.tags": "worksheet-0",
    "slideshow": {
     "slide_type": "-"
    }
   },
   "outputs": [],
   "source": [
    "x = np.arange(0,40,10)\n",
    "xx = x.reshape(4,1)\n",
    "y = np.arange(3)"
   ]
  },
  {
   "cell_type": "code",
   "execution_count": 119,
   "metadata": {
    "autoscroll": false,
    "ein.hycell": false,
    "ein.tags": "worksheet-0",
    "slideshow": {
     "slide_type": "-"
    }
   },
   "outputs": [
    {
     "name": "stdout",
     "output_type": "stream",
     "text": [
      "(4,) (4, 1) (3,)\n"
     ]
    }
   ],
   "source": [
    "print(x.shape, xx.shape, y.shape)"
   ]
  },
  {
   "cell_type": "code",
   "execution_count": 120,
   "metadata": {
    "autoscroll": false,
    "ein.hycell": false,
    "ein.tags": "worksheet-0",
    "slideshow": {
     "slide_type": "-"
    }
   },
   "outputs": [
    {
     "name": "stdout",
     "output_type": "stream",
     "text": [
      "[[ 0]\n",
      " [10]\n",
      " [20]\n",
      " [30]]\n"
     ]
    }
   ],
   "source": [
    "print(xx)"
   ]
  },
  {
   "cell_type": "code",
   "execution_count": 121,
   "metadata": {
    "autoscroll": false,
    "ein.hycell": false,
    "ein.tags": "worksheet-0",
    "slideshow": {
     "slide_type": "-"
    }
   },
   "outputs": [
    {
     "name": "stdout",
     "output_type": "stream",
     "text": [
      "[0 1 2]\n"
     ]
    }
   ],
   "source": [
    "print(y)"
   ]
  },
  {
   "cell_type": "code",
   "execution_count": 122,
   "metadata": {
    "autoscroll": false,
    "ein.hycell": false,
    "ein.tags": "worksheet-0",
    "slideshow": {
     "slide_type": "-"
    }
   },
   "outputs": [
    {
     "name": "stdout",
     "output_type": "stream",
     "text": [
      "[[ 0  1  2]\n",
      " [10 11 12]\n",
      " [20 21 22]\n",
      " [30 31 32]]\n"
     ]
    }
   ],
   "source": [
    "print(xx+y)"
   ]
  },
  {
   "cell_type": "markdown",
   "metadata": {
    "ein.tags": "worksheet-0",
    "slideshow": {
     "slide_type": "-"
    }
   },
   "source": [
    "Lo que está pasando es algo así como:\n",
    "\n",
    "  * xx -> xxx\n",
    "  * y ->  yyy\n",
    "  * xx + y -> xxx + yyy\n",
    "\n",
    "  ![](figuras/numpy_broadcasting.png)\n",
    "\n",
    "donde `xxx`, `yyy` son versiones extendidas de los vectores originales:"
   ]
  },
  {
   "cell_type": "code",
   "execution_count": 123,
   "metadata": {
    "autoscroll": false,
    "ein.hycell": false,
    "ein.tags": "worksheet-0",
    "slideshow": {
     "slide_type": "-"
    }
   },
   "outputs": [],
   "source": [
    "xxx = np.tile(xx, (1, y.size))\n",
    "yyy = np.tile(y, (xx.size, 1))"
   ]
  },
  {
   "cell_type": "code",
   "execution_count": 124,
   "metadata": {
    "autoscroll": false,
    "ein.hycell": false,
    "ein.tags": "worksheet-0",
    "slideshow": {
     "slide_type": "-"
    }
   },
   "outputs": [
    {
     "name": "stdout",
     "output_type": "stream",
     "text": [
      "[[ 0  0  0]\n",
      " [10 10 10]\n",
      " [20 20 20]\n",
      " [30 30 30]]\n"
     ]
    }
   ],
   "source": [
    "print(xxx)"
   ]
  },
  {
   "cell_type": "code",
   "execution_count": 125,
   "metadata": {
    "autoscroll": false,
    "ein.hycell": false,
    "ein.tags": "worksheet-0",
    "slideshow": {
     "slide_type": "-"
    }
   },
   "outputs": [
    {
     "name": "stdout",
     "output_type": "stream",
     "text": [
      "[[0 1 2]\n",
      " [0 1 2]\n",
      " [0 1 2]\n",
      " [0 1 2]]\n"
     ]
    }
   ],
   "source": [
    "print(yyy)"
   ]
  },
  {
   "cell_type": "code",
   "execution_count": 126,
   "metadata": {
    "autoscroll": false,
    "ein.hycell": false,
    "ein.tags": "worksheet-0",
    "slideshow": {
     "slide_type": "-"
    }
   },
   "outputs": [
    {
     "name": "stdout",
     "output_type": "stream",
     "text": [
      "[[ 0  1  2]\n",
      " [10 11 12]\n",
      " [20 21 22]\n",
      " [30 31 32]]\n"
     ]
    }
   ],
   "source": [
    "print(xxx + yyy)"
   ]
  },
  {
   "cell_type": "markdown",
   "metadata": {
    "ein.tags": "worksheet-0",
    "slideshow": {
     "slide_type": "-"
    }
   },
   "source": [
    "## Unir (o concatenar) *arrays*\n",
    "\n",
    "Si queremos unir dos *arrays* para formar un tercer *array* **Numpy** tiene una función llamada `concatenate`, que recibe una secuencia de arrays y devuelve su unión a lo largo de un eje.\n",
    "\n",
    "### Apilamiento vertical"
   ]
  },
  {
   "cell_type": "code",
   "execution_count": 127,
   "metadata": {
    "autoscroll": false,
    "ein.hycell": false,
    "ein.tags": "worksheet-0",
    "slideshow": {
     "slide_type": "-"
    }
   },
   "outputs": [
    {
     "name": "stdout",
     "output_type": "stream",
     "text": [
      "a=\n",
      " [[1 2]\n",
      " [3 4]]\n",
      "b=\n",
      " [[ 5  6]\n",
      " [ 7  8]\n",
      " [ 9 10]]\n"
     ]
    }
   ],
   "source": [
    "a = np.array([[1, 2], [3, 4]])\n",
    "b = np.array([[5, 6], [7, 8], [9,10]])\n",
    "print('a=\\n',a)\n",
    "print('b=\\n',b)"
   ]
  },
  {
   "cell_type": "code",
   "execution_count": 128,
   "metadata": {
    "autoscroll": false,
    "ein.hycell": false,
    "ein.tags": "worksheet-0",
    "slideshow": {
     "slide_type": "-"
    }
   },
   "outputs": [
    {
     "data": {
      "text/plain": [
       "array([[ 1,  2],\n",
       "       [ 3,  4],\n",
       "       [ 5,  6],\n",
       "       [ 7,  8],\n",
       "       [ 9, 10]])"
      ]
     },
     "execution_count": 128,
     "metadata": {},
     "output_type": "execute_result"
    }
   ],
   "source": [
    "# El eje 0 es el primero, y corresponde a apilamiento vertical\n",
    "np.concatenate((a, b), axis=0)"
   ]
  },
  {
   "cell_type": "code",
   "execution_count": 129,
   "metadata": {
    "autoscroll": false,
    "ein.hycell": false,
    "ein.tags": "worksheet-0",
    "slideshow": {
     "slide_type": "-"
    }
   },
   "outputs": [
    {
     "data": {
      "text/plain": [
       "array([[ 1,  2],\n",
       "       [ 3,  4],\n",
       "       [ 5,  6],\n",
       "       [ 7,  8],\n",
       "       [ 9, 10]])"
      ]
     },
     "execution_count": 129,
     "metadata": {},
     "output_type": "execute_result"
    }
   ],
   "source": [
    "np.concatenate((a, b))          # axis=0 es el default"
   ]
  },
  {
   "cell_type": "code",
   "execution_count": 130,
   "metadata": {
    "autoscroll": false,
    "ein.hycell": false,
    "ein.tags": "worksheet-0",
    "slideshow": {
     "slide_type": "-"
    }
   },
   "outputs": [
    {
     "data": {
      "text/plain": [
       "array([[ 1,  2],\n",
       "       [ 3,  4],\n",
       "       [ 5,  6],\n",
       "       [ 7,  8],\n",
       "       [ 9, 10]])"
      ]
     },
     "execution_count": 130,
     "metadata": {},
     "output_type": "execute_result"
    }
   ],
   "source": [
    "np.vstack((a, b))    # Une siempre verticalmente (primer eje)"
   ]
  },
  {
   "cell_type": "markdown",
   "metadata": {
    "ein.tags": "worksheet-0",
    "slideshow": {
     "slide_type": "-"
    }
   },
   "source": [
    "Veamos cómo utilizar esto cuando tenemos más dimensiones. "
   ]
  },
  {
   "cell_type": "code",
   "execution_count": 131,
   "metadata": {
    "autoscroll": false,
    "ein.hycell": false,
    "ein.tags": "worksheet-0",
    "slideshow": {
     "slide_type": "-"
    }
   },
   "outputs": [
    {
     "name": "stdout",
     "output_type": "stream",
     "text": [
      "c: shape=(2, 2, 2)\n",
      " [[[ 1  2]\n",
      "  [ 3  4]]\n",
      "\n",
      " [[-1 -2]\n",
      "  [-3 -4]]]\n",
      "\n",
      "d: shape=(3, 2, 2)\n",
      " [[[  5   6]\n",
      "  [  7   8]]\n",
      "\n",
      " [[  9  10]\n",
      "  [ -5  -6]]\n",
      "\n",
      " [[ -7  -8]\n",
      "  [ -9 -10]]]\n"
     ]
    }
   ],
   "source": [
    "c = np.array([[[1, 2], [3, 4]],[[-1,-2],[-3,-4]]])\n",
    "d = np.array([[[5, 6], [7, 8]], [[9,10], [-5, -6]], [[-7, -8], [-9,-10]]])\n",
    "print('c: shape={}\\n'.format(c.shape),c)\n",
    "print('\\nd: shape={}\\n'.format(d.shape),d)\n"
   ]
  },
  {
   "cell_type": "markdown",
   "metadata": {
    "ein.tags": "worksheet-0",
    "slideshow": {
     "slide_type": "-"
    }
   },
   "source": [
    "Como tienen todas las dimensiones iguales, excepto la primera, podemos concatenarlos a lo largo del eje 0 (verticalmente)"
   ]
  },
  {
   "cell_type": "code",
   "execution_count": 132,
   "metadata": {
    "autoscroll": false,
    "ein.hycell": false,
    "ein.tags": "worksheet-0",
    "slideshow": {
     "slide_type": "-"
    }
   },
   "outputs": [
    {
     "data": {
      "text/plain": [
       "array([[[  1,   2],\n",
       "        [  3,   4]],\n",
       "\n",
       "       [[ -1,  -2],\n",
       "        [ -3,  -4]],\n",
       "\n",
       "       [[  5,   6],\n",
       "        [  7,   8]],\n",
       "\n",
       "       [[  9,  10],\n",
       "        [ -5,  -6]],\n",
       "\n",
       "       [[ -7,  -8],\n",
       "        [ -9, -10]]])"
      ]
     },
     "execution_count": 132,
     "metadata": {},
     "output_type": "execute_result"
    }
   ],
   "source": [
    "np.vstack((c,d))"
   ]
  },
  {
   "cell_type": "code",
   "execution_count": 133,
   "metadata": {
    "autoscroll": false,
    "ein.hycell": false,
    "ein.tags": "worksheet-0",
    "slideshow": {
     "slide_type": "-"
    }
   },
   "outputs": [],
   "source": [
    "e=np.concatenate((c,d),axis=0)"
   ]
  },
  {
   "cell_type": "code",
   "execution_count": 134,
   "metadata": {
    "autoscroll": false,
    "ein.hycell": false,
    "ein.tags": "worksheet-0",
    "slideshow": {
     "slide_type": "-"
    }
   },
   "outputs": [
    {
     "name": "stdout",
     "output_type": "stream",
     "text": [
      "(5, 2, 2)\n",
      "[[[  1   2]\n",
      "  [  3   4]]\n",
      "\n",
      " [[ -1  -2]\n",
      "  [ -3  -4]]\n",
      "\n",
      " [[  5   6]\n",
      "  [  7   8]]\n",
      "\n",
      " [[  9  10]\n",
      "  [ -5  -6]]\n",
      "\n",
      " [[ -7  -8]\n",
      "  [ -9 -10]]]\n"
     ]
    }
   ],
   "source": [
    "print(e.shape)\n",
    "print(e)"
   ]
  },
  {
   "cell_type": "markdown",
   "metadata": {
    "ein.tags": "worksheet-0",
    "slideshow": {
     "slide_type": "-"
    }
   },
   "source": [
    "### Apilamiento horizontal\n",
    "\n",
    "Si tratamos de concatenar `a`y `b` a lo largo de otro eje vamos a recibir un error porque la forma de los `arrays` no es compatible."
   ]
  },
  {
   "cell_type": "code",
   "execution_count": 135,
   "metadata": {
    "autoscroll": false,
    "ein.hycell": false,
    "ein.tags": "worksheet-0",
    "slideshow": {
     "slide_type": "-"
    }
   },
   "outputs": [
    {
     "data": {
      "text/plain": [
       "array([[ 5,  7,  9],\n",
       "       [ 6,  8, 10]])"
      ]
     },
     "execution_count": 135,
     "metadata": {},
     "output_type": "execute_result"
    }
   ],
   "source": [
    "b.T"
   ]
  },
  {
   "cell_type": "code",
   "execution_count": 136,
   "metadata": {
    "autoscroll": false,
    "ein.hycell": false,
    "ein.tags": "worksheet-0",
    "slideshow": {
     "slide_type": "-"
    }
   },
   "outputs": [
    {
     "name": "stdout",
     "output_type": "stream",
     "text": [
      "(2, 2) (3, 2) (2, 3)\n"
     ]
    }
   ],
   "source": [
    "print(a.shape, b.shape, b.T.shape)"
   ]
  },
  {
   "cell_type": "code",
   "execution_count": 137,
   "metadata": {
    "autoscroll": false,
    "ein.hycell": false,
    "ein.tags": "worksheet-0",
    "slideshow": {
     "slide_type": "-"
    }
   },
   "outputs": [
    {
     "data": {
      "text/plain": [
       "array([[ 1,  2,  5,  7,  9],\n",
       "       [ 3,  4,  6,  8, 10]])"
      ]
     },
     "execution_count": 137,
     "metadata": {},
     "output_type": "execute_result"
    }
   ],
   "source": [
    "np.concatenate((a, b.T), axis=1)"
   ]
  },
  {
   "cell_type": "code",
   "execution_count": 138,
   "metadata": {
    "autoscroll": false,
    "ein.hycell": false,
    "ein.tags": "worksheet-0",
    "slideshow": {
     "slide_type": "-"
    }
   },
   "outputs": [
    {
     "data": {
      "text/plain": [
       "array([[ 1,  2,  5,  7,  9],\n",
       "       [ 3,  4,  6,  8, 10]])"
      ]
     },
     "execution_count": 138,
     "metadata": {},
     "output_type": "execute_result"
    }
   ],
   "source": [
    "np.hstack((a,b.T))              # Como vstack pero horizontalmente"
   ]
  },
  {
   "cell_type": "markdown",
   "metadata": {
    "ein.tags": "worksheet-0",
    "slideshow": {
     "slide_type": "-"
    }
   },
   "source": [
    "## Enumerate para `ndarrays`\n",
    "\n",
    "Para iterables en **Python** existe la función enumerate que devuelve una tupla con el índice y el valor. En **Numpy** existe un iterador multidimensional llamado `ndenumerate()`"
   ]
  },
  {
   "cell_type": "code",
   "execution_count": 139,
   "metadata": {
    "autoscroll": false,
    "ein.hycell": false,
    "ein.tags": "worksheet-0",
    "slideshow": {
     "slide_type": "-"
    }
   },
   "outputs": [
    {
     "name": "stdout",
     "output_type": "stream",
     "text": [
      "[[ 5  6]\n",
      " [ 7  8]\n",
      " [ 9 10]]\n"
     ]
    }
   ],
   "source": [
    "print(b)"
   ]
  },
  {
   "cell_type": "code",
   "execution_count": 140,
   "metadata": {
    "autoscroll": false,
    "ein.hycell": false,
    "ein.tags": "worksheet-0",
    "slideshow": {
     "slide_type": "-"
    }
   },
   "outputs": [
    {
     "name": "stdout",
     "output_type": "stream",
     "text": [
      "x[0,0]->5\n",
      "x[0,1]->6\n",
      "x[1,0]->7\n",
      "x[1,1]->8\n",
      "x[2,0]->9\n",
      "x[2,1]->10\n"
     ]
    }
   ],
   "source": [
    "for (i,j), x in np.ndenumerate(b):\n",
    "  print('x[{},{}]->{}'.format(i,j,x))"
   ]
  },
  {
   "cell_type": "markdown",
   "metadata": {
    "ein.tags": "worksheet-0",
    "slideshow": {
     "slide_type": "-"
    }
   },
   "source": [
    "## Generación de números aleatorios\n",
    "\n",
    "**Python** tiene un módulo para generar números al azar, sin embargo vamos a utilizar el módulo de **Numpy** llamado `random`. Este módulo tiene funciones para generar números al azar siguiendo varias distribuciones más comunes. Veamos que hay en el módulo"
   ]
  },
  {
   "cell_type": "code",
   "execution_count": 141,
   "metadata": {
    "autoscroll": false,
    "ein.hycell": false,
    "ein.tags": "worksheet-0",
    "slideshow": {
     "slide_type": "-"
    }
   },
   "outputs": [
    {
     "data": {
      "text/plain": [
       "['Generator',\n",
       " 'MT19937',\n",
       " 'PCG64',\n",
       " 'Philox',\n",
       " 'RandomState',\n",
       " 'SFC64',\n",
       " 'SeedSequence',\n",
       " '__RandomState_ctor',\n",
       " '__all__',\n",
       " '__builtins__',\n",
       " '__cached__',\n",
       " '__doc__',\n",
       " '__file__',\n",
       " '__loader__',\n",
       " '__name__',\n",
       " '__package__',\n",
       " '__path__',\n",
       " '__spec__',\n",
       " '_pickle',\n",
       " 'absolute_import',\n",
       " 'beta',\n",
       " 'binomial',\n",
       " 'bit_generator',\n",
       " 'bounded_integers',\n",
       " 'bytes',\n",
       " 'chisquare',\n",
       " 'choice',\n",
       " 'common',\n",
       " 'default_rng',\n",
       " 'dirichlet',\n",
       " 'division',\n",
       " 'exponential',\n",
       " 'f',\n",
       " 'gamma',\n",
       " 'generator',\n",
       " 'geometric',\n",
       " 'get_state',\n",
       " 'gumbel',\n",
       " 'hypergeometric',\n",
       " 'laplace',\n",
       " 'logistic',\n",
       " 'lognormal',\n",
       " 'logseries',\n",
       " 'mt19937',\n",
       " 'mtrand',\n",
       " 'multinomial',\n",
       " 'multivariate_normal',\n",
       " 'negative_binomial',\n",
       " 'noncentral_chisquare',\n",
       " 'noncentral_f',\n",
       " 'normal',\n",
       " 'pareto',\n",
       " 'pcg64',\n",
       " 'permutation',\n",
       " 'philox',\n",
       " 'poisson',\n",
       " 'power',\n",
       " 'print_function',\n",
       " 'rand',\n",
       " 'randint',\n",
       " 'randn',\n",
       " 'random',\n",
       " 'random_integers',\n",
       " 'random_sample',\n",
       " 'ranf',\n",
       " 'rayleigh',\n",
       " 'sample',\n",
       " 'seed',\n",
       " 'set_state',\n",
       " 'sfc64',\n",
       " 'shuffle',\n",
       " 'standard_cauchy',\n",
       " 'standard_exponential',\n",
       " 'standard_gamma',\n",
       " 'standard_normal',\n",
       " 'standard_t',\n",
       " 'test',\n",
       " 'triangular',\n",
       " 'uniform',\n",
       " 'vonmises',\n",
       " 'wald',\n",
       " 'weibull',\n",
       " 'zipf']"
      ]
     },
     "execution_count": 141,
     "metadata": {},
     "output_type": "execute_result"
    }
   ],
   "source": [
    "dir(np.random)"
   ]
  },
  {
   "cell_type": "markdown",
   "metadata": {
    "ein.tags": "worksheet-0",
    "slideshow": {
     "slide_type": "-"
    }
   },
   "source": [
    "### Distribución uniforme\n",
    "\n",
    "Si elegimos números al azar con una distribución de probabilidad uniforme, la probabilidad de que el número elegido caiga en un intervalo dado es simplemente proporcional al tamaño del intervalo. "
   ]
  },
  {
   "cell_type": "code",
   "execution_count": 142,
   "metadata": {
    "autoscroll": false,
    "ein.hycell": false,
    "ein.tags": "worksheet-0",
    "slideshow": {
     "slide_type": "-"
    }
   },
   "outputs": [
    {
     "name": "stdout",
     "output_type": "stream",
     "text": [
      "[[0.77878726 0.88352463]\n",
      " [0.09660936 0.26329854]\n",
      " [0.09022693 0.50868008]\n",
      " [0.59441451 0.83330015]]\n"
     ]
    }
   ],
   "source": [
    "x= np.random.random((4,2))\n",
    "y = np.random.random(8)\n",
    "print(x)"
   ]
  },
  {
   "cell_type": "code",
   "execution_count": 143,
   "metadata": {
    "autoscroll": false,
    "ein.hycell": false,
    "ein.tags": "worksheet-0",
    "slideshow": {
     "slide_type": "-"
    }
   },
   "outputs": [
    {
     "data": {
      "text/plain": [
       "array([0.96525023, 0.46979077, 0.15988329, 0.02590613, 0.71784142,\n",
       "       0.03085417, 0.04947806, 0.50099472])"
      ]
     },
     "execution_count": 143,
     "metadata": {},
     "output_type": "execute_result"
    }
   ],
   "source": [
    "y"
   ]
  },
  {
   "cell_type": "code",
   "execution_count": 144,
   "metadata": {},
   "outputs": [
    {
     "name": "stdout",
     "output_type": "stream",
     "text": [
      "Help on built-in function random:\n",
      "\n",
      "random(...) method of numpy.random.mtrand.RandomState instance\n",
      "    random(size=None)\n",
      "    \n",
      "    Return random floats in the half-open interval [0.0, 1.0). Alias for\n",
      "    `random_sample` to ease forward-porting to the new random API.\n",
      "\n"
     ]
    }
   ],
   "source": [
    "help(np.random.random)"
   ]
  },
  {
   "cell_type": "markdown",
   "metadata": {
    "ein.tags": "worksheet-0",
    "slideshow": {
     "slide_type": "-"
    }
   },
   "source": [
    "Como se infiere de este resultado, la función `random` (o `random_sample`) nos da una distribución de puntos aleatorios entre 0 y 1, uniformemente distribuidos.\n"
   ]
  },
  {
   "cell_type": "code",
   "execution_count": 145,
   "metadata": {
    "autoscroll": false,
    "ein.hycell": false,
    "ein.tags": "worksheet-0",
    "slideshow": {
     "slide_type": "-"
    }
   },
   "outputs": [
    {
     "data": {
      "image/png": "[encoded data removed]",
      "text/plain": [
       "<Figure size 432x288 with 1 Axes>"
      ]
     },
     "metadata": {
      "needs_background": "light"
     },
     "output_type": "display_data"
    }
   ],
   "source": [
    "plt.plot(np.random.random(4000), '.')\n",
    "plt.show()"
   ]
  },
  {
   "cell_type": "code",
   "execution_count": 146,
   "metadata": {},
   "outputs": [
    {
     "name": "stdout",
     "output_type": "stream",
     "text": [
      "Help on built-in function uniform:\n",
      "\n",
      "uniform(...) method of numpy.random.mtrand.RandomState instance\n",
      "    uniform(low=0.0, high=1.0, size=None)\n",
      "    \n",
      "    Draw samples from a uniform distribution.\n",
      "    \n",
      "    Samples are uniformly distributed over the half-open interval\n",
      "    ``[low, high)`` (includes low, but excludes high).  In other words,\n",
      "    any value within the given interval is equally likely to be drawn\n",
      "    by `uniform`.\n",
      "    \n",
      "    Parameters\n",
      "    ----------\n",
      "    low : float or array_like of floats, optional\n",
      "        Lower boundary of the output interval.  All values generated will be\n",
      "        greater than or equal to low.  The default value is 0.\n",
      "    high : float or array_like of floats\n",
      "        Upper boundary of the output interval.  All values generated will be\n",
      "        less than high.  The default value is 1.0.\n",
      "    size : int or tuple of ints, optional\n",
      "        Output shape.  If the given shape is, e.g., ``(m, n, k)``, then\n",
      "        ``m * n * k`` samples are drawn.  If size is ``None`` (default),\n",
      "        a single value is returned if ``low`` and ``high`` are both scalars.\n",
      "        Otherwise, ``np.broadcast(low, high).size`` samples are drawn.\n",
      "    \n",
      "    Returns\n",
      "    -------\n",
      "    out : ndarray or scalar\n",
      "        Drawn samples from the parameterized uniform distribution.\n",
      "    \n",
      "    See Also\n",
      "    --------\n",
      "    randint : Discrete uniform distribution, yielding integers.\n",
      "    random_integers : Discrete uniform distribution over the closed\n",
      "                      interval ``[low, high]``.\n",
      "    random_sample : Floats uniformly distributed over ``[0, 1)``.\n",
      "    random : Alias for `random_sample`.\n",
      "    rand : Convenience function that accepts dimensions as input, e.g.,\n",
      "           ``rand(2,2)`` would generate a 2-by-2 array of floats,\n",
      "           uniformly distributed over ``[0, 1)``.\n",
      "    \n",
      "    Notes\n",
      "    -----\n",
      "    The probability density function of the uniform distribution is\n",
      "    \n",
      "    .. math:: p(x) = \\frac{1}{b - a}\n",
      "    \n",
      "    anywhere within the interval ``[a, b)``, and zero elsewhere.\n",
      "    \n",
      "    When ``high`` == ``low``, values of ``low`` will be returned.\n",
      "    If ``high`` < ``low``, the results are officially undefined\n",
      "    and may eventually raise an error, i.e. do not rely on this\n",
      "    function to behave when passed arguments satisfying that\n",
      "    inequality condition.\n",
      "    \n",
      "    Examples\n",
      "    --------\n",
      "    Draw samples from the distribution:\n",
      "    \n",
      "    >>> s = np.random.uniform(-1,0,1000)\n",
      "    \n",
      "    All values are within the given interval:\n",
      "    \n",
      "    >>> np.all(s >= -1)\n",
      "    True\n",
      "    >>> np.all(s < 0)\n",
      "    True\n",
      "    \n",
      "    Display the histogram of the samples, along with the\n",
      "    probability density function:\n",
      "    \n",
      "    >>> import matplotlib.pyplot as plt\n",
      "    >>> count, bins, ignored = plt.hist(s, 15, density=True)\n",
      "    >>> plt.plot(bins, np.ones_like(bins), linewidth=2, color='r')\n",
      "    >>> plt.show()\n",
      "\n"
     ]
    }
   ],
   "source": [
    "help(np.random.uniform)"
   ]
  },
  {
   "cell_type": "markdown",
   "metadata": {
    "ein.tags": "worksheet-0",
    "slideshow": {
     "slide_type": "-"
    }
   },
   "source": [
    "### Distribución normal (Gaussiana)\n",
    "\n",
    "Una distribución de probabilidad normal tiene la forma Gaussiana\n",
    "\n",
    "$$p(x) = \\frac{1}{\\sqrt{ 2 \\pi \\sigma^2 }} e^{ - \\frac{ (x - \\mu)^2 } {2 \\sigma^2} }.$$ En **Numpy** la función que nos da elementos con esa distribución de probabilidad es: \n",
    "\n",
    "`np.random.normal(loc=0.0, scale=1.0, size=None)`\n",
    "\n",
    "donde:\n",
    " - `loc` es la posición del máximo (valor medio)\n",
    " - `scale` es el ancho de la distribución\n",
    " - `size` es el número de puntos a calcular (o forma)\n",
    " \n"
   ]
  },
  {
   "cell_type": "code",
   "execution_count": 147,
   "metadata": {
    "autoscroll": false,
    "ein.hycell": false,
    "ein.tags": "worksheet-0",
    "slideshow": {
     "slide_type": "-"
    }
   },
   "outputs": [],
   "source": [
    "z = np.random.normal(size=4000)"
   ]
  },
  {
   "cell_type": "code",
   "execution_count": 148,
   "metadata": {
    "autoscroll": false,
    "ein.hycell": false,
    "ein.tags": "worksheet-0",
    "slideshow": {
     "slide_type": "-"
    }
   },
   "outputs": [
    {
     "data": {
      "image/png": "[encoded data removed]",
      "text/plain": [
       "<Figure size 432x288 with 1 Axes>"
      ]
     },
     "metadata": {
      "needs_background": "light"
     },
     "output_type": "display_data"
    }
   ],
   "source": [
    "plt.plot( z, '.')\n",
    "plt.show()"
   ]
  },
  {
   "cell_type": "code",
   "execution_count": 149,
   "metadata": {
    "autoscroll": false,
    "ein.hycell": false,
    "ein.tags": "worksheet-0",
    "slideshow": {
     "slide_type": "-"
    }
   },
   "outputs": [
    {
     "data": {
      "text/plain": [
       "array([[-0.50819971,  0.39541277, -0.42435484,  1.436731  , -1.6231248 ],\n",
       "       [ 0.1785728 ,  0.27730798, -2.12114776,  2.27803301, -0.23488334],\n",
       "       [-2.54623689,  1.30979596,  0.38841641,  0.10824249,  0.70373435]])"
      ]
     },
     "execution_count": 149,
     "metadata": {},
     "output_type": "execute_result"
    }
   ],
   "source": [
    "np.random.normal(size=(3,5))"
   ]
  },
  {
   "cell_type": "markdown",
   "metadata": {
    "ein.tags": "worksheet-0",
    "slideshow": {
     "slide_type": "-"
    }
   },
   "source": [
    "### Histogramas\n",
    "\n",
    "Para visualizar los números generados y comparar su ocurrencia con la distribución de probabilidad \n",
    "vamos a generar histogramas usando *Numpy* y *Matplotlib*"
   ]
  },
  {
   "cell_type": "code",
   "execution_count": 150,
   "metadata": {
    "autoscroll": false,
    "ein.hycell": false,
    "ein.tags": "worksheet-0",
    "slideshow": {
     "slide_type": "-"
    }
   },
   "outputs": [],
   "source": [
    "h,b = np.histogram(z, bins=20)"
   ]
  },
  {
   "cell_type": "code",
   "execution_count": 151,
   "metadata": {
    "autoscroll": false,
    "ein.hycell": false,
    "ein.tags": "worksheet-0",
    "slideshow": {
     "slide_type": "-"
    }
   },
   "outputs": [
    {
     "data": {
      "text/plain": [
       "array([-3.77072208, -3.40965446, -3.04858684, -2.68751921, -2.32645159,\n",
       "       -1.96538397, -1.60431635, -1.24324873, -0.88218111, -0.52111349,\n",
       "       -0.16004587,  0.20102175,  0.56208937,  0.92315699,  1.28422461,\n",
       "        1.64529223,  2.00635985,  2.36742747,  2.72849509,  3.08956271,\n",
       "        3.45063034])"
      ]
     },
     "execution_count": 151,
     "metadata": {},
     "output_type": "execute_result"
    }
   ],
   "source": [
    "b"
   ]
  },
  {
   "cell_type": "code",
   "execution_count": 152,
   "metadata": {
    "autoscroll": false,
    "ein.hycell": false,
    "ein.tags": "worksheet-0",
    "slideshow": {
     "slide_type": "-"
    }
   },
   "outputs": [
    {
     "data": {
      "text/plain": [
       "array([  1,   5,   9,  22,  64, 128, 213, 302, 397, 516, 587, 567, 481,\n",
       "       304, 223, 107,  48,  16,   8,   2])"
      ]
     },
     "execution_count": 152,
     "metadata": {},
     "output_type": "execute_result"
    }
   ],
   "source": [
    "h"
   ]
  },
  {
   "cell_type": "code",
   "execution_count": 153,
   "metadata": {
    "autoscroll": false,
    "ein.hycell": false,
    "ein.tags": "worksheet-0",
    "slideshow": {
     "slide_type": "-"
    }
   },
   "outputs": [
    {
     "data": {
      "text/plain": [
       "(21, 20)"
      ]
     },
     "execution_count": 153,
     "metadata": {},
     "output_type": "execute_result"
    }
   ],
   "source": [
    "b.size, h.size"
   ]
  },
  {
   "cell_type": "markdown",
   "metadata": {
    "ein.tags": "worksheet-0",
    "slideshow": {
     "slide_type": "-"
    }
   },
   "source": [
    "La función retorna `b`: los límites de los intervalos en el eje x y `h` las alturas"
   ]
  },
  {
   "cell_type": "code",
   "execution_count": 154,
   "metadata": {
    "autoscroll": false,
    "ein.hycell": false,
    "ein.tags": "worksheet-0",
    "slideshow": {
     "slide_type": "-"
    }
   },
   "outputs": [],
   "source": [
    "x = (b[1:] + b[:-1])/2"
   ]
  },
  {
   "cell_type": "code",
   "execution_count": 155,
   "metadata": {
    "autoscroll": false,
    "ein.hycell": false,
    "ein.tags": "worksheet-0",
    "slideshow": {
     "slide_type": "-"
    }
   },
   "outputs": [
    {
     "data": {
      "image/png": "[encoded data removed]",
      "text/plain": [
       "<Figure size 432x288 with 1 Axes>"
      ]
     },
     "metadata": {
      "needs_background": "light"
     },
     "output_type": "display_data"
    }
   ],
   "source": [
    "plt.bar(x,h, align=\"center\", width=0.4)\n",
    "plt.plot(x,h, 'k', lw=4)\n",
    "plt.show()"
   ]
  },
  {
   "cell_type": "markdown",
   "metadata": {
    "ein.tags": "worksheet-0",
    "slideshow": {
     "slide_type": "-"
    }
   },
   "source": [
    "**Matplotlib** tiene una función similar, que directamente realiza el gráfico"
   ]
  },
  {
   "cell_type": "code",
   "execution_count": 156,
   "metadata": {
    "autoscroll": false,
    "ein.hycell": false,
    "ein.tags": "worksheet-0",
    "slideshow": {
     "slide_type": "-"
    }
   },
   "outputs": [
    {
     "data": {
      "image/png": "[encoded data removed]",
      "text/plain": [
       "<Figure size 432x288 with 1 Axes>"
      ]
     },
     "metadata": {
      "needs_background": "light"
     },
     "output_type": "display_data"
    }
   ],
   "source": [
    "h1, b1, p1 = plt.hist(z, bins=20)\n",
    "#x1 = (b1[:-1] + b1[1:])/2\n",
    "#plt.plot(x1, h1, '-k', lw=4)\n",
    "plt.show()"
   ]
  },
  {
   "cell_type": "markdown",
   "metadata": {
    "ein.tags": "worksheet-0",
    "slideshow": {
     "slide_type": "-"
    }
   },
   "source": [
    "Veamos otro ejemplo, agregando algún otro argumento opcional"
   ]
  },
  {
   "cell_type": "code",
   "execution_count": 157,
   "metadata": {
    "autoscroll": false,
    "ein.hycell": false,
    "ein.tags": "worksheet-0",
    "slideshow": {
     "slide_type": "-"
    }
   },
   "outputs": [
    {
     "data": {
      "image/png": "[encoded data removed]",
      "text/plain": [
       "<Figure size 432x288 with 1 Axes>"
      ]
     },
     "metadata": {
      "needs_background": "light"
     },
     "output_type": "display_data"
    }
   ],
   "source": [
    "plt.hist(z, bins=20, density=True, orientation='horizontal', alpha=0.8, histtype='stepfilled')\n",
    "plt.show()"
   ]
  },
  {
   "cell_type": "markdown",
   "metadata": {
    "ein.tags": "worksheet-0",
    "slideshow": {
     "slide_type": "-"
    }
   },
   "source": [
    "En este último ejemplo, cambiamos la orientación a `horizontal` y además normalizamos los resultados, de manera tal que la integral bajo (a la izquierda de, en este caso) la curva sea igual a 1.\n",
    "\n",
    "### Distribución binomial\n",
    "\n",
    "Cuando ocurre un evento que puede tener sólo dos resultados (verdadero, con probabilidad $p$, y falso con probabilidad $(1-p)$) y lo repetimos $N$ veces, la probabilidad de obtener el resultado con probabilidad $p$ es\n",
    "\n",
    "$$\n",
    "P(n) = \\binom{N}{n}p^{n}(1-P)^{N-n},\n",
    "$$\n",
    "\n",
    "Para elegir números al azar con esta distribución de probabilidad **Numpy** tiene la función `binomial`,  cuyo primer argumento es $N$ y el segundo $p$. Por ejemplo si tiramos una moneda 100 veces, y queremos saber cuál es la probabilidad de obtener cara $n$ veces podemos usar:"
   ]
  },
  {
   "cell_type": "code",
   "execution_count": 158,
   "metadata": {
    "autoscroll": false,
    "ein.hycell": false,
    "ein.tags": "worksheet-0",
    "slideshow": {
     "slide_type": "-"
    }
   },
   "outputs": [],
   "source": [
    "zb = np.random.binomial(100,0.5,size=30000)"
   ]
  },
  {
   "cell_type": "code",
   "execution_count": 159,
   "metadata": {
    "autoscroll": false,
    "ein.hycell": false,
    "ein.tags": "worksheet-0",
    "slideshow": {
     "slide_type": "-"
    }
   },
   "outputs": [
    {
     "data": {
      "text/plain": [
       "Text(0.5, 0, '$n$ (veces \"cara\")')"
      ]
     },
     "execution_count": 159,
     "metadata": {},
     "output_type": "execute_result"
    },
    {
     "data": {
      "image/png": "[encoded data removed]",
      "text/plain": [
       "<Figure size 432x288 with 1 Axes>"
      ]
     },
     "metadata": {
      "needs_background": "light"
     },
     "output_type": "display_data"
    }
   ],
   "source": [
    "plt.hist(zb, bins=41, density=True, range=(30,70))\n",
    "plt.xlabel('$n$ (veces \"cara\")')"
   ]
  },
  {
   "cell_type": "code",
   "execution_count": 160,
   "metadata": {},
   "outputs": [
    {
     "name": "stdout",
     "output_type": "stream",
     "text": [
      "Help on built-in function binomial:\n",
      "\n",
      "binomial(...) method of numpy.random.mtrand.RandomState instance\n",
      "    binomial(n, p, size=None)\n",
      "    \n",
      "    Draw samples from a binomial distribution.\n",
      "    \n",
      "    Samples are drawn from a binomial distribution with specified\n",
      "    parameters, n trials and p probability of success where\n",
      "    n an integer >= 0 and p is in the interval [0,1]. (n may be\n",
      "    input as a float, but it is truncated to an integer in use)\n",
      "    \n",
      "    Parameters\n",
      "    ----------\n",
      "    n : int or array_like of ints\n",
      "        Parameter of the distribution, >= 0. Floats are also accepted,\n",
      "        but they will be truncated to integers.\n",
      "    p : float or array_like of floats\n",
      "        Parameter of the distribution, >= 0 and <=1.\n",
      "    size : int or tuple of ints, optional\n",
      "        Output shape.  If the given shape is, e.g., ``(m, n, k)``, then\n",
      "        ``m * n * k`` samples are drawn.  If size is ``None`` (default),\n",
      "        a single value is returned if ``n`` and ``p`` are both scalars.\n",
      "        Otherwise, ``np.broadcast(n, p).size`` samples are drawn.\n",
      "    \n",
      "    Returns\n",
      "    -------\n",
      "    out : ndarray or scalar\n",
      "        Drawn samples from the parameterized binomial distribution, where\n",
      "        each sample is equal to the number of successes over the n trials.\n",
      "    \n",
      "    See Also\n",
      "    --------\n",
      "    scipy.stats.binom : probability density function, distribution or\n",
      "        cumulative density function, etc.\n",
      "    \n",
      "    Notes\n",
      "    -----\n",
      "    The probability density for the binomial distribution is\n",
      "    \n",
      "    .. math:: P(N) = \\binom{n}{N}p^N(1-p)^{n-N},\n",
      "    \n",
      "    where :math:`n` is the number of trials, :math:`p` is the probability\n",
      "    of success, and :math:`N` is the number of successes.\n",
      "    \n",
      "    When estimating the standard error of a proportion in a population by\n",
      "    using a random sample, the normal distribution works well unless the\n",
      "    product p*n <=5, where p = population proportion estimate, and n =\n",
      "    number of samples, in which case the binomial distribution is used\n",
      "    instead. For example, a sample of 15 people shows 4 who are left\n",
      "    handed, and 11 who are right handed. Then p = 4/15 = 27%. 0.27*15 = 4,\n",
      "    so the binomial distribution should be used in this case.\n",
      "    \n",
      "    References\n",
      "    ----------\n",
      "    .. [1] Dalgaard, Peter, \"Introductory Statistics with R\",\n",
      "           Springer-Verlag, 2002.\n",
      "    .. [2] Glantz, Stanton A. \"Primer of Biostatistics.\", McGraw-Hill,\n",
      "           Fifth Edition, 2002.\n",
      "    .. [3] Lentner, Marvin, \"Elementary Applied Statistics\", Bogden\n",
      "           and Quigley, 1972.\n",
      "    .. [4] Weisstein, Eric W. \"Binomial Distribution.\" From MathWorld--A\n",
      "           Wolfram Web Resource.\n",
      "           http://mathworld.wolfram.com/BinomialDistribution.html\n",
      "    .. [5] Wikipedia, \"Binomial distribution\",\n",
      "           https://en.wikipedia.org/wiki/Binomial_distribution\n",
      "    \n",
      "    Examples\n",
      "    --------\n",
      "    Draw samples from the distribution:\n",
      "    \n",
      "    >>> n, p = 10, .5  # number of trials, probability of each trial\n",
      "    >>> s = np.random.binomial(n, p, 1000)\n",
      "    # result of flipping a coin 10 times, tested 1000 times.\n",
      "    \n",
      "    A real world example. A company drills 9 wild-cat oil exploration\n",
      "    wells, each with an estimated probability of success of 0.1. All nine\n",
      "    wells fail. What is the probability of that happening?\n",
      "    \n",
      "    Let's do 20,000 trials of the model, and count the number that\n",
      "    generate zero positive results.\n",
      "    \n",
      "    >>> sum(np.random.binomial(9, 0.1, 20000) == 0)/20000.\n",
      "    # answer = 0.38885, or 38%.\n",
      "\n"
     ]
    }
   ],
   "source": [
    "help(np.random.binomial)"
   ]
  },
  {
   "cell_type": "markdown",
   "metadata": {
    "ein.tags": "worksheet-0",
    "slideshow": {
     "slide_type": "-"
    }
   },
   "source": [
    "Este gráfico ilustra la probabilidad de obtener $n$ veces un lado (cara) si tiramos 100 veces una moneda, como función de $n$."
   ]
  }
 ],
 "metadata": {
  "kernelspec": {
   "display_name": "Python 3",
   "language": "python",
   "name": "python3"
  },
  "language_info": {
   "codemirror_mode": {
    "name": "ipython",
    "version": 3
   },
   "file_extension": ".py",
   "mimetype": "text/x-python",
   "name": "python",
   "nbconvert_exporter": "python",
   "pygments_lexer": "ipython3",
   "version": "3.7.6"
  },
  "name": "10_mas_numpy.ipynb",
  "toc": {
   "base_numbering": 1,
   "nav_menu": {
    "height": "339.633px",
    "width": "252px"
   },
   "number_sections": true,
   "sideBar": true,
   "skip_h1_title": false,
   "title_cell": "Contenidos",
   "title_sidebar": "Contenidos",
   "toc_cell": false,
   "toc_position": {
    "height": "calc(100% - 180px)",
    "left": "10px",
    "top": "150px",
    "width": "314.4px"
   },
   "toc_section_display": true,
   "toc_window_display": false
  }
 },
 "nbformat": 4,
 "nbformat_minor": 1
}
