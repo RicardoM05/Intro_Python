{
 "cells": [
  {
   "cell_type": "markdown",
   "id": "41816711",
   "metadata": {
    "ein.tags": "worksheet-0",
    "slideshow": {
     "slide_type": "-"
    }
   },
   "source": [
    "# Visualización   <a class=\"tocSkip\">\n",
    "\n",
    "Para graficar datos y funciones vamos a usar la biblioteca **Matplotlib**.\n",
    "Vamos a empezar discutiendo algunas de las características más generales del trabajo con esta biblioteca y mostrar algún ejemplo relativamente sencillo.\n",
    "Matplotlib está dividido en tres partes o capas conceptualmente bien delimitadas:\n",
    "\n",
    "* Una parte es la que hace el trabajo más pesado administrando cada parte del gráfico (líneas, texto, figuras, etc)\n",
    "* Una segunda parte que permite un uso simple de las funciones anteriores: una interfaz con el usuario. Un ejemplo es el submódulo **pyplot**.\n",
    "* Una tercera componente que se encarga de presentar la figura en el formato adecuado. Esto es lo que se llama el *Backend* y se encarga de mostrar la figura en los distintos sistemas de ventanas, o en formatos de archivos correspondientes. Algunos ejemplos de *backend* son: PS (copias PostScript®), SVG (Scalable Vector Graphics), Agg (salida PNG de muy buena calidad), Cairo (png, pdf, ps, svg), GTK (interactivo, permite integrar matplotlib con aplicaciones Gtk+, que usa GNOME), PDF, WxWidgets (interactivo), Qt (interactivo).\n",
    "\n",
    "Nosotros vamos a concentrarnos principalmente en aprender a utilizar **pyplot**\n"
   ]
  },
  {
   "cell_type": "markdown",
   "id": "bb22def7",
   "metadata": {
    "ein.tags": "worksheet-0",
    "slideshow": {
     "slide_type": "-"
    }
   },
   "source": [
    "## Interactividad\n",
    "### Trabajo con ventanas emergentes\n",
    "\n",
    "Podemos trabajar en forma interactiva con gráficos desde una terminal de `Ipython`"
   ]
  },
  {
   "cell_type": "markdown",
   "id": "ca3c9c9a",
   "metadata": {
    "ein.tags": "worksheet-0",
    "slideshow": {
     "slide_type": "-"
    }
   },
   "source": [
    "```python\n",
    "  import matplotlib.pyplot as plt # o equivalentemente:\n",
    "  # from matplotlib import pyplot as plt\n",
    "  plt.plot([0,1,4,9,16,25])\n",
    "```"
   ]
  },
  {
   "cell_type": "markdown",
   "id": "9d9047a0",
   "metadata": {
    "ein.tags": "worksheet-0",
    "slideshow": {
     "slide_type": "-"
    }
   },
   "source": [
    "El comando (la función) `plot()` crea el gráfico pero no lo muestra. Lo hacemos explícitamente con el comando `show()`\n",
    "```python\n",
    "  plt.show()\n",
    "```"
   ]
  },
  {
   "cell_type": "markdown",
   "id": "b980a7fd",
   "metadata": {
    "ein.tags": "worksheet-0",
    "slideshow": {
     "slide_type": "-"
    }
   },
   "source": [
    "Vemos que es muy simple graficar datos.\n",
    "\n",
    "Algunas cosas a notar:\n",
    "\n",
    "1. Se abre una ventana\n",
    "2. Se bloquea la terminal (no podemos dar nuevos comandos)\n",
    "3. Si pasamos el *mouse* sobre el gráfico nos muestra las coordenadas.\n",
    "4. Además del gráfico hay una barra de herramientas:\n",
    "![](figuras/matplotlib_toolbar.png)\n",
    "De derecha a izquierda tenemos:\n",
    "  - **Grabar:** Este botón abre una ventana para guardar el gráfico en alguno de los formatos disponibles.\n",
    "  \n",
    "  - **Configuración de subplots:** Permite modificar el tamaño y posición de cada gráfico en la ventana.\n",
    "  \n",
    "  - **Agrandar (zoom) a rectángulo:**\n",
    "     - Si elegimos una región mientras apretamos el botón **izquierdo**, esta será la nueva región visible ocupando toda la ventana.\n",
    "     - Si elegimos una región mientras apretamos el botón **derecho**, pone toda la vista actual en esta región.\n",
    "  \n",
    "  - **Desplazar y agrandar (Pan and zoom):** Este botón cumple dos funciones diferentes:\n",
    "     - Con el botón izquierdo desplaza la vista. \n",
    "     - Con el botón derecho la vista se agrandará achicará en los ejes horizontal y vertical en una cantidad proporcional al movimiento.\n",
    "     \n",
    "     Si se oprime las teclas `x` o `y` las dos funciones quedan restringidas al eje correspondiente.\n",
    "  \n",
    "  - **Home, Back, Forward** son botones que nos llevan a la vista original, una vista hacia atrás o hacia adelante respectivamente\n",
    "  "
   ]
  },
  {
   "cell_type": "markdown",
   "id": "33fd9019",
   "metadata": {
    "ein.tags": "worksheet-0",
    "slideshow": {
     "slide_type": "-"
    }
   },
   "source": [
    "Si ocurre, como en este caso, que proveemos sólo una lista de datos, la función `plot()` la interpreta como los valores correspondientes al eje vertical (eje y), y toma el índice del dato para la variable independiente (eje x). Si queremos dar valores explícitamente para el eje x debemos pasarlos como primer argumento. "
   ]
  },
  {
   "cell_type": "markdown",
   "id": "eb1dec19",
   "metadata": {
    "ein.tags": "worksheet-0",
    "slideshow": {
     "slide_type": "-"
    }
   },
   "source": [
    "```python\n",
    "plt.plot([0,1,2,3,4,5],[0,1,4,9,16,25])\n",
    "plt.show()\n",
    "```"
   ]
  },
  {
   "cell_type": "markdown",
   "id": "28709afe",
   "metadata": {
    "ein.tags": "worksheet-0",
    "slideshow": {
     "slide_type": "-"
    }
   },
   "source": [
    "Como vemos, para que muestre la ventana debemos hacer un llamado explícito a la función `show()`. Esto es así porque muchas veces queremos realizar más de una operación sobre un gráfico antes de mostrarlo. Sin embargo, hay varias alternativas respecto a la interactividad de matplotlib (e ipython) que permiten adecuarla a nuestro flujo de trabajo. La manera más común en una terminal es utilizando las función `ion()` (**i**nteractive **on**) para hacerlo interactivo y la función `ioff()` para no interactivo."
   ]
  },
  {
   "cell_type": "markdown",
   "id": "a595e533",
   "metadata": {
    "ein.tags": "worksheet-0",
    "slideshow": {
     "slide_type": "-"
    }
   },
   "source": [
    "```python\n",
    "plt.ion()           # Prendemos el modo interactivo\n",
    "plt.plot([0,1,2,3,4,5],[0,1,4,9,16,25])\n",
    "```\n",
    "\n",
    "En el modo interactivo no sólo `plot()` tiene implícito el comando `show()` sino que podemos seguir ingresando comandos con el gráfico abierto.\n"
   ]
  },
  {
   "cell_type": "markdown",
   "id": "593377ba",
   "metadata": {
    "ein.tags": "worksheet-0",
    "slideshow": {
     "slide_type": "-"
    }
   },
   "source": [
    "### Trabajo sobre notebooks\n",
    "\n",
    "Para trabajar en *ipython notebooks* suele ser conveniente realizar los gráficos dentro de la misma página donde realizamos los cálculos. Si esto no ocurre automáticamente, se puede obtener con la siguiente línea:\n",
    "```python\n",
    "```"
   ]
  },
  {
   "cell_type": "code",
   "execution_count": null,
   "id": "0ef05ed7",
   "metadata": {
    "autoscroll": false,
    "ein.hycell": false,
    "ein.tags": "worksheet-0",
    "slideshow": {
     "slide_type": "-"
    }
   },
   "outputs": [],
   "source": [
    "import matplotlib.pyplot as plt\n",
    "plt.plot([1,2,3,4,5,6],[0,1,4,9,16,25])"
   ]
  },
  {
   "cell_type": "markdown",
   "id": "dc987aeb",
   "metadata": {
    "ein.tags": "worksheet-0",
    "slideshow": {
     "slide_type": "-"
    }
   },
   "source": [
    "En la práctica vamos a usar siempre **Matplotlib** junto con **Numpy**."
   ]
  },
  {
   "cell_type": "code",
   "execution_count": null,
   "id": "96a50c6c",
   "metadata": {
    "autoscroll": false,
    "ein.hycell": false,
    "ein.tags": "worksheet-0",
    "slideshow": {
     "slide_type": "-"
    }
   },
   "outputs": [],
   "source": [
    "import numpy as np\n",
    "import matplotlib.pyplot as plt"
   ]
  },
  {
   "cell_type": "markdown",
   "id": "5d444624",
   "metadata": {
    "ein.tags": "worksheet-0",
    "slideshow": {
     "slide_type": "-"
    }
   },
   "source": [
    "## Gráficos simples"
   ]
  },
  {
   "cell_type": "markdown",
   "id": "b3bfd79c",
   "metadata": {
    "ein.tags": "worksheet-0",
    "slideshow": {
     "slide_type": "-"
    }
   },
   "source": [
    "El paquete *Matplotlib* permite visualizar datos guardados en un archivo con unas pocas líneas"
   ]
  },
  {
   "cell_type": "code",
   "execution_count": null,
   "id": "6b2b42c9",
   "metadata": {
    "autoscroll": false,
    "ein.hycell": false,
    "ein.tags": "worksheet-0",
    "slideshow": {
     "slide_type": "-"
    }
   },
   "outputs": [],
   "source": [
    "fdatos = '../data/ej_oscil_aten_err.dat'"
   ]
  },
  {
   "cell_type": "code",
   "execution_count": null,
   "id": "ba852acc",
   "metadata": {
    "autoscroll": false,
    "ein.hycell": false,
    "ein.tags": "worksheet-0",
    "slideshow": {
     "slide_type": "-"
    }
   },
   "outputs": [],
   "source": [
    "x, y, yexp = np.loadtxt(fdatos, unpack=True)\n",
    "plt.plot(x, y)"
   ]
  },
  {
   "cell_type": "markdown",
   "id": "887dc496",
   "metadata": {
    "ein.tags": "worksheet-0",
    "slideshow": {
     "slide_type": "-"
    }
   },
   "source": [
    "Como vemos, es la curva que graficamos la clase anterior. \n",
    "\n",
    "Si miramos el archivo vamos a ver que tiene una columna más que corresponde a los valores medidos. En consecuencia le asignamos esta tercera columna a una variable adicional `yexp` al leerlo."
   ]
  },
  {
   "cell_type": "code",
   "execution_count": null,
   "id": "d5c8ed6f",
   "metadata": {
    "autoscroll": false,
    "ein.hycell": false,
    "ein.tags": "worksheet-0",
    "slideshow": {
     "slide_type": "-"
    }
   },
   "outputs": [],
   "source": [
    "!head ../data/ej_oscil_aten_err.dat"
   ]
  },
  {
   "cell_type": "code",
   "execution_count": null,
   "id": "7bb74c60",
   "metadata": {
    "autoscroll": false,
    "ein.hycell": false,
    "ein.tags": "worksheet-0",
    "slideshow": {
     "slide_type": "-"
    }
   },
   "outputs": [],
   "source": [
    "# Graficamos las segunda y tercera columnas como función de la primera\n",
    "plt.plot(x,yexp, x,y)"
   ]
  },
  {
   "cell_type": "markdown",
   "id": "cca82bfb",
   "metadata": {
    "ein.tags": "worksheet-0",
    "slideshow": {
     "slide_type": "-"
    }
   },
   "source": [
    "## Formato de las curvas\n",
    "En los gráficos anteriores usamos la función `plot()` en sus formas más simples.\n",
    "\n",
    "```python\n",
    "plot(y)\n",
    "plot(x,y)\n",
    "plot(x1,y1, x2, y2)\n",
    "```\n",
    "\n",
    "dando a la función `plot()` la información mínima necesaria para graficar los datos.\n",
    "Usualmente queremos poder elegir cómo vamos a graficar nuestros datos.\n"
   ]
  },
  {
   "cell_type": "markdown",
   "id": "1efc042d",
   "metadata": {
    "ein.tags": "worksheet-0",
    "slideshow": {
     "slide_type": "-"
    }
   },
   "source": [
    "### Líneas, símbolos y colores\n",
    "\n",
    "La forma más simple de elegir el modo de graficación de la curva es a través de un tercer argumento.\n",
    "Este argumento, que aparece inmediatamente después de los datos (x e y), permite controlar el tipo de línea o símbolo utilizado en la graficación. En el caso de la línea sólida se puede especificar con un guión ('-') o simplemente no poner nada, ya que línea sólida es el símbolo por defecto. Las dos especificaciones anteriores son equivalentes. También se puede elegir el color, o el símbolo a utilizar con este argumento:\n",
    "\n",
    "```python\n",
    "plot(x,y,'g-')\n",
    "plot(x,y,'ro')\n",
    "plot(x,y,'r-o')\n",
    "```\n",
    "\n",
    "![](figuras/simple_linea_simb.png)\n",
    "\n",
    "Para obtener círculos usamos una especificación que corresponde a 'o'. Además podemos poner en este argumento el color. En este caso elegimos graficar en color \"rojo (r), con una línea (-) + círculos (o)\".\n",
    "\n",
    "Con esta idea modificamos el gráfico anterior"
   ]
  },
  {
   "cell_type": "code",
   "execution_count": null,
   "id": "51758d68",
   "metadata": {
    "autoscroll": false,
    "ein.hycell": false,
    "ein.tags": "worksheet-0",
    "slideshow": {
     "slide_type": "-"
    }
   },
   "outputs": [],
   "source": [
    "plt.plot(x,y,'-', x,yexp, 'ro')"
   ]
  },
  {
   "cell_type": "markdown",
   "id": "4b6a0404",
   "metadata": {
    "ein.tags": "worksheet-0",
    "slideshow": {
     "slide_type": "-"
    }
   },
   "source": [
    "Para graficar más de una curva, en este formato simple, podemos ponerlo todo en la misma función `plot()` en la forma `plot(x1, y1, [formato], x2, y2, [formato2])` pero muchas veces es más legible separar los llamados a la función, una para cada curva. "
   ]
  },
  {
   "cell_type": "code",
   "execution_count": null,
   "id": "7846f5f0",
   "metadata": {
    "autoscroll": false,
    "ein.hycell": false,
    "ein.tags": "worksheet-0",
    "slideshow": {
     "slide_type": "-"
    }
   },
   "outputs": [],
   "source": [
    "plt.plot(x,y, '-')\n",
    "plt.plot(x,yexp, 'or')"
   ]
  },
  {
   "cell_type": "markdown",
   "id": "4554a27e",
   "metadata": {
    "ein.tags": "worksheet-0",
    "slideshow": {
     "slide_type": "-"
    }
   },
   "source": [
    "Al separar los llamados a la función `plot()` obtenemos un código más claro, principalmente cuando agregamos opciones de formato."
   ]
  },
  {
   "cell_type": "markdown",
   "id": "0a2f1e33",
   "metadata": {
    "ein.tags": "worksheet-0",
    "slideshow": {
     "slide_type": "-"
    }
   },
   "source": [
    "Los siguientes caracteres pueden utilizarse para controlar el símbolo de graficación:\n",
    "\n",
    "\n",
    "| Símbolo   |     Descripción        |\n",
    "|-----------|------------------------|\n",
    "| '-'       | solid line style       |\n",
    "| '--'      | dashed line style      |\n",
    "| '-.'      | dash-dot line style    |\n",
    "| ':'       | dotted line style      |\n",
    "| '.'       | point marker           |\n",
    "| ','       | pixel marker           |\n",
    "| 'o'       | circle marker          |\n",
    "| 'v'       | triangle down  marker  |\n",
    "| '^'       | triangle up  marker    |\n",
    "| '&lt;'    | triangle left  marker  |\n",
    "| '&gt;'    | triangle right  marker |\n",
    "| '1'       | tri down  marker       |\n",
    "| '2'       | tri up  marker         |\n",
    "| '3'       | tri left  marker       |\n",
    "| '4'       | tri right  marker      |\n",
    "| 's'       | square marker          |\n",
    "| 'p'       | pentagon marker        |\n",
    "| '\\*'      | star marker            |\n",
    "| 'h'       | hexagon1 marker        |\n",
    "| 'H'       | hexagon2 marker        |\n",
    "| '+'       | plus marker            |\n",
    "| 'x'       | x marker               |\n",
    "| 'D'       | diamond marker         |\n",
    "| 'd'       | thin diamond marker    |\n",
    "| '&#124;'  | vline marker           |\n",
    "| '\\_'      | hline marker           |\n",
    "\n",
    "\n",
    "Los colores también pueden elegirse usando los siguientes caracteres:\n",
    "\n",
    "\n",
    "|  Letra  |   Color  |\n",
    "|---------|----------|\n",
    "|'b'      |   blue   |\n",
    "|'g'      |   green  |\n",
    "|'r'      |   red    |\n",
    "|'c'      |   cyan   |\n",
    "|'m'      |   magenta|\n",
    "|'y'      |   yellow |\n",
    "|'k'      |   black  |\n",
    "|'w'      |   white  |\n",
    "\n",
    "Por ejemplo, utilizando:\n",
    "\n",
    "```python\n",
    "plt.plot(x, y1, 'gs', x, y2, '-k^', x, y3, '--r' )\n",
    "```\n",
    "\n",
    "obtenemos:\n",
    "![](figuras/simple_varios.png)\n"
   ]
  },
  {
   "cell_type": "markdown",
   "id": "18326947",
   "metadata": {
    "ein.tags": "worksheet-0",
    "slideshow": {
     "slide_type": "-"
    }
   },
   "source": [
    "La función `plot()` acepta un número variable de argumentos. Veamos lo que dice la documentación\n",
    "\n",
    "```python\n",
    "\n",
    "Signature: plt.plot(*args, **kwargs)\n",
    "Docstring:\n",
    "Plot y versus x as lines and/or markers.\n",
    "\n",
    "Call signatures::\n",
    "\n",
    "    plot([x], y, [fmt], data=None, **kwargs)\n",
    "    plot([x], y, [fmt], [x2], y2, [fmt2], ..., **kwargs)\n",
    "```\n",
    "\n",
    "En particular, podemos usar los argumentos *keywords* (pares nombre-valor) para cambiar el modo en que se grafican los datos. Algunos de los más comunes son:\n",
    "\n",
    "| Argumento       | Valor                        |\n",
    "|-----------------|------------------------------|\n",
    "| linestyle       | {'-', '–', '-.', ':', '', …} |\n",
    "| linewidth       | número real                  |\n",
    "| color           | un color                     |\n",
    "| marker          | {'o', 's', 'd', ….}          |\n",
    "| markersize      | número real                  |\n",
    "| markeredgecolor | color                        |\n",
    "| markerfacecolor | color                        |\n",
    "| markevery       | número entero                |\n",
    "\n"
   ]
  },
  {
   "cell_type": "code",
   "execution_count": null,
   "id": "6530e3ff",
   "metadata": {
    "autoscroll": false,
    "ein.hycell": false,
    "ein.tags": "worksheet-0",
    "slideshow": {
     "slide_type": "-"
    }
   },
   "outputs": [],
   "source": [
    "plt.plot(x,y,linewidth=1)\n",
    "plt.plot(x,yexp, 'o', color='red', markersize=2)"
   ]
  },
  {
   "cell_type": "code",
   "execution_count": null,
   "id": "923366b5",
   "metadata": {
    "autoscroll": false,
    "ein.hycell": false,
    "ein.tags": "worksheet-0",
    "slideshow": {
     "slide_type": "-"
    }
   },
   "outputs": [],
   "source": [
    "plt.plot(x,y,linewidth=5)\n",
    "plt.plot(x,yexp, 'o', color='green', markersize=8)"
   ]
  },
  {
   "cell_type": "code",
   "execution_count": null,
   "id": "f1d6c2d1",
   "metadata": {
    "autoscroll": false,
    "ein.hycell": false,
    "ein.tags": "worksheet-0",
    "slideshow": {
     "slide_type": "-"
    }
   },
   "outputs": [],
   "source": [
    "plt.plot(x,y,linewidth=5, linestyle='dashed')\n",
    "plt.plot(x,yexp, 'o', color='red', markersize=8, markeredgecolor='black',markevery=6)"
   ]
  },
  {
   "cell_type": "markdown",
   "id": "3c1bb050",
   "metadata": {
    "ein.tags": "worksheet-0",
    "slideshow": {
     "slide_type": "-"
    }
   },
   "source": [
    "### Nombres de ejes y leyendas\n",
    "\n",
    "Vamos ahora a agregar nombres a los ejes y a las curvas.\n",
    "\n",
    "Para agregar nombres a las curvas, tenemos que agregar un `label`, en este caso en el mismo comando `plot()`, y luego\n",
    "mostrarlo con `legend()"
   ]
  },
  {
   "cell_type": "code",
   "execution_count": null,
   "id": "a3818974",
   "metadata": {
    "autoscroll": false,
    "ein.hycell": false,
    "ein.tags": "worksheet-0",
    "slideshow": {
     "slide_type": "-"
    }
   },
   "outputs": [],
   "source": [
    "plt.plot(x,y, '-b', label=\"teoría\")\n",
    "plt.plot(x,yexp, 'or', label=\"medición\")\n",
    "#plt.legend()\n",
    "plt.legend(loc=\"lower right\", title=\"Mis datos\")"
   ]
  },
  {
   "cell_type": "markdown",
   "id": "7acb4f52",
   "metadata": {
    "ein.tags": "worksheet-0",
    "slideshow": {
     "slide_type": "-"
    }
   },
   "source": [
    "Para agregar nombres a los ejes usamos `xlabel` y `ylabel`:"
   ]
  },
  {
   "cell_type": "code",
   "execution_count": null,
   "id": "0ab60d44",
   "metadata": {
    "autoscroll": false,
    "ein.hycell": false,
    "ein.tags": "worksheet-0",
    "slideshow": {
     "slide_type": "-"
    }
   },
   "outputs": [],
   "source": [
    "plt.plot(x,yexp, 'or', label=\"medición\")\n",
    "plt.plot(x,y, '-b', label=\"teoría\")\n",
    "plt.legend(loc=\"lower right\", title=\"Mis datos\")\n",
    "plt.xlabel('Tiempo (micro-segundos)')\n",
    "plt.ylabel(\"Voltaje (mV)\");"
   ]
  },
  {
   "cell_type": "markdown",
   "id": "e0b9e42b",
   "metadata": {
    "ein.tags": "worksheet-0",
    "slideshow": {
     "slide_type": "-"
    }
   },
   "source": [
    "Los títulos a la figura se pueden agregar con `title`"
   ]
  },
  {
   "cell_type": "code",
   "execution_count": null,
   "id": "e28e613b",
   "metadata": {
    "autoscroll": false,
    "ein.hycell": false,
    "ein.tags": "worksheet-0",
    "slideshow": {
     "slide_type": "-"
    }
   },
   "outputs": [],
   "source": [
    "plt.plot(x,y, '-b', label=\"teoría\")\n",
    "plt.plot(x,yexp, 'or', label=\"medición\")\n",
    "plt.legend(loc=\"lower right\", title=\"Mis datos\")\n",
    "plt.xlabel('Tiempo (micro-segundos)')\n",
    "plt.ylabel(\"Voltaje (mV)\")\n",
    "plt.title(\"Medición de ayer\")\n",
    "plt.axvline(x=1, color='gray')\n",
    "plt.axhline(color='gray')"
   ]
  },
  {
   "cell_type": "markdown",
   "id": "c80678d3",
   "metadata": {
    "ein.tags": "worksheet-0",
    "slideshow": {
     "slide_type": "-"
    }
   },
   "source": [
    "Acá además agregamos una línea vertical y una horizontal."
   ]
  },
  {
   "cell_type": "markdown",
   "id": "4da8d204",
   "metadata": {
    "ein.tags": "worksheet-0",
    "slideshow": {
     "slide_type": "-"
    }
   },
   "source": [
    "------\n",
    "\n",
    "## Ejercicios 09 (a)\n",
    "\n",
    "1. Realizar un programa para visualizar la función\n",
    "   $$ f(x,n,w) = x^n |\\sin(w x)| $$\n",
    "\n",
    "   El programa debe realizar el gráfico para $w=10$, con cuatro curvas para $n=1,2,3,4$, similar al que se muestra\n",
    "   en la siguiente figura\n",
    "\n",
    "   ![](figuras/ejerc_vis_f1.png)\n",
    "\n",
    "------"
   ]
  },
  {
   "cell_type": "markdown",
   "id": "0f082d8d",
   "metadata": {
    "ein.tags": "worksheet-0",
    "slideshow": {
     "slide_type": "-"
    }
   },
   "source": [
    "## Escalas y límites de graficación (vista)\n",
    "\n",
    "Para cambiar los límites de graficación se puede usar las funciones `xlim` para el eje horizontal y `ylim` para el vertical"
   ]
  },
  {
   "cell_type": "code",
   "execution_count": null,
   "id": "e412b2c7",
   "metadata": {
    "autoscroll": false,
    "ein.hycell": false,
    "ein.tags": "worksheet-0",
    "slideshow": {
     "slide_type": "-"
    }
   },
   "outputs": [],
   "source": [
    "plt.plot(x,y, '-b', label=\"teoría\")\n",
    "plt.plot(x,yexp, 'or', label=\"medición\")\n",
    "plt.legend(loc=\"lower right\", title=\"Mis datos\")\n",
    "plt.xlabel('Tiempo (micro-segundos)')\n",
    "plt.ylabel(\"Voltaje (mV)\")\n",
    "plt.title(\"Medición de ayer\")\n",
    "plt.axvline(x=1, color='gray')\n",
    "plt.axhline(color='gray')\n",
    "plt.xlim((0,2.5))\n",
    "plt.ylim((-0.4, 0.32))"
   ]
  },
  {
   "cell_type": "markdown",
   "id": "c3795c26",
   "metadata": {
    "ein.tags": "worksheet-0",
    "slideshow": {
     "slide_type": "-"
    }
   },
   "source": [
    "Para pasar a escala logarítmica usamos `xscale` o `yscale`"
   ]
  },
  {
   "cell_type": "code",
   "execution_count": null,
   "id": "56e2b83c",
   "metadata": {
    "autoscroll": false,
    "ein.hycell": false,
    "ein.tags": "worksheet-0",
    "slideshow": {
     "slide_type": "-"
    }
   },
   "outputs": [],
   "source": [
    "plt.plot(x,y, '-b', label=\"teoría\")\n",
    "plt.plot(x,yexp, 'or', label=\"medición\")\n",
    "plt.legend(loc=\"best\", title=\"Mis datos\")\n",
    "plt.xlabel('Tiempo (micro-segundos)')\n",
    "plt.ylabel(\"Voltaje (mV)\")\n",
    "plt.title(\"Medición de ayer\")\n",
    "plt.axvline(x=1, color='gray')\n",
    "plt.axhline(color='gray')\n",
    "plt.xlim((1.e-1,3))\n",
    "plt.xscale('log')\n",
    "plt.ylim((-0.4, 0.32))"
   ]
  },
  {
   "cell_type": "code",
   "execution_count": null,
   "id": "c22dd588",
   "metadata": {
    "autoscroll": false,
    "ein.hycell": false,
    "ein.tags": "worksheet-0",
    "slideshow": {
     "slide_type": "-"
    }
   },
   "outputs": [],
   "source": [
    "plt.plot(x,1+y, '-b', label=\"teoría\")\n",
    "plt.plot(x,1+yexp, 'or', label=\"medición\")\n",
    "plt.legend(loc=\"best\", title=\"Mis datos\")\n",
    "plt.xlabel('Tiempo (micro-segundos)')\n",
    "plt.ylabel(\"Voltaje (mV)\")\n",
    "plt.title(\"Medición de ayer\")\n",
    "plt.axvline(x=1, color='gray')\n",
    "plt.axhline(color='gray')\n",
    "plt.xlim((1.e-1,3))\n",
    "plt.xscale('log')\n",
    "plt.yscale('log')\n",
    "plt.ylim((0.6, 1.4))"
   ]
  },
  {
   "cell_type": "markdown",
   "id": "854750d4",
   "metadata": {
    "ein.tags": "worksheet-0",
    "slideshow": {
     "slide_type": "-"
    }
   },
   "source": [
    "## Exportar las figuras\n",
    "\n",
    "Para guardar las figuras en alguno de los formatos disponibles utilizamos la función `savefig()`."
   ]
  },
  {
   "cell_type": "code",
   "execution_count": null,
   "id": "4b037a9c",
   "metadata": {
    "autoscroll": false,
    "ein.hycell": false,
    "ein.tags": "worksheet-0",
    "slideshow": {
     "slide_type": "-"
    }
   },
   "outputs": [],
   "source": [
    "foname = 'ej_plot_osc'\n",
    "plt.plot(x,y, '-b', label=r\"$\\frac{\\sin(x^2)}{[2 + \\cos (x)]^2}$\")\n",
    "plt.plot(x,yexp, 'or', label=\"$\\mathrm{Medición}$\")\n",
    "plt.legend(loc=\"best\", title=\"Mis datos\", fontsize='x-large')\n",
    "plt.xlabel(r'Tiempo ($\\mu$-segundos)', fontsize='x-large')\n",
    "plt.ylabel(\"Voltaje (mV)\", fontsize='x-large')\n",
    "plt.title(\"Medición de ayer\")\n",
    "plt.axvline(x=1, color='gray')\n",
    "plt.axhline(color='gray')\n",
    "plt.xlim((0,3))\n",
    "plt.ylim((-0.4, 0.32))\n",
    "plt.grid()\n",
    "#plt.grid(color='green', linestyle='dashed', linewidth=1)\n",
    "plt.savefig('{}.png'.format(foname), dpi=200)\n",
    "plt.savefig('{}.pdf'.format(foname))"
   ]
  },
  {
   "cell_type": "code",
   "execution_count": null,
   "id": "4207abcb",
   "metadata": {
    "autoscroll": false,
    "ein.hycell": false,
    "ein.tags": "worksheet-0",
    "slideshow": {
     "slide_type": "-"
    }
   },
   "outputs": [],
   "source": [
    "help(plt.grid)"
   ]
  },
  {
   "cell_type": "markdown",
   "id": "570f727b",
   "metadata": {
    "ein.tags": "worksheet-0",
    "slideshow": {
     "slide_type": "-"
    }
   },
   "source": [
    "Acá también hemos utilizado formato tipo LaTeX para parte del texto. Si utilizamos una expresión encerrada entre los símbolos `$`, matplotlib interpreta que está escrito en (un subconjunto) de LaTeX.\n",
    "\n",
    "**Matplotlib** tiene un procesador de símbolos interno para mostrar la notación en LaTeX que reconoce los elementos más comunes, o puede elegirse utilizar un procesador LaTeX externo."
   ]
  },
  {
   "cell_type": "markdown",
   "id": "149f5964",
   "metadata": {
    "ein.tags": "worksheet-0",
    "slideshow": {
     "slide_type": "-"
    }
   },
   "source": [
    "## Dos gráficos en la misma figura\n",
    "\n",
    "Hay varias funciones que permiten poner más de un gráfico en la misma figura. Veamos un ejemplo utilizando la función `subplots()`"
   ]
  },
  {
   "cell_type": "code",
   "execution_count": null,
   "id": "afaa5c47",
   "metadata": {
    "autoscroll": false,
    "ein.hycell": false,
    "ein.tags": "worksheet-0",
    "slideshow": {
     "slide_type": "-"
    }
   },
   "outputs": [],
   "source": [
    "# %load scripts/ejemplo_08_5.py\n",
    "#! /usr/bin/ipython3\n",
    "\n",
    "\"\"\" Script realizado durante la clase 9. Dos figuras \"\"\"\n",
    "from os.path import join\n",
    "\n",
    "import numpy as np\n",
    "import matplotlib.pyplot as plt\n",
    "plt.ion()\n",
    "\n",
    "fname = 'ej_oscil_aten_err'\n",
    "# Levantamos los datos\n",
    "pardir = '..'\n",
    "datfile = join(pardir, 'data/{}.dat'.format(fname))\n",
    "\n",
    "x1, y1, y2 = np.loadtxt(datfile, unpack=True)\n",
    "# Vamos a graficar sólo algunos valores (uno de cada 5)\n",
    "x = x1[3:-10:5]\n",
    "y = y1[3:-10:5]\n",
    "yexp = y2[3:-10:5]\n",
    "\n",
    "# Ejemplo de barras de error que dependen del eje x\n",
    "error = 0.05 + 0.3 * y\n",
    "\n",
    "fig, (ax0, ax1) = plt.subplots(num='subplots', nrows=2, sharex=True)\n",
    "ax0.errorbar(x, yexp, yerr=error, fmt='-o')\n",
    "ax1.plot(x, 2 * (yexp - y) / (yexp + y), 'or', markersize=8)\n",
    "\n",
    "\n",
    "# Límites de graficación y títulos\n",
    "ax0.set_title('Datos con error variable')\n",
    "ax1.set_title('Error relativo')\n",
    "ax0.set_ylabel('Voltaje (mV)', fontsize='x-large')\n",
    "ax1.set_xlabel(r'Tiempo ($\\mu$-seg)', fontsize='x-large')\n",
    "ax1.set_ylabel('Error relativo', fontsize='x-large')\n",
    "ax1.set_xlim((0, 3))\n",
    "\n",
    "# Guardamos el resultado\n",
    "plt.savefig('{}.png'.format(fname), dpi=72)\n"
   ]
  },
  {
   "cell_type": "markdown",
   "id": "3c090de7",
   "metadata": {},
   "source": [
    "En este ejemplo utilizamos un enfoque diferente al utilizado anteriormente. Matplotlib presenta también una interface orientada a objetos. La función `subplots()` devuelve un par ```fig, axis``` que son dos objetos utilizados para representar la *figura* y un *eje*. Los métodos de estos objetos presentan funcionalidad similar a las funciones del módulo `pyplot`."
   ]
  },
  {
   "cell_type": "markdown",
   "id": "cc7b4d72",
   "metadata": {
    "ein.tags": "worksheet-0",
    "slideshow": {
     "slide_type": "-"
    }
   },
   "source": [
    "-----\n",
    "\n",
    "## Ejercicios 09 (b)\n",
    "\n",
    "2. Para la función definida a trozos:\n",
    "   $$\n",
    "   f(x) =\n",
    "   \\begin{cases}\n",
    "     f_{1}(x) = x^{2}/8 & - \\pi < x \\le \\pi/2  \\\\\n",
    "     f_{2}(x) = -0.3 x  & \\pi/2 < x < \\pi \\\\\n",
    "     f_{3}(x) = -(x - 2 \\pi)^{2}/6 & \\pi \\le x \\le 5 \\pi/2 \\\\\n",
    "     f_{4}(x) = (x - 2 \\pi)/5 & 5 \\pi/2 < x \\le 3 \\pi\n",
    "     \\end{cases}\n",
    "   $$\n",
    "   realizar la siguiente figura de la manera más fiel posible.\n",
    "\n",
    "   ![](figuras/ejercicio_08_1.png)\n",
    "\n",
    "   **Pistas:** Buscar información sobre `plt.fill_between()` y sobre `plt.xticks` y `plt.yticks`. \n",
    "\n",
    "3. Rehacer la siguiente figura:\n",
    "\n",
    "   ![](figuras/ejercicio_08_2.png)\n",
    "\n",
    "-----\n",
    "\n",
    "."
   ]
  }
 ],
 "metadata": {
  "kernelspec": {
   "display_name": "Python 3 (ipykernel)",
   "language": "python",
   "name": "python3"
  },
  "language_info": {
   "codemirror_mode": {
    "name": "ipython",
    "version": 3
   },
   "file_extension": ".py",
   "mimetype": "text/x-python",
   "name": "python",
   "nbconvert_exporter": "python",
   "pygments_lexer": "ipython3",
   "version": "3.11.1"
  },
  "name": "09_1_intro_visualizacion.ipynb",
  "toc": {
   "base_numbering": 1,
   "nav_menu": {
    "height": "318.733px",
    "width": "251.667px"
   },
   "number_sections": false,
   "sideBar": true,
   "skip_h1_title": false,
   "title_cell": "Contenidos",
   "title_sidebar": "Contenidos",
   "toc_cell": false,
   "toc_position": {
    "height": "calc(100% - 180px)",
    "left": "10px",
    "top": "150px",
    "width": "384px"
   },
   "toc_section_display": true,
   "toc_window_display": true
  }
 },
 "nbformat": 4,
 "nbformat_minor": 5
}
