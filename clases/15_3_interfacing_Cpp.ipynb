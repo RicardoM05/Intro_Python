{
 "cells": [
  {
   "attachments": {},
   "cell_type": "markdown",
   "metadata": {
    "ein.tags": "worksheet-0",
    "slideshow": {
     "slide_type": "-"
    }
   },
   "source": [
    "## Interfaces con clases en C++\n",
    "\n",
    "El ejemplo original está [acá](https://stackoverflow.com/questions/602580/how-can-i-use-c-class-in-python) que sigue [este ejemplo](https://www.auctoris.co.uk/2017/04/29/calling-c-classes-from-python-with-ctypes/):\n",
    "\n",
    "El código en C++ que tenemos es:\n",
    "\n",
    "```c++\n",
    "class Test{\n",
    "     private:\n",
    "        int n;\n",
    "     public:\n",
    "        Test(int k){\n",
    "            n=k;\n",
    "        }\n",
    "        void setInt(int k){\n",
    "            n = k;\n",
    "        }\n",
    "        int getInt(){\n",
    "            return n;\n",
    "        }\n",
    "};\n",
    "```"
   ]
  },
  {
   "cell_type": "code",
   "execution_count": 3,
   "metadata": {},
   "outputs": [
    {
     "name": "stdout",
     "output_type": "stream",
     "text": [
      "/Users/flavioc/Library/Mobile Documents/com~apple~CloudDocs/Documents/cursos/Python/intro-python-IB/scripts/interfacing_Cpp\n"
     ]
    }
   ],
   "source": [
    "cd ../scripts/interfacing_Cpp"
   ]
  },
  {
   "attachments": {},
   "cell_type": "markdown",
   "metadata": {},
   "source": [
    "La implementación de Python que estamos usando está escrita en C, de modo tal que tenemos que exportar las funciones de la clase `Test` en C++ en el código fuente de la siguiente manera:\n",
    "\n",
    "```c++\n",
    "extern \"C\" \n",
    "{\n",
    "    // include below each method you want to make visible outside\n",
    "    Test* init(int k) {return new Test(k);}\n",
    "    void setInt(Test *self, int k) {self->setInt(k);}\n",
    "    int getInt(Test *self) {return self->getInt();}\n",
    "    \n",
    "    // Add the declaration '__declspec(dllexport)' before each function in Windows\n",
    "}\n",
    "```\n",
    "\n",
    "La declaración `extern \"C\"` indican al compilador de C++ que genere código compatible con C de todas las funciones incluídas en el bloque. "
   ]
  },
  {
   "attachments": {},
   "cell_type": "markdown",
   "metadata": {
    "ein.tags": "worksheet-0",
    "slideshow": {
     "slide_type": "-"
    }
   },
   "source": [
    "### CTypes\n",
    "\n",
    "Vamos ahora a usar directamente `Ctypes`. Como antes, el primer paso es compilar nuestro código y generar una biblioteca:\n",
    "```bash\n",
    "$ g++ -fpic -shared test.cpp -o libtest.so\n",
    "```\n",
    "\n",
    "Si uno trabaja en Windows, generará una dll\n",
    "\n",
    "```cmd\n",
    "cl.exe -c test.cpp\n",
    "link.exe /DLL /OUT:test.dll\n",
    "```\n"
   ]
  },
  {
   "cell_type": "code",
   "execution_count": null,
   "metadata": {
    "autoscroll": false,
    "ein.tags": "worksheet-0",
    "slideshow": {
     "slide_type": "-"
    }
   },
   "outputs": [],
   "source": [
    "# !gcc -fpic -Wall -shared rotacion.c -o librotacion.so\n",
    "!g++ -fpic -shared test.cpp -o libtest.so\n",
    "\n"
   ]
  },
  {
   "cell_type": "code",
   "execution_count": null,
   "metadata": {},
   "outputs": [],
   "source": [
    "!ls"
   ]
  },
  {
   "attachments": {},
   "cell_type": "markdown",
   "metadata": {},
   "source": [
    "En segundo lugar, importamos el módulo `ctypes`"
   ]
  },
  {
   "cell_type": "code",
   "execution_count": 4,
   "metadata": {
    "autoscroll": false,
    "ein.tags": "worksheet-0",
    "slideshow": {
     "slide_type": "-"
    }
   },
   "outputs": [],
   "source": [
    "import ctypes"
   ]
  },
  {
   "attachments": {},
   "cell_type": "markdown",
   "metadata": {},
   "source": [
    "Este módulo nos provee de la función `CDLL` para importar la biblioteca"
   ]
  },
  {
   "cell_type": "code",
   "execution_count": 5,
   "metadata": {},
   "outputs": [],
   "source": [
    "lib = ctypes.CDLL('./libtest.so')"
   ]
  },
  {
   "attachments": {},
   "cell_type": "markdown",
   "metadata": {},
   "source": [
    "Ahora vamos a crear una clase en Python equivalente a la que teníamos en C++. Al igual que en el caso de C, tenemos que establecer los tipos de datos de entrada (via el método `argtypes`) y salida (vía el método `restype`) para _cada función de la clase_. "
   ]
  },
  {
   "cell_type": "code",
   "execution_count": 6,
   "metadata": {},
   "outputs": [],
   "source": [
    "\n",
    "class Test():\n",
    "    def __init__(self, val: int):\n",
    "        # Declare input and output types for each method you intend to use\n",
    "        lib.init.argtypes = [ctypes.c_int]\n",
    "        lib.init.restype = ctypes.c_void_p\n",
    "\n",
    "        lib.setInt.argtypes = [ctypes.c_void_p, ctypes.c_int]\n",
    "        lib.setInt.restype = ctypes.c_void_p\n",
    "\n",
    "        lib.getInt.argtypes = [ctypes.c_void_p]\n",
    "        lib.getInt.restype = ctypes.c_int\n",
    "        \n",
    "        # use the C++ constructor to build the instance \n",
    "        self.q = lib.init(val)\n",
    "\n",
    "    def setInt(self, n):\n",
    "        lib.setInt(self.q, n)\n",
    "    \n",
    "    def getInt(self):\n",
    "        return lib.getInt(self.q)\n"
   ]
  },
  {
   "cell_type": "code",
   "execution_count": 7,
   "metadata": {},
   "outputs": [
    {
     "name": "stdout",
     "output_type": "stream",
     "text": [
      "12\n",
      "32\n"
     ]
    }
   ],
   "source": [
    "T1 = Test(12)\n",
    "print(T1.getInt())\n",
    "T1.setInt(32)\n",
    "print(T1.getInt())"
   ]
  },
  {
   "cell_type": "code",
   "execution_count": 9,
   "metadata": {},
   "outputs": [
    {
     "data": {
      "text/plain": [
       "int"
      ]
     },
     "execution_count": 9,
     "metadata": {},
     "output_type": "execute_result"
    }
   ],
   "source": [
    "type(T1.q)"
   ]
  }
 ],
 "metadata": {
  "kernelspec": {
   "display_name": "Python 3 (ipykernel)",
   "language": "python",
   "name": "python3"
  },
  "language_info": {
   "codemirror_mode": {
    "name": "ipython",
    "version": 3
   },
   "file_extension": ".py",
   "mimetype": "text/x-python",
   "name": "python",
   "nbconvert_exporter": "python",
   "pygments_lexer": "ipython3",
   "version": "3.9.5"
  },
  "name": "Untitled.ipynb",
  "toc": {
   "base_numbering": 1,
   "nav_menu": {},
   "number_sections": true,
   "sideBar": true,
   "skip_h1_title": false,
   "title_cell": "Contenidos",
   "title_sidebar": "Contenidos",
   "toc_cell": false,
   "toc_position": {},
   "toc_section_display": true,
   "toc_window_display": true
  }
 },
 "nbformat": 4,
 "nbformat_minor": 1
}
