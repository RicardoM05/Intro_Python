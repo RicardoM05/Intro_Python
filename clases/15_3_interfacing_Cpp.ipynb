{
 "cells": [
  {
   "cell_type": "markdown",
   "id": "2df003e6-416f-4ba8-84dc-28db5b1d47cb",
   "metadata": {
    "collapsed": false,
    "ein.tags": "worksheet-0",
    "slideshow": {
     "slide_type": "-"
    }
   },
   "source": [
    "## Interfaces con clases en C++\n",
    "\n",
    "El ejemplo original está [acá](https://stackoverflow.com/questions/602580/how-can-i-use-c-class-in-python) que sigue [este ejemplo](https://www.auctoris.co.uk/2017/04/29/calling-c-classes-from-python-with-ctypes/):\n",
    "\n",
    "El código en C++ que tenemos es:\n",
    "\n",
    "```c++\n",
    "class Test{\n",
    "     private:\n",
    "        int n;\n",
    "     public:\n",
    "        Test(int k){\n",
    "            n=k;\n",
    "        }\n",
    "        void setInt(int k){\n",
    "            n = k;\n",
    "        }\n",
    "        int getInt(){\n",
    "            return n;\n",
    "        }\n",
    "};\n",
    "```"
   ]
  },
  {
   "cell_type": "code",
   "execution_count": null,
   "id": "d79a6a1c-7df9-4a8e-b2dd-0b08273a2c2a",
   "metadata": {
    "collapsed": false
   },
   "outputs": [],
   "source": [
    "cd ../scripts/interfacing_Cpp"
   ]
  },
  {
   "cell_type": "markdown",
   "id": "223f5c72-5ae1-4ad9-a324-182d478a07e8",
   "metadata": {
    "collapsed": false
   },
   "source": [
    "La implementación de Python que estamos usando está escrita en C, de modo tal que tenemos que exportar las funciones de la clase `Test` en C++ en el código fuente de la siguiente manera:\n",
    "\n",
    "```c++\n",
    "extern \"C\" \n",
    "{\n",
    "    // include below each method you want to make visible outside\n",
    "    Test* init(int k) {return new Test(k);}\n",
    "    void setInt(Test *self, int k) {self->setInt(k);}\n",
    "    int getInt(Test *self) {return self->getInt();}\n",
    "    \n",
    "    // Add the declaration '__declspec(dllexport)' before each function in Windows\n",
    "}\n",
    "```\n",
    "\n",
    "La declaración `extern \"C\"` indican al compilador de C++ que genere código compatible con C de todas las funciones incluídas en el bloque. "
   ]
  },
  {
   "cell_type": "markdown",
   "id": "41b338be-efda-48b4-b1cc-e62003a2ecba",
   "metadata": {
    "collapsed": false,
    "ein.tags": "worksheet-0",
    "slideshow": {
     "slide_type": "-"
    }
   },
   "source": [
    "### CTypes\n",
    "\n",
    "Vamos ahora a usar directamente `Ctypes`. Como antes, el primer paso es compilar nuestro código y generar una biblioteca:\n",
    "```bash\n",
    "$ g++ -fpic -shared test.cpp -o libtest.so\n",
    "```\n",
    "\n",
    "Si uno trabaja en Windows, generará una dll\n",
    "\n",
    "```cmd\n",
    "cl.exe -c test.cpp\n",
    "link.exe /DLL /OUT:test.dll\n",
    "```\n"
   ]
  },
  {
   "cell_type": "code",
   "execution_count": null,
   "id": "16473d58-60b2-426d-9ee9-433803cfb5d4",
   "metadata": {
    "autoscroll": false,
    "collapsed": false,
    "ein.tags": "worksheet-0",
    "slideshow": {
     "slide_type": "-"
    }
   },
   "outputs": [],
   "source": [
    "# !gcc -fpic -Wall -shared rotacion.c -o librotacion.so\n",
    "!g++ -fpic -shared test.cpp -o libtest.so\n",
    "\n"
   ]
  },
  {
   "cell_type": "code",
   "execution_count": null,
   "id": "21a65c74-c7c9-4380-9904-c9c9434672b2",
   "metadata": {
    "collapsed": false
   },
   "outputs": [],
   "source": [
    "!ls"
   ]
  },
  {
   "cell_type": "markdown",
   "id": "489efd2a-2240-49fd-8e50-83829dc040f6",
   "metadata": {
    "collapsed": false
   },
   "source": [
    "En segundo lugar, importamos el módulo `ctypes`"
   ]
  },
  {
   "cell_type": "code",
   "execution_count": null,
   "id": "59a9c816-ad82-4642-b57c-7f8d59da4253",
   "metadata": {
    "autoscroll": false,
    "collapsed": false,
    "ein.tags": "worksheet-0",
    "slideshow": {
     "slide_type": "-"
    }
   },
   "outputs": [],
   "source": [
    "import ctypes"
   ]
  },
  {
   "cell_type": "markdown",
   "id": "eba06ea3-87b1-408b-94af-a851fa6a1529",
   "metadata": {
    "collapsed": false
   },
   "source": [
    "Este módulo nos provee de la función `CDLL` para importar la biblioteca"
   ]
  },
  {
   "cell_type": "code",
   "execution_count": null,
   "id": "58d17dde-c82b-495b-ad83-77b3fa6a7afd",
   "metadata": {
    "collapsed": false
   },
   "outputs": [],
   "source": [
    "lib = ctypes.CDLL('./libtest.so')"
   ]
  },
  {
   "cell_type": "markdown",
   "id": "162dc1b4-9b49-4d43-ad19-239882637f8e",
   "metadata": {
    "collapsed": false
   },
   "source": [
    "Ahora vamos a crear una clase en Python equivalente a la que teníamos en C++. Al igual que en el caso de C, tenemos que establecer los tipos de datos de entrada (via el método `argtypes`) y salida (vía el método `restype`) para _cada función de la clase_. "
   ]
  },
  {
   "cell_type": "code",
   "execution_count": null,
   "id": "7193ee1e-fcec-4cf4-81cd-a46e5ba1cd40",
   "metadata": {
    "collapsed": false
   },
   "outputs": [],
   "source": [
    "\n",
    "class Test():\n",
    "    def __init__(self, val: int):\n",
    "        # Declare input and output types for each method you intend to use\n",
    "        lib.init.argtypes = [ctypes.c_int]\n",
    "        lib.init.restype = ctypes.c_void_p\n",
    "\n",
    "        lib.setInt.argtypes = [ctypes.c_void_p, ctypes.c_int]\n",
    "        lib.setInt.restype = ctypes.c_void_p\n",
    "\n",
    "        lib.getInt.argtypes = [ctypes.c_void_p]\n",
    "        lib.getInt.restype = ctypes.c_int\n",
    "        \n",
    "        # use the C++ constructor to build the instance \n",
    "        self.q = lib.init(val)\n",
    "\n",
    "    def setInt(self, n):\n",
    "        lib.setInt(self.q, n)\n",
    "    \n",
    "    def getInt(self):\n",
    "        return lib.getInt(self.q)\n"
   ]
  },
  {
   "cell_type": "code",
   "execution_count": null,
   "id": "d7a49573-12fa-4dc2-9ad1-e4f658c0b664",
   "metadata": {
    "collapsed": false
   },
   "outputs": [],
   "source": [
    "T1 = Test(12)\n",
    "print(T1.getInt())\n",
    "T1.setInt(32)\n",
    "print(T1.getInt())"
   ]
  },
  {
   "cell_type": "code",
   "execution_count": null,
   "id": "a74b7fea-f509-4a2f-a4c6-33d4d5881066",
   "metadata": {
    "collapsed": false
   },
   "outputs": [],
   "source": [
    "type(T1.q)"
   ]
  }
 ],
 "metadata": {
  "kernelspec": {
   "argv": [
    "/usr/bin/python3",
    "-m",
    "ipykernel_launcher",
    "-f",
    "{connection_file}"
   ],
   "display_name": "Python 3 (ipykernel)",
   "env": null,
   "interrupt_mode": "signal",
   "language": "python",
   "metadata": {
    "debugger": false
   },
   "name": "python3"
  },
  "language_info": {
   "codemirror_mode": {
    "name": "ipython",
    "version": 3
   },
   "file_extension": ".py",
   "mimetype": "text/x-python",
   "name": "python",
   "nbconvert_exporter": "python",
   "pygments_lexer": "ipython3",
   "version": "3.9.5"
  },
  "name": "15_3_interfacing_Cpp.ipynb",
  "toc": {
   "base_numbering": 1,
   "nav_menu": null,
   "number_sections": true,
   "sideBar": true,
   "skip_h1_title": false,
   "title_cell": "Contenidos",
   "title_sidebar": "Contenidos",
   "toc_cell": false,
   "toc_position": null,
   "toc_section_display": true,
   "toc_window_display": true
  }
 },
 "nbformat": 4,
 "nbformat_minor": 1
}
