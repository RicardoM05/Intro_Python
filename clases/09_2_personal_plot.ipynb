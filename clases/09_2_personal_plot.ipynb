{
 "cells": [
  {
   "cell_type": "markdown",
   "id": "c27f4939-840d-45ba-856f-884b3ef1ef3c",
   "metadata": {
    "collapsed": false
   },
   "source": [
    "## Personalizando el modo de visualización\n",
    "\n",
    "**Matplotlib** da la posibilidad de modificar el estilo de la graficación en distintas \"etapas\".\n",
    "\n",
    "### Archivo de configuración\n",
    "\n",
    "\n",
    "Cuando uno carga el módulo busca un archivo de configuración llamado `matplotlibrc`\n",
    "\n",
    "  1. Primero busca un archivo de configuración en el directorio de trabajo también lo lee. En cada caso sobreescribe las variables. \n",
    "  2. Si la variable `MATPLOTLIBRC` existe (para el usuario), busca el archivo `$MATPLOTLIBRC/matplotlibrc`\n",
    "  3. Luego lee un archivo de configuración global del usuario, que dependiendo del sistema operativo puede ser:\n",
    "    * En Linux, `.config/matplotlib/matplotlibrc` (o en `$XDG_CONFIG_HOME/matplotlib/matplotlibrc` si la variable `XDG_CONFIG_HOME` existe)\n",
    "    * En otras plataformas puede estar en algún lugar como: `C:\\Documents and Settings\\USUARIO\\.matplotlib`\n",
    "  4. Finalmente lee el archivo global de la instalación, `INSTALL/matplotlib/mpl-data/matplotlibrc`, donde INSTALL se refiere al lugar de instalación\n",
    "\n",
    "En cualquier caso, podemos obtener el directorio y archivo de configuración con las funciones:"
   ]
  },
  {
   "cell_type": "code",
   "execution_count": null,
   "id": "80e34254-00a7-409e-8733-ae8a5d12d800",
   "metadata": {
    "collapsed": false
   },
   "outputs": [],
   "source": [
    "import matplotlib"
   ]
  },
  {
   "cell_type": "code",
   "execution_count": null,
   "id": "e0694c78-c750-43a8-a4df-619de4f5728d",
   "metadata": {
    "collapsed": false
   },
   "outputs": [],
   "source": [
    "matplotlib.get_configdir()"
   ]
  },
  {
   "cell_type": "code",
   "execution_count": null,
   "id": "51fb5b47-3870-4063-920b-881fd1f1d2dc",
   "metadata": {
    "collapsed": false
   },
   "outputs": [],
   "source": [
    "matplotlib.matplotlib_fname()"
   ]
  },
  {
   "cell_type": "code",
   "execution_count": null,
   "id": "00efac8e-eaaa-4247-acae-aa4de53eb06b",
   "metadata": {
    "collapsed": false
   },
   "outputs": [],
   "source": [
    "!head -n 40 '/usr/share/matplotlib/mpl-data/matplotlibrc'"
   ]
  },
  {
   "cell_type": "markdown",
   "id": "1eee29e9-86d0-4969-acc8-c3f8d8e3e754",
   "metadata": {
    "collapsed": false
   },
   "source": [
    "### Hojas de estilo\n",
    "\n",
    "Matplotlib ha incorporado en los últimos años un paquete que permite cambiar estilos fácilmente utilizando los mismos nombres para los parámetros que hay en el archivo de configuración `matplotlibrc`.\n",
    "\n",
    "Este paquete tiene pre-definidos unos pocos estilos, entre ellos varios que emulan otros paquetes o programas. Veamos un ejemplo:\n"
   ]
  },
  {
   "cell_type": "code",
   "execution_count": null,
   "id": "4898b48f-6b66-4952-b918-d93d51b7f7b4",
   "metadata": {
    "collapsed": false
   },
   "outputs": [],
   "source": [
    "import numpy as np\n",
    "import matplotlib.pyplot as plt"
   ]
  },
  {
   "cell_type": "code",
   "execution_count": null,
   "id": "5e348a80-1884-4271-880f-47bfc0a2d62f",
   "metadata": {
    "collapsed": false
   },
   "outputs": [],
   "source": [
    "fdatos = '../data/ej_oscil_aten_err.dat'\n",
    "x, y, yexp = np.loadtxt(fdatos, unpack=True)"
   ]
  },
  {
   "cell_type": "code",
   "execution_count": null,
   "id": "7931ec97-5bb0-481b-9b0c-5dd6f62b018f",
   "metadata": {
    "collapsed": false
   },
   "outputs": [],
   "source": [
    "plt.plot(x,y, x, 0.9*y)"
   ]
  },
  {
   "cell_type": "code",
   "execution_count": null,
   "id": "f89ac972-bf8a-4e01-acc2-4385873d3ee6",
   "metadata": {
    "collapsed": false
   },
   "outputs": [],
   "source": [
    "with plt.style.context('ggplot'):\n",
    "  plt.plot(x,y, x,0.9*y)"
   ]
  },
  {
   "cell_type": "code",
   "execution_count": null,
   "id": "ed8cfaec-f556-405e-beca-f7d333fc1213",
   "metadata": {
    "collapsed": false
   },
   "outputs": [],
   "source": [
    "with plt.style.context('grayscale'):\n",
    "  plt.plot(x,y, x,0.9*y)"
   ]
  },
  {
   "cell_type": "code",
   "execution_count": null,
   "id": "d655c9a6-ba1c-4cda-b17a-8e51dae6beea",
   "metadata": {
    "collapsed": false
   },
   "outputs": [],
   "source": [
    "with plt.style.context('fivethirtyeight'):\n",
    "  plt.plot(x,y, x,0.9*y)"
   ]
  },
  {
   "cell_type": "code",
   "execution_count": null,
   "id": "a3d2f9e3-42e5-433d-96d8-0c8093500ae2",
   "metadata": {
    "collapsed": false
   },
   "outputs": [],
   "source": [
    "with plt.style.context('seaborn-dark'):\n",
    "  plt.plot(x,y, x,0.9*y)"
   ]
  },
  {
   "cell_type": "markdown",
   "id": "92e46d9e-882d-4192-9e89-3af91457eec6",
   "metadata": {
    "collapsed": false
   },
   "source": [
    "Los estilos disponibles están guardados en la variable `available` (una lista)"
   ]
  },
  {
   "cell_type": "code",
   "execution_count": null,
   "id": "8955a1bc-ad23-479c-aa62-e446bea423c9",
   "metadata": {
    "collapsed": false
   },
   "outputs": [],
   "source": [
    "plt.style.available"
   ]
  },
  {
   "cell_type": "markdown",
   "id": "917f9a3d-4d55-4f08-b87b-7531ad39259c",
   "metadata": {
    "collapsed": false
   },
   "source": [
    "#### Combinando estilos\n",
    "\n",
    "Los estilos pueden combinarse. En este caso, debe pasarse una lista de *strings* con los nombres de los estilos a aplicar. Se aplican en forma secuencial. Si dos estilos definen diferentes valores para una variable, el posterior sobreescribe los valores previos. "
   ]
  },
  {
   "cell_type": "code",
   "execution_count": null,
   "id": "8f0c80e7-fc2f-4651-9b14-e9fdeb120e64",
   "metadata": {
    "collapsed": false
   },
   "outputs": [],
   "source": [
    "with plt.style.context(['fivethirtyeight','grayscale']):\n",
    "  plt.plot(x,y, x,0.9*y)"
   ]
  },
  {
   "cell_type": "code",
   "execution_count": null,
   "id": "4369fb25-9533-46cd-88f6-f5fe1c496db7",
   "metadata": {
    "collapsed": false
   },
   "outputs": [],
   "source": [
    "with plt.style.context(['grayscale','fivethirtyeight']):\n",
    "  plt.plot(x,y, x,0.9*y)"
   ]
  },
  {
   "cell_type": "markdown",
   "id": "32ea1072-bbb7-443d-b9cb-3063122c2d74",
   "metadata": {
    "collapsed": false
   },
   "source": [
    "#### Creación de estilos propios\n",
    "\n",
    "Podemos crear estilos propios, modificando los defaults con una sintaxis similar a la del archivo de configuración. Por ejemplo creemos un archivo 'estilo_test' con algunos parámetros"
   ]
  },
  {
   "cell_type": "code",
   "execution_count": null,
   "id": "916125ff-d9fd-4060-a09e-e514df5a1423",
   "metadata": {
    "collapsed": false
   },
   "outputs": [],
   "source": [
    "!echo \"lines.linewidth : 5\" > estilo_test\n",
    "!echo \"xtick.labelsize: 24\" >> estilo_test"
   ]
  },
  {
   "cell_type": "code",
   "execution_count": null,
   "id": "72001b37-b893-40ca-82d7-f60ed0f61f6a",
   "metadata": {
    "collapsed": false
   },
   "outputs": [],
   "source": [
    "!cat estilo_test"
   ]
  },
  {
   "cell_type": "code",
   "execution_count": null,
   "id": "a319af91-b348-4af3-8b47-f5e1d199c4f2",
   "metadata": {
    "collapsed": false
   },
   "outputs": [],
   "source": [
    "plt.plot(x,y)"
   ]
  },
  {
   "cell_type": "code",
   "execution_count": null,
   "id": "b75e7a21-5a2f-4f3e-9e40-791778758e6c",
   "metadata": {
    "collapsed": false
   },
   "outputs": [],
   "source": [
    "with plt.style.context('./estilo_test'):\n",
    "  plt.plot(x,y)"
   ]
  },
  {
   "cell_type": "code",
   "execution_count": null,
   "id": "0dbf58ab-5519-47e8-8752-4c8463395925",
   "metadata": {
    "collapsed": false
   },
   "outputs": [],
   "source": [
    "with plt.style.context('darker'):\n",
    "  plt.plot(x,y,'g')"
   ]
  },
  {
   "cell_type": "markdown",
   "id": "5739ca84-dbbe-42c2-8906-878bd59fa9ee",
   "metadata": {
    "collapsed": false
   },
   "source": [
    "Para encontrar el lugar donde guardar las hojas de estilo podemos utilizar las funciones de *matplotib*:"
   ]
  },
  {
   "cell_type": "code",
   "execution_count": null,
   "id": "b1637edf-9c7e-4081-b60f-392b275ef294",
   "metadata": {
    "collapsed": false
   },
   "outputs": [],
   "source": [
    "matplotlib.get_configdir()"
   ]
  },
  {
   "cell_type": "code",
   "execution_count": null,
   "id": "44d576a0-3baf-4cf3-be37-7967342750fd",
   "metadata": {
    "collapsed": false
   },
   "outputs": [],
   "source": [
    "ls -1 /home/fiol/.config/matplotlib/stylelib/"
   ]
  },
  {
   "cell_type": "code",
   "execution_count": null,
   "id": "9e78a8f5-8273-46e6-b22d-f4a112c513d9",
   "metadata": {
    "collapsed": false
   },
   "outputs": [],
   "source": [
    "!cat /home/fiol/.config/matplotlib/stylelib/darker.mplstyle"
   ]
  },
  {
   "cell_type": "markdown",
   "id": "63bd904a-78d2-4fdd-8fa7-4b1c048cb1de",
   "metadata": {
    "collapsed": false
   },
   "source": [
    "### Modificación de parámetros dentro de programas\n",
    "\n",
    "Podemos cambiar directamente los parámetros dentro de nuestros programas modificando el diccionario `matplotlib.rcParams`"
   ]
  },
  {
   "cell_type": "code",
   "execution_count": null,
   "id": "7d0187a7-703a-4d89-9643-2b023a9fe851",
   "metadata": {
    "collapsed": false
   },
   "outputs": [],
   "source": [
    "import matplotlib as mpl\n",
    "mpl.rcParams"
   ]
  },
  {
   "cell_type": "code",
   "execution_count": null,
   "id": "2f5a5e37-bb43-49d3-99c9-29c91848f543",
   "metadata": {
    "collapsed": false
   },
   "outputs": [],
   "source": [
    "# Plot con valores default\n",
    "plt.plot(x,y)"
   ]
  },
  {
   "cell_type": "code",
   "execution_count": null,
   "id": "d38bbca9-d15b-4cea-b1a9-05cdb8a68605",
   "metadata": {
    "collapsed": false
   },
   "outputs": [],
   "source": [
    "# Modificamos el valor default de ancho de línea \n",
    "mpl.rcParams['lines.linewidth'] = 7\n",
    "plt.plot(x,y)"
   ]
  },
  {
   "cell_type": "code",
   "execution_count": null,
   "id": "961d01d2-f3bd-46c4-9d28-2afc145c70a0",
   "metadata": {
    "collapsed": false
   },
   "outputs": [],
   "source": [
    "# El nuevo valor default podemos sobreescribirlo para este plot particular \n",
    "plt.plot(x,y, lw=3)"
   ]
  },
  {
   "cell_type": "code",
   "execution_count": null,
   "id": "a8eaa348-084f-4638-9479-a6308a5f17bc",
   "metadata": {
    "collapsed": false
   },
   "outputs": [],
   "source": [
    "# Sin embargo, el nuevo valor default no es modificado\n",
    "plt.plot(x,y)"
   ]
  },
  {
   "cell_type": "markdown",
   "id": "072fee0f-9b53-4663-aa0b-76c6f0a6c250",
   "metadata": {
    "collapsed": false
   },
   "source": [
    "-----\n",
    "\n",
    "## Ejercicios 09 (c)\n",
    "\n",
    "4. Notando que la curva en color negro corresponde a la suma de las dos curvas en rojo, rehacer la siguiente figura:\n",
    "\n",
    "   ![](figuras/ejercicio_08_3.png)\n",
    "\n",
    "5. Crear una hoja de estilo que permita hacer gráficos adecuados para posters y presentaciones. Debe modificar los tamaños para hacerlos legibles a mayores distancias (sugerencia 16pt). El tamaño de la letra de los nombres de ejes y en las leyendas debe ser mayor también. Las líneas deben ser más gruesas (sugerencia: ~4), los símbolos de mayor tamaño (sugerencia ~10). \n",
    "\n",
    "-----"
   ]
  }
 ],
 "metadata": {
  "kernelspec": {
   "argv": [
    "/usr/bin/python3",
    "-m",
    "ipykernel_launcher",
    "-f",
    "{connection_file}"
   ],
   "display_name": "Python 3 (ipykernel)",
   "env": null,
   "interrupt_mode": "signal",
   "language": "python",
   "metadata": {
    "debugger": false
   },
   "name": "python3"
  },
  "language_info": {
   "codemirror_mode": {
    "name": "ipython",
    "version": 3
   },
   "file_extension": ".py",
   "mimetype": "text/x-python",
   "name": "python",
   "nbconvert_exporter": "python",
   "pygments_lexer": "ipython3",
   "version": "3.11.1"
  },
  "name": "09_2_personal_plot.ipynb",
  "toc": {
   "base_numbering": 1,
   "nav_menu": null,
   "number_sections": true,
   "sideBar": true,
   "skip_h1_title": true,
   "title_cell": "Contenidos",
   "title_sidebar": "Contenidos",
   "toc_cell": false,
   "toc_position": null,
   "toc_section_display": true,
   "toc_window_display": true
  }
 },
 "nbformat": 4,
 "nbformat_minor": 4
}
