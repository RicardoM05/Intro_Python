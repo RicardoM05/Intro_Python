{
 "cells": [
  {
   "cell_type": "markdown",
   "metadata": {
    "ein.tags": "worksheet-0",
    "slideshow": {
     "slide_type": "-"
    }
   },
   "source": [
    "# Ejercicios"
   ]
  },
  {
   "cell_type": "markdown",
   "metadata": {
    "ein.tags": "worksheet-0",
    "slideshow": {
     "slide_type": "-"
    }
   },
   "source": [
    "## Clase 1\n",
    "\n",
    "1. Abra una terminal (consola) de Ipython y utilícela como una calculadora para realizar las siguientes acciones:\n",
    "     - Suponiendo que, de las cuatro horas de clases, tomamos un descanso de 15 minutos y nos distraemos otros 13 minutos, calcular cuántos minutos efectivos de trabajo tendremos en las 16 clases.\n",
    "     - Para la cantidad de alumnos presentes en el aula: ¿cuántas horas-persona de trabajo hay involucradas?\n",
    "\n",
    "2. Muestre en la consola de Ipython:\n",
    "     - el nombre de su directorio actual\n",
    "     - los archivos en su directorio actual\n",
    "     - Cree un subdirectorio llamado `tmp`\n",
    "     - si está usando linux, la fecha y hora\n",
    "     - Borre el subdirectorio `tmp`\n",
    "\n",
    "3. Abra un editor de textos y escriba las líneas necesarias para imprimir por pantalla las siguientes frases (una por línea). Guarde y ejecute su programa.\n",
    "    - Hola, por primera vez\n",
    "    - Hola, hoy es mi día de escribir frases intrascendentes\n",
    "    - Hola, nuevamente, y espero que por última vez\n",
    "    - E = mc²\n",
    "    - Adiós\n",
    "  \n",
    "  Ejecute el programa.\n",
    "\n",
    "Inicie una terminal de *Jupyter* y realice las siguientes operaciones:\n",
    "\n",
    "4.  Para cubos de lados de longitud L = 1, 3, 5 y 8, calcule su superficie y su volumen.\n",
    "\n",
    "5.  Para esferas de radios r = 1, 3, 5 y 8, calcule su superficie y su volumen.\n",
    "\n",
    "6.  Fíjese si alguno de los valores de $x=2.05$, $x=2.11$, $x=2.21$ es un cero de la función $f(x)=x^{2} + x/4 - 1/2$.\n",
    "\n",
    "7. Para el número complejo $z= 1 + 0.5 i$\n",
    "    * Calcular $z^2, z^3, z^4, z^5.$\n",
    "    * Calcular los complejos conjugados de $z$, $z^2$ y $z^3$.\n",
    "  "
   ]
  },
  {
   "cell_type": "markdown",
   "metadata": {
    "ein.tags": "worksheet-0",
    "slideshow": {
     "slide_type": "-"
    }
   },
   "source": [
    "## Clase 2\n",
    "\n",
    "1. Centrado manual de frases\n",
    "\n",
    "    a. Utilizando la función `len()` centre una frase corta en una pantalla de 80 caracteres. Utilice la frase: \"Primer ejercicio con caracteres\"\n",
    "\n",
    "    b. Agregue subrayado a la frase anterior\n",
    " \n",
    "1. Para el número complejo $z= 1 - 0.5 i$\n",
    "    * Escribir $z$, $z^2$ y $z^3$ en coordenadas polares.\n",
    "    * Escribir un programa, utilizando formato de strings, que escriba las frases:\n",
    "       - \"El conjugado de z=1-0.5j es 1+0.5j\"\n",
    "       - \"El conjugado de z=(1+0.5j)^2 es ...\" (con el valor correspondiente)\n",
    "\n",
    "2. Para la cadena de caracteres:\n",
    "```python\n",
    "s = '''Aquí me pongo a cantar\n",
    "Al compás de la vigüela,\n",
    "Que el hombre que lo desvela\n",
    "Una pena estraordinaria\n",
    "Como la ave solitaria\n",
    "Con el cantar se consuela.'''```\n",
    "\n",
    "  * Cuente la cantidad de veces que aparecen los substrings `es`, `la`, `que`, `co`,  en los siguientes dos casos: distinguiendo entre mayúsculas y minúsculas, y no distinguiendo. Imprima el resultado.\n",
    "\n",
    "  * Cree una lista, donde cada elemento es una línea del string `s` y encuentre la de mayor longitud. Imprima por pantalla la línea y su longitud.\n",
    "\n",
    "  * Forme un nuevo string de 10 caracteres que contenga los 5 primeros y los 5 últimos del string anterior `s`. Imprima por pantalla el nuevo string.\n",
    "\n",
    "  * Forme un nuevo string que contenga los 10 caracteres centrales de `s` (utilizando un método que pueda aplicarse a otros strings también). Imprima por pantalla el nuevo string.\n",
    "\n",
    "  * Cambie todas las letras \"m\" por \"n\" y todas las letras \"n\" por \"m\" en `s`. Imprima el resultado por pantalla.\n",
    "\n",
    "  * Debe entregar un programa llamado `02_SuApellido.py` (con su apellido, no la palabra \"SuApellido\"). El programa al correrlo con el comando `python3 SuApellido_02.py` debe imprimir:\n",
    "\n",
    "  ```\n",
    "  Nombre Apellido\n",
    "  Clase 2\n",
    "  Distinguiendo: 2 5 1 2\n",
    "  Sin distinguir: 2 5 2 4\n",
    "  Que el hombre que lo desvela : longitud=28\n",
    "  Aquí uela.\n",
    "  desvela \n",
    "  Un\n",
    "  Aquí ne pomgo a camtar\n",
    "  Al conpás de la vigüela,\n",
    "  Que el honbre que lo desvela\n",
    "  Uma pema estraordimaria\n",
    "  Cono la ave solitaria\n",
    "  Com el camtar se comsuela.```\n",
    "\n",
    "3. Manejos de listas:\n",
    "    - Cree la lista **N** de longitud 50, donde cada elemento es un número entero de 1 a 50 inclusive (Ayuda: vea la expresión ``range``).\n",
    "    - Invierta la lista.\n",
    "    - Extraiga una lista **N2** que contenga sólo los elementos pares de **N**.\n",
    "    - Extraiga una lista **N3** que contenga sólo aquellos elementos que sean el cuadrado de algún número entero.\n",
    "\n",
    "6. Cree una lista de la forma `L = [1,3,5,...,17,19,19,17,...,3,1]`\n",
    "\n",
    "7. Operación \"rara\" sobre una lista:\n",
    "    - Defina la lista `L = [0,1]`\n",
    "    - Realice la operación `L.append(L)`\n",
    "    - Ahora imprima L, e imprima el último elemento de `L`.\n",
    "    - Haga que una nueva lista `L1` que tenga el valor del último elemento de `L` y repita el inciso anterior.\n",
    "    \n",
    "8. Utilizando el string:\n",
    "```python\n",
    "s1='En un lugar de la Mancha de cuyo nombre no quiero acordarme'```\n",
    "y utilizando los métodos de strings:\n",
    "    - Obtenga la cantidad de caracteres.\n",
    "    - Imprima la frase anterior pero con cada palabra empezando en mayúsculas.\n",
    "    - Cuente cuantas letras 'a' tiene la frase, ¿cuántas vocales tiene?\n",
    "    - Imprima el string `s1` centrado en una línea de 80 caracteres, rodeado de guiones en la forma:\n",
    "    \n",
    "    ``----------En un lugar de la Mancha de cuyo nombre no quiero acordarme-----------``\n",
    "\n",
    "    - Obtenga una lista **L1** donde cada elemento sea una palabra.\n",
    "    - Cuente la cantidad de palabras en ``s1`` (utilizando python).\n",
    "    - Ordene la lista **L1** en orden alfabético.\n",
    "    - Ordene la lista **L1** tal que las palabras más cortas estén primero.\n",
    "    - Ordene la lista **L1** tal que las palabras más largas estén primero.\n",
    "    - Construya un string **s2** con la lista del resultado del punto anterior.\n",
    "    - Encuentre la palabra más larga y la más corta de la frase.\n",
    "\n",
    "1. Escriba un script que encuentre las raíces de la ecuación cuadrática $a x^{2} + bx +c  = 0$. Los valores de los parámetros defínalos en el mismo script, un poco más arriba.\n",
    "\n",
    "3. Considere un polígono regular de $N$ lados inscripto en un círculo de radio unidad:\n",
    "    - Calcule el ángulo interior del polígono regular de $N$ lados (por ejemplo el de un triángulo es 60 grados, de un cuadrado es 90 grados, y de un pentágono es 108 grados). Exprese el resultado en grados y en radianes para valores de  $N= 3, 5, 6, 8, 9, 10, 12$.\n",
    "    - ¿Puede calcular la longitud del lado de los polígonos regulares si se encuentran inscriptos en un círculo de radio unidad?\n",
    "\n",
    "8. Escriba un *script* (llamado distancia1.py) que defina las variables velocidad y posición inicial $v_{0}$, $z_{0}$, la aceleración $g$, y la masa $m=1$ kg a tiempo $t=0$, y calcule e imprima la posición y velocidad a un tiempo posterior $t$. Ejecute el programa para varios valores de posición y velocidad inicial para $t=2$ segundos.\n",
    "Recuerde que las ecuaciones de movimiento con aceleración constante son:\n",
    "\\begin{align}\n",
    "  v &= v_0 - g t \\,  \\\\\n",
    "  z &= z_0 + v_0 t - g t^2/2.\n",
    "\\end{align}\n",
    "\n",
    "### Adicionales\n",
    "\n",
    "9. Calcular la suma:\n",
    "$$s_{1} = \\frac{1}{2} \\left(\\sum_{k=0}^{100}k \\right)^{-1}$$\n",
    "\n",
    "*Ayuda*: busque información sobre la función `sum()`\n",
    "\n",
    "10. Construir una lista `L2` con 2000 elementos, todos iguales a `0.0005`.\n",
    "Imprimir su suma utilizando la función `sum` y comparar con la función que existe en el módulo `math` para realizar suma de números de punto flotante.\n"
   ]
  },
  {
   "cell_type": "markdown",
   "metadata": {
    "ein.tags": "worksheet-0",
    "slideshow": {
     "slide_type": "-"
    }
   },
   "source": [
    "## Clase 3\n",
    "\n",
    "1. Imprimir los números que no son divisibles por 2, 3, 5 o 7 de los primeros 100 números naturales\n",
    "\n",
    "2. Calcule la suma\n",
    "$$s_{2} = \\sum_{k=1}^{\\infty} \\frac{(-1)^{k} (k+1)}{2 k^{3} + k^{2}}$$\n",
    "con un error relativo estimado menor a $\\epsilon=10^{-5}$. Imprima por pantalla el resultado, el valor máximo de $k$ computado y el error relativo estimado.\n",
    "\n",
    "2. Realice un programa que:\n",
    "  * Lea el archivo names.txt\n",
    "  * Guarde en un nuevo archivo (llamado pares.txt) palabra por medio del archivo original (la primera, tercera, ...) una por línea, pero en el orden inverso al leído\n",
    "  * Agregue al final de dicho archivo, las palabras pares pero separadas por un punto y coma (;)\n",
    "  * En un archivo llamado longitudes.txt guarde las palabras ordenadas por su longitud, y para cada longitud ordenadas alfabéticamente.\n",
    "  * En un archivo llamado letras.txt guarde sólo aquellas palabras que contienen las letras `w,x,y,z`, con el formato:\n",
    "    - w: Walter, ....\n",
    "    - x: Xilofón, ...\n",
    "    - y: ....\n",
    "    - z: ....\n",
    "  * Cree un diccionario, donde cada *key* es la primera letra y cada valor es una lista, cuyo elemento es una tuple (palabra, longitud). Por ejemplo:\n",
    "  ```python\n",
    "  d['a'] = [('Aaa',3),('Anna', 4), ...]\n",
    "  ```\n",
    "\n",
    "\n",
    "4. Las funciones de Bessel de orden $n$ cumplen las relaciones de recurrencia\n",
    "  $$\n",
    "   J_{n -1}(x)- \\frac{2n }{x}\\, J_{n }(x) + J_{n +1}(x) = 0 \\\\\n",
    "   J^{2}_{0}(x) + \\sum_{n=1}^{\\infty} 2 J^{2}_{n}(x) = 1\n",
    "  $$\n",
    "\n",
    "  Para calcular la función de Bessel de orden $N$, se empieza con un valor de $M \\gg N$, y utilizando los valores iniciales $J_{M}=1$, $J_{M+1}=0$ se utiliza la primera relación para calcular todos los valores de $n < M$. Luego, utilizando la segunda relación se normalizan todos los valores.  **Nota:** Estas relaciones son válidas si $M \\gg x$ (use algún valor estimado, como por ejemplo $M=N+20$).\n",
    "\n",
    "  Utilice estas relaciones para calcular $J_{N}(x)$ para $N=3,4,7$ y $x=2.5, 5.7, 10$.\n",
    "  Para referencia se dan los valores esperados\n",
    "$$\n",
    "J_3( 2.5) =  0.21660\\\\\n",
    "J_4( 2.5) =  0.07378\\\\\n",
    "J_7( 2.5) =  0.00078\\\\\n",
    "J_3( 5.7) =  0.20228\\\\\n",
    "J_4( 5.7) =  0.38659\\\\\n",
    "J_7( 5.7) =  0.10270\\\\\n",
    "J_3(10.0) =  0.05838\\\\\n",
    "J_4(10.0) = -0.21960\\\\\n",
    "J_7(10.0) =  0.21671\\\\\n",
    "$$ \n",
    "\n",
    "6. Imprima por pantalla una tabla con valores equiespaciados de x entre 0 y 180, con valores de las funciones trigonométricas de la forma:\n",
    "```python\n",
    "\"\"\"\n",
    "  |=================================|\n",
    "  | x  | sen(x) | cos(x) | tan(-x/4)|\n",
    "  |=================================|\n",
    "  |  0 |  0.000 |  1.000 |  -0.000  |\n",
    "  | 10 |  0.174 |  0.985 |  -0.044  |\n",
    "  | 20 |  0.342 |  0.940 |  -0.087  |\n",
    "  | 30 |  0.500 |  0.866 |  -0.132  |\n",
    "  | 40 |  0.643 |  0.766 |  -0.176  |\n",
    "  | 50 |  0.766 |  0.643 |  -0.222  |\n",
    "  | 60 |  0.866 |  0.500 |  -0.268  |\n",
    "  | 70 |  0.940 |  0.342 |  -0.315  |\n",
    "  | 80 |  0.985 |  0.174 |  -0.364  |\n",
    "  | 90 |  1.000 |  0.000 |  -0.414  |\n",
    "  |100 |  0.985 | -0.174 |  -0.466  |\n",
    "  |110 |  0.940 | -0.342 |  -0.521  |\n",
    "  |120 |  0.866 | -0.500 |  -0.577  |\n",
    "  |130 |  0.766 | -0.643 |  -0.637  |\n",
    "  |140 |  0.643 | -0.766 |  -0.700  |\n",
    "  |150 |  0.500 | -0.866 |  -0.767  |\n",
    "  |160 |  0.342 | -0.940 |  -0.839  |\n",
    "  |170 |  0.174 | -0.985 |  -0.916  |\n",
    "  |=================================|\n",
    "\"\"\"```\n",
    "7. Dada una lista de números, vamos a calcular valores relacionados a su estadística.\n",
    "    - Calcular los valores de la media aritmética, la media geométrica y la media armónica, dados por:\n",
    "    $$\n",
    "    A(x_1, \\ldots, x_n) = \\bar{x} = \\frac{x_1 + \\cdots + x_n}{n} \\\\\n",
    "    G(x_1, \\ldots, x_n) = \\sqrt[n]{x_1 \\cdots x_n} \\\\\n",
    "    H(x_1, \\ldots, x_n) = \\frac{n}{\\frac{1}{x_1} + \\cdots + \\frac{1}{x_n}}\n",
    "    $$\n",
    "    - Calcular la desviación estándard:\n",
    "    $$ \\sigma\\equiv\\sqrt{\\frac{1}{n}\\sum_i \\left(x_{i} - \\bar{x} \\right)^2} $$\n",
    "\n",
    "    - Calcular la mediana, que se define como el valor para el cual la mitad de los valores de la lista es menor que ella. Si el número de elementos es par, se toma el promedio entre los dos adyacentes.\n",
    "\n",
    "Realizar los cálculos para las listas de números:\n",
    "    "
   ]
  },
  {
   "cell_type": "code",
   "execution_count": null,
   "metadata": {
    "autoscroll": false,
    "collapsed": false,
    "ein.hycell": false,
    "ein.tags": "worksheet-0",
    "slideshow": {
     "slide_type": "-"
    }
   },
   "outputs": [],
   "source": [
    "L1 = [6.41, 1.28, 11.54, 5.13, 8.97, 3.84, 10.26, 14.1, 12.82, 16.67, 2.56, 17.95, 7.69, 15.39]\n",
    "L2 = [4.79, 1.59, 2.13, 4.26, 3.72, 1.06, 6.92, 3.19, 5.32, 2.66, 5.85, 6.39, 0.53]"
   ]
  },
  {
   "cell_type": "markdown",
   "metadata": {
    "ein.tags": "worksheet-0",
    "slideshow": {
     "slide_type": "-"
    }
   },
   "source": [
    "* La *moda* se define como el valor que ocurre más frecuentemente en una colección. Note que la moda puede no ser única. En ese caso debe obtener todos los valores.\n",
    "Calcule la moda de las siguientes listas de números enteros:"
   ]
  },
  {
   "cell_type": "code",
   "execution_count": null,
   "metadata": {
    "autoscroll": false,
    "collapsed": false,
    "ein.hycell": false,
    "ein.tags": "worksheet-0",
    "slideshow": {
     "slide_type": "-"
    }
   },
   "outputs": [],
   "source": [
    "L = [8, 9, 10, 11, 10, 6, 10, 17, 8, 8, 5, 10, 14, 7, 9, 12, 8, 17, 10, 12, 9, 11, 9, 12, 11, 11, 6, 9, 12, 5, 12, 9, 10, 16, 8, 4, 5, 8, 11, 12]"
   ]
  },
  {
   "cell_type": "markdown",
   "metadata": {
    "ein.tags": "worksheet-0",
    "slideshow": {
     "slide_type": "-"
    }
   },
   "source": [
    "7. Dada una lista de direcciones en el plano, expresadas por los ángulos en grados a partir de un cierto eje, calcular la dirección promedio, expresada en ángulos. Pruebe su algoritmo con las listas:"
   ]
  },
  {
   "cell_type": "code",
   "execution_count": null,
   "metadata": {
    "autoscroll": false,
    "collapsed": false,
    "ein.hycell": false,
    "ein.tags": "worksheet-0",
    "slideshow": {
     "slide_type": "-"
    }
   },
   "outputs": [],
   "source": [
    "t1 = [0, 180, 370, 10]\n",
    "t2 = [30, 0, 80, 180]\n",
    "t3 = [80, 180, 540, 280]"
   ]
  }
 ],
 "metadata": {
  "kernelspec": {
   "argv": [
    "/usr/bin/python3",
    "-m",
    "ipykernel_launcher",
    "-f",
    "{connection_file}"
   ],
   "display_name": "Python 3",
   "env": null,
   "interrupt_mode": "signal",
   "language": "python",
   "metadata": null,
   "name": "python3"
  },
  "language_info": {
   "codemirror_mode": {
    "name": "ipython",
    "version": 3
   },
   "file_extension": ".py",
   "mimetype": "text/x-python",
   "name": "python",
   "nbconvert_exporter": "python",
   "pygments_lexer": "ipython3",
   "version": "3.7.6"
  },
  "name": "Ejercicios.ipynb",
  "toc": {
   "base_numbering": 1,
   "nav_menu": null,
   "number_sections": true,
   "sideBar": true,
   "skip_h1_title": false,
   "title_cell": "Contenidos",
   "title_sidebar": "Contenidos",
   "toc_cell": false,
   "toc_position": null,
   "toc_section_display": true,
   "toc_window_display": false
  }
 },
 "nbformat": 4,
 "nbformat_minor": 2
}
