{
 "cells": [
  {
   "cell_type": "markdown",
   "metadata": {
    "collapsed": false,
    "ein.tags": "worksheet-0",
    "slideshow": {
     "slide_type": "-"
    }
   },
   "source": [
    "## Técnicas de iteración"
   ]
  },
  {
   "cell_type": "markdown",
   "metadata": {
    "collapsed": false,
    "ein.tags": "worksheet-0",
    "slideshow": {
     "slide_type": "-"
    }
   },
   "source": [
    "Introdujimos tipos complejos: strings, listas, tuples, diccionarios (`dict`), conjuntos (`set`). Veamos algunas técnicas usuales de iteración sobre estos objetos.\n",
    "\n",
    "### Iteración sobre conjuntos (*set*)\n"
   ]
  },
  {
   "cell_type": "code",
   "execution_count": 1,
   "metadata": {
    "autoscroll": false,
    "collapsed": false,
    "ein.hycell": false,
    "ein.tags": "worksheet-0",
    "slideshow": {
     "slide_type": "-"
    }
   },
   "outputs": [
    {
     "data": {
      "text/plain": [
       "{' ', ',', 'H', 'a', 'c', 'e', 'g', 'i', 'l', 'm', 'n', 'o', 's', 't', 'á'}"
      ]
     },
     "execution_count": 1,
     "metadata": {},
     "output_type": "execute_result"
    }
   ],
   "source": [
    "conj = set(\"Hola amigos, como están\") # Creamos un conjunto desde un string\n",
    "conj"
   ]
  },
  {
   "cell_type": "code",
   "execution_count": 2,
   "metadata": {
    "autoscroll": false,
    "collapsed": false,
    "ein.hycell": false,
    "ein.tags": "worksheet-0",
    "slideshow": {
     "slide_type": "-"
    }
   },
   "outputs": [
    {
     "name": "stdout",
     "output_type": "stream",
     "text": [
      "táoanm gls,Heic"
     ]
    }
   ],
   "source": [
    "# Iteramos sobre los elementos del conjunto\n",
    "for elem in conj:\n",
    "  print(elem, end='')"
   ]
  },
  {
   "cell_type": "markdown",
   "metadata": {
    "collapsed": false,
    "ein.tags": "worksheet-0",
    "slideshow": {
     "slide_type": "-"
    }
   },
   "source": [
    "\n",
    "### Iteración sobre elementos de dos listas\n",
    "\n",
    "Consideremos las listas:"
   ]
  },
  {
   "cell_type": "code",
   "execution_count": 3,
   "metadata": {
    "autoscroll": false,
    "collapsed": false,
    "ein.hycell": false,
    "ein.tags": "worksheet-0",
    "slideshow": {
     "slide_type": "-"
    }
   },
   "outputs": [],
   "source": [
    "temp_min = [-3.2, -2, 0, -1, 4, -5, -2, 0, 4, 0]\n",
    "temp_max = [13.2, 12, 13, 7, 18, 5, 11, 14, 10 , 10]"
   ]
  },
  {
   "cell_type": "markdown",
   "metadata": {
    "collapsed": false,
    "ein.tags": "worksheet-0",
    "slideshow": {
     "slide_type": "-"
    }
   },
   "source": [
    "Queremos imprimir una lista que combine los dos datos:"
   ]
  },
  {
   "cell_type": "code",
   "execution_count": 4,
   "metadata": {
    "autoscroll": false,
    "collapsed": false,
    "ein.hycell": false,
    "ein.tags": "worksheet-0",
    "slideshow": {
     "slide_type": "-"
    }
   },
   "outputs": [
    {
     "name": "stdout",
     "output_type": "stream",
     "text": [
      "La temperatura mínima fue -3.2 y la máxima fue 13.2\n",
      "La temperatura mínima fue -2 y la máxima fue 12\n",
      "La temperatura mínima fue 0 y la máxima fue 13\n",
      "La temperatura mínima fue -1 y la máxima fue 7\n",
      "La temperatura mínima fue 4 y la máxima fue 18\n",
      "La temperatura mínima fue -5 y la máxima fue 5\n",
      "La temperatura mínima fue -2 y la máxima fue 11\n",
      "La temperatura mínima fue 0 y la máxima fue 14\n",
      "La temperatura mínima fue 4 y la máxima fue 10\n",
      "La temperatura mínima fue 0 y la máxima fue 10\n"
     ]
    }
   ],
   "source": [
    "for t1, t2 in zip(temp_min, temp_max):\n",
    "  print('La temperatura mínima fue {} y la máxima fue {}'.format(t1, t2))"
   ]
  },
  {
   "cell_type": "markdown",
   "metadata": {
    "collapsed": false,
    "ein.tags": "worksheet-0",
    "slideshow": {
     "slide_type": "-"
    }
   },
   "source": [
    "Como vemos, la función `zip` combina los elementos, tomando uno de cada lista"
   ]
  },
  {
   "cell_type": "markdown",
   "metadata": {
    "collapsed": false,
    "ein.tags": "worksheet-0",
    "slideshow": {
     "slide_type": "-"
    }
   },
   "source": [
    "Podemos mejorar la salida anterior por pantalla si volvemos a utilizar la función `enumerate`"
   ]
  },
  {
   "cell_type": "code",
   "execution_count": 7,
   "metadata": {
    "autoscroll": false,
    "collapsed": false,
    "ein.hycell": false,
    "ein.tags": "worksheet-0",
    "slideshow": {
     "slide_type": "-"
    }
   },
   "outputs": [
    {
     "name": "stdout",
     "output_type": "stream",
     "text": [
      "El día 1 la temperatura mínima fue -3.2 y la máxima fue 13.2\n",
      "El día 2 la temperatura mínima fue -2 y la máxima fue 12\n",
      "El día 3 la temperatura mínima fue 0 y la máxima fue 13\n",
      "El día 4 la temperatura mínima fue -1 y la máxima fue 7\n",
      "El día 5 la temperatura mínima fue 4 y la máxima fue 18\n",
      "El día 6 la temperatura mínima fue -5 y la máxima fue 5\n",
      "El día 7 la temperatura mínima fue -2 y la máxima fue 11\n",
      "El día 8 la temperatura mínima fue 0 y la máxima fue 14\n",
      "El día 9 la temperatura mínima fue 4 y la máxima fue 10\n",
      "El día 10 la temperatura mínima fue 0 y la máxima fue 10\n"
     ]
    }
   ],
   "source": [
    "for j, t in enumerate(zip(temp_min, temp_max)):\n",
    "  print('El día {} la temperatura mínima fue {} y la máxima fue {}'.format(1+j, t[0], t[1]))"
   ]
  },
  {
   "cell_type": "markdown",
   "metadata": {
    "collapsed": false,
    "ein.tags": "worksheet-0",
    "slideshow": {
     "slide_type": "-"
    }
   },
   "source": [
    "¿qué retorna zip?"
   ]
  },
  {
   "cell_type": "code",
   "execution_count": 8,
   "metadata": {
    "autoscroll": false,
    "collapsed": false,
    "ein.hycell": false,
    "ein.tags": "worksheet-0",
    "slideshow": {
     "slide_type": "-"
    }
   },
   "outputs": [
    {
     "data": {
      "text/plain": [
       "[(-3.2, 13.2),\n",
       " (-2, 12),\n",
       " (0, 13),\n",
       " (-1, 7),\n",
       " (4, 18),\n",
       " (-5, 5),\n",
       " (-2, 11),\n",
       " (0, 14),\n",
       " (4, 10),\n",
       " (0, 10)]"
      ]
     },
     "execution_count": 8,
     "metadata": {},
     "output_type": "execute_result"
    }
   ],
   "source": [
    "list(zip(temp_min, temp_max))"
   ]
  },
  {
   "cell_type": "code",
   "execution_count": 9,
   "metadata": {
    "autoscroll": false,
    "collapsed": false,
    "ein.hycell": false,
    "ein.tags": "worksheet-0",
    "slideshow": {
     "slide_type": "-"
    }
   },
   "outputs": [
    {
     "name": "stdout",
     "output_type": "stream",
     "text": [
      "El día 1 la temperatura mínima fue -3.2 y la máxima fue 13.2\n",
      "El día 2 la temperatura mínima fue -2 y la máxima fue 12\n",
      "El día 3 la temperatura mínima fue 0 y la máxima fue 13\n",
      "El día 4 la temperatura mínima fue -1 y la máxima fue 7\n",
      "El día 5 la temperatura mínima fue 4 y la máxima fue 18\n",
      "El día 6 la temperatura mínima fue -5 y la máxima fue 5\n",
      "El día 7 la temperatura mínima fue -2 y la máxima fue 11\n",
      "El día 8 la temperatura mínima fue 0 y la máxima fue 14\n",
      "El día 9 la temperatura mínima fue 4 y la máxima fue 10\n",
      "El día 10 la temperatura mínima fue 0 y la máxima fue 10\n"
     ]
    }
   ],
   "source": [
    "for j, t in enumerate(zip(temp_min, temp_max),1):\n",
    "  print('El día {} la temperatura mínima fue {} y la máxima fue {}'.\n",
    "        format(j, t[0], t[1]))\n"
   ]
  },
  {
   "cell_type": "code",
   "execution_count": 10,
   "metadata": {
    "autoscroll": false,
    "collapsed": false,
    "ein.hycell": false,
    "ein.tags": "worksheet-0",
    "slideshow": {
     "slide_type": "-"
    }
   },
   "outputs": [
    {
     "name": "stdout",
     "output_type": "stream",
     "text": [
      "1 3\n",
      "2 4\n",
      "3 5\n"
     ]
    }
   ],
   "source": [
    "# ¿Qué pasa cuńdo una se consume antes que la otra?\n",
    "for t1, t2 in zip([1,2,3,4,5],[3,4,5]):\n",
    "    print(t1,t2)"
   ]
  },
  {
   "cell_type": "markdown",
   "metadata": {
    "collapsed": false,
    "ein.tags": "worksheet-0",
    "slideshow": {
     "slide_type": "-"
    }
   },
   "source": [
    "Podemos utilizar la función `zip` para sumar dos listas término a término. `zip` funciona también con más de dos listas"
   ]
  },
  {
   "cell_type": "code",
   "execution_count": 11,
   "metadata": {
    "autoscroll": false,
    "collapsed": false,
    "ein.hycell": false,
    "ein.tags": "worksheet-0",
    "slideshow": {
     "slide_type": "-"
    }
   },
   "outputs": [
    {
     "name": "stdout",
     "output_type": "stream",
     "text": [
      "El día 1 la temperatura mínima fue -3.2 y la máxima fue 13.2\n",
      "El día 2 la temperatura mínima fue -2 y la máxima fue 12\n",
      "El día 3 la temperatura mínima fue 0 y la máxima fue 13\n",
      "El día 4 la temperatura mínima fue -1 y la máxima fue 7\n",
      "El día 5 la temperatura mínima fue 4 y la máxima fue 18\n",
      "El día 6 la temperatura mínima fue -5 y la máxima fue 5\n",
      "El día 7 la temperatura mínima fue -2 y la máxima fue 11\n",
      "El día 8 la temperatura mínima fue 0 y la máxima fue 14\n",
      "El día 9 la temperatura mínima fue 4 y la máxima fue 10\n",
      "El día 10 la temperatura mínima fue 0 y la máxima fue 10\n"
     ]
    }
   ],
   "source": [
    "for j,t1,t2 in zip(range(1,len(temp_min)+1),temp_min, temp_max):\n",
    "  print(f'El día {j} la temperatura mínima fue {t1} y la máxima fue {t2}')\n"
   ]
  },
  {
   "cell_type": "code",
   "execution_count": 12,
   "metadata": {
    "autoscroll": false,
    "collapsed": false,
    "ein.hycell": false,
    "ein.tags": "worksheet-0",
    "slideshow": {
     "slide_type": "-"
    }
   },
   "outputs": [
    {
     "name": "stdout",
     "output_type": "stream",
     "text": [
      "[5.0, 5.0, 6.5, 3.0, 11.0, 0.0, 4.5, 7.0, 7.0, 5.0]\n"
     ]
    }
   ],
   "source": [
    "tmedia = []\n",
    "for t1, t2 in zip(temp_min, temp_max):\n",
    "  tmedia.append((t1+t2)/2)\n",
    "print(tmedia)"
   ]
  },
  {
   "cell_type": "markdown",
   "metadata": {
    "collapsed": false,
    "ein.tags": "worksheet-0",
    "slideshow": {
     "slide_type": "-"
    }
   },
   "source": [
    "También podemos escribirlo en forma más compacta usando comprensiones de listas"
   ]
  },
  {
   "cell_type": "code",
   "execution_count": 13,
   "metadata": {
    "autoscroll": false,
    "collapsed": false,
    "ein.hycell": false,
    "ein.tags": "worksheet-0",
    "slideshow": {
     "slide_type": "-"
    }
   },
   "outputs": [
    {
     "name": "stdout",
     "output_type": "stream",
     "text": [
      "[5.0, 5.0, 6.5, 3.0, 11.0, 0.0, 4.5, 7.0, 7.0, 5.0]\n"
     ]
    }
   ],
   "source": [
    "tm = [(t1+t2)/2 for t1,t2 in zip(temp_min,temp_max)]\n",
    "print(tm)"
   ]
  },
  {
   "cell_type": "markdown",
   "metadata": {
    "collapsed": false,
    "ein.tags": "worksheet-0",
    "slideshow": {
     "slide_type": "-"
    }
   },
   "source": [
    "### Iteraciones sobre diccionarios"
   ]
  },
  {
   "cell_type": "code",
   "execution_count": 19,
   "metadata": {
    "collapsed": false
   },
   "outputs": [],
   "source": [
    "temps = {j:{\"Tmin\": temp_min[j], \"Tmax\":temp_max[j]} for j in range(len(temp_min))}"
   ]
  },
  {
   "cell_type": "code",
   "execution_count": 20,
   "metadata": {
    "autoscroll": false,
    "collapsed": false,
    "ein.hycell": false,
    "ein.tags": "worksheet-0",
    "slideshow": {
     "slide_type": "-"
    }
   },
   "outputs": [
    {
     "name": "stdout",
     "output_type": "stream",
     "text": [
      "La temperatura máxima del día 0 fue 13.2 y la mínima -3.2\n",
      "La temperatura máxima del día 1 fue 12 y la mínima -2\n",
      "La temperatura máxima del día 2 fue 13 y la mínima 0\n",
      "La temperatura máxima del día 3 fue 7 y la mínima -1\n",
      "La temperatura máxima del día 4 fue 18 y la mínima 4\n",
      "La temperatura máxima del día 5 fue 5 y la mínima -5\n",
      "La temperatura máxima del día 6 fue 11 y la mínima -2\n",
      "La temperatura máxima del día 7 fue 14 y la mínima 0\n",
      "La temperatura máxima del día 8 fue 10 y la mínima 4\n",
      "La temperatura máxima del día 9 fue 10 y la mínima 0\n"
     ]
    }
   ],
   "source": [
    "for k in temps:\n",
    "  print(f'La temperatura máxima del día {k} fue {temps[k][\"Tmax\"]} y la mínima {temps[k][\"Tmin\"]}')"
   ]
  },
  {
   "cell_type": "code",
   "execution_count": 21,
   "metadata": {
    "collapsed": false
   },
   "outputs": [
    {
     "data": {
      "text/plain": [
       "{0: {'Tmin': -3.2, 'Tmax': 13.2},\n",
       " 1: {'Tmin': -2, 'Tmax': 12},\n",
       " 2: {'Tmin': 0, 'Tmax': 13},\n",
       " 3: {'Tmin': -1, 'Tmax': 7},\n",
       " 4: {'Tmin': 4, 'Tmax': 18},\n",
       " 5: {'Tmin': -5, 'Tmax': 5},\n",
       " 6: {'Tmin': -2, 'Tmax': 11},\n",
       " 7: {'Tmin': 0, 'Tmax': 14},\n",
       " 8: {'Tmin': 4, 'Tmax': 10},\n",
       " 9: {'Tmin': 0, 'Tmax': 10}}"
      ]
     },
     "execution_count": 21,
     "metadata": {},
     "output_type": "execute_result"
    }
   ],
   "source": [
    "temps"
   ]
  },
  {
   "cell_type": "markdown",
   "metadata": {
    "collapsed": false,
    "ein.tags": "worksheet-0",
    "slideshow": {
     "slide_type": "-"
    }
   },
   "source": [
    "Cómo comentamos anteriormente, cuando iteramos sobre un diccionario estamos moviéndonos sobre las `(k)eys` "
   ]
  },
  {
   "cell_type": "code",
   "execution_count": 22,
   "metadata": {
    "autoscroll": false,
    "collapsed": false,
    "ein.hycell": false,
    "ein.tags": "worksheet-0",
    "slideshow": {
     "slide_type": "-"
    }
   },
   "outputs": [
    {
     "data": {
      "text/plain": [
       "dict_keys([0, 1, 2, 3, 4, 5, 6, 7, 8, 9])"
      ]
     },
     "execution_count": 22,
     "metadata": {},
     "output_type": "execute_result"
    }
   ],
   "source": [
    "temps.keys()"
   ]
  },
  {
   "cell_type": "code",
   "execution_count": 23,
   "metadata": {
    "autoscroll": false,
    "collapsed": false,
    "ein.hycell": false,
    "ein.tags": "worksheet-0",
    "slideshow": {
     "slide_type": "-"
    }
   },
   "outputs": [
    {
     "data": {
      "text/plain": [
       "True"
      ]
     },
     "execution_count": 23,
     "metadata": {},
     "output_type": "execute_result"
    }
   ],
   "source": [
    "7 in temps"
   ]
  },
  {
   "cell_type": "code",
   "execution_count": 24,
   "metadata": {
    "autoscroll": false,
    "collapsed": false,
    "ein.hycell": false,
    "ein.tags": "worksheet-0",
    "slideshow": {
     "slide_type": "-"
    }
   },
   "outputs": [
    {
     "data": {
      "text/plain": [
       "True"
      ]
     },
     "execution_count": 24,
     "metadata": {},
     "output_type": "execute_result"
    }
   ],
   "source": [
    "7 in temps.keys()"
   ]
  },
  {
   "cell_type": "code",
   "execution_count": 25,
   "metadata": {
    "autoscroll": false,
    "collapsed": false,
    "ein.hycell": false,
    "ein.tags": "worksheet-0",
    "slideshow": {
     "slide_type": "-"
    }
   },
   "outputs": [
    {
     "data": {
      "text/plain": [
       "False"
      ]
     },
     "execution_count": 25,
     "metadata": {},
     "output_type": "execute_result"
    }
   ],
   "source": [
    "11 in temps"
   ]
  },
  {
   "cell_type": "markdown",
   "metadata": {
    "collapsed": false,
    "ein.tags": "worksheet-0",
    "slideshow": {
     "slide_type": "-"
    }
   },
   "source": [
    "Para referirnos al valor tenemos que hacerlo en la forma `temps[k]`, y no siempre es una manera muy clara de escribir las cosas. Otra manera similar, pero más limpia en este caso sería:"
   ]
  },
  {
   "cell_type": "code",
   "execution_count": 26,
   "metadata": {
    "autoscroll": false,
    "collapsed": false,
    "ein.hycell": false,
    "ein.tags": "worksheet-0",
    "slideshow": {
     "slide_type": "-"
    }
   },
   "outputs": [
    {
     "data": {
      "text/plain": [
       "[(0, {'Tmin': -3.2, 'Tmax': 13.2}),\n",
       " (1, {'Tmin': -2, 'Tmax': 12}),\n",
       " (2, {'Tmin': 0, 'Tmax': 13}),\n",
       " (3, {'Tmin': -1, 'Tmax': 7}),\n",
       " (4, {'Tmin': 4, 'Tmax': 18}),\n",
       " (5, {'Tmin': -5, 'Tmax': 5}),\n",
       " (6, {'Tmin': -2, 'Tmax': 11}),\n",
       " (7, {'Tmin': 0, 'Tmax': 14}),\n",
       " (8, {'Tmin': 4, 'Tmax': 10}),\n",
       " (9, {'Tmin': 0, 'Tmax': 10})]"
      ]
     },
     "execution_count": 26,
     "metadata": {},
     "output_type": "execute_result"
    }
   ],
   "source": [
    "list(temps.items())"
   ]
  },
  {
   "cell_type": "code",
   "execution_count": 27,
   "metadata": {
    "autoscroll": false,
    "collapsed": false,
    "ein.hycell": false,
    "ein.tags": "worksheet-0",
    "slideshow": {
     "slide_type": "-"
    }
   },
   "outputs": [
    {
     "name": "stdout",
     "output_type": "stream",
     "text": [
      "La temperatura máxima del día 0 fue -3.2 y la mínima 13.2\n",
      "La temperatura máxima del día 1 fue -2 y la mínima 12\n",
      "La temperatura máxima del día 2 fue 0 y la mínima 13\n",
      "La temperatura máxima del día 3 fue -1 y la mínima 7\n",
      "La temperatura máxima del día 4 fue 4 y la mínima 18\n",
      "La temperatura máxima del día 5 fue -5 y la mínima 5\n",
      "La temperatura máxima del día 6 fue -2 y la mínima 11\n",
      "La temperatura máxima del día 7 fue 0 y la mínima 14\n",
      "La temperatura máxima del día 8 fue 4 y la mínima 10\n",
      "La temperatura máxima del día 9 fue 0 y la mínima 10\n"
     ]
    }
   ],
   "source": [
    "for k, v in temps.items():\n",
    "  print('La temperatura máxima del día {} fue {} y la mínima {}'\n",
    "        .format(k,v['Tmin'], v['Tmax']))"
   ]
  },
  {
   "cell_type": "markdown",
   "metadata": {
    "collapsed": false,
    "ein.tags": "worksheet-0",
    "slideshow": {
     "slide_type": "-"
    }
   },
   "source": [
    "Si queremos iterar sobre los valores podemos utilizar simplemente:"
   ]
  },
  {
   "cell_type": "code",
   "execution_count": 28,
   "metadata": {
    "autoscroll": false,
    "collapsed": false,
    "ein.hycell": false,
    "ein.tags": "worksheet-0",
    "slideshow": {
     "slide_type": "-"
    }
   },
   "outputs": [
    {
     "name": "stdout",
     "output_type": "stream",
     "text": [
      "{'Tmin': -3.2, 'Tmax': 13.2}\n",
      "{'Tmin': -2, 'Tmax': 12}\n",
      "{'Tmin': 0, 'Tmax': 13}\n",
      "{'Tmin': -1, 'Tmax': 7}\n",
      "{'Tmin': 4, 'Tmax': 18}\n",
      "{'Tmin': -5, 'Tmax': 5}\n",
      "{'Tmin': -2, 'Tmax': 11}\n",
      "{'Tmin': 0, 'Tmax': 14}\n",
      "{'Tmin': 4, 'Tmax': 10}\n",
      "{'Tmin': 0, 'Tmax': 10}\n"
     ]
    }
   ],
   "source": [
    "for v in temps.values():\n",
    "  print(v)\n"
   ]
  },
  {
   "cell_type": "markdown",
   "metadata": {
    "collapsed": false,
    "ein.tags": "worksheet-0",
    "slideshow": {
     "slide_type": "-"
    }
   },
   "source": [
    "Remarquemos que los diccionarios no tienen definidos un orden por lo que no hay garantías que la próxima vez que ejecutemos cualquiera de estas líneas de código el resultado sea exactamente el mismo. Además, si queremos imprimirlos en un orden predecible debemos escribirlo explícitamente. Por ejemplo:"
   ]
  },
  {
   "cell_type": "code",
   "execution_count": 29,
   "metadata": {
    "autoscroll": false,
    "collapsed": false,
    "ein.hycell": false,
    "ein.tags": "worksheet-0",
    "slideshow": {
     "slide_type": "-"
    }
   },
   "outputs": [],
   "source": [
    "l=list(temps.keys())\n",
    "l.sort(reverse=True)"
   ]
  },
  {
   "cell_type": "code",
   "execution_count": 30,
   "metadata": {
    "autoscroll": false,
    "collapsed": false,
    "ein.hycell": false,
    "ein.tags": "worksheet-0",
    "slideshow": {
     "slide_type": "-"
    }
   },
   "outputs": [
    {
     "data": {
      "text/plain": [
       "[9, 8, 7, 6, 5, 4, 3, 2, 1, 0]"
      ]
     },
     "execution_count": 30,
     "metadata": {},
     "output_type": "execute_result"
    }
   ],
   "source": [
    "l"
   ]
  },
  {
   "cell_type": "code",
   "execution_count": 31,
   "metadata": {
    "autoscroll": false,
    "collapsed": false,
    "ein.hycell": false,
    "ein.tags": "worksheet-0",
    "slideshow": {
     "slide_type": "-"
    }
   },
   "outputs": [
    {
     "name": "stdout",
     "output_type": "stream",
     "text": [
      "9 {'Tmin': 0, 'Tmax': 10}\n",
      "8 {'Tmin': 4, 'Tmax': 10}\n",
      "7 {'Tmin': 0, 'Tmax': 14}\n",
      "6 {'Tmin': -2, 'Tmax': 11}\n",
      "5 {'Tmin': -5, 'Tmax': 5}\n",
      "4 {'Tmin': 4, 'Tmax': 18}\n",
      "3 {'Tmin': -1, 'Tmax': 7}\n",
      "2 {'Tmin': 0, 'Tmax': 13}\n",
      "1 {'Tmin': -2, 'Tmax': 12}\n",
      "0 {'Tmin': -3.2, 'Tmax': 13.2}\n"
     ]
    }
   ],
   "source": [
    "for k in l:\n",
    "  print(k, temps[k])"
   ]
  },
  {
   "cell_type": "markdown",
   "metadata": {
    "collapsed": false,
    "ein.tags": "worksheet-0",
    "slideshow": {
     "slide_type": "-"
    }
   },
   "source": [
    "La secuencia anterior puede escribirse en forma más compacta como"
   ]
  },
  {
   "cell_type": "code",
   "execution_count": 32,
   "metadata": {
    "autoscroll": false,
    "collapsed": false,
    "ein.hycell": false,
    "ein.tags": "worksheet-0",
    "slideshow": {
     "slide_type": "-"
    }
   },
   "outputs": [
    {
     "name": "stdout",
     "output_type": "stream",
     "text": [
      "9 {'Tmin': 0, 'Tmax': 10}\n",
      "8 {'Tmin': 4, 'Tmax': 10}\n",
      "7 {'Tmin': 0, 'Tmax': 14}\n",
      "6 {'Tmin': -2, 'Tmax': 11}\n",
      "5 {'Tmin': -5, 'Tmax': 5}\n",
      "4 {'Tmin': 4, 'Tmax': 18}\n",
      "3 {'Tmin': -1, 'Tmax': 7}\n",
      "2 {'Tmin': 0, 'Tmax': 13}\n",
      "1 {'Tmin': -2, 'Tmax': 12}\n",
      "0 {'Tmin': -3.2, 'Tmax': 13.2}\n"
     ]
    }
   ],
   "source": [
    "for k in sorted(list(temps),reverse=True):\n",
    "  print(k, temps[k])"
   ]
  },
  {
   "cell_type": "code",
   "execution_count": 33,
   "metadata": {
    "autoscroll": false,
    "collapsed": false,
    "ein.hycell": false,
    "ein.tags": "worksheet-0",
    "slideshow": {
     "slide_type": "-"
    }
   },
   "outputs": [
    {
     "data": {
      "text/plain": [
       "[0, 1, 2, 3, 4, 5, 6, 7, 8, 9]"
      ]
     },
     "execution_count": 33,
     "metadata": {},
     "output_type": "execute_result"
    }
   ],
   "source": [
    "list(temps)"
   ]
  },
  {
   "cell_type": "code",
   "execution_count": 34,
   "metadata": {
    "autoscroll": false,
    "collapsed": false,
    "ein.hycell": false,
    "ein.tags": "worksheet-0",
    "slideshow": {
     "slide_type": "-"
    }
   },
   "outputs": [
    {
     "name": "stdout",
     "output_type": "stream",
     "text": [
      "9 {'Tmin': 0, 'Tmax': 10}\n",
      "8 {'Tmin': 4, 'Tmax': 10}\n",
      "7 {'Tmin': 0, 'Tmax': 14}\n",
      "6 {'Tmin': -2, 'Tmax': 11}\n",
      "5 {'Tmin': -5, 'Tmax': 5}\n",
      "4 {'Tmin': 4, 'Tmax': 18}\n",
      "3 {'Tmin': -1, 'Tmax': 7}\n",
      "2 {'Tmin': 0, 'Tmax': 13}\n",
      "1 {'Tmin': -2, 'Tmax': 12}\n",
      "0 {'Tmin': -3.2, 'Tmax': 13.2}\n"
     ]
    }
   ],
   "source": [
    "for k in sorted(list(temps.keys()), reverse=True):\n",
    "    print(k, temps[k])"
   ]
  },
  {
   "cell_type": "markdown",
   "metadata": {
    "collapsed": false
   },
   "source": [
    "-----\n",
    "\n",
    "## Ejercicios 03 (b)\n",
    "\n",
    "5. Un método para calcular el área de un polígono (no necesariamente regular) que se conoce como fórmula del área de Gauss o fórmula de la Lazada (*shoelace formula*) consiste en describir al polígono por sus puntos en un sistema de coordenadas. Cada punto se describe como un par $(x,y)$ y la fórmula del área está dada mediante la suma de la multiplicación de los valores en una diagonal a los que se le resta los valores en la otra diagonal, como muestra la figura\n",
    "\n",
    "![](figuras/shoelace.png) \n",
    "\n",
    "$$ A = (x_{1} y_{2} + x_{2} y_{3} + x_{3} y_{4} + \\dots) - (x_{2} y_{1} + x_{3} y_{2} + x_{4} y_{3} + \\dots) $$\n",
    "\n",
    "![](figuras/ejemplo_shoelace.png) \n",
    "\n",
    "\n",
    "  - Utilizando una descripción adecuada del polígono, implementar la fórmula de Gauss para calcular su \n",
    "área y aplicarla al ejemplo de la figura.\n",
    "  - Verificar que el resultado no depende del punto de inicio.\n",
    "\n",
    "6. Las funciones de Bessel de orden $n$ cumplen las relaciones de recurrencia\n",
    "  $$\n",
    "   J_{n -1}(x)- \\frac{2n }{x}\\, J_{n }(x) + J_{n +1}(x) = 0 \\\\\n",
    "   J^{2}_{0}(x) + \\sum_{n=1}^{\\infty} 2 J^{2}_{n}(x) = 1\n",
    "  $$\n",
    "\n",
    "  Para calcular la función de Bessel de orden $N$, se empieza con un valor de $M \\gg N$, y utilizando los valores iniciales $J_{M}=1$, $J_{M+1}=0$ se utiliza la primera relación para calcular todos los valores de $n < M$. Luego, utilizando la segunda relación se normalizan todos los valores.\n",
    "\n",
    "  --------\n",
    "\n",
    "  **Nota:** Estas relaciones son válidas si $M \\gg x$ (use algún valor estimado, como por ejemplo $M=N+20$).\n",
    "\n",
    "  --------\n",
    "\n",
    "  Utilice estas relaciones para calcular $J_{N}(x)$ para $N=3,4,7$ y $x=2.5, 5.7, 10$.\n",
    "  Para referencia se dan los valores esperados\n",
    "  $$\n",
    "  J_3( 2.5) =  0.21660\\\\\n",
    "  J_4( 2.5) =  0.07378\\\\\n",
    "  J_7( 2.5) =  0.00078\\\\\n",
    "  J_3( 5.7) =  0.20228\\\\\n",
    "  J_4( 5.7) =  0.38659\\\\\n",
    "  J_7( 5.7) =  0.10270\\\\\n",
    "  J_3(10.0) =  0.05838\\\\\n",
    "  J_4(10.0) = -0.21960\\\\\n",
    "  J_7(10.0) =  0.21671\\\\\n",
    "  $$ \n",
    "\n",
    "7. Dada una lista de números, vamos a calcular valores relacionados a su estadística.\n",
    "    - Calcular los valores de la media aritmética, la media geométrica y la media armónica, dados por:\n",
    "    $$\n",
    "    A(x_1, \\ldots, x_n) = \\bar{x} = \\frac{x_1 + \\cdots + x_n}{n} \\\\\n",
    "    G(x_1, \\ldots, x_n) = \\sqrt[n]{x_1 \\cdots x_n} \\\\\n",
    "    H(x_1, \\ldots, x_n) = \\frac{n}{\\frac{1}{x_1} + \\cdots + \\frac{1}{x_n}}\n",
    "    $$\n",
    "    - Calcular la desviación estándard:\n",
    "    $$ \\sigma\\equiv\\sqrt{\\frac{1}{n}\\sum_i \\left(x_{i} - \\bar{x} \\right)^2} $$\n",
    "\n",
    "    - Calcular la mediana, que se define como el valor para el cual la mitad de los valores de la lista es menor que ella. Si el número de elementos es par, se toma el promedio entre los dos adyacentes.\n",
    "\n",
    "    Realizar los cálculos para las listas de números:\n",
    "\n",
    "    ```python\n",
    "    L1 = [6.41, 1.28, 11.54, 5.13, 8.97, 3.84, 10.26, 14.1, 12.82, 16.67, 2.56, 17.95, 7.69, 15.39]\n",
    "    L2 = [4.79, 1.59, 2.13, 4.26, 3.72, 1.06, 6.92, 3.19, 5.32, 2.66, 5.85, 6.39, 0.53]\n",
    "    ```\n",
    "\n",
    "   - La *moda* se define como el valor que ocurre más frecuentemente en una colección. Note que la moda puede no ser única. En ese caso debe obtener todos los valores.\n",
    "Calcule la moda de la siguiente lista de números enteros:\n",
    "   ```python\n",
    "   L = [8, 9, 10, 11, 10, 6, 10, 17, 8, 8, 5, 10, 14, 7, 9, 12, 8, 17, 10, 12, 9, 11, 9, 12, 11, 11, 6, 9, 12, 5, 12, 9, 10, 16, 8, 4, 5, 8, 11, 12]\n",
    "   ```\n",
    "   \n",
    "8. Dada una lista de direcciones en el plano, expresadas por los ángulos en grados a partir de un cierto eje, calcular la dirección promedio, expresada en ángulos. Pruebe su algoritmo con las listas:\n",
    "   ```python\n",
    "   t1 = [0, 180, 370, 10]\n",
    "   t2 = [30, 0, 80, 180]\n",
    "   t3 = [80, 180, 540, 280]\n",
    "   ```\n",
    "\n",
    "-----\n",
    "\n",
    "."
   ]
  },
  {
   "cell_type": "code",
   "execution_count": null,
   "metadata": {
    "collapsed": false
   },
   "outputs": [],
   "source": []
  }
 ],
 "metadata": {
  "kernelspec": {
   "argv": [
    "/usr/bin/python3",
    "-m",
    "ipykernel_launcher",
    "-f",
    "{connection_file}"
   ],
   "display_name": "Python 3",
   "env": null,
   "interrupt_mode": "signal",
   "language": "python",
   "metadata": null,
   "name": "python3"
  },
  "language_info": {
   "codemirror_mode": {
    "name": "ipython",
    "version": 3
   },
   "file_extension": ".py",
   "mimetype": "text/x-python",
   "name": "python",
   "nbconvert_exporter": "python",
   "pygments_lexer": "ipython3",
   "version": "3.10.2"
  },
  "name": "03_2_iteraciones_tipos.ipynb",
  "toc": {
   "base_numbering": 1,
   "nav_menu": {
    "height": "98.2667px",
    "width": "252px"
   },
   "number_sections": true,
   "sideBar": true,
   "skip_h1_title": false,
   "title_cell": "Contenidos",
   "title_sidebar": "Contenidos",
   "toc_cell": false,
   "toc_position": {
    "height": "calc(100% - 180px)",
    "left": "10px",
    "top": "150px",
    "width": "165px"
   },
   "toc_section_display": true,
   "toc_window_display": false
  }
 },
 "nbformat": 4,
 "nbformat_minor": 1
}
