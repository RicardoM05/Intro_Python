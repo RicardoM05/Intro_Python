{
 "cells": [
  {
   "cell_type": "code",
   "execution_count": null,
   "metadata": {},
   "outputs": [],
   "source": [
    "# Enable interactive plot\n",
    "# %matplotlib notebook\n",
    "# Enable interactive plot (Visual Studio Code)\n",
    "%matplotlib ipympl\n",
    "\n",
    "# Enable animation in Spyder \n",
    "# %matplotlib qt\n",
    "# %matplotlib gt5"
   ]
  },
  {
   "cell_type": "code",
   "execution_count": null,
   "metadata": {},
   "outputs": [],
   "source": [
    "import numpy as np\n",
    "import matplotlib.pyplot as plt\n",
    "import matplotlib.animation as animation\n",
    "plt.style.use('ggplot')\n",
    "\n",
    "plt.ioff()\n"
   ]
  },
  {
   "cell_type": "code",
   "execution_count": null,
   "metadata": {},
   "outputs": [],
   "source": [
    "\n",
    "# ############################################################\n",
    "# Creación de datos\n",
    "x = np.linspace(-3, 3, 91)\n",
    "y = np.linspace(-3, 3, 91)\n",
    "\n",
    "t = np.linspace(0, 25, 30)\n",
    "X3, Y3, T3 = np.meshgrid(x, y, t)\n",
    "sinT3 = np.sin(2*np.pi*T3 /\n",
    "               T3.max(axis=2)[..., np.newaxis])\n",
    "\n",
    "G = (X3**2 + Y3**2)*sinT3\n",
    "# Graficar una flecha cada step puntos\n",
    "step = 10\n",
    "x_q, y_q = x[::step], y[::step]\n",
    " \n",
    "# Create U and V vectors to plot\n",
    "U = G[::step, ::step, :-1].copy()\n",
    "V = np.roll(U, shift=3, axis=2)\n",
    "\n",
    "# ############################################################\n"
   ]
  },
  {
   "cell_type": "code",
   "execution_count": null,
   "metadata": {},
   "outputs": [],
   "source": [
    "help(np.roll)"
   ]
  },
  {
   "cell_type": "code",
   "execution_count": null,
   "metadata": {},
   "outputs": [],
   "source": [
    "x = np.arange(10)\n",
    "np.roll(x,2)"
   ]
  },
  {
   "cell_type": "code",
   "execution_count": null,
   "metadata": {},
   "outputs": [],
   "source": [
    "x2 = np.reshape(x, (2,5))\n",
    "print(x2)\n",
    "print(np.roll(x2,1))\n",
    "print(np.roll(x2,1,axis=0))\n",
    "print(np.roll(x2,2,axis=0))\n",
    "print(np.roll(x2,1,axis=1))"
   ]
  },
  {
   "cell_type": "code",
   "execution_count": null,
   "metadata": {},
   "outputs": [],
   "source": [
    "print(sinT3.shape)\n",
    "print(G.shape)\n",
    "print(x_q.shape,y_q.shape)\n",
    "print(U.shape)\n",
    "print(V.shape)\n"
   ]
  },
  {
   "cell_type": "code",
   "execution_count": null,
   "metadata": {},
   "outputs": [],
   "source": [
    "# Figura y ejes. \n",
    "fig1, ax = plt.subplots(figsize=(12,8))\n",
    "\n",
    "ax.set_aspect('equal')\n",
    " \n",
    "ax.set(xlim=(-4, 4), ylim=(-4, 4))\n",
    "\n",
    " \n",
    "qax = ax.quiver(x_q, y_q, U[..., 0], V[..., 0],\n",
    "                scale=100)\n",
    " \n",
    "def animate(i):\n",
    "  qax.set_UVC(U[..., i], V[..., i])\n",
    "\n",
    "anim = animation.FuncAnimation(fig1, animate, interval=100, frames=len(t)-1, repeat=True)\n",
    "\n",
    "# anim.save('quiver.gif', writer='imagemagick')\n",
    "anim.save('quiver.gif')\n",
    "plt.show()"
   ]
  },
  {
   "cell_type": "code",
   "execution_count": null,
   "metadata": {},
   "outputs": [],
   "source": [
    "T3.max(axis=2)[..., np.newaxis].shape"
   ]
  },
  {
   "cell_type": "code",
   "execution_count": null,
   "metadata": {},
   "outputs": [],
   "source": [
    "T3.max(axis=2).shape"
   ]
  },
  {
   "cell_type": "code",
   "execution_count": null,
   "metadata": {},
   "outputs": [],
   "source": [
    "sinT3.shape"
   ]
  }
 ],
 "metadata": {
  "kernelspec": {
   "display_name": "base",
   "language": "python",
   "name": "python3"
  },
  "language_info": {
   "codemirror_mode": {
    "name": "ipython",
    "version": 3
   },
   "file_extension": ".py",
   "mimetype": "text/x-python",
   "name": "python",
   "nbconvert_exporter": "python",
   "pygments_lexer": "ipython3",
   "version": "3.9.5"
  },
  "orig_nbformat": 4
 },
 "nbformat": 4,
 "nbformat_minor": 2
}
