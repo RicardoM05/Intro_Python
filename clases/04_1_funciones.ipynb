{
 "cells": [
  {
   "cell_type": "markdown",
   "id": "c2c94666",
   "metadata": {
    "ein.tags": "worksheet-0",
    "slideshow": {
     "slide_type": "-"
    }
   },
   "source": [
    "# Funciones"
   ]
  },
  {
   "cell_type": "markdown",
   "id": "9fac742d",
   "metadata": {
    "ein.tags": "worksheet-0",
    "slideshow": {
     "slide_type": "-"
    }
   },
   "source": [
    "Para utilizar una funcion en **Python**, como en la mayoría de los lenguajes, se usa una notación similar a la de las funciones matemáticas, con un nombre y uno o más argumentos entre paréntesis. Por ejemplo, ya usamos la función `sum()`, cuyo argumento es una lista o una *tuple* de números (de cualquier tipo)"
   ]
  },
  {
   "cell_type": "code",
   "execution_count": 1,
   "id": "82a01cd2",
   "metadata": {
    "autoscroll": false,
    "ein.hycell": false,
    "ein.tags": "worksheet-0",
    "slideshow": {
     "slide_type": "-"
    }
   },
   "outputs": [
    {
     "data": {
      "text/plain": [
       "19.0"
      ]
     },
     "execution_count": 1,
     "metadata": {},
     "output_type": "execute_result"
    }
   ],
   "source": [
    "a = [1, 3.3, 5, 7.5, 2.2]\n",
    "sum(a)"
   ]
  },
  {
   "cell_type": "code",
   "execution_count": 2,
   "id": "f3b91a87",
   "metadata": {
    "autoscroll": false,
    "ein.hycell": false,
    "ein.tags": "worksheet-0",
    "slideshow": {
     "slide_type": "-"
    }
   },
   "outputs": [
    {
     "data": {
      "text/plain": [
       "19.0"
      ]
     },
     "execution_count": 2,
     "metadata": {},
     "output_type": "execute_result"
    }
   ],
   "source": [
    "b = tuple(a)\n",
    "sum(b)"
   ]
  },
  {
   "cell_type": "markdown",
   "id": "6bcc84e2-e8b0-457f-b3c6-c0992105d23f",
   "metadata": {},
   "source": [
    "Para usar una función necesitamos saber:\n",
    "- Qué hace\n",
    "- Que argumentos podemos darle\n",
    "- Qué devuelve\n",
    "\n",
    "pero no necesitamos saber cómo lo hace (al menos si no tenemos duda de que la función es correcta).\n",
    "\n"
   ]
  },
  {
   "cell_type": "markdown",
   "id": "a949e082-0a19-4c20-a68f-6a870531eb29",
   "metadata": {},
   "source": [
    "## Las funciones son objetos\n",
    "\n",
    "Veamos en Python qué es una función:"
   ]
  },
  {
   "cell_type": "code",
   "execution_count": 3,
   "id": "e2f8a11b",
   "metadata": {
    "autoscroll": false,
    "ein.hycell": false,
    "ein.tags": "worksheet-0",
    "slideshow": {
     "slide_type": "-"
    }
   },
   "outputs": [
    {
     "data": {
      "text/plain": [
       "<function sum(iterable, /, start=0)>"
      ]
     },
     "execution_count": 3,
     "metadata": {},
     "output_type": "execute_result"
    }
   ],
   "source": [
    "sum"
   ]
  },
  {
   "cell_type": "code",
   "execution_count": 4,
   "id": "97d988dc",
   "metadata": {
    "autoscroll": false,
    "ein.hycell": false,
    "ein.tags": "worksheet-0",
    "slideshow": {
     "slide_type": "-"
    }
   },
   "outputs": [
    {
     "data": {
      "text/plain": [
       "<function print(*args, sep=' ', end='\\n', file=None, flush=False)>"
      ]
     },
     "execution_count": 4,
     "metadata": {},
     "output_type": "execute_result"
    }
   ],
   "source": [
    "print"
   ]
  },
  {
   "cell_type": "markdown",
   "id": "f5ac4afc",
   "metadata": {
    "ein.tags": "worksheet-0",
    "slideshow": {
     "slide_type": "-"
    }
   },
   "source": [
    "En **Python** `function` es un objeto, con una operación importante: podemos llamarla (ejecutarla), en la forma: `func(lista-de-argumentos)`\n",
    "\n",
    "Como con todos los objetos, podemos definir una variable y asignarle una función (algo así como lo que en C sería un puntero a funciones)"
   ]
  },
  {
   "cell_type": "code",
   "execution_count": 5,
   "id": "da8cd6f5",
   "metadata": {
    "autoscroll": false,
    "ein.hycell": false,
    "ein.tags": "worksheet-0",
    "slideshow": {
     "slide_type": "-"
    }
   },
   "outputs": [
    {
     "name": "stdout",
     "output_type": "stream",
     "text": [
      "Help on built-in function sum in module builtins:\n",
      "\n",
      "sum(iterable, /, start=0)\n",
      "    Return the sum of a 'start' value (default: 0) plus an iterable of numbers\n",
      "    \n",
      "    When the iterable is empty, return the start value.\n",
      "    This function is intended specifically for use with numeric values and may\n",
      "    reject non-numeric types.\n",
      "\n"
     ]
    }
   ],
   "source": [
    "f = sum\n",
    "help(f)"
   ]
  },
  {
   "cell_type": "code",
   "execution_count": 8,
   "id": "8f64808e",
   "metadata": {
    "autoscroll": false,
    "ein.hycell": false,
    "ein.tags": "worksheet-0",
    "slideshow": {
     "slide_type": "-"
    }
   },
   "outputs": [
    {
     "name": "stdout",
     "output_type": "stream",
     "text": [
      "¿f is sum?  True\n",
      "f == sum?  True\n",
      "f(a)= 19.0   sum(a)= 19.0\n"
     ]
    }
   ],
   "source": [
    "print('¿f is sum? ', f is sum)\n",
    "print('f == sum? ', f== sum)\n",
    "print('f(a)=', f(a), '  sum(a)=', sum(a))"
   ]
  },
  {
   "cell_type": "markdown",
   "id": "19e4b2bc",
   "metadata": {
    "ein.tags": "worksheet-0",
    "slideshow": {
     "slide_type": "-"
    }
   },
   "source": [
    "También podemos crear un diccionario donde los valores sean funciones:"
   ]
  },
  {
   "cell_type": "code",
   "execution_count": 9,
   "id": "cde29a5b",
   "metadata": {
    "autoscroll": false,
    "ein.hycell": false,
    "ein.tags": "worksheet-0",
    "slideshow": {
     "slide_type": "-"
    }
   },
   "outputs": [],
   "source": [
    "funciones = {'suma': sum, 'mínimo': min, 'máximo': max}"
   ]
  },
  {
   "cell_type": "code",
   "execution_count": 10,
   "id": "eb47607f",
   "metadata": {
    "autoscroll": false,
    "ein.hycell": false,
    "ein.tags": "worksheet-0",
    "slideshow": {
     "slide_type": "-"
    }
   },
   "outputs": [
    {
     "data": {
      "text/plain": [
       "<function sum(iterable, /, start=0)>"
      ]
     },
     "execution_count": 10,
     "metadata": {},
     "output_type": "execute_result"
    }
   ],
   "source": [
    "funciones['suma']"
   ]
  },
  {
   "cell_type": "code",
   "execution_count": 11,
   "id": "1589bbaa",
   "metadata": {
    "autoscroll": false,
    "ein.hycell": false,
    "ein.tags": "worksheet-0",
    "slideshow": {
     "slide_type": "-"
    }
   },
   "outputs": [
    {
     "data": {
      "text/plain": [
       "19.0"
      ]
     },
     "execution_count": 11,
     "metadata": {},
     "output_type": "execute_result"
    }
   ],
   "source": [
    "funciones['suma'](a)"
   ]
  },
  {
   "cell_type": "code",
   "execution_count": 12,
   "id": "9f97c40f",
   "metadata": {
    "autoscroll": false,
    "ein.hycell": false,
    "ein.tags": "worksheet-0",
    "slideshow": {
     "slide_type": "-"
    }
   },
   "outputs": [
    {
     "name": "stdout",
     "output_type": "stream",
     "text": [
      "\n",
      " a = [1, 3.3, 5, 7.5, 2.2] \n",
      "\n",
      "suma = 19.0\n",
      "mínimo = 1\n",
      "máximo = 7.5\n"
     ]
    }
   ],
   "source": [
    "print('\\n', 'a =', a,'\\n')\n",
    "for k, v in funciones.items():\n",
    "  print(k,\"=\", v(a))"
   ]
  },
  {
   "cell_type": "markdown",
   "id": "cb2e9e55",
   "metadata": {
    "ein.tags": "worksheet-0",
    "slideshow": {
     "slide_type": "-"
    }
   },
   "source": [
    "\n",
    "## Definición básica de funciones\n",
    "\n",
    "Tomemos el ejemplo del tutorial de la documentación de Python. Vimos, al introducir el elemento de control **while** una forma de calcular la serie de Fibonacci. Usemos ese ejemplo para mostrar como se definen las funciones"
   ]
  },
  {
   "cell_type": "code",
   "execution_count": 13,
   "id": "092b352c",
   "metadata": {
    "autoscroll": false,
    "ein.hycell": false,
    "ein.tags": "worksheet-0",
    "slideshow": {
     "slide_type": "-"
    }
   },
   "outputs": [],
   "source": [
    "def fib(n):\n",
    "  \"\"\"Devuelve una lista con los términos\n",
    "  de la serie de Fibonacci hasta n.\"\"\"\n",
    "  result = []\n",
    "  a, b = 0, 1\n",
    "  while a < n:\n",
    "    result.append(a)    \n",
    "    a, b = b, a+b\n",
    "  return result\n"
   ]
  },
  {
   "cell_type": "code",
   "execution_count": 14,
   "id": "e6f6cf33",
   "metadata": {
    "autoscroll": false,
    "ein.hycell": false,
    "ein.tags": "worksheet-0",
    "slideshow": {
     "slide_type": "-"
    }
   },
   "outputs": [
    {
     "data": {
      "text/plain": [
       "[0, 1, 1, 2, 3, 5, 8, 13, 21, 34, 55, 89]"
      ]
     },
     "execution_count": 14,
     "metadata": {},
     "output_type": "execute_result"
    }
   ],
   "source": [
    "fib(100)"
   ]
  },
  {
   "cell_type": "code",
   "execution_count": 15,
   "id": "0c82f615",
   "metadata": {
    "autoscroll": false,
    "ein.hycell": false,
    "ein.tags": "worksheet-0",
    "slideshow": {
     "slide_type": "-"
    }
   },
   "outputs": [
    {
     "data": {
      "text/plain": [
       "<function __main__.fib(n)>"
      ]
     },
     "execution_count": 15,
     "metadata": {},
     "output_type": "execute_result"
    }
   ],
   "source": [
    "fib"
   ]
  },
  {
   "cell_type": "code",
   "execution_count": 16,
   "id": "c02338b0",
   "metadata": {},
   "outputs": [
    {
     "name": "stdout",
     "output_type": "stream",
     "text": [
      "Help on function fib in module __main__:\n",
      "\n",
      "fib(n)\n",
      "    Devuelve una lista con los términos\n",
      "    de la serie de Fibonacci hasta n.\n",
      "\n"
     ]
    }
   ],
   "source": [
    "help(fib)"
   ]
  },
  {
   "cell_type": "markdown",
   "id": "f1da0505",
   "metadata": {
    "ein.tags": "worksheet-0",
    "slideshow": {
     "slide_type": "-"
    }
   },
   "source": [
    "**Puntos a notar:**\n",
    "\n",
    "* Las funciones se definen utilizando la palabra `def` seguida por el nombre,\n",
    "* A continuación, entre paréntesis se escriben los argumentos, en este caso el entero `n`,\n",
    "* La función devuelve (*retorna*) algo, en este caso una lista. Si una función no devuelve algo explícitamente, entonces devuelve `None`.\n",
    "* Lo que devuelve la función se especifica mediante la palabra reservada `return`\n",
    "* Al principio de la definición de la función se escribe el *string* de documentación"
   ]
  },
  {
   "cell_type": "code",
   "execution_count": 17,
   "id": "4f7b1d5c",
   "metadata": {
    "autoscroll": false,
    "ein.hycell": false,
    "ein.tags": "worksheet-0",
    "slideshow": {
     "slide_type": "-"
    }
   },
   "outputs": [
    {
     "data": {
      "text/plain": [
       "'Devuelve una lista con los términos\\n  de la serie de Fibonacci hasta n.'"
      ]
     },
     "execution_count": 17,
     "metadata": {},
     "output_type": "execute_result"
    }
   ],
   "source": [
    "fib.__doc__"
   ]
  },
  {
   "cell_type": "markdown",
   "id": "8a57f15d",
   "metadata": {
    "ein.tags": "worksheet-0",
    "slideshow": {
     "slide_type": "-"
    }
   },
   "source": [
    "Como segundo ejemplo, consideremos el ejercicio donde pedimos la velocidad y altura de una pelota en caída libre. Pero esta vez definimos una función para realizar los cálculos:"
   ]
  },
  {
   "cell_type": "code",
   "execution_count": 18,
   "id": "70e1799b",
   "metadata": {
    "autoscroll": false,
    "ein.hycell": false,
    "ein.tags": "worksheet-0",
    "slideshow": {
     "slide_type": "-"
    }
   },
   "outputs": [],
   "source": [
    "h_0 = 500                       # altura inicial en m\n",
    "v_0 = 0                         # velocidad inicial en m/s\n",
    "g = 9.8                         # aceleración de la gravedad en m/s^2\n",
    "def caida(t):\n",
    "  v = v_0 - g*t\n",
    "  h = h_0 - v_0*t - g*t**2/2.\n",
    "  return v,h"
   ]
  },
  {
   "cell_type": "code",
   "execution_count": 19,
   "id": "76520855",
   "metadata": {
    "autoscroll": false,
    "ein.hycell": false,
    "ein.tags": "worksheet-0",
    "slideshow": {
     "slide_type": "-"
    }
   },
   "outputs": [
    {
     "name": "stdout",
     "output_type": "stream",
     "text": [
      "(-9.8, 495.1)\n"
     ]
    }
   ],
   "source": [
    "print(caida(1))"
   ]
  },
  {
   "cell_type": "code",
   "execution_count": 20,
   "id": "f8063389",
   "metadata": {
    "autoscroll": false,
    "ein.hycell": false,
    "ein.tags": "worksheet-0",
    "slideshow": {
     "slide_type": "-"
    }
   },
   "outputs": [],
   "source": [
    "v, h = caida(1.5)"
   ]
  },
  {
   "cell_type": "code",
   "execution_count": 21,
   "id": "370e29c2",
   "metadata": {
    "autoscroll": false,
    "ein.hycell": false,
    "ein.tags": "worksheet-0",
    "slideshow": {
     "slide_type": "-"
    }
   },
   "outputs": [
    {
     "name": "stdout",
     "output_type": "stream",
     "text": [
      "Para t = 1.5, la velocidad será v=-14.70 m/s y estará a una altura 488.98 m\n"
     ]
    }
   ],
   "source": [
    "print(f'Para t = {1.5}, la velocidad será v={v:.2f} m/s\\\n",
    " y estará a una altura {h:.2f} m')"
   ]
  },
  {
   "cell_type": "code",
   "execution_count": 22,
   "id": "83b42b54",
   "metadata": {
    "autoscroll": false,
    "ein.hycell": false,
    "ein.tags": "worksheet-0",
    "slideshow": {
     "slide_type": "-"
    }
   },
   "outputs": [
    {
     "name": "stdout",
     "output_type": "stream",
     "text": [
      "Para t = 2.2, la velocidad será v=-21.56 m/s y estará a una altura 476.28 m\n"
     ]
    }
   ],
   "source": [
    "v, h = caida(2.2)\n",
    "print(f'Para t = {2.2}, la velocidad será v={v:.2f} m/s y estará a una altura {h:.2f} m')"
   ]
  },
  {
   "cell_type": "markdown",
   "id": "1820fdd8",
   "metadata": {
    "ein.tags": "worksheet-0",
    "slideshow": {
     "slide_type": "-"
    }
   },
   "source": [
    "Podemos mejorar considerablemente la funcionalidad si le damos la posibilidad al usuario de dar la posición y la velocidad iniciales"
   ]
  },
  {
   "cell_type": "code",
   "execution_count": 23,
   "id": "294ce053",
   "metadata": {
    "autoscroll": false,
    "ein.hycell": false,
    "ein.tags": "worksheet-0",
    "slideshow": {
     "slide_type": "-"
    }
   },
   "outputs": [],
   "source": [
    "g = 9.8                         # aceleración de la gravedad en m/s^2\n",
    "def caida2(t, h_0, v_0):\n",
    "  \"\"\"Calcula la velocidad y posición de una partícula a tiempo t, para condiciones iniciales dadas\n",
    "  h_0 es la altura inicial\n",
    "  v_0 es la velocidad inicial\n",
    "  Se utiliza el valor de aceleración de la gravedad g=9.8 m/s^2\n",
    "  \"\"\"\n",
    "  v = v_0 - g*t\n",
    "  h = h_0 - v_0*t - g*t**2/2.\n",
    "  return v,h"
   ]
  },
  {
   "cell_type": "code",
   "execution_count": 24,
   "id": "4713d2d6",
   "metadata": {
    "autoscroll": false,
    "ein.hycell": false,
    "ein.tags": "worksheet-0",
    "slideshow": {
     "slide_type": "-"
    }
   },
   "outputs": [
    {
     "name": "stdout",
     "output_type": "stream",
     "text": [
      "Para caída desde 100m, con vel. inicial 12m/s, a t = 2.2, \n",
      "la velocidad será v=-9.560000000000002, y estará a una altura 49.883999999999986\n"
     ]
    }
   ],
   "source": [
    "t = 2.2\n",
    "v0 = 12\n",
    "alt = 100\n",
    "v,h = caida2(t, alt, v0)\n",
    "print(f'''Para caída desde {alt}m, con vel. inicial {v0}m/s, a t = {t}, \n",
    "la velocidad será v={v}, y estará a una altura {h}''')"
   ]
  },
  {
   "cell_type": "markdown",
   "id": "d92deb2f",
   "metadata": {
    "ein.tags": "worksheet-0",
    "slideshow": {
     "slide_type": "-"
    }
   },
   "source": [
    "Notemos que podemos llamar a esta función de varias maneras. Podemos llamarla con la constante, o con una variable indistintamente. En este caso, el argumento está definido por su posición: El primero es la altura inicial (h_0) y el segundo la velocidad inicial (v_0)."
   ]
  },
  {
   "cell_type": "code",
   "execution_count": 25,
   "id": "b1320066",
   "metadata": {
    "autoscroll": false,
    "ein.hycell": false,
    "ein.tags": "worksheet-0",
    "slideshow": {
     "slide_type": "-"
    }
   },
   "outputs": [
    {
     "data": {
      "text/plain": [
       "(-9.560000000000002, 49.883999999999986)"
      ]
     },
     "execution_count": 25,
     "metadata": {},
     "output_type": "execute_result"
    }
   ],
   "source": [
    "v0 = 12\n",
    "caida2(2.2, 100, v0)"
   ]
  },
  {
   "cell_type": "markdown",
   "id": "d4ac2380",
   "metadata": {
    "ein.tags": "worksheet-0",
    "slideshow": {
     "slide_type": "-"
    }
   },
   "source": [
    "Pero en Python podemos usar el nombre de la variable en el llamado a la función. Por ejemplo:"
   ]
  },
  {
   "cell_type": "code",
   "execution_count": 26,
   "id": "ed4478f2",
   "metadata": {
    "autoscroll": false,
    "ein.hycell": false,
    "ein.tags": "worksheet-0",
    "slideshow": {
     "slide_type": "-"
    }
   },
   "outputs": [
    {
     "data": {
      "text/plain": [
       "(-9.560000000000002, 49.883999999999986)"
      ]
     },
     "execution_count": 26,
     "metadata": {},
     "output_type": "execute_result"
    }
   ],
   "source": [
    "caida2(v_0=v0,t=2.2, h_0=100)"
   ]
  },
  {
   "cell_type": "code",
   "execution_count": 27,
   "id": "0207275b",
   "metadata": {},
   "outputs": [
    {
     "ename": "SyntaxError",
     "evalue": "positional argument follows keyword argument (521665634.py, line 1)",
     "output_type": "error",
     "traceback": [
      "\u001b[0;36m  Input \u001b[0;32mIn [27]\u001b[0;36m\u001b[0m\n\u001b[0;31m    caida2(t=2.2, h_0=100, 12)\u001b[0m\n\u001b[0m                             ^\u001b[0m\n\u001b[0;31mSyntaxError\u001b[0m\u001b[0;31m:\u001b[0m positional argument follows keyword argument\n"
     ]
    }
   ],
   "source": [
    "caida2(t=2.2, h_0=100, 12)"
   ]
  },
  {
   "cell_type": "markdown",
   "id": "35f3a327-d048-4971-96e6-9e2969e976ff",
   "metadata": {},
   "source": [
    "-----\n",
    "\n",
    "## Ejercicios 4 (a)\n",
    "\n",
    "1. Escriba una función que tome como un argumento una cadena de caracteres (*string*) y \n",
    "lo devuelva centrado con un ancho `w`. Si la longitud del string es mayor que el ancho `w` debe retornar el *string* original. Los argumentos que toma la función son el *string* y el ancho.\n",
    "\n",
    "\n",
    "2. Utilizando conjuntos (`set`), escriba una función que compruebe si un string contiene todas las vocales. La función debe devolver  `True` o `False`.\n",
    "\n",
    "\n",
    "-----\n"
   ]
  }
 ],
 "metadata": {
  "kernelspec": {
   "display_name": "Python 3 (ipykernel)",
   "language": "python",
   "name": "python3"
  },
  "language_info": {
   "codemirror_mode": {
    "name": "ipython",
    "version": 3
   },
   "file_extension": ".py",
   "mimetype": "text/x-python",
   "name": "python",
   "nbconvert_exporter": "python",
   "pygments_lexer": "ipython3",
   "version": "3.11.1"
  },
  "name": "04_1_funciones.ipynb",
  "toc": {
   "base_numbering": 1,
   "nav_menu": {
    "height": "209px",
    "width": "471px"
   },
   "number_sections": true,
   "sideBar": true,
   "skip_h1_title": false,
   "title_cell": "Contenidos",
   "title_sidebar": "Contenidos",
   "toc_cell": false,
   "toc_position": {
    "height": "calc(100% - 180px)",
    "left": "10px",
    "top": "150px",
    "width": "190.333px"
   },
   "toc_section_display": true,
   "toc_window_display": false
  }
 },
 "nbformat": 4,
 "nbformat_minor": 5
}
