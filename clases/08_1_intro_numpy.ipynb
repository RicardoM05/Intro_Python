{
 "cells": [
  {
   "cell_type": "markdown",
   "id": "65fbf78a",
   "metadata": {
    "collapsed": false,
    "ein.tags": "worksheet-0",
    "slideshow": {
     "slide_type": "-"
    }
   },
   "source": [
    "# Introducción a Numpy  <a class=\"tocSkip\">"
   ]
  },
  {
   "cell_type": "markdown",
   "id": "2caae3d3",
   "metadata": {
    "collapsed": false,
    "ein.tags": "worksheet-0",
    "slideshow": {
     "slide_type": "-"
    }
   },
   "source": [
    "## Introducción\n",
    "\n",
    "Dos paquetes que van a resultar muy importantes para nosotros son los paquetes **numpy** y **matplotlib**. Como con todos los módulos, se cargan utilizando la palabra `import`, tal como hicimos en los ejemplos anteriores. Existen variantes en la manera de importar los módulos que son \"equivalentes\". En este caso le vamos a dar un alias que sea más corto de tipear. Después podemos utilizar sus funciones y definiciones.\n"
   ]
  },
  {
   "cell_type": "code",
   "execution_count": 1,
   "id": "f99ce9b3-8be5-4154-8869-b1d38b9ec8a8",
   "metadata": {
    "collapsed": false
   },
   "outputs": [],
   "source": [
    "import numpy as np               # Importa el paquete numpy para trabajo numérico\n",
    "import matplotlib.pyplot as plt  # Importa el paquete matplotlib para graficación"
   ]
  },
  {
   "cell_type": "markdown",
   "id": "5e456417-fc06-4461-b3f9-89e642f6e0de",
   "metadata": {
    "collapsed": false
   },
   "source": [
    "Un ejemplo muy común es la graficación de datos que obtuvimos previamente:"
   ]
  },
  {
   "cell_type": "code",
   "execution_count": 2,
   "id": "5a3c2b63-6f9a-412e-9a24-718be0d8da26",
   "metadata": {
    "collapsed": false
   },
   "outputs": [
    {
     "data": {
      "text/plain": [
       "[<matplotlib.lines.Line2D at 0x7f549a838750>]"
      ]
     },
     "execution_count": 2,
     "metadata": {},
     "output_type": "execute_result"
    },
    {
     "data": {
      "image/png": "[encoded data removed]",
      "text/plain": [
       "<Figure size 432x288 with 1 Axes>"
      ]
     },
     "metadata": {
      "needs_background": "light"
     },
     "output_type": "display_data"
    }
   ],
   "source": [
    "x, y = np.loadtxt('../data/ejemplo_plot_07_1.dat', unpack=True)\n",
    "plt.plot(x, y)"
   ]
  },
  {
   "cell_type": "markdown",
   "id": "596e6879-f7f4-4258-a5ce-ba7a0face1ad",
   "metadata": {
    "collapsed": false
   },
   "source": [
    "## Lectura y escritura de datos a archivos"
   ]
  },
  {
   "cell_type": "markdown",
   "id": "d714ef4f-bfec-411c-a62e-687674cbb8bb",
   "metadata": {
    "collapsed": false
   },
   "source": [
    "Numpy tiene funciones que permiten escribir y leer datos de varias maneras, tanto en formato *texto* como en *binario*. En general el modo *texto* ocupa más espacio pero puede ser leído y modificado con un editor."
   ]
  },
  {
   "cell_type": "markdown",
   "id": "40cf8a59-4724-44d5-8e8a-07d200e43566",
   "metadata": {
    "collapsed": false
   },
   "source": [
    "Veamos qué datos hay en el archivo:"
   ]
  },
  {
   "cell_type": "code",
   "execution_count": 3,
   "id": "1b00b10d-70ee-4acb-8ce1-fcf67742a247",
   "metadata": {
    "collapsed": false
   },
   "outputs": [
    {
     "name": "stdout",
     "output_type": "stream",
     "text": [
      "#    x         f(x)\r\n",
      "0.000000e+00 0.000000e+00\r\n",
      "1.050700e-02 1.157617e-05\r\n",
      "2.101400e-02 9.205287e-05\r\n",
      "3.152100e-02 3.075650e-04\r\n",
      "4.202800e-02 7.187932e-04\r\n",
      "5.253499e-02 1.378428e-03\r\n",
      "6.304199e-02 2.328857e-03\r\n",
      "7.354899e-02 3.600145e-03\r\n",
      "8.405599e-02 5.208356e-03\r\n"
     ]
    }
   ],
   "source": [
    "!head ../data/ejemplo_plot_07_1.dat"
   ]
  },
  {
   "cell_type": "code",
   "execution_count": 4,
   "id": "e19df286-c3be-4470-805f-1b5565bbc471",
   "metadata": {
    "collapsed": false
   },
   "outputs": [
    {
     "ename": "SyntaxError",
     "evalue": "invalid syntax (3785018011.py, line 1)",
     "output_type": "error",
     "traceback": [
      "\u001b[0;36m  Cell \u001b[0;32mIn [4], line 1\u001b[0;36m\u001b[0m\n\u001b[0;31m    Hay dos columnas, en la primera fila hay texto, y en las siguientes hay valores separados por un espacio.\u001b[0m\n\u001b[0m        ^\u001b[0m\n\u001b[0;31mSyntaxError\u001b[0m\u001b[0;31m:\u001b[0m invalid syntax\n"
     ]
    }
   ],
   "source": [
    "Hay dos columnas, en la primera fila hay texto, y en las siguientes hay valores separados por un espacio."
   ]
  },
  {
   "cell_type": "markdown",
   "id": "5421711a-6a36-4a6c-983b-24dd3353861d",
   "metadata": {
    "collapsed": false
   },
   "source": [
    "Dos funciones simples y útiles para entrada y salida de datos son `np.loadtxt()` para lectura,  y `np.savetxt()` para escritura."
   ]
  },
  {
   "cell_type": "code",
   "execution_count": 5,
   "id": "a1759dfc-93ae-4aa3-8e6e-cb63af084745",
   "metadata": {
    "collapsed": false
   },
   "outputs": [],
   "source": [
    "x, y = np.loadtxt('../data/ejemplo_plot_07_1.dat', unpack=True)"
   ]
  },
  {
   "cell_type": "markdown",
   "id": "2f271641-93fa-4f08-bd29-901a9285f481",
   "metadata": {
    "collapsed": false
   },
   "source": [
    "La función `np.loadtxt()` carga estos valores a las variables `x` e `y`"
   ]
  },
  {
   "cell_type": "code",
   "execution_count": 6,
   "id": "62305859-0cca-43e5-b841-6a4b9f0da842",
   "metadata": {
    "collapsed": false
   },
   "outputs": [
    {
     "data": {
      "text/plain": [
       "(300, 300)"
      ]
     },
     "execution_count": 6,
     "metadata": {},
     "output_type": "execute_result"
    }
   ],
   "source": [
    "len(x), len(y)"
   ]
  },
  {
   "cell_type": "code",
   "execution_count": 7,
   "id": "68b15b71-7814-4731-bd1b-79c670b852d9",
   "metadata": {
    "collapsed": false
   },
   "outputs": [
    {
     "name": "stdout",
     "output_type": "stream",
     "text": [
      "[0.         0.010507   0.021014   0.031521   0.042028   0.05253499\n",
      " 0.06304199 0.07354899 0.08405599 0.09456299]\n"
     ]
    }
   ],
   "source": [
    "print(x[:10])"
   ]
  },
  {
   "cell_type": "code",
   "execution_count": 8,
   "id": "24189b53-92b4-4d51-90db-ccb1b2b7b29c",
   "metadata": {
    "collapsed": false
   },
   "outputs": [
    {
     "name": "stdout",
     "output_type": "stream",
     "text": [
      "[0.         0.010507   0.021014   0.031521   0.042028   0.05253499\n",
      " 0.06304199 0.07354899 0.08405599 0.09456299]\n"
     ]
    }
   ],
   "source": [
    "print(x[:10])"
   ]
  },
  {
   "cell_type": "markdown",
   "id": "c596b47e-3496-4724-bd4f-94d01767b042",
   "metadata": {
    "collapsed": false
   },
   "source": [
    "Vemos que, con este uso, la variable `x` contiene los valores de la primera columna y la variable `y` los de la segunda.\n",
    "\n",
    "Para grabar datos a un archivo le damos como primer argumento el nombre del archivo y como segundo los datos a guardar. Vamos a ver detalles más adelante."
   ]
  },
  {
   "cell_type": "code",
   "execution_count": 9,
   "id": "b19b65fe-3e57-4df1-b0ed-c135b908929e",
   "metadata": {
    "collapsed": false
   },
   "outputs": [],
   "source": [
    "np.savetxt('test.out', np.c_[x,y])"
   ]
  },
  {
   "cell_type": "code",
   "execution_count": 10,
   "id": "00404def-9c53-4dcf-bf7f-775af1d6bfc1",
   "metadata": {
    "collapsed": false
   },
   "outputs": [
    {
     "name": "stdout",
     "output_type": "stream",
     "text": [
      "0.000000000000000000e+00 0.000000000000000000e+00\r\n",
      "1.050700000000000071e-02 1.157617000000000067e-05\r\n",
      "2.101400000000000143e-02 9.205286999999999877e-05\r\n",
      "3.152100000000000041e-02 3.075649999999999868e-04\r\n",
      "4.202800000000000286e-02 7.187931999999999742e-04\r\n",
      "5.253498999999999669e-02 1.378427999999999902e-03\r\n",
      "6.304199000000000608e-02 2.328857000000000149e-03\r\n",
      "7.354898999999999465e-02 3.600144999999999908e-03\r\n",
      "8.405598999999999710e-02 5.208355999999999923e-03\r\n",
      "9.456298999999999955e-02 7.154281999999999656e-03\r\n"
     ]
    }
   ],
   "source": [
    "!head test.out\n"
   ]
  },
  {
   "cell_type": "markdown",
   "id": "a9f7b307-9db7-4bdd-8c2d-ba434ac33341",
   "metadata": {
    "collapsed": false
   },
   "source": [
    "En la primera línea hay texto explicativo, en las siguientes líneas el archivo tiene dos columnas."
   ]
  },
  {
   "cell_type": "markdown",
   "id": "e68dbb9c-fcbd-4473-97b6-e29b04ee1371",
   "metadata": {
    "collapsed": false
   },
   "source": [
    "Veamos que tipo de variable son `x` e `y`:"
   ]
  },
  {
   "cell_type": "code",
   "execution_count": 11,
   "id": "9f6e8d59-d4d1-4d9e-b397-1acf9c87d8c8",
   "metadata": {
    "collapsed": false
   },
   "outputs": [
    {
     "data": {
      "text/plain": [
       "(numpy.ndarray, numpy.ndarray)"
      ]
     },
     "execution_count": 11,
     "metadata": {},
     "output_type": "execute_result"
    }
   ],
   "source": [
    "type(x), type(y)"
   ]
  },
  {
   "cell_type": "markdown",
   "id": "5ea2dbf5-262d-4bef-8074-795714094c95",
   "metadata": {
    "collapsed": false
   },
   "source": [
    "Como vemos, el tipo de la variable **no es una lista** sino un nuevo tipo: **ndarray**, o simplemente **array**. Veamos cómo trabajar con ellos."
   ]
  },
  {
   "cell_type": "markdown",
   "id": "79a38ae0-ad3c-4a7b-84e0-c8ba2e142d94",
   "metadata": {
    "collapsed": false
   },
   "source": [
    "## Características de *arrays* en **Numpy**\n",
    "\n",
    "Numpy define unas nuevas estructuras llamadas *ndarrays* o *arrays* para trabajar con vectores de datos, en una dimensión o más dimensiones (\"matrices\").\n",
    "Los arrays son variantes de las listas de python preparadas para trabajar a mayor velocidad y menor consumo de memoria. Por ello se requiere que los arrays sean menos generales y versátiles que las listas usuales. Analicemos brevemente las diferencias entre estos tipos y las consecuencias que tendrá en su uso para nosotros."
   ]
  },
  {
   "cell_type": "markdown",
   "id": "a66339d9",
   "metadata": {
    "collapsed": false,
    "ein.tags": "worksheet-0",
    "slideshow": {
     "slide_type": "-"
    }
   },
   "source": [
    "### Comparación de listas y *arrays*\n",
    "\n",
    "Comparemos como operamos sobre un conjunto de números cuando los representamos por una lista, o por un array:"
   ]
  },
  {
   "cell_type": "code",
   "execution_count": 12,
   "id": "88cd687f",
   "metadata": {
    "autoscroll": false,
    "collapsed": false,
    "ein.hycell": false,
    "ein.tags": "worksheet-0",
    "slideshow": {
     "slide_type": "-"
    }
   },
   "outputs": [],
   "source": [
    "dlist = [1.5, 3.8, 4.9, 12.3, 27.2, 35.8, 70.2, 90., 125., 180.]"
   ]
  },
  {
   "cell_type": "code",
   "execution_count": 13,
   "id": "bc243156",
   "metadata": {
    "autoscroll": false,
    "collapsed": false,
    "ein.hycell": false,
    "ein.tags": "worksheet-0",
    "slideshow": {
     "slide_type": "-"
    }
   },
   "outputs": [],
   "source": [
    "d = np.array(dlist)"
   ]
  },
  {
   "cell_type": "code",
   "execution_count": 14,
   "id": "a2a6229d",
   "metadata": {
    "autoscroll": false,
    "collapsed": false,
    "ein.hycell": false,
    "ein.tags": "worksheet-0",
    "slideshow": {
     "slide_type": "-"
    }
   },
   "outputs": [
    {
     "data": {
      "text/plain": [
       "False"
      ]
     },
     "execution_count": 14,
     "metadata": {},
     "output_type": "execute_result"
    }
   ],
   "source": [
    "d is dlist"
   ]
  },
  {
   "cell_type": "code",
   "execution_count": 15,
   "id": "95df6d7f",
   "metadata": {
    "autoscroll": false,
    "collapsed": false,
    "ein.hycell": false,
    "ein.tags": "worksheet-0",
    "slideshow": {
     "slide_type": "-"
    }
   },
   "outputs": [
    {
     "name": "stdout",
     "output_type": "stream",
     "text": [
      "[1.5, 3.8, 4.9, 12.3, 27.2, 35.8, 70.2, 90.0, 125.0, 180.0]\n"
     ]
    }
   ],
   "source": [
    "print(dlist)"
   ]
  },
  {
   "cell_type": "code",
   "execution_count": 16,
   "id": "f1ac731f",
   "metadata": {
    "autoscroll": false,
    "collapsed": false,
    "ein.hycell": false,
    "ein.tags": "worksheet-0",
    "slideshow": {
     "slide_type": "-"
    }
   },
   "outputs": [
    {
     "name": "stdout",
     "output_type": "stream",
     "text": [
      "[  1.5   3.8   4.9  12.3  27.2  35.8  70.2  90.  125.  180. ]\n"
     ]
    }
   ],
   "source": [
    "print(d)"
   ]
  },
  {
   "cell_type": "markdown",
   "id": "bce0525a",
   "metadata": {
    "collapsed": false,
    "ein.tags": "worksheet-0",
    "slideshow": {
     "slide_type": "-"
    }
   },
   "source": [
    "Veamos cómo se hace para operar con estos dos tipos. Si los valores representan ángulos en grados, hagamos la conversión a radianes (radián = $\\pi/180$ grado)"
   ]
  },
  {
   "cell_type": "code",
   "execution_count": 17,
   "id": "f81099c3",
   "metadata": {
    "autoscroll": false,
    "collapsed": false,
    "ein.hycell": false,
    "ein.tags": "worksheet-0",
    "slideshow": {
     "slide_type": "-"
    }
   },
   "outputs": [],
   "source": [
    "from math import pi\n",
    "drlist= [a*pi/180 for a in dlist]"
   ]
  },
  {
   "cell_type": "code",
   "execution_count": 18,
   "id": "011f4167",
   "metadata": {
    "autoscroll": false,
    "collapsed": false,
    "ein.hycell": false,
    "ein.tags": "worksheet-0",
    "slideshow": {
     "slide_type": "-"
    }
   },
   "outputs": [
    {
     "name": "stdout",
     "output_type": "stream",
     "text": [
      "[0.02617993877991494, 0.06632251157578452, 0.08552113334772216, 0.21467549799530256, 0.47472955654245763, 0.62482787221397, 1.2252211349000193, 1.5707963267948966, 2.1816615649929116, 3.141592653589793]\n"
     ]
    }
   ],
   "source": [
    "print(drlist)"
   ]
  },
  {
   "cell_type": "code",
   "execution_count": 19,
   "id": "5dee3275",
   "metadata": {
    "autoscroll": false,
    "collapsed": false,
    "ein.hycell": false,
    "ein.tags": "worksheet-0",
    "slideshow": {
     "slide_type": "-"
    }
   },
   "outputs": [],
   "source": [
    "dr= d*(np.pi/180)"
   ]
  },
  {
   "cell_type": "code",
   "execution_count": 20,
   "id": "c3bccdce",
   "metadata": {
    "autoscroll": false,
    "collapsed": false,
    "ein.hycell": false,
    "ein.tags": "worksheet-0",
    "slideshow": {
     "slide_type": "-"
    }
   },
   "outputs": [
    {
     "name": "stdout",
     "output_type": "stream",
     "text": [
      "[0.02617994 0.06632251 0.08552113 0.2146755  0.47472956 0.62482787\n",
      " 1.22522113 1.57079633 2.18166156 3.14159265]\n"
     ]
    }
   ],
   "source": [
    "print(dr)"
   ]
  },
  {
   "cell_type": "markdown",
   "id": "a4b9d20f",
   "metadata": {
    "collapsed": false,
    "ein.tags": "worksheet-0",
    "slideshow": {
     "slide_type": "-"
    }
   },
   "source": [
    "Vemos que el modo de trabajar es más simple ya que los array permiten trabajar con operaciones elemento-a-elemento mientras que para las listas tenemos que usar comprensiones de listas. Veamos otros ejemplos:"
   ]
  },
  {
   "cell_type": "code",
   "execution_count": 21,
   "id": "8c997bfb",
   "metadata": {
    "autoscroll": false,
    "collapsed": false,
    "ein.hycell": false,
    "ein.tags": "worksheet-0",
    "slideshow": {
     "slide_type": "-"
    }
   },
   "outputs": [
    {
     "name": "stdout",
     "output_type": "stream",
     "text": [
      "[0.02617694830787315, 0.06627390040000014, 0.08541692313736748, 0.2130303862749766, 0.4570979270586941, 0.5849576749872153, 0.9408807689542255, 1.0, 0.819152044288992, 1.2246467991473532e-16]\n"
     ]
    }
   ],
   "source": [
    "print([np.sin(a*pi/180) for a in dlist])"
   ]
  },
  {
   "cell_type": "code",
   "execution_count": 22,
   "id": "ddbed2de",
   "metadata": {
    "autoscroll": false,
    "collapsed": false,
    "ein.hycell": false,
    "ein.tags": "worksheet-0",
    "slideshow": {
     "slide_type": "-"
    }
   },
   "outputs": [
    {
     "name": "stdout",
     "output_type": "stream",
     "text": [
      "[2.61769483e-02 6.62739004e-02 8.54169231e-02 2.13030386e-01\n",
      " 4.57097927e-01 5.84957675e-01 9.40880769e-01 1.00000000e+00\n",
      " 8.19152044e-01 1.22464680e-16]\n"
     ]
    }
   ],
   "source": [
    "print(np.sin(np.deg2rad(d)))"
   ]
  },
  {
   "cell_type": "markdown",
   "id": "3aa2b60b",
   "metadata": {
    "collapsed": false,
    "ein.tags": "worksheet-0",
    "slideshow": {
     "slide_type": "-"
    }
   },
   "source": [
    "Además de la simplicidad para trabajar con operaciones que actúan sobre cada elemento, el paquete tiene una gran cantidad de funciones y constantes definidas (como por ejemplo `np.pi` para $\\pi$)."
   ]
  },
  {
   "cell_type": "code",
   "execution_count": 23,
   "id": "73df15d0",
   "metadata": {
    "autoscroll": false,
    "collapsed": false,
    "ein.hycell": false,
    "ein.tags": "worksheet-0",
    "slideshow": {
     "slide_type": "-"
    }
   },
   "outputs": [
    {
     "data": {
      "image/png": "[encoded data removed]",
      "text/plain": [
       "<Figure size 432x288 with 1 Axes>"
      ]
     },
     "metadata": {
      "needs_background": "light"
     },
     "output_type": "display_data"
    }
   ],
   "source": [
    "plt.plot(d, np.sin(np.deg2rad(d)),'o-')\n",
    "plt.show()"
   ]
  },
  {
   "cell_type": "markdown",
   "id": "b189f1e6",
   "metadata": {
    "collapsed": false,
    "ein.tags": "worksheet-0",
    "slideshow": {
     "slide_type": "-"
    }
   },
   "source": [
    "### Uso de memoria de listas y arrays\n",
    "\n",
    "Las listas son sucesiones de elementos, completamente generales y no necesariamente todos iguales. Un esquema de su representación interna se muestra en el siguiente gráfico para una lista de números enteros (Las figuras y el análisis de esta sección son de www.python-course.eu/numpy.php)\n",
    "\n",
    "![Representación en memoria de una lista](figuras/list_structure.png)\n",
    "\n",
    "Básicamente en una lista se guarda información común a cualquier lista, un lugar de almacenamiento que referencia donde buscar cada uno de sus elementos (que puede ser un objeto diferente) y luego el lugar efectivo para guardar cada elemento. Veamos cuanta memoria se necesita para guardar una lista de enteros:"
   ]
  },
  {
   "cell_type": "code",
   "execution_count": 24,
   "id": "f69cbe87",
   "metadata": {
    "autoscroll": false,
    "collapsed": false,
    "ein.hycell": false,
    "ein.tags": "worksheet-0",
    "slideshow": {
     "slide_type": "-"
    }
   },
   "outputs": [
    {
     "name": "stdout",
     "output_type": "stream",
     "text": [
      "Tamaño sin considerar los elementos:  88\n",
      "Tamaño de los elementos:  84\n",
      "Tamaño total:  172\n"
     ]
    }
   ],
   "source": [
    "from sys import getsizeof\n",
    "lst = [24, 12, 57]\n",
    "size_of_list_object = getsizeof(lst)   # La lista sin sus datos\n",
    "#size_of_elements = getsizeof(lst[0]) + getsizeof(lst[1]) + getsizeof(lst[2])\n",
    "size_of_elements = sum(getsizeof(l) for l in lst)\n",
    "total_list_size = size_of_list_object + size_of_elements\n",
    "print(\"Tamaño sin considerar los elementos: \", size_of_list_object)\n",
    "print(\"Tamaño de los elementos: \", size_of_elements)\n",
    "print(\"Tamaño total: \", total_list_size)"
   ]
  },
  {
   "cell_type": "markdown",
   "id": "ab0b4a7c",
   "metadata": {
    "collapsed": false,
    "ein.tags": "worksheet-0",
    "slideshow": {
     "slide_type": "-"
    }
   },
   "source": [
    "Para calcular cuánta memoria se usa en cada parte de una lista analicemos el tamaño de distintos casos:"
   ]
  },
  {
   "cell_type": "code",
   "execution_count": 25,
   "id": "7877cd7b",
   "metadata": {
    "autoscroll": false,
    "collapsed": false,
    "ein.hycell": false,
    "ein.tags": "worksheet-0",
    "slideshow": {
     "slide_type": "-"
    }
   },
   "outputs": [
    {
     "name": "stdout",
     "output_type": "stream",
     "text": [
      "Una lista vacía ocupa: 56 bytes\n",
      "Una lista con un elem: 64 bytes\n",
      "Una lista con 2 elems: 72 bytes\n",
      "Un entero en Python  : 28 bytes\n"
     ]
    }
   ],
   "source": [
    "print('Una lista vacía ocupa: {} bytes'.format(getsizeof([])))\n",
    "print('Una lista con un elem: {} bytes'.format(getsizeof([24])))\n",
    "print('Una lista con 2 elems: {} bytes'.format(getsizeof([24,12])))\n",
    "print('Un entero en Python  : {} bytes'.format(getsizeof(24)))"
   ]
  },
  {
   "cell_type": "markdown",
   "id": "7defec16",
   "metadata": {
    "collapsed": false,
    "ein.tags": "worksheet-0",
    "slideshow": {
     "slide_type": "-"
    }
   },
   "source": [
    "Vemos que la \"Información general de listas\" ocupa **56 bytes**, y la referencia a cada elemento entero ocupa adicionalmente **8 bytes**, por lo que la lista con dos elementos ocupa **72 bytes**.\n",
    "Además, cada elemento, un entero de Python, en este caso ocupa **28 bytes**, por lo que el tamaño total de una **lista** de $n$ números enteros será:\n",
    "\n",
    "$$  M_{L}(n) = 56 + n \\times 8 + n \\times 28 $$"
   ]
  },
  {
   "cell_type": "code",
   "execution_count": 26,
   "id": "6c40bb58-70fa-4623-9a5a-3f74150e0e3c",
   "metadata": {
    "collapsed": false
   },
   "outputs": [
    {
     "name": "stdout",
     "output_type": "stream",
     "text": [
      "Una lista con 3 elems: 88 bytes\n",
      "Una lista con 4 elems: 88 bytes\n",
      "Una lista con 5 elems: 104 bytes\n"
     ]
    }
   ],
   "source": [
    "# Notar que no siempre es fácil identificar el tamaño correcto\n",
    "print('Una lista con 3 elems: {} bytes'.format(getsizeof([24,12,57])))\n",
    "print('Una lista con 4 elems: {} bytes'.format(getsizeof([24,12,57,38])))\n",
    "print('Una lista con 5 elems: {} bytes'.format(getsizeof([24,12,57,38,47])))"
   ]
  },
  {
   "cell_type": "markdown",
   "id": "37e0cf50",
   "metadata": {
    "collapsed": false,
    "ein.tags": "worksheet-0",
    "slideshow": {
     "slide_type": "-"
    }
   },
   "source": [
    "En contraste, los *arrays* deben ser todos del mismo tipo por lo que su representación es más simple (por ejemplo, no es necesario guardar sus valores separadamente)\n",
    "\n",
    "![Representación en memoria de una lista](figuras/array_structure.png)"
   ]
  },
  {
   "cell_type": "code",
   "execution_count": 27,
   "id": "d189890c",
   "metadata": {
    "autoscroll": false,
    "collapsed": false,
    "ein.hycell": false,
    "ein.tags": "worksheet-0",
    "slideshow": {
     "slide_type": "-"
    }
   },
   "outputs": [
    {
     "name": "stdout",
     "output_type": "stream",
     "text": [
      "136\n"
     ]
    }
   ],
   "source": [
    "a = np.array(lst)\n",
    "print(getsizeof(a))"
   ]
  },
  {
   "cell_type": "markdown",
   "id": "c14a0572",
   "metadata": {
    "collapsed": false,
    "ein.tags": "worksheet-0",
    "slideshow": {
     "slide_type": "-"
    }
   },
   "source": [
    "Para analizar como se distribuye el consumo de memoria en un array vamos a calcular el tamaño de cada uno de los elementos como hicimos con las listas:"
   ]
  },
  {
   "cell_type": "code",
   "execution_count": 28,
   "id": "0ed217c5",
   "metadata": {
    "autoscroll": false,
    "collapsed": false,
    "ein.hycell": false,
    "ein.tags": "worksheet-0",
    "slideshow": {
     "slide_type": "-"
    }
   },
   "outputs": [
    {
     "name": "stdout",
     "output_type": "stream",
     "text": [
      "Un array vacío ocupa: 112 bytes\n",
      "Un array con un elem: 120 bytes\n",
      "Un array con 2 elems: 128 bytes\n",
      "Un entero de Numpy es: <class 'numpy.int64'>\n",
      "Un entero de Numpy usa: 32\n"
     ]
    }
   ],
   "source": [
    "print('Un array vacío ocupa: {} bytes'.format(getsizeof(np.array([]))))\n",
    "print('Un array con un elem: {} bytes'.format(getsizeof(np.array([24]))))\n",
    "print('Un array con 2 elems: {} bytes'.format(getsizeof(np.array([24,12]))))\n",
    "print('Un entero de Numpy es: {}'.format(type(a[0])))\n",
    "print('Un entero de Numpy usa: {}'.format(getsizeof(a[0])))"
   ]
  },
  {
   "cell_type": "markdown",
   "id": "0352456b",
   "metadata": {
    "collapsed": false,
    "ein.tags": "worksheet-0",
    "slideshow": {
     "slide_type": "-"
    }
   },
   "source": [
    "Vemos que la información general sobre arrays ocupa **96 bytes** (en contraste a **64** para listas), y por cada elemento otros **8 bytes** adicionales (`numpy.int64` corresponde a 64 bits), por lo que el tamaño total será:\n",
    "\n",
    "$$  M_{a}(n) = 96 + n \\times 8 $$"
   ]
  },
  {
   "cell_type": "code",
   "execution_count": 29,
   "id": "17ef5602",
   "metadata": {
    "autoscroll": false,
    "collapsed": false,
    "ein.hycell": false,
    "ein.tags": "worksheet-0",
    "slideshow": {
     "slide_type": "-"
    }
   },
   "outputs": [
    {
     "name": "stdout",
     "output_type": "stream",
     "text": [
      "Tamaño total de la lista:  36052\n",
      "Tamaño total de array:  8112\n"
     ]
    }
   ],
   "source": [
    "from sys import getsizeof\n",
    "lst1 = list(range(1000))\n",
    "total_list_size = getsizeof(lst1) + sum(getsizeof(l) for l in lst1)\n",
    "print(\"Tamaño total de la lista: \", total_list_size)\n",
    "a1 = np.array(lst1)\n",
    "print(\"Tamaño total de array: \", getsizeof(a1))"
   ]
  },
  {
   "cell_type": "markdown",
   "id": "42c48940",
   "metadata": {
    "collapsed": false,
    "ein.tags": "worksheet-0",
    "slideshow": {
     "slide_type": "-"
    }
   },
   "source": [
    "### Velocidad de **Numpy**\n",
    "Una de las grandes ventajas de usar *Numpy* está relacionada con la velocidad de cálculo. Veamos (superficialmente) esto"
   ]
  },
  {
   "cell_type": "code",
   "execution_count": 30,
   "id": "7a9e9ba2",
   "metadata": {
    "autoscroll": false,
    "collapsed": false,
    "ein.hycell": false,
    "ein.tags": "worksheet-0",
    "slideshow": {
     "slide_type": "-"
    }
   },
   "outputs": [
    {
     "name": "stdout",
     "output_type": "stream",
     "text": [
      "Numpy es en este ejemplo  79.568 más rápido\n"
     ]
    }
   ],
   "source": [
    "# %load scripts/timing.py\n",
    "# Ejemplo del libro en www.python-course.eu/numpy.php\n",
    "\n",
    "import numpy as np\n",
    "from timeit import Timer\n",
    "Ndim = 10000\n",
    "\n",
    "\n",
    "def pure_python_version():\n",
    "  X = range(Ndim)\n",
    "  Y = range(Ndim)\n",
    "  Z = []\n",
    "  for i in range(len(X)):\n",
    "    Z.append(X[i] + Y[i])\n",
    "  return Z\n",
    "\n",
    "\n",
    "def numpy_version():\n",
    "  X = np.arange(Ndim)\n",
    "  Y = np.arange(Ndim)\n",
    "  Z = X + Y\n",
    "  return Z\n",
    "\n",
    "timer_obj1 = Timer(\"pure_python_version()\", \"from __main__ import pure_python_version\")\n",
    "timer_obj2 = Timer(\"numpy_version()\", \"from __main__ import numpy_version\")\n",
    "t1 = timer_obj1.timeit(10)\n",
    "t2 = timer_obj2.timeit(10)\n",
    "\n",
    "print(f\"Numpy es en este ejemplo {t1 / t2 : .3f} más rápido\")\n"
   ]
  },
  {
   "cell_type": "markdown",
   "id": "a3a18fa4",
   "metadata": {
    "collapsed": false,
    "ein.tags": "worksheet-0",
    "slideshow": {
     "slide_type": "-"
    }
   },
   "source": [
    "Como vemos, utilizar *Numpy* puede ser considerablemente más rápido que usar *Python puro*."
   ]
  },
  {
   "cell_type": "markdown",
   "id": "6d4c5de9",
   "metadata": {
    "collapsed": false,
    "ein.tags": "worksheet-0",
    "slideshow": {
     "slide_type": "-"
    }
   },
   "source": [
    "## Creación de *arrays* en **Numpy**\n",
    "\n",
    "Un `array` en numpy es un tipo de variable parecido a una lista, pero está optimizado para realizar trabajo numérico.\n",
    "\n",
    "Todos los elementos deben ser del mismo tipo, y además de los valores, contiene información sobre su tipo. Veamos algunos ejemplos de cómo crearlos y utilizarlos:\n",
    "\n",
    "### Creación de *Arrays* unidimensionales"
   ]
  },
  {
   "cell_type": "code",
   "execution_count": 31,
   "id": "61c0b2d7",
   "metadata": {
    "autoscroll": false,
    "collapsed": false,
    "ein.hycell": false,
    "ein.tags": "worksheet-0",
    "slideshow": {
     "slide_type": "-"
    }
   },
   "outputs": [],
   "source": [
    "i1 = np.array([1, 2, 3, 1, 5, 1, 9, 22, 0])\n",
    "r1 = np.array([1.4 ,2.3 ,3.0 ,1, 5, 1, 9, 22, 0])"
   ]
  },
  {
   "cell_type": "code",
   "execution_count": 32,
   "id": "1039f619",
   "metadata": {
    "autoscroll": false,
    "collapsed": false,
    "ein.hycell": false,
    "ein.tags": "worksheet-0",
    "slideshow": {
     "slide_type": "-"
    }
   },
   "outputs": [
    {
     "name": "stdout",
     "output_type": "stream",
     "text": [
      "[ 1  2  3  1  5  1  9 22  0]\n",
      "[ 1.4  2.3  3.   1.   5.   1.   9.  22.   0. ]\n"
     ]
    }
   ],
   "source": [
    "print(i1)\n",
    "print(r1)"
   ]
  },
  {
   "cell_type": "code",
   "execution_count": 33,
   "id": "73e851f9",
   "metadata": {
    "autoscroll": false,
    "collapsed": false,
    "ein.hycell": false,
    "ein.tags": "worksheet-0",
    "slideshow": {
     "slide_type": "-"
    }
   },
   "outputs": [
    {
     "name": "stdout",
     "output_type": "stream",
     "text": [
      "tipo de i1: int64 \n",
      "tipo de r1: float64\n"
     ]
    }
   ],
   "source": [
    "print('tipo de i1: {} \\ntipo de r1: {}'.format(i1.dtype, r1.dtype))"
   ]
  },
  {
   "cell_type": "code",
   "execution_count": 34,
   "id": "a3c23022",
   "metadata": {
    "autoscroll": false,
    "collapsed": false,
    "ein.hycell": false,
    "ein.tags": "worksheet-0",
    "slideshow": {
     "slide_type": "-"
    }
   },
   "outputs": [
    {
     "name": "stdout",
     "output_type": "stream",
     "text": [
      "Para i1:\n",
      "  Número de dimensiones: 1\n",
      "  Longitud: 9\n"
     ]
    }
   ],
   "source": [
    "print('Para i1:\\n  Número de dimensiones: {}\\n  Longitud: {}'.format(np.ndim(i1), len(i1)))"
   ]
  },
  {
   "cell_type": "code",
   "execution_count": 35,
   "id": "abeb6985",
   "metadata": {
    "autoscroll": false,
    "collapsed": false,
    "ein.hycell": false,
    "ein.tags": "worksheet-0",
    "slideshow": {
     "slide_type": "-"
    }
   },
   "outputs": [
    {
     "name": "stdout",
     "output_type": "stream",
     "text": [
      "Para r1:\n",
      "  Número de dimensiones: 1\n",
      "  Longitud: 9\n"
     ]
    }
   ],
   "source": [
    "print('Para r1:\\n  Número de dimensiones: {}\\n  Longitud: {}'.format(np.ndim(r1), len(r1)))"
   ]
  },
  {
   "cell_type": "markdown",
   "id": "e29bbab6",
   "metadata": {
    "collapsed": false,
    "ein.tags": "worksheet-0",
    "slideshow": {
     "slide_type": "-"
    }
   },
   "source": [
    "### Arrays multidimensionales\n",
    "\n",
    "Podemos crear explícitamente *arrays* multidimensionales con la función `np.array` si el argumento es una lista anidada"
   ]
  },
  {
   "cell_type": "code",
   "execution_count": 36,
   "id": "1c01173b",
   "metadata": {
    "autoscroll": false,
    "collapsed": false,
    "ein.hycell": false,
    "ein.tags": "worksheet-0",
    "slideshow": {
     "slide_type": "-"
    }
   },
   "outputs": [],
   "source": [
    "L = [ [1, 2, 3], [.2, -.2, -1], [-1, 2, 9], [0, 0.5, 0] ]\n",
    "\n",
    "A = np.array(L)"
   ]
  },
  {
   "cell_type": "code",
   "execution_count": 37,
   "id": "9c559212",
   "metadata": {
    "autoscroll": false,
    "collapsed": false,
    "ein.hycell": false,
    "ein.tags": "worksheet-0",
    "slideshow": {
     "slide_type": "-"
    }
   },
   "outputs": [
    {
     "data": {
      "text/plain": [
       "array([[ 1. ,  2. ,  3. ],\n",
       "       [ 0.2, -0.2, -1. ],\n",
       "       [-1. ,  2. ,  9. ],\n",
       "       [ 0. ,  0.5,  0. ]])"
      ]
     },
     "execution_count": 37,
     "metadata": {},
     "output_type": "execute_result"
    }
   ],
   "source": [
    "A"
   ]
  },
  {
   "cell_type": "code",
   "execution_count": 38,
   "id": "3bbb2fdd",
   "metadata": {
    "autoscroll": false,
    "collapsed": false,
    "ein.hycell": false,
    "ein.tags": "worksheet-0",
    "slideshow": {
     "slide_type": "-"
    }
   },
   "outputs": [
    {
     "name": "stdout",
     "output_type": "stream",
     "text": [
      "[[ 1.   2.   3. ]\n",
      " [ 0.2 -0.2 -1. ]\n",
      " [-1.   2.   9. ]\n",
      " [ 0.   0.5  0. ]]\n"
     ]
    }
   ],
   "source": [
    "print(A)"
   ]
  },
  {
   "cell_type": "code",
   "execution_count": 39,
   "id": "b067b8a1",
   "metadata": {
    "autoscroll": false,
    "collapsed": false,
    "ein.hycell": false,
    "ein.tags": "worksheet-0",
    "slideshow": {
     "slide_type": "-"
    }
   },
   "outputs": [
    {
     "name": "stdout",
     "output_type": "stream",
     "text": [
      "2 2\n"
     ]
    }
   ],
   "source": [
    "print(np.ndim(A),A.ndim) # Ambos son equivalentes"
   ]
  },
  {
   "cell_type": "code",
   "execution_count": 40,
   "id": "5a748b6d",
   "metadata": {
    "autoscroll": false,
    "collapsed": false,
    "ein.hycell": false,
    "ein.tags": "worksheet-0",
    "slideshow": {
     "slide_type": "-"
    }
   },
   "outputs": [
    {
     "name": "stdout",
     "output_type": "stream",
     "text": [
      "4\n"
     ]
    }
   ],
   "source": [
    "print(len(A))"
   ]
  },
  {
   "cell_type": "markdown",
   "id": "c088aa78",
   "metadata": {
    "collapsed": false,
    "ein.tags": "worksheet-0",
    "slideshow": {
     "slide_type": "-"
    }
   },
   "source": [
    "Vemos que la dimensión de `A` es 2, pero la longitud que me reporta **Python** corresponde al primer eje. Los *arrays* tienen un atributo que es la \"forma\" (shape)"
   ]
  },
  {
   "cell_type": "code",
   "execution_count": 41,
   "id": "7e2f2e6f",
   "metadata": {
    "autoscroll": false,
    "collapsed": false,
    "ein.hycell": false,
    "ein.tags": "worksheet-0",
    "slideshow": {
     "slide_type": "-"
    }
   },
   "outputs": [
    {
     "name": "stdout",
     "output_type": "stream",
     "text": [
      "(4, 3)\n"
     ]
    }
   ],
   "source": [
    "print(A.shape)"
   ]
  },
  {
   "cell_type": "code",
   "execution_count": 42,
   "id": "1d51a21b",
   "metadata": {
    "autoscroll": false,
    "collapsed": false,
    "ein.hycell": false,
    "ein.tags": "worksheet-0",
    "slideshow": {
     "slide_type": "-"
    }
   },
   "outputs": [
    {
     "data": {
      "text/plain": [
       "(9,)"
      ]
     },
     "execution_count": 42,
     "metadata": {},
     "output_type": "execute_result"
    }
   ],
   "source": [
    "r1.shape # una tupla de un solo elemento"
   ]
  },
  {
   "cell_type": "markdown",
   "id": "3f05a19e-d258-41b2-b1ed-d9ecea7f1e3b",
   "metadata": {
    "collapsed": false
   },
   "source": [
    "### Generación de datos equiespaciados\n",
    "\n",
    "Para obtener datos equiespaciados hay dos funciones complementarias"
   ]
  },
  {
   "cell_type": "code",
   "execution_count": 43,
   "id": "9146f258-2ebc-43cd-a8b5-e9c320520d82",
   "metadata": {
    "collapsed": false
   },
   "outputs": [],
   "source": [
    "a1 = np.arange(0,190,10)\n",
    "a2 = np.linspace(0,180,19)"
   ]
  },
  {
   "cell_type": "code",
   "execution_count": 44,
   "id": "2953bf89-3796-4d60-9a3d-7414d0c0499c",
   "metadata": {
    "collapsed": false
   },
   "outputs": [
    {
     "data": {
      "text/plain": [
       "array([  0,  10,  20,  30,  40,  50,  60,  70,  80,  90, 100, 110, 120,\n",
       "       130, 140, 150, 160, 170, 180])"
      ]
     },
     "execution_count": 44,
     "metadata": {},
     "output_type": "execute_result"
    }
   ],
   "source": [
    "a1"
   ]
  },
  {
   "cell_type": "code",
   "execution_count": 45,
   "id": "ddce6101-8e34-45a3-9352-09b0344bf85e",
   "metadata": {
    "collapsed": false
   },
   "outputs": [
    {
     "data": {
      "text/plain": [
       "array([  0.,  10.,  20.,  30.,  40.,  50.,  60.,  70.,  80.,  90., 100.,\n",
       "       110., 120., 130., 140., 150., 160., 170., 180.])"
      ]
     },
     "execution_count": 45,
     "metadata": {},
     "output_type": "execute_result"
    }
   ],
   "source": [
    "a2"
   ]
  },
  {
   "cell_type": "markdown",
   "id": "febb94da-9d4c-4efd-bfbf-d119c8f34793",
   "metadata": {
    "collapsed": false
   },
   "source": [
    "Como vemos, ambos pueden dar resultados similares, y es una cuestión de conveniencia cual utilizar. El uso es:\n",
    "\n",
    "```python\n",
    "np.arange([start,] stop[, step,], dtype=None)\n",
    "\n",
    "np.linspace(start, stop, num=50, endpoint=True, retstep=False, dtype=None)\n",
    "```\n",
    "\n",
    "Mientras que a `arange()` le decimos cuál es el paso a utilizar, a `linspace()` debemos (podemos) darle como tercer argumento el número de valores que queremos."
   ]
  },
  {
   "cell_type": "code",
   "execution_count": 46,
   "id": "9a407c4f-380b-48f0-aef5-80ecc69cdfc9",
   "metadata": {
    "collapsed": false
   },
   "outputs": [
    {
     "data": {
      "text/plain": [
       "array([  0,  10,  20,  30,  40,  50,  60,  70,  80,  90, 100, 110, 120,\n",
       "       130, 140, 150, 160, 170])"
      ]
     },
     "execution_count": 46,
     "metadata": {},
     "output_type": "execute_result"
    }
   ],
   "source": [
    "# Si queremos que devuelva enteros:\n",
    "np.arange(0,180.,10, dtype=int)"
   ]
  },
  {
   "cell_type": "code",
   "execution_count": 47,
   "id": "8c4762c5-0f84-48d7-9a01-ea5798f9edf0",
   "metadata": {
    "collapsed": false
   },
   "outputs": [],
   "source": [
    "# Pedimos que devuelva el paso también\n",
    "v1, step1 = np.linspace(0,10,20, endpoint=True, retstep=True)\n",
    "v2, step2 = np.linspace(0,10,20, endpoint=False, retstep=True)"
   ]
  },
  {
   "cell_type": "code",
   "execution_count": 48,
   "id": "6cd4ec18-fd39-433b-8a7a-e2b9135cfe07",
   "metadata": {
    "collapsed": false
   },
   "outputs": [
    {
     "name": "stdout",
     "output_type": "stream",
     "text": [
      "0.5263157894736842\n",
      "0.5\n"
     ]
    }
   ],
   "source": [
    "print(step1)\n",
    "print(step2)"
   ]
  },
  {
   "cell_type": "code",
   "execution_count": 49,
   "id": "7b310527-c86b-483d-a8cf-734d4037ce6b",
   "metadata": {
    "collapsed": false
   },
   "outputs": [
    {
     "data": {
      "image/png": "[encoded data removed]",
      "text/plain": [
       "<Figure size 432x288 with 1 Axes>"
      ]
     },
     "metadata": {
      "needs_background": "light"
     },
     "output_type": "display_data"
    }
   ],
   "source": [
    "plt.plot(a2, np.sin(np.deg2rad(a2)),'o-')\n",
    "plt.show()"
   ]
  },
  {
   "cell_type": "markdown",
   "id": "3b16c59d-a89c-4a9f-a520-4b211962eb68",
   "metadata": {
    "collapsed": false
   },
   "source": [
    "Además de valores linealmente espaciados podemos obtener valores espaciados en escala logarítmica"
   ]
  },
  {
   "cell_type": "code",
   "execution_count": 50,
   "id": "00c99912-b919-4f63-a0c2-88bdb4393a54",
   "metadata": {
    "collapsed": false
   },
   "outputs": [],
   "source": [
    "w= np.logspace(0,10,20)"
   ]
  },
  {
   "cell_type": "code",
   "execution_count": 51,
   "id": "f197b4bc-7110-4e3e-8090-856cf5c17438",
   "metadata": {
    "collapsed": false
   },
   "outputs": [
    {
     "data": {
      "image/png": "[encoded data removed]",
      "text/plain": [
       "<Figure size 432x288 with 1 Axes>"
      ]
     },
     "metadata": {
      "needs_background": "light"
     },
     "output_type": "display_data"
    }
   ],
   "source": [
    "plt.plot(v1, w, 'o-')\n",
    "plt.show()"
   ]
  },
  {
   "cell_type": "code",
   "execution_count": 52,
   "id": "7c324e23-e122-4d7b-a936-f4b802249bac",
   "metadata": {
    "collapsed": false
   },
   "outputs": [
    {
     "name": "stdout",
     "output_type": "stream",
     "text": [
      "[  1.  10. 100.]\n"
     ]
    }
   ],
   "source": [
    "w1 = np.logspace(0,2,3) # Start y Stop son los exponentes\n",
    "print(w1)"
   ]
  },
  {
   "cell_type": "code",
   "execution_count": 53,
   "id": "b1fe2ebf-d7ed-4928-a30a-c857be2fd4dd",
   "metadata": {
    "collapsed": false
   },
   "outputs": [
    {
     "name": "stdout",
     "output_type": "stream",
     "text": [
      "[  1.  10. 100.]\n"
     ]
    }
   ],
   "source": [
    "w2 = np.geomspace(1,100,3) # Start y Stop son los valores\n",
    "print(w2)"
   ]
  },
  {
   "cell_type": "markdown",
   "id": "b42866ca",
   "metadata": {
    "collapsed": false,
    "ein.tags": "worksheet-0",
    "slideshow": {
     "slide_type": "-"
    }
   },
   "source": [
    "### Otras formas de creación\n",
    "\n",
    "Hay otras maneras de crear **numpy arrays**. Algunas, de las más comunes es cuando necesitamos crear un array con todos ceros o unos o algún valor dado"
   ]
  },
  {
   "cell_type": "code",
   "execution_count": 54,
   "id": "a3e6aa2f",
   "metadata": {
    "autoscroll": false,
    "collapsed": false,
    "ein.hycell": false,
    "ein.tags": "worksheet-0",
    "slideshow": {
     "slide_type": "-"
    }
   },
   "outputs": [],
   "source": [
    "a = np.zeros(5)"
   ]
  },
  {
   "cell_type": "code",
   "execution_count": 55,
   "id": "a7a4c434",
   "metadata": {
    "autoscroll": false,
    "collapsed": false,
    "ein.hycell": false,
    "ein.tags": "worksheet-0",
    "slideshow": {
     "slide_type": "-"
    }
   },
   "outputs": [
    {
     "data": {
      "text/plain": [
       "dtype('float64')"
      ]
     },
     "execution_count": 55,
     "metadata": {},
     "output_type": "execute_result"
    }
   ],
   "source": [
    "a.dtype                         # El tipo default es float de 64 bits"
   ]
  },
  {
   "cell_type": "code",
   "execution_count": 56,
   "id": "b9a97f52",
   "metadata": {
    "autoscroll": false,
    "collapsed": false,
    "ein.hycell": false,
    "ein.tags": "worksheet-0",
    "slideshow": {
     "slide_type": "-"
    }
   },
   "outputs": [
    {
     "name": "stdout",
     "output_type": "stream",
     "text": [
      "[0. 0. 0. 0. 0.]\n"
     ]
    }
   ],
   "source": [
    "print(a)"
   ]
  },
  {
   "cell_type": "code",
   "execution_count": 57,
   "id": "3551c20b",
   "metadata": {
    "autoscroll": false,
    "collapsed": false,
    "ein.hycell": false,
    "ein.tags": "worksheet-0",
    "slideshow": {
     "slide_type": "-"
    }
   },
   "outputs": [],
   "source": [
    "i= np.zeros(5, dtype=int)"
   ]
  },
  {
   "cell_type": "code",
   "execution_count": 58,
   "id": "fb35b883",
   "metadata": {
    "autoscroll": false,
    "collapsed": false,
    "ein.hycell": false,
    "ein.tags": "worksheet-0",
    "slideshow": {
     "slide_type": "-"
    }
   },
   "outputs": [
    {
     "name": "stdout",
     "output_type": "stream",
     "text": [
      "[0 0 0 0 0]\n"
     ]
    }
   ],
   "source": [
    "print(i)"
   ]
  },
  {
   "cell_type": "code",
   "execution_count": 59,
   "id": "2c6d661e",
   "metadata": {
    "autoscroll": false,
    "collapsed": false,
    "ein.hycell": false,
    "ein.tags": "worksheet-0",
    "slideshow": {
     "slide_type": "-"
    }
   },
   "outputs": [
    {
     "data": {
      "text/plain": [
       "dtype('int64')"
      ]
     },
     "execution_count": 59,
     "metadata": {},
     "output_type": "execute_result"
    }
   ],
   "source": [
    "i.dtype"
   ]
  },
  {
   "cell_type": "code",
   "execution_count": 60,
   "id": "1b2377fe",
   "metadata": {
    "autoscroll": false,
    "collapsed": false,
    "ein.hycell": false,
    "ein.tags": "worksheet-0",
    "slideshow": {
     "slide_type": "-"
    }
   },
   "outputs": [
    {
     "name": "stdout",
     "output_type": "stream",
     "text": [
      "[0.+0.j 0.+0.j 0.+0.j 0.+0.j 0.+0.j]\n",
      "complex128\n"
     ]
    }
   ],
   "source": [
    "c= np.zeros(5,dtype=complex)\n",
    "print(c)\n",
    "print(c.dtype)"
   ]
  },
  {
   "cell_type": "markdown",
   "id": "c9f97a8c",
   "metadata": {
    "collapsed": false,
    "ein.tags": "worksheet-0",
    "slideshow": {
     "slide_type": "-"
    }
   },
   "source": [
    "En lugar de inicializarlo en cero podemos inicializarlo con algún valor"
   ]
  },
  {
   "cell_type": "code",
   "execution_count": 61,
   "id": "a2f2733a",
   "metadata": {
    "autoscroll": false,
    "collapsed": false,
    "ein.hycell": false,
    "ein.tags": "worksheet-0",
    "slideshow": {
     "slide_type": "-"
    }
   },
   "outputs": [
    {
     "data": {
      "text/plain": [
       "array([1.+0.j, 1.+0.j, 1.+0.j, 1.+0.j, 1.+0.j])"
      ]
     },
     "execution_count": 61,
     "metadata": {},
     "output_type": "execute_result"
    }
   ],
   "source": [
    "np.ones(5, dtype=complex)     # Algo similar pero inicializando a unos"
   ]
  },
  {
   "cell_type": "markdown",
   "id": "df14cfa9",
   "metadata": {
    "collapsed": false,
    "ein.tags": "worksheet-0",
    "slideshow": {
     "slide_type": "-"
    }
   },
   "source": [
    "Ya vimos que también podemos inicializarlos con valores \"equiespaciados\" con `np.arange()`, con `np.linspace()` o con `np.logspace()`"
   ]
  },
  {
   "cell_type": "code",
   "execution_count": 62,
   "id": "2f7d35eb",
   "metadata": {
    "autoscroll": false,
    "collapsed": false,
    "ein.hycell": false,
    "ein.tags": "worksheet-0",
    "slideshow": {
     "slide_type": "-"
    }
   },
   "outputs": [],
   "source": [
    "v = np.arange(2,15,2) # Crea un array con una secuencia (similar a la función range)"
   ]
  },
  {
   "cell_type": "markdown",
   "id": "f0ec0134",
   "metadata": {
    "collapsed": false,
    "ein.tags": "worksheet-0",
    "slideshow": {
     "slide_type": "-"
    }
   },
   "source": [
    "Para crear *arrays* multidimensionales usamos:\n"
   ]
  },
  {
   "cell_type": "code",
   "execution_count": 63,
   "id": "c65f6758",
   "metadata": {
    "autoscroll": false,
    "collapsed": false,
    "ein.hycell": false,
    "ein.tags": "worksheet-0",
    "slideshow": {
     "slide_type": "-"
    }
   },
   "outputs": [
    {
     "data": {
      "text/plain": [
       "array([[1., 1., 1., 1., 1.],\n",
       "       [1., 1., 1., 1., 1.],\n",
       "       [1., 1., 1., 1., 1.],\n",
       "       [1., 1., 1., 1., 1.]])"
      ]
     },
     "execution_count": 63,
     "metadata": {},
     "output_type": "execute_result"
    }
   ],
   "source": [
    "np.ones((4,5))"
   ]
  },
  {
   "cell_type": "code",
   "execution_count": 64,
   "id": "1796cf09",
   "metadata": {
    "autoscroll": false,
    "collapsed": false,
    "ein.hycell": false,
    "ein.tags": "worksheet-0",
    "slideshow": {
     "slide_type": "-"
    }
   },
   "outputs": [
    {
     "data": {
      "text/plain": [
       "array([[[1., 1., 1., 1., 1., 1.],\n",
       "        [1., 1., 1., 1., 1., 1.],\n",
       "        [1., 1., 1., 1., 1., 1.]],\n",
       "\n",
       "       [[1., 1., 1., 1., 1., 1.],\n",
       "        [1., 1., 1., 1., 1., 1.],\n",
       "        [1., 1., 1., 1., 1., 1.]],\n",
       "\n",
       "       [[1., 1., 1., 1., 1., 1.],\n",
       "        [1., 1., 1., 1., 1., 1.],\n",
       "        [1., 1., 1., 1., 1., 1.]],\n",
       "\n",
       "       [[1., 1., 1., 1., 1., 1.],\n",
       "        [1., 1., 1., 1., 1., 1.],\n",
       "        [1., 1., 1., 1., 1., 1.]]])"
      ]
     },
     "execution_count": 64,
     "metadata": {},
     "output_type": "execute_result"
    }
   ],
   "source": [
    "np.ones((4,3,6))"
   ]
  },
  {
   "cell_type": "code",
   "execution_count": 65,
   "id": "51d50b81",
   "metadata": {
    "autoscroll": false,
    "collapsed": false,
    "ein.hycell": false,
    "ein.tags": "worksheet-0",
    "slideshow": {
     "slide_type": "-"
    }
   },
   "outputs": [
    {
     "data": {
      "text/plain": [
       "array([[1., 0., 0., 0.],\n",
       "       [0., 1., 0., 0.],\n",
       "       [0., 0., 1., 0.],\n",
       "       [0., 0., 0., 1.]])"
      ]
     },
     "execution_count": 65,
     "metadata": {},
     "output_type": "execute_result"
    }
   ],
   "source": [
    "np.eye(4)"
   ]
  },
  {
   "cell_type": "code",
   "execution_count": 66,
   "id": "58f88a02",
   "metadata": {
    "autoscroll": false,
    "collapsed": false,
    "ein.hycell": false,
    "ein.tags": "worksheet-0",
    "slideshow": {
     "slide_type": "-"
    }
   },
   "outputs": [
    {
     "data": {
      "text/plain": [
       "array([[1., 0., 0., 0., 0., 0., 0.],\n",
       "       [0., 1., 0., 0., 0., 0., 0.],\n",
       "       [0., 0., 1., 0., 0., 0., 0.]])"
      ]
     },
     "execution_count": 66,
     "metadata": {},
     "output_type": "execute_result"
    }
   ],
   "source": [
    "np.eye(3,7)"
   ]
  },
  {
   "cell_type": "markdown",
   "id": "41475a96",
   "metadata": {
    "collapsed": false,
    "ein.tags": "worksheet-0",
    "slideshow": {
     "slide_type": "-"
    }
   },
   "source": [
    "En este último ejemplo hemos creado matrices con unos en la diagonal y ceros en todos los demás lugares."
   ]
  },
  {
   "cell_type": "markdown",
   "id": "3203b203",
   "metadata": {
    "collapsed": false,
    "ein.tags": "worksheet-0",
    "slideshow": {
     "slide_type": "-"
    }
   },
   "source": [
    "## Acceso a los elementos\n",
    "\n",
    "El acceso a los elementos tiene una forma muy parecida a la de las listas (pero no exactamente igual). "
   ]
  },
  {
   "cell_type": "code",
   "execution_count": 67,
   "id": "3db0ca0a",
   "metadata": {
    "autoscroll": false,
    "collapsed": false,
    "ein.hycell": false,
    "ein.tags": "worksheet-0",
    "slideshow": {
     "slide_type": "-"
    }
   },
   "outputs": [
    {
     "name": "stdout",
     "output_type": "stream",
     "text": [
      "[ 1.4  2.3  3.   1.   5.   1.   9.  22.   0. ]\n"
     ]
    }
   ],
   "source": [
    "print(r1)"
   ]
  },
  {
   "cell_type": "markdown",
   "id": "de74976a",
   "metadata": {
    "collapsed": false,
    "ein.tags": "worksheet-0",
    "slideshow": {
     "slide_type": "-"
    }
   },
   "source": [
    "Si queremos uno de los elementos usamos la notación:"
   ]
  },
  {
   "cell_type": "code",
   "execution_count": 68,
   "id": "ecb6376a",
   "metadata": {
    "autoscroll": false,
    "collapsed": false,
    "ein.hycell": false,
    "ein.tags": "worksheet-0",
    "slideshow": {
     "slide_type": "-"
    }
   },
   "outputs": [
    {
     "name": "stdout",
     "output_type": "stream",
     "text": [
      "1.4 1.0 0.0\n"
     ]
    }
   ],
   "source": [
    "print(r1[0], r1[3], r1[-1])"
   ]
  },
  {
   "cell_type": "markdown",
   "id": "e99637fc",
   "metadata": {
    "collapsed": false,
    "ein.tags": "worksheet-0",
    "slideshow": {
     "slide_type": "-"
    }
   },
   "source": [
    "y para \"tajadas\" (*slices*)"
   ]
  },
  {
   "cell_type": "code",
   "execution_count": 69,
   "id": "d351c451",
   "metadata": {
    "autoscroll": false,
    "collapsed": false,
    "ein.hycell": false,
    "ein.tags": "worksheet-0",
    "slideshow": {
     "slide_type": "-"
    }
   },
   "outputs": [
    {
     "name": "stdout",
     "output_type": "stream",
     "text": [
      "[1.4 2.3 3. ]\n"
     ]
    }
   ],
   "source": [
    "print(r1[:3])"
   ]
  },
  {
   "cell_type": "code",
   "execution_count": 70,
   "id": "3c2278e7",
   "metadata": {
    "autoscroll": false,
    "collapsed": false,
    "ein.hycell": false,
    "ein.tags": "worksheet-0",
    "slideshow": {
     "slide_type": "-"
    }
   },
   "outputs": [
    {
     "name": "stdout",
     "output_type": "stream",
     "text": [
      "[ 9. 22.  0.]\n"
     ]
    }
   ],
   "source": [
    "print(r1[-3:])"
   ]
  },
  {
   "cell_type": "code",
   "execution_count": 71,
   "id": "914f1dd0",
   "metadata": {
    "autoscroll": false,
    "collapsed": false,
    "ein.hycell": false,
    "ein.tags": "worksheet-0",
    "slideshow": {
     "slide_type": "-"
    }
   },
   "outputs": [
    {
     "name": "stdout",
     "output_type": "stream",
     "text": [
      "[1. 9.]\n"
     ]
    }
   ],
   "source": [
    "print(r1[5:7])"
   ]
  },
  {
   "cell_type": "code",
   "execution_count": 72,
   "id": "fab10626",
   "metadata": {
    "autoscroll": false,
    "collapsed": false,
    "ein.hycell": false,
    "ein.tags": "worksheet-0",
    "slideshow": {
     "slide_type": "-"
    }
   },
   "outputs": [
    {
     "name": "stdout",
     "output_type": "stream",
     "text": [
      "[1.4 3.  5.  9. ]\n"
     ]
    }
   ],
   "source": [
    "print(r1[0:8:2])"
   ]
  },
  {
   "cell_type": "markdown",
   "id": "9ee5eb65",
   "metadata": {
    "collapsed": false,
    "ein.tags": "worksheet-0",
    "slideshow": {
     "slide_type": "-"
    }
   },
   "source": [
    "Como con vectores unidimensionales, con arrays multidimensionales, se puede ubicar un elemento o usar *slices*:"
   ]
  },
  {
   "cell_type": "code",
   "execution_count": 73,
   "id": "19789afd",
   "metadata": {
    "autoscroll": false,
    "collapsed": false,
    "ein.hycell": false,
    "ein.tags": "worksheet-0",
    "slideshow": {
     "slide_type": "-"
    }
   },
   "outputs": [],
   "source": [
    "arr = np.arange(55).reshape((5,11))"
   ]
  },
  {
   "cell_type": "code",
   "execution_count": 74,
   "id": "d4cad909",
   "metadata": {
    "autoscroll": false,
    "collapsed": false,
    "ein.hycell": false,
    "ein.tags": "worksheet-0",
    "slideshow": {
     "slide_type": "-"
    }
   },
   "outputs": [
    {
     "data": {
      "text/plain": [
       "array([[ 0,  1,  2,  3,  4,  5,  6,  7,  8,  9, 10],\n",
       "       [11, 12, 13, 14, 15, 16, 17, 18, 19, 20, 21],\n",
       "       [22, 23, 24, 25, 26, 27, 28, 29, 30, 31, 32],\n",
       "       [33, 34, 35, 36, 37, 38, 39, 40, 41, 42, 43],\n",
       "       [44, 45, 46, 47, 48, 49, 50, 51, 52, 53, 54]])"
      ]
     },
     "execution_count": 74,
     "metadata": {},
     "output_type": "execute_result"
    }
   ],
   "source": [
    "arr"
   ]
  },
  {
   "cell_type": "code",
   "execution_count": 75,
   "id": "35c207ff",
   "metadata": {
    "autoscroll": false,
    "collapsed": false,
    "ein.hycell": false,
    "ein.tags": "worksheet-0",
    "slideshow": {
     "slide_type": "-"
    }
   },
   "outputs": [
    {
     "name": "stdout",
     "output_type": "stream",
     "text": [
      "primer y segundo elementos 0 1\n"
     ]
    }
   ],
   "source": [
    "print(\"primer y segundo elementos\", arr[0,0], arr[0,1])"
   ]
  },
  {
   "cell_type": "code",
   "execution_count": 76,
   "id": "16e92111",
   "metadata": {
    "autoscroll": false,
    "collapsed": false,
    "ein.hycell": false,
    "ein.tags": "worksheet-0",
    "slideshow": {
     "slide_type": "-"
    }
   },
   "outputs": [
    {
     "name": "stdout",
     "output_type": "stream",
     "text": [
      "Slicing parte de la segunda fila : [13 14]\n",
      "Todas las filas, tercera columna : [ 2 13 24 35 46]\n"
     ]
    }
   ],
   "source": [
    "print( 'Slicing parte de la segunda fila :', arr[1, 2:4])\n",
    "print('Todas las filas, tercera columna :', arr[:, 2])"
   ]
  },
  {
   "cell_type": "code",
   "execution_count": 77,
   "id": "ef5349ad",
   "metadata": {
    "autoscroll": false,
    "collapsed": false,
    "ein.hycell": false,
    "ein.tags": "worksheet-0",
    "slideshow": {
     "slide_type": "-"
    }
   },
   "outputs": [
    {
     "name": "stdout",
     "output_type": "stream",
     "text": [
      "Primera fila   :\n",
      " [ 0  1  2  3  4  5  6  7  8  9 10] \n",
      "es igual a :\n",
      " [ 0  1  2  3  4  5  6  7  8  9 10]\n"
     ]
    }
   ],
   "source": [
    "print( 'Primera fila   :\\n', arr[0], '\\nes igual a :\\n', arr[0,:])"
   ]
  },
  {
   "cell_type": "code",
   "execution_count": 78,
   "id": "e74f5a88",
   "metadata": {
    "autoscroll": false,
    "collapsed": false,
    "ein.hycell": false,
    "ein.tags": "worksheet-0",
    "slideshow": {
     "slide_type": "-"
    }
   },
   "outputs": [
    {
     "name": "stdout",
     "output_type": "stream",
     "text": [
      "Segunda fila   :\n",
      " [11 12 13 14 15 16 17 18 19 20 21] \n",
      "es igual a :\n",
      " [11 12 13 14 15 16 17 18 19 20 21]\n"
     ]
    }
   ],
   "source": [
    "print( 'Segunda fila   :\\n', arr[1], '\\nes igual a :\\n', arr[1,:])"
   ]
  },
  {
   "cell_type": "code",
   "execution_count": 79,
   "id": "1a85c573",
   "metadata": {
    "autoscroll": false,
    "collapsed": false,
    "ein.hycell": false,
    "ein.tags": "worksheet-0",
    "slideshow": {
     "slide_type": "-"
    }
   },
   "outputs": [
    {
     "name": "stdout",
     "output_type": "stream",
     "text": [
      "Primera columna: [ 0 11 22 33 44]\n"
     ]
    }
   ],
   "source": [
    "print( 'Primera columna:', arr[:,0])"
   ]
  },
  {
   "cell_type": "code",
   "execution_count": 80,
   "id": "e112977c",
   "metadata": {
    "autoscroll": false,
    "collapsed": false,
    "ein.hycell": false,
    "ein.tags": "worksheet-0",
    "slideshow": {
     "slide_type": "-"
    }
   },
   "outputs": [
    {
     "name": "stdout",
     "output_type": "stream",
     "text": [
      "Última columna : \n",
      " [10 21 32 43 54]\n"
     ]
    }
   ],
   "source": [
    "print( 'Última columna : \\n', arr[:,-1])"
   ]
  },
  {
   "cell_type": "code",
   "execution_count": 81,
   "id": "2539d6d3",
   "metadata": {
    "autoscroll": false,
    "collapsed": false,
    "ein.hycell": false,
    "ein.tags": "worksheet-0",
    "slideshow": {
     "slide_type": "-"
    }
   },
   "outputs": [
    {
     "name": "stdout",
     "output_type": "stream",
     "text": [
      "Segunda fila, elementos impares (0,2,...) :  [11 13 15 17 19 21]\n"
     ]
    }
   ],
   "source": [
    "print( 'Segunda fila, elementos impares (0,2,...) : ', arr[1,::2])"
   ]
  },
  {
   "cell_type": "code",
   "execution_count": 82,
   "id": "8b936541",
   "metadata": {
    "autoscroll": false,
    "collapsed": false,
    "ein.hycell": false,
    "ein.tags": "worksheet-0",
    "slideshow": {
     "slide_type": "-"
    }
   },
   "outputs": [
    {
     "name": "stdout",
     "output_type": "stream",
     "text": [
      "Segunda fila, todos los elementos pares :  [12 14 16 18 20]\n"
     ]
    }
   ],
   "source": [
    "print( 'Segunda fila, todos los elementos pares : ', arr[1,1::2])"
   ]
  },
  {
   "cell_type": "markdown",
   "id": "ce2d154a",
   "metadata": {
    "collapsed": false,
    "ein.tags": "worksheet-0",
    "slideshow": {
     "slide_type": "-"
    }
   },
   "source": [
    "Cuando el *slicing* se hace de la forma `[i:f:s]` significa que tomaremos los elementos entre `i` (inicial), hasta `f` (final, no incluido), pero tomando sólo uno de cada `s` (stride) elementos"
   ]
  },
  {
   "cell_type": "markdown",
   "id": "a9b3f297",
   "metadata": {
    "collapsed": false,
    "ein.tags": "worksheet-0",
    "slideshow": {
     "slide_type": "-"
    }
   },
   "source": [
    "![](figuras/numpy_indexing.png) \n",
    "\n",
    "En [Scipy Lectures at http://scipy-lectures.github.io](http://scipy-lectures.github.io) hay una descripción del acceso a arrays.\n",
    "\n",
    "  "
   ]
  },
  {
   "cell_type": "markdown",
   "id": "1fa420fd",
   "metadata": {
    "collapsed": false,
    "ein.tags": "worksheet-0",
    "slideshow": {
     "slide_type": "-"
    }
   },
   "source": [
    "-----\n",
    "\n",
    "## Ejercicios 08 (a)\n",
    "\n",
    "1. Genere arrays en 2d, cada uno de tamaño 10x10 con:\n",
    "   1. Un array con valores 1 en la \"diagonal principal\" y 0 en el resto (Matriz identidad).\n",
    "   \n",
    "   2. Un array con valores 0 en la \"diagonal principal\" y 1 en el resto.\n",
    "   \n",
    "   3. Un array con valores 1 en los bordes y 0 en el interior.\n",
    "   \n",
    "   4. Un array con números enteros consecutivos (empezando en 1) en los bordes y 0 en el interior.\n",
    "\n",
    "2. Diga qué resultado produce el siguiente código, y explíquelo\n",
    "  ```python\n",
    "  # Ejemplo propuesto por Jake VanderPlas\n",
    "  print(sum(range(5),-1))\n",
    "  from numpy import *\n",
    "  print(sum(range(5),-1))\n",
    "  ```\n",
    "\n",
    "-----"
   ]
  }
 ],
 "metadata": {
  "kernelspec": {
   "argv": [
    "/usr/bin/python3",
    "-m",
    "ipykernel_launcher",
    "-f",
    "{connection_file}"
   ],
   "display_name": "Python 3 (ipykernel)",
   "env": null,
   "interrupt_mode": "signal",
   "language": "python",
   "metadata": {
    "debugger": false
   },
   "name": "python3"
  },
  "language_info": {
   "codemirror_mode": {
    "name": "ipython",
    "version": 3
   },
   "file_extension": ".py",
   "mimetype": "text/x-python",
   "name": "python",
   "nbconvert_exporter": "python",
   "pygments_lexer": "ipython3",
   "version": "3.11.1"
  },
  "name": "08_1_intro_numpy.ipynb",
  "toc": {
   "base_numbering": 1,
   "nav_menu": {
    "height": "393px",
    "width": "251.667px"
   },
   "number_sections": false,
   "sideBar": true,
   "skip_h1_title": false,
   "title_cell": "Contenidos",
   "title_sidebar": "Contenidos",
   "toc_cell": false,
   "toc_position": {
    "height": "calc(100% - 180px)",
    "left": "10px",
    "top": "150px",
    "width": "341px"
   },
   "toc_section_display": true,
   "toc_window_display": true
  }
 },
 "nbformat": 4,
 "nbformat_minor": 5
}
