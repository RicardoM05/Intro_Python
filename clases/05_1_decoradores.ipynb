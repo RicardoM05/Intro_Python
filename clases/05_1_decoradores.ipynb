{
 "cells": [
  {
   "cell_type": "markdown",
   "metadata": {},
   "source": [
    "# Entrada y salida, decoradores, y errores "
   ]
  },
  {
   "cell_type": "markdown",
   "metadata": {},
   "source": [
    "## Funciones que aceptan y devuelven funciones (Decoradores)\n",
    "\n",
    "Vimos que las funciones pueden tomar como argumento otra función, pueden devolver una función, y también pueden hacer las dos cosas simultáneamente.\n",
    "\n",
    "Consideremos la siguiente función `mas_uno`, que toma como argumento una función y devuelve otra función."
   ]
  },
  {
   "cell_type": "code",
   "execution_count": 1,
   "metadata": {},
   "outputs": [],
   "source": [
    "def mas_uno(func):\n",
    "  \"Devuelve una función\"\n",
    "  def fun(args):\n",
    "    \"Agrega 1 a cada uno de los elementos y luego aplica la función\"\n",
    "    xx = [x+1 for x in args]\n",
    "    y= func(xx)\n",
    "    return y\n",
    "  return fun"
   ]
  },
  {
   "cell_type": "code",
   "execution_count": 2,
   "metadata": {},
   "outputs": [],
   "source": [
    "ssum= mas_uno(sum)              # ssum es una función\n",
    "mmin= mas_uno(min)              # mmin es una función\n",
    "mmax= mas_uno(max)              # mmax es una función"
   ]
  },
  {
   "cell_type": "code",
   "execution_count": 3,
   "metadata": {},
   "outputs": [
    {
     "name": "stdout",
     "output_type": "stream",
     "text": [
      "[0, 1, 3.3, 5, 7.5, 2.2]\n",
      "19.0 25.0\n",
      "0 1\n",
      "7.5 8.5\n"
     ]
    }
   ],
   "source": [
    "a = [0, 1, 3.3, 5, 7.5, 2.2]\n",
    "print(a)\n",
    "print(sum(a), ssum(a))\n",
    "print(min(a), mmin(a))\n",
    "print(max(a), mmax(a))\n",
    "\n"
   ]
  },
  {
   "cell_type": "markdown",
   "metadata": {},
   "source": [
    "Podemos aplicar la función tanto a funciones \"intrínsecas\" como a funciones definidas por nosotros"
   ]
  },
  {
   "cell_type": "code",
   "execution_count": 4,
   "metadata": {},
   "outputs": [],
   "source": [
    "def parabola(v):\n",
    "  return [x**2 + 2*x for x in v]\n"
   ]
  },
  {
   "cell_type": "code",
   "execution_count": 5,
   "metadata": {},
   "outputs": [],
   "source": [
    "mparabola = mas_uno(parabola)"
   ]
  },
  {
   "cell_type": "code",
   "execution_count": 6,
   "metadata": {},
   "outputs": [
    {
     "name": "stdout",
     "output_type": "stream",
     "text": [
      "[0, 3, 17.49, 35, 71.25, 9.240000000000002]\n",
      "[3, 8, 27.089999999999996, 48, 89.25, 16.64]\n"
     ]
    }
   ],
   "source": [
    "print(parabola(a))\n",
    "print(mparabola(a))"
   ]
  },
  {
   "cell_type": "markdown",
   "metadata": {},
   "source": [
    "Notemos que al decorar una función estamos creando una enteramente nueva"
   ]
  },
  {
   "cell_type": "code",
   "execution_count": 7,
   "metadata": {},
   "outputs": [],
   "source": [
    "del parabola                    # Borramos el objeto"
   ]
  },
  {
   "cell_type": "code",
   "execution_count": 8,
   "metadata": {},
   "outputs": [
    {
     "ename": "NameError",
     "evalue": "name 'parabola' is not defined",
     "output_type": "error",
     "traceback": [
      "\u001b[0;31m---------------------------------------------------------------------------\u001b[0m",
      "\u001b[0;31mNameError\u001b[0m                                 Traceback (most recent call last)",
      "Input \u001b[0;32mIn [8]\u001b[0m, in \u001b[0;36m<module>\u001b[0;34m\u001b[0m\n\u001b[0;32m----> 1\u001b[0m \u001b[43mparabola\u001b[49m(a)\n",
      "\u001b[0;31mNameError\u001b[0m: name 'parabola' is not defined"
     ]
    }
   ],
   "source": [
    "parabola(a)"
   ]
  },
  {
   "cell_type": "code",
   "execution_count": 9,
   "metadata": {},
   "outputs": [
    {
     "data": {
      "text/plain": [
       "[3, 8, 27.089999999999996, 48, 89.25, 16.64]"
      ]
     },
     "execution_count": 9,
     "metadata": {},
     "output_type": "execute_result"
    }
   ],
   "source": [
    "mparabola(a)"
   ]
  },
  {
   "cell_type": "markdown",
   "metadata": {},
   "source": [
    "Algunas veces queremos simplemente modificar la función original"
   ]
  },
  {
   "cell_type": "markdown",
   "metadata": {},
   "source": [
    "\n",
    "### Notación para decoradores\n",
    "\n",
    "Al procedimiento de modificar una función original, para crear una nueva y renombrar la nueva con el nombre de la original se lo conoce como \"decorar\", y tiene una notación especial"
   ]
  },
  {
   "cell_type": "code",
   "execution_count": 10,
   "metadata": {},
   "outputs": [],
   "source": [
    "def parabola(v):\n",
    "  return [x**2 + 2*x for x in v]\n",
    "mparabola = mas_uno(parabola)\n",
    "del parabola\n",
    "parabola = mparabola\n",
    "del mparabola"
   ]
  },
  {
   "cell_type": "markdown",
   "metadata": {},
   "source": [
    "Son un montón de líneas, no todas necesarias, y podemos simplificarlo:"
   ]
  },
  {
   "cell_type": "code",
   "execution_count": 11,
   "metadata": {},
   "outputs": [],
   "source": [
    "def parabola(v):\n",
    "  return [x**2 + 2*x for x in v]\n",
    "parabola = mas_uno(parabola)"
   ]
  },
  {
   "cell_type": "markdown",
   "metadata": {},
   "source": [
    "Como esta es una situación que puede darse frecuentemente en algunas áreas se decidió simplificar la notación, introduciendo el uso de `@`. Lo anterior puede escribirse como:"
   ]
  },
  {
   "cell_type": "code",
   "execution_count": 12,
   "metadata": {},
   "outputs": [],
   "source": [
    "@mas_uno\n",
    "def mi_parabola(v):\n",
    "  return [x**2 + 2*x for x in v]"
   ]
  },
  {
   "cell_type": "markdown",
   "metadata": {},
   "source": [
    "La única restricción para utilizar esta notación es que la línea con el decorador debe estar inmediatamente antes de la definición de la función a decorar"
   ]
  },
  {
   "cell_type": "code",
   "execution_count": 13,
   "metadata": {},
   "outputs": [
    {
     "data": {
      "text/plain": [
       "[3, 8, 27.089999999999996, 48, 89.25, 16.64]"
      ]
     },
     "execution_count": 13,
     "metadata": {},
     "output_type": "execute_result"
    }
   ],
   "source": [
    "mi_parabola(a)"
   ]
  },
  {
   "cell_type": "markdown",
   "metadata": {},
   "source": [
    "\n",
    "### Algunos usos de decoradores\n",
    "\n",
    "Un uso común de los decoradores es agregar código de verificación de los argumentos de las funciones. Por ejemplo, la función que definimos anteriormente falla si le damos un punto `x` y queremos obtener el valor `y` de la parábola (más uno):"
   ]
  },
  {
   "cell_type": "code",
   "execution_count": 14,
   "metadata": {},
   "outputs": [
    {
     "ename": "TypeError",
     "evalue": "'int' object is not iterable",
     "output_type": "error",
     "traceback": [
      "\u001b[0;31m---------------------------------------------------------------------------\u001b[0m",
      "\u001b[0;31mTypeError\u001b[0m                                 Traceback (most recent call last)",
      "Input \u001b[0;32mIn [14]\u001b[0m, in \u001b[0;36m<module>\u001b[0;34m\u001b[0m\n\u001b[0;32m----> 1\u001b[0m \u001b[43mmi_parabola\u001b[49m\u001b[43m(\u001b[49m\u001b[38;5;241;43m3\u001b[39;49m\u001b[43m)\u001b[49m\n",
      "Input \u001b[0;32mIn [1]\u001b[0m, in \u001b[0;36mmas_uno.<locals>.fun\u001b[0;34m(args)\u001b[0m\n\u001b[1;32m      3\u001b[0m \u001b[38;5;28;01mdef\u001b[39;00m \u001b[38;5;21mfun\u001b[39m(args):\n\u001b[1;32m      4\u001b[0m   \u001b[38;5;124m\"\u001b[39m\u001b[38;5;124mAgrega 1 a cada uno de los elementos y luego aplica la función\u001b[39m\u001b[38;5;124m\"\u001b[39m\n\u001b[0;32m----> 5\u001b[0m   xx \u001b[38;5;241m=\u001b[39m [x\u001b[38;5;241m+\u001b[39m\u001b[38;5;241m1\u001b[39m \u001b[38;5;28;01mfor\u001b[39;00m x \u001b[38;5;129;01min\u001b[39;00m args]\n\u001b[1;32m      6\u001b[0m   y\u001b[38;5;241m=\u001b[39m func(xx)\n\u001b[1;32m      7\u001b[0m   \u001b[38;5;28;01mreturn\u001b[39;00m y\n",
      "\u001b[0;31mTypeError\u001b[0m: 'int' object is not iterable"
     ]
    }
   ],
   "source": [
    "mi_parabola(3)"
   ]
  },
  {
   "cell_type": "markdown",
   "metadata": {},
   "source": [
    "El problema aquí es que definimos la función para tomar como argumentos una lista (o al menos un iterable de números) y estamos tratando de aplicarla a un único valor.\n",
    "Podemos definir un decorador para asegurarnos que el tipo es correcto (aunque esta implementación podría ser mejor)"
   ]
  },
  {
   "cell_type": "code",
   "execution_count": 15,
   "metadata": {},
   "outputs": [],
   "source": [
    "def test_argumento_list_num(f):\n",
    "  def check(v):\n",
    "    if (type(v) == list):\n",
    "      return f(v)\n",
    "    else:\n",
    "      print(\"Error: El argumento debe ser una lista\")\n",
    "  return check"
   ]
  },
  {
   "cell_type": "code",
   "execution_count": 16,
   "metadata": {},
   "outputs": [],
   "source": [
    "mi_parabola = test_argumento_list_num(mi_parabola)"
   ]
  },
  {
   "cell_type": "code",
   "execution_count": 17,
   "metadata": {},
   "outputs": [
    {
     "name": "stdout",
     "output_type": "stream",
     "text": [
      "Error: El argumento debe ser una lista\n"
     ]
    }
   ],
   "source": [
    "mi_parabola(3)"
   ]
  },
  {
   "cell_type": "code",
   "execution_count": 18,
   "metadata": {},
   "outputs": [
    {
     "data": {
      "text/plain": [
       "[3, 8, 27.089999999999996, 48, 89.25, 16.64]"
      ]
     },
     "execution_count": 18,
     "metadata": {},
     "output_type": "execute_result"
    }
   ],
   "source": [
    "mi_parabola(a)"
   ]
  },
  {
   "cell_type": "markdown",
   "metadata": {},
   "source": [
    "Supongamos que queremos simplemente extender la función para que sea válida también con argumentos escalares. Definimos una nueva función que utilizaremos como decorador"
   ]
  },
  {
   "cell_type": "code",
   "execution_count": 19,
   "metadata": {},
   "outputs": [],
   "source": [
    "def hace_argumento_list(f):\n",
    "  def check(v):\n",
    "    \"Corrige el argumento si no es una lista\"\n",
    "    if (type(v) == list):\n",
    "      return f(v)\n",
    "    else:\n",
    "      return f([v])\n",
    "  return check  "
   ]
  },
  {
   "cell_type": "code",
   "execution_count": 20,
   "metadata": {},
   "outputs": [],
   "source": [
    "@hace_argumento_list\n",
    "def parabola(v):\n",
    "  return [x**2 + 2*x for x in v]\n"
   ]
  },
  {
   "cell_type": "markdown",
   "metadata": {},
   "source": [
    "Esto es equivalente a:"
   ]
  },
  {
   "cell_type": "code",
   "execution_count": null,
   "metadata": {},
   "outputs": [],
   "source": [
    "def parabola(v):\n",
    "  return [x**2 + 2*x for x in v]\n",
    "parabola = hace_argumento_list(parabola)"
   ]
  },
  {
   "cell_type": "code",
   "execution_count": 21,
   "metadata": {},
   "outputs": [
    {
     "name": "stdout",
     "output_type": "stream",
     "text": [
      "[15]\n",
      "[15]\n"
     ]
    }
   ],
   "source": [
    "print(parabola(3))\n",
    "print(parabola([3]))"
   ]
  }
 ],
 "metadata": {
  "kernelspec": {
   "display_name": "Python 3 (ipykernel)",
   "language": "python",
   "name": "python3"
  },
  "language_info": {
   "codemirror_mode": {
    "name": "ipython",
    "version": 3
   },
   "file_extension": ".py",
   "mimetype": "text/x-python",
   "name": "python",
   "nbconvert_exporter": "python",
   "pygments_lexer": "ipython3",
   "version": "3.10.2"
  },
  "name": "05_1_decoradores.ipynb",
  "toc": {
   "base_numbering": 1,
   "nav_menu": {
    "height": "78.5333px",
    "width": "251.833px"
   },
   "number_sections": true,
   "sideBar": true,
   "skip_h1_title": true,
   "title_cell": "Contenidos",
   "title_sidebar": "Contenidos",
   "toc_cell": false,
   "toc_position": null,
   "toc_section_display": true,
   "toc_window_display": false
  }
 },
 "nbformat": 4,
 "nbformat_minor": 4
}
