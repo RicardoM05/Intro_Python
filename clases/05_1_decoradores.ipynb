{
 "cells": [
  {
   "cell_type": "markdown",
   "id": "8eb2f676-b1dc-45a6-ae76-3866f60dbb4c",
   "metadata": {
    "collapsed": false
   },
   "source": [
    "# Entrada y salida, decoradores, y errores "
   ]
  },
  {
   "cell_type": "markdown",
   "id": "ce5e0c71-bfc1-4d18-8b3d-bd9817c3201d",
   "metadata": {
    "collapsed": false
   },
   "source": [
    "## Funciones que aceptan y devuelven funciones (Decoradores)\n",
    "\n",
    "Vimos que las funciones pueden tomar como argumento otra función, pueden devolver una función, y también pueden hacer las dos cosas simultáneamente.\n",
    "\n",
    "Consideremos la siguiente función `mas_uno`, que toma como argumento una función y devuelve otra función."
   ]
  },
  {
   "cell_type": "code",
   "execution_count": null,
   "id": "c3ccfdd7-c081-44da-ba6d-8eead3be6eb7",
   "metadata": {
    "collapsed": false
   },
   "outputs": [],
   "source": [
    "def mas_uno(func):\n",
    "  \"Devuelve una función\"\n",
    "  def fun(args):\n",
    "    \"Agrega 1 a cada uno de los elementos y luego aplica la función\"\n",
    "    xx = [x+1 for x in args]\n",
    "    y= func(xx)\n",
    "    return y\n",
    "  return fun"
   ]
  },
  {
   "cell_type": "code",
   "execution_count": null,
   "id": "50c6a17c-578d-4176-84a0-85ba36519be7",
   "metadata": {
    "collapsed": false
   },
   "outputs": [],
   "source": [
    "ssum= mas_uno(sum)              # ssum es una función\n",
    "mmin= mas_uno(min)              # mmin es una función\n",
    "mmax= mas_uno(max)              # mmax es una función"
   ]
  },
  {
   "cell_type": "code",
   "execution_count": null,
   "id": "ed65a920-dc02-457f-a027-f1a4d99ef92c",
   "metadata": {
    "collapsed": false
   },
   "outputs": [],
   "source": [
    "a = [0, 1, 3.3, 5, 7.5, 2.2]\n",
    "print(a)\n",
    "print(sum(a), ssum(a))\n",
    "print(min(a), mmin(a))\n",
    "print(max(a), mmax(a))\n",
    "\n"
   ]
  },
  {
   "cell_type": "markdown",
   "id": "b85b82ad-ce88-40db-a187-02ee290d4663",
   "metadata": {
    "collapsed": false
   },
   "source": [
    "Podemos aplicar la función tanto a funciones \"intrínsecas\" como a funciones definidas por nosotros"
   ]
  },
  {
   "cell_type": "code",
   "execution_count": null,
   "id": "3f81f10b-2b3a-4eb4-b243-806869cbe63a",
   "metadata": {
    "collapsed": false
   },
   "outputs": [],
   "source": [
    "def parabola(v):\n",
    "  return [x**2 + 2*x for x in v]\n"
   ]
  },
  {
   "cell_type": "code",
   "execution_count": null,
   "id": "71bb2d56-15fc-431f-97f8-8f17ecd84ddc",
   "metadata": {
    "collapsed": false
   },
   "outputs": [],
   "source": [
    "mparabola = mas_uno(parabola)"
   ]
  },
  {
   "cell_type": "code",
   "execution_count": null,
   "id": "85cc8286-d34b-49c5-8194-883ae08f1c6f",
   "metadata": {
    "collapsed": false
   },
   "outputs": [],
   "source": [
    "print(parabola(a))\n",
    "print(mparabola(a))"
   ]
  },
  {
   "cell_type": "markdown",
   "id": "f1975b0a-bf1d-4c0e-9f36-6f42617cea78",
   "metadata": {
    "collapsed": false
   },
   "source": [
    "Notemos que al decorar una función estamos creando una enteramente nueva"
   ]
  },
  {
   "cell_type": "code",
   "execution_count": null,
   "id": "c4433cdf-207e-427e-884b-53005458bc05",
   "metadata": {
    "collapsed": false
   },
   "outputs": [],
   "source": [
    "del parabola                    # Borramos el objeto"
   ]
  },
  {
   "cell_type": "code",
   "execution_count": null,
   "id": "9862aeb9-270f-4179-bbc1-ee54edeea8ae",
   "metadata": {
    "collapsed": false
   },
   "outputs": [],
   "source": [
    "parabola(a)"
   ]
  },
  {
   "cell_type": "code",
   "execution_count": null,
   "id": "56d8ff79-9bc4-4597-960a-f5853c548d38",
   "metadata": {
    "collapsed": false
   },
   "outputs": [],
   "source": [
    "mparabola(a)"
   ]
  },
  {
   "cell_type": "markdown",
   "id": "1829dd42-2ecc-4212-9514-58dad9c3740b",
   "metadata": {
    "collapsed": false
   },
   "source": [
    "Algunas veces queremos simplemente modificar la función original"
   ]
  },
  {
   "cell_type": "markdown",
   "id": "668141dc-e1c9-437d-86a3-7716c9b8cb0b",
   "metadata": {
    "collapsed": false
   },
   "source": [
    "\n",
    "### Notación para decoradores\n",
    "\n",
    "Al procedimiento de modificar una función original, para crear una nueva y renombrar la nueva con el nombre de la original se lo conoce como \"decorar\", y tiene una notación especial"
   ]
  },
  {
   "cell_type": "code",
   "execution_count": null,
   "id": "1e946c77-96e9-4b9a-8232-85c70b7b77ff",
   "metadata": {
    "collapsed": false
   },
   "outputs": [],
   "source": [
    "def parabola(v):\n",
    "  return [x**2 + 2*x for x in v]\n",
    "mparabola = mas_uno(parabola)\n",
    "del parabola\n",
    "parabola = mparabola\n",
    "del mparabola"
   ]
  },
  {
   "cell_type": "markdown",
   "id": "2b81d462-cde8-42e9-af6a-d777334708c3",
   "metadata": {
    "collapsed": false
   },
   "source": [
    "Son un montón de líneas, no todas necesarias, y podemos simplificarlo:"
   ]
  },
  {
   "cell_type": "code",
   "execution_count": null,
   "id": "acf2d1c4-41a7-4b9b-8689-78071c75703c",
   "metadata": {
    "collapsed": false
   },
   "outputs": [],
   "source": [
    "def parabola(v):\n",
    "  return [x**2 + 2*x for x in v]\n",
    "parabola = mas_uno(parabola)"
   ]
  },
  {
   "cell_type": "markdown",
   "id": "1826c498-c108-4ee5-9352-eacc85b2ae65",
   "metadata": {
    "collapsed": false
   },
   "source": [
    "Como esta es una situación que puede darse frecuentemente en algunas áreas se decidió simplificar la notación, introduciendo el uso de `@`. Lo anterior puede escribirse como:"
   ]
  },
  {
   "cell_type": "code",
   "execution_count": null,
   "id": "e933b0af-e78e-4bbe-8885-53cf92012dee",
   "metadata": {
    "collapsed": false
   },
   "outputs": [],
   "source": [
    "@mas_uno\n",
    "def mi_parabola(v):\n",
    "  return [x**2 + 2*x for x in v]"
   ]
  },
  {
   "cell_type": "markdown",
   "id": "49fb5cdd-77e6-43f3-9f0d-282637902ca4",
   "metadata": {
    "collapsed": false
   },
   "source": [
    "La única restricción para utilizar esta notación es que la línea con el decorador debe estar inmediatamente antes de la definición de la función a decorar"
   ]
  },
  {
   "cell_type": "code",
   "execution_count": null,
   "id": "0140d313-6f5a-42af-bef5-175e29befaac",
   "metadata": {
    "collapsed": false
   },
   "outputs": [],
   "source": [
    "mi_parabola(a)"
   ]
  },
  {
   "cell_type": "markdown",
   "id": "2cf4e1e7-7d19-4d71-ad61-797962384412",
   "metadata": {
    "collapsed": false
   },
   "source": [
    "\n",
    "### Algunos usos de decoradores\n",
    "\n",
    "Un uso común de los decoradores es agregar código de verificación de los argumentos de las funciones. Por ejemplo, la función que definimos anteriormente falla si le damos un punto `x` y queremos obtener el valor `y` de la parábola (más uno):"
   ]
  },
  {
   "cell_type": "code",
   "execution_count": null,
   "id": "b97161b2-cf25-4099-b0a7-7737e6f90dff",
   "metadata": {
    "collapsed": false
   },
   "outputs": [],
   "source": [
    "mi_parabola(3)"
   ]
  },
  {
   "cell_type": "markdown",
   "id": "63f5cd83-c46a-4f4a-905e-5ffd7d3049ef",
   "metadata": {
    "collapsed": false
   },
   "source": [
    "El problema aquí es que definimos la función para tomar como argumentos una lista (o al menos un iterable de números) y estamos tratando de aplicarla a un único valor.\n",
    "Podemos definir un decorador para asegurarnos que el tipo es correcto (aunque esta implementación podría ser mejor)"
   ]
  },
  {
   "cell_type": "code",
   "execution_count": null,
   "id": "135bd2c6-0c72-45f7-a0f0-64401dad8bc0",
   "metadata": {
    "collapsed": false
   },
   "outputs": [],
   "source": [
    "def test_argumento_list_num(f):\n",
    "  def check(v):\n",
    "    if (type(v) == list):\n",
    "      return f(v)\n",
    "    else:\n",
    "      print(\"Error: El argumento debe ser una lista\")\n",
    "  return check"
   ]
  },
  {
   "cell_type": "code",
   "execution_count": null,
   "id": "df7c2797-bccf-439a-987e-8b1f90858964",
   "metadata": {
    "collapsed": false
   },
   "outputs": [],
   "source": [
    "mi_parabola = test_argumento_list_num(mi_parabola)"
   ]
  },
  {
   "cell_type": "code",
   "execution_count": null,
   "id": "e4f6acac-17f3-4f3c-883e-2d159b142cdd",
   "metadata": {
    "collapsed": false
   },
   "outputs": [],
   "source": [
    "mi_parabola(3)"
   ]
  },
  {
   "cell_type": "code",
   "execution_count": null,
   "id": "3f27de4b-e7af-4fa4-92d9-cf6b6fbed9f1",
   "metadata": {
    "collapsed": false
   },
   "outputs": [],
   "source": [
    "mi_parabola(a)"
   ]
  },
  {
   "cell_type": "markdown",
   "id": "850b011d-a043-4631-9f58-d79ffc9deaa3",
   "metadata": {
    "collapsed": false
   },
   "source": [
    "Supongamos que queremos simplemente extender la función para que sea válida también con argumentos escalares. Definimos una nueva función que utilizaremos como decorador"
   ]
  },
  {
   "cell_type": "code",
   "execution_count": null,
   "id": "013e2031-36ff-441b-ac30-db7bba07fc9c",
   "metadata": {
    "collapsed": false
   },
   "outputs": [],
   "source": [
    "def hace_argumento_list(f):\n",
    "  def check(v):\n",
    "    \"Corrige el argumento si no es una lista\"\n",
    "    if (type(v) == list):\n",
    "      return f(v)\n",
    "    else:\n",
    "      return f([v])\n",
    "  return check  "
   ]
  },
  {
   "cell_type": "code",
   "execution_count": null,
   "id": "eb3f26df-fd7b-40f1-bb9e-bf852e4a9e5c",
   "metadata": {
    "collapsed": false
   },
   "outputs": [],
   "source": [
    "@hace_argumento_list\n",
    "def parabola(v):\n",
    "  return [x**2 + 2*x for x in v]\n"
   ]
  },
  {
   "cell_type": "markdown",
   "id": "858db052-7f46-4152-b525-2742ef196c16",
   "metadata": {
    "collapsed": false
   },
   "source": [
    "Esto es equivalente a:"
   ]
  },
  {
   "cell_type": "code",
   "execution_count": null,
   "id": "f6f8185a-fc64-48c8-8491-d0490ba93faa",
   "metadata": {
    "collapsed": false
   },
   "outputs": [],
   "source": [
    "def parabola(v):\n",
    "  return [x**2 + 2*x for x in v]\n",
    "parabola = hace_argumento_list(parabola)"
   ]
  },
  {
   "cell_type": "code",
   "execution_count": null,
   "id": "98b34610-d484-4e43-b1db-11589907a34c",
   "metadata": {
    "collapsed": false
   },
   "outputs": [],
   "source": [
    "print(parabola(3))\n",
    "print(parabola([3]))"
   ]
  }
 ],
 "metadata": {
  "kernelspec": {
   "argv": [
    "python",
    "-m",
    "ipykernel_launcher",
    "-f",
    "{connection_file}"
   ],
   "display_name": "Python 3 (ipykernel)",
   "env": null,
   "interrupt_mode": "signal",
   "language": "python",
   "metadata": {
    "debugger": true
   },
   "name": "python3"
  },
  "language_info": {
   "codemirror_mode": {
    "name": "ipython",
    "version": 3
   },
   "file_extension": ".py",
   "mimetype": "text/x-python",
   "name": "python",
   "nbconvert_exporter": "python",
   "pygments_lexer": "ipython3",
   "version": "3.10.2"
  },
  "name": "05_1_decoradores.ipynb",
  "toc": {
   "base_numbering": 1,
   "nav_menu": {
    "height": "78.5333px",
    "width": "251.833px"
   },
   "number_sections": true,
   "sideBar": true,
   "skip_h1_title": true,
   "title_cell": "Contenidos",
   "title_sidebar": "Contenidos",
   "toc_cell": false,
   "toc_position": null,
   "toc_section_display": true,
   "toc_window_display": false
  }
 },
 "nbformat": 4,
 "nbformat_minor": 4
}
