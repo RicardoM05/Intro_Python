{
 "cells": [
  {
   "cell_type": "markdown",
   "metadata": {
    "ein.tags": "worksheet-0",
    "slideshow": {
     "slide_type": "-"
    }
   },
   "source": [
    "## Atrapar y administrar errores"
   ]
  },
  {
   "cell_type": "markdown",
   "metadata": {
    "ein.tags": "worksheet-0",
    "slideshow": {
     "slide_type": "-"
    }
   },
   "source": [
    "**Python** tiene incorporado un mecanismo para atrapar errores de distintos tipos, así como para generar errores que den información al usuario sobre usos incorrectos del código.\n",
    "\n",
    "En primer lugar consideremos lo que se llama un error de sintaxis. El siguiente comando es sintácticamente correcto y el intérprete sabe como leerlo"
   ]
  },
  {
   "cell_type": "code",
   "execution_count": 1,
   "metadata": {
    "collapsed": true
   },
   "outputs": [
    {
     "name": "stdout",
     "output_type": "stream",
     "text": [
      "hola\n"
     ]
    }
   ],
   "source": [
    "print(\"hola\")"
   ]
  },
  {
   "cell_type": "markdown",
   "metadata": {},
   "source": [
    "mientras que, si escribimos algo que no está permitido en el lenguaje"
   ]
  },
  {
   "cell_type": "code",
   "execution_count": 2,
   "metadata": {
    "autoscroll": false,
    "collapsed": true,
    "ein.hycell": false,
    "ein.tags": "worksheet-0",
    "slideshow": {
     "slide_type": "-"
    }
   },
   "outputs": [
    {
     "ename": "SyntaxError",
     "evalue": "unmatched ')' (362698962.py, line 1)",
     "output_type": "error",
     "traceback": [
      "\u001b[0;36m  Input \u001b[0;32mIn [2]\u001b[0;36m\u001b[0m\n\u001b[0;31m    print(\"hola\"))\u001b[0m\n\u001b[0m                 ^\u001b[0m\n\u001b[0;31mSyntaxError\u001b[0m\u001b[0;31m:\u001b[0m unmatched ')'\n"
     ]
    }
   ],
   "source": [
    "print(\"hola\"))"
   ]
  },
  {
   "cell_type": "markdown",
   "metadata": {
    "ein.tags": "worksheet-0",
    "slideshow": {
     "slide_type": "-"
    }
   },
   "source": [
    "El intérprete detecta el error y repite la línea donde lo identifica. Este tipo de errores debe corregirse para poder seguir con el programa.\n",
    "\n",
    "Consideremos ahora el código siguiente, que es sintácticamente correcto pero igualmente causa un error"
   ]
  },
  {
   "cell_type": "code",
   "execution_count": 3,
   "metadata": {
    "autoscroll": false,
    "collapsed": true,
    "ein.hycell": false,
    "ein.tags": "worksheet-0",
    "slideshow": {
     "slide_type": "-"
    }
   },
   "outputs": [
    {
     "ename": "ZeroDivisionError",
     "evalue": "division by zero",
     "output_type": "error",
     "traceback": [
      "\u001b[0;31m---------------------------------------------------------------------------\u001b[0m",
      "\u001b[0;31mZeroDivisionError\u001b[0m                         Traceback (most recent call last)",
      "Input \u001b[0;32mIn [3]\u001b[0m, in \u001b[0;36m<module>\u001b[0;34m\u001b[0m\n\u001b[1;32m      1\u001b[0m a \u001b[38;5;241m=\u001b[39m \u001b[38;5;241m1\u001b[39m\n\u001b[1;32m      2\u001b[0m b \u001b[38;5;241m=\u001b[39m \u001b[38;5;241m0\u001b[39m\n\u001b[0;32m----> 3\u001b[0m z \u001b[38;5;241m=\u001b[39m \u001b[43ma\u001b[49m\u001b[43m \u001b[49m\u001b[38;5;241;43m/\u001b[39;49m\u001b[43m \u001b[49m\u001b[43mb\u001b[49m\n",
      "\u001b[0;31mZeroDivisionError\u001b[0m: division by zero"
     ]
    }
   ],
   "source": [
    "a = 1\n",
    "b = 0\n",
    "z = a / b"
   ]
  },
  {
   "cell_type": "markdown",
   "metadata": {
    "ein.tags": "worksheet-0",
    "slideshow": {
     "slide_type": "-"
    }
   },
   "source": [
    "Cuando se encuentra un error, **Python** muestra el lugar en que ocurre y de qué tipo de error se trata."
   ]
  },
  {
   "cell_type": "code",
   "execution_count": 4,
   "metadata": {
    "autoscroll": false,
    "collapsed": true,
    "ein.hycell": false,
    "ein.tags": "worksheet-0",
    "slideshow": {
     "slide_type": "-"
    }
   },
   "outputs": [
    {
     "ename": "NameError",
     "evalue": "name 'hola' is not defined",
     "output_type": "error",
     "traceback": [
      "\u001b[0;31m---------------------------------------------------------------------------\u001b[0m",
      "\u001b[0;31mNameError\u001b[0m                                 Traceback (most recent call last)",
      "Input \u001b[0;32mIn [4]\u001b[0m, in \u001b[0;36m<module>\u001b[0;34m\u001b[0m\n\u001b[0;32m----> 1\u001b[0m \u001b[38;5;28mprint\u001b[39m (\u001b[43mhola\u001b[49m)\n",
      "\u001b[0;31mNameError\u001b[0m: name 'hola' is not defined"
     ]
    }
   ],
   "source": [
    "print (hola)"
   ]
  },
  {
   "cell_type": "markdown",
   "metadata": {
    "ein.tags": "worksheet-0",
    "slideshow": {
     "slide_type": "-"
    }
   },
   "source": [
    "Este mensaje da un tipo de error diferente. Ambos: `ZeroDivisionError` y `NameError` son tipos de errores (o excepciones). Hay una larga lista de tipos de errores que son parte del lenguaje y puede consultarse en la documentación de [Built-in Exceptions](https://docs.python.org/3/library/exceptions.html#bltin-exceptions)."
   ]
  },
  {
   "cell_type": "markdown",
   "metadata": {
    "ein.tags": "worksheet-0",
    "slideshow": {
     "slide_type": "-"
    }
   },
   "source": [
    "### Administración de excepciones\n",
    "\n",
    "Cuando nuestro programa aumenta en complejidad, aumenta la posibilidad de encontrar errores. Esto se incrementa si se tiene que interactuar con otros usuarios o con datos externos. Consideremos el siguiente ejemplo simple:"
   ]
  },
  {
   "cell_type": "code",
   "execution_count": 5,
   "metadata": {
    "autoscroll": false,
    "ein.hycell": false,
    "ein.tags": "worksheet-0",
    "slideshow": {
     "slide_type": "-"
    }
   },
   "outputs": [
    {
     "name": "stdout",
     "output_type": "stream",
     "text": [
      "1 2\r\n",
      "2 6\r\n",
      "3 9\r\n",
      "4 12\r\n",
      "5.5 30.25\r\n"
     ]
    }
   ],
   "source": [
    "%cat ../data/ej_clase5.dat"
   ]
  },
  {
   "cell_type": "code",
   "execution_count": 6,
   "metadata": {
    "autoscroll": false,
    "collapsed": true,
    "ein.hycell": false,
    "ein.tags": "worksheet-0",
    "slideshow": {
     "slide_type": "-"
    }
   },
   "outputs": [
    {
     "name": "stdout",
     "output_type": "stream",
     "text": [
      "t = ['1', '2']\n",
      "m = 1, n = 2, m x n = 2\n",
      "t = ['2', '6']\n",
      "m = 2, n = 6, m x n = 12\n",
      "t = ['3', '9']\n",
      "m = 3, n = 9, m x n = 27\n",
      "t = ['4', '12']\n",
      "m = 4, n = 12, m x n = 48\n",
      "t = ['5.5', '30.25']\n"
     ]
    },
    {
     "ename": "ValueError",
     "evalue": "invalid literal for int() with base 10: '5.5'",
     "output_type": "error",
     "traceback": [
      "\u001b[0;31m---------------------------------------------------------------------------\u001b[0m",
      "\u001b[0;31mValueError\u001b[0m                                Traceback (most recent call last)",
      "Input \u001b[0;32mIn [6]\u001b[0m, in \u001b[0;36m<module>\u001b[0;34m\u001b[0m\n\u001b[1;32m      3\u001b[0m t \u001b[38;5;241m=\u001b[39m l\u001b[38;5;241m.\u001b[39msplit()\n\u001b[1;32m      4\u001b[0m \u001b[38;5;28mprint\u001b[39m(\u001b[38;5;124m\"\u001b[39m\u001b[38;5;124mt = \u001b[39m\u001b[38;5;132;01m{}\u001b[39;00m\u001b[38;5;124m\"\u001b[39m\u001b[38;5;241m.\u001b[39mformat(t))        \u001b[38;5;66;03m# Línea sólo para inspección\u001b[39;00m\n\u001b[0;32m----> 5\u001b[0m m \u001b[38;5;241m=\u001b[39m \u001b[38;5;28;43mint\u001b[39;49m\u001b[43m(\u001b[49m\u001b[43mt\u001b[49m\u001b[43m[\u001b[49m\u001b[38;5;241;43m0\u001b[39;49m\u001b[43m]\u001b[49m\u001b[43m)\u001b[49m\n\u001b[1;32m      6\u001b[0m n \u001b[38;5;241m=\u001b[39m \u001b[38;5;28mint\u001b[39m(t[\u001b[38;5;241m1\u001b[39m])\n\u001b[1;32m      7\u001b[0m \u001b[38;5;28mprint\u001b[39m(\u001b[38;5;124m\"\u001b[39m\u001b[38;5;124mm = \u001b[39m\u001b[38;5;132;01m{}\u001b[39;00m\u001b[38;5;124m, n = \u001b[39m\u001b[38;5;132;01m{}\u001b[39;00m\u001b[38;5;124m, m x n = \u001b[39m\u001b[38;5;132;01m{}\u001b[39;00m\u001b[38;5;124m\"\u001b[39m\u001b[38;5;241m.\u001b[39mformat(m,n, m\u001b[38;5;241m*\u001b[39mn))\n",
      "\u001b[0;31mValueError\u001b[0m: invalid literal for int() with base 10: '5.5'"
     ]
    }
   ],
   "source": [
    "with open(\"../data/ej_clase5.dat\") as fi:\n",
    "  for l in fi:\n",
    "    t = l.split()\n",
    "    print(\"t = {}\".format(t))        # Línea sólo para inspección\n",
    "    m = int(t[0])\n",
    "    n = int(t[1])\n",
    "    print(\"m = {}, n = {}, m x n = {}\".format(m,n, m*n))"
   ]
  },
  {
   "cell_type": "markdown",
   "metadata": {
    "ein.tags": "worksheet-0",
    "slideshow": {
     "slide_type": "-"
    }
   },
   "source": [
    "En este caso se \"levanta\" una excepción del tipo `ValueError` debido a que este valor (`5.5`) no se puede convertir a `int`. Podemos modificar nuestro programa para manejar este error:"
   ]
  },
  {
   "cell_type": "code",
   "execution_count": 7,
   "metadata": {
    "autoscroll": false,
    "ein.hycell": false,
    "ein.tags": "worksheet-0",
    "slideshow": {
     "slide_type": "-"
    }
   },
   "outputs": [
    {
     "name": "stdout",
     "output_type": "stream",
     "text": [
      "m = 1, n = 2, m x n = 2\n",
      "m = 2, n = 6, m x n = 12\n",
      "m = 3, n = 9, m x n = 27\n",
      "m = 4, n = 12, m x n = 48\n",
      "Error: t = ['5.5', '30.25'] no puede convertirse a entero\n"
     ]
    }
   ],
   "source": [
    "with open(\"../data/ej_clase5.dat\") as fi:\n",
    "  for l in fi:\n",
    "    t = l.split()\n",
    "    try:\n",
    "      m = int(t[0])\n",
    "      n = int(t[1])\n",
    "      print(\"m = {}, n = {}, m x n = {}\".format(m,n, m*n))\n",
    "    except:\n",
    "      print(\"Error: t = {} no puede convertirse a entero\".format(t))\n",
    "      "
   ]
  },
  {
   "cell_type": "markdown",
   "metadata": {
    "ein.tags": "worksheet-0",
    "slideshow": {
     "slide_type": "-"
    }
   },
   "source": [
    "En este caso podríamos ser más precisos y especificar el tipo de excepción que estamos esperando"
   ]
  },
  {
   "cell_type": "code",
   "execution_count": 8,
   "metadata": {
    "autoscroll": false,
    "ein.hycell": false,
    "ein.tags": "worksheet-0",
    "slideshow": {
     "slide_type": "-"
    }
   },
   "outputs": [
    {
     "name": "stdout",
     "output_type": "stream",
     "text": [
      "m = 1, n = 2, m x n = 2\n",
      "m = 2, n = 6, m x n = 12\n",
      "m = 3, n = 9, m x n = 27\n",
      "m = 4, n = 12, m x n = 48\n",
      "Error: t = ['5.5', '30.25'] no puede convertirse a entero\n"
     ]
    }
   ],
   "source": [
    "with open(\"../data/ej_clase5.dat\") as fi:\n",
    "  for l in fi:\n",
    "    t = l.split()\n",
    "    try:\n",
    "      m = int(t[0])\n",
    "      n = int(t[1])\n",
    "      print(\"m = {}, n = {}, m x n = {}\".format(m,n, m*n))\n",
    "    except(ValueError):\n",
    "      print(\"Error: t = {} no puede convertirse a entero\".format(t))\n",
    "      "
   ]
  },
  {
   "cell_type": "code",
   "execution_count": 29,
   "metadata": {
    "autoscroll": false,
    "ein.hycell": false,
    "ein.tags": "worksheet-0",
    "slideshow": {
     "slide_type": "-"
    }
   },
   "outputs": [
    {
     "name": "stdout",
     "output_type": "stream",
     "text": [
      "m = 1, n = 2, m x n = 2\n",
      "m = 2, n = 6, m x n = 12\n",
      "m = 3, n = 9, m x n = 27\n",
      "m = 4, n = 12, m x n = 48\n",
      "Error: t = ['5.5', '30.25'] no puede convertirse a entero\n"
     ]
    }
   ],
   "source": [
    "with open(\"../data/ej_clase5.dat\") as fi:\n",
    "  for l in fi:\n",
    "    t = l.split()\n",
    "    try:\n",
    "      m = int(t[0])\n",
    "      n = int(t[1])\n",
    "      print(\"m = {}, n = {}, m x n = {}\".format(m,n, m*n))\n",
    "    except(ValueError):\n",
    "      print(\"Error: t = {} no puede convertirse a entero\".format(t))\n",
    "    except(IndexError):\n",
    "      print('Error: La línea \"{}\" no contiene un par'.format(l.strip()))\n",
    "      "
   ]
  },
  {
   "cell_type": "markdown",
   "metadata": {
    "ein.tags": "worksheet-0",
    "slideshow": {
     "slide_type": "-"
    }
   },
   "source": [
    "La forma general\n",
    "\n",
    "La declaración `try` funciona de la siguiente manera:\n",
    "\n",
    "* Primero, se ejecuta el *bloque try* (el código entre las declaración\n",
    "  `try` y `except`).\n",
    "\n",
    "* Si no ocurre ninguna excepción, el *bloque except* se saltea y termina la\n",
    "  ejecución de la declaración `try`.\n",
    "\n",
    "* Si ocurre una excepción durante la ejecución del *bloque try*, el resto del\n",
    "  bloque se saltea.  Luego, si su tipo coincide con la excepción nombrada luego\n",
    "  de la palabra reservada `except`, se ejecuta el *bloque except*,\n",
    "  y la ejecución continúa luego de la declaración `try`.\n",
    "\n",
    "* Si ocurre una excepción que no coincide con la excepción nombrada en el\n",
    "  `except`, esta se pasa a declaraciones `try` de más afuera;\n",
    "  si no se encuentra nada que la maneje, es una *excepción no manejada*, y la\n",
    "  ejecución se frena con un mensaje como los mostrados arriba.\n",
    "\n",
    "\n",
    "El mecanismo es un poco más complejo, y permite un control más fino que lo descripto aquí."
   ]
  },
  {
   "cell_type": "markdown",
   "metadata": {
    "ein.tags": "worksheet-0",
    "slideshow": {
     "slide_type": "-"
    }
   },
   "source": [
    "### \"Crear\" excepciones\n",
    "\n",
    "Podemos forzar a que nuestro código cree una excepción usando `raise`. Por ejemplo:"
   ]
  },
  {
   "cell_type": "code",
   "execution_count": 9,
   "metadata": {
    "autoscroll": false,
    "ein.hycell": false,
    "ein.tags": "worksheet-0",
    "slideshow": {
     "slide_type": "-"
    }
   },
   "outputs": [
    {
     "ename": "Exception",
     "evalue": "x = 1, no debería ser positivo",
     "output_type": "error",
     "traceback": [
      "\u001b[0;31m---------------------------------------------------------------------------\u001b[0m",
      "\u001b[0;31mException\u001b[0m                                 Traceback (most recent call last)",
      "Input \u001b[0;32mIn [9]\u001b[0m, in \u001b[0;36m<module>\u001b[0;34m\u001b[0m\n\u001b[1;32m      1\u001b[0m x \u001b[38;5;241m=\u001b[39m \u001b[38;5;241m1\u001b[39m\n\u001b[1;32m      2\u001b[0m \u001b[38;5;28;01mif\u001b[39;00m x \u001b[38;5;241m>\u001b[39m \u001b[38;5;241m0\u001b[39m:\n\u001b[0;32m----> 3\u001b[0m   \u001b[38;5;28;01mraise\u001b[39;00m \u001b[38;5;167;01mException\u001b[39;00m(\u001b[38;5;124mf\u001b[39m\u001b[38;5;124m\"\u001b[39m\u001b[38;5;124mx = \u001b[39m\u001b[38;5;132;01m{\u001b[39;00mx\u001b[38;5;132;01m}\u001b[39;00m\u001b[38;5;124m, no debería ser positivo\u001b[39m\u001b[38;5;124m\"\u001b[39m)\n",
      "\u001b[0;31mException\u001b[0m: x = 1, no debería ser positivo"
     ]
    }
   ],
   "source": [
    "x = 1\n",
    "if x > 0:\n",
    "  raise Exception(f\"x = {x}, no debería ser positivo\")"
   ]
  },
  {
   "cell_type": "markdown",
   "metadata": {
    "ein.tags": "worksheet-0",
    "slideshow": {
     "slide_type": "-"
    }
   },
   "source": [
    "O podemos ser más específicos, y dar el tipo de error adecuado"
   ]
  },
  {
   "cell_type": "code",
   "execution_count": 10,
   "metadata": {
    "autoscroll": false,
    "ein.hycell": false,
    "ein.tags": "worksheet-0",
    "slideshow": {
     "slide_type": "-"
    }
   },
   "outputs": [
    {
     "ename": "ValueError",
     "evalue": "x = 1, no debería ser positivo",
     "output_type": "error",
     "traceback": [
      "\u001b[0;31m---------------------------------------------------------------------------\u001b[0m",
      "\u001b[0;31mValueError\u001b[0m                                Traceback (most recent call last)",
      "Input \u001b[0;32mIn [10]\u001b[0m, in \u001b[0;36m<module>\u001b[0;34m\u001b[0m\n\u001b[1;32m      1\u001b[0m x \u001b[38;5;241m=\u001b[39m \u001b[38;5;241m1\u001b[39m\n\u001b[1;32m      2\u001b[0m \u001b[38;5;28;01mif\u001b[39;00m x \u001b[38;5;241m>\u001b[39m \u001b[38;5;241m0\u001b[39m:\n\u001b[0;32m----> 3\u001b[0m   \u001b[38;5;28;01mraise\u001b[39;00m \u001b[38;5;167;01mValueError\u001b[39;00m(\u001b[38;5;124mf\u001b[39m\u001b[38;5;124m\"\u001b[39m\u001b[38;5;124mx = \u001b[39m\u001b[38;5;132;01m{\u001b[39;00mx\u001b[38;5;132;01m}\u001b[39;00m\u001b[38;5;124m, no debería ser positivo\u001b[39m\u001b[38;5;124m\"\u001b[39m)\n",
      "\u001b[0;31mValueError\u001b[0m: x = 1, no debería ser positivo"
     ]
    }
   ],
   "source": [
    "x = 1\n",
    "if x > 0:\n",
    "  raise ValueError(f\"x = {x}, no debería ser positivo\")"
   ]
  }
 ],
 "metadata": {
  "kernelspec": {
   "display_name": "Python 3 (ipykernel)",
   "language": "python",
   "name": "python3"
  },
  "language_info": {
   "codemirror_mode": {
    "name": "ipython",
    "version": 3
   },
   "file_extension": ".py",
   "mimetype": "text/x-python",
   "name": "python",
   "nbconvert_exporter": "python",
   "pygments_lexer": "ipython3",
   "version": "3.10.2"
  },
  "name": "05_excepciones.ipynb",
  "toc": {
   "base_numbering": 1,
   "nav_menu": {},
   "number_sections": true,
   "sideBar": true,
   "skip_h1_title": false,
   "title_cell": "Contenidos",
   "title_sidebar": "Contenidos",
   "toc_cell": false,
   "toc_position": {},
   "toc_section_display": true,
   "toc_window_display": false
  }
 },
 "nbformat": 4,
 "nbformat_minor": 2
}
