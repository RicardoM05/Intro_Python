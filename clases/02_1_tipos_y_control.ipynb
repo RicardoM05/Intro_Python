{
 "cells": [
  {
   "cell_type": "markdown",
   "id": "ed0f6baf-8a3a-478e-9740-b415b0028100",
   "metadata": {
    "ein.tags": "worksheet-0",
    "slideshow": {
     "slide_type": "-"
    }
   },
   "source": [
    "# Tipos de datos y control <a class=\"tocSkip\">"
   ]
  },
  {
   "cell_type": "markdown",
   "id": "7e003248-76ac-4f8f-aff7-e73fe5fe0281",
   "metadata": {},
   "source": [
    "------\n",
    "\n",
    "**Nota:**  **Escenas del capítulo anterior:**\n",
    "\n",
    "En la clase anterior preparamos la infraestructura:\n",
    "\n",
    " - Instalamos los programas y paquetes necesarios.\n",
    " - Aprendimos como ejecutar: una consola usual, de ipython, o iniciar un *jupyter notebook*\n",
    " - Aprendimos a utilizar la consola como una calculadora\n",
    " - Vimos algunos comandos mágicos y como enviar comandos al sistema operativo\n",
    " - Aprendimos como obtener ayuda\n",
    " - Iniciamos los primeros pasos del lenguaje\n",
    "\n",
    "Veamos un ejemplo completo de un programa (semi-trivial):\n",
    "\n",
    "```python\n",
    "\n",
    "# Definición de los datos\n",
    "r = 9.\n",
    "pi = 3.14159\n",
    "#\n",
    "# Cálculos\n",
    "A = pi*r**2\n",
    "As = 4 * A\n",
    "V = 4*A*r/3\n",
    "#\n",
    "# Salida de los resultados\n",
    "print(\"Para un círculo de radio\",r,\" cm, el área es\",A,\"cm²\")\n",
    "print(\"Para una esfera de radio\",r,\" cm, el área es\",As,\"cm²\")\n",
    "print(\"Para una esfera de radio\",r,\" cm, el volumen es\",V,\"cm³\")\n",
    "\n",
    "```\n",
    "\n",
    "En este ejemplo simple, definimos algunas variables con los datos del problema (`r` y `pi`), realizamos cálculos y sacamos por pantalla los resultados. A diferencia de otros lenguajes, python no necesita una estructura rígida, con definición de un programa principal.\n",
    "\n",
    "Otro punto importante de este ejemplo es el uso de comentarios. El caracter \"#\" inicia un comentario de línea, y el intérprete de python ignora todos lo que viene a continuación hasta que encuentra una nueva línea.\n",
    "\n",
    "------\n",
    "\n"
   ]
  },
  {
   "cell_type": "markdown",
   "id": "d4529f60-3850-42a7-82ab-ab8f2a85dd2f",
   "metadata": {},
   "source": [
    "\n",
    "## Tipos simples: Números\n",
    "\n",
    "* Números Enteros\n",
    "* Números Reales o de punto flotante\n",
    "* Números Complejos\n",
    "\n"
   ]
  },
  {
   "cell_type": "markdown",
   "id": "1d51d3d0-3ead-4153-9025-a67905d5398e",
   "metadata": {},
   "source": [
    "Se mencionó anteriormente que todos las entidades en Python son objetos, que tienen al menos tres atributos: tipo, valor e identidad.\n",
    "Pero además, puede tener otros atributos como datos o métodos. Por ejemplo los números enteros, unos de los tipos más simples que usaremos, tienen métodos que pueden resultar útiles en algunos contextos."
   ]
  },
  {
   "cell_type": "code",
   "execution_count": 1,
   "id": "0734fa87-30ca-4978-a863-947197dc0c5e",
   "metadata": {
    "autoscroll": false,
    "ein.hycell": false,
    "ein.tags": "worksheet-0",
    "slideshow": {
     "slide_type": "-"
    }
   },
   "outputs": [
    {
     "name": "stdout",
     "output_type": "stream",
     "text": [
      "<class 'int'>\n",
      "2\n"
     ]
    }
   ],
   "source": [
    "a = 3                           # Números enteros\n",
    "print(type(a), a.bit_length(), sep=\"\\n\")"
   ]
  },
  {
   "cell_type": "code",
   "execution_count": 2,
   "id": "8efaf567-087c-458e-af88-d3eb7e78f2a9",
   "metadata": {},
   "outputs": [
    {
     "name": "stdout",
     "output_type": "stream",
     "text": [
      "<class 'int'>\n",
      "7\n"
     ]
    }
   ],
   "source": [
    "b = 127\n",
    "print(type(b))\n",
    "print(b.bit_length())"
   ]
  },
  {
   "cell_type": "markdown",
   "id": "35bf2535-aa10-4fd5-9e1c-2ad2117ce40b",
   "metadata": {
    "ein.tags": "worksheet-0",
    "slideshow": {
     "slide_type": "-"
    }
   },
   "source": [
    "En estos casos, usamos el método `bit_length` de los enteros, que nos dice cuántos bits son necesarios para representar un número. Para verlo utilicemos la función `bin()` que nos da la representación en binario de un número entero"
   ]
  },
  {
   "cell_type": "code",
   "execution_count": 3,
   "id": "fa0cfcce-eb4e-49e2-b994-fc0b58b5b5ef",
   "metadata": {},
   "outputs": [
    {
     "name": "stdout",
     "output_type": "stream",
     "text": [
      "3 = 0b11 -> 2 bits\n",
      "127 = 0b1111111 -> 7 bits\n"
     ]
    }
   ],
   "source": [
    "# bin nos da la representación en binarios\n",
    "print(a, \"=\", bin(a), \"->\", a.bit_length(),\"bits\")\n",
    "print(b, \"=\", bin(b), \"->\", b.bit_length(),\"bits\")"
   ]
  },
  {
   "cell_type": "markdown",
   "id": "61a04e8b-9067-4d80-9a39-c989d9c20cc1",
   "metadata": {},
   "source": [
    "Vemos que el número `3` se puede representar con dos bits, y para el número `127` se necesitan 7 bits. "
   ]
  },
  {
   "cell_type": "markdown",
   "id": "624ccf0e-c512-4087-9ff5-599d92b3602c",
   "metadata": {
    "ein.tags": "worksheet-0",
    "slideshow": {
     "slide_type": "-"
    }
   },
   "source": [
    "Los números de punto flotante también tienen algunos métodos definidos. Por ejemplo podemos saber si un número flotante corresponde a un entero:"
   ]
  },
  {
   "cell_type": "code",
   "execution_count": 4,
   "id": "bf4a8d7a-520b-4325-bc97-986e37a54597",
   "metadata": {
    "autoscroll": false,
    "ein.hycell": false,
    "ein.tags": "worksheet-0",
    "slideshow": {
     "slide_type": "-"
    }
   },
   "outputs": [
    {
     "data": {
      "text/plain": [
       "True"
      ]
     },
     "execution_count": 4,
     "metadata": {},
     "output_type": "execute_result"
    }
   ],
   "source": [
    "b = -3.0\n",
    "b.is_integer()"
   ]
  },
  {
   "cell_type": "code",
   "execution_count": 5,
   "id": "110964af-25e9-4355-afcf-e678915650bc",
   "metadata": {
    "autoscroll": false,
    "ein.hycell": false,
    "ein.tags": "worksheet-0",
    "slideshow": {
     "slide_type": "-"
    }
   },
   "outputs": [
    {
     "data": {
      "text/plain": [
       "False"
      ]
     },
     "execution_count": 5,
     "metadata": {},
     "output_type": "execute_result"
    }
   ],
   "source": [
    "c = 142.25\n",
    "c.is_integer()"
   ]
  },
  {
   "cell_type": "markdown",
   "id": "297b6d40-d812-4208-83bc-497130c475d0",
   "metadata": {
    "ein.tags": "worksheet-0",
    "slideshow": {
     "slide_type": "-"
    }
   },
   "source": [
    "o podemos expresarlo como el cociente de dos enteros, o en forma hexadecimal"
   ]
  },
  {
   "cell_type": "code",
   "execution_count": 6,
   "id": "a2d7cfb2-1749-4e46-a676-85b193fa2daa",
   "metadata": {
    "autoscroll": false,
    "ein.hycell": false,
    "ein.tags": "worksheet-0",
    "slideshow": {
     "slide_type": "-"
    }
   },
   "outputs": [
    {
     "data": {
      "text/plain": [
       "(569, 4)"
      ]
     },
     "execution_count": 6,
     "metadata": {},
     "output_type": "execute_result"
    }
   ],
   "source": [
    "c.as_integer_ratio()"
   ]
  },
  {
   "cell_type": "code",
   "execution_count": 7,
   "id": "4a5c6679-a60a-4faf-9953-9167a23e21e6",
   "metadata": {
    "autoscroll": false,
    "ein.hycell": false,
    "ein.tags": "worksheet-0",
    "slideshow": {
     "slide_type": "-"
    }
   },
   "outputs": [
    {
     "name": "stdout",
     "output_type": "stream",
     "text": [
      "0x1.1c80000000000p+7\n"
     ]
    }
   ],
   "source": [
    "s = c.hex()\n",
    "print(s)"
   ]
  },
  {
   "cell_type": "markdown",
   "id": "81b49a57-7d49-43ea-9dd1-1e33a01b8fbb",
   "metadata": {
    "ein.tags": "worksheet-0",
    "slideshow": {
     "slide_type": "-"
    }
   },
   "source": [
    "Acá la notación, compartida con otros lenguajes (C, Java), significa:\n",
    "\n",
    "  `[sign] ['0x'] integer ['.' fraction] ['p' exponent]`\n",
    "\n",
    "Entonces '0x1.1c8p+7' corresponde a:"
   ]
  },
  {
   "cell_type": "code",
   "execution_count": 8,
   "id": "e0904c24-9f86-4602-be15-e9ba4788cb11",
   "metadata": {
    "autoscroll": false,
    "ein.hycell": false,
    "ein.tags": "worksheet-0",
    "slideshow": {
     "slide_type": "-"
    }
   },
   "outputs": [
    {
     "data": {
      "text/plain": [
       "142.25"
      ]
     },
     "execution_count": 8,
     "metadata": {},
     "output_type": "execute_result"
    }
   ],
   "source": [
    "(1 + 1./16 + 12./16**2 + 8./16**3)*2.0**7"
   ]
  },
  {
   "cell_type": "markdown",
   "id": "b52a3c2d-0116-4a1a-a08e-453ac8e70b4e",
   "metadata": {
    "ein.tags": "worksheet-0",
    "slideshow": {
     "slide_type": "-"
    }
   },
   "source": [
    "Recordemos, como último ejemplo, los números complejos:\n"
   ]
  },
  {
   "cell_type": "code",
   "execution_count": 9,
   "id": "f8e14c56-7cba-4df0-8537-eaa66e523360",
   "metadata": {
    "autoscroll": false,
    "ein.hycell": false,
    "ein.tags": "worksheet-0",
    "slideshow": {
     "slide_type": "-"
    }
   },
   "outputs": [],
   "source": [
    "z = 1 + 2j\n",
    "zc = z.conjugate()              # Método que devuelve el conjugado\n",
    "zr = z.real                     # Componente, parte real\n",
    "zi = z.imag                     # Componente, parte imaginaria"
   ]
  },
  {
   "cell_type": "code",
   "execution_count": 10,
   "id": "1765535d-02ac-421f-a446-d53d28c1c0f3",
   "metadata": {
    "autoscroll": false,
    "ein.hycell": false,
    "ein.tags": "worksheet-0",
    "slideshow": {
     "slide_type": "-"
    }
   },
   "outputs": [
    {
     "name": "stdout",
     "output_type": "stream",
     "text": [
      "(1+2j) (1-2j) 1.0 2.0 -2.0\n"
     ]
    }
   ],
   "source": [
    "print(z, zc, zr, zi, zc.imag)"
   ]
  },
  {
   "cell_type": "markdown",
   "id": "120ec21f-27f9-48ee-a2ab-b829f259c2ea",
   "metadata": {},
   "source": [
    "## Tipos compuestos\n",
    "\n",
    "En Python, además de los tipos simples (números y booleanos, entre ellos) existen tipos compuestos, que pueden contener más de un valor de algún tipo. Entre los tipos compuestos más importantes vamos a referirnos a:\n",
    "\n",
    "- **[Strings](https://docs.python.org/es/3/library/stdtypes.html#text-sequence-type-str)**  \n",
    "    Se pueden definir con comillas dobles ( \" ), comillas simples ( ' ), o tres comillas (simples o dobles). \n",
    "    Comillas (dobles) y comillas simples producen el mismo resultado. Sólo debe asegurarse que se utiliza el mismo tipo para abrir y para cerrar el *string*  \n",
    "    Ejemplo: `s = \"abc\"` (el elemento `s[0]` tiene el valor `\"a\"`).\n",
    "\n",
    "- **[Listas](https://docs.python.org/es/3/library/stdtypes.html#sequence-types-list-tuple-range)**  \n",
    "    Las listas son tipos que pueden contener más de un elemento de cualquier tipo. Los tipos de los elementos pueden ser diferentes. Las listas se definen separando los diferentes valores con comas, encerrados entre corchetes. Se puede referir a un elemento por su índice.  \n",
    "    Ejemplo: `L = [\"a\",1, 0.5 + 1j]` (el elemento `L[0]` es igual al *string* `\"a\"`).\n",
    "    \n",
    "- **[Tuplas](https://docs.python.org/es/3/library/stdtypes.html#sequence-types-list-tuple-range)**  \n",
    "    Las tuplas se definen de la misma manera que las listas pero con paréntesis en lugar de corchetes.\n",
    "    Ejemplo: `T = (\"a\",1, 0.5 + 1j).`\n",
    "\n",
    "- **[Diccionarios](https://docs.python.org/es/3/library/stdtypes.html#mapping-types-dict)**  \n",
    "    Los diccionarios son contenedores a cuyos elementos se los identifica con un nombre (*key*) en lugar de un índice. Se los puede definir dando los pares `key:value` entre llaves   \n",
    "    Ejemplo: `D = {'a': 1, 'b': 2, 1: 'hola', 2: 3.14}` (el elemento `D['a']` es igual al número 1).\n"
   ]
  },
  {
   "cell_type": "markdown",
   "id": "81fcdc38-3cc8-4b93-9e7b-47e4b8f19bdf",
   "metadata": {
    "ein.tags": "worksheet-0",
    "slideshow": {
     "slide_type": "-"
    }
   },
   "source": [
    "## Strings: Secuencias de caracteres\n",
    "\n",
    "Una cadena o *string* es una **secuencia** de caracteres (letras, \"números\", símbolos). \n",
    "\n",
    "Se pueden definir con comillas, comillas simples, o tres comillas (simples o dobles). \n",
    "Comillas simples o dobles producen el mismo resultado. Sólo debe asegurarse que se  utilizan el mismo tipo para abrir y para cerrar el *string*\n",
    "\n",
    "Triple comillas (simples o dobles) sirven para incluir una cadena de caracteres en forma textual, incluyendo saltos de líneas."
   ]
  },
  {
   "cell_type": "code",
   "execution_count": 11,
   "id": "6a64b5a4-b94c-43cf-9605-c41eebef7bc2",
   "metadata": {
    "autoscroll": false,
    "ein.hycell": false,
    "ein.tags": "worksheet-0",
    "slideshow": {
     "slide_type": "-"
    }
   },
   "outputs": [],
   "source": [
    "saludo = 'Hola Mundo'           # Definición usando comillas simples\n",
    "saludo2 = \"Hola Mundo\"          # Definición usando comillas dobles"
   ]
  },
  {
   "cell_type": "code",
   "execution_count": 12,
   "id": "03dd71d4-b8c2-4346-bde6-f2bdc3cde6ad",
   "metadata": {},
   "outputs": [
    {
     "data": {
      "text/plain": [
       "('Hola Mundo', 'Hola Mundo')"
      ]
     },
     "execution_count": 12,
     "metadata": {},
     "output_type": "execute_result"
    }
   ],
   "source": [
    "saludo, saludo2"
   ]
  },
  {
   "cell_type": "markdown",
   "id": "040fe89e-ccc2-4482-ac39-edc7905d1bc3",
   "metadata": {
    "ein.tags": "worksheet-0",
    "slideshow": {
     "slide_type": "-"
    }
   },
   "source": [
    "Los *strings* se pueden definir **equivalentemente** usando comillas simples o dobles. De esta manera es fácil incluir comillas dentro de los *strings*"
   ]
  },
  {
   "cell_type": "code",
   "execution_count": 13,
   "id": "edbe5348-3bc4-4d27-a237-d0fdeb577d01",
   "metadata": {
    "autoscroll": false,
    "ein.hycell": false,
    "ein.tags": "worksheet-0",
    "slideshow": {
     "slide_type": "-"
    }
   },
   "outputs": [],
   "source": [
    "otro= \"that's all\"              \n",
    "dijo = '\"Cómo te va\" dijo el murguista a la muchacha'"
   ]
  },
  {
   "cell_type": "code",
   "execution_count": 16,
   "id": "f26da30b-495a-428f-8525-0b44448e9bd9",
   "metadata": {
    "autoscroll": false,
    "ein.hycell": false,
    "ein.tags": "worksheet-0",
    "slideshow": {
     "slide_type": "-"
    }
   },
   "outputs": [
    {
     "name": "stdout",
     "output_type": "stream",
     "text": [
      "that's all\n"
     ]
    }
   ],
   "source": [
    "print(otro)"
   ]
  },
  {
   "cell_type": "code",
   "execution_count": 17,
   "id": "9a24dbfe-5951-470e-8d2c-adf85b440878",
   "metadata": {
    "autoscroll": false,
    "ein.hycell": false,
    "ein.tags": "worksheet-0",
    "slideshow": {
     "slide_type": "-"
    }
   },
   "outputs": [
    {
     "name": "stdout",
     "output_type": "stream",
     "text": [
      "\"Cómo te va\" dijo el murguista a la muchacha\n"
     ]
    }
   ],
   "source": [
    "print(dijo)"
   ]
  },
  {
   "cell_type": "code",
   "execution_count": 18,
   "id": "4ea48b00-1be1-44b9-8e10-1a8dce613765",
   "metadata": {
    "autoscroll": false,
    "ein.hycell": false,
    "ein.tags": "worksheet-0",
    "slideshow": {
     "slide_type": "-"
    }
   },
   "outputs": [],
   "source": [
    "respondio = \"Le dijo \\\"Bien\\\" y lo dejó como si nada\""
   ]
  },
  {
   "cell_type": "code",
   "execution_count": 20,
   "id": "cc3cbaee-4d46-4fef-bf89-e56282f58331",
   "metadata": {
    "autoscroll": false,
    "ein.hycell": false,
    "ein.tags": "worksheet-0",
    "slideshow": {
     "slide_type": "-"
    }
   },
   "outputs": [
    {
     "name": "stdout",
     "output_type": "stream",
     "text": [
      "Le dijo \"Bien\" y lo dejó como si nada\n"
     ]
    }
   ],
   "source": [
    "print(respondio)"
   ]
  },
  {
   "cell_type": "code",
   "execution_count": 21,
   "id": "e4d72263-a10c-44c9-af5e-5b53f49dec46",
   "metadata": {
    "autoscroll": false,
    "ein.hycell": false,
    "ein.tags": "worksheet-0",
    "slideshow": {
     "slide_type": "-"
    }
   },
   "outputs": [],
   "source": [
    "consimbolos = 'þß€→\"\\'oó@¬'"
   ]
  },
  {
   "cell_type": "code",
   "execution_count": 22,
   "id": "7b996535-3160-4f46-8e67-ceb436c87d0e",
   "metadata": {
    "autoscroll": false,
    "ein.hycell": false,
    "ein.tags": "worksheet-0",
    "slideshow": {
     "slide_type": "-"
    }
   },
   "outputs": [
    {
     "data": {
      "text/plain": [
       "'þß€→\"\\'oó@¬'"
      ]
     },
     "execution_count": 22,
     "metadata": {},
     "output_type": "execute_result"
    }
   ],
   "source": [
    "consimbolos"
   ]
  },
  {
   "cell_type": "markdown",
   "id": "adb7fe1a-1447-470a-a54e-d64655115be0",
   "metadata": {
    "ein.tags": "worksheet-0",
    "slideshow": {
     "slide_type": "-"
    }
   },
   "source": [
    "Para definir *strings* que contengan más de una línea, manteniendo el formato, se pueden utilizar tres comillas (dobles o simples):"
   ]
  },
  {
   "cell_type": "code",
   "execution_count": 23,
   "id": "b0983e63-5571-40a9-969d-4b5a1f7e5bdc",
   "metadata": {
    "autoscroll": false,
    "ein.hycell": false,
    "ein.tags": "worksheet-0",
    "slideshow": {
     "slide_type": "-"
    }
   },
   "outputs": [],
   "source": [
    "Texto_largo = '''Aquí me pongo a cantar\n",
    "  Al compás de la vigüela,\n",
    "Que el hombre que lo desvela\n",
    "  Una pena estraordinaria\n",
    "Como la ave solitaria\n",
    "  Con el cantar se consuela.'''"
   ]
  },
  {
   "cell_type": "markdown",
   "id": "7d644015-f3c2-45c3-8052-d10f1ab3c683",
   "metadata": {
    "ein.tags": "worksheet-0",
    "slideshow": {
     "slide_type": "-"
    }
   },
   "source": [
    "Podemos imprimir los strings"
   ]
  },
  {
   "cell_type": "code",
   "execution_count": 24,
   "id": "5ff4ae7b-5d78-4a63-999a-b6e13308404d",
   "metadata": {
    "autoscroll": false,
    "ein.hycell": false,
    "ein.tags": "worksheet-0",
    "slideshow": {
     "slide_type": "-"
    }
   },
   "outputs": [
    {
     "name": "stdout",
     "output_type": "stream",
     "text": [
      "Hola Mundo \n",
      "\n",
      "Aquí me pongo a cantar\n",
      "  Al compás de la vigüela,\n",
      "Que el hombre que lo desvela\n",
      "  Una pena estraordinaria\n",
      "Como la ave solitaria\n",
      "  Con el cantar se consuela. \n",
      "\n",
      "that's all\n"
     ]
    }
   ],
   "source": [
    "print (saludo,'\\n')\n",
    "print (Texto_largo,'\\n')\n",
    "print(otro)"
   ]
  },
  {
   "cell_type": "code",
   "execution_count": 25,
   "id": "e7a8fc2b",
   "metadata": {},
   "outputs": [
    {
     "data": {
      "text/plain": [
       "'Aquí me pongo a cantar\\n  Al compás de la vigüela,\\nQue el hombre que lo desvela\\n  Una pena estraordinaria\\nComo la ave solitaria\\n  Con el cantar se consuela.'"
      ]
     },
     "execution_count": 25,
     "metadata": {},
     "output_type": "execute_result"
    }
   ],
   "source": [
    "Texto_largo"
   ]
  },
  {
   "cell_type": "markdown",
   "id": "125b1280-e491-439f-b648-974afb0f265b",
   "metadata": {},
   "source": [
    "En `Python` se puede utilizar cualquier caracter que pueda ingresarse por teclado, ya que por default Python-3 trabaja usando la codificación UTF-8, que incluye todos los símbolos que se nos ocurran. Por ejemplo:"
   ]
  },
  {
   "cell_type": "code",
   "execution_count": 26,
   "id": "02dd825e-01d8-455c-9b9a-654e8c17684d",
   "metadata": {},
   "outputs": [
    {
     "name": "stdout",
     "output_type": "stream",
     "text": [
      "tipo de label:  <class 'str'>\n",
      "Resultados corresponden a: σ = λ T/ µ + π · δξ  (en m/s²)\n"
     ]
    }
   ],
   "source": [
    "# Un ejemplo que puede interesarnos un poco más:\n",
    "label = \"σ = λ T/ µ + π · δξ\"\n",
    "print('tipo de label: ', type(label))\n",
    "print ('Resultados corresponden a:', label, ' (en m/s²)')"
   ]
  },
  {
   "cell_type": "markdown",
   "id": "8856346e-df88-4b11-a9a8-a89df5527f77",
   "metadata": {
    "ein.tags": "worksheet-0",
    "slideshow": {
     "slide_type": "-"
    }
   },
   "source": [
    "### Operaciones\n",
    "\n",
    "En **Python** ya hay definidas algunas operaciones que involucran *strings* como la suma (composición o concatenación) y el producto por enteros (repetición)."
   ]
  },
  {
   "cell_type": "code",
   "execution_count": 27,
   "id": "a02bf425-9af1-4023-8d70-86597acaccef",
   "metadata": {
    "autoscroll": false,
    "ein.hycell": false,
    "ein.tags": "worksheet-0",
    "slideshow": {
     "slide_type": "-"
    }
   },
   "outputs": [
    {
     "name": "stdout",
     "output_type": "stream",
     "text": [
      "Hola Mundo -> that's all\n",
      "chau\n"
     ]
    }
   ],
   "source": [
    "s = saludo + ' -> ' + otro + '\\n' \n",
    "s = s + \"chau\"\n",
    "print (s) #  Suma de strings"
   ]
  },
  {
   "cell_type": "markdown",
   "id": "62497b1c-5e8d-4906-8ea4-eac7f9bc942c",
   "metadata": {},
   "source": [
    "Como vemos la suma de *strings* es simplemente la concatenación de los argumentos. La multiplicación de un entero `n` por un *string* es simplemente la suma del string `n` veces:"
   ]
  },
  {
   "cell_type": "code",
   "execution_count": 28,
   "id": "0a3789a6-6033-40ed-9e83-d596612c9c8d",
   "metadata": {
    "autoscroll": false,
    "ein.hycell": false,
    "ein.tags": "worksheet-0",
    "slideshow": {
     "slide_type": "-"
    }
   },
   "outputs": [],
   "source": [
    "a = '1'\n",
    "b = 1"
   ]
  },
  {
   "cell_type": "code",
   "execution_count": 29,
   "id": "e3c93480-6196-4711-a33a-94b6592ce53e",
   "metadata": {
    "autoscroll": false,
    "ein.hycell": false,
    "ein.tags": "worksheet-0",
    "slideshow": {
     "slide_type": "-"
    }
   },
   "outputs": [
    {
     "name": "stdout",
     "output_type": "stream",
     "text": [
      "1 <class 'str'>\n",
      "1 <class 'int'>\n"
     ]
    }
   ],
   "source": [
    "print(a, type(a))\n",
    "print(b, type(b))"
   ]
  },
  {
   "cell_type": "code",
   "execution_count": 30,
   "id": "8943c8a9-8c20-4782-a1ae-a017e0cb96e5",
   "metadata": {
    "autoscroll": false,
    "ein.hycell": false,
    "ein.tags": "worksheet-0",
    "slideshow": {
     "slide_type": "-"
    }
   },
   "outputs": [
    {
     "name": "stdout",
     "output_type": "stream",
     "text": [
      "Multiplicación por enteros de strings: 1111111\n",
      "Multiplicación por enteros de enteros: 7\n"
     ]
    }
   ],
   "source": [
    "print (\"Multiplicación por enteros de strings:\", 7*a)\n",
    "print (\"Multiplicación por enteros de enteros:\", 7*b)"
   ]
  },
  {
   "cell_type": "markdown",
   "id": "909ad98a-5eb9-4662-9b63-bc82069c2035",
   "metadata": {
    "ein.tags": "worksheet-0",
    "slideshow": {
     "slide_type": "-"
    }
   },
   "source": [
    "La longitud de una cadena de caracteres (como de otros objetos) se puede calcular con la función `len()`"
   ]
  },
  {
   "cell_type": "code",
   "execution_count": 31,
   "id": "68311c23-bd3b-4605-943b-84b91199d4d5",
   "metadata": {
    "autoscroll": false,
    "ein.hycell": false,
    "ein.tags": "worksheet-0",
    "slideshow": {
     "slide_type": "-"
    }
   },
   "outputs": [
    {
     "name": "stdout",
     "output_type": "stream",
     "text": [
      "longitud del saludo = 10 caracteres\n"
     ]
    }
   ],
   "source": [
    "print ('longitud del saludo =', len(saludo), 'caracteres')"
   ]
  },
  {
   "cell_type": "markdown",
   "id": "f411ba1b-da65-4f59-8385-0ac040bfcc32",
   "metadata": {},
   "source": [
    "Por ejemplo, podemos usar estas operaciones para realizar el centrado manual de una frase:"
   ]
  },
  {
   "cell_type": "code",
   "execution_count": 32,
   "id": "7c24a434-0dc0-48d8-8065-7fb3dfc50c34",
   "metadata": {
    "autoscroll": false,
    "ein.hycell": false,
    "ein.tags": "worksheet-0",
    "slideshow": {
     "slide_type": "-"
    }
   },
   "outputs": [
    {
     "name": "stdout",
     "output_type": "stream",
     "text": [
      "<<<<<<<<<<<<<<<<<<< Centrado manual simple >>>>>>>>>>>>>>>>>>>\n",
      "************************* Hola Mundo *************************\n"
     ]
    }
   ],
   "source": [
    "titulo = \"Centrado manual simple\"\n",
    "n = int((60-len(titulo))//2)    # Para un ancho de 60 caracteres\n",
    "print ((n)*'<', titulo ,(n)*'>')\n",
    "# \n",
    "saludo = 'Hola Mundo'           \n",
    "n = int((60-len(saludo))//2)    # Para un ancho de 60 caracteres\n",
    "print (n*'*', saludo, n*'*')"
   ]
  },
  {
   "cell_type": "markdown",
   "id": "db20572e-65ec-4eb1-973c-763566baddeb",
   "metadata": {
    "ein.tags": "worksheet-0",
    "slideshow": {
     "slide_type": "-"
    }
   },
   "source": [
    "### Iteración y Métodos de Strings\n",
    "\n",
    "Los *strings* poseen varias cualidades y funcionalidades.\n",
    "Por ejemplo:\n",
    "\n",
    "- Se puede iterar sobre ellos, y también quedarse con sólo una parte (slicing)\n",
    "- Tienen métodos (funciones que se aplican a su *dueño*)\n",
    "  \n",
    "Veamos en primer lugar cómo se hace para seleccionar parte de un *string*"
   ]
  },
  {
   "cell_type": "markdown",
   "id": "14d0f9ae-c0c7-45b1-902d-281cb112c559",
   "metadata": {},
   "source": [
    "#### Indexado de *strings*\n",
    "\n",
    "Podemos referirnos a un caracter o una parte de una cadena de caracteres mediante su índice. Los índices en **Python** empiezan en 0."
   ]
  },
  {
   "cell_type": "code",
   "execution_count": 33,
   "id": "f41ebb9d-2c33-4490-a778-8e323c514366",
   "metadata": {},
   "outputs": [
    {
     "name": "stdout",
     "output_type": "stream",
     "text": [
      "Primer caracter  : 0\n",
      "Segundo caracter : 1\n"
     ]
    }
   ],
   "source": [
    "s = \"0123456789\"\n",
    "print ('Primer caracter  :', s[0])\n",
    "print (\"Segundo caracter :\", s[1])"
   ]
  },
  {
   "cell_type": "markdown",
   "id": "85e85bc7-084a-461d-9eb3-b59c5dd3e8ea",
   "metadata": {},
   "source": [
    "Si queremos empezar desde el final utilizamos índices negativos. El índice \"-1\" corresponde al último caracter.n"
   ]
  },
  {
   "cell_type": "code",
   "execution_count": 34,
   "id": "37f1ed08-a1ab-4b85-8c20-30111180c920",
   "metadata": {
    "autoscroll": false,
    "ein.hycell": false,
    "ein.tags": "worksheet-0",
    "slideshow": {
     "slide_type": "-"
    }
   },
   "outputs": [
    {
     "name": "stdout",
     "output_type": "stream",
     "text": [
      "El último caracter : 9\n",
      "El anteúltimo caracter : 8\n"
     ]
    }
   ],
   "source": [
    "print (\"El último caracter :\", s[-1])\n",
    "print (\"El anteúltimo caracter :\", s[-2])"
   ]
  },
  {
   "cell_type": "markdown",
   "id": "5979abf6-45b7-42d6-883f-b7cfbdfcb6d3",
   "metadata": {},
   "source": [
    "También podemos elegir un subconjunto de caracteres:"
   ]
  },
  {
   "cell_type": "code",
   "execution_count": 36,
   "id": "f8f31aa7-ce4e-4f9b-a80e-c2130c685782",
   "metadata": {},
   "outputs": [
    {
     "name": "stdout",
     "output_type": "stream",
     "text": [
      "Los tres primeros:           012\n",
      "Todos a partir del tercero:  3456789\n",
      "Los últimos dos:             89\n",
      "Todos menos los últimos dos: 01234567\n"
     ]
    }
   ],
   "source": [
    "print ('Los tres primeros:          ', s[0:3])\n",
    "print ('Todos a partir del tercero: ', s[3:])\n",
    "print ('Los últimos dos:            ', s[-2:])\n",
    "print ('Todos menos los últimos dos:', s[:-2])"
   ]
  },
  {
   "cell_type": "markdown",
   "id": "2c6e694e-7cca-4268-8924-e865448736ca",
   "metadata": {},
   "source": [
    "Estas \"subcadenas\" son cadenas de caracteres, y por lo tanto pueden utilizarse de la misma manera que cualquier otra cadena:"
   ]
  },
  {
   "cell_type": "code",
   "execution_count": 37,
   "id": "7b973fce-6e11-4625-b581-4b4d6046f266",
   "metadata": {},
   "outputs": [
    {
     "name": "stdout",
     "output_type": "stream",
     "text": [
      "01289\n"
     ]
    }
   ],
   "source": [
    "print (s[:3] + s[-2:])"
   ]
  },
  {
   "cell_type": "markdown",
   "id": "17929e25-46dc-4536-b2bd-b0ccb3bd0eb7",
   "metadata": {},
   "source": [
    "La selección de elementos y subcadenas de una cadena `s` tiene la forma general\n",
    "```python\n",
    "s[i: f: p]\n",
    "```\n",
    "donde\n",
    "`i, f, p` son enteros. La notación se refiere a la subcadena empezando en el índice `i`, hasta el índice `f` recorriendo con paso `p`. Casos particulares de esta notación son:\n",
    "\n",
    "* Un índice simple. Por ejemplo `s[3]` se refiere al tercer elemento.\n",
    "* Un índice negativo se cuenta desde el final, empezando desde `-1`.\n",
    "* Si el paso `p` no está presente el valor por defecto es 1. Ejemplo: `s[2:4] = s[2:4:1]`.\n",
    "* Si se omite el primer índice, el valor asumido es 0. Ejemplo: `s[:2:1] = s[0:2:1]`.\n",
    "* Si se omite el segundo índice, el valor asumido es -1. Ejemplo: `s[1::1] = s[1:-1:1]`.\n",
    "* Notar que puede omitirse más de un índice. Ejemplo: `s[::2] = s[0:-1:2]`."
   ]
  },
  {
   "cell_type": "code",
   "execution_count": 38,
   "id": "67dbab31-0209-4c4e-8f7f-b4273d05fb5d",
   "metadata": {
    "autoscroll": false,
    "ein.hycell": false,
    "ein.tags": "worksheet-0",
    "slideshow": {
     "slide_type": "-"
    }
   },
   "outputs": [
    {
     "name": "stdout",
     "output_type": "stream",
     "text": [
      "0123456789\n",
      "024\n",
      "02468\n",
      "9876543210\n",
      "9630\n"
     ]
    }
   ],
   "source": [
    "print(s)\n",
    "print(s[0:5:2])\n",
    "print (s[::2])\n",
    "print (s[::-1])\n",
    "print (s[::-3])"
   ]
  },
  {
   "cell_type": "markdown",
   "id": "fc784ef3-2a35-42fc-bba4-db09ef8aa7ed",
   "metadata": {
    "autoscroll": false,
    "ein.hycell": false,
    "ein.tags": "worksheet-0",
    "slideshow": {
     "slide_type": "-"
    }
   },
   "source": [
    "Veamos algunas utilidades que se pueden aplicar sobre un string:"
   ]
  },
  {
   "cell_type": "code",
   "execution_count": 39,
   "id": "edb72e55-4143-48cd-bfa1-6b4b4f862bcf",
   "metadata": {
    "autoscroll": false,
    "ein.hycell": false,
    "ein.tags": "worksheet-0",
    "slideshow": {
     "slide_type": "-"
    }
   },
   "outputs": [
    {
     "name": "stdout",
     "output_type": "stream",
     "text": [
      "La mar estaba serena!\n"
     ]
    }
   ],
   "source": [
    "a = \"La mar estaba serena!\"\n",
    "print(a)"
   ]
  },
  {
   "cell_type": "markdown",
   "id": "44774b68-6931-4d85-9ab1-2688c58bac28",
   "metadata": {
    "ein.tags": "worksheet-0",
    "slideshow": {
     "slide_type": "-"
    }
   },
   "source": [
    "Por ejemplo, en python es muy fácil reemplazar una cadena por otra usando el método de *strings* `replace()`"
   ]
  },
  {
   "cell_type": "code",
   "execution_count": 40,
   "id": "7018da1c-5866-49d7-892d-62144c725bad",
   "metadata": {
    "autoscroll": false,
    "ein.hycell": false,
    "ein.tags": "worksheet-0",
    "slideshow": {
     "slide_type": "-"
    }
   },
   "outputs": [
    {
     "name": "stdout",
     "output_type": "stream",
     "text": [
      "La mar astaba sarana!\n"
     ]
    }
   ],
   "source": [
    "b = a.replace('e','a')\n",
    "print(b)"
   ]
  },
  {
   "cell_type": "markdown",
   "id": "824682e7-b34d-409d-9afe-1297e9631010",
   "metadata": {
    "ein.tags": "worksheet-0",
    "slideshow": {
     "slide_type": "-"
    }
   },
   "source": [
    "o separar las palabras:"
   ]
  },
  {
   "cell_type": "code",
   "execution_count": 41,
   "id": "a2057d34-42d0-4171-8ba6-efbbcd76b83a",
   "metadata": {
    "autoscroll": false,
    "ein.hycell": false,
    "ein.tags": "worksheet-0",
    "slideshow": {
     "slide_type": "-"
    }
   },
   "outputs": [
    {
     "name": "stdout",
     "output_type": "stream",
     "text": [
      "['La', 'mar', 'estaba', 'serena!']\n"
     ]
    }
   ],
   "source": [
    "print(a.split())"
   ]
  },
  {
   "cell_type": "markdown",
   "id": "5b86c0f4-a31c-455a-9104-ce05997144fc",
   "metadata": {
    "ein.tags": "worksheet-0",
    "slideshow": {
     "slide_type": "-"
    }
   },
   "source": [
    "En este caso, tanto `replace()` como `split()` son métodos que ya están definidos para los *strings*.\n",
    "\n",
    "Recordemos que un método es una función que está definida junto con el tipo de objeto. En este caso el string. Hay más información sobre todos los métodos de las cadenas de caracteres en: [String Methods](https://docs.python.org/3/library/stdtypes.html#string-methods \"String Methods en la documentación oficial de Python\")\n",
    "\n",
    "Veamos algunos ejemplos más:"
   ]
  },
  {
   "cell_type": "code",
   "execution_count": 42,
   "id": "d36452c5-22e4-487a-a6e6-c603778e98c1",
   "metadata": {
    "autoscroll": false,
    "ein.hycell": false,
    "ein.tags": "worksheet-0",
    "slideshow": {
     "slide_type": "-"
    }
   },
   "outputs": [
    {
     "name": "stdout",
     "output_type": "stream",
     "text": [
      "\n",
      "Primer programa en cualquier lenguaje:\n",
      "\t\tHola Mundo! \n",
      "\n",
      "\n",
      "--------------------------------------------------------------------------------\n",
      "Otro texto:\n",
      "\tSomos los colectiveros que cumplimos nuestro deber!\n",
      "Longitud del texto:  51 caracteres\n"
     ]
    }
   ],
   "source": [
    "a = 'Hola Mundo!'\n",
    "b = \"Somos los colectiveros que cumplimos nuestro deber!\"\n",
    "c = Texto_largo\n",
    "print ('\\nPrimer programa en cualquier lenguaje:\\n\\t\\t' + a,2*'\\n')\n",
    "print (80*'-')\n",
    "print ('Otro texto:', b, sep='\\n\\t')\n",
    "print ('Longitud del texto: ',len(b), 'caracteres')"
   ]
  },
  {
   "cell_type": "markdown",
   "id": "b3c8fc34-466d-4d83-833f-00486c54d7d8",
   "metadata": {
    "ein.tags": "worksheet-0",
    "slideshow": {
     "slide_type": "-"
    }
   },
   "source": [
    "Buscar y reemplazar cosas en un string:"
   ]
  },
  {
   "cell_type": "code",
   "execution_count": 44,
   "id": "8f37f16c",
   "metadata": {},
   "outputs": [
    {
     "data": {
      "text/plain": [
       "'Somos los colectiveros que cumplimos nuestro deber!'"
      ]
     },
     "execution_count": 44,
     "metadata": {},
     "output_type": "execute_result"
    }
   ],
   "source": [
    "b"
   ]
  },
  {
   "cell_type": "code",
   "execution_count": 43,
   "id": "1a26d716-68b7-40cc-b030-00eb5349e371",
   "metadata": {
    "autoscroll": false,
    "ein.hycell": false,
    "ein.tags": "worksheet-0",
    "slideshow": {
     "slide_type": "-"
    }
   },
   "outputs": [
    {
     "data": {
      "text/plain": [
       "6"
      ]
     },
     "execution_count": 43,
     "metadata": {},
     "output_type": "execute_result"
    }
   ],
   "source": [
    "b.find('l')"
   ]
  },
  {
   "cell_type": "code",
   "execution_count": 45,
   "id": "d933aca5-d81c-402a-ae38-f5c48cb77753",
   "metadata": {
    "autoscroll": false,
    "ein.hycell": false,
    "ein.tags": "worksheet-0",
    "slideshow": {
     "slide_type": "-"
    }
   },
   "outputs": [
    {
     "data": {
      "text/plain": [
       "12"
      ]
     },
     "execution_count": 45,
     "metadata": {},
     "output_type": "execute_result"
    }
   ],
   "source": [
    "b.find('l',7)"
   ]
  },
  {
   "cell_type": "code",
   "execution_count": 46,
   "id": "23a8245f-4db0-4ae6-9670-6ed73543998b",
   "metadata": {
    "autoscroll": false,
    "ein.hycell": false,
    "ein.tags": "worksheet-0",
    "slideshow": {
     "slide_type": "-"
    }
   },
   "outputs": [
    {
     "data": {
      "text/plain": [
       "12"
      ]
     },
     "execution_count": 46,
     "metadata": {},
     "output_type": "execute_result"
    }
   ],
   "source": [
    "b.find('le')"
   ]
  },
  {
   "cell_type": "markdown",
   "id": "cc0d6daa-09a9-4820-b352-c66fafa09b06",
   "metadata": {},
   "source": [
    "El método `find(sub[, start[, end]]) -> int` busca el *substring* `sub` empezando con el índice `start` (argumento opcional) y finalizando en el índice `end` (argumento opcional, que sólo puede aparecer si también aparece `start`). Devuelve el índice donde inicial es *substring*."
   ]
  },
  {
   "cell_type": "code",
   "execution_count": 47,
   "id": "0471b68c-ddf5-4a14-83c4-a1bc3a7ea445",
   "metadata": {
    "autoscroll": false,
    "ein.hycell": false,
    "ein.tags": "worksheet-0",
    "slideshow": {
     "slide_type": "-"
    }
   },
   "outputs": [
    {
     "name": "stdout",
     "output_type": "stream",
     "text": [
      "Somos los colectiveros y cumplimos nuestro deber!\n",
      "Somos los coluctivuros que cumplimos nuestro deber!\n"
     ]
    }
   ],
   "source": [
    "print (b.replace('que','y')) # Reemplazamos un substring\n",
    "print (b.replace('e','u',2)) # Reemplazamos un substring sólo 2 veces"
   ]
  },
  {
   "cell_type": "markdown",
   "id": "f8853d09-fca9-4bd9-bb44-8b67d0c43d33",
   "metadata": {
    "ein.tags": "worksheet-0",
    "slideshow": {
     "slide_type": "-"
    }
   },
   "source": [
    "### Formato de strings\n",
    "\n",
    "En python se le puede dar formato a los strings de distintas maneras.\n",
    "Vamos a ver dos opciones:\n",
    "- Uso del método `format`\n",
    "- Uso de \"f-strings\"\n",
    "\n",
    "El método `format()` es una función que busca en el strings las llaves y las reemplaza por los argumentos. Veamos esto con algunos ejemplos:"
   ]
  },
  {
   "cell_type": "code",
   "execution_count": 48,
   "id": "d0b6dfc6-c2a0-48db-9224-23e0a20c156a",
   "metadata": {
    "autoscroll": false,
    "ein.hycell": false,
    "ein.tags": "worksheet-0",
    "slideshow": {
     "slide_type": "-"
    }
   },
   "outputs": [
    {
     "name": "stdout",
     "output_type": "stream",
     "text": [
      "Hoy es el día 8 de Feb de 2022\n",
      "Hoy es el día 8/Feb/2022\n",
      "Hoy es el día 8/Feb/2022\n",
      "Hoy es el día 2022/Feb/8\n"
     ]
    }
   ],
   "source": [
    "a = 2022\n",
    "m = 'Feb'\n",
    "d = 8\n",
    "s = \"Hoy es el día {} de {} de {}\".format(d, m, a)\n",
    "print(s)\n",
    "print(\"Hoy es el día {}/{}/{}\".format(d,m,a))\n",
    "print(\"Hoy es el día {0}/{1}/{2}\".format(d,m,a))\n",
    "print(\"Hoy es el día {2}/{1}/{0}\".format(d,m,a))\n"
   ]
  },
  {
   "cell_type": "code",
   "execution_count": 49,
   "id": "d6f7cba3-d129-4b98-b4de-3313a94abcee",
   "metadata": {
    "autoscroll": false,
    "ein.hycell": false,
    "ein.tags": "worksheet-0",
    "slideshow": {
     "slide_type": "-"
    }
   },
   "outputs": [
    {
     "name": "stdout",
     "output_type": "stream",
     "text": [
      "datos-2022-Feb-8.dat\n"
     ]
    }
   ],
   "source": [
    "fname = \"datos-{}-{}-{}.dat\".format(a,m,d)\n",
    "print(fname)"
   ]
  },
  {
   "cell_type": "markdown",
   "id": "c45550bb-9a80-4f45-a753-cd12baacb4d1",
   "metadata": {},
   "source": [
    "Más recientemente se ha implementado en Python una forma más directa de intercalar datos con caracteres literales, mediante *f-strings*, que permite una sintaxis más compacta. Comparemos las dos maneras:"
   ]
  },
  {
   "cell_type": "code",
   "execution_count": 50,
   "id": "26c7a66c-15a5-4bba-a3f7-215560932370",
   "metadata": {
    "autoscroll": false,
    "ein.hycell": false,
    "ein.tags": "worksheet-0",
    "slideshow": {
     "slide_type": "-"
    }
   },
   "outputs": [
    {
     "name": "stdout",
     "output_type": "stream",
     "text": [
      "El valor de π es 3.141592653589793\n",
      "El valor de π con cuatro decimales es 3.1416\n",
      "El valor de 2π con seis decimales es 6.283185\n",
      "005\n",
      "  5\n"
     ]
    }
   ],
   "source": [
    "pi = 3.141592653589793\n",
    "s1 = \"El valor de π es {}\".format(pi)\n",
    "s2 = \"El valor de π con cuatro decimales es {0:.4f}\".format(pi)\n",
    "print(s1)\n",
    "print(s2)\n",
    "print(\"El valor de 2π con seis decimales es {:.6f}\".format(2*pi))\n",
    "print(\"{:03d}\".format(5))\n",
    "print(\"{:3d}\".format(5))"
   ]
  },
  {
   "cell_type": "code",
   "execution_count": 5,
   "id": "26f654b9-e8d5-46bb-9edd-9e4e0b7816b4",
   "metadata": {},
   "outputs": [
    {
     "name": "stdout",
     "output_type": "stream",
     "text": [
      "el valor de π es 3.141592653589793\n",
      "El valor de π con seis decimales es 3.1416\n",
      "El valor de 2π con seis decimales es 6.283185\n",
      "005\n",
      "  5\n"
     ]
    }
   ],
   "source": [
    "print(f\"el valor de π es {pi}\")\n",
    "print(f\"El valor de π con seis decimales es {pi:.4f}\")\n",
    "print(f\"El valor de 2π con seis decimales es {2*pi:.6f}\")\n",
    "print(f\"{5:03d}\")\n",
    "print(f\"{5:3d}\")"
   ]
  },
  {
   "cell_type": "markdown",
   "id": "d1c0d6f2-fcfd-436f-b82e-ecac48cc5905",
   "metadata": {
    "ein.tags": "worksheet-0",
    "slideshow": {
     "slide_type": "-"
    }
   },
   "source": [
    "## Conversión de tipos\n",
    "\n",
    "Como comentamos anteriormente, y se ve en los ejemplos anteriores, uno no define el tipo de variable *a-priori* sino que queda definido al asignársele un valor (por ejemplo a=3 define a como una variable del tipo entero)."
   ]
  },
  {
   "cell_type": "code",
   "execution_count": 52,
   "id": "88e46539-17ec-44c2-b3ed-9f73bcd896fb",
   "metadata": {
    "autoscroll": false,
    "ein.hycell": false,
    "ein.tags": "worksheet-0",
    "slideshow": {
     "slide_type": "-"
    }
   },
   "outputs": [
    {
     "name": "stdout",
     "output_type": "stream",
     "text": [
      "a es de tipo <class 'int'>\n",
      "b es de tipo <class 'float'>\n",
      "c es de tipo <class 'complex'>\n",
      "'a + b' es de tipo <class 'float'> y 'a + c' es de tipo <class 'complex'>\n"
     ]
    }
   ],
   "source": [
    "a = 3                           # a es entero\n",
    "b = 3.1                         # b es real\n",
    "c = 3 + 0j                      # c es complejo\n",
    "print (\"a es de tipo {0}\\nb es de tipo {1}\\nc es de tipo {2}\".format(type(a), type(b), type(c)))\n",
    "print (\"'a + b' es de tipo {0} y 'a + c' es de tipo {1}\".format(type(a+b), type(a+c)))"
   ]
  },
  {
   "cell_type": "markdown",
   "id": "4643c909-5a70-49ce-a334-e6ec5bcf3fc7",
   "metadata": {},
   "source": [
    "Si bien **Python** hace la conversión de tipos de variables en algunos casos, **no hace magia**, no puede adivinar nuestra intención si no la explicitamos."
   ]
  },
  {
   "cell_type": "code",
   "execution_count": 53,
   "id": "10a1909e-051f-4b03-bae4-47301b312abe",
   "metadata": {
    "autoscroll": false,
    "ein.hycell": false,
    "ein.tags": "worksheet-0",
    "slideshow": {
     "slide_type": "-"
    }
   },
   "outputs": [
    {
     "ename": "TypeError",
     "evalue": "unsupported operand type(s) for +: 'int' and 'str'",
     "output_type": "error",
     "traceback": [
      "\u001b[0;31m---------------------------------------------------------------------------\u001b[0m",
      "\u001b[0;31mTypeError\u001b[0m                                 Traceback (most recent call last)",
      "Input \u001b[0;32mIn [53]\u001b[0m, in \u001b[0;36m<module>\u001b[0;34m\u001b[0m\n\u001b[0;32m----> 1\u001b[0m \u001b[38;5;28mprint\u001b[39m (\u001b[38;5;241m1\u001b[39m\u001b[38;5;241m+\u001b[39m\u001b[38;5;124m'\u001b[39m\u001b[38;5;124m1\u001b[39m\u001b[38;5;124m'\u001b[39m)\n",
      "\u001b[0;31mTypeError\u001b[0m: unsupported operand type(s) for +: 'int' and 'str'"
     ]
    }
   ],
   "source": [
    "print (1+'1')"
   ]
  },
  {
   "cell_type": "markdown",
   "id": "d19e9606-126e-44f5-b054-173fc3a28226",
   "metadata": {
    "ein.tags": "worksheet-0",
    "slideshow": {
     "slide_type": "-"
    }
   },
   "source": [
    "Sin embargo, si le decimos explícitamente qué conversión queremos, todo funciona bien"
   ]
  },
  {
   "cell_type": "code",
   "execution_count": 54,
   "id": "82f55ce1-e222-4ebb-aee3-f5461cc5f750",
   "metadata": {
    "autoscroll": false,
    "ein.hycell": false,
    "ein.tags": "worksheet-0",
    "slideshow": {
     "slide_type": "-"
    }
   },
   "outputs": [
    {
     "name": "stdout",
     "output_type": "stream",
     "text": [
      "11\n",
      "2\n",
      "100001.0\n"
     ]
    }
   ],
   "source": [
    "print (str(1) + '1')\n",
    "print (1 + int('1'))\n",
    "print (1 + float('1.e5'))"
   ]
  },
  {
   "cell_type": "code",
   "execution_count": 55,
   "id": "b761692d-fa5f-4449-98c4-edcbe741e12e",
   "metadata": {
    "autoscroll": false,
    "ein.hycell": false,
    "ein.tags": "worksheet-0",
    "slideshow": {
     "slide_type": "-"
    }
   },
   "outputs": [
    {
     "ename": "ValueError",
     "evalue": "invalid literal for int() with base 10: 'z'",
     "output_type": "error",
     "traceback": [
      "\u001b[0;31m---------------------------------------------------------------------------\u001b[0m",
      "\u001b[0;31mValueError\u001b[0m                                Traceback (most recent call last)",
      "Input \u001b[0;32mIn [55]\u001b[0m, in \u001b[0;36m<module>\u001b[0;34m\u001b[0m\n\u001b[1;32m      1\u001b[0m \u001b[38;5;66;03m# a menos que nosotros **nos equivoquemos explícitamente**\u001b[39;00m\n\u001b[0;32m----> 2\u001b[0m \u001b[38;5;28mprint\u001b[39m (\u001b[38;5;241m1\u001b[39m \u001b[38;5;241m+\u001b[39m \u001b[38;5;28mint\u001b[39m(\u001b[38;5;124m'\u001b[39m\u001b[38;5;124mz\u001b[39m\u001b[38;5;124m'\u001b[39m))\n",
      "\u001b[0;31mValueError\u001b[0m: invalid literal for int() with base 10: 'z'"
     ]
    }
   ],
   "source": [
    "# a menos que nosotros **nos equivoquemos explícitamente**\n",
    "print (1 + int('z'))"
   ]
  },
  {
   "cell_type": "markdown",
   "id": "7fb6d8fa-0629-4861-a380-13044ba734b1",
   "metadata": {},
   "source": [
    "--------\n",
    "\n",
    "## Ejercicios 02 (a)\n",
    "\n",
    "\n",
    "1. Centrado manual de frases\n",
    "\n",
    "    a. Utilizando la función `len()` centre una frase corta en una pantalla de 80 caracteres. Utilice la frase: \"Primer ejercicio con caracteres\"\n",
    "\n",
    "    b. Agregue subrayado a la frase anterior\n",
    "\n",
    "\n",
    "2. **PARA ENTREGAR.** Para la cadena de caracteres:\n",
    "```python\n",
    "s = '''Aquí me pongo a cantar\n",
    "Al compás de la vigüela,\n",
    "Que el hombre que lo desvela\n",
    "Una pena estraordinaria\n",
    "Como la ave solitaria\n",
    "Con el cantar se consuela.'''\n",
    "```\n",
    "\n",
    "  * Cuente la cantidad de veces que aparecen los substrings `es`, `la`, `que`, `co`,  en los siguientes dos casos: distinguiendo entre mayúsculas y minúsculas, y no distinguiendo. Imprima el resultado.\n",
    "\n",
    "  * Cree una lista, donde cada elemento es una línea del string `s` y encuentre la de mayor longitud. Imprima por pantalla la línea y su longitud. (Posibles ayudas: busque información sobre funciones que aplican a *strings* y los métodos)\n",
    "\n",
    "  * Forme un nuevo string de 10 caracteres que contenga los 5 primeros y los 5 últimos del string anterior `s`. Imprima por pantalla el nuevo string.\n",
    "\n",
    "  * Forme un nuevo string que contenga los 10 caracteres centrales de `s` (utilizando un método que pueda aplicarse a otros strings también). Imprima por pantalla el nuevo string.\n",
    "\n",
    "  * Cambie todas las letras \"m\" por \"n\" y todas las letras \"n\" por \"m\" en `s`. Imprima el resultado por pantalla.\n",
    "\n",
    "  * Debe entregar un programa llamado `02_SuApellido.py` (con su apellido, no la palabra \"SuApellido\") por correo electrónico.\n",
    "  El programa al correrlo con el comando `python3 02_SuApellido.py` debe imprimir:\n",
    "\n",
    "  ```\n",
    "  Nombre Apellido\n",
    "  Clase 2\n",
    "  Distinguiendo: 2 5 1 2\n",
    "  Sin distinguir: 2 5 2 4\n",
    "  Que el hombre que lo desvela : longitud=28\n",
    "  Aquí uela.\n",
    "  desvela \n",
    "  Un\n",
    "  Aquí ne pomgo a camtar\n",
    "  Al conpás de la vigüela,\n",
    "  Que el honbre que lo desvela\n",
    "  Uma pema estraordimaria\n",
    "  Cono la ave solitaria\n",
    "  Com el camtar se comsuela.\n",
    "  ```\n",
    "  \n",
    "-------- "
   ]
  }
 ],
 "metadata": {
  "kernelspec": {
   "display_name": "Python 3 (ipykernel)",
   "language": "python",
   "name": "python3"
  },
  "language_info": {
   "codemirror_mode": {
    "name": "ipython",
    "version": 3
   },
   "file_extension": ".py",
   "mimetype": "text/x-python",
   "name": "python",
   "nbconvert_exporter": "python",
   "pygments_lexer": "ipython3",
   "version": "3.11.1"
  },
  "name": "02_1_tipos_y_control.ipynb",
  "toc": {
   "base_numbering": 1,
   "nav_menu": {
    "height": "395.4px",
    "width": "252px"
   },
   "number_sections": true,
   "sideBar": true,
   "skip_h1_title": false,
   "title_cell": "Contenidos",
   "title_sidebar": "Contenidos",
   "toc_cell": false,
   "toc_position": null,
   "toc_section_display": true,
   "toc_window_display": false
  }
 },
 "nbformat": 4,
 "nbformat_minor": 5
}
