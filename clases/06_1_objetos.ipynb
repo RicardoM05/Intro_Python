{
 "cells": [
  {
   "cell_type": "markdown",
   "id": "10549c36",
   "metadata": {
    "ein.tags": "worksheet-0",
    "slideshow": {
     "slide_type": "-"
    }
   },
   "source": [
    "# Programación Orientada a Objetos  <a class=\"tocSkip\">\n",
    "\n",
    "## Breve introducción a Programación Orientada a Objetos\n",
    "\n",
    "Vimos como escribir funciones que realizan un trabajo específico y nos devuelven un resultado. La mayor parte de nuestros programas van a estar diseñados con un hilo conductor principal, que utiliza una serie de funciones para realizar el cálculo. De esta manera, el código es altamente reusable.\n",
    "\n",
    "Hay otras maneras de organizar el código, una de ellas es particularmente útil cuando un conjunto de rutinas comparte un dado conjunto de datos. En ese caso, puede ser adecuado utilizar un esquema de programación orientada a objetos. En esta modalidad programamos distintas entidades, donde cada una tiene un comportamiento, y determinamos una manera de interactuar entre ellas.\n",
    "\n",
    "## Clases y Objetos\n",
    "\n",
    "Una ``Clase`` define características que tienen los ``objetos`` de dicha clase. En general la clase tiene: un nombre y características (campos o atributos y métodos).\n",
    "\n",
    "Un Objeto, en programación, puede pensarse como la representación de un objeto real, de una dada clase. Un objeto real tiene una composición y características, y además puede realizar un conjunto de actividades (tiene un comportamiento). Cuando programamos, las \"partes\" son los datos, y el \"comportamiento\" son los métodos.\n",
    "\n",
    "Ejemplos de la vida diaria serían: Una clase *Bicicleta*, y muchos objetos del tipo bicicleta (mi bicicleta, la suya, etc). La definición de la clase debe contener la información de qué es una bicicleta (dos ruedas, manubrio, etc) y luego se realizan muchas copias del tipo bicicleta (los objetos).\n",
    "\n",
    "Se dice que los **objetos** son instancias de una **clase**, por ejemplo ya vimos los números enteros. Cuando definimos: `a = 3` estamos diciendo que `a` es una instancia (objeto) de la clase `int`.\n",
    "\n",
    "Los objetos pueden guardar datos (en este caso `a` guarda el valor `3`). Las variables que contienen los datos de los objetos se llaman usualmente campos o atributos. Las acciones que tienen asociadas los objetos se realizan a través de funciones internas, que se llaman métodos.\n",
    "\n",
    "Las clases se definen con la palabra reservada `class`, veamos un ejemplo simple:\n",
    "\n"
   ]
  },
  {
   "cell_type": "code",
   "execution_count": 9,
   "id": "569078c5",
   "metadata": {},
   "outputs": [],
   "source": [
    "class Clase:\n",
    "    pass"
   ]
  },
  {
   "cell_type": "code",
   "execution_count": 12,
   "id": "d78b494d",
   "metadata": {},
   "outputs": [],
   "source": [
    "c1 = Clase()"
   ]
  },
  {
   "cell_type": "code",
   "execution_count": 13,
   "id": "5a58c60e",
   "metadata": {},
   "outputs": [
    {
     "data": {
      "text/plain": [
       "<__main__.Clase at 0x7f63a60297d0>"
      ]
     },
     "execution_count": 13,
     "metadata": {},
     "output_type": "execute_result"
    }
   ],
   "source": [
    "c1"
   ]
  },
  {
   "cell_type": "code",
   "execution_count": 14,
   "id": "bed8193b",
   "metadata": {
    "autoscroll": false,
    "ein.hycell": false,
    "ein.tags": "worksheet-0",
    "slideshow": {
     "slide_type": "-"
    }
   },
   "outputs": [],
   "source": [
    "class Punto:\n",
    "  \"Clase para describir un punto en el espacio\"\n",
    "\n",
    "  def __init__(self, x, y, z):\n",
    "    self.x = x\n",
    "    self.y = y\n",
    "    self.z = z\n",
    "\n"
   ]
  },
  {
   "cell_type": "code",
   "execution_count": 15,
   "id": "59da9d0d",
   "metadata": {
    "autoscroll": false,
    "ein.hycell": false,
    "ein.tags": "worksheet-0",
    "slideshow": {
     "slide_type": "-"
    }
   },
   "outputs": [],
   "source": [
    "P1 = Punto(0.5, 0.5, 0)"
   ]
  },
  {
   "cell_type": "code",
   "execution_count": 16,
   "id": "14776630",
   "metadata": {
    "autoscroll": false,
    "ein.hycell": false,
    "ein.tags": "worksheet-0",
    "slideshow": {
     "slide_type": "-"
    }
   },
   "outputs": [
    {
     "data": {
      "text/plain": [
       "<__main__.Punto at 0x7f63a6035f10>"
      ]
     },
     "execution_count": 16,
     "metadata": {},
     "output_type": "execute_result"
    }
   ],
   "source": [
    "P1"
   ]
  },
  {
   "cell_type": "markdown",
   "id": "1e7a0bbd",
   "metadata": {},
   "source": [
    "Vemos que `P1` es un objeto del tipo `Punto` que está alojado en una dada dirección de memoria (dada por ese número largo hexadecimal). Para referirnos a los *atributos* de `P1` se utiliza notación \"de punto\":"
   ]
  },
  {
   "cell_type": "code",
   "execution_count": 17,
   "id": "2a997197",
   "metadata": {
    "autoscroll": false,
    "ein.hycell": false,
    "ein.tags": "worksheet-0",
    "slideshow": {
     "slide_type": "-"
    }
   },
   "outputs": [
    {
     "data": {
      "text/plain": [
       "(0.5, 0)"
      ]
     },
     "execution_count": 17,
     "metadata": {},
     "output_type": "execute_result"
    }
   ],
   "source": [
    "P1.x, P1.z"
   ]
  },
  {
   "cell_type": "markdown",
   "id": "17b37d69",
   "metadata": {
    "ein.tags": "worksheet-0",
    "slideshow": {
     "slide_type": "-"
    }
   },
   "source": [
    "Como vemos, acabamos de definir una clase de tipo Punto. A continuación definimos un *método* `__init__` que hace el trabajo de inicializar el objeto.\n",
    "\n",
    "Algunos puntos a notar:\n",
    "\n",
    "* La línea `P1 = Punto(0.5, 0.5, 0)` crea un nuevo objeto del tipo `Punto`. Notar que usamos paréntesis como cuando llamamos a una función pero Python sabe que estamos \"llamando\" a una clase y creando un objeto.\n",
    "\n",
    "* El método `__init__` es especial y es el Constructor de objetos de la clase. Es llamado automáticamente al definir un nuevo objeto de esa clase. Por esa razón, le pasamos los dos argumentos al crear el objeto.\n",
    "\n",
    "* El primer argumento del método, `self`, debe estar presente en la definición de todos los métodos pero no lo pasamos como argumento cuando hacemos una llamada a la función. **Python** se encarga de pasarlo en forma automática. Lo único relevante de este argumento es que es el primero para todos los métodos, el nombre `self` puede cambiarse por cualquier otro **pero, por convención, no se hace**.\n"
   ]
  },
  {
   "cell_type": "code",
   "execution_count": 18,
   "id": "b7c586dc",
   "metadata": {
    "autoscroll": false,
    "ein.hycell": false,
    "ein.tags": "worksheet-0",
    "slideshow": {
     "slide_type": "-"
    }
   },
   "outputs": [
    {
     "ename": "TypeError",
     "evalue": "Punto.__init__() missing 3 required positional arguments: 'x', 'y', and 'z'",
     "output_type": "error",
     "traceback": [
      "\u001b[0;31m---------------------------------------------------------------------------\u001b[0m",
      "\u001b[0;31mTypeError\u001b[0m                                 Traceback (most recent call last)",
      "Cell \u001b[0;32mIn [18], line 1\u001b[0m\n\u001b[0;32m----> 1\u001b[0m P2 \u001b[38;5;241m=\u001b[39m Punto()\n",
      "\u001b[0;31mTypeError\u001b[0m: Punto.__init__() missing 3 required positional arguments: 'x', 'y', and 'z'"
     ]
    }
   ],
   "source": [
    "P2 = Punto()"
   ]
  },
  {
   "cell_type": "markdown",
   "id": "b2682ef0",
   "metadata": {
    "ein.tags": "worksheet-0",
    "slideshow": {
     "slide_type": "-"
    }
   },
   "source": [
    "Por supuesto la creación del objeto falla si no le damos ningún argumento porque los argumentos de `__init__` no son opcionales. Modifiquemos eso y aprovechamos para definir algunos otros métodos que pueden ser útiles:"
   ]
  },
  {
   "cell_type": "code",
   "execution_count": 19,
   "id": "210c9ffa",
   "metadata": {
    "autoscroll": false,
    "ein.hycell": false,
    "ein.tags": "worksheet-0",
    "slideshow": {
     "slide_type": "-"
    }
   },
   "outputs": [],
   "source": [
    "from math import atan2, pi\n",
    "\n",
    "class Punto:\n",
    "  \"Clase para describir un punto en el espacio\"\n",
    "\n",
    "  def __init__(self, x=0, y=0, z=0):\n",
    "    \"Inicializa un punto en el espacio\"\n",
    "    self.x = x\n",
    "    self.y = y\n",
    "    self.z = z\n",
    "    \n",
    "  def angulo_azimuthal(self):\n",
    "    \"Devuelve el ángulo que forma con el eje x, en grados\"\n",
    "    return 180/pi*(atan2(self.y, self.x))"
   ]
  },
  {
   "cell_type": "code",
   "execution_count": 20,
   "id": "43e6481b",
   "metadata": {
    "autoscroll": false,
    "ein.hycell": false,
    "ein.tags": "worksheet-0",
    "slideshow": {
     "slide_type": "-"
    }
   },
   "outputs": [],
   "source": [
    "P1 = Punto(0.5, 0.5)"
   ]
  },
  {
   "cell_type": "code",
   "execution_count": 21,
   "id": "34b28f18",
   "metadata": {
    "autoscroll": false,
    "ein.hycell": false,
    "ein.tags": "worksheet-0",
    "slideshow": {
     "slide_type": "-"
    }
   },
   "outputs": [
    {
     "data": {
      "text/plain": [
       "45.0"
      ]
     },
     "execution_count": 21,
     "metadata": {},
     "output_type": "execute_result"
    }
   ],
   "source": [
    "P1.angulo_azimuthal()"
   ]
  },
  {
   "cell_type": "code",
   "execution_count": 22,
   "id": "aa47dadb",
   "metadata": {
    "autoscroll": false,
    "ein.hycell": false,
    "ein.tags": "worksheet-0",
    "slideshow": {
     "slide_type": "-"
    }
   },
   "outputs": [],
   "source": [
    "P2 = Punto()"
   ]
  },
  {
   "cell_type": "code",
   "execution_count": 23,
   "id": "8e0de0e4",
   "metadata": {
    "autoscroll": false,
    "ein.hycell": false,
    "ein.tags": "worksheet-0",
    "slideshow": {
     "slide_type": "-"
    }
   },
   "outputs": [
    {
     "data": {
      "text/plain": [
       "0"
      ]
     },
     "execution_count": 23,
     "metadata": {},
     "output_type": "execute_result"
    }
   ],
   "source": [
    "P2.x"
   ]
  },
  {
   "cell_type": "code",
   "execution_count": 24,
   "id": "ef53bed1",
   "metadata": {
    "autoscroll": false,
    "ein.hycell": false,
    "ein.tags": "worksheet-0",
    "slideshow": {
     "slide_type": "-"
    }
   },
   "outputs": [
    {
     "name": "stdout",
     "output_type": "stream",
     "text": [
      "Help on Punto in module __main__ object:\n",
      "\n",
      "class Punto(builtins.object)\n",
      " |  Punto(x=0, y=0, z=0)\n",
      " |  \n",
      " |  Clase para describir un punto en el espacio\n",
      " |  \n",
      " |  Methods defined here:\n",
      " |  \n",
      " |  __init__(self, x=0, y=0, z=0)\n",
      " |      Inicializa un punto en el espacio\n",
      " |  \n",
      " |  angulo_azimuthal(self)\n",
      " |      Devuelve el ángulo que forma con el eje x, en grados\n",
      " |  \n",
      " |  ----------------------------------------------------------------------\n",
      " |  Data descriptors defined here:\n",
      " |  \n",
      " |  __dict__\n",
      " |      dictionary for instance variables (if defined)\n",
      " |  \n",
      " |  __weakref__\n",
      " |      list of weak references to the object (if defined)\n",
      "\n"
     ]
    }
   ],
   "source": [
    "help(P1)"
   ]
  },
  {
   "cell_type": "code",
   "execution_count": 25,
   "id": "45925b1a",
   "metadata": {},
   "outputs": [
    {
     "data": {
      "text/plain": [
       "{'x': 0.5, 'y': 0.5, 'z': 0}"
      ]
     },
     "execution_count": 25,
     "metadata": {},
     "output_type": "execute_result"
    }
   ],
   "source": [
    "P1.__dict__"
   ]
  },
  {
   "cell_type": "markdown",
   "id": "8afc30be",
   "metadata": {},
   "source": [
    "El objeto `P1` es del tipo `Punto` y tiene definidos los métodos `__init__()` (el constructor) y el método `angulo_azimuthal()` que programamos para obtener el ángulo. Además tiene el método `__dict__` que provee un diccionario con los datos del objeto:"
   ]
  },
  {
   "cell_type": "markdown",
   "id": "7543374c",
   "metadata": {},
   "source": [
    "Cuando ejecutamos uno de los métodos de un objeto, es equivalente a hacer la llamada al método de la clase, dando como primer argumento el objeto en cuestión:"
   ]
  },
  {
   "cell_type": "code",
   "execution_count": 27,
   "id": "fd866422",
   "metadata": {},
   "outputs": [],
   "source": [
    "pp = Punto(0.1, \"s\", [1,2])"
   ]
  },
  {
   "cell_type": "code",
   "execution_count": 28,
   "id": "635b80b6",
   "metadata": {},
   "outputs": [
    {
     "data": {
      "text/plain": [
       "<__main__.Punto at 0x7f63c56abed0>"
      ]
     },
     "execution_count": 28,
     "metadata": {},
     "output_type": "execute_result"
    }
   ],
   "source": [
    "pp"
   ]
  },
  {
   "cell_type": "code",
   "execution_count": 29,
   "id": "76fb1a9d",
   "metadata": {
    "autoscroll": false,
    "ein.hycell": false,
    "ein.tags": "worksheet-0",
    "slideshow": {
     "slide_type": "-"
    }
   },
   "outputs": [
    {
     "name": "stdout",
     "output_type": "stream",
     "text": [
      "45.0\n",
      "45.0\n"
     ]
    }
   ],
   "source": [
    "print(P1.angulo_azimuthal())\n",
    "print(Punto.angulo_azimuthal(P1))"
   ]
  },
  {
   "cell_type": "markdown",
   "id": "a1473bb3",
   "metadata": {
    "ein.tags": "worksheet-0",
    "slideshow": {
     "slide_type": "-"
    }
   },
   "source": [
    "Al hacer la llamada a un método de una \"instancia de la Clase\" (o un objeto), omitimos el argumento `self`. El lenguaje traduce nuestro llamado: `P1.angulo_azimuthal()` como `Punto.angulo_azimuthal(P1)` ya que `self` se refiere al objeto que llama al método.\n"
   ]
  },
  {
   "cell_type": "markdown",
   "id": "5cc4ccdd",
   "metadata": {},
   "source": [
    "\n",
    "### Métodos especiales \n",
    "\n",
    "Volviendo a mirar la definición de la clase, vemos que `__init__()` es un método \"especial\". No necesitamos ejecutarlo explícitamente ya que Python lo hace automáticamente al crear cada objeto de la clase dada. En *Python* el usuario/programador tiene acceso a todos los métodos y atributos. Por convención los nombres que inician con guión bajo se presupone que no son para ser utilizados directamente. En particular, los que están rodeados por dos guiones bajos tienen significado especial y *Python* los va a utilizar en forma autómatica en distintas ocasiones.\n"
   ]
  },
  {
   "cell_type": "markdown",
   "id": "77c4d97a",
   "metadata": {
    "ein.tags": "worksheet-0",
    "slideshow": {
     "slide_type": "-"
    }
   },
   "source": [
    "\n",
    "## Herencia\n",
    "\n",
    "Una de las características de la programación orientada a objetos es la facilidad de reutilización de código. Uno de los mecanismos más importantes es a través de la herencia. Cuando definimos una nueva clase, podemos crearla a partir de un objeto que ya exista. Por ejemplo, utilizando la clase `Punto` podemos definir una nueva clase para describir un vector en el espacio:"
   ]
  },
  {
   "cell_type": "code",
   "execution_count": 30,
   "id": "1382ef3a",
   "metadata": {
    "autoscroll": false,
    "ein.hycell": false,
    "ein.tags": "worksheet-0",
    "slideshow": {
     "slide_type": "-"
    }
   },
   "outputs": [],
   "source": [
    "class Vector(Punto):\n",
    "  \"Representa un vector en el espacio\"\n",
    "\n",
    "  def suma(self, v2):\n",
    "    \"Calcula un vector que contiene la suma de dos vectores\"\n",
    "    print(\"Aún no implementada la suma de dos vectores\") \n",
    "    # código calculando v = suma de self + v2\n",
    "    # ...\n",
    "\n",
    "  def producto(self, v2):\n",
    "    \"Calcula el producto interno entre dos vectores\"\n",
    "    print(\"Aún no implementado el producto interno de dos vectores\") \n",
    "    # código calculando el producto interno pr = v1 . v2\n",
    "\n",
    "  def abs(self):\n",
    "    \"Devuelve la distancia del punto al origen\"\n",
    "    print(\"Aún no implementado la norma del vector\") \n",
    "    # código calculando el producto interno pr = v1 . v2\n",
    "\n",
    "    "
   ]
  },
  {
   "cell_type": "markdown",
   "id": "36e9ce5f",
   "metadata": {
    "ein.tags": "worksheet-0",
    "slideshow": {
     "slide_type": "-"
    }
   },
   "source": [
    "Acá hemos definido un nuevo tipo de objeto, llamado `Vector` que se deriva de la clase `Punto`. Veamos cómo funciona:"
   ]
  },
  {
   "cell_type": "code",
   "execution_count": 31,
   "id": "93ae3b9f",
   "metadata": {
    "autoscroll": false,
    "ein.hycell": false,
    "ein.tags": "worksheet-0",
    "slideshow": {
     "slide_type": "-"
    }
   },
   "outputs": [],
   "source": [
    "v1 = Vector(2,3.1)\n",
    "v2 = Vector()"
   ]
  },
  {
   "cell_type": "code",
   "execution_count": 32,
   "id": "54e502bb",
   "metadata": {
    "autoscroll": false,
    "ein.hycell": false,
    "ein.tags": "worksheet-0",
    "slideshow": {
     "slide_type": "-"
    }
   },
   "outputs": [
    {
     "data": {
      "text/plain": [
       "<__main__.Vector at 0x7f63a6037a10>"
      ]
     },
     "execution_count": 32,
     "metadata": {},
     "output_type": "execute_result"
    }
   ],
   "source": [
    "v1"
   ]
  },
  {
   "cell_type": "code",
   "execution_count": 33,
   "id": "c387a614",
   "metadata": {
    "autoscroll": false,
    "ein.hycell": false,
    "ein.tags": "worksheet-0",
    "slideshow": {
     "slide_type": "-"
    }
   },
   "outputs": [
    {
     "data": {
      "text/plain": [
       "2"
      ]
     },
     "execution_count": 33,
     "metadata": {},
     "output_type": "execute_result"
    }
   ],
   "source": [
    "v1.x"
   ]
  },
  {
   "cell_type": "code",
   "execution_count": 34,
   "id": "85e7e842",
   "metadata": {
    "autoscroll": false,
    "ein.hycell": false,
    "ein.tags": "worksheet-0",
    "slideshow": {
     "slide_type": "-"
    }
   },
   "outputs": [
    {
     "data": {
      "text/plain": [
       "57.171458208587474"
      ]
     },
     "execution_count": 34,
     "metadata": {},
     "output_type": "execute_result"
    }
   ],
   "source": [
    "v1.angulo_azimuthal()"
   ]
  },
  {
   "cell_type": "code",
   "execution_count": 35,
   "id": "22844fcb",
   "metadata": {
    "autoscroll": false,
    "ein.hycell": false,
    "ein.tags": "worksheet-0",
    "slideshow": {
     "slide_type": "-"
    }
   },
   "outputs": [
    {
     "data": {
      "text/plain": [
       "(2, 3.1, 0)"
      ]
     },
     "execution_count": 35,
     "metadata": {},
     "output_type": "execute_result"
    }
   ],
   "source": [
    "v1.x, v1.y, v1.z"
   ]
  },
  {
   "cell_type": "code",
   "execution_count": 36,
   "id": "da78eb15",
   "metadata": {
    "autoscroll": false,
    "ein.hycell": false,
    "ein.tags": "worksheet-0",
    "slideshow": {
     "slide_type": "-"
    }
   },
   "outputs": [
    {
     "data": {
      "text/plain": [
       "(0, 0, 0)"
      ]
     },
     "execution_count": 36,
     "metadata": {},
     "output_type": "execute_result"
    }
   ],
   "source": [
    "v2.x, v2.y, v2.z"
   ]
  },
  {
   "cell_type": "code",
   "execution_count": 37,
   "id": "6989ca4b",
   "metadata": {
    "autoscroll": false,
    "ein.hycell": false,
    "ein.tags": "worksheet-0",
    "slideshow": {
     "slide_type": "-"
    }
   },
   "outputs": [
    {
     "name": "stdout",
     "output_type": "stream",
     "text": [
      "Aún no implementada la suma de dos vectores\n"
     ]
    }
   ],
   "source": [
    "v = v1.suma(v2)"
   ]
  },
  {
   "cell_type": "code",
   "execution_count": 38,
   "id": "73dd0968",
   "metadata": {
    "autoscroll": false,
    "ein.hycell": false,
    "ein.tags": "worksheet-0",
    "slideshow": {
     "slide_type": "-"
    }
   },
   "outputs": [
    {
     "name": "stdout",
     "output_type": "stream",
     "text": [
      "None\n"
     ]
    }
   ],
   "source": [
    "print(v)"
   ]
  },
  {
   "cell_type": "markdown",
   "id": "a5cd85b9",
   "metadata": {},
   "source": [
    "Volviendo a la definición de un objeto, vimos que `__init__()` es un método \"especial\". Otro método especial es `__add__()` que nos permite definir la operación suma entre objetos:"
   ]
  },
  {
   "cell_type": "code",
   "execution_count": 39,
   "id": "23262561",
   "metadata": {
    "autoscroll": false,
    "ein.hycell": false,
    "ein.tags": "worksheet-0",
    "slideshow": {
     "slide_type": "-"
    }
   },
   "outputs": [],
   "source": [
    "class Vector(Punto):\n",
    "  \"Representa un vector en el espacio\"\n",
    "\n",
    "  def __add__(self, v2):\n",
    "    \"Calcula un vector que contiene la suma de dos vectores\"\n",
    "    print(\"Aún no implementada la suma de dos vectores\") \n",
    "    # código calculando v = suma de self + v2\n",
    "    # ...\n",
    "\n",
    "  def producto(self, v2):\n",
    "    \"Calcula el producto interno entre dos vectores\"\n",
    "    print(\"Aún no implementado el producto interno de dos vectores\") \n",
    "    # código calculando el producto interno pr = v1 . v2\n",
    "\n",
    "  def abs(self):\n",
    "    \"Devuelve la distancia del punto al origen\"\n",
    "    print(\"Aún no implementado la norma del vector\") \n",
    "    # código calculando el producto interno pr = v1 . v2\n",
    "\n",
    "    "
   ]
  },
  {
   "cell_type": "code",
   "execution_count": 40,
   "id": "23e12159",
   "metadata": {
    "autoscroll": false,
    "ein.hycell": false,
    "ein.tags": "worksheet-0",
    "slideshow": {
     "slide_type": "-"
    }
   },
   "outputs": [],
   "source": [
    "v1 = Vector(1,2,3)\n",
    "v2 = Vector(1,2,-3)"
   ]
  },
  {
   "cell_type": "code",
   "execution_count": 41,
   "id": "eb25a102",
   "metadata": {
    "autoscroll": false,
    "ein.hycell": false,
    "ein.tags": "worksheet-0",
    "slideshow": {
     "slide_type": "-"
    }
   },
   "outputs": [
    {
     "name": "stdout",
     "output_type": "stream",
     "text": [
      "Aún no implementada la suma de dos vectores\n"
     ]
    }
   ],
   "source": [
    "v1 + v2"
   ]
  },
  {
   "cell_type": "markdown",
   "id": "a0fcd4af",
   "metadata": {
    "ein.tags": "worksheet-0",
    "slideshow": {
     "slide_type": "-"
    }
   },
   "source": [
    "Los métodos que habíamos definido para los puntos del espacio, son accesibles para el nuevo objeto. Además podemos agregar (extender) el nuevo objeto con otros atributos y métodos.\n",
    "\n",
    "Como vemos, aún no está implementado el cálculo de las distintas funciones, eso forma parte del siguiente ...\n"
   ]
  },
  {
   "cell_type": "markdown",
   "id": "09071dd6",
   "metadata": {
    "ein.tags": "worksheet-0",
    "slideshow": {
     "slide_type": "-"
    }
   },
   "source": [
    "-----\n",
    "\n",
    "## Ejercicios 06 (a)\n",
    "\n",
    "1. Implemente los métodos `__add__`, `producto` y `abs`\n",
    "\n",
    "   - `__add__()` debe retornar un objeto del tipo `Vector` y contener en cada componente la suma de las componentes de los dos vectores que toma como argumento.\n",
    "\n",
    "   - `producto` toma como argumentos dos vectores y retorna un número real con el valor del producto interno\n",
    "\n",
    "   - `abs` toma como argumentos el propio objeto y retorna el número real correspondiente\n",
    "\n",
    "   Su uso será el siguiente:\n",
    "\n",
    "   ```python\n",
    "   v1 = Vector(1,2,3)\n",
    "   v2 = Vector(3,2,1)\n",
    "   v = v1 + v2\n",
    "   pr = v1.producto(v2)\n",
    "   a = v1.abs()\n",
    "   ```\n",
    "\n",
    "-----\n",
    "\n"
   ]
  }
 ],
 "metadata": {
  "kernelspec": {
   "display_name": "Python 3 (ipykernel)",
   "language": "python",
   "name": "python3"
  },
  "language_info": {
   "codemirror_mode": {
    "name": "ipython",
    "version": 3
   },
   "file_extension": ".py",
   "mimetype": "text/x-python",
   "name": "python",
   "nbconvert_exporter": "python",
   "pygments_lexer": "ipython3",
   "version": "3.11.1"
  },
  "name": "06_1_objetos.ipynb",
  "toc": {
   "base_numbering": 1,
   "nav_menu": {
    "height": "132.3px",
    "width": "251.5px"
   },
   "number_sections": true,
   "sideBar": true,
   "skip_h1_title": false,
   "title_cell": "Contenidos",
   "title_sidebar": "Contenidos",
   "toc_cell": false,
   "toc_position": null,
   "toc_section_display": true,
   "toc_window_display": false
  }
 },
 "nbformat": 4,
 "nbformat_minor": 5
}
