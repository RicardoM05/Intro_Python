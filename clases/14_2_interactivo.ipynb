{
 "cells": [
  {
   "cell_type": "markdown",
   "metadata": {
    "collapsed": false,
    "ein.tags": "worksheet-0",
    "slideshow": {
     "slide_type": "-"
    }
   },
   "source": [
    "## Gráficos interactivos (\"widgets\")\n",
    "Veamos cómo se puede hacer este tipo de trabajo en forma interactiva. Para ello **Matplotlib** tiene un submódulo `widgets` con rutinas que están diseñadas para funcionar con cualquier *backend* interactivo. (más información en: http://matplotlib.org/api/widgets_api.html)"
   ]
  },
  {
   "cell_type": "markdown",
   "metadata": {
    "collapsed": false,
    "ein.tags": "worksheet-0",
    "slideshow": {
     "slide_type": "-"
    }
   },
   "source": [
    "### Cursor\n",
    "\n",
    "Empecemos estudiando como agregar un indicador de la posición del cursor a un gráfico."
   ]
  },
  {
   "cell_type": "markdown",
   "metadata": {
    "collapsed": false,
    "ein.tags": "worksheet-0",
    "slideshow": {
     "slide_type": "-"
    }
   },
   "source": [
    "```python\n",
    "\n",
    "# Archivo: ejemplo_cursor.py\n",
    "\n",
    "from matplotlib.widgets import Cursor\n",
    "import numpy as np\n",
    "import matplotlib.pyplot as plt\n",
    "\n",
    "fig, ax = plt.subplots(figsize=(8,6))\n",
    "\n",
    "x, y = 4 * (np.random.rand(2, 100) - .5)\n",
    "ax.plot(x, y, 'o')\n",
    "ax.set_xlim(-2, 2)\n",
    "ax.set_ylim(-2, 2)\n",
    "\n",
    "# Usamos: useblit = True en el backed gtkagg\n",
    "cursor = Cursor(ax, useblit=True, color='red', linewidth=2)\n",
    "\n",
    "plt.show()\n",
    "```"
   ]
  },
  {
   "cell_type": "markdown",
   "metadata": {
    "collapsed": false,
    "ein.tags": "worksheet-0",
    "slideshow": {
     "slide_type": "-"
    }
   },
   "source": [
    "En este caso, el programa está escrito separadamente y lo podemos ejecutar desde la notebook (como en este caso) o desde una terminal independientemente.\n",
    "Para ejecutar un script en forma interactiva desde la *notebook* de *Jupyter* debemos setear el *backend* a una opción interactiva (que no es el valor por default en las notebooks). En este caso vamos a usar el backend *tk* "
   ]
  },
  {
   "cell_type": "code",
   "execution_count": null,
   "metadata": {},
   "outputs": [],
   "source": [
    "import numpy as np\n",
    "%matplotlib ipympl\n",
    "import matplotlib.pyplot as plt"
   ]
  },
  {
   "cell_type": "code",
   "execution_count": null,
   "metadata": {
    "autoscroll": false,
    "collapsed": false,
    "ein.hycell": false,
    "ein.tags": "worksheet-0",
    "slideshow": {
     "slide_type": "-"
    }
   },
   "outputs": [],
   "source": [
    "fig, ax = plt.subplots(figsize=(8,6))\n",
    "\n",
    "x, y = 4 * (np.random.rand(2, 100) - .5)\n",
    "ax.plot(x, y, 'o')\n",
    "ax.set_xlim(-2, 2)\n",
    "ax.set_ylim(-2, 2)"
   ]
  },
  {
   "cell_type": "code",
   "execution_count": null,
   "metadata": {
    "autoscroll": false,
    "collapsed": false,
    "ein.hycell": false,
    "ein.tags": "worksheet-0",
    "slideshow": {
     "slide_type": "-"
    }
   },
   "outputs": [],
   "source": [
    "%matplotlib tk\n",
    "import matplotlib.pyplot as plt\n",
    "%run scripts/ejemplo_cursor.py"
   ]
  },
  {
   "cell_type": "code",
   "execution_count": null,
   "metadata": {},
   "outputs": [],
   "source": [
    "from matplotlib.widgets import Cursor\n",
    "\n",
    "# Usamos: useblit = True en el backed gtkagg\n",
    "cursor = Cursor(ax, useblit=True, color='red', linewidth=2)\n",
    "\n",
    "plt.show()"
   ]
  },
  {
   "cell_type": "markdown",
   "metadata": {
    "collapsed": false,
    "ein.tags": "worksheet-0",
    "slideshow": {
     "slide_type": "-"
    }
   },
   "source": [
    "En este ejemplo simple conocemos casi todas las líneas (creamos la figura y graficamos). Las líneas novedosas y relevantes son\n",
    "\n",
    "1. La primera línea importando la función `Cursor()` para describir el *cursor* o *mouse*:\n",
    "```python\n",
    "from matplotlib.widgets import Cursor\n",
    "```\n",
    "2. La línea en que usamos la función `Cursor`\n",
    "  ```python\n",
    "  cursor = Cursor(ax, useblit=True, color='red', linewidth=2)\n",
    "  ```\n",
    "  que crea el objeto `Cursor`. La forma de esta función es:\n",
    "  \n",
    "  ```python\n",
    "  Cursor(ax, horizOn=True, vertOn=True, useblit=False, **lineprops)\n",
    "  ```\n",
    "  y toma como argumento el eje en el cuál agregamos el cursor. Como argumentos opcionales se puede controlar la visibilidad de la línea horizontal (`horizOn`) y vertical (`vertOn`) que pueden tomar valores lógicos `True` o `False`. Además tiene argumentos *keyword* para controlar la apariencia de las líneas. En este ejemplo pusimos explícitamente que queremos una línea roja con un grosor igual a `2`."
   ]
  },
  {
   "cell_type": "markdown",
   "metadata": {
    "collapsed": false,
    "ein.tags": "worksheet-0",
    "slideshow": {
     "slide_type": "-"
    }
   },
   "source": [
    "### Manejo de eventos\n",
    "\n",
    "Para que la interactividad sea útil es importante obtener datos de nuestra interacción con el gráfico. Esto se obtiene con lo que se llama \"manejo de eventos\" (\"Event handling\").\n",
    "\n",
    "Para recibir *events* necesitamos **escribir y conectar** una función que se activa cuando ocurre el evento (*callback*). Veamos un ejemplo simple pero importante, donde imprimimos las coordenadas donde se presiona el *mouse*."
   ]
  },
  {
   "attachments": {},
   "cell_type": "markdown",
   "metadata": {
    "collapsed": false,
    "ein.tags": "worksheet-0",
    "slideshow": {
     "slide_type": "-"
    }
   },
   "source": [
    "```python \n",
    "# Archivo: ejemplo_callback.py\n",
    "import numpy as np\n",
    "import matplotlib.pyplot as plt\n",
    "\n",
    "fig, ax = plt.subplots()\n",
    "ax.plot(np.random.rand(10), 'o-', lw=3)\n",
    "\n",
    "def onclick(event):\n",
    "  print('button=%d, x=%d, y=%d, xdata=%f, ydata=%f' % (event.button, event.x, event.y, event.xdata, event.ydata))\n",
    "\n",
    "cid = fig.canvas.mpl_connect('button_press_event', onclick)\n",
    "plt.show()\n",
    "```\n",
    "\n",
    "![](figuras/uso_callbacks1.png)"
   ]
  },
  {
   "cell_type": "markdown",
   "metadata": {
    "collapsed": false,
    "ein.tags": "worksheet-0",
    "slideshow": {
     "slide_type": "-"
    }
   },
   "source": [
    "En este ejemplo utilizamos el método `mpl_connect` del objeto `canvas`.\n",
    "\n",
    "- El objeto `canvas` es el área donde se dibuja la figura. \n",
    "- La función `mpl_connect` realiza la conección de la función (que aquí llamamos `onclick`) con la figura.\n",
    "  Esta función toma como argumento el *event* (que, para nosotros, es interpretado automaticamente por Matplotlib)\n",
    "\n",
    "- El objeto `event` es de tipo `button_press_event`. Se dispara cuando apretamos un botón del *mouse* y *matplotlib* le pasa como argumento un objeto del tipo `event` que contiene información. Nosotros estamos imprimiendo la siguiente información que contiene `event` por pantalla:\n",
    "  - `event.button`: indica que botón se presionó\n",
    "  - `event.x`, `event.y`: dan la información sobre el índice en los ejes horizontal y vertical\n",
    "  - `event.xdata, event.ydata`: dan los valores de los datos en los ejes.\n",
    "\n",
    "\n",
    "Puede leer más información sobre el manejo de eventos en http://matplotlib.org/users/event_handling.html.\n",
    "\n",
    "### Ejemplos integrados\n",
    "\n",
    "Continuando con esta idea vamos a usar la capacidad de poder interactuar con el gráfico para elegir una zona del gráfico de la cuál obtenemos información sobre los datos."
   ]
  },
  {
   "cell_type": "markdown",
   "metadata": {
    "collapsed": false,
    "ein.tags": "worksheet-0",
    "slideshow": {
     "slide_type": "-"
    }
   },
   "source": [
    "```python\n",
    "# Archivo: scripts/analizar_figura_1.py\n",
    "\n",
    "import matplotlib.pyplot as plt\n",
    "from matplotlib.widgets import Cursor\n",
    "\n",
    "img = plt.imread('../figuras/imagen_flujo_gray.jpg')\n",
    "ymax = img.max()\n",
    "\n",
    "def seleccionar(event):\n",
    "  \"\"\"Secuencia:\n",
    "  1. Encuentro el punto donde el mouse hizo 'click'\n",
    "  2. Le doy valores a la línea vertical\n",
    "  3. Le doy valores a la curva en el grafico de la derecha\n",
    "  4. y 5. Grafico los nuevos valores\n",
    "  \"\"\"\n",
    "  x0 = event.xdata\n",
    "  n0 = int(x0)\n",
    "  l1.set_data([[n0, n0], [0., 1.]])\n",
    "  l2.set_data(range(img.shape[0]), img[:, n0])\n",
    "  l1.figure.canvas.draw()\n",
    "  l2.figure.canvas.draw()\n",
    "\n",
    "\n",
    "# Defino la figura\n",
    "fig, (ax1, ax2) = plt.subplots(figsize=(12, 4), ncols=2)\n",
    "\n",
    "# Mostramos la imagen como un mapa de grises\n",
    "ax1.imshow(img, cmap='gray', interpolation='nearest')\n",
    "ax1.axis('off')\n",
    "\n",
    "# Agrego la línea inicial en un valor inicial\n",
    "x0 = 100\n",
    "l1 = ax1.axvline(x0, color='r', ls='--', lw=3)\n",
    "\n",
    "# Grafico de la derecha\n",
    "l2, = ax2.plot(img[:, x0], 'r-', lw=2, label='corte')\n",
    "ax2.set_ylim((0, ymax))\n",
    "ax2.set_xlabel(u'posición en eje $y$ (pixels)')\n",
    "ax2.set_ylabel('Intensidad')\n",
    "ax2.legend(loc='best')\n",
    "\n",
    "fig.tight_layout()\n",
    "\n",
    "# Agrego el cursor y conecto la accion de presionar a la funcion click\n",
    "cursor = Cursor(ax1, horizOn=False, vertOn=True, useblit=True,\n",
    "                color='blue', linewidth=1)\n",
    "fig.canvas.mpl_connect('button_press_event', seleccionar)\n",
    "\n",
    "plt.show()\n",
    "\n",
    "```\n"
   ]
  },
  {
   "cell_type": "code",
   "execution_count": 7,
   "metadata": {
    "autoscroll": false,
    "collapsed": false,
    "ein.hycell": false,
    "ein.tags": "worksheet-0",
    "slideshow": {
     "slide_type": "-"
    }
   },
   "outputs": [
    {
     "name": "stdout",
     "output_type": "stream",
     "text": [
      "/Users/flavioc/Library/Mobile Documents/com~apple~CloudDocs/Documents/cursos/Python/intro-python-IB/clases\n"
     ]
    },
    {
     "ename": "FileNotFoundError",
     "evalue": "[Errno 2] No such file or directory: '../figuras/imagen_flujo_gray.jpg'",
     "output_type": "error",
     "traceback": [
      "\u001b[0;31m---------------------------------------------------------------------------\u001b[0m",
      "\u001b[0;31mFileNotFoundError\u001b[0m                         Traceback (most recent call last)",
      "File \u001b[0;32m~/Library/Mobile Documents/com~apple~CloudDocs/Documents/cursos/Python/intro-python-IB/scripts/analizar_figura.py:4\u001b[0m, in \u001b[0;36m<module>\u001b[0;34m\u001b[0m\n\u001b[1;32m      1\u001b[0m \u001b[39mimport\u001b[39;00m \u001b[39mmatplotlib\u001b[39;00m\u001b[39m.\u001b[39;00m\u001b[39mpyplot\u001b[39;00m \u001b[39mas\u001b[39;00m \u001b[39mplt\u001b[39;00m\n\u001b[1;32m      2\u001b[0m \u001b[39mfrom\u001b[39;00m \u001b[39mmatplotlib\u001b[39;00m\u001b[39m.\u001b[39;00m\u001b[39mwidgets\u001b[39;00m \u001b[39mimport\u001b[39;00m Cursor\n\u001b[0;32m----> 4\u001b[0m img \u001b[39m=\u001b[39m plt\u001b[39m.\u001b[39;49mimread(\u001b[39m'\u001b[39;49m\u001b[39m../figuras/imagen_flujo_gray.jpg\u001b[39;49m\u001b[39m'\u001b[39;49m)\n\u001b[1;32m      5\u001b[0m ymax \u001b[39m=\u001b[39m img\u001b[39m.\u001b[39mmax()\n\u001b[1;32m      7\u001b[0m \u001b[39mdef\u001b[39;00m \u001b[39mseleccionar\u001b[39m(event):\n",
      "File \u001b[0;32m/opt/miniconda3/lib/python3.9/site-packages/matplotlib/pyplot.py:2139\u001b[0m, in \u001b[0;36mimread\u001b[0;34m(fname, format)\u001b[0m\n\u001b[1;32m   2137\u001b[0m \u001b[39m@_copy_docstring_and_deprecators\u001b[39m(matplotlib\u001b[39m.\u001b[39mimage\u001b[39m.\u001b[39mimread)\n\u001b[1;32m   2138\u001b[0m \u001b[39mdef\u001b[39;00m \u001b[39mimread\u001b[39m(fname, \u001b[39mformat\u001b[39m\u001b[39m=\u001b[39m\u001b[39mNone\u001b[39;00m):\n\u001b[0;32m-> 2139\u001b[0m     \u001b[39mreturn\u001b[39;00m matplotlib\u001b[39m.\u001b[39;49mimage\u001b[39m.\u001b[39;49mimread(fname, \u001b[39mformat\u001b[39;49m)\n",
      "File \u001b[0;32m/opt/miniconda3/lib/python3.9/site-packages/matplotlib/image.py:1560\u001b[0m, in \u001b[0;36mimread\u001b[0;34m(fname, format)\u001b[0m\n\u001b[1;32m   1558\u001b[0m                 response \u001b[39m=\u001b[39m io\u001b[39m.\u001b[39mBytesIO(response\u001b[39m.\u001b[39mread())\n\u001b[1;32m   1559\u001b[0m             \u001b[39mreturn\u001b[39;00m imread(response, \u001b[39mformat\u001b[39m\u001b[39m=\u001b[39mext)\n\u001b[0;32m-> 1560\u001b[0m \u001b[39mwith\u001b[39;00m img_open(fname) \u001b[39mas\u001b[39;00m image:\n\u001b[1;32m   1561\u001b[0m     \u001b[39mreturn\u001b[39;00m (_pil_png_to_float_array(image)\n\u001b[1;32m   1562\u001b[0m             \u001b[39mif\u001b[39;00m \u001b[39misinstance\u001b[39m(image, PIL\u001b[39m.\u001b[39mPngImagePlugin\u001b[39m.\u001b[39mPngImageFile) \u001b[39melse\u001b[39;00m\n\u001b[1;32m   1563\u001b[0m             pil_to_array(image))\n",
      "File \u001b[0;32m/opt/miniconda3/lib/python3.9/site-packages/PIL/Image.py:2953\u001b[0m, in \u001b[0;36mopen\u001b[0;34m(fp, mode, formats)\u001b[0m\n\u001b[1;32m   2950\u001b[0m     filename \u001b[39m=\u001b[39m fp\n\u001b[1;32m   2952\u001b[0m \u001b[39mif\u001b[39;00m filename:\n\u001b[0;32m-> 2953\u001b[0m     fp \u001b[39m=\u001b[39m builtins\u001b[39m.\u001b[39;49mopen(filename, \u001b[39m\"\u001b[39;49m\u001b[39mrb\u001b[39;49m\u001b[39m\"\u001b[39;49m)\n\u001b[1;32m   2954\u001b[0m     exclusive_fp \u001b[39m=\u001b[39m \u001b[39mTrue\u001b[39;00m\n\u001b[1;32m   2956\u001b[0m \u001b[39mtry\u001b[39;00m:\n",
      "\u001b[0;31mFileNotFoundError\u001b[0m: [Errno 2] No such file or directory: '../figuras/imagen_flujo_gray.jpg'"
     ]
    }
   ],
   "source": [
    "!pwd\n",
    "%matplotlib tk\n",
    "%run ../scripts/analizar_figura.py"
   ]
  },
  {
   "cell_type": "markdown",
   "metadata": {
    "collapsed": false,
    "ein.tags": "worksheet-0",
    "slideshow": {
     "slide_type": "-"
    }
   },
   "source": [
    "Este es un ejemplo un poco más largo (y un poquito más complejo).\n",
    "\n",
    "1. Importamos los módulos y funciones necesarias.\n",
    "  - `matplotlib.pyplot as plt` para casi todo\n",
    "  - `imageio` para leer la figura\n",
    "  - `from matplotlib.widgets import Cursor` para importar el objeto `Cursor` que nos muestra la posición del mouse.\n",
    "2. Leemos la imagen de archivo, creamos la figura y la mostramos.\n",
    "3. Elegimos un valor de $x$ inicial (igual a 100) y agregamos una línea vertical en ese punto.\n",
    "4. Creamos la figura de la derecha con los datos tomados de la columna correspondiente de la matriz que representa la imagen.\n",
    "6. Agregamos *labels* y ajustamos las distancias\n",
    "5. Mostramos el cursor y le conectamos el evento (standard) `button_press_event` a nuestra función `seleccionar()`.\n",
    "6. La función `seleccionar()` toma como argumento el evento que se dispara por interacción con el usuario.  \n",
    "El argumento `event` lo pasa automáticamente *Matplotlib*. En este caso es un *click* del mouse en una zona del gráfico.\n",
    "\n",
    "La función `seleccionar(event)`:\n",
    "1. Del argumento `event` extrae la posición en el eje horizontal y lo asigna a la variable `x0`.\n",
    "2. El índice en el eje horizontal (`n0`).\n",
    "2. Actualiza los datos de la línea `l1` con valores para la línea vertical en el panel izquierdo.\n",
    "4. Actualiza la línea `l2` en la figura de la derecha con el corte en `x0`.\n",
    "5. Actualiza el dibujo de las líneas sobre el *canvas*."
   ]
  },
  {
   "cell_type": "markdown",
   "metadata": {
    "collapsed": false,
    "ein.tags": "worksheet-0",
    "slideshow": {
     "slide_type": "-"
    }
   },
   "source": [
    "El siguiente ejemplo es muy similar al anterior. Sólo estamos actualizando la leyenda, para tener información del punto seleccionado."
   ]
  },
  {
   "cell_type": "code",
   "execution_count": null,
   "metadata": {
    "autoscroll": false,
    "collapsed": false,
    "ein.hycell": false,
    "ein.tags": "worksheet-0",
    "slideshow": {
     "slide_type": "-"
    }
   },
   "outputs": [],
   "source": [
    "%run scripts/analizar_figura_2.py"
   ]
  },
  {
   "cell_type": "markdown",
   "metadata": {
    "collapsed": false,
    "ein.tags": "worksheet-0",
    "slideshow": {
     "slide_type": "-"
    }
   },
   "source": [
    "```python\n",
    "# Archivo:analizar_figura_2.py\n",
    "import matplotlib.pyplot as plt\n",
    "from scipy import misc\n",
    "from matplotlib.widgets import Cursor\n",
    "\n",
    "img = plt.imread('../figuras/imagen_flujo_gray.jpg')\n",
    "ymax = img.max()\n",
    "\n",
    "\n",
    "def click(event):\n",
    "  \"\"\"Secuencia:\n",
    "  1. Encuentro el punto donde el mouse hizo 'click'\n",
    "  2. Le doy valores a la línea vertical\n",
    "  3. Le doy valores a la curva en el grafico de la derecha\n",
    "  4. y 5. Grafico los nuevos valores\n",
    "  \"\"\"\n",
    "  x0 = event.xdata\n",
    "  n0 = int(x0)\n",
    "  l1.set_data([[n0, n0], [0., 1.]])\n",
    "  l2.set_data(range(img.shape[0]), img[:, n0])\n",
    "  leg2.texts[0].set_text('corte en {:.1f}'.format(x0))\n",
    "  l1.figure.canvas.draw()\n",
    "  l2.figure.canvas.draw()\n",
    "\n",
    "\n",
    "# Defino la figura\n",
    "# Defino la figura\n",
    "fig, (ax1, ax2) = plt.subplots(figsize=(12, 4), ncols=2)\n",
    "\n",
    "ax1.imshow(img, cmap=\"gray\", interpolation='nearest')\n",
    "ax1.axis('off')\n",
    "# Agrego la línea inicial en un valor inicial\n",
    "x0 = 100\n",
    "l1 = ax1.axvline(x0, color='r', ls='--', lw=3)\n",
    "\n",
    "# Grafico de la derecha\n",
    "l2, = ax2.plot(img[:, x0], 'r-', lw=2, label='corte en {:.1f}'.format(x0))\n",
    "ax2.set_ylim((0, ymax))\n",
    "ax2.set_xlabel(u'posición en eje $y$ (pixels)')\n",
    "ax2.set_ylabel('Intensidad')\n",
    "leg2 = ax2.legend(loc='best')\n",
    "\n",
    "fig.tight_layout()\n",
    "\n",
    "# Agrego el cursor y conecto la accion de presionar a la funcion click\n",
    "cursor = Cursor(ax1, horizOn=False, vertOn=True, useblit=True,\n",
    "                color='blue', linewidth=1)\n",
    "fig.canvas.mpl_connect('button_press_event', click)\n",
    "\n",
    "plt.show()\n",
    "```"
   ]
  },
  {
   "cell_type": "markdown",
   "metadata": {
    "collapsed": false,
    "ein.tags": "worksheet-0",
    "slideshow": {
     "slide_type": "-"
    }
   },
   "source": [
    "Las diferencias más notables con el ejemplo anterior son:\n",
    "\n",
    "1. Al crear la leyenda, asignamos el objeto creado a la variable `leg2`, en la línea:\n",
    "  ```python\n",
    "  leg2 = ax2.legend(loc='best')\n",
    "  ```\n",
    "2. En la función `click(event)` (equivalente a `seleccionar(evento)` en el ejemplo anterior) actualizamos el texto de la leyenda con el valor de `x0`:\n",
    "  ```python\n",
    "  leg2.texts[0].set_text('corte en {:.1f}'.format(x0))\n",
    "  ```"
   ]
  },
  {
   "cell_type": "markdown",
   "metadata": {
    "collapsed": false,
    "ein.tags": "worksheet-0",
    "slideshow": {
     "slide_type": "-"
    }
   },
   "source": [
    "-----\n",
    "\n",
    "## Ejercicios 14 (c)\n",
    "\n",
    "4. Modificar el ejemplo anterior (**analizar_figura_2.py**) para presentar tres gráficos, agregando a la izquierda un panel donde se muestre el corte horizontal de la misma manera que en el ejercicio anterior. Al seleccionar con el *mouse* debe mostrar los dos cortes (horizontal y vertical).\n",
    "\n",
    "-----\n",
    "\n",
    "."
   ]
  }
 ],
 "metadata": {
  "kernelspec": {
   "argv": [
    "/usr/bin/python3",
    "-m",
    "ipykernel_launcher",
    "-f",
    "{connection_file}"
   ],
   "display_name": "Python 3",
   "env": null,
   "interrupt_mode": "signal",
   "language": "python",
   "metadata": null,
   "name": "python3"
  },
  "language_info": {
   "codemirror_mode": {
    "name": "ipython",
    "version": 3
   },
   "file_extension": ".py",
   "mimetype": "text/x-python",
   "name": "python",
   "nbconvert_exporter": "python",
   "pygments_lexer": "ipython3",
   "version": "3.9.5"
  },
  "name": "14_2_interactivo.ipynb",
  "toc": {
   "base_numbering": 1,
   "nav_menu": {
    "height": "197.667px",
    "width": "252px"
   },
   "number_sections": true,
   "sideBar": true,
   "skip_h1_title": false,
   "title_cell": "Contenidos",
   "title_sidebar": "Contenidos",
   "toc_cell": false,
   "toc_position": null,
   "toc_section_display": true,
   "toc_window_display": true
  }
 },
 "nbformat": 4,
 "nbformat_minor": 2
}
