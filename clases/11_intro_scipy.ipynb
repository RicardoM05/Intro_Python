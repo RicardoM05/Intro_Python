{
 "cells": [
  {
   "cell_type": "markdown",
   "metadata": {
    "ein.tags": "worksheet-0",
    "slideshow": {
     "slide_type": "-"
    }
   },
   "source": [
    "# Introducción al paquete Scipy  <a class=\"tocSkip\">\n",
    "\n",
    "El paquete **Scipy** es una colección de algoritmos y funciones construida sobre **Numpy** para facilitar cálculos y actividades relacionadas con el trabajo técnico/científico. \n"
   ]
  },
  {
   "cell_type": "markdown",
   "metadata": {
    "ein.tags": "worksheet-0",
    "slideshow": {
     "slide_type": "-"
    }
   },
   "source": [
    "## Una mirada rápida a Scipy\n",
    "\n",
    "La ayuda de scipy contiene (con `help(scipy)` entre otras cosas)\n",
    "\n",
    "\n",
    "    Contents\n",
    "    --------\n",
    "    SciPy imports all the functions from the NumPy namespace, and in\n",
    "    addition provides:\n",
    "    \n",
    "    Subpackages\n",
    "    -----------\n",
    "    Using any of these subpackages requires an explicit import.  For example,\n",
    "    ``import scipy.cluster``.\n",
    "    \n",
    "    ::\n",
    "    \n",
    "     cluster                      --- Vector Quantization / Kmeans\n",
    "     fftpack                      --- Discrete Fourier Transform algorithms\n",
    "     integrate                    --- Integration routines\n",
    "     interpolate                  --- Interpolation Tools\n",
    "     io                           --- Data input and output\n",
    "     linalg                       --- Linear algebra routines\n",
    "     linalg.blas                  --- Wrappers to BLAS library\n",
    "     linalg.lapack                --- Wrappers to LAPACK library\n",
    "     misc                         --- Various utilities that don't have\n",
    "                                      another home.\n",
    "     ndimage                      --- n-dimensional image package\n",
    "     odr                          --- Orthogonal Distance Regression\n",
    "     optimize                     --- Optimization Tools\n",
    "     signal                       --- Signal Processing Tools\n",
    "     sparse                       --- Sparse Matrices\n",
    "     sparse.linalg                --- Sparse Linear Algebra\n",
    "     sparse.linalg.dsolve         --- Linear Solvers\n",
    "     sparse.linalg.dsolve.umfpack --- :Interface to the UMFPACK library:\n",
    "                                      Conjugate Gradient Method (LOBPCG)\n",
    "     sparse.linalg.eigen          --- Sparse Eigenvalue Solvers\n",
    "     sparse.linalg.eigen.lobpcg   --- Locally Optimal Block Preconditioned\n",
    "                                      Conjugate Gradient Method (LOBPCG)\n",
    "     spatial                      --- Spatial data structures and algorithms\n",
    "     special                      --- Special functions\n",
    "     stats                        --- Statistical Functions\n",
    "     "
   ]
  },
  {
   "cell_type": "markdown",
   "metadata": {
    "ein.tags": "worksheet-0",
    "slideshow": {
     "slide_type": "-"
    }
   },
   "source": [
    "Más información puede encontrarse en la [documentación oficial de Scipy](https://docs.scipy.org/doc/scipy/reference)"
   ]
  },
  {
   "cell_type": "code",
   "execution_count": 1,
   "metadata": {
    "autoscroll": false,
    "ein.hycell": false,
    "ein.tags": "worksheet-0",
    "slideshow": {
     "slide_type": "-"
    }
   },
   "outputs": [],
   "source": [
    "import numpy as np\n",
    "import matplotlib.pyplot as plt\n",
    "%matplotlib inline"
   ]
  },
  {
   "cell_type": "markdown",
   "metadata": {
    "ein.tags": "worksheet-0",
    "slideshow": {
     "slide_type": "-"
    }
   },
   "source": [
    "## Funciones especiales\n",
    "\n",
    "En el submódulo `scipy.special` están definidas un número de funciones especiales. Una lista general de las funciones definidas (De cada tipo hay varias funciones) es:\n",
    "\n",
    "-  Airy functions\n",
    "-  Elliptic Functions and Integrals\n",
    "-  Bessel Functions\n",
    "-  Struve Functions\n",
    "-  Raw Statistical Functions\n",
    "-  Information Theory Functions\n",
    "-  Gamma and Related Functions\n",
    "-  Error Function and Fresnel Integrals\n",
    "-  Legendre Functions\n",
    "-  Ellipsoidal Harmonics\n",
    "-  Orthogonal polynomials\n",
    "-  Hypergeometric Functions\n",
    "-  Parabolic Cylinder Functions\n",
    "-  Mathieu and Related Functions\n",
    "-  Spheroidal Wave Functions\n",
    "-  Kelvin Functions\n",
    "-  Combinatorics\n",
    "-  Other Special Functions\n",
    "-  Convenience Functions\n",
    "\n"
   ]
  },
  {
   "cell_type": "code",
   "execution_count": 2,
   "metadata": {
    "autoscroll": false,
    "ein.hycell": false,
    "ein.tags": "worksheet-0",
    "slideshow": {
     "slide_type": "-"
    }
   },
   "outputs": [],
   "source": [
    "from scipy import special"
   ]
  },
  {
   "cell_type": "markdown",
   "metadata": {
    "ein.tags": "worksheet-0",
    "slideshow": {
     "slide_type": "-"
    }
   },
   "source": [
    "### Funciones de Bessel\n",
    "\n",
    "Las funciones de Bessel son soluciones de la ecuación diferencial:\n",
    "\n",
    "$$ x^2 \\frac{d^2 y}{dx^2} + x \\frac{dy}{dx} + (x^2 - \\nu^2)y = 0 . $$\n",
    "\n",
    "Para valores enteros de $\\nu$ se trata de una familia de funciones que aparecen como soluciones de problemas de propagación de ondas en problemas con simetría cilíndrica. \n"
   ]
  },
  {
   "cell_type": "code",
   "execution_count": 3,
   "metadata": {
    "autoscroll": false,
    "ein.hycell": false,
    "ein.tags": "worksheet-0",
    "slideshow": {
     "slide_type": "-"
    }
   },
   "outputs": [
    {
     "name": "stdout",
     "output_type": "stream",
     "text": [
      "jv(x1, x2, /, out=None, *, where=True, casting='same_kind', order='K', dtype=None, subok=True[, signature, extobj])\n",
      "\n",
      "jv(v, z)\n",
      "\n",
      "Bessel function of the first kind of real order and complex argument.\n",
      "\n",
      "Parameters\n",
      "----------\n",
      "v : array_like\n",
      "    Order (float).\n",
      "z : array_like\n",
      "    Argument (float or complex).\n",
      "\n",
      "Returns\n",
      "-------\n",
      "J : ndarray\n",
      "    Value of the Bessel function, :math:`J_v(z)`.\n",
      "\n",
      "Notes\n",
      "-----\n",
      "For positive `v` values, the computation is carried out using the AMOS\n",
      "[1]_ `zbesj` routine, which exploits the connection to the modified\n",
      "Bessel function :math:`I_v`,\n",
      "\n",
      ".. math::\n",
      "    J_v(z) = \\exp(v\\pi\\imath/2) I_v(-\\imath z)\\qquad (\\Im z > 0)\n",
      "\n",
      "    J_v(z) = \\exp(-v\\pi\\imath/2) I_v(\\imath z)\\qquad (\\Im z < 0)\n",
      "\n",
      "For negative `v` values the formula,\n",
      "\n",
      ".. math:: J_{-v}(z) = J_v(z) \\cos(\\pi v) - Y_v(z) \\sin(\\pi v)\n",
      "\n",
      "is used, where :math:`Y_v(z)` is the Bessel function of the second\n",
      "kind, computed using the AMOS routine `zbesy`.  Note that the second\n",
      "term is exactly zero for integer `v`; to improve accuracy the second\n",
      "term is explicitly omitted for `v` values such that `v = floor(v)`.\n",
      "\n",
      "Not to be confused with the spherical Bessel functions (see `spherical_jn`).\n",
      "\n",
      "See also\n",
      "--------\n",
      "jve : :math:`J_v` with leading exponential behavior stripped off.\n",
      "spherical_jn : spherical Bessel functions.\n",
      "\n",
      "References\n",
      "----------\n",
      ".. [1] Donald E. Amos, \"AMOS, A Portable Package for Bessel Functions\n",
      "       of a Complex Argument and Nonnegative Order\",\n",
      "       http://netlib.org/amos/\n"
     ]
    }
   ],
   "source": [
    "np.info(special.jv)"
   ]
  },
  {
   "cell_type": "code",
   "execution_count": 4,
   "metadata": {
    "autoscroll": false,
    "ein.hycell": false,
    "ein.tags": "worksheet-0",
    "slideshow": {
     "slide_type": "-"
    }
   },
   "outputs": [
    {
     "name": "stdout",
     "output_type": "stream",
     "text": [
      " jn_zeros(n, nt)\n",
      "\n",
      "Compute zeros of integer-order Bessel function Jn(x).\n",
      "\n",
      "Parameters\n",
      "----------\n",
      "n : int\n",
      "    Order of Bessel function\n",
      "nt : int\n",
      "    Number of zeros to return\n",
      "\n",
      "References\n",
      "----------\n",
      ".. [1] Zhang, Shanjie and Jin, Jianming. \"Computation of Special\n",
      "       Functions\", John Wiley and Sons, 1996, chapter 5.\n",
      "       https://people.sc.fsu.edu/~jburkardt/f_src/special_functions/special_functions.html\n"
     ]
    }
   ],
   "source": [
    "np.info(special.jn_zeros)"
   ]
  },
  {
   "cell_type": "code",
   "execution_count": 5,
   "metadata": {
    "autoscroll": false,
    "ein.hycell": false,
    "ein.tags": "worksheet-0",
    "slideshow": {
     "slide_type": "-"
    }
   },
   "outputs": [
    {
     "data": {
      "text/plain": [
       "array([ 7.58834243, 11.06470949, 14.37253667])"
      ]
     },
     "execution_count": 5,
     "metadata": {},
     "output_type": "execute_result"
    }
   ],
   "source": [
    "# Ceros de la función de Bessel\n",
    "# Los tres primeros valores de x en los cuales se anula la función de Bessel de orden 4.\n",
    "special.jn_zeros(4,3)"
   ]
  },
  {
   "cell_type": "code",
   "execution_count": 6,
   "metadata": {
    "autoscroll": false,
    "ein.hycell": false,
    "ein.tags": "worksheet-0",
    "slideshow": {
     "slide_type": "-"
    }
   },
   "outputs": [
    {
     "data": {
      "image/png": "[encoded data removed]",
      "text/plain": [
       "<Figure size 432x288 with 1 Axes>"
      ]
     },
     "metadata": {
      "needs_background": "light"
     },
     "output_type": "display_data"
    }
   ],
   "source": [
    "x = np.linspace(0, 16, 50)\n",
    "for n in range(0,8,2):\n",
    "  p= plt.plot(x, special.jn(n, x), label='$J_{}(x)$'.format(n))\n",
    "  z = special.jn_zeros(n, 6)\n",
    "  z = z[z < 15]\n",
    "  plt.plot(z, np.zeros(z.size), 'o', color= p[0].get_color())\n",
    "\n",
    "plt.legend(title='Funciones $J_n$ de Bessel', ncol=2);\n",
    "plt.grid(True)"
   ]
  },
  {
   "cell_type": "code",
   "execution_count": 7,
   "metadata": {
    "autoscroll": false,
    "ein.hycell": false,
    "ein.tags": "worksheet-0",
    "slideshow": {
     "slide_type": "-"
    }
   },
   "outputs": [
    {
     "name": "stdout",
     "output_type": "stream",
     "text": [
      "True\n",
      "True\n"
     ]
    }
   ],
   "source": [
    "# jn es otro nombre para jv\n",
    "print(special.jn == special.jv)\n",
    "print(special.jn is special.jv)"
   ]
  },
  {
   "cell_type": "markdown",
   "metadata": {
    "ein.tags": "worksheet-0",
    "slideshow": {
     "slide_type": "-"
    }
   },
   "source": [
    "Como vemos, hay funciones para calcular funciones de Bessel. Aquí mostramos los órdenes enteros pero también se pueden utilizar órdenes $\\nu$ reales. La lista de funciones de Bessel (puede obtenerse de la ayuda sobre `scipy.special`) es:\n",
    "\n",
    " - Bessel Functions\n",
    " - Zeros of Bessel Functions\n",
    " - Faster versions of common Bessel Functions\n",
    " - Integrals of Bessel Functions\n",
    " - Derivatives of Bessel Functions\n",
    " - Spherical Bessel Functions\n",
    " - Riccati-Bessel Functions\n",
    "\n",
    "Por ejemplo, podemos calcular las funciones esféricas de Bessel, que aparecen en problemas con simetría esférica:"
   ]
  },
  {
   "cell_type": "code",
   "execution_count": 8,
   "metadata": {
    "autoscroll": false,
    "ein.hycell": false,
    "ein.tags": "worksheet-0",
    "slideshow": {
     "slide_type": "-"
    }
   },
   "outputs": [
    {
     "data": {
      "image/png": "[encoded data removed]",
      "text/plain": [
       "<Figure size 432x288 with 1 Axes>"
      ]
     },
     "metadata": {
      "needs_background": "light"
     },
     "output_type": "display_data"
    }
   ],
   "source": [
    "x = np.linspace(0, 16, 50)\n",
    "for n in range(0,7,2):\n",
    "  p= plt.plot(x, special.spherical_jn(n, x), label='$j_{}(x)$'.format(n))\n",
    "plt.legend(title='Funciones esféricas de Bessel $j_n$', ncol=2);\n",
    "plt.grid(True)"
   ]
  },
  {
   "cell_type": "markdown",
   "metadata": {
    "ein.tags": "worksheet-0",
    "slideshow": {
     "slide_type": "-"
    }
   },
   "source": [
    "### Función Error\n",
    "\n",
    "La función error es el resultado de integrar una función Gaussiana\n",
    "\n",
    "$$ \\operatorname{erf}z=\\frac{2}{\\sqrt{\\pi}}\\int_{0}^{z}e^{-t^{2}}\\mathrm{d}t, $$\n",
    "\n",
    "mientras que las integrales seno y coseno de Fresnel están definidas por:\n",
    "\\begin{align*}\n",
    "\\operatorname{ssa}= \\int_{0}^{z} \\sin(\\pi/2  t^2) \\mathrm{d} t \\\\\n",
    "\\operatorname{csa}= \\int_{0}^{z} \\cos(\\pi/2  t^2) \\mathrm{d} t \n",
    "\\end{align*}"
   ]
  },
  {
   "cell_type": "code",
   "execution_count": 9,
   "metadata": {
    "autoscroll": false,
    "ein.hycell": false,
    "ein.tags": "worksheet-0",
    "slideshow": {
     "slide_type": "-"
    }
   },
   "outputs": [
    {
     "data": {
      "image/png": "[encoded data removed]",
      "text/plain": [
       "<Figure size 432x288 with 1 Axes>"
      ]
     },
     "metadata": {
      "needs_background": "light"
     },
     "output_type": "display_data"
    }
   ],
   "source": [
    "x = np.linspace(-3, 3,100)\n",
    "f = special.fresnel(x)\n",
    "plt.plot(x, special.erf(x),'-', label=r'$\\mathrm{erf}(x)$')\n",
    "plt.plot(x, f[0],'-', label=r'$\\mathrm{ssa}(x)$')\n",
    "plt.plot(x, f[1],'-', label=r'$\\mathrm{csa}(x)$')\n",
    "plt.xlabel('$x$')\n",
    "plt.ylabel('$f(x)$')\n",
    "plt.legend(loc='best')\n",
    "plt.grid(True)"
   ]
  },
  {
   "cell_type": "markdown",
   "metadata": {
    "ein.tags": "worksheet-0",
    "slideshow": {
     "slide_type": "-"
    }
   },
   "source": [
    "### Evaluación de polinomios ortogonales\n",
    "\n",
    "`Scipy.special` tiene funciones para evaluar eficientemente polinomios ortogonales\n",
    "\n",
    "Por ejemplo si queremos, evaluar los polinomios de Laguerre, solución de la ecuación diferencial:\n",
    "$$\n",
    "x\\frac{d^2}{dx^2}L_n + (1 - x)\\frac{d}{dx}L_n + nL_n = 0\n",
    "$$"
   ]
  },
  {
   "cell_type": "code",
   "execution_count": 10,
   "metadata": {
    "autoscroll": false,
    "ein.hycell": false,
    "ein.tags": "worksheet-0",
    "slideshow": {
     "slide_type": "-"
    }
   },
   "outputs": [
    {
     "data": {
      "image/png": "[encoded data removed]",
      "text/plain": [
       "<Figure size 432x288 with 1 Axes>"
      ]
     },
     "metadata": {
      "needs_background": "light"
     },
     "output_type": "display_data"
    }
   ],
   "source": [
    "x = np.linspace(-1, 1,100)\n",
    "for n in range(2,6):\n",
    "  plt.plot(x, special.eval_laguerre(n, x),'-', label=r'$n={}$'.format(n))\n",
    "plt.xlabel('$x$')\n",
    "plt.ylabel('$f(x)$')\n",
    "plt.legend(loc='best', ncol=2)\n",
    "plt.grid(True)"
   ]
  },
  {
   "cell_type": "markdown",
   "metadata": {
    "ein.tags": "worksheet-0",
    "slideshow": {
     "slide_type": "-"
    }
   },
   "source": [
    "Los polinomios de Chebyshev son solución de\n",
    "$$ (1 - x^2)\\frac{d^2}{dx^2}T_n - x\\frac{d}{dx}T_n + n^2T_n = 0$$"
   ]
  },
  {
   "cell_type": "code",
   "execution_count": 11,
   "metadata": {
    "autoscroll": false,
    "ein.hycell": false,
    "ein.tags": "worksheet-0",
    "slideshow": {
     "slide_type": "-"
    }
   },
   "outputs": [
    {
     "data": {
      "image/png": "[encoded data removed]",
      "text/plain": [
       "<Figure size 432x288 with 1 Axes>"
      ]
     },
     "metadata": {
      "needs_background": "light"
     },
     "output_type": "display_data"
    }
   ],
   "source": [
    "x = np.linspace(-1, 1,100)\n",
    "for n in range(2,6):\n",
    "  plt.plot(x, special.eval_chebyt(n, x),'-', label=r'$n={}$'.format(n))\n",
    "plt.xlabel('$x$')\n",
    "plt.ylabel('$f(x)$')\n",
    "plt.legend(loc='best', ncol=2)\n",
    "plt.ylim((-1.1,2))\n",
    "plt.grid(True)"
   ]
  },
  {
   "cell_type": "markdown",
   "metadata": {
    "ein.tags": "worksheet-0",
    "slideshow": {
     "slide_type": "-"
    }
   },
   "source": [
    "### Factorial, permutaciones y combinaciones\n",
    "\n",
    "Hay funciones para calcular varias funciones relacionadas con combinatoria\n",
    "\n",
    "La función `comb()` da el número de maneras de elegir `k` de un total de `N` elementos. Sin repeticiones está dada por:\n",
    "$$ \\frac{N!}{k! (N-k)!}$$\n",
    "mientras que si cada elemento puede repetirse, la fórmula es:\n",
    "$$ \\frac{(N+k-1)!}{k! (N-1)!}$$\n"
   ]
  },
  {
   "cell_type": "code",
   "execution_count": 12,
   "metadata": {
    "autoscroll": false,
    "ein.hycell": false,
    "ein.tags": "worksheet-0",
    "slideshow": {
     "slide_type": "-"
    }
   },
   "outputs": [],
   "source": [
    "N = 10\n",
    "k =np.arange(2,4)"
   ]
  },
  {
   "cell_type": "code",
   "execution_count": 13,
   "metadata": {
    "autoscroll": false,
    "ein.hycell": false,
    "ein.tags": "worksheet-0",
    "slideshow": {
     "slide_type": "-"
    }
   },
   "outputs": [
    {
     "data": {
      "text/plain": [
       "array([ 45., 120.])"
      ]
     },
     "execution_count": 13,
     "metadata": {},
     "output_type": "execute_result"
    }
   ],
   "source": [
    "special.comb(N, k)"
   ]
  },
  {
   "cell_type": "code",
   "execution_count": 14,
   "metadata": {
    "autoscroll": false,
    "ein.hycell": false,
    "ein.tags": "worksheet-0",
    "slideshow": {
     "slide_type": "-"
    }
   },
   "outputs": [
    {
     "data": {
      "text/plain": [
       "120"
      ]
     },
     "execution_count": 14,
     "metadata": {},
     "output_type": "execute_result"
    }
   ],
   "source": [
    "# Si usamos exact=True, k no puede ser un array\n",
    "special.comb(N,3,exact=True)"
   ]
  },
  {
   "cell_type": "code",
   "execution_count": 15,
   "metadata": {
    "autoscroll": false,
    "ein.hycell": false,
    "ein.tags": "worksheet-0",
    "slideshow": {
     "slide_type": "-"
    }
   },
   "outputs": [
    {
     "data": {
      "text/plain": [
       "array([ 55., 220.])"
      ]
     },
     "execution_count": 15,
     "metadata": {},
     "output_type": "execute_result"
    }
   ],
   "source": [
    "special.comb(N,k, repetition=True)"
   ]
  },
  {
   "cell_type": "markdown",
   "metadata": {
    "ein.tags": "worksheet-0",
    "slideshow": {
     "slide_type": "-"
    }
   },
   "source": [
    "El número de permutaciones se obtiene con la función `perm()`, y está dado por:\n",
    "$$ \\frac{N!}{(N-k)!}$$"
   ]
  },
  {
   "cell_type": "code",
   "execution_count": 16,
   "metadata": {
    "autoscroll": false,
    "ein.hycell": false,
    "ein.tags": "worksheet-0",
    "slideshow": {
     "slide_type": "-"
    }
   },
   "outputs": [
    {
     "data": {
      "text/plain": [
       "array([ 90., 720.])"
      ]
     },
     "execution_count": 16,
     "metadata": {},
     "output_type": "execute_result"
    }
   ],
   "source": [
    "special.perm(N,k)"
   ]
  },
  {
   "cell_type": "markdown",
   "metadata": {
    "ein.tags": "worksheet-0",
    "slideshow": {
     "slide_type": "-"
    }
   },
   "source": [
    "que corresponde a:\n",
    "$$ \\frac{10!}{(10-3)!} = 10 \\cdot 9 \\cdot 8 $$\n",
    "\n",
    "\n",
    "Los números factorial (N!) y doble factorial (N!!) son:"
   ]
  },
  {
   "cell_type": "code",
   "execution_count": 17,
   "metadata": {
    "autoscroll": false,
    "ein.hycell": false,
    "ein.tags": "worksheet-0",
    "slideshow": {
     "slide_type": "-"
    }
   },
   "outputs": [
    {
     "name": "stdout",
     "output_type": "stream",
     "text": [
      "[3 6 8]! = [6.000e+00 7.200e+02 4.032e+04]\n",
      "[3 6 8]!! = [  3.  48. 384.]\n"
     ]
    }
   ],
   "source": [
    "N= np.array([3,6,8])\n",
    "print(\"{}! = {}\".format(N, special.factorial(N)))\n",
    "print(\"{}!! = {}\".format(N, special.factorial2(N)))"
   ]
  },
  {
   "cell_type": "markdown",
   "metadata": {
    "ein.tags": "worksheet-0",
    "slideshow": {
     "slide_type": "-"
    }
   },
   "source": [
    "## Integración numérica"
   ]
  },
  {
   "cell_type": "markdown",
   "metadata": {
    "ein.tags": "worksheet-0",
    "slideshow": {
     "slide_type": "-"
    }
   },
   "source": [
    "Scipy tiene rutinas para integrar numéricamente funciones o tablas de datos. Por ejemplo para integrar funciones en la forma:\n",
    "$$I= \\int_{a}^{b} f(x)\\, dx $$\n",
    "la función más utilizada es `quad`, que llama a distintas rutinas del paquete **QUADPACK** dependiendo de los argumentos que toma. Entre los aspectos más notables está la posibilidad de elegir una función de peso entre un conjunto definido de funciones, y la posibilidad de elegir un dominio de integración finito o infinito."
   ]
  },
  {
   "cell_type": "code",
   "execution_count": 18,
   "metadata": {
    "autoscroll": false,
    "ein.hycell": false,
    "ein.tags": "worksheet-0",
    "slideshow": {
     "slide_type": "-"
    }
   },
   "outputs": [],
   "source": [
    "from scipy import integrate"
   ]
  },
  {
   "cell_type": "code",
   "execution_count": 19,
   "metadata": {
    "autoscroll": false,
    "ein.hycell": false,
    "ein.tags": "worksheet-0",
    "slideshow": {
     "slide_type": "-"
    }
   },
   "outputs": [],
   "source": [
    "x = np.linspace(0., 10, 100)"
   ]
  },
  {
   "cell_type": "code",
   "execution_count": 20,
   "metadata": {
    "autoscroll": false,
    "ein.hycell": false,
    "ein.tags": "worksheet-0",
    "slideshow": {
     "slide_type": "-"
    }
   },
   "outputs": [],
   "source": [
    "def f1(x):\n",
    "  return np.sin(x)*np.exp(-np.square(x+1)/10)"
   ]
  },
  {
   "cell_type": "code",
   "execution_count": 21,
   "metadata": {
    "autoscroll": false,
    "ein.hycell": false,
    "ein.tags": "worksheet-0",
    "slideshow": {
     "slide_type": "-"
    }
   },
   "outputs": [
    {
     "data": {
      "text/plain": [
       "[<matplotlib.lines.Line2D at 0x7f8f99ffb4d0>]"
      ]
     },
     "execution_count": 21,
     "metadata": {},
     "output_type": "execute_result"
    },
    {
     "data": {
      "image/png": "[encoded data removed]",
      "text/plain": [
       "<Figure size 432x288 with 1 Axes>"
      ]
     },
     "metadata": {
      "needs_background": "light"
     },
     "output_type": "display_data"
    }
   ],
   "source": [
    "plt.plot(x,f1(x))"
   ]
  },
  {
   "cell_type": "code",
   "execution_count": 22,
   "metadata": {
    "autoscroll": false,
    "ein.hycell": false,
    "ein.tags": "worksheet-0",
    "slideshow": {
     "slide_type": "-"
    }
   },
   "outputs": [
    {
     "data": {
      "text/plain": [
       "(0.34858491873298725, 3.870070028144515e-15)"
      ]
     },
     "execution_count": 22,
     "metadata": {},
     "output_type": "execute_result"
    }
   ],
   "source": [
    "integrate.quad(f1,0,1)"
   ]
  },
  {
   "cell_type": "code",
   "execution_count": 23,
   "metadata": {
    "autoscroll": false,
    "ein.hycell": false,
    "ein.tags": "worksheet-0",
    "slideshow": {
     "slide_type": "-"
    }
   },
   "outputs": [
    {
     "name": "stdout",
     "output_type": "stream",
     "text": [
      " quad(func, a, b, args=(), full_output=0, epsabs=1.49e-08, epsrel=1.49e-08,\n",
      "      limit=50, points=None, weight=None, wvar=None, wopts=None, maxp1=50,\n",
      "      limlst=50)\n",
      "\n",
      "Compute a definite integral.\n",
      "\n",
      "Integrate func from `a` to `b` (possibly infinite interval) using a\n",
      "technique from the Fortran library QUADPACK.\n",
      "\n",
      "Parameters\n",
      "----------\n",
      "func : {function, scipy.LowLevelCallable}\n",
      "    A Python function or method to integrate.  If `func` takes many\n",
      "    arguments, it is integrated along the axis corresponding to the\n",
      "    first argument.\n",
      "\n",
      "    If the user desires improved integration performance, then `f` may\n",
      "    be a `scipy.LowLevelCallable` with one of the signatures::\n",
      "\n",
      "        double func(double x)\n",
      "        double func(double x, void *user_data)\n",
      "        double func(int n, double *xx)\n",
      "        double func(int n, double *xx, void *user_data)\n",
      "\n",
      "    The ``user_data`` is the data contained in the `scipy.LowLevelCallable`.\n",
      "    In the call forms with ``xx``,  ``n`` is the length of the ``xx``\n",
      "    array which contains ``xx[0] == x`` and the rest of the items are\n",
      "    numbers contained in the ``args`` argument of quad.\n",
      "\n",
      "    In addition, certain ctypes call signatures are supported for\n",
      "    backward compatibility, but those should not be used in new code.\n",
      "a : float\n",
      "    Lower limit of integration (use -numpy.inf for -infinity).\n",
      "b : float\n",
      "    Upper limit of integration (use numpy.inf for +infinity).\n",
      "args : tuple, optional\n",
      "    Extra arguments to pass to `func`.\n",
      "full_output : int, optional\n",
      "    Non-zero to return a dictionary of integration information.\n",
      "    If non-zero, warning messages are also suppressed and the\n",
      "    message is appended to the output tuple.\n",
      "\n",
      "Returns\n",
      "-------\n",
      "y : float\n",
      "    The integral of func from `a` to `b`.\n",
      "abserr : float\n",
      "    An estimate of the absolute error in the result.\n",
      "infodict : dict\n",
      "    A dictionary containing additional information.\n",
      "    Run scipy.integrate.quad_explain() for more information.\n",
      "message\n",
      "    A convergence message.\n",
      "explain\n",
      "    Appended only with 'cos' or 'sin' weighting and infinite\n",
      "    integration limits, it contains an explanation of the codes in\n",
      "    infodict['ierlst']\n",
      "\n",
      "Other Parameters\n",
      "----------------\n",
      "epsabs : float or int, optional\n",
      "    Absolute error tolerance.\n",
      "epsrel : float or int, optional\n",
      "    Relative error tolerance.\n",
      "limit : float or int, optional\n",
      "    An upper bound on the number of subintervals used in the adaptive\n",
      "    algorithm.\n",
      "points : (sequence of floats,ints), optional\n",
      "    A sequence of break points in the bounded integration interval\n",
      "    where local difficulties of the integrand may occur (e.g.,\n",
      "    singularities, discontinuities). The sequence does not have\n",
      "    to be sorted.\n",
      "weight : float or int, optional\n",
      "    String indicating weighting function. Full explanation for this\n",
      "    and the remaining arguments can be found below.\n",
      "wvar : optional\n",
      "    Variables for use with weighting functions.\n",
      "wopts : optional\n",
      "    Optional input for reusing Chebyshev moments.\n",
      "maxp1 : float or int, optional\n",
      "    An upper bound on the number of Chebyshev moments.\n",
      "limlst : int, optional\n",
      "    Upper bound on the number of cycles (>=3) for use with a sinusoidal\n",
      "    weighting and an infinite end-point.\n",
      "\n",
      "See Also\n",
      "--------\n",
      "dblquad : double integral\n",
      "tplquad : triple integral\n",
      "nquad : n-dimensional integrals (uses `quad` recursively)\n",
      "fixed_quad : fixed-order Gaussian quadrature\n",
      "quadrature : adaptive Gaussian quadrature\n",
      "odeint : ODE integrator\n",
      "ode : ODE integrator\n",
      "simps : integrator for sampled data\n",
      "romb : integrator for sampled data\n",
      "scipy.special : for coefficients and roots of orthogonal polynomials\n",
      "\n",
      "Notes\n",
      "-----\n",
      "\n",
      "**Extra information for quad() inputs and outputs**\n",
      "\n",
      "If full_output is non-zero, then the third output argument\n",
      "(infodict) is a dictionary with entries as tabulated below.  For\n",
      "infinite limits, the range is transformed to (0,1) and the\n",
      "optional outputs are given with respect to this transformed range.\n",
      "Let M be the input argument limit and let K be infodict['last'].\n",
      "The entries are:\n",
      "\n",
      "'neval'\n",
      "    The number of function evaluations.\n",
      "'last'\n",
      "    The number, K, of subintervals produced in the subdivision process.\n",
      "'alist'\n",
      "    A rank-1 array of length M, the first K elements of which are the\n",
      "    left end points of the subintervals in the partition of the\n",
      "    integration range.\n",
      "'blist'\n",
      "    A rank-1 array of length M, the first K elements of which are the\n",
      "    right end points of the subintervals.\n",
      "'rlist'\n",
      "    A rank-1 array of length M, the first K elements of which are the\n",
      "    integral approximations on the subintervals.\n",
      "'elist'\n",
      "    A rank-1 array of length M, the first K elements of which are the\n",
      "    moduli of the absolute error estimates on the subintervals.\n",
      "'iord'\n",
      "    A rank-1 integer array of length M, the first L elements of\n",
      "    which are pointers to the error estimates over the subintervals\n",
      "    with ``L=K`` if ``K<=M/2+2`` or ``L=M+1-K`` otherwise. Let I be the\n",
      "    sequence ``infodict['iord']`` and let E be the sequence\n",
      "    ``infodict['elist']``.  Then ``E[I[1]], ..., E[I[L]]`` forms a\n",
      "    decreasing sequence.\n",
      "\n",
      "If the input argument points is provided (i.e. it is not None),\n",
      "the following additional outputs are placed in the output\n",
      "dictionary.  Assume the points sequence is of length P.\n",
      "\n",
      "'pts'\n",
      "    A rank-1 array of length P+2 containing the integration limits\n",
      "    and the break points of the intervals in ascending order.\n",
      "    This is an array giving the subintervals over which integration\n",
      "    will occur.\n",
      "'level'\n",
      "    A rank-1 integer array of length M (=limit), containing the\n",
      "    subdivision levels of the subintervals, i.e., if (aa,bb) is a\n",
      "    subinterval of ``(pts[1], pts[2])`` where ``pts[0]`` and ``pts[2]``\n",
      "    are adjacent elements of ``infodict['pts']``, then (aa,bb) has level l\n",
      "    if ``|bb-aa| = |pts[2]-pts[1]| * 2**(-l)``.\n",
      "'ndin'\n",
      "    A rank-1 integer array of length P+2.  After the first integration\n",
      "    over the intervals (pts[1], pts[2]), the error estimates over some\n",
      "    of the intervals may have been increased artificially in order to\n",
      "    put their subdivision forward.  This array has ones in slots\n",
      "    corresponding to the subintervals for which this happens.\n",
      "\n",
      "**Weighting the integrand**\n",
      "\n",
      "The input variables, *weight* and *wvar*, are used to weight the\n",
      "integrand by a select list of functions.  Different integration\n",
      "methods are used to compute the integral with these weighting\n",
      "functions.  The possible values of weight and the corresponding\n",
      "weighting functions are.\n",
      "\n",
      "==========  ===================================   =====================\n",
      "``weight``  Weight function used                  ``wvar``\n",
      "==========  ===================================   =====================\n",
      "'cos'       cos(w*x)                              wvar = w\n",
      "'sin'       sin(w*x)                              wvar = w\n",
      "'alg'       g(x) = ((x-a)**alpha)*((b-x)**beta)   wvar = (alpha, beta)\n",
      "'alg-loga'  g(x)*log(x-a)                         wvar = (alpha, beta)\n",
      "'alg-logb'  g(x)*log(b-x)                         wvar = (alpha, beta)\n",
      "'alg-log'   g(x)*log(x-a)*log(b-x)                wvar = (alpha, beta)\n",
      "'cauchy'    1/(x-c)                               wvar = c\n",
      "==========  ===================================   =====================\n",
      "\n",
      "wvar holds the parameter w, (alpha, beta), or c depending on the weight\n",
      "selected.  In these expressions, a and b are the integration limits.\n",
      "\n",
      "For the 'cos' and 'sin' weighting, additional inputs and outputs are\n",
      "available.\n",
      "\n",
      "For finite integration limits, the integration is performed using a\n",
      "Clenshaw-Curtis method which uses Chebyshev moments.  For repeated\n",
      "calculations, these moments are saved in the output dictionary:\n",
      "\n",
      "'momcom'\n",
      "    The maximum level of Chebyshev moments that have been computed,\n",
      "    i.e., if ``M_c`` is ``infodict['momcom']`` then the moments have been\n",
      "    computed for intervals of length ``|b-a| * 2**(-l)``,\n",
      "    ``l=0,1,...,M_c``.\n",
      "'nnlog'\n",
      "    A rank-1 integer array of length M(=limit), containing the\n",
      "    subdivision levels of the subintervals, i.e., an element of this\n",
      "    array is equal to l if the corresponding subinterval is\n",
      "    ``|b-a|* 2**(-l)``.\n",
      "'chebmo'\n",
      "    A rank-2 array of shape (25, maxp1) containing the computed\n",
      "    Chebyshev moments.  These can be passed on to an integration\n",
      "    over the same interval by passing this array as the second\n",
      "    element of the sequence wopts and passing infodict['momcom'] as\n",
      "    the first element.\n",
      "\n",
      "If one of the integration limits is infinite, then a Fourier integral is\n",
      "computed (assuming w neq 0).  If full_output is 1 and a numerical error\n",
      "is encountered, besides the error message attached to the output tuple,\n",
      "a dictionary is also appended to the output tuple which translates the\n",
      "error codes in the array ``info['ierlst']`` to English messages.  The\n",
      "output information dictionary contains the following entries instead of\n",
      "'last', 'alist', 'blist', 'rlist', and 'elist':\n",
      "\n",
      "'lst'\n",
      "    The number of subintervals needed for the integration (call it ``K_f``).\n",
      "'rslst'\n",
      "    A rank-1 array of length M_f=limlst, whose first ``K_f`` elements\n",
      "    contain the integral contribution over the interval\n",
      "    ``(a+(k-1)c, a+kc)`` where ``c = (2*floor(|w|) + 1) * pi / |w|``\n",
      "    and ``k=1,2,...,K_f``.\n",
      "'erlst'\n",
      "    A rank-1 array of length ``M_f`` containing the error estimate\n",
      "    corresponding to the interval in the same position in\n",
      "    ``infodict['rslist']``.\n",
      "'ierlst'\n",
      "    A rank-1 integer array of length ``M_f`` containing an error flag\n",
      "    corresponding to the interval in the same position in\n",
      "    ``infodict['rslist']``.  See the explanation dictionary (last entry\n",
      "    in the output tuple) for the meaning of the codes.\n",
      "\n",
      "Examples\n",
      "--------\n",
      "Calculate :math:`\\int^4_0 x^2 dx` and compare with an analytic result\n",
      "\n",
      ">>> from scipy import integrate\n",
      ">>> x2 = lambda x: x**2\n",
      ">>> integrate.quad(x2, 0, 4)\n",
      "(21.333333333333332, 2.3684757858670003e-13)\n",
      ">>> print(4**3 / 3.)  # analytical result\n",
      "21.3333333333\n",
      "\n",
      "Calculate :math:`\\int^\\infty_0 e^{-x} dx`\n",
      "\n",
      ">>> invexp = lambda x: np.exp(-x)\n",
      ">>> integrate.quad(invexp, 0, np.inf)\n",
      "(1.0, 5.842605999138044e-11)\n",
      "\n",
      ">>> f = lambda x,a : a*x\n",
      ">>> y, err = integrate.quad(f, 0, 1, args=(1,))\n",
      ">>> y\n",
      "0.5\n",
      ">>> y, err = integrate.quad(f, 0, 1, args=(3,))\n",
      ">>> y\n",
      "1.5\n",
      "\n",
      "Calculate :math:`\\int^1_0 x^2 + y^2 dx` with ctypes, holding\n",
      "y parameter as 1::\n",
      "\n",
      "    testlib.c =>\n",
      "        double func(int n, double args[n]){\n",
      "            return args[0]*args[0] + args[1]*args[1];}\n",
      "    compile to library testlib.*\n",
      "\n",
      "::\n",
      "\n",
      "   from scipy import integrate\n",
      "   import ctypes\n",
      "   lib = ctypes.CDLL('/home/.../testlib.*') #use absolute path\n",
      "   lib.func.restype = ctypes.c_double\n",
      "   lib.func.argtypes = (ctypes.c_int,ctypes.c_double)\n",
      "   integrate.quad(lib.func,0,1,(1))\n",
      "   #(1.3333333333333333, 1.4802973661668752e-14)\n",
      "   print((1.0**3/3.0 + 1.0) - (0.0**3/3.0 + 0.0)) #Analytic result\n",
      "   # 1.3333333333333333\n",
      "\n",
      "Be aware that pulse shapes and other sharp features as compared to the\n",
      "size of the integration interval may not be integrated correctly using\n",
      "this method. A simplified example of this limitation is integrating a\n",
      "y-axis reflected step function with many zero values within the integrals\n",
      "bounds.\n",
      "\n",
      ">>> y = lambda x: 1 if x<=0 else 0\n",
      ">>> integrate.quad(y, -1, 1)\n",
      "(1.0, 1.1102230246251565e-14)\n",
      ">>> integrate.quad(y, -1, 100)\n",
      "(1.0000000002199108, 1.0189464580163188e-08)\n",
      ">>> integrate.quad(y, -1, 10000)\n",
      "(0.0, 0.0)\n"
     ]
    }
   ],
   "source": [
    "np.info(integrate.quad)"
   ]
  },
  {
   "cell_type": "code",
   "execution_count": 24,
   "metadata": {
    "autoscroll": false,
    "ein.hycell": false,
    "ein.tags": "worksheet-0",
    "slideshow": {
     "slide_type": "-"
    }
   },
   "outputs": [
    {
     "data": {
      "text/plain": [
       "[((0, 1), 0.34858491873298725),\n",
       " ((0, 2), 0.8600106383901718),\n",
       " ((0, 3), 1.0438816972950689),\n",
       " ((0, 4), 1.0074874684274517)]"
      ]
     },
     "execution_count": 24,
     "metadata": {},
     "output_type": "execute_result"
    }
   ],
   "source": [
    "[((0, xmax), integrate.quad(f1,0,xmax)[0]) for xmax in np.arange(1,5)]"
   ]
  },
  {
   "cell_type": "markdown",
   "metadata": {
    "ein.tags": "worksheet-0",
    "slideshow": {
     "slide_type": "-"
    }
   },
   "source": [
    "La rutina devuelve dos valores. El primero es la estimación del valor de la integral y el segundo una estimación del **error absoluto** . Además, la función acepta límites de integración infinitos ($\\pm \\infty$, definidos en **Numpy**)"
   ]
  },
  {
   "cell_type": "code",
   "execution_count": 25,
   "metadata": {
    "autoscroll": false,
    "ein.hycell": false,
    "ein.tags": "worksheet-0",
    "slideshow": {
     "slide_type": "-"
    }
   },
   "outputs": [
    {
     "data": {
      "text/plain": [
       "(-0.3871487639489655, 5.459954581847885e-09)"
      ]
     },
     "execution_count": 25,
     "metadata": {},
     "output_type": "execute_result"
    }
   ],
   "source": [
    "integrate.quad(f1,-np.inf,np.inf)"
   ]
  },
  {
   "cell_type": "markdown",
   "metadata": {
    "ein.tags": "worksheet-0",
    "slideshow": {
     "slide_type": "-"
    }
   },
   "source": [
    "### Ejemplo de función fuertemente oscilatoria"
   ]
  },
  {
   "cell_type": "code",
   "execution_count": 26,
   "metadata": {
    "autoscroll": false,
    "ein.hycell": false,
    "ein.tags": "worksheet-0",
    "slideshow": {
     "slide_type": "-"
    }
   },
   "outputs": [],
   "source": [
    "k = 200\n",
    "L = 2*np.pi\n",
    "a = 0.1\n",
    "def f2(x):\n",
    "  return np.sin(k*x)*np.exp(-a*x)"
   ]
  },
  {
   "cell_type": "code",
   "execution_count": 27,
   "metadata": {
    "autoscroll": false,
    "ein.hycell": false,
    "ein.tags": "worksheet-0",
    "slideshow": {
     "slide_type": "-"
    }
   },
   "outputs": [
    {
     "name": "stdout",
     "output_type": "stream",
     "text": [
      "0.0023325601276845158\n"
     ]
    }
   ],
   "source": [
    "# Valor exacto de la integral\n",
    "I=k/a**2*(np.exp(-a*L)-1)/(1-k**2/a**2)\n",
    "print(I)"
   ]
  },
  {
   "cell_type": "code",
   "execution_count": 28,
   "metadata": {
    "autoscroll": false,
    "ein.hycell": false,
    "ein.tags": "worksheet-0",
    "slideshow": {
     "slide_type": "-"
    }
   },
   "outputs": [
    {
     "name": "stderr",
     "output_type": "stream",
     "text": [
      "/usr/lib/python3.7/site-packages/ipykernel_launcher.py:1: IntegrationWarning: The maximum number of subdivisions (50) has been achieved.\n",
      "  If increasing the limit yields no improvement it is advised to analyze \n",
      "  the integrand in order to determine the difficulties.  If the position of a \n",
      "  local difficulty can be determined (singularity, discontinuity) one will \n",
      "  probably gain from splitting up the interval and calling the integrator \n",
      "  on the subranges.  Perhaps a special-purpose integrator should be used.\n",
      "  \"\"\"Entry point for launching an IPython kernel.\n"
     ]
    }
   ],
   "source": [
    "Iq= integrate.quad(f2,0,L)"
   ]
  },
  {
   "cell_type": "code",
   "execution_count": 29,
   "metadata": {
    "autoscroll": false,
    "ein.hycell": false,
    "ein.tags": "worksheet-0",
    "slideshow": {
     "slide_type": "-"
    }
   },
   "outputs": [
    {
     "name": "stdout",
     "output_type": "stream",
     "text": [
      "I= -0.0043611 ± 0.019119\n",
      "Error relativo= 2.86965\n",
      "\n"
     ]
    }
   ],
   "source": [
    "I_err = (I-Iq[0])/I             # Error relativo con el valor exacto\n",
    "print(\"I= {:.5g} ± {:.5g}\\nError relativo= {:.6g}\\n\".format(*Iq, I_err))"
   ]
  },
  {
   "cell_type": "markdown",
   "metadata": {
    "ein.tags": "worksheet-0",
    "slideshow": {
     "slide_type": "-"
    }
   },
   "source": [
    "El error relativo entre el valor obtenido numéricamente y el valor exacto `I` es grande. Esto se debe a la naturaleza del integrando. Grafiquemos sólo una pequeña parte"
   ]
  },
  {
   "cell_type": "code",
   "execution_count": 30,
   "metadata": {
    "autoscroll": false,
    "ein.hycell": false,
    "ein.tags": "worksheet-0",
    "slideshow": {
     "slide_type": "-"
    }
   },
   "outputs": [
    {
     "data": {
      "text/plain": [
       "[<matplotlib.lines.Line2D at 0x7f8f99fe96d0>]"
      ]
     },
     "execution_count": 30,
     "metadata": {},
     "output_type": "execute_result"
    },
    {
     "data": {
      "image/png": "[encoded data removed]",
      "text/plain": [
       "<Figure size 432x288 with 1 Axes>"
      ]
     },
     "metadata": {
      "needs_background": "light"
     },
     "output_type": "display_data"
    }
   ],
   "source": [
    "x = np.linspace(0,L,1500)\n",
    "plt.plot(x, f2(x))"
   ]
  },
  {
   "cell_type": "code",
   "execution_count": 31,
   "metadata": {
    "autoscroll": false,
    "ein.hycell": false,
    "ein.tags": "worksheet-0",
    "slideshow": {
     "slide_type": "-"
    }
   },
   "outputs": [
    {
     "data": {
      "text/plain": [
       "[<matplotlib.lines.Line2D at 0x7f8f99f64090>]"
      ]
     },
     "execution_count": 31,
     "metadata": {},
     "output_type": "execute_result"
    },
    {
     "data": {
      "image/png": "[encoded data removed]",
      "text/plain": [
       "<Figure size 432x288 with 1 Axes>"
      ]
     },
     "metadata": {
      "needs_background": "light"
     },
     "output_type": "display_data"
    }
   ],
   "source": [
    "x = np.linspace(0,L/10,1500)\n",
    "plt.plot(x, f2(x))"
   ]
  },
  {
   "cell_type": "markdown",
   "metadata": {
    "ein.tags": "worksheet-0",
    "slideshow": {
     "slide_type": "-"
    }
   },
   "source": [
    "La rutina `quad` es versatil y tiene una opción específica para integrandos oscilatorios, que permite calcular las integrales de una función $f$ multiplicadas por una función oscilatoria\n",
    "$$I= \\int_{a}^{b} f(x)\\,weight( w x)\\, dx $$\n",
    "Para ello debemos usar el argumento `weight` y `wvar`. En este caso usaremos `weight='sin'`"
   ]
  },
  {
   "cell_type": "code",
   "execution_count": 32,
   "metadata": {
    "autoscroll": false,
    "ein.hycell": false,
    "ein.tags": "worksheet-0",
    "slideshow": {
     "slide_type": "-"
    }
   },
   "outputs": [],
   "source": [
    "# La función sin el factor oscilatorio:\n",
    "def f3(x):\n",
    "  return np.exp(-a*x)"
   ]
  },
  {
   "cell_type": "code",
   "execution_count": 33,
   "metadata": {
    "autoscroll": false,
    "ein.hycell": false,
    "ein.tags": "worksheet-0",
    "slideshow": {
     "slide_type": "-"
    }
   },
   "outputs": [],
   "source": [
    "Is= integrate.quad(f3,0,L, weight='sin', wvar=k)"
   ]
  },
  {
   "cell_type": "code",
   "execution_count": 34,
   "metadata": {
    "autoscroll": false,
    "ein.hycell": false,
    "ein.tags": "worksheet-0",
    "slideshow": {
     "slide_type": "-"
    }
   },
   "outputs": [
    {
     "name": "stdout",
     "output_type": "stream",
     "text": [
      "I= 0.0023326 ± 1.1788e-33\n",
      "Error relativo= 5e-07\n",
      "\n"
     ]
    }
   ],
   "source": [
    "I_err = (I-Is[0])/I             # Error relativo con el valor exacto \n",
    "print(\"I= {:.5g} ± {:.5g}\\nError relativo= {:.6g}\\n\".format(*Is, I_err))"
   ]
  },
  {
   "cell_type": "markdown",
   "metadata": {
    "ein.tags": "worksheet-0",
    "slideshow": {
     "slide_type": "-"
    }
   },
   "source": [
    "El error relativo obtenido respecto al valor exacto es varios órdenes de magnitud menor. Comparemos los tiempos de ejecución:"
   ]
  },
  {
   "cell_type": "code",
   "execution_count": 35,
   "metadata": {
    "autoscroll": false,
    "ein.hycell": false,
    "ein.tags": "worksheet-0",
    "slideshow": {
     "slide_type": "-"
    }
   },
   "outputs": [
    {
     "name": "stderr",
     "output_type": "stream",
     "text": [
      "/usr/lib/python3.7/site-packages/ipykernel_launcher.py:1: IntegrationWarning: The maximum number of subdivisions (50) has been achieved.\n",
      "  If increasing the limit yields no improvement it is advised to analyze \n",
      "  the integrand in order to determine the difficulties.  If the position of a \n",
      "  local difficulty can be determined (singularity, discontinuity) one will \n",
      "  probably gain from splitting up the interval and calling the integrator \n",
      "  on the subranges.  Perhaps a special-purpose integrator should be used.\n",
      "  \"\"\"Entry point for launching an IPython kernel.\n"
     ]
    },
    {
     "name": "stdout",
     "output_type": "stream",
     "text": [
      "11.1 ms ± 50 µs per loop (mean ± std. dev. of 7 runs, 100 loops each)\n"
     ]
    }
   ],
   "source": [
    "%timeit integrate.quad(f2,0,L)"
   ]
  },
  {
   "cell_type": "code",
   "execution_count": 36,
   "metadata": {
    "autoscroll": false,
    "ein.hycell": false,
    "ein.tags": "worksheet-0",
    "slideshow": {
     "slide_type": "-"
    }
   },
   "outputs": [
    {
     "name": "stdout",
     "output_type": "stream",
     "text": [
      "82.1 µs ± 626 ns per loop (mean ± std. dev. of 7 runs, 10000 loops each)\n"
     ]
    }
   ],
   "source": [
    "%timeit integrate.quad(f3,0,L, weight='sin', wvar=k)"
   ]
  },
  {
   "cell_type": "markdown",
   "metadata": {
    "ein.tags": "worksheet-0",
    "slideshow": {
     "slide_type": "-"
    }
   },
   "source": [
    "Usar un integrador más específico para el integrando no sólo nos da un mejor resultado sino que el tiempo de ejecución es más de 100 veces más corto."
   ]
  },
  {
   "cell_type": "markdown",
   "metadata": {
    "ein.tags": "worksheet-0",
    "slideshow": {
     "slide_type": "-"
    }
   },
   "source": [
    "### Funciones de más de una variable\n",
    "\n",
    "Consideremos el caso en que queremos integrar alguna función especial. Podemos usar Scipy para realizar la integración y para evaluar el integrando.  Como `special.jn` depende de dos variables, tenemos que crear una función intermedia que dependa sólo de la variable de integración"
   ]
  },
  {
   "cell_type": "code",
   "execution_count": 37,
   "metadata": {
    "autoscroll": false,
    "ein.hycell": false,
    "ein.tags": "worksheet-0",
    "slideshow": {
     "slide_type": "-"
    }
   },
   "outputs": [
    {
     "data": {
      "text/plain": [
       "(1.0670113039567362, 7.434789460651883e-14)"
      ]
     },
     "execution_count": 37,
     "metadata": {},
     "output_type": "execute_result"
    }
   ],
   "source": [
    "integrate.quad(lambda x: special.jn(0,x), 0 , 10)"
   ]
  },
  {
   "cell_type": "markdown",
   "metadata": {
    "ein.tags": "worksheet-0",
    "slideshow": {
     "slide_type": "-"
    }
   },
   "source": [
    "En realidad, la función `quad` permite el uso de argumentos que se le pasan a la función a integrar. La forma de llamar al integrador será en general:\n",
    "\n",
    "```python\n",
    "  quad(func, a, b, args=(), full_output=0, epsabs=1.49e-08, epsrel=1.49e-08,\n",
    "      limit=50, points=None, weight=None, wvar=None, wopts=None, maxp1=50,\n",
    "      limlst=50)\n",
    "  ```\n",
    "\n",
    "El argumento `args` debe ser una tupla, y contiene los argumentos extra que acepta la función a integrar, esta función debe llamarse en la forma `func(x, *args)`. O sea que siempre la integramos respecto a su primer argumento. Apliquemos esto a la función de Bessel. En este caso, la variable a integrar es el segundo argumento de `special.jn`, por lo que creamos una función con el orden correcto de argumentos:"
   ]
  },
  {
   "cell_type": "code",
   "execution_count": 38,
   "metadata": {
    "autoscroll": false,
    "ein.hycell": false,
    "ein.tags": "worksheet-0",
    "slideshow": {
     "slide_type": "-"
    }
   },
   "outputs": [],
   "source": [
    "def bessel_n(x, n):\n",
    "  return special.jn(n,x)"
   ]
  },
  {
   "cell_type": "code",
   "execution_count": 39,
   "metadata": {
    "autoscroll": false,
    "ein.hycell": false,
    "ein.tags": "worksheet-0",
    "slideshow": {
     "slide_type": "-"
    }
   },
   "outputs": [
    {
     "data": {
      "text/plain": [
       "(1.0670113039567362, 7.434789460651883e-14)"
      ]
     },
     "execution_count": 39,
     "metadata": {},
     "output_type": "execute_result"
    }
   ],
   "source": [
    "integrate.quad(bessel_n, 0, 10, args=(0,))"
   ]
  },
  {
   "cell_type": "code",
   "execution_count": 40,
   "metadata": {
    "autoscroll": false,
    "ein.hycell": false,
    "ein.tags": "worksheet-0",
    "slideshow": {
     "slide_type": "-"
    }
   },
   "outputs": [
    {
     "name": "stdout",
     "output_type": "stream",
     "text": [
      "n    \\int_0^10  J_n(x) dx\n",
      "0 :  1.0670113039567362\n",
      "1 :  1.2459357644513482\n",
      "2 :  0.9800658116190144\n",
      "3 :  0.7366751370811073\n",
      "4 :  0.8633070530086401\n",
      "5 :  1.1758805092851239\n"
     ]
    }
   ],
   "source": [
    "print('n    \\int_0^10  J_n(x) dx')\n",
    "for n in range(6):\n",
    "  print(n,': ', integrate.quad(bessel_n, 0, 10, args=(n,))[0])"
   ]
  },
  {
   "cell_type": "markdown",
   "metadata": {
    "ein.tags": "worksheet-0",
    "slideshow": {
     "slide_type": "-"
    }
   },
   "source": [
    "## Álgebra lineal"
   ]
  },
  {
   "cell_type": "markdown",
   "metadata": {
    "ein.tags": "worksheet-0",
    "slideshow": {
     "slide_type": "-"
    }
   },
   "source": [
    "El módulo de álgebra lineal se solapa un poco con funciones similares en **Numpy**. Ambos usan finalmente una implementación de bibliotecas conocidas (LAPACK, BLAS). La diferencia es que **Scipy** asegura que utiliza las optimizaciones de la librería ATLAS y presenta algunos métodos y algoritmos que no están presentes en **Numpy**. \n",
    "\n",
    "Una de las aplicaciones más conocidas por nosotros es la rotación de vectores. Como bien sabemos rotar un vector es equivalente a multiplicarlo por la matriz de rotación correspondiente. Esquemáticamente:\n",
    "\n",
    "\n",
    "![](https://imgs.xkcd.com/comics/matrix_transform.png)"
   ]
  },
  {
   "cell_type": "code",
   "execution_count": 41,
   "metadata": {
    "autoscroll": false,
    "ein.hycell": false,
    "ein.tags": "worksheet-0",
    "slideshow": {
     "slide_type": "-"
    }
   },
   "outputs": [],
   "source": [
    "from scipy import linalg"
   ]
  },
  {
   "cell_type": "markdown",
   "metadata": {
    "ein.tags": "worksheet-0",
    "slideshow": {
     "slide_type": "-"
    }
   },
   "source": [
    "Este módulo tiene funciones para trabajar con matrices, descriptas como *arrays* bidimensionales."
   ]
  },
  {
   "cell_type": "code",
   "execution_count": 42,
   "metadata": {
    "autoscroll": false,
    "ein.hycell": false,
    "ein.tags": "worksheet-0",
    "slideshow": {
     "slide_type": "-"
    }
   },
   "outputs": [
    {
     "name": "stdout",
     "output_type": "stream",
     "text": [
      "[[ 3.   2.   1. ]\n",
      " [ 6.   4.   1. ]\n",
      " [12.   8.  13.3]]\n"
     ]
    }
   ],
   "source": [
    "arr = np.array([[3, 2,1],[6, 4,1],[12, 8, 13.3]])\n",
    "print(arr)"
   ]
  },
  {
   "cell_type": "code",
   "execution_count": 43,
   "metadata": {
    "autoscroll": false,
    "ein.hycell": false,
    "ein.tags": "worksheet-0",
    "slideshow": {
     "slide_type": "-"
    }
   },
   "outputs": [
    {
     "name": "stdout",
     "output_type": "stream",
     "text": [
      "[[ 1 -2 -3]\n",
      " [ 1 -1 -1]\n",
      " [-1  3  1]]\n"
     ]
    }
   ],
   "source": [
    "A = np.array([[1, -2,-3],[1, -1,-1],[-1, 3, 1]])\n",
    "print(A)"
   ]
  },
  {
   "cell_type": "code",
   "execution_count": 44,
   "metadata": {
    "autoscroll": false,
    "ein.hycell": false,
    "ein.tags": "worksheet-0",
    "slideshow": {
     "slide_type": "-"
    }
   },
   "outputs": [
    {
     "data": {
      "text/plain": [
       "array([[ 1,  1, -1],\n",
       "       [-2, -1,  3],\n",
       "       [-3, -1,  1]])"
      ]
     },
     "execution_count": 44,
     "metadata": {},
     "output_type": "execute_result"
    }
   ],
   "source": [
    "# La matriz transpuesta\n",
    "A.T"
   ]
  },
  {
   "cell_type": "markdown",
   "metadata": {
    "ein.tags": "worksheet-0",
    "slideshow": {
     "slide_type": "-"
    }
   },
   "source": [
    "### Productos y normas\n",
    "\n",
    "#### Norma de un vector\n",
    "\n",
    "La norma está dada por\n",
    "$$||v|| = \\sqrt{v_1^2+...+v_n^2}$$ "
   ]
  },
  {
   "cell_type": "code",
   "execution_count": 45,
   "metadata": {
    "autoscroll": false,
    "ein.hycell": false,
    "ein.tags": "worksheet-0",
    "slideshow": {
     "slide_type": "-"
    }
   },
   "outputs": [
    {
     "data": {
      "text/plain": [
       "3.7416573867739413"
      ]
     },
     "execution_count": 45,
     "metadata": {},
     "output_type": "execute_result"
    }
   ],
   "source": [
    "v = np.array([2,1,3])\n",
    "linalg.norm(v)                  # Norma"
   ]
  },
  {
   "cell_type": "code",
   "execution_count": 46,
   "metadata": {
    "autoscroll": false,
    "ein.hycell": false,
    "ein.tags": "worksheet-0",
    "slideshow": {
     "slide_type": "-"
    }
   },
   "outputs": [
    {
     "data": {
      "text/plain": [
       "True"
      ]
     },
     "execution_count": 46,
     "metadata": {},
     "output_type": "execute_result"
    }
   ],
   "source": [
    "linalg.norm(v) == np.sqrt(np.sum(np.square(v)))"
   ]
  },
  {
   "cell_type": "markdown",
   "metadata": {
    "ein.tags": "worksheet-0",
    "slideshow": {
     "slide_type": "-"
    }
   },
   "source": [
    "#### Producto interno\n",
    "\n",
    "El producto entre una matriz y un vector está definido en **Numpy** mediante la función `dot()`"
   ]
  },
  {
   "cell_type": "code",
   "execution_count": 47,
   "metadata": {
    "autoscroll": false,
    "ein.hycell": false,
    "ein.tags": "worksheet-0",
    "slideshow": {
     "slide_type": "-"
    }
   },
   "outputs": [
    {
     "data": {
      "text/plain": [
       "array([-9, -2,  4])"
      ]
     },
     "execution_count": 47,
     "metadata": {},
     "output_type": "execute_result"
    }
   ],
   "source": [
    "w1 = np.dot(A, v)                # Multiplicación de matrices\n",
    "w1"
   ]
  },
  {
   "cell_type": "code",
   "execution_count": 48,
   "metadata": {
    "autoscroll": false,
    "ein.hycell": false,
    "ein.tags": "worksheet-0",
    "slideshow": {
     "slide_type": "-"
    }
   },
   "outputs": [
    {
     "data": {
      "text/plain": [
       "array([ 0,  4, -4])"
      ]
     },
     "execution_count": 48,
     "metadata": {},
     "output_type": "execute_result"
    }
   ],
   "source": [
    "w2 = np.dot(v,  A)\n",
    "w2"
   ]
  },
  {
   "cell_type": "code",
   "execution_count": 49,
   "metadata": {
    "autoscroll": false,
    "ein.hycell": false,
    "ein.tags": "worksheet-0",
    "slideshow": {
     "slide_type": "-"
    }
   },
   "outputs": [
    {
     "data": {
      "text/plain": [
       "array([ 0,  4, -4])"
      ]
     },
     "execution_count": 49,
     "metadata": {},
     "output_type": "execute_result"
    }
   ],
   "source": [
    "np.dot(v.T,  A)\n"
   ]
  },
  {
   "cell_type": "code",
   "execution_count": 50,
   "metadata": {
    "autoscroll": false,
    "ein.hycell": false,
    "ein.tags": "worksheet-0",
    "slideshow": {
     "slide_type": "-"
    }
   },
   "outputs": [
    {
     "name": "stdout",
     "output_type": "stream",
     "text": [
      "(3,) (3, 3)\n"
     ]
    }
   ],
   "source": [
    "print(v.shape, A.shape)"
   ]
  },
  {
   "cell_type": "markdown",
   "metadata": {
    "ein.tags": "worksheet-0",
    "slideshow": {
     "slide_type": "-"
    }
   },
   "source": [
    "El producto interno entre vectores se calcula de la misma manera\n",
    "$$ \\langle v, w \\rangle$$"
   ]
  },
  {
   "cell_type": "code",
   "execution_count": 51,
   "metadata": {
    "autoscroll": false,
    "ein.hycell": false,
    "ein.tags": "worksheet-0",
    "slideshow": {
     "slide_type": "-"
    }
   },
   "outputs": [
    {
     "data": {
      "text/plain": [
       "-8"
      ]
     },
     "execution_count": 51,
     "metadata": {},
     "output_type": "execute_result"
    }
   ],
   "source": [
    "np.dot(v,w1)"
   ]
  },
  {
   "cell_type": "markdown",
   "metadata": {
    "ein.tags": "worksheet-0",
    "slideshow": {
     "slide_type": "-"
    }
   },
   "source": [
    "y está relacionado con la norma\n",
    "$$||v|| = \\sqrt{ \\langle v, v \\rangle}$$"
   ]
  },
  {
   "cell_type": "code",
   "execution_count": 52,
   "metadata": {
    "autoscroll": false,
    "ein.hycell": false,
    "ein.tags": "worksheet-0",
    "slideshow": {
     "slide_type": "-"
    }
   },
   "outputs": [
    {
     "data": {
      "text/plain": [
       "True"
      ]
     },
     "execution_count": 52,
     "metadata": {},
     "output_type": "execute_result"
    }
   ],
   "source": [
    "linalg.norm(v) == np.sqrt(np.dot(v,v))"
   ]
  },
  {
   "cell_type": "code",
   "execution_count": 53,
   "metadata": {
    "autoscroll": false,
    "ein.hycell": false,
    "ein.tags": "worksheet-0",
    "slideshow": {
     "slide_type": "-"
    }
   },
   "outputs": [
    {
     "data": {
      "text/plain": [
       "array([ 0,  4, -4])"
      ]
     },
     "execution_count": 53,
     "metadata": {},
     "output_type": "execute_result"
    }
   ],
   "source": [
    "np.dot(v,A)"
   ]
  },
  {
   "cell_type": "code",
   "execution_count": 54,
   "metadata": {
    "autoscroll": false,
    "ein.hycell": false,
    "ein.tags": "worksheet-0",
    "slideshow": {
     "slide_type": "-"
    }
   },
   "outputs": [
    {
     "data": {
      "text/plain": [
       "(3,)"
      ]
     },
     "execution_count": 54,
     "metadata": {},
     "output_type": "execute_result"
    }
   ],
   "source": [
    "v.shape"
   ]
  },
  {
   "cell_type": "code",
   "execution_count": 56,
   "metadata": {
    "autoscroll": false,
    "ein.hycell": false,
    "ein.tags": "worksheet-0",
    "slideshow": {
     "slide_type": "-"
    }
   },
   "outputs": [],
   "source": [
    "v2 = np.reshape(v, (3,1))"
   ]
  },
  {
   "cell_type": "code",
   "execution_count": 57,
   "metadata": {
    "autoscroll": false,
    "ein.hycell": false,
    "ein.tags": "worksheet-0",
    "slideshow": {
     "slide_type": "-"
    }
   },
   "outputs": [
    {
     "data": {
      "text/plain": [
       "(3, 1)"
      ]
     },
     "execution_count": 57,
     "metadata": {},
     "output_type": "execute_result"
    }
   ],
   "source": [
    "v2.shape"
   ]
  },
  {
   "cell_type": "code",
   "execution_count": 58,
   "metadata": {
    "autoscroll": false,
    "ein.hycell": false,
    "ein.tags": "worksheet-0",
    "slideshow": {
     "slide_type": "-"
    }
   },
   "outputs": [
    {
     "data": {
      "text/plain": [
       "array([[-9],\n",
       "       [-2],\n",
       "       [ 4]])"
      ]
     },
     "execution_count": 58,
     "metadata": {},
     "output_type": "execute_result"
    }
   ],
   "source": [
    "np.dot(A, v2)"
   ]
  },
  {
   "cell_type": "code",
   "execution_count": 59,
   "metadata": {
    "autoscroll": false,
    "ein.hycell": false,
    "ein.tags": "worksheet-0",
    "slideshow": {
     "slide_type": "-"
    }
   },
   "outputs": [
    {
     "data": {
      "text/plain": [
       "(3, 1)"
      ]
     },
     "execution_count": 59,
     "metadata": {},
     "output_type": "execute_result"
    }
   ],
   "source": [
    "np.dot(A, v2).shape"
   ]
  },
  {
   "cell_type": "markdown",
   "metadata": {
    "ein.tags": "worksheet-0",
    "slideshow": {
     "slide_type": "-"
    }
   },
   "source": [
    "Ahora las dimensiones de `v2` y `A` no coinciden para hacer el producto matricial\n",
    "```python\n",
    "np.dot(v2, A)\n",
    "```\n",
    "\n",
    "En versiones nuevas de Python la multiplicación de matrices puede realizarse con el operador `@`"
   ]
  },
  {
   "cell_type": "code",
   "execution_count": 60,
   "metadata": {
    "autoscroll": false,
    "ein.hycell": false,
    "ein.tags": "worksheet-0",
    "slideshow": {
     "slide_type": "-"
    }
   },
   "outputs": [
    {
     "ename": "ValueError",
     "evalue": "shapes (3,1) and (3,3) not aligned: 1 (dim 1) != 3 (dim 0)",
     "output_type": "error",
     "traceback": [
      "\u001b[0;31m---------------------------------------------------------------------------\u001b[0m",
      "\u001b[0;31mValueError\u001b[0m                                Traceback (most recent call last)",
      "\u001b[0;32m<ipython-input-60-c31ca8fbc4d7>\u001b[0m in \u001b[0;36m<module>\u001b[0;34m\u001b[0m\n\u001b[0;32m----> 1\u001b[0;31m \u001b[0mnp\u001b[0m\u001b[0;34m.\u001b[0m\u001b[0mdot\u001b[0m\u001b[0;34m(\u001b[0m \u001b[0mv2\u001b[0m\u001b[0;34m,\u001b[0m\u001b[0mA\u001b[0m\u001b[0;34m)\u001b[0m\u001b[0;34m\u001b[0m\u001b[0;34m\u001b[0m\u001b[0m\n\u001b[0m",
      "\u001b[0;32m<__array_function__ internals>\u001b[0m in \u001b[0;36mdot\u001b[0;34m(*args, **kwargs)\u001b[0m\n",
      "\u001b[0;31mValueError\u001b[0m: shapes (3,1) and (3,3) not aligned: 1 (dim 1) != 3 (dim 0)"
     ]
    }
   ],
   "source": [
    "np.dot( v2,A)"
   ]
  },
  {
   "cell_type": "code",
   "execution_count": 61,
   "metadata": {
    "autoscroll": false,
    "ein.hycell": false,
    "ein.tags": "worksheet-0",
    "slideshow": {
     "slide_type": "-"
    }
   },
   "outputs": [
    {
     "data": {
      "text/plain": [
       "array([[-9],\n",
       "       [-2],\n",
       "       [ 4]])"
      ]
     },
     "execution_count": 61,
     "metadata": {},
     "output_type": "execute_result"
    }
   ],
   "source": [
    "A @ v2"
   ]
  },
  {
   "cell_type": "code",
   "execution_count": 62,
   "metadata": {
    "autoscroll": false,
    "ein.hycell": false,
    "ein.tags": "worksheet-0",
    "slideshow": {
     "slide_type": "-"
    }
   },
   "outputs": [],
   "source": [
    "v3 = np.dot(v2.T, A)"
   ]
  },
  {
   "cell_type": "code",
   "execution_count": 63,
   "metadata": {
    "autoscroll": false,
    "ein.hycell": false,
    "ein.tags": "worksheet-0",
    "slideshow": {
     "slide_type": "-"
    }
   },
   "outputs": [
    {
     "name": "stdout",
     "output_type": "stream",
     "text": [
      "[[ 0  4 -4]]\n"
     ]
    },
    {
     "data": {
      "text/plain": [
       "(1, 3)"
      ]
     },
     "execution_count": 63,
     "metadata": {},
     "output_type": "execute_result"
    }
   ],
   "source": [
    "print(v3)\n",
    "v3.shape"
   ]
  },
  {
   "cell_type": "markdown",
   "metadata": {
    "ein.tags": "worksheet-0",
    "slideshow": {
     "slide_type": "-"
    }
   },
   "source": [
    "Notemos que el producto interno se puede pensar como un producto de matrices. En este caso, el producto de una matriz de 3x1, por otra de 1x3:\n",
    "\n",
    "$$ v^{t} \\, w = \\begin{pmatrix} -9&-2&4 \\end{pmatrix} \\begin{pmatrix} 2\\\\1\\\\3 \\end{pmatrix} $$\n",
    "\n",
    "donde estamos pensando al vector como columna.\n",
    "\n",
    "#### Producto exterior\n",
    "\n",
    "El producto exterior puede ponerse en términos de multiplicación de matrices como\n",
    "$$v\\otimes w = vw^{t} = \\begin{pmatrix} -9\\\\-2\\\\4 \\end{pmatrix} \\begin{pmatrix} 2&1&3 \\end{pmatrix}$$"
   ]
  },
  {
   "cell_type": "code",
   "execution_count": 64,
   "metadata": {
    "autoscroll": false,
    "ein.hycell": false,
    "ein.tags": "worksheet-0",
    "slideshow": {
     "slide_type": "-"
    }
   },
   "outputs": [
    {
     "name": "stdout",
     "output_type": "stream",
     "text": [
      "[[-18  -4   8]\n",
      " [ -9  -2   4]\n",
      " [-27  -6  12]]\n"
     ]
    }
   ],
   "source": [
    "oprod = np.outer(v,w1)\n",
    "print(oprod)"
   ]
  },
  {
   "cell_type": "markdown",
   "metadata": {
    "ein.tags": "worksheet-0",
    "slideshow": {
     "slide_type": "-"
    }
   },
   "source": [
    "### Aplicación a la resolución de sistemas de ecuaciones\n",
    "\n",
    "Vamos a usar `scipy.linalg` permite obtener determinantes e inversas de matrices. Vamos a usarlo para resolver un sistema de ecuaciones lineales:\n",
    "\n",
    "$$\n",
    "\\left\\{\n",
    "\\begin{array}{rl}\n",
    "a_{11} x_1 + a_{12} x_2 + a_{13} x_3 &= b_1 \\\\\n",
    "a_{21} x_1 + a_{22} x_2 + a_{23} x_3 &= b_2 \\\\\n",
    "a_{31} x_1 + a_{32} x_2 + a_{33} x_3 &= b_3\n",
    "\\end{array}\n",
    "\\right.\n",
    "$$\n",
    "Esta ecuación se puede escribir en forma matricial como\n",
    "$$ \\begin{pmatrix}a_{11}&a_{12} & a_{13}\\\\a_{21}&a_{22}&a_{23}\\\\a_{31}&a_{32}&a_{33}\\end{pmatrix}\n",
    "\\begin{pmatrix}x_1\\\\x_2\\\\x_3\\end{pmatrix} = \\begin{pmatrix}b_1\\\\b_2\\\\b_3\\end{pmatrix}\n",
    "$$\n",
    "\n",
    "Veamos un ejemplo concreto. Supongamos que tenemos el siguiente sistema\n",
    "$$\n",
    "\\left\\{\n",
    "\\begin{array}{rl}\n",
    " x_1 + 2 x_2 + 3 x_3 &= 1 \\\\\n",
    "2 x_1 +  x_2 + 3 x_3 &= 2 \\\\\n",
    "4 x_1 +  x_2 - x_3 &= 3\n",
    "\\end{array}\n",
    "\\right.\n",
    "$$\n",
    "por lo que, en forma matricial será:\n",
    "$$ A = \\begin{pmatrix} 1 &2 &3 \\\\ 2& 1& 3 \\\\ 4& 1& -1 \\end{pmatrix} $$\n",
    "y \n",
    "$$ b =  \\begin{pmatrix} 1 \\\\ 2 \\\\ 3 \\end{pmatrix} $$"
   ]
  },
  {
   "cell_type": "code",
   "execution_count": 65,
   "metadata": {
    "autoscroll": false,
    "ein.hycell": false,
    "ein.tags": "worksheet-0",
    "slideshow": {
     "slide_type": "-"
    }
   },
   "outputs": [
    {
     "name": "stdout",
     "output_type": "stream",
     "text": [
      "A= [[ 1  2  3]\n",
      " [ 2  1  3]\n",
      " [ 4  1 -1]] \n",
      "\n",
      "b= [[1]\n",
      " [2]\n",
      " [3]] \n",
      "\n"
     ]
    }
   ],
   "source": [
    "A = np.array([[1,2,3],[2,1,3],[4,1,-1]])\n",
    "b = np.array([[1,2,3]]).T\n",
    "print('A=', A,\"\\n\")\n",
    "print('b=', b,\"\\n\")"
   ]
  },
  {
   "cell_type": "code",
   "execution_count": 66,
   "metadata": {
    "autoscroll": false,
    "ein.hycell": false,
    "ein.tags": "worksheet-0",
    "slideshow": {
     "slide_type": "-"
    }
   },
   "outputs": [
    {
     "name": "stdout",
     "output_type": "stream",
     "text": [
      "Resultado:\n",
      " [[ 0.83333333]\n",
      " [-0.16666667]\n",
      " [ 0.16666667]]\n"
     ]
    }
   ],
   "source": [
    "x = np.dot(linalg.inv(A), b)\n",
    "print('Resultado:\\n', x)"
   ]
  },
  {
   "cell_type": "markdown",
   "metadata": {
    "ein.tags": "worksheet-0",
    "slideshow": {
     "slide_type": "-"
    }
   },
   "source": [
    "### Descomposición de matrices\n",
    "\n",
    "Si consideramos el mismo problema de resolución de ecuaciones\n",
    "$$A x = b $$\n",
    "pero donde debemos resolver el problema para un valor dado de los coeficientes (la matriz $A$) y muchos valores distintos del vector $b$, suele ser útil realizar lo que se llama la descompocición $LU$ de la matriz.\n",
    "\n",
    "Si escribimos a la matriz $A$ como el producto de tres matrices $A = PLU$ donde $P$ es una permutación de las filas, $L$ es una matriz triangular inferior (Los elementos por encima de la diagonal son nulos) y $U$ una triangular superior.\n",
    "En este caso los dos sistemas:\n",
    "$$ Ax = b \\qquad  \\mathrm{ y } \\qquad P A x = Pb  $$\n",
    "tienen la misma solución. Entonces podemos resolver el sistema en dos pasos:\n",
    "\n",
    "$$ Ly=b $$ \n",
    "con\n",
    "$$ y = Ux. $$\n",
    "\n",
    "En ese caso, resolvemos una sola vez la descompocición $LU$, y luego ambas ecuaciones se pueden resolver eficientemente debido a la forma de las matrices."
   ]
  },
  {
   "cell_type": "code",
   "execution_count": 67,
   "metadata": {
    "autoscroll": false,
    "ein.hycell": false,
    "ein.tags": "worksheet-0",
    "slideshow": {
     "slide_type": "-"
    }
   },
   "outputs": [
    {
     "name": "stdout",
     "output_type": "stream",
     "text": [
      "A= [[1 3 4]\n",
      " [2 1 3]\n",
      " [4 1 2]] \n",
      "\n",
      "PLU= [[1. 3. 4.]\n",
      " [2. 1. 3.]\n",
      " [4. 1. 2.]]\n",
      "\n",
      "LU= [[4. 1. 2.]\n",
      " [1. 3. 4.]\n",
      " [2. 1. 3.]]\n",
      "\n",
      "L= [[1.         0.         0.        ]\n",
      " [0.25       1.         0.        ]\n",
      " [0.5        0.18181818 1.        ]]\n",
      "\n",
      "U= [[4.         1.         2.        ]\n",
      " [0.         2.75       3.5       ]\n",
      " [0.         0.         1.36363636]]\n"
     ]
    }
   ],
   "source": [
    "A = np.array([[1,3,4],[2,1,3],[4,1,2]])\n",
    "\n",
    "print('A=', A,\"\\n\")\n",
    "\n",
    "P, L, U = linalg.lu(A)\n",
    "print(\"PLU=\", np.dot(P, np.dot(L, U)))\n",
    "print(\"\\nLU=\", np.dot(L, U))\n",
    "print(\"\\nL=\",L)\n",
    "print(\"\\nU=\", U)"
   ]
  },
  {
   "cell_type": "markdown",
   "metadata": {
    "ein.tags": "worksheet-0",
    "slideshow": {
     "slide_type": "-"
    }
   },
   "source": [
    "### Autovalores y autovectores\n",
    "\n",
    "La necesidad de encontrar los autovalores y autovectores de una matriz aparece en muchos problemas de física e ingeniería. Se trata de encontrar el escalar $\\lambda$ y el vector (no nulo) $v$ tales que\n",
    "\n",
    "$$ A v = \\lambda v$$\n",
    "\n"
   ]
  },
  {
   "cell_type": "code",
   "execution_count": 69,
   "metadata": {
    "autoscroll": false,
    "ein.hycell": false,
    "ein.tags": "worksheet-0",
    "slideshow": {
     "slide_type": "-"
    }
   },
   "outputs": [
    {
     "name": "stdout",
     "output_type": "stream",
     "text": [
      "[[0. 1. 1.]\n",
      " [2. 1. 0.]\n",
      " [3. 4. 5.]] \n",
      "\n",
      "[[-1.892e-16+0.j  1.000e+00+0.j  1.000e+00+0.j]\n",
      " [ 2.000e+00+0.j  1.000e+00+0.j  3.053e-16+0.j]\n",
      " [ 3.000e+00+0.j  4.000e+00+0.j  5.000e+00+0.j]] \n",
      "\n",
      "[[-1.892e-16  1.000e+00  1.000e+00]\n",
      " [ 2.000e+00  1.000e+00  3.053e-16]\n",
      " [ 3.000e+00  4.000e+00  5.000e+00]] \n",
      "\n",
      "\n",
      "Autovalores= [ 5.854+0.j -0.854+0.j  1.   +0.j] \n",
      "\n",
      "Autovalores= [ 5.854 -0.854  1.   ]\n"
     ]
    }
   ],
   "source": [
    "with np.printoptions(precision=3):\n",
    "  B = np.array([[0,1.,1],[2,1,0], [3,4,5]])\n",
    "  print(B,'\\n')\n",
    "  u, v = linalg.eig(B)\n",
    "  c = np.dot(v,np.dot(np.diag(u), linalg.inv(v)))\n",
    "  print(c,'\\n')\n",
    "  print(np.real_if_close(c),'\\n')\n",
    "  print('')\n",
    "  print('Autovalores=', u,'\\n')\n",
    "  print('Autovalores=', np.real_if_close(u))"
   ]
  },
  {
   "cell_type": "code",
   "execution_count": 70,
   "metadata": {},
   "outputs": [
    {
     "data": {
      "text/plain": [
       "array([ 5.85410197+0.j, -0.85410197+0.j,  1.        +0.j])"
      ]
     },
     "execution_count": 70,
     "metadata": {},
     "output_type": "execute_result"
    }
   ],
   "source": [
    "u"
   ]
  },
  {
   "cell_type": "code",
   "execution_count": 71,
   "metadata": {},
   "outputs": [
    {
     "data": {
      "text/plain": [
       "array([[ 1.80228488e-01,  6.72063326e-01,  6.22075198e-17],\n",
       "       [ 7.42582208e-02, -7.24947536e-01, -7.07106781e-01],\n",
       "       [ 9.80817725e-01,  1.50936928e-01,  7.07106781e-01]])"
      ]
     },
     "execution_count": 71,
     "metadata": {},
     "output_type": "execute_result"
    }
   ],
   "source": [
    "v"
   ]
  },
  {
   "cell_type": "markdown",
   "metadata": {
    "ein.tags": "worksheet-0",
    "slideshow": {
     "slide_type": "-"
    }
   },
   "source": [
    "\n",
    "Veamos como funciona para la matriz definida anteriormente"
   ]
  },
  {
   "cell_type": "code",
   "execution_count": 72,
   "metadata": {
    "autoscroll": false,
    "ein.hycell": false,
    "ein.tags": "worksheet-0",
    "slideshow": {
     "slide_type": "-"
    }
   },
   "outputs": [
    {
     "name": "stdout",
     "output_type": "stream",
     "text": [
      "[[1 3 4]\n",
      " [2 1 3]\n",
      " [4 1 2]]\n",
      "[[1. 3. 4.]\n",
      " [2. 1. 3.]\n",
      " [4. 1. 2.]]\n",
      "Autovalores= [ 7.10977223 -2.10977223 -1.        ]\n",
      "Autovectores= [[-0.63273853 -0.66101705 -0.33333333]\n",
      " [-0.49820655 -0.25550401 -0.66666667]\n",
      " [-0.59281716  0.70553112  0.66666667]]\n"
     ]
    }
   ],
   "source": [
    "print(A)\n",
    "u, v = linalg.eig(A)\n",
    "print(np.real_if_close(np.dot(v,np.dot(np.diag(u), linalg.inv(v)))))\n",
    "print(\"Autovalores=\" , np.real_if_close(u))\n",
    "print(\"Autovectores=\", np.real_if_close(v))"
   ]
  },
  {
   "cell_type": "code",
   "execution_count": 73,
   "metadata": {
    "autoscroll": false,
    "ein.hycell": false,
    "ein.tags": "worksheet-0",
    "slideshow": {
     "slide_type": "-"
    }
   },
   "outputs": [
    {
     "name": "stdout",
     "output_type": "stream",
     "text": [
      "Help on function real_if_close in module numpy:\n",
      "\n",
      "real_if_close(a, tol=100)\n",
      "    If complex input returns a real array if complex parts are close to zero.\n",
      "    \n",
      "    \"Close to zero\" is defined as `tol` * (machine epsilon of the type for\n",
      "    `a`).\n",
      "    \n",
      "    Parameters\n",
      "    ----------\n",
      "    a : array_like\n",
      "        Input array.\n",
      "    tol : float\n",
      "        Tolerance in machine epsilons for the complex part of the elements\n",
      "        in the array.\n",
      "    \n",
      "    Returns\n",
      "    -------\n",
      "    out : ndarray\n",
      "        If `a` is real, the type of `a` is used for the output.  If `a`\n",
      "        has complex elements, the returned type is float.\n",
      "    \n",
      "    See Also\n",
      "    --------\n",
      "    real, imag, angle\n",
      "    \n",
      "    Notes\n",
      "    -----\n",
      "    Machine epsilon varies from machine to machine and between data types\n",
      "    but Python floats on most platforms have a machine epsilon equal to\n",
      "    2.2204460492503131e-16.  You can use 'np.finfo(float).eps' to print\n",
      "    out the machine epsilon for floats.\n",
      "    \n",
      "    Examples\n",
      "    --------\n",
      "    >>> np.finfo(float).eps\n",
      "    2.2204460492503131e-16 # may vary\n",
      "    \n",
      "    >>> np.real_if_close([2.1 + 4e-14j], tol=1000)\n",
      "    array([2.1])\n",
      "    >>> np.real_if_close([2.1 + 4e-13j], tol=1000)\n",
      "    array([2.1+4.e-13j])\n",
      "\n"
     ]
    }
   ],
   "source": [
    "help(np.real_if_close)"
   ]
  },
  {
   "cell_type": "code",
   "execution_count": 74,
   "metadata": {},
   "outputs": [
    {
     "data": {
      "text/plain": [
       "2.220446049250313e-16"
      ]
     },
     "execution_count": 74,
     "metadata": {},
     "output_type": "execute_result"
    }
   ],
   "source": [
    "np.finfo(float).eps"
   ]
  },
  {
   "cell_type": "markdown",
   "metadata": {
    "ein.tags": "worksheet-0",
    "slideshow": {
     "slide_type": "-"
    }
   },
   "source": [
    "### Rutinas de resolución de ecuaciones lineales\n",
    "\n",
    "**Scipy** tiene además de las rutinas de trabajo con matrices, rutinas de resolución de sistemas de ecuaciones. En particular la función `solve()`\n",
    "\n",
    "```python\n",
    " solve(a, b, sym_pos=False, lower=False, overwrite_a=False, overwrite_b=False,\n",
    "       debug=False, check_finite=True)\n",
    "\n",
    "Solve the equation ``a x = b`` for ``x``.\n",
    "\n",
    "Parameters\n",
    "----------\n",
    "a : (M, M) array_like\n",
    "    A square matrix.\n",
    "b : (M,) or (M, N) array_like\n",
    "    Right-hand side matrix in ``a x = b``.\n",
    "...\n",
    "```"
   ]
  },
  {
   "cell_type": "code",
   "execution_count": 75,
   "metadata": {
    "autoscroll": false,
    "ein.hycell": false,
    "ein.tags": "worksheet-0",
    "slideshow": {
     "slide_type": "-"
    }
   },
   "outputs": [
    {
     "data": {
      "text/plain": [
       "array([ 2., -2.,  9.])"
      ]
     },
     "execution_count": 75,
     "metadata": {},
     "output_type": "execute_result"
    }
   ],
   "source": [
    "a = np.array([[3, 2, 0], [1, -1, 0], [0, 5, 1]])\n",
    "b = np.array([2, 4, -1])\n",
    "x = linalg.solve(a, b)\n",
    "x"
   ]
  },
  {
   "cell_type": "code",
   "execution_count": 76,
   "metadata": {
    "autoscroll": false,
    "ein.hycell": false,
    "ein.tags": "worksheet-0",
    "slideshow": {
     "slide_type": "-"
    }
   },
   "outputs": [
    {
     "data": {
      "text/plain": [
       "True"
      ]
     },
     "execution_count": 76,
     "metadata": {},
     "output_type": "execute_result"
    }
   ],
   "source": [
    "np.allclose(np.dot(a, x) , b)"
   ]
  },
  {
   "cell_type": "code",
   "execution_count": 77,
   "metadata": {
    "autoscroll": false,
    "ein.hycell": false,
    "ein.tags": "worksheet-0",
    "slideshow": {
     "slide_type": "-"
    }
   },
   "outputs": [
    {
     "data": {
      "text/plain": [
       "array([ True,  True,  True])"
      ]
     },
     "execution_count": 77,
     "metadata": {},
     "output_type": "execute_result"
    }
   ],
   "source": [
    "np.dot(a,x) == b"
   ]
  },
  {
   "cell_type": "markdown",
   "metadata": {
    "ein.tags": "worksheet-0",
    "slideshow": {
     "slide_type": "-"
    }
   },
   "source": [
    "Para sistemas de ecuaciones grandes, la función `solve()` es más rápida que invertir la matriz"
   ]
  },
  {
   "cell_type": "code",
   "execution_count": 81,
   "metadata": {
    "autoscroll": false,
    "ein.hycell": false,
    "ein.tags": "worksheet-0",
    "slideshow": {
     "slide_type": "-"
    }
   },
   "outputs": [],
   "source": [
    "A1 = np.random.random((2000,2000))\n",
    "b1 = np.random.random(2000)"
   ]
  },
  {
   "cell_type": "code",
   "execution_count": 82,
   "metadata": {
    "autoscroll": false,
    "ein.hycell": false,
    "ein.tags": "worksheet-0",
    "slideshow": {
     "slide_type": "-"
    }
   },
   "outputs": [
    {
     "name": "stdout",
     "output_type": "stream",
     "text": [
      "402 ms ± 11.7 ms per loop (mean ± std. dev. of 7 runs, 1 loop each)\n"
     ]
    }
   ],
   "source": [
    "%timeit linalg.solve(A1,b1)"
   ]
  },
  {
   "cell_type": "code",
   "execution_count": 83,
   "metadata": {
    "autoscroll": false,
    "ein.hycell": false,
    "ein.tags": "worksheet-0",
    "slideshow": {
     "slide_type": "-"
    }
   },
   "outputs": [
    {
     "name": "stdout",
     "output_type": "stream",
     "text": [
      "1.11 s ± 78.6 ms per loop (mean ± std. dev. of 7 runs, 1 loop each)\n"
     ]
    }
   ],
   "source": [
    "%timeit np.dot(linalg.inv(A1),b1)"
   ]
  },
  {
   "cell_type": "markdown",
   "metadata": {
    "ein.tags": "worksheet-0",
    "slideshow": {
     "slide_type": "-"
    }
   },
   "source": [
    "## Entrada y salida de datos"
   ]
  },
  {
   "cell_type": "markdown",
   "metadata": {
    "ein.tags": "worksheet-0",
    "slideshow": {
     "slide_type": "-"
    }
   },
   "source": [
    "### Archivos comprimidos en Python\n",
    "\n",
    "Existen varias formas de reducir el tamaño de los archivos de datos.  Varios factores, tales como el sistema operativo, nuestra familiaridad con cada uno de ellos, le da una cierta preferencia a algunos de los métodos disponibles. Veamos cómo hacer para leer y escribir algunos de los siguientes formatos: **zip, gzip, bz2** "
   ]
  },
  {
   "cell_type": "code",
   "execution_count": 84,
   "metadata": {
    "autoscroll": false,
    "ein.hycell": false,
    "ein.tags": "worksheet-0",
    "slideshow": {
     "slide_type": "-"
    }
   },
   "outputs": [],
   "source": [
    "import gzip"
   ]
  },
  {
   "cell_type": "code",
   "execution_count": 85,
   "metadata": {
    "autoscroll": false,
    "ein.hycell": false,
    "ein.tags": "worksheet-0",
    "slideshow": {
     "slide_type": "-"
    }
   },
   "outputs": [],
   "source": [
    "import bz2\n"
   ]
  },
  {
   "cell_type": "code",
   "execution_count": 86,
   "metadata": {
    "autoscroll": false,
    "ein.hycell": false,
    "ein.tags": "worksheet-0",
    "slideshow": {
     "slide_type": "-"
    }
   },
   "outputs": [],
   "source": [
    "fi= gzip.open('../data/palabras.words.gz')\n",
    "a = fi.read()\n",
    "fi.close()"
   ]
  },
  {
   "cell_type": "code",
   "execution_count": 87,
   "metadata": {
    "autoscroll": false,
    "ein.hycell": false,
    "ein.tags": "worksheet-0",
    "slideshow": {
     "slide_type": "-"
    }
   },
   "outputs": [
    {
     "name": "stdout",
     "output_type": "stream",
     "text": [
      "[b'\\xc3\\x81frica', b'\\xc3\\x81ngela', b'\\xc3\\xa1baco', b'\\xc3\\xa1bsida', b'\\xc3\\xa1bside', b'\\xc3\\xa1cana', b'\\xc3\\xa1caro', b'\\xc3\\xa1cates', b'\\xc3\\xa1cido', b'\\xc3\\xa1cigos']\n"
     ]
    }
   ],
   "source": [
    "l= a.splitlines()\n",
    "print(l[:10])"
   ]
  },
  {
   "cell_type": "code",
   "execution_count": 88,
   "metadata": {},
   "outputs": [
    {
     "name": "stdout",
     "output_type": "stream",
     "text": [
      "b'\\xc3\\x81frica'\n"
     ]
    }
   ],
   "source": [
    "print(l[0])"
   ]
  },
  {
   "cell_type": "markdown",
   "metadata": {
    "ein.tags": "worksheet-0",
    "slideshow": {
     "slide_type": "-"
    }
   },
   "source": [
    "Con todo esto podríamos escribir (si tuviéramos necesidad) una función que puede leer un archivo en cualquiera de estos formatos"
   ]
  },
  {
   "cell_type": "code",
   "execution_count": 89,
   "metadata": {
    "autoscroll": false,
    "ein.hycell": false,
    "ein.tags": "worksheet-0",
    "slideshow": {
     "slide_type": "-"
    }
   },
   "outputs": [],
   "source": [
    "import gzip\n",
    "import bz2\n",
    "from os.path import splitext\n",
    "import zipfile\n",
    "\n",
    "def abrir(fname, mode='r'):\n",
    "  if fname.endswith('gz'):\n",
    "    fi= gzip.open(fname, mode=mode)\n",
    "  elif fname.endswith('bz2'):\n",
    "    fi= bz2.open(fname, mode=mode)    \n",
    "  elif fname.endswith('zip'):\n",
    "    fi= zipfile.ZipFile(fname, mode=mode)\n",
    "  else:\n",
    "    fi = open(fname, mode=mode)\n",
    "  return fi"
   ]
  },
  {
   "cell_type": "code",
   "execution_count": 90,
   "metadata": {
    "autoscroll": false,
    "ein.hycell": false,
    "ein.tags": "worksheet-0",
    "slideshow": {
     "slide_type": "-"
    }
   },
   "outputs": [],
   "source": [
    "ff= abrir('../data/palabras.words.gz')\n",
    "a = ff.read()\n",
    "ff.close()"
   ]
  },
  {
   "cell_type": "code",
   "execution_count": 91,
   "metadata": {
    "autoscroll": false,
    "ein.hycell": false,
    "ein.tags": "worksheet-0",
    "slideshow": {
     "slide_type": "-"
    }
   },
   "outputs": [],
   "source": [
    "l = a.splitlines()"
   ]
  },
  {
   "cell_type": "code",
   "execution_count": 92,
   "metadata": {
    "autoscroll": false,
    "ein.hycell": false,
    "ein.tags": "worksheet-0",
    "slideshow": {
     "slide_type": "-"
    }
   },
   "outputs": [
    {
     "name": "stdout",
     "output_type": "stream",
     "text": [
      "b'\\xc3\\x81frica' África\n",
      "b'\\xc3\\x81ngela' Ángela\n",
      "b'\\xc3\\xa1baco' ábaco\n",
      "b'\\xc3\\xa1bsida' ábsida\n",
      "b'\\xc3\\xa1bside' ábside\n",
      "b'\\xc3\\xa1cana' ácana\n",
      "b'\\xc3\\xa1caro' ácaro\n",
      "b'\\xc3\\xa1cates' ácates\n",
      "b'\\xc3\\xa1cido' ácido\n",
      "b'\\xc3\\xa1cigos' ácigos\n"
     ]
    }
   ],
   "source": [
    "for p in l[:10]:\n",
    "  print(p, p.decode())"
   ]
  },
  {
   "cell_type": "code",
   "execution_count": 93,
   "metadata": {
    "autoscroll": false,
    "ein.hycell": false,
    "ein.tags": "worksheet-0",
    "slideshow": {
     "slide_type": "-"
    }
   },
   "outputs": [
    {
     "name": "stdout",
     "output_type": "stream",
     "text": [
      "../data/palabras_en.words.gz  ../data/palabras.words.gz\r\n",
      "../data/palabras.tar.gz\r\n"
     ]
    }
   ],
   "source": [
    "!ls ../data/palabras*"
   ]
  },
  {
   "cell_type": "markdown",
   "metadata": {
    "ein.tags": "worksheet-0",
    "slideshow": {
     "slide_type": "-"
    }
   },
   "source": [
    "### Entrada/salida con *Numpy*\n",
    "\n",
    "#### Datos en formato texto"
   ]
  },
  {
   "cell_type": "markdown",
   "metadata": {
    "ein.tags": "worksheet-0",
    "slideshow": {
     "slide_type": "-"
    }
   },
   "source": [
    "Veamos un ejemplo (apenas) más complicado, de un archivo en formato de texto, donde antes de la lista de números hay un encabezado"
   ]
  },
  {
   "cell_type": "code",
   "execution_count": 96,
   "metadata": {
    "autoscroll": false,
    "ein.hycell": false,
    "ein.tags": "worksheet-0",
    "slideshow": {
     "slide_type": "-"
    }
   },
   "outputs": [],
   "source": [
    "import numpy as np\n",
    "import matplotlib.pyplot as plt"
   ]
  },
  {
   "cell_type": "code",
   "execution_count": 97,
   "metadata": {
    "autoscroll": false,
    "ein.hycell": false,
    "ein.tags": "worksheet-0",
    "slideshow": {
     "slide_type": "-"
    }
   },
   "outputs": [
    {
     "name": "stdout",
     "output_type": "stream",
     "text": [
      "# tiempo    cuentas\r\n",
      "4.953125e-06 -7.940000e-05\r\n",
      "4.963125e-06 -5.930000e-05\r\n",
      "4.973125e-06 -8.945000e-05\r\n",
      "4.983125e-06 -7.940000e-05\r\n",
      "4.993125e-06 -6.935000e-05\r\n",
      "5.003125e-06 -6.935000e-05\r\n",
      "5.013125e-06 -9.950000e-05\r\n",
      "5.023125e-06 -5.930000e-05\r\n",
      "5.033125e-06 -5.930000e-05\r\n"
     ]
    }
   ],
   "source": [
    "!head ../data/tof_signal_5.dat"
   ]
  },
  {
   "cell_type": "code",
   "execution_count": 98,
   "metadata": {
    "autoscroll": false,
    "ein.hycell": false,
    "ein.tags": "worksheet-0",
    "slideshow": {
     "slide_type": "-"
    }
   },
   "outputs": [],
   "source": [
    "X0 = np.loadtxt('../data/tof_signal_5.dat')"
   ]
  },
  {
   "cell_type": "code",
   "execution_count": 99,
   "metadata": {
    "autoscroll": false,
    "ein.hycell": false,
    "ein.tags": "worksheet-0",
    "slideshow": {
     "slide_type": "-"
    }
   },
   "outputs": [
    {
     "data": {
      "text/plain": [
       "((1000, 2), numpy.ndarray)"
      ]
     },
     "execution_count": 99,
     "metadata": {},
     "output_type": "execute_result"
    }
   ],
   "source": [
    "X0.shape, type(X0)"
   ]
  },
  {
   "cell_type": "code",
   "execution_count": 100,
   "metadata": {
    "autoscroll": false,
    "ein.hycell": false,
    "ein.tags": "worksheet-0",
    "slideshow": {
     "slide_type": "-"
    }
   },
   "outputs": [
    {
     "data": {
      "text/plain": [
       "(2,)"
      ]
     },
     "execution_count": 100,
     "metadata": {},
     "output_type": "execute_result"
    }
   ],
   "source": [
    "X0[0].shape"
   ]
  },
  {
   "cell_type": "code",
   "execution_count": 101,
   "metadata": {
    "autoscroll": false,
    "ein.hycell": false,
    "ein.tags": "worksheet-0",
    "slideshow": {
     "slide_type": "-"
    }
   },
   "outputs": [
    {
     "data": {
      "text/plain": [
       "array([ 4.953125e-06, -7.940000e-05])"
      ]
     },
     "execution_count": 101,
     "metadata": {},
     "output_type": "execute_result"
    }
   ],
   "source": [
    "X0[0]"
   ]
  },
  {
   "cell_type": "code",
   "execution_count": 102,
   "metadata": {
    "autoscroll": false,
    "ein.hycell": false,
    "ein.tags": "worksheet-0",
    "slideshow": {
     "slide_type": "-"
    }
   },
   "outputs": [
    {
     "data": {
      "text/plain": [
       "[<matplotlib.lines.Line2D at 0x7f8f99c0efd0>]"
      ]
     },
     "execution_count": 102,
     "metadata": {},
     "output_type": "execute_result"
    },
    {
     "data": {
      "image/png": "[encoded data removed]",
      "text/plain": [
       "<Figure size 432x288 with 1 Axes>"
      ]
     },
     "metadata": {
      "needs_background": "light"
     },
     "output_type": "display_data"
    }
   ],
   "source": [
    "plt.plot(X0[:,0], X0[:,1])"
   ]
  },
  {
   "cell_type": "markdown",
   "metadata": {
    "ein.tags": "worksheet-0",
    "slideshow": {
     "slide_type": "-"
    }
   },
   "source": [
    "La manera más simple de leer datos de un archivo es a través de `loadtxt()`.\n",
    "\n",
    "```python\n",
    "np.info(np.loadtxt)\n",
    " loadtxt(fname, dtype=<class 'float'>, comments='#', delimiter=None,\n",
    "         converters=None, skiprows=0, usecols=None, unpack=False, ndmin=0,\n",
    "         encoding='bytes')\n",
    "Load data from a text file.\n",
    "\n",
    "Each row in the text file must have the same number of values.\n",
    "```"
   ]
  },
  {
   "cell_type": "markdown",
   "metadata": {
    "ein.tags": "worksheet-0",
    "slideshow": {
     "slide_type": "-"
    }
   },
   "source": [
    "En su forma más simple sólo necesita como argumento el nombre del archivo. En este caso, había una primera línea que fue ignorada porque empieza con el caracter \"#\" que indica que la línea es un comentario.\n",
    "\n",
    "Veamos otro ejemplo, donde las líneas que son parte de un encabezado se saltean, utilizando el argumento `skiprows`"
   ]
  },
  {
   "cell_type": "code",
   "execution_count": 103,
   "metadata": {
    "autoscroll": false,
    "ein.hycell": false,
    "ein.tags": "worksheet-0",
    "slideshow": {
     "slide_type": "-"
    }
   },
   "outputs": [
    {
     "name": "stdout",
     "output_type": "stream",
     "text": [
      "Datos del día 15/05/2017\r",
      "\r\n",
      "Tomados por Daniel \r",
      "\r\n",
      "Mediciones de secciones eficaces\r",
      "\r\n",
      "\r",
      "\r\n",
      "Energy      0 grados        7 grados        10 grados\r",
      "\r\n",
      "9.901\t15.3519846480154 12.1212121212121 14.8604933279418\r",
      "\r\n",
      "11.881\t17.2544398619645 13.3849650643994 12.1375590020229\r",
      "\r\n",
      "13.793\t17.5451315884869 11.0136946598073 12.3340346804034\r",
      "\r\n",
      "15.813\t14.6714728388035 9.49006706314058 10.6894370651486\r",
      "\r\n",
      "17.802\t15.0544882597461 11.0630650867636 11.1185983827493\r",
      "\r\n"
     ]
    }
   ],
   "source": [
    "fdatos= '../data/exper_col.dat'\n",
    "!head ../data/exper_col.dat"
   ]
  },
  {
   "cell_type": "code",
   "execution_count": 104,
   "metadata": {
    "autoscroll": false,
    "ein.hycell": false,
    "ein.tags": "worksheet-0",
    "slideshow": {
     "slide_type": "-"
    }
   },
   "outputs": [
    {
     "name": "stdout",
     "output_type": "stream",
     "text": [
      "(76, 4)\n",
      "[ 9.901      15.35198465 12.12121212 14.86049333]\n"
     ]
    }
   ],
   "source": [
    "X1 = np.loadtxt(fdatos, skiprows=5)\n",
    "print(X1.shape)\n",
    "print(X1[0])"
   ]
  },
  {
   "cell_type": "markdown",
   "metadata": {
    "ein.tags": "worksheet-0",
    "slideshow": {
     "slide_type": "-"
    }
   },
   "source": [
    "Como el archivo tiene cuatro columnas el array `X` tiene dimensiones `(74, 4)` correspondiente a las 74 filas y las 4 columnas. Si sólo necesitamos un grupo de estos datos podemos utilizar el argumento `usecols = (c1, c2)` que nos permite elegir cuáles son las columnas a leer:"
   ]
  },
  {
   "cell_type": "code",
   "execution_count": 105,
   "metadata": {
    "autoscroll": false,
    "ein.hycell": false,
    "ein.tags": "worksheet-0",
    "slideshow": {
     "slide_type": "-"
    }
   },
   "outputs": [
    {
     "name": "stdout",
     "output_type": "stream",
     "text": [
      "76 76\n"
     ]
    }
   ],
   "source": [
    "x, y = np.loadtxt(fdatos, skiprows=5, usecols=[0, 2], unpack=True)\n",
    "print (x.size, y.size)"
   ]
  },
  {
   "cell_type": "code",
   "execution_count": 107,
   "metadata": {
    "autoscroll": false,
    "ein.hycell": false,
    "ein.tags": "worksheet-0",
    "slideshow": {
     "slide_type": "-"
    }
   },
   "outputs": [
    {
     "name": "stdout",
     "output_type": "stream",
     "text": [
      "(76, 2) 152 [ 9.901      12.12121212]\n"
     ]
    }
   ],
   "source": [
    "Y = np.loadtxt(fdatos, skiprows=5, usecols=[0, 2])\n",
    "print (Y.shape, Y.size, Y[0])"
   ]
  },
  {
   "cell_type": "markdown",
   "metadata": {
    "ein.tags": "worksheet-0",
    "slideshow": {
     "slide_type": "-"
    }
   },
   "source": [
    "En este ejemplo, mediante el argumento `unpack=True`, le indicamos a la función `loadtxt`que desempaque lo que lee en variables diferentes (`x,y` en este caso)"
   ]
  },
  {
   "cell_type": "code",
   "execution_count": 108,
   "metadata": {
    "autoscroll": false,
    "ein.hycell": false,
    "ein.tags": "worksheet-0",
    "slideshow": {
     "slide_type": "-"
    }
   },
   "outputs": [
    {
     "data": {
      "text/plain": [
       "[<matplotlib.lines.Line2D at 0x7f8f99d92350>]"
      ]
     },
     "execution_count": 108,
     "metadata": {},
     "output_type": "execute_result"
    },
    {
     "data": {
      "image/png": "[encoded data removed]",
      "text/plain": [
       "<Figure size 432x288 with 1 Axes>"
      ]
     },
     "metadata": {
      "needs_background": "light"
     },
     "output_type": "display_data"
    }
   ],
   "source": [
    "plt.plot(x,y, 'o-')"
   ]
  },
  {
   "cell_type": "markdown",
   "metadata": {
    "ein.tags": "worksheet-0",
    "slideshow": {
     "slide_type": "-"
    }
   },
   "source": [
    "Como numpy se especializa en manejar números, tiene muchas funciones para crear arrays a partir de información numérica a partir de texto o archivos (como los CSV, por ejemplo). Ya vimos como leer datos con `loadtxt`. También se pueden generar desde un string:"
   ]
  },
  {
   "cell_type": "code",
   "execution_count": 109,
   "metadata": {
    "autoscroll": false,
    "ein.hycell": false,
    "ein.tags": "worksheet-0",
    "slideshow": {
     "slide_type": "-"
    }
   },
   "outputs": [
    {
     "data": {
      "text/plain": [
       "array([ 1. ,  2.3,  3. ,  4.1, -3.1])"
      ]
     },
     "execution_count": 109,
     "metadata": {},
     "output_type": "execute_result"
    }
   ],
   "source": [
    "np.fromstring(u\"1.0 2.3   3.0 4.1   -3.1\", sep=\" \", dtype=float)"
   ]
  },
  {
   "cell_type": "markdown",
   "metadata": {
    "ein.tags": "worksheet-0",
    "slideshow": {
     "slide_type": "-"
    }
   },
   "source": [
    "Para guardar datos en formato texto podemos usar, de la misma manera,"
   ]
  },
  {
   "cell_type": "code",
   "execution_count": 110,
   "metadata": {
    "autoscroll": false,
    "ein.hycell": false,
    "ein.tags": "worksheet-0",
    "slideshow": {
     "slide_type": "-"
    }
   },
   "outputs": [
    {
     "name": "stdout",
     "output_type": "stream",
     "text": [
      "(76, 2)\n"
     ]
    }
   ],
   "source": [
    "Y = np.vstack((x,y)).T\n",
    "print(Y.shape)"
   ]
  },
  {
   "cell_type": "code",
   "execution_count": 111,
   "metadata": {
    "autoscroll": false,
    "ein.hycell": false,
    "ein.tags": "worksheet-0",
    "slideshow": {
     "slide_type": "-"
    }
   },
   "outputs": [],
   "source": [
    "np.savetxt('tmp.dat', Y)"
   ]
  },
  {
   "cell_type": "code",
   "execution_count": 112,
   "metadata": {
    "autoscroll": false,
    "ein.hycell": false,
    "ein.tags": "worksheet-0",
    "slideshow": {
     "slide_type": "-"
    }
   },
   "outputs": [
    {
     "name": "stdout",
     "output_type": "stream",
     "text": [
      "9.900999999999999801e+00 1.212121212121209979e+01\r\n",
      "1.188100000000000023e+01 1.338496506439940070e+01\r\n",
      "1.379299999999999926e+01 1.101369465980729956e+01\r\n",
      "1.581300000000000061e+01 9.490067063140580572e+00\r\n",
      "1.780199999999999960e+01 1.106306508676360068e+01\r\n",
      "1.978399999999999892e+01 1.056836569579290064e+01\r\n",
      "2.180600000000000094e+01 9.041259351048690718e+00\r\n",
      "2.380199999999999960e+01 9.743805123897519849e+00\r\n",
      "2.567999999999999972e+01 1.000583998442670008e+01\r\n",
      "2.769900000000000162e+01 1.093034161826770045e+01\r\n"
     ]
    }
   ],
   "source": [
    "!head tmp.dat"
   ]
  },
  {
   "cell_type": "markdown",
   "metadata": {
    "ein.tags": "worksheet-0",
    "slideshow": {
     "slide_type": "-"
    }
   },
   "source": [
    "La función `savetxt()`tiene varios argumentos opcionales:\n",
    "\n",
    "```python\n",
    "np.savetxt(fname, X, fmt='%.18e', delimiter=' ', newline='\\n', header='', footer='', comments='# ', encoding=None)\n",
    "```\n",
    "\n",
    "Por ejemplo, podemos darle un formato de salida con el argumento `fmt`, y darle un encabezado con `header`"
   ]
  },
  {
   "cell_type": "code",
   "execution_count": 113,
   "metadata": {
    "autoscroll": false,
    "ein.hycell": false,
    "ein.tags": "worksheet-0",
    "slideshow": {
     "slide_type": "-"
    }
   },
   "outputs": [
    {
     "name": "stdout",
     "output_type": "stream",
     "text": [
      "# Energ Exper\r\n",
      "9.901 12.1212\r\n",
      "11.881 13.385\r\n",
      "13.793 11.0137\r\n",
      "15.813 9.49007\r\n",
      "17.802 11.0631\r\n",
      "19.784 10.5684\r\n",
      "21.806 9.04126\r\n",
      "23.802 9.74381\r\n",
      "25.68 10.0058\r\n"
     ]
    }
   ],
   "source": [
    "np.savetxt('tmp.dat', Y, fmt='%.6g', header=\"Energ Exper\")\n",
    "!head tmp.dat"
   ]
  },
  {
   "cell_type": "markdown",
   "metadata": {
    "ein.tags": "worksheet-0",
    "slideshow": {
     "slide_type": "-"
    }
   },
   "source": [
    "#### Datos en formato binario"
   ]
  },
  {
   "cell_type": "code",
   "execution_count": 114,
   "metadata": {},
   "outputs": [
    {
     "data": {
      "text/plain": [
       "(76, 4)"
      ]
     },
     "execution_count": 114,
     "metadata": {},
     "output_type": "execute_result"
    }
   ],
   "source": [
    "X1.shape"
   ]
  },
  {
   "cell_type": "code",
   "execution_count": 115,
   "metadata": {
    "autoscroll": false,
    "ein.hycell": false,
    "ein.tags": "worksheet-0",
    "slideshow": {
     "slide_type": "-"
    }
   },
   "outputs": [],
   "source": [
    "np.save('test.npy', X1)  # Grabamos el array a archivo \n",
    "X2 = np.load('test.npy')     # Y lo leemos"
   ]
  },
  {
   "cell_type": "code",
   "execution_count": 116,
   "metadata": {
    "autoscroll": false,
    "ein.hycell": false,
    "ein.tags": "worksheet-0",
    "slideshow": {
     "slide_type": "-"
    }
   },
   "outputs": [
    {
     "name": "stdout",
     "output_type": "stream",
     "text": [
      "X1= [[ 9.901      15.35198465 12.12121212 14.86049333]\n",
      " [11.881      17.25443986 13.38496506 12.137559  ]\n",
      " [13.793      17.54513159 11.01369466 12.33403468]\n",
      " [15.813      14.67147284  9.49006706 10.68943707]\n",
      " [17.802      15.05448826 11.06306509 11.11859838]\n",
      " [19.784      12.99029519 10.5683657  10.77717061]\n",
      " [21.806      12.19847748  9.04125935 10.50844347]\n",
      " [23.802      13.57028821  9.74380512 10.46262448]\n",
      " [25.68       13.16199377 10.00583998  9.76919784]\n",
      " [27.699      14.91028557 10.93034162 11.29189365]]\n",
      "X2= [[ 9.901      15.35198465 12.12121212 14.86049333]\n",
      " [11.881      17.25443986 13.38496506 12.137559  ]\n",
      " [13.793      17.54513159 11.01369466 12.33403468]\n",
      " [15.813      14.67147284  9.49006706 10.68943707]\n",
      " [17.802      15.05448826 11.06306509 11.11859838]\n",
      " [19.784      12.99029519 10.5683657  10.77717061]\n",
      " [21.806      12.19847748  9.04125935 10.50844347]\n",
      " [23.802      13.57028821  9.74380512 10.46262448]\n",
      " [25.68       13.16199377 10.00583998  9.76919784]\n",
      " [27.699      14.91028557 10.93034162 11.29189365]]\n"
     ]
    }
   ],
   "source": [
    "# Veamos si alguno de los elementos difiere\n",
    "print('X1=', X1[:10])\n",
    "print('X2=', X2[:10])"
   ]
  },
  {
   "cell_type": "code",
   "execution_count": 117,
   "metadata": {
    "autoscroll": false,
    "ein.hycell": false,
    "ein.tags": "worksheet-0",
    "slideshow": {
     "slide_type": "-"
    }
   },
   "outputs": [
    {
     "name": "stdout",
     "output_type": "stream",
     "text": [
      "¿Alguna differencia? False\n"
     ]
    }
   ],
   "source": [
    "print('¿Alguna differencia?', np.any(X1-X2))"
   ]
  },
  {
   "cell_type": "code",
   "execution_count": 118,
   "metadata": {},
   "outputs": [
    {
     "data": {
      "text/plain": [
       "True"
      ]
     },
     "execution_count": 118,
     "metadata": {},
     "output_type": "execute_result"
    }
   ],
   "source": [
    "np.all(X1==X2)"
   ]
  },
  {
   "cell_type": "markdown",
   "metadata": {
    "ein.tags": "worksheet-0",
    "slideshow": {
     "slide_type": "-"
    }
   },
   "source": [
    "### Ejemplo de análisis de palabras"
   ]
  },
  {
   "cell_type": "code",
   "execution_count": 119,
   "metadata": {
    "autoscroll": false,
    "ein.hycell": false,
    "ein.tags": "worksheet-0",
    "slideshow": {
     "slide_type": "-"
    }
   },
   "outputs": [
    {
     "data": {
      "image/png": "[encoded data removed]",
      "text/plain": [
       "<Figure size 720x576 with 1 Axes>"
      ]
     },
     "metadata": {
      "needs_background": "light"
     },
     "output_type": "display_data"
    }
   ],
   "source": [
    "# %load scripts/10_palabras.py\n",
    "#! /usr/bin/ipython\n",
    "import numpy as np\n",
    "import matplotlib.pyplot as plt\n",
    "import gzip\n",
    "ifiname = '../data/palabras.words.gz'\n",
    "\n",
    "letras = [0] * 512\n",
    "with gzip.open(ifiname, mode='r') as fi:\n",
    "  for l in fi.readlines():\n",
    "    c = ord(l.decode('utf-8')[0])\n",
    "    letras[c] += 1\n",
    "\n",
    "nmax = np.nonzero(letras)[0].max() + 1\n",
    "z = np.array(letras[:nmax])\n",
    "# nmin = z.nonzero()[0].min()     # Máximo valor diferente de cero\n",
    "nmin = np.argwhere(z != 0).min()\n",
    "#plt.ion()\n",
    "with plt.style.context(['seaborn-talk', 'presentation']):\n",
    "  fig = plt.figure(figsize=(10, 8))\n",
    "  #plt.clf()\n",
    "  plt.bar(np.arange(nmin, nmax), z[nmin:nmax])\n",
    "  plt.xlabel('Letras con y sin acentos')\n",
    "  plt.ylabel('Frecuencia')\n",
    "\n",
    "  labels = ['A', 'Z', 'a', 'o', 'z', 'á', 'ú']\n",
    "  ll = [r'$\\mathrm{{{}}}$'.format(t) for t in labels]\n",
    "  ts = [ord(t) for t in labels]\n",
    "  plt.xticks(ts, ll, fontsize='xx-large')\n",
    "\n",
    "  x0 = 0.5 * ord('á') + ord('z')\n",
    "  y0 = 0.2 * z.max()\n",
    "  umbral = 0.25\n",
    "  lista = (z > umbral * z.max()).nonzero()[0]\n",
    "\n",
    "  dx = [10, 40, 70]\n",
    "  dy = [-550, -350, -100]\n",
    "\n",
    "  for j, t in enumerate(reversed(lista)):\n",
    "    plt.annotate('{} ({})'.format(chr(t), z[t]), xy=(t, z[t]), xycoords='data',\n",
    "                 xytext=(t + dx[j % 3], z[t] + dy[j % 3]), \n",
    "                 bbox=dict(boxstyle=\"round\", fc=\"0.8\"),\n",
    "                 arrowprops=dict(arrowstyle=\"simple\", fc=\"0.5\")\n",
    "                 )\n"
   ]
  },
  {
   "cell_type": "markdown",
   "metadata": {
    "ein.tags": "worksheet-0",
    "slideshow": {
     "slide_type": "-"
    }
   },
   "source": [
    "### Entrada y salida en Scipy\n",
    "\n",
    "El submódulo `io` tiene algunas utilidades de entrada y salida de datos que permite interactuar con otros paquetes/programas. Algunos de ellos son:\n",
    "\n",
    "- Archivos IDL ![Interactive Data Language](https://hesperia.gsfc.nasa.gov/hessi/solar_cd/FAQ/IDL_FAQ.htm)\n",
    "   - `scipy.io.readsav()`\n",
    "\n",
    "- Archivos de sonido wav, con `scipy.io.wavfile`\n",
    "   - `scipy.io.wavfile.read()`\n",
    "   - `scipy.io.wavfile.write()`\n",
    "\n",
    "- Archivos fortran sin formato, con `scipy.io.FortranFile`\n",
    "\n",
    "- Archivos Netcdf (para gran número de datos), con  `scipy.io.netcdf`\n",
    "\n",
    "- Archivos de matrices de Matlab"
   ]
  },
  {
   "cell_type": "code",
   "execution_count": 120,
   "metadata": {
    "autoscroll": false,
    "ein.hycell": false,
    "ein.tags": "worksheet-0",
    "slideshow": {
     "slide_type": "-"
    }
   },
   "outputs": [
    {
     "name": "stdout",
     "output_type": "stream",
     "text": [
      "[[2. 1. 1.]\n",
      " [1. 2. 1.]\n",
      " [1. 1. 2.]]\n",
      "[[2. 1. 1.]\n",
      " [1. 2. 1.]\n",
      " [1. 1. 2.]]\n"
     ]
    }
   ],
   "source": [
    "from scipy import io as sio\n",
    "a = np.ones((3, 3)) + np.eye(3,3)\n",
    "print(a)\n",
    "sio.savemat('datos.mat', {'a': a}) # savemat espera un diccionario\n",
    "data = sio.loadmat('datos.mat', struct_as_record=True)\n",
    "print(data['a'])"
   ]
  },
  {
   "cell_type": "code",
   "execution_count": 121,
   "metadata": {
    "autoscroll": false,
    "ein.hycell": false,
    "ein.tags": "worksheet-0",
    "slideshow": {
     "slide_type": "slide"
    }
   },
   "outputs": [
    {
     "data": {
      "text/plain": [
       "{'__header__': b'MATLAB 5.0 MAT-file Platform: posix, Created on: Wed Mar 11 10:35:50 2020',\n",
       " '__version__': '1.0',\n",
       " '__globals__': [],\n",
       " 'a': array([[2., 1., 1.],\n",
       "        [1., 2., 1.],\n",
       "        [1., 1., 2.]])}"
      ]
     },
     "execution_count": 121,
     "metadata": {},
     "output_type": "execute_result"
    }
   ],
   "source": [
    "data"
   ]
  }
 ],
 "metadata": {
  "kernelspec": {
   "display_name": "Python 3",
   "language": "python",
   "name": "python3"
  },
  "language_info": {
   "codemirror_mode": {
    "name": "ipython",
    "version": 3
   },
   "file_extension": ".py",
   "mimetype": "text/x-python",
   "name": "python",
   "nbconvert_exporter": "python",
   "pygments_lexer": "ipython3",
   "version": "3.7.6"
  },
  "name": "11_intro_scipy.ipynb",
  "toc": {
   "base_numbering": 1,
   "nav_menu": {
    "height": "469.6px",
    "width": "252px"
   },
   "number_sections": true,
   "sideBar": true,
   "skip_h1_title": false,
   "title_cell": "Contenidos",
   "title_sidebar": "Contenidos",
   "toc_cell": false,
   "toc_position": {
    "height": "calc(100% - 180px)",
    "left": "10px",
    "top": "150px",
    "width": "383.2px"
   },
   "toc_section_display": true,
   "toc_window_display": false
  }
 },
 "nbformat": 4,
 "nbformat_minor": 2
}
