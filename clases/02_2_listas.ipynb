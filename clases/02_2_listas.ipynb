{
 "cells": [
  {
   "cell_type": "markdown",
   "id": "5970f0e9",
   "metadata": {
    "collapsed": false
   },
   "source": [
    "## Tipos contenedores: Listas\n",
    "\n",
    "Las listas son tipos compuestos (pueden contener más de un valor). Se definen separando los valores con comas, encerrados entre corchetes. En general las listas pueden contener diferentes tipos, y pueden no ser todos iguales, pero suelen utilizarse con ítems del mismo tipo.\n",
    "\n",
    "* Los elementos no son necesariamente homogéneos en tipo\n",
    "* Elementos ordenados\n",
    "* Acceso mediante un índice\n",
    "* Están definidas operaciones entre Listas, así como algunos métodos\n",
    "\n",
    "\n",
    "   - `x in L`             (¿x es un elemento de L?)\n",
    "   - `x not in L`         (¿x no es un elemento de L?)\n",
    "   - `L1 + L2`            (concatenar L1 y L2)\n",
    "   - `n*L1`               (n veces L1)\n",
    "   - `L1*n`               (n veces L1)\n",
    "   - `L[i]`               (Elemento i-ésimo)\n",
    "   - `L[i:j]`             (Elementos i a j)\n",
    "   - `L[i:j:k]`           (Elementos i a j, elegidos uno de cada k)\n",
    "   - `len(L)`             (longitud de L)\n",
    "   - `min(L)`             (Mínimo de L)\n",
    "   - `max(L)`             (Máximo de L)\n",
    "   - `L.index(x, [i])`    (Índice de x, iniciando en i)\n",
    "   - `L.count(x)`         (Número de veces que aparece x en L)\n",
    "   - `L.append(x)`        (Agrega el elemento x al final)\n",
    "\n",
    "Veamos algunos ejemplos:"
   ]
  },
  {
   "cell_type": "code",
   "execution_count": 29,
   "id": "a008ee2b",
   "metadata": {
    "collapsed": false
   },
   "outputs": [],
   "source": [
    "cuadrados = [1, 9, 16, 25]"
   ]
  },
  {
   "cell_type": "markdown",
   "id": "86853f48",
   "metadata": {
    "collapsed": false
   },
   "source": [
    "En esta línea hemos declarado una variable llamada `cuadrados`, y le hemos asignado una lista de cuatro elementos. En algunos aspectos las listas son muy similares a los *strings*. Se pueden realizar muchas de las mismas operaciones en strings, listas y otros objetos sobre los que se pueden iterar (*iterables*). \n",
    "\n",
    "Las listas pueden accederse por posición y también pueden rebanarse (*slicing*)\n",
    "\n",
    "------\n",
    "\n",
    "**Nota:** La indexación de iteradores empieza desde cero (como en C)\n",
    "\n",
    "------"
   ]
  },
  {
   "cell_type": "code",
   "execution_count": 30,
   "id": "dcc3f2fa",
   "metadata": {
    "collapsed": false
   },
   "outputs": [
    {
     "data": {
      "text/plain": [
       "1"
      ]
     },
     "execution_count": 30,
     "metadata": {},
     "output_type": "execute_result"
    }
   ],
   "source": [
    "cuadrados[0]"
   ]
  },
  {
   "cell_type": "code",
   "execution_count": 31,
   "id": "c6d638fa",
   "metadata": {
    "collapsed": false
   },
   "outputs": [
    {
     "data": {
      "text/plain": [
       "25"
      ]
     },
     "execution_count": 31,
     "metadata": {},
     "output_type": "execute_result"
    }
   ],
   "source": [
    "cuadrados[3]"
   ]
  },
  {
   "cell_type": "code",
   "execution_count": 32,
   "id": "c763f953",
   "metadata": {
    "collapsed": false
   },
   "outputs": [
    {
     "data": {
      "text/plain": [
       "25"
      ]
     },
     "execution_count": 32,
     "metadata": {},
     "output_type": "execute_result"
    }
   ],
   "source": [
    "cuadrados[-1]"
   ]
  },
  {
   "cell_type": "code",
   "execution_count": 33,
   "id": "4432b40a",
   "metadata": {
    "collapsed": false
   },
   "outputs": [
    {
     "data": {
      "text/plain": [
       "[1, 16]"
      ]
     },
     "execution_count": 33,
     "metadata": {},
     "output_type": "execute_result"
    }
   ],
   "source": [
    "cuadrados[:3:2]"
   ]
  },
  {
   "cell_type": "code",
   "execution_count": 34,
   "id": "22d195c7",
   "metadata": {
    "collapsed": false
   },
   "outputs": [
    {
     "data": {
      "text/plain": [
       "[16, 25]"
      ]
     },
     "execution_count": 34,
     "metadata": {},
     "output_type": "execute_result"
    }
   ],
   "source": [
    "cuadrados[-2:]"
   ]
  },
  {
   "cell_type": "markdown",
   "id": "6ade7c2f",
   "metadata": {
    "collapsed": false
   },
   "source": [
    "Los índices pueden ser positivos (empezando desde cero) o negativos empezando desde -1. \n",
    "\n",
    "| cuadrados:           | 1    | 9    | 16   | 25   |\n",
    "|----------------------|------|------|------|------|\n",
    "| índices:             | 0    | 1    | 2    | 3    |\n",
    "| índices negativos:   | -4   | -3   | -2   | -1   |"
   ]
  },
  {
   "cell_type": "markdown",
   "id": "45e432f5",
   "metadata": {
    "collapsed": false
   },
   "source": [
    "\n",
    "------\n",
    "\n",
    "**Nota:** La asignación entre listas **no copia**\n",
    "\n",
    "------\n"
   ]
  },
  {
   "cell_type": "code",
   "execution_count": 35,
   "id": "d3b0cc06",
   "metadata": {
    "collapsed": false
   },
   "outputs": [
    {
     "data": {
      "text/plain": [
       "True"
      ]
     },
     "execution_count": 35,
     "metadata": {},
     "output_type": "execute_result"
    }
   ],
   "source": [
    "a = cuadrados\n",
    "a is cuadrados"
   ]
  },
  {
   "cell_type": "code",
   "execution_count": 36,
   "id": "8ca363eb",
   "metadata": {
    "collapsed": false
   },
   "outputs": [
    {
     "name": "stdout",
     "output_type": "stream",
     "text": [
      "[1, 9, 16, 25]\n",
      "[-1, 9, 16, 25]\n",
      "[-1, 9, 16, 25]\n"
     ]
    }
   ],
   "source": [
    "print(a)\n",
    "cuadrados[0]= -1\n",
    "print(a)\n",
    "print(cuadrados)"
   ]
  },
  {
   "cell_type": "code",
   "execution_count": 37,
   "id": "b76fa807",
   "metadata": {
    "collapsed": false
   },
   "outputs": [
    {
     "data": {
      "text/plain": [
       "True"
      ]
     },
     "execution_count": 37,
     "metadata": {},
     "output_type": "execute_result"
    }
   ],
   "source": [
    "a is cuadrados"
   ]
  },
  {
   "cell_type": "code",
   "execution_count": 38,
   "id": "8579a5e4",
   "metadata": {
    "collapsed": false
   },
   "outputs": [
    {
     "name": "stdout",
     "output_type": "stream",
     "text": [
      "[-1, 9, 16, 25]\n",
      "[-1, 9, 16, 25]\n",
      "[-1, 9, 16, 25]\n",
      "[-2, 9, 16, 25]\n"
     ]
    }
   ],
   "source": [
    "b = cuadrados.copy()\n",
    "print(b)\n",
    "print(cuadrados)\n",
    "cuadrados[0]=-2\n",
    "print(b)\n",
    "print(cuadrados)"
   ]
  },
  {
   "cell_type": "markdown",
   "id": "84cf058d",
   "metadata": {
    "collapsed": false
   },
   "source": [
    "### Operaciones sobre listas\n",
    "\n",
    "Veamos algunas operaciones que se pueden realizar sobre listas. \n",
    "Por ejemplo, se puede fácilmente:\n",
    "\n",
    "  - concatenar dos listas,\n",
    "  - buscar un valor dado,\n",
    "  - agregar elementos,\n",
    "  - borrar elementos,\n",
    "  - calcular su longitud,\n",
    "  - invertirla\n",
    " \n",
    "Empecemos concatenando dos listas, usando el operador \"suma\""
   ]
  },
  {
   "cell_type": "code",
   "execution_count": 39,
   "id": "082d6a51",
   "metadata": {
    "collapsed": false
   },
   "outputs": [],
   "source": [
    "L1 = [0,1,2,3,4,5]"
   ]
  },
  {
   "cell_type": "code",
   "execution_count": 40,
   "id": "17fb0da7",
   "metadata": {
    "collapsed": false
   },
   "outputs": [],
   "source": [
    "L = 2*L1"
   ]
  },
  {
   "cell_type": "code",
   "execution_count": 41,
   "id": "322c7ead",
   "metadata": {
    "collapsed": false
   },
   "outputs": [
    {
     "data": {
      "text/plain": [
       "[0, 1, 2, 3, 4, 5, 0, 1, 2, 3, 4, 5]"
      ]
     },
     "execution_count": 41,
     "metadata": {},
     "output_type": "execute_result"
    }
   ],
   "source": [
    "L"
   ]
  },
  {
   "cell_type": "code",
   "execution_count": 42,
   "id": "eee48fe2",
   "metadata": {
    "collapsed": false
   },
   "outputs": [
    {
     "data": {
      "text/plain": [
       "True"
      ]
     },
     "execution_count": 42,
     "metadata": {},
     "output_type": "execute_result"
    }
   ],
   "source": [
    "2*L == L + L"
   ]
  },
  {
   "cell_type": "code",
   "execution_count": 43,
   "id": "727dec26",
   "metadata": {
    "collapsed": false
   },
   "outputs": [
    {
     "data": {
      "text/plain": [
       "3"
      ]
     },
     "execution_count": 43,
     "metadata": {},
     "output_type": "execute_result"
    }
   ],
   "source": [
    "L.index(3)                      # Índice del elemento de valor 3"
   ]
  },
  {
   "cell_type": "code",
   "execution_count": 44,
   "id": "f5ba9c45",
   "metadata": {
    "collapsed": false
   },
   "outputs": [
    {
     "data": {
      "text/plain": [
       "9"
      ]
     },
     "execution_count": 44,
     "metadata": {},
     "output_type": "execute_result"
    }
   ],
   "source": [
    "L.index(3,4)                # Índice del valor 3, empezando del cuarto"
   ]
  },
  {
   "cell_type": "code",
   "execution_count": 45,
   "id": "b4b778da",
   "metadata": {
    "collapsed": false
   },
   "outputs": [
    {
     "data": {
      "text/plain": [
       "2"
      ]
     },
     "execution_count": 45,
     "metadata": {},
     "output_type": "execute_result"
    }
   ],
   "source": [
    "L.count(3)                      # Cuenta las veces que aparece el valor \"3\""
   ]
  },
  {
   "cell_type": "markdown",
   "id": "ef359925",
   "metadata": {
    "collapsed": false
   },
   "source": [
    "Las listas tienen definidos métodos, que podemos ver con la ayuda incluida, por ejemplo haciendo `help(list)`"
   ]
  },
  {
   "cell_type": "markdown",
   "id": "ce330175",
   "metadata": {
    "collapsed": false
   },
   "source": [
    "Si queremos agregar un elemento al final utilizamos el método `append`:"
   ]
  },
  {
   "cell_type": "code",
   "execution_count": 46,
   "id": "e5a7bdfe",
   "metadata": {
    "collapsed": false
   },
   "outputs": [
    {
     "name": "stdout",
     "output_type": "stream",
     "text": [
      "[0, 1, 2, 3, 4, 5, 0, 1, 2, 3, 4, 5]\n"
     ]
    }
   ],
   "source": [
    "print(L)"
   ]
  },
  {
   "cell_type": "code",
   "execution_count": 47,
   "id": "9ea19bb9",
   "metadata": {
    "collapsed": false
   },
   "outputs": [],
   "source": [
    "L.append(8)\n"
   ]
  },
  {
   "cell_type": "code",
   "execution_count": 48,
   "id": "f00a06cd",
   "metadata": {
    "collapsed": false
   },
   "outputs": [
    {
     "name": "stdout",
     "output_type": "stream",
     "text": [
      "[0, 1, 2, 3, 4, 5, 0, 1, 2, 3, 4, 5, 8]\n"
     ]
    }
   ],
   "source": [
    "print(L)"
   ]
  },
  {
   "cell_type": "code",
   "execution_count": 49,
   "id": "933abd51",
   "metadata": {
    "collapsed": false
   },
   "outputs": [
    {
     "name": "stdout",
     "output_type": "stream",
     "text": [
      "[0, 1, 2, 3, 4, 5, 0, 1, 2, 3, 4, 5, 8, [9, 8, 7]]\n"
     ]
    }
   ],
   "source": [
    "L.append([9, 8, 7])\n",
    "print(L)"
   ]
  },
  {
   "cell_type": "markdown",
   "id": "18ff2909",
   "metadata": {
    "collapsed": false
   },
   "source": [
    "Si queremos insertar un elemento en una posición que no es el final de la lista, usamos el método `insert()`. Por ejemplo para insertar el valor 6 en la primera posición:"
   ]
  },
  {
   "cell_type": "code",
   "execution_count": 50,
   "id": "5f0dcef2",
   "metadata": {
    "collapsed": false
   },
   "outputs": [
    {
     "name": "stdout",
     "output_type": "stream",
     "text": [
      "[6, 0, 1, 2, 3, 4, 5, 0, 1, 2, 3, 4, 5, 8, [9, 8, 7]]\n"
     ]
    }
   ],
   "source": [
    "L.insert(0,6)\n",
    "print(L)"
   ]
  },
  {
   "cell_type": "code",
   "execution_count": 51,
   "id": "febb1cff",
   "metadata": {
    "collapsed": false
   },
   "outputs": [
    {
     "name": "stdout",
     "output_type": "stream",
     "text": [
      "[6, 0, 1, 2, 3, 4, 5, 6, 0, 1, 2, 3, 4, 5, 8, [9, 8, 7]]\n"
     ]
    }
   ],
   "source": [
    "L.insert(7,6)\n",
    "print(L)"
   ]
  },
  {
   "cell_type": "code",
   "execution_count": 52,
   "id": "00587f19",
   "metadata": {
    "collapsed": false
   },
   "outputs": [
    {
     "name": "stdout",
     "output_type": "stream",
     "text": [
      "[6, 0, 1, 2, 3, 4, 5, 6, 0, 1, 2, 3, 4, 5, 6, 8, [9, 8, 7]]\n"
     ]
    }
   ],
   "source": [
    "L.insert(-2,6)\n",
    "print(L)"
   ]
  },
  {
   "cell_type": "markdown",
   "id": "37eb08ef",
   "metadata": {
    "collapsed": false
   },
   "source": [
    "En las listas podemos sobreescribir uno o más elementos"
   ]
  },
  {
   "cell_type": "code",
   "execution_count": 53,
   "id": "b1b30aea",
   "metadata": {
    "collapsed": false
   },
   "outputs": [
    {
     "name": "stdout",
     "output_type": "stream",
     "text": [
      "[2, 3, 4, 2, 3, 4, 5, 6, 0, 1, 2, 3, 4, 5, 6, 8, [9, 8, 7]]\n"
     ]
    }
   ],
   "source": [
    "L[0:3] = [2,3,4]\n",
    "print(L)"
   ]
  },
  {
   "cell_type": "code",
   "execution_count": 54,
   "id": "dfee4bca",
   "metadata": {
    "collapsed": false
   },
   "outputs": [
    {
     "name": "stdout",
     "output_type": "stream",
     "text": [
      "[2, 3, 4, 2, 3, 4, 5, 6, 0, 1, 2, 3, 4, 5, 6, 0, 1]\n"
     ]
    }
   ],
   "source": [
    "L[-2:]=[0,1]\n",
    "print(L)"
   ]
  },
  {
   "cell_type": "code",
   "execution_count": 55,
   "id": "327de3db",
   "metadata": {
    "collapsed": false
   },
   "outputs": [
    {
     "name": "stdout",
     "output_type": "stream",
     "text": [
      "[2, 3, 4, 2, 3, 4, 5, 6, 0, 1, 2, 3, 4, 5, 6, 0, 1]\n",
      "[2, 4, 2, 3, 4, 5, 6, 0, 1, 2, 3, 4, 5, 6, 0, 1]\n"
     ]
    }
   ],
   "source": [
    "print(L)\n",
    "L.remove(3)                     # Remueve la primera ocurrencia de 3\n",
    "print(L)"
   ]
  },
  {
   "cell_type": "markdown",
   "id": "bf26e6d7",
   "metadata": {
    "collapsed": false
   },
   "source": [
    "### Tuplas\n",
    "\n",
    "Las tuplas son objetos similares a las listas, sobre las que se puede iterar y seleccionar partes según su índice. La principal diferencia es que son inmutables mientras que las listas pueden modificarse.\n",
    "Los ejemplos anteriores del tipo `L[0] = -9` resulta en un error si lo intentamos con tuplas"
   ]
  },
  {
   "cell_type": "code",
   "execution_count": 56,
   "id": "61bcdadc",
   "metadata": {
    "collapsed": false
   },
   "outputs": [],
   "source": [
    "L1 = [0,1,2,3,4,5] # Las listas se definen con corchetes\n",
    "T1 = (0,1,2,3,4,5) # Las tuplas se definen con paréntesis"
   ]
  },
  {
   "cell_type": "code",
   "execution_count": 60,
   "id": "7a177c3d",
   "metadata": {
    "collapsed": false
   },
   "outputs": [
    {
     "name": "stdout",
     "output_type": "stream",
     "text": [
      "L1[0] = -1\n",
      "L1[0] = -1\n"
     ]
    }
   ],
   "source": [
    "L1[0] = -1\n",
    "print(f\"{L1[0] = }\")\n",
    "print(f\"L1[0] = {L1[0]}\")"
   ]
  },
  {
   "cell_type": "code",
   "execution_count": 61,
   "id": "c1811c56",
   "metadata": {
    "collapsed": false
   },
   "outputs": [
    {
     "name": "stdout",
     "output_type": "stream",
     "text": [
      "Tuples son inmutables\n"
     ]
    }
   ],
   "source": [
    "try:\n",
    "    T1[0] = -1\n",
    "    print(f\"{T1[0] = }\")\n",
    "except:\n",
    "    print('Tuples son inmutables')"
   ]
  },
  {
   "cell_type": "markdown",
   "id": "0bd2ba6c",
   "metadata": {
    "collapsed": false
   },
   "source": [
    "Las tuplas se usan cuando uno quiere crear una \"variable\" que no va a ser modificada. Además códigos similares con tuplas pueden ser un poco más rápidos que si usan listas.\n",
    "\n",
    "Un uso común de las tuplas es el de asignación simultánea a múltiples variables:"
   ]
  },
  {
   "cell_type": "code",
   "execution_count": 64,
   "id": "5f564c46",
   "metadata": {
    "collapsed": false
   },
   "outputs": [],
   "source": [
    "a, b, c = (1, 3, 5)"
   ]
  },
  {
   "cell_type": "code",
   "execution_count": 65,
   "id": "37fd4263",
   "metadata": {
    "collapsed": false
   },
   "outputs": [
    {
     "name": "stdout",
     "output_type": "stream",
     "text": [
      "1 3 5\n"
     ]
    }
   ],
   "source": [
    "print(a, b, c)"
   ]
  },
  {
   "cell_type": "code",
   "execution_count": 66,
   "id": "2bf68e94",
   "metadata": {
    "collapsed": false
   },
   "outputs": [
    {
     "name": "stdout",
     "output_type": "stream",
     "text": [
      "4 5 6\n"
     ]
    }
   ],
   "source": [
    "# Los paréntesis son opcionales en este caso\n",
    "a, b, c = 4, 5, 6\n",
    "print(a,b,c)"
   ]
  },
  {
   "cell_type": "markdown",
   "id": "b18fa16e",
   "metadata": {
    "collapsed": false
   },
   "source": [
    "Un uso muy común es el de intercambiar el valor de dos variables"
   ]
  },
  {
   "cell_type": "code",
   "execution_count": 67,
   "id": "c801cf4a",
   "metadata": {
    "collapsed": false
   },
   "outputs": [
    {
     "name": "stdout",
     "output_type": "stream",
     "text": [
      "4 5\n",
      "5 4\n"
     ]
    }
   ],
   "source": [
    "print(a,b)\n",
    "a, b = b, a                     # swap \n",
    "print(a,b)"
   ]
  },
  {
   "cell_type": "markdown",
   "id": "6d1bbff3",
   "metadata": {
    "collapsed": false
   },
   "source": [
    "### Rangos\n",
    "\n",
    "Los objetos de tipo [range](https://docs.python.org/es/3/library/stdtypes.html#ranges) representan una secuencia inmutable de números y se usan habitualmente para ejecutar un bucle [for](https://docs.python.org/es/3/reference/compound_stmts.html#for) un número determinado de veces. El formato es:\n",
    "\n",
    "    range(stop)\n",
    "    range(start, stop)\n",
    "    range(start, stop, step)\n",
    "    "
   ]
  },
  {
   "cell_type": "code",
   "execution_count": 68,
   "id": "4f9bac32",
   "metadata": {
    "collapsed": false
   },
   "outputs": [
    {
     "data": {
      "text/plain": [
       "range(0, 2)"
      ]
     },
     "execution_count": 68,
     "metadata": {},
     "output_type": "execute_result"
    }
   ],
   "source": [
    "range(2)"
   ]
  },
  {
   "cell_type": "code",
   "execution_count": 69,
   "id": "ea4fae5f",
   "metadata": {
    "collapsed": false
   },
   "outputs": [
    {
     "data": {
      "text/plain": [
       "range"
      ]
     },
     "execution_count": 69,
     "metadata": {},
     "output_type": "execute_result"
    }
   ],
   "source": [
    "type(range(2))"
   ]
  },
  {
   "cell_type": "code",
   "execution_count": 70,
   "id": "080279fa",
   "metadata": {
    "collapsed": false
   },
   "outputs": [
    {
     "data": {
      "text/plain": [
       "range(2, 9)"
      ]
     },
     "execution_count": 70,
     "metadata": {},
     "output_type": "execute_result"
    }
   ],
   "source": [
    "range(2,9)"
   ]
  },
  {
   "cell_type": "code",
   "execution_count": 71,
   "id": "3e5e0f21",
   "metadata": {
    "collapsed": false
   },
   "outputs": [
    {
     "data": {
      "text/plain": [
       "[2, 3, 4, 5, 6, 7, 8]"
      ]
     },
     "execution_count": 71,
     "metadata": {},
     "output_type": "execute_result"
    }
   ],
   "source": [
    "list(range(2,9))"
   ]
  },
  {
   "cell_type": "code",
   "execution_count": 72,
   "id": "1ddfb231",
   "metadata": {
    "collapsed": false
   },
   "outputs": [
    {
     "data": {
      "text/plain": [
       "[2, 4, 6, 8]"
      ]
     },
     "execution_count": 72,
     "metadata": {},
     "output_type": "execute_result"
    }
   ],
   "source": [
    "list(range(2,9,2))"
   ]
  },
  {
   "cell_type": "markdown",
   "id": "822f3013",
   "metadata": {
    "collapsed": false
   },
   "source": [
    "### Comprensión de Listas\n",
    "\n",
    "Una manera sencilla de definir una lista es utilizando algo que se llama *Comprensión de listas*.\n",
    "Como primer ejemplo veamos una lista de *números cuadrados* como la que escribimos anteriormente. En lenguaje matemático la defiríamos como $S = \\{x^{2} : x \\in \\{0 \\dots 9\\}\\}$. En python es muy parecido.\n",
    "\n",
    "Podemos crear la lista `cuadrados` utilizando compresiones de listas"
   ]
  },
  {
   "cell_type": "code",
   "execution_count": 73,
   "id": "9f218fd3",
   "metadata": {
    "collapsed": false
   },
   "outputs": [
    {
     "data": {
      "text/plain": [
       "[0, 1, 4, 9, 16, 25, 36, 49, 64, 81]"
      ]
     },
     "execution_count": 73,
     "metadata": {},
     "output_type": "execute_result"
    }
   ],
   "source": [
    "cuadrados = [i**2 for i in range(10)]\n",
    "cuadrados"
   ]
  },
  {
   "cell_type": "markdown",
   "id": "c956a093",
   "metadata": {
    "collapsed": false
   },
   "source": [
    "Una lista con los cuadrados sólo de los números pares también puede crearse de esta manera, ya que puede incorporarse una condición:"
   ]
  },
  {
   "cell_type": "code",
   "execution_count": 74,
   "id": "7ccf1e38",
   "metadata": {
    "collapsed": false
   },
   "outputs": [
    {
     "data": {
      "text/plain": [
       "[4, 16, 36, 64, 100, 144, 196, 256, 324, 400]"
      ]
     },
     "execution_count": 74,
     "metadata": {},
     "output_type": "execute_result"
    }
   ],
   "source": [
    "L = [a**2 for a in range(2,21) if a % 2 == 0]\n",
    "L"
   ]
  },
  {
   "cell_type": "code",
   "execution_count": 75,
   "id": "7d3021d3",
   "metadata": {
    "collapsed": false
   },
   "outputs": [
    {
     "data": {
      "text/plain": [
       "1540"
      ]
     },
     "execution_count": 75,
     "metadata": {},
     "output_type": "execute_result"
    }
   ],
   "source": [
    "sum(L)"
   ]
  },
  {
   "cell_type": "code",
   "execution_count": 76,
   "id": "350195f7",
   "metadata": {
    "collapsed": false
   },
   "outputs": [
    {
     "data": {
      "text/plain": [
       "[400, 324, 256, 196, 144, 100, 64, 36, 16, 4]"
      ]
     },
     "execution_count": 76,
     "metadata": {},
     "output_type": "execute_result"
    }
   ],
   "source": [
    "list(reversed(L))"
   ]
  },
  {
   "cell_type": "markdown",
   "id": "a2de4e40",
   "metadata": {
    "collapsed": false
   },
   "source": [
    "## Módulos\n",
    "\n",
    "Los módulos son el mecanismo de Python para reusar código. Además, ya existen varios módulos que son parte de la biblioteca *standard*. Su uso es muy simple, para poder aprovecharlo necesitaremos saber dos cosas:\n",
    "\n",
    "* Qué funciones están ya definidas y listas para usar\n",
    "* Cómo acceder a ellas\n",
    "\n",
    "\n",
    "Empecemos con la segunda cuestión. Para utilizar las funciones debemos *importarlas* en la forma `import modulo`, donde modulo es el nombre que queremos importar.\n",
    "\n",
    "Esto nos lleva a la primera cuestión: cómo saber ese nombre, y que funciones están disponibles. La respuesta es: **la documentación**.\n",
    "\n",
    "Una vez importado, podemos utilizar constantes y funciones definidas en el módulo con la notación \"de punto\": `modulo.funcion()`.\n",
    "\n",
    "### Módulo math\n",
    "\n",
    "El módulo **math** contiene las funciones más comunes (trigonométricas, exponenciales, logaritmos, etc) para operar sobre números de *punto flotante*, y algunas constantes importantes (pi, e, etc). En realidad es una interface a la biblioteca math en C."
   ]
  },
  {
   "cell_type": "code",
   "execution_count": 77,
   "id": "0b316b32",
   "metadata": {
    "collapsed": false
   },
   "outputs": [
    {
     "name": "stdout",
     "output_type": "stream",
     "text": [
      "3.963327297606011 3 4\n",
      "2.718281828459045 2 3\n",
      "10.0 3.0\n",
      "5040 362880 3628800\n",
      "Combinatorio: C(6,2): 15.0\n"
     ]
    }
   ],
   "source": [
    "import math\n",
    "# algunas constantes y funciones elementales\n",
    "raiz5pi= math.sqrt(5*math.pi)\n",
    "print (raiz5pi, math.floor(raiz5pi), math.ceil(raiz5pi))\n",
    "print (math.e, math.floor(math.e), math.ceil(math.e))\n",
    "# otras funciones elementales\n",
    "print (math.log(1024,2), math.log(27,3))\n",
    "print (math.factorial(7), math.factorial(9), math.factorial(10))\n",
    "print ('Combinatorio: C(6,2):',math.factorial(6)/(math.factorial(4)*math.factorial(2)))\n"
   ]
  },
  {
   "cell_type": "markdown",
   "id": "e6e21a06",
   "metadata": {
    "collapsed": false
   },
   "source": [
    "A veces, sólo necesitamos unas pocas funciones de un módulo. Entonces para abreviar la notación combiene importar sólo lo que vamos a usar, usando la notación:\n",
    "\n",
    "   `from xxx import yyy`"
   ]
  },
  {
   "cell_type": "code",
   "execution_count": 78,
   "id": "039e39fa",
   "metadata": {
    "collapsed": false
   },
   "outputs": [
    {
     "name": "stdout",
     "output_type": "stream",
     "text": [
      "10.0\n",
      "3.963327297606011 3\n"
     ]
    }
   ],
   "source": [
    "from math import sqrt, pi, log\n",
    "import math\n",
    "raiz5pi = sqrt(5*pi)\n",
    "print (log(1024, 2))\n",
    "print (raiz5pi, math.floor(raiz5pi))"
   ]
  },
  {
   "cell_type": "code",
   "execution_count": 79,
   "id": "a57859d0",
   "metadata": {
    "collapsed": false
   },
   "outputs": [
    {
     "data": {
      "text/plain": [
       "1.7888543819998317"
      ]
     },
     "execution_count": 79,
     "metadata": {},
     "output_type": "execute_result"
    }
   ],
   "source": [
    "import math as m\n",
    "m.sqrt(3.2)"
   ]
  },
  {
   "cell_type": "code",
   "execution_count": null,
   "id": "05f0dc9c",
   "metadata": {
    "collapsed": false
   },
   "outputs": [],
   "source": [
    "import math\n",
    "print(math.sqrt(-1))"
   ]
  },
  {
   "cell_type": "markdown",
   "id": "0e375004",
   "metadata": {
    "collapsed": false
   },
   "source": [
    "### Módulo `cmath`\n",
    "\n",
    "El módulo `math` no está diseñado para trabajar con números complejos, para ello existe el módulo **cmath**"
   ]
  },
  {
   "cell_type": "code",
   "execution_count": 83,
   "id": "3278dedf",
   "metadata": {
    "collapsed": false
   },
   "outputs": [
    {
     "name": "stdout",
     "output_type": "stream",
     "text": [
      "Usando cmath (-1)^0.5= 1j\n",
      "(1.8810978455418161-3.1409532491755083j)\n"
     ]
    }
   ],
   "source": [
    "import cmath\n",
    "print('Usando cmath (-1)^0.5=', cmath.sqrt(-1))\n",
    "print(cmath.cos(cmath.pi/3 + 2j))\n"
   ]
  },
  {
   "cell_type": "markdown",
   "id": "3b476ef8",
   "metadata": {
    "collapsed": false
   },
   "source": [
    "Si queremos calcular la fase (el ángulo que forma con el eje x) podemos usar la función phase"
   ]
  },
  {
   "cell_type": "code",
   "execution_count": 84,
   "id": "25b99854",
   "metadata": {
    "collapsed": false
   },
   "outputs": [
    {
     "data": {
      "text/plain": [
       "0.4636476090008061"
      ]
     },
     "execution_count": 84,
     "metadata": {},
     "output_type": "execute_result"
    }
   ],
   "source": [
    "z = 1 + 0.5j\n",
    "cmath.phase(z)                  # Resultado en radianes"
   ]
  },
  {
   "cell_type": "code",
   "execution_count": 85,
   "id": "a51ff4f9",
   "metadata": {
    "collapsed": false
   },
   "outputs": [
    {
     "data": {
      "text/plain": [
       "26.56505117707799"
      ]
     },
     "execution_count": 85,
     "metadata": {},
     "output_type": "execute_result"
    }
   ],
   "source": [
    "math.degrees(cmath.phase(z))    # Resultado en grados"
   ]
  },
  {
   "cell_type": "markdown",
   "id": "37219efb",
   "metadata": {
    "collapsed": false
   },
   "source": [
    "-------- \n",
    "\n",
    "## Ejercicios 02 (b)\n",
    "\n",
    "3. Manejos de listas:\n",
    "    - Cree la lista **N** de longitud 50, donde cada elemento es un número entero de 1 a 50 inclusive (Ayuda: vea la expresión ``range``).\n",
    "    - Invierta la lista.\n",
    "    - Extraiga una lista **N2** que contenga sólo los elementos pares de **N**.\n",
    "    - Extraiga una lista **N3** que contenga sólo aquellos elementos que sean el cuadrado de algún número entero.\n",
    "\n",
    "6. Cree una lista de la forma `L = [1,3,5,...,17,19,19,17,...,3,1]`\n",
    "\n",
    "7. Operación \"rara\" sobre una lista:\n",
    "    - Defina la lista `L = [0,1]`\n",
    "    - Realice la operación `L.append(L)`\n",
    "    - Ahora imprima L, e imprima el último elemento de `L`.\n",
    "    - Haga que una nueva lista `L1` tenga el valor del último elemento de `L` y repita el inciso anterior.\n",
    "    \n",
    "8. Utilizando funciones y métodos de *strings* en la cadena de caracteres:\n",
    "\n",
    "```python\n",
    "s1='En un lugar de la Mancha de cuyo nombre no quiero acordarme'\n",
    "\n",
    "```\n",
    "  - Obtenga la cantidad de caracteres.\n",
    "  - Imprima la frase anterior pero con cada palabra empezando en mayúsculas.\n",
    "  - Cuente cuantas letras 'a' tiene la frase, ¿cuántas vocales tiene?  \n",
    "  - Imprima el string `s1` centrado en una línea de 80 caracteres, rodeado de guiones en la forma:   \n",
    "        \n",
    "    ----------En un lugar de la Mancha de cuyo nombre no quiero acordarme-----------\n",
    "    \n",
    "  - Obtenga una lista **L1** donde cada elemento sea una palabra de la oración.\n",
    "  - Cuente la cantidad de palabras en ``s1`` (utilizando python).\n",
    "  - Ordene la lista **L1** en orden alfabético.\n",
    "  - Ordene la lista **L1** tal que las palabras más cortas estén primero.\n",
    "  - Ordene la lista **L1** tal que las palabras más largas estén primero.\n",
    "  - Construya un string **s2** con la lista del resultado del punto anterior.\n",
    "  - Encuentre la palabra más larga y la más corta de la frase.\n",
    "\n",
    "\n",
    "7. Escriba un script que encuentre las raíces de la ecuación cuadrática $a x^{2} + bx +c  = 0$. Los valores de los parámetros defínalos en el mismo script, un poco más arriba.\n",
    "\n",
    "3. Considere un polígono regular de $N$ lados inscripto en un círculo de radio unidad:\n",
    "    - Calcule el ángulo interior del polígono regular de $N$ lados (por ejemplo el de un triángulo es 60 grados, de un cuadrado es 90 grados, y de un pentágono es 108 grados). Exprese el resultado en grados y en radianes para valores de  $N= 3, 5, 6, 8, 9, 10, 12$.\n",
    "    - ¿Puede calcular la longitud del lado de los polígonos regulares si se encuentran inscriptos en un círculo de radio unidad?\n",
    "\n",
    "8. Escriba un *script* (llamado distancia1.py) que defina las variables velocidad y posición inicial $v_{0}$, $z_{0}$, la aceleración $g$, y la masa $m=1$ kg a tiempo $t=0$, y calcule e imprima la posición y velocidad a un tiempo posterior $t$. Ejecute el programa para varios valores de posición y velocidad inicial para $t=2$ segundos.\n",
    "Recuerde que las ecuaciones de movimiento con aceleración constante son:\n",
    "\n",
    "   $$v = v_0 - g t  \\\\  z = z_0 + v_0 t - g t^2/2.$$\n",
    "\n",
    "### Adicionales\n",
    "\n",
    "11. Calcular la suma:\n",
    "  $$s_{1} = \\frac{1}{2} \\left(\\sum_{k=0}^{100}k \\right)^{-1}$$\n",
    "  *Ayuda*: busque información sobre la función `sum()`\n",
    "\n",
    "10. Construir una lista `L2` con 2000 elementos, todos iguales a `0.0005`.\n",
    "Imprimir su suma utilizando la función `sum` y comparar con la función que existe en el módulo `math` para realizar suma de números de punto flotante.\n",
    "\n",
    "--------\n",
    "."
   ]
  }
 ],
 "metadata": {
  "kernelspec": {
   "argv": [
    "python",
    "-m",
    "ipykernel_launcher",
    "-f",
    "{connection_file}"
   ],
   "display_name": "Python 3 (ipykernel)",
   "env": null,
   "interrupt_mode": "signal",
   "language": "python",
   "metadata": {
    "debugger": true
   },
   "name": "python3"
  },
  "language_info": {
   "codemirror_mode": {
    "name": "ipython",
    "version": 3
   },
   "file_extension": ".py",
   "mimetype": "text/x-python",
   "name": "python",
   "nbconvert_exporter": "python",
   "pygments_lexer": "ipython3",
   "version": "3.10.2"
  },
  "name": "02_2_listas.ipynb",
  "toc": {
   "base_numbering": 1,
   "nav_menu": null,
   "number_sections": true,
   "sideBar": true,
   "skip_h1_title": true,
   "title_cell": "Contenidos",
   "title_sidebar": "Contenidos",
   "toc_cell": false,
   "toc_position": null,
   "toc_section_display": true,
   "toc_window_display": false
  }
 },
 "nbformat": 4,
 "nbformat_minor": 5
}
