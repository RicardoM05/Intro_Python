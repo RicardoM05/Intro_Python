{
 "cells": [
  {
   "cell_type": "markdown",
   "metadata": {
    "ein.tags": "worksheet-0",
    "slideshow": {
     "slide_type": "-"
    }
   },
   "source": [
    "## Objetos y clases  <a class=\"tocSkip\">"
   ]
  },
  {
   "cell_type": "markdown",
   "metadata": {
    "ein.tags": "worksheet-0",
    "slideshow": {
     "slide_type": "-"
    }
   },
   "source": [
    "\n",
    "## Atributos de clases y de instancias\n",
    "\n",
    "Las variables que hemos definido pertenecen a cada objeto. Por ejemplo cuando hacemos"
   ]
  },
  {
   "cell_type": "code",
   "execution_count": 1,
   "metadata": {
    "autoscroll": false,
    "ein.hycell": false,
    "ein.tags": "worksheet-0",
    "slideshow": {
     "slide_type": "-"
    }
   },
   "outputs": [],
   "source": [
    "class Punto:\n",
    "  \"Clase para describir un punto en el espacio\"\n",
    "  def __init__(self, x=0, y=0, z=0):\n",
    "    \"Inicializa un punto en el espacio\"\n",
    "    self.x = x\n",
    "    self.y = y\n",
    "    self.z = z\n",
    "    return None\n",
    "\n",
    "  def angulo_azimuthal(self):\n",
    "    \"Devuelve el ángulo que forma con el eje x, en radianes\"\n",
    "    return atan2(self.y, self.x)\n"
   ]
  },
  {
   "cell_type": "code",
   "execution_count": 2,
   "metadata": {
    "autoscroll": false,
    "ein.hycell": false,
    "ein.tags": "worksheet-0",
    "slideshow": {
     "slide_type": "-"
    }
   },
   "outputs": [],
   "source": [
    "p1 = Punto(1,2,3)\n",
    "p2 = Punto(4,5,6)"
   ]
  },
  {
   "cell_type": "markdown",
   "metadata": {
    "ein.tags": "worksheet-0",
    "slideshow": {
     "slide_type": "-"
    }
   },
   "source": [
    "cada vez que creamos un objeto de una dada clase, tiene un dato que corresponde al objeto. En este caso tanto `p1` como `p2` tienen un atributo llamado `x`, y cada uno de ellos tiene su propio valor:"
   ]
  },
  {
   "cell_type": "code",
   "execution_count": 3,
   "metadata": {
    "autoscroll": false,
    "ein.hycell": false,
    "ein.tags": "worksheet-0",
    "slideshow": {
     "slide_type": "-"
    }
   },
   "outputs": [
    {
     "name": "stdout",
     "output_type": "stream",
     "text": [
      "1 4\n"
     ]
    }
   ],
   "source": [
    "print(p1.x, p2.x)"
   ]
  },
  {
   "cell_type": "markdown",
   "metadata": {
    "ein.tags": "worksheet-0",
    "slideshow": {
     "slide_type": "-"
    }
   },
   "source": [
    "De la misma manera, en la definición de la clase nos referimos a estas variables como `self.x`, indicando que pertenecen a una instancia de una clase (o, lo que es lo mismo: un objeto específico).\n",
    "\n",
    "También existe la posibilidad de asociar variables (datos) con la clase y no con una instancia de esa clase (objeto). En el siguiente ejemplo, la variable `num_puntos` no pertenece a un `punto` en particular sino a la clase del tipo `Punto`"
   ]
  },
  {
   "cell_type": "code",
   "execution_count": 4,
   "metadata": {
    "autoscroll": false,
    "ein.hycell": false,
    "ein.tags": "worksheet-0",
    "slideshow": {
     "slide_type": "-"
    }
   },
   "outputs": [],
   "source": [
    "class Punto:\n",
    "  \"Clase para describir un punto en el espacio\"\n",
    "\n",
    "  num_puntos = 0\n",
    "  def __init__(self, x=0, y=0, z=0):\n",
    "    \"Inicializa un punto en el espacio\"\n",
    "    self.x = x\n",
    "    self.y = y\n",
    "    self.z = z\n",
    "    Punto.num_puntos += 1\n",
    "    return None\n"
   ]
  },
  {
   "cell_type": "code",
   "execution_count": 5,
   "metadata": {
    "autoscroll": false,
    "ein.hycell": false,
    "ein.tags": "worksheet-0",
    "slideshow": {
     "slide_type": "-"
    }
   },
   "outputs": [
    {
     "name": "stdout",
     "output_type": "stream",
     "text": [
      "Número de puntos: 0\n",
      "<__main__.Punto object at 0x7f4d4884bdd0> <__main__.Punto object at 0x7f4d4884bf90>\n",
      "Número de puntos: 2\n"
     ]
    }
   ],
   "source": [
    "print('Número de puntos:', Punto.num_puntos)\n",
    "p1 = Punto(1,1,1)\n",
    "p2 = Punto()\n",
    "print(p1, p2)\n",
    "print('Número de puntos:', Punto.num_puntos)"
   ]
  },
  {
   "cell_type": "code",
   "execution_count": 6,
   "metadata": {
    "autoscroll": false,
    "ein.hycell": false,
    "ein.tags": "worksheet-0",
    "slideshow": {
     "slide_type": "-"
    }
   },
   "outputs": [
    {
     "data": {
      "text/plain": [
       "{'x': 1, 'y': 1, 'z': 1}"
      ]
     },
     "execution_count": 6,
     "metadata": {},
     "output_type": "execute_result"
    }
   ],
   "source": [
    "p1.__dict__"
   ]
  },
  {
   "cell_type": "markdown",
   "metadata": {
    "ein.tags": "worksheet-0",
    "slideshow": {
     "slide_type": "-"
    }
   },
   "source": [
    "Si estamos contando el número de puntos que tenemos, podemos crear métodos para acceder a ellos y/o manipularlos. Estos métodos no se refieren a una instancia en particular (`p1` o `p2` en este ejemplo) sino al tipo de objeto `Punto` (a la clase)"
   ]
  },
  {
   "cell_type": "code",
   "execution_count": 7,
   "metadata": {
    "autoscroll": false,
    "ein.hycell": false,
    "ein.tags": "worksheet-0",
    "slideshow": {
     "slide_type": "-"
    }
   },
   "outputs": [],
   "source": [
    "del p1\n",
    "del p2"
   ]
  },
  {
   "cell_type": "code",
   "execution_count": 8,
   "metadata": {
    "autoscroll": false,
    "ein.hycell": false,
    "ein.tags": "worksheet-0",
    "slideshow": {
     "slide_type": "-"
    }
   },
   "outputs": [],
   "source": [
    "class Punto:\n",
    "  \"Clase para describir un punto en el espacio\"\n",
    "\n",
    "  num_puntos = 0\n",
    "  \n",
    "  def __init__(self, x=0, y=0, z=0):\n",
    "    \"Inicializa un punto en el espacio\"\n",
    "    self.x = x\n",
    "    self.y = y\n",
    "    self.z = z\n",
    "    Punto.num_puntos += 1\n",
    "    return None\n",
    "\n",
    "  def borrar(self):\n",
    "    \"Borra el punto\"\n",
    "    Punto.num_puntos -= 1\n",
    "\n",
    "  @classmethod\n",
    "  def total(cls):\n",
    "    \"Imprime el número total de puntos\"\n",
    "    print(\"En total hay {} puntos definidos\".format(cls.num_puntos))\n",
    "\n",
    "\n",
    "\n"
   ]
  },
  {
   "cell_type": "code",
   "execution_count": 9,
   "metadata": {
    "autoscroll": false,
    "ein.hycell": false,
    "ein.tags": "worksheet-0",
    "slideshow": {
     "slide_type": "-"
    }
   },
   "outputs": [
    {
     "name": "stdout",
     "output_type": "stream",
     "text": [
      "Número de puntos: 0\n",
      "<__main__.Punto object at 0x7f4d488557d0> <__main__.Punto object at 0x7f4d488559d0>\n",
      "En total hay 2 puntos definidos\n"
     ]
    }
   ],
   "source": [
    "print('Número de puntos:', Punto.num_puntos)\n",
    "p1 = Punto(1,1,1)\n",
    "p2 = Punto()\n",
    "print(p1, p2)\n",
    "Punto.total()"
   ]
  },
  {
   "cell_type": "code",
   "execution_count": 10,
   "metadata": {
    "autoscroll": false,
    "ein.hycell": false,
    "ein.tags": "worksheet-0",
    "slideshow": {
     "slide_type": "-"
    }
   },
   "outputs": [
    {
     "name": "stdout",
     "output_type": "stream",
     "text": [
      "En total hay 2 puntos definidos\n"
     ]
    }
   ],
   "source": [
    "p1.total()"
   ]
  },
  {
   "cell_type": "code",
   "execution_count": 11,
   "metadata": {
    "autoscroll": false,
    "ein.hycell": false,
    "ein.tags": "worksheet-0",
    "slideshow": {
     "slide_type": "-"
    }
   },
   "outputs": [
    {
     "name": "stdout",
     "output_type": "stream",
     "text": [
      "En total hay 1 puntos definidos\n"
     ]
    }
   ],
   "source": [
    "p1.borrar()\n",
    "Punto.total()"
   ]
  },
  {
   "cell_type": "markdown",
   "metadata": {
    "ein.tags": "worksheet-0",
    "slideshow": {
     "slide_type": "-"
    }
   },
   "source": [
    "Sin embargo, no estamos removiendo `p1`, sólo estamos actualizando el contador:"
   ]
  },
  {
   "cell_type": "code",
   "execution_count": 12,
   "metadata": {
    "autoscroll": false,
    "ein.hycell": false,
    "ein.tags": "worksheet-0",
    "slideshow": {
     "slide_type": "-"
    }
   },
   "outputs": [
    {
     "data": {
      "text/plain": [
       "1"
      ]
     },
     "execution_count": 12,
     "metadata": {},
     "output_type": "execute_result"
    }
   ],
   "source": [
    "p1.x"
   ]
  },
  {
   "cell_type": "markdown",
   "metadata": {
    "ein.tags": "worksheet-0",
    "slideshow": {
     "slide_type": "-"
    }
   },
   "source": [
    "## Algunos métodos \"especiales\"\n",
    "Hay algunos métodos que **Python** interpreta de manera especial. Ya vimos uno de ellos: `__init__`, que es llamado automáticamente cuando se crea una instancia de la clase.\n",
    "\n",
    "Similarmente, existe un método `__del__` que Python llama automáticamente cuando borramos un objeto\n",
    "\n"
   ]
  },
  {
   "cell_type": "code",
   "execution_count": 13,
   "metadata": {
    "autoscroll": false,
    "ein.hycell": false,
    "ein.tags": "worksheet-0",
    "slideshow": {
     "slide_type": "-"
    }
   },
   "outputs": [],
   "source": [
    "del p1\n",
    "del p2"
   ]
  },
  {
   "cell_type": "code",
   "execution_count": 14,
   "metadata": {
    "autoscroll": false,
    "ein.hycell": false,
    "ein.tags": "worksheet-0",
    "slideshow": {
     "slide_type": "-"
    }
   },
   "outputs": [],
   "source": [
    "class Punto:\n",
    "  \"Clase para describir un punto en el espacio\"\n",
    "\n",
    "  num_puntos = 0\n",
    "  \n",
    "  def __init__(self, x=0, y=0, z=0):\n",
    "    \"Inicializa un punto en el espacio\"\n",
    "    self.x = x\n",
    "    self.y = y\n",
    "    self.z = z\n",
    "    Punto.num_puntos += 1\n",
    "    return None\n",
    "\n",
    "  def __del__(self):\n",
    "    \"Borra el punto y actualiza el contador\"\n",
    "    Punto.num_puntos -= 1\n",
    "\n",
    "  @classmethod\n",
    "  def total(cls):\n",
    "    \"Imprime el número total de puntos\"\n",
    "    print(\"En total hay {} puntos definidos\".format(cls.num_puntos))\n"
   ]
  },
  {
   "cell_type": "code",
   "execution_count": 15,
   "metadata": {
    "autoscroll": false,
    "ein.hycell": false,
    "ein.tags": "worksheet-0",
    "slideshow": {
     "slide_type": "-"
    }
   },
   "outputs": [
    {
     "name": "stdout",
     "output_type": "stream",
     "text": [
      "En total hay 2 puntos definidos\n",
      "En total hay 1 puntos definidos\n"
     ]
    }
   ],
   "source": [
    "p1 = Punto(1,1,1)\n",
    "p2 = Punto()\n",
    "Punto.total()\n",
    "del p2\n",
    "Punto.total()"
   ]
  },
  {
   "cell_type": "code",
   "execution_count": 16,
   "metadata": {
    "autoscroll": false,
    "ein.hycell": false,
    "ein.tags": "worksheet-0",
    "slideshow": {
     "slide_type": "-"
    }
   },
   "outputs": [
    {
     "data": {
      "text/plain": [
       "<__main__.Punto at 0x7f4d4884b210>"
      ]
     },
     "execution_count": 16,
     "metadata": {},
     "output_type": "execute_result"
    }
   ],
   "source": [
    "p1"
   ]
  },
  {
   "cell_type": "code",
   "execution_count": 17,
   "metadata": {
    "autoscroll": false,
    "ein.hycell": false,
    "ein.tags": "worksheet-0",
    "slideshow": {
     "slide_type": "-"
    }
   },
   "outputs": [
    {
     "ename": "NameError",
     "evalue": "name 'p2' is not defined",
     "output_type": "error",
     "traceback": [
      "\u001b[0;31m---------------------------------------------------------------------------\u001b[0m",
      "\u001b[0;31mNameError\u001b[0m                                 Traceback (most recent call last)",
      "\u001b[0;32m<ipython-input-17-32960d173fa8>\u001b[0m in \u001b[0;36m<module>\u001b[0;34m\u001b[0m\n\u001b[0;32m----> 1\u001b[0;31m \u001b[0mp2\u001b[0m\u001b[0;34m\u001b[0m\u001b[0;34m\u001b[0m\u001b[0m\n\u001b[0m",
      "\u001b[0;31mNameError\u001b[0m: name 'p2' is not defined"
     ]
    }
   ],
   "source": [
    "p2"
   ]
  },
  {
   "cell_type": "markdown",
   "metadata": {
    "ein.tags": "worksheet-0",
    "slideshow": {
     "slide_type": "-"
    }
   },
   "source": [
    "Como vemos, al borrar (con `del` en este caso) el objeto, automáticamente se actualiza el contador.\n"
   ]
  },
  {
   "cell_type": "markdown",
   "metadata": {
    "ein.tags": "worksheet-0",
    "slideshow": {
     "slide_type": "-"
    }
   },
   "source": [
    "### Métodos `__str__` y `__repr__`\n",
    "\n",
    "El método `__str__` es especial, en el sentido en que puede ser utilizado aunque no lo llamemos explícitamente en nuestro código. En particular, es llamado cuando usamos expresiones del tipo `str(objeto)` o automáticamente cuando se utilizan las funciones `format` y `print()`. El objetivo de este método es que sea legible para los usuarios."
   ]
  },
  {
   "cell_type": "code",
   "execution_count": 18,
   "metadata": {
    "autoscroll": false,
    "ein.hycell": false,
    "ein.tags": "worksheet-0",
    "slideshow": {
     "slide_type": "-"
    }
   },
   "outputs": [],
   "source": [
    "p1 = Punto(1,1,1)"
   ]
  },
  {
   "cell_type": "code",
   "execution_count": 19,
   "metadata": {
    "autoscroll": false,
    "ein.hycell": false,
    "ein.tags": "worksheet-0",
    "slideshow": {
     "slide_type": "-"
    }
   },
   "outputs": [
    {
     "name": "stdout",
     "output_type": "stream",
     "text": [
      "<__main__.Punto object at 0x7f4d22fc7e50>\n"
     ]
    }
   ],
   "source": [
    "print(p1)"
   ]
  },
  {
   "cell_type": "raw",
   "metadata": {
    "autoscroll": false,
    "ein.hycell": false,
    "ein.tags": "worksheet-0",
    "slideshow": {
     "slide_type": "-"
    }
   },
   "source": [
    "Rehagamos la clase para definir vectores"
   ]
  },
  {
   "cell_type": "code",
   "execution_count": 20,
   "metadata": {
    "autoscroll": false,
    "ein.hycell": false,
    "ein.tags": "worksheet-0",
    "slideshow": {
     "slide_type": "-"
    }
   },
   "outputs": [],
   "source": [
    "class Punto:\n",
    "  \"Clase para describir un punto en el espacio\"\n",
    "\n",
    "  num_puntos = 0\n",
    "  \n",
    "  def __init__(self, x=0, y=0, z=0):\n",
    "    \"Inicializa un punto en el espacio\"\n",
    "    self.x = x\n",
    "    self.y = y\n",
    "    self.z = z\n",
    "    Punto.num_puntos += 1\n",
    "    return None\n",
    "\n",
    "  def __del__(self):\n",
    "    \"Borra el punto y actualiza el contador\"\n",
    "    Punto.num_puntos -= 1\n",
    "\n",
    "  def __str__(self):\n",
    "    s = \"(x = {}, y = {}, z = {})\".format(self.x, self.y, self.z)\n",
    "    return s\n",
    "\n",
    "  @classmethod\n",
    "  def total(cls):\n",
    "    \"Imprime el número total de puntos\"\n",
    "    print(\"En total hay {} puntos definidos\".format(cls.num_puntos))\n",
    "    "
   ]
  },
  {
   "cell_type": "code",
   "execution_count": 21,
   "metadata": {
    "autoscroll": false,
    "ein.hycell": false,
    "ein.tags": "worksheet-0",
    "slideshow": {
     "slide_type": "-"
    }
   },
   "outputs": [],
   "source": [
    "p1 = Punto(1,1,0)"
   ]
  },
  {
   "cell_type": "code",
   "execution_count": 22,
   "metadata": {
    "autoscroll": false,
    "ein.hycell": false,
    "ein.tags": "worksheet-0",
    "slideshow": {
     "slide_type": "-"
    }
   },
   "outputs": [
    {
     "name": "stdout",
     "output_type": "stream",
     "text": [
      "(x = 1, y = 1, z = 0)\n"
     ]
    }
   ],
   "source": [
    "print(p1)"
   ]
  },
  {
   "cell_type": "code",
   "execution_count": 23,
   "metadata": {
    "autoscroll": false,
    "ein.hycell": false,
    "ein.tags": "worksheet-0",
    "slideshow": {
     "slide_type": "-"
    }
   },
   "outputs": [
    {
     "data": {
      "text/plain": [
       "'punto en el espacio: (x = 1, y = 1, z = 0)'"
      ]
     },
     "execution_count": 23,
     "metadata": {},
     "output_type": "execute_result"
    }
   ],
   "source": [
    "ss = 'punto en el espacio: {}'.format(p1)\n",
    "ss"
   ]
  },
  {
   "cell_type": "code",
   "execution_count": 24,
   "metadata": {
    "autoscroll": false,
    "ein.hycell": false,
    "ein.tags": "worksheet-0",
    "slideshow": {
     "slide_type": "-"
    }
   },
   "outputs": [
    {
     "data": {
      "text/plain": [
       "<__main__.Punto at 0x7f4d22f6ea90>"
      ]
     },
     "execution_count": 24,
     "metadata": {},
     "output_type": "execute_result"
    }
   ],
   "source": [
    "p1"
   ]
  },
  {
   "cell_type": "markdown",
   "metadata": {
    "ein.tags": "worksheet-0",
    "slideshow": {
     "slide_type": "-"
    }
   },
   "source": [
    "Como vemos, si no usamos la función `print()` o `format()` sigue mostrándonos el objeto (que no es muy informativo). Esto puede remediarse agregando el método especial `__repr__`. Este método es el que se llama cuando queremos inspeccionar un objeto. El objetivo de este método es que de información sin ambigüedades."
   ]
  },
  {
   "cell_type": "code",
   "execution_count": 27,
   "metadata": {
    "autoscroll": false,
    "ein.hycell": false,
    "ein.tags": "worksheet-0",
    "slideshow": {
     "slide_type": "-"
    }
   },
   "outputs": [],
   "source": [
    "class Punto:\n",
    "  \"Clase para describir un punto en el espacio\"\n",
    "\n",
    "  num_puntos = 0\n",
    "  \n",
    "  def __init__(self, x=0, y=0, z=0):\n",
    "    \"Inicializa un punto en el espacio\"\n",
    "    self.x = x\n",
    "    self.y = y\n",
    "    self.z = z\n",
    "    Punto.num_puntos += 1\n",
    "    return None\n",
    "\n",
    "  def __del__(self):\n",
    "    \"Borra el punto y actualiza el contador\"\n",
    "    Punto.num_puntos -= 1\n",
    "\n",
    "  def __str__(self):\n",
    "    s = \"(x = {}, y = {}, z = {})\".format(self.x, self.y, self.z)\n",
    "    return s\n",
    "\n",
    "  def __repr__(self):\n",
    "    return \"Punto(x={}, y={}, z={})\".format(self.x, self.y, self.z)\n",
    "\n",
    "  @classmethod\n",
    "  def total(cls):\n",
    "    \"Imprime el número total de puntos\"\n",
    "    print(\"En total hay {} puntos definidos\".format(cls.num_puntos))\n",
    "    "
   ]
  },
  {
   "cell_type": "code",
   "execution_count": 28,
   "metadata": {
    "autoscroll": false,
    "ein.hycell": false,
    "ein.tags": "worksheet-0",
    "slideshow": {
     "slide_type": "-"
    }
   },
   "outputs": [],
   "source": [
    "p2 = Punto(0.3, 0.3, 1)"
   ]
  },
  {
   "cell_type": "code",
   "execution_count": 29,
   "metadata": {
    "autoscroll": false,
    "ein.hycell": false,
    "ein.tags": "worksheet-0",
    "slideshow": {
     "slide_type": "-"
    }
   },
   "outputs": [
    {
     "data": {
      "text/plain": [
       "Punto(x=0.3, y=0.3, z=1)"
      ]
     },
     "execution_count": 29,
     "metadata": {},
     "output_type": "execute_result"
    }
   ],
   "source": [
    "p2"
   ]
  },
  {
   "cell_type": "code",
   "execution_count": 30,
   "metadata": {
    "autoscroll": false,
    "ein.hycell": false,
    "ein.tags": "worksheet-0",
    "slideshow": {
     "slide_type": "-"
    }
   },
   "outputs": [
    {
     "data": {
      "text/plain": [
       "Punto(x=5, y=0.3, z=1)"
      ]
     },
     "execution_count": 30,
     "metadata": {},
     "output_type": "execute_result"
    }
   ],
   "source": [
    "p2.x = 5\n",
    "p2"
   ]
  },
  {
   "cell_type": "markdown",
   "metadata": {
    "ein.tags": "worksheet-0",
    "slideshow": {
     "slide_type": "-"
    }
   },
   "source": [
    "Como vemos ahora tenemos una representación del objeto, que nos da información precisa.\n",
    "\n",
    "### Método `__call__`\n",
    "\n",
    "Este método, si existe es ejecutado cuando llamamos al objeto. Si no existe, es un error llamar al objeto:"
   ]
  },
  {
   "cell_type": "code",
   "execution_count": 31,
   "metadata": {
    "autoscroll": false,
    "ein.hycell": false,
    "ein.tags": "worksheet-0",
    "slideshow": {
     "slide_type": "-"
    }
   },
   "outputs": [
    {
     "ename": "TypeError",
     "evalue": "'Punto' object is not callable",
     "output_type": "error",
     "traceback": [
      "\u001b[0;31m---------------------------------------------------------------------------\u001b[0m",
      "\u001b[0;31mTypeError\u001b[0m                                 Traceback (most recent call last)",
      "\u001b[0;32m<ipython-input-31-dd18cc1831f4>\u001b[0m in \u001b[0;36m<module>\u001b[0;34m\u001b[0m\n\u001b[0;32m----> 1\u001b[0;31m \u001b[0mp2\u001b[0m\u001b[0;34m(\u001b[0m\u001b[0;34m)\u001b[0m\u001b[0;34m\u001b[0m\u001b[0;34m\u001b[0m\u001b[0m\n\u001b[0m",
      "\u001b[0;31mTypeError\u001b[0m: 'Punto' object is not callable"
     ]
    }
   ],
   "source": [
    "p2()"
   ]
  },
  {
   "cell_type": "code",
   "execution_count": 35,
   "metadata": {
    "autoscroll": false,
    "ein.hycell": false,
    "ein.tags": "worksheet-0",
    "slideshow": {
     "slide_type": "-"
    }
   },
   "outputs": [],
   "source": [
    "class Punto:\n",
    "  \"Clase para describir un punto en el espacio\"\n",
    "\n",
    "  num_puntos = 0\n",
    "  \n",
    "  def __init__(self, x=0, y=0, z=0):\n",
    "    \"Inicializa un punto en el espacio\"\n",
    "    self.x = x\n",
    "    self.y = y\n",
    "    self.z = z\n",
    "    Punto.num_puntos += 1\n",
    "    return None\n",
    "\n",
    "  def __del__(self):\n",
    "    \"Borra el punto y actualiza el contador\"\n",
    "    Punto.num_puntos -= 1\n",
    "\n",
    "  def __str__(self):\n",
    "    s = \"(x = {}, y = {}, z = {})\".format(self.x, self.y, self.z)\n",
    "    return s\n",
    "\n",
    "  def __repr__(self):\n",
    "    return \"Punto(x={}, y={}, z={})\".format(self.x, self.y, self.z)\n",
    "\n",
    "  def __call__(self):\n",
    "    return \"Ejecuté el objeto: {}\".format(self)\n",
    "#    return str(self)\n",
    "#    return \"{}\".format(self)\n",
    "\n",
    "  @classmethod\n",
    "  def total(cls):\n",
    "    \"Imprime el número total de puntos\"\n",
    "    print(\"En total hay {} puntos definidos\".format(cls.num_puntos))\n",
    "    "
   ]
  },
  {
   "cell_type": "code",
   "execution_count": 36,
   "metadata": {
    "autoscroll": false,
    "ein.hycell": false,
    "ein.tags": "worksheet-0",
    "slideshow": {
     "slide_type": "-"
    }
   },
   "outputs": [
    {
     "data": {
      "text/plain": [
       "Punto(x=1, y=3, z=4)"
      ]
     },
     "execution_count": 36,
     "metadata": {},
     "output_type": "execute_result"
    }
   ],
   "source": [
    "p3 = Punto(1,3,4)\n",
    "p3"
   ]
  },
  {
   "cell_type": "code",
   "execution_count": 37,
   "metadata": {
    "autoscroll": false,
    "ein.hycell": false,
    "ein.tags": "worksheet-0",
    "slideshow": {
     "slide_type": "-"
    }
   },
   "outputs": [
    {
     "data": {
      "text/plain": [
       "'Ejecuté el objeto: (x = 1, y = 3, z = 4)'"
      ]
     },
     "execution_count": 37,
     "metadata": {},
     "output_type": "execute_result"
    }
   ],
   "source": [
    "p3()"
   ]
  },
  {
   "cell_type": "markdown",
   "metadata": {
    "ein.tags": "worksheet-0",
    "slideshow": {
     "slide_type": "-"
    }
   },
   "source": [
    "## Ejercicios 06 (b)\n",
    "\n",
    "  1. Utilizando la definición de la clase `Punto`:\n",
    "\n",
    "  ```python\n",
    "  \n",
    "  class Punto:\n",
    "    \"Clase para describir un punto en el espacio\"\n",
    "  \n",
    "    num_puntos = 0\n",
    "    \n",
    "    def __init__(self, x=0, y=0, z=0):\n",
    "      \"Inicializa un punto en el espacio\"\n",
    "      self.x = x\n",
    "      self.y = y\n",
    "      self.z = z\n",
    "      Punto.num_puntos += 1\n",
    "      return None\n",
    "  \n",
    "    def __del__(self):\n",
    "      \"Borra el punto y actualiza el contador\"\n",
    "      Punto.num_puntos -= 1\n",
    "  \n",
    "    def __str__(self):\n",
    "      s = \"(x = {}, y = {}, z = {})\".format(self.x, self.y, self.z)\n",
    "      return s\n",
    "  \n",
    "    def __repr__(self):\n",
    "      return \"Punto(x={}, y={}, z={})\".format(self.x, self.y, self.z)\n",
    "  \n",
    "    def __call__(self):\n",
    "      return self.__str__()\n",
    "  \n",
    "    @classmethod\n",
    "    def total(cls):\n",
    "      \"Imprime el número total de puntos\"\n",
    "      print(\"En total hay {} puntos definidos\".format(cls.num_puntos))\n",
    "  ```\n",
    "  \n",
    "  Complete la implementación de la clase `Vector` con los métodos pedidos\n",
    "  \n",
    "  \n",
    "  ```python\n",
    "  \n",
    "  class Vector(Punto):\n",
    "    \"Representa un vector en el espacio\"\n",
    "  \n",
    "    def suma(self, v2):\n",
    "      \"Calcula un vector que contiene la suma de dos vectores\"\n",
    "      print(\"Aún no implementada la suma de dos vectores\") \n",
    "      # código calculando v = suma de self + v2\n",
    "      # ...\n",
    "  \n",
    "    def producto(self, v2):\n",
    "      \"Calcula el producto interno entre dos vectores\"\n",
    "      print(\"Aún no implementado el producto interno de dos vectores\") \n",
    "      # código calculando el producto interno pr = v1 . v2\n",
    "  \n",
    "    def abs(self):\n",
    "      \"Devuelve la distancia del punto al origen\"\n",
    "      print(\"Aún no implementado la norma del vector\") \n",
    "      # código calculando la magnitud del vector\n",
    "  \n",
    "    def angulo_entre_vectores(self, v2):\n",
    "      \"Calcula el ángulo entre dos vectores\"\n",
    "      print(\"Aún no implementado el ángulo entre dos vectores\") \n",
    "      angulo = 0\n",
    "      # código calculando angulo = arccos(v1 * v2 / (|v1||v2|))\n",
    "      return angulo\n",
    "  \n",
    "    def coordenadas_cilindricas(self):\n",
    "      \"Devuelve las coordenadas cilindricas del vector como una tupla (r, theta, z)\"\n",
    "      print(\"No implementada\")\n",
    "  \n",
    "    def coordenadas_esfericas(self):\n",
    "      \"Devuelve las coordenadas esféricas del vector como una tupla (r, theta, phi)\"\n",
    "      print(\"No implementada\")\n",
    "  ```\n",
    "\n",
    "  \n",
    "\n",
    "3. **PARA ENTREGAR:** Cree una clase `Polinomio` para representar polinomios. La clase debe guardar los datos representando todos los coeficientes. El grado del polinomio será *menor o igual a 9* (un dígito).\n",
    "\n",
    "    * **NOTA:** Utilice el archivo **polinomio_06.py** en el directorio **data**, que renombrará de la forma usual `Apellido_06.py`. Se le pide que programe:\n",
    "\n",
    "    * Un método de inicialización `__init__` que acepte una lista de coeficientes. Por ejemplo para el polinomio $4 x^3 + 3 x^2 + 2 x + 1$ usaríamos:\n",
    "    ```python\n",
    "    >>> p = Polinomio([1,2,3,4])\n",
    "    ```\n",
    "\n",
    "    * Un método `grado` que devuelva el orden del polinomio\n",
    "    ```python\n",
    "    >>> p = Polinomio([1,2,3,4])\n",
    "    >>> p.grado()\n",
    "    3\n",
    "    ```\n",
    "\n",
    "    * Un método `get_coeficientes`, que devuelva una lista con los coeficientes:\n",
    "    ```python\n",
    "    >>> p.get_coeficientes()\n",
    "    [1, 2, 3, 4]\n",
    "    ```\n",
    "\n",
    "    * Un método `set_coeficientes`, que fije los coeficientes de la lista:\n",
    "    ```python\n",
    "    >>> p1 = Polinomio()\n",
    "    >>> p1.set_coeficientes([1, 2, 3, 4])\n",
    "    >>> p1.get_coeficientes()\n",
    "    [1, 2, 3, 4]\n",
    "    ```\n",
    "    \n",
    "    * El método `suma_pol` que le sume otro polinomio y devuelva un polinomio (objeto del mismo tipo)\n",
    "    \n",
    "    * El método `mul` que multiplica al polinomio por una constante y devuelve un nuevo polinomio\n",
    "    \n",
    "    * Un método, `derivada`, que devuelva la derivada de orden `n` del polinomio (otro polinomio):\n",
    "    ```python\n",
    "    >>> p1 = p.derivada()\n",
    "    >>> p1.get_coeficientes()\n",
    "    [2, 6, 12]\n",
    "    >>> p2 = p.derivada(n=2)\n",
    "    >>> p2.get_coeficientes()\n",
    "    [6, 24]\n",
    "    ```\n",
    "\n",
    "    * Un método que devuelva la integral (antiderivada) del polinomio de orden `n`, con constante de integración `cte` (otro polinomio).\n",
    "    ```python\n",
    "    >>> p1 = p.integrada()\n",
    "    >>> p1.get_coeficientes()\n",
    "    [0, 1, 1, 1, 1]\n",
    "    >>>\n",
    "    >>> p2 = p.integrada(cte=2)\n",
    "    >>> p2.get_coeficientes()\n",
    "    [2, 1, 1, 1, 1]\n",
    "    >>>\n",
    "    >>> p3 = p.integrada(n=3, cte=1.5)\n",
    "    >>> p3.get_coeficientes()\n",
    "    [1.5, 1.5, 0.75, 0.16666666666666666, 0.08333333333333333, 0.05]\n",
    "    ```\n",
    "\n",
    "    * El método `eval`, que evalúe el polinomio en un dado valor de x.\n",
    "    ```python\n",
    "    >>> p = Polinomio([1,2,3,4])\n",
    "    >>> p.eval(x=2)\n",
    "    49\n",
    "    >>>\n",
    "    >>> p.eval(x=0.5)\n",
    "    3.25\n",
    "    ```\n",
    "\n",
    "    * (**Si puede**) Un método `from_string` que crea un polinomio desde un string en la forma:\n",
    "    ```python\n",
    "    >>> p = Polinomio()\n",
    "    >>> p.from_string('x^5 + 3x^3 - 2 x+x^2 + 3 - x')\n",
    "    >>> p.get_coeficientes()\n",
    "    [3, -3, 1, 3, 0, 1]\n",
    "    >>>\n",
    "    >>> p1 = Polinomio()\n",
    "    >>> p1.from_string('y^5 + 3y^3 - 2 y + y^2+3', var='y')\n",
    "    >>> p1.get_coeficientes()\n",
    "    [3, -2, 1, 3, 0, 1]\n",
    "    ```\n",
    "    \n",
    "    * Escriba un método llamado `__str__`, que devuelva un string (que define cómo se va a imprimir el polinomio). Un ejemplo de salida será:\n",
    "    ```python\n",
    "    >>> p = Polinomio([1,2.1,3,4])\n",
    "    >>> print(p)\n",
    "    4 x^3 + 3 x^2 + 2.1 x + 1\n",
    "    ```\n",
    "\n",
    "    * Escriba un método llamado `__call__`, de manera tal que al llamar al objeto, evalúe el polinomio (use el método `eval` definido anteriormente)\n",
    "    ```python\n",
    "    >>> p = Polinomio([1,2,3,4])\n",
    "    >>> p(x=2)\n",
    "    49\n",
    "    >>>\n",
    "    >>> p(0.5)\n",
    "    3.25\n",
    "    ```\n",
    "\n",
    "    * Escriba un método llamado `__add__(self, p)`, que evalúe la suma de polinomios usando  el método `suma_pol` definido anteriormente. Eso permitirá usar la operación de suma en la forma:\n",
    "    ```python\n",
    "    >>> p1 = Polinomio([1,2,3,4])\n",
    "    >>> p2 = Polinomio([1,2,3,4])\n",
    "    >>> p1 + p2\n",
    "    ```\n",
    "    \n"
   ]
  }
 ],
 "metadata": {
  "kernelspec": {
   "display_name": "Python 3",
   "language": "python",
   "name": "python3"
  },
  "language_info": {
   "codemirror_mode": {
    "name": "ipython",
    "version": 3
   },
   "file_extension": ".py",
   "mimetype": "text/x-python",
   "name": "python",
   "nbconvert_exporter": "python",
   "pygments_lexer": "ipython3",
   "version": "3.7.6"
  },
  "name": "06_objetos_p2.ipynb",
  "toc": {
   "base_numbering": 1,
   "nav_menu": {
    "height": "132.3px",
    "width": "251.5px"
   },
   "number_sections": true,
   "sideBar": true,
   "skip_h1_title": false,
   "title_cell": "Contenidos",
   "title_sidebar": "Contenidos",
   "toc_cell": false,
   "toc_position": null,
   "toc_section_display": true,
   "toc_window_display": false
  }
 },
 "nbformat": 4,
 "nbformat_minor": 1
}
