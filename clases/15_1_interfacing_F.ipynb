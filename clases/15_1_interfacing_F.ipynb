{
 "cells": [
  {
   "cell_type": "markdown",
   "id": "a95a3cb8-0607-495d-b022-ac75f00c6c3d",
   "metadata": {
    "collapsed": false,
    "ein.tags": "worksheet-0",
    "slideshow": {
     "slide_type": "-"
    }
   },
   "source": [
    "# Interfaces con otros lenguajes: Fortran\n",
    "\n",
    "## Ejemplo 1: Rotación de vectores\n",
    "\n",
    "Supongamos que queremos resolver el problema de la rotación de vectores en el espacio usando los [tres ángulos de Euler](https://mathworld.wolfram.com/EulerAngles.html). \n",
    "\n",
    "Dado un array con los tres ángulos de Euler, calculamos la matriz de rotación (de 3 x 3), y la aplicamos (esto es, multiplicamos) a un arreglo de _N_ vectores.\n",
    "\n"
   ]
  },
  {
   "cell_type": "markdown",
   "id": "cd95965c-c85c-48c8-9a05-c942e015d2a9",
   "metadata": {
    "collapsed": false
   },
   "source": [
    "En una primer versión, podemos hacerlo en Python directamente en el notebook:"
   ]
  },
  {
   "cell_type": "code",
   "execution_count": null,
   "id": "5713b40a-1a32-4e6e-9cff-bc13179d9e83",
   "metadata": {
    "autoscroll": false,
    "collapsed": false,
    "ein.tags": "worksheet-0",
    "slideshow": {
     "slide_type": "-"
    }
   },
   "outputs": [],
   "source": [
    "import numpy as np\n",
    "\n",
    "def matrix_rotation(angles):\n",
    "  cx, cy, cz = np.cos(angles)\n",
    "  sx, sy, sz = np.sin(angles)\n",
    "  R = np.zeros((3, 3))\n",
    "  R[0, 0] = cx * cz - sx * cy * sz\n",
    "  R[0, 1] = cx * sz + sx * cy * cz\n",
    "  R[0, 2] = sx * sy\n",
    "\n",
    "  R[1, 0] = -sx * cz - cx * cy * sz\n",
    "  R[1, 1] = -sx * sz + cx * cy * cz\n",
    "  R[1, 2] = cx * sy\n",
    "\n",
    "  R[2, 0] = sy * sz\n",
    "  R[2, 1] = -sy * cz\n",
    "  R[2, 2] = cy\n",
    "  return R\n",
    "\n",
    "\n",
    "def rotate(angles, v):\n",
    "  return np.dot(matrix_rotation(angles), v)"
   ]
  },
  {
   "cell_type": "code",
   "execution_count": null,
   "id": "4b800d7d-cf8e-479e-bc5a-eb35d94536a6",
   "metadata": {
    "collapsed": false
   },
   "outputs": [],
   "source": [
    "N = 100\n",
    "# Ángulos de Euler\n",
    "angle = np.random.random(3)\n",
    "# Definimos N vectores tridimensionales\n",
    "v = np.random.random((3, N))"
   ]
  },
  {
   "cell_type": "markdown",
   "id": "02e8b0b7-1630-48ed-8059-f1fa3836b4e3",
   "metadata": {
    "collapsed": false,
    "ein.tags": "worksheet-0",
    "slideshow": {
     "slide_type": "-"
    }
   },
   "source": [
    "Si ya tenemos un módulo donde están programadas las funciones necesarias "
   ]
  },
  {
   "cell_type": "code",
   "execution_count": null,
   "id": "47ce31f2-254b-423b-bdc6-1245a8b9afc9",
   "metadata": {
    "autoscroll": false,
    "collapsed": false,
    "ein.tags": "worksheet-0",
    "slideshow": {
     "slide_type": "-"
    }
   },
   "outputs": [],
   "source": [
    "# %load rotacion_p.py\n",
    "#! /usr/bin/ipython3\n",
    "import numpy as np\n",
    "\n",
    "\n",
    "def matrix_rotation(angles):\n",
    "  cx, cy, cz = np.cos(angles)\n",
    "  sx, sy, sz = np.sin(angles)\n",
    "  R = np.zeros((3, 3))\n",
    "  R[0, 0] = cx * cz - sx * cy * sz\n",
    "  R[0, 1] = cx * sz + sx * cy * cz\n",
    "  R[0, 2] = sx * sy\n",
    "\n",
    "  R[1, 0] = -sx * cz - cx * cy * sz\n",
    "  R[1, 1] = -sx * sz + cx * cy * cz\n",
    "  R[1, 2] = cx * sy\n",
    "\n",
    "  R[2, 0] = sy * sz\n",
    "  R[2, 1] = -sy * cz\n",
    "  R[2, 2] = cy\n",
    "  return R\n",
    "\n",
    "\n",
    "def rotate(angles, v):\n",
    "  return np.dot(matrix_rotation(angles), v)\n"
   ]
  },
  {
   "cell_type": "markdown",
   "id": "fc1c254d-8fb5-4d9b-b458-d35ac8cf5f19",
   "metadata": {
    "collapsed": false,
    "ein.tags": "worksheet-0",
    "slideshow": {
     "slide_type": "-"
    }
   },
   "source": [
    "es fácil utilizarlas:"
   ]
  },
  {
   "cell_type": "code",
   "execution_count": null,
   "id": "851f3713-3fff-43f8-9a21-2c8f56c5bbdb",
   "metadata": {
    "autoscroll": false,
    "collapsed": false,
    "ein.tags": "worksheet-0",
    "slideshow": {
     "slide_type": "-"
    }
   },
   "outputs": [],
   "source": [
    "N = 100\n",
    "# Ángulos de Euler\n",
    "angle = np.random.random(3)\n",
    "# Definimos N vectores tridimensionales\n",
    "v = np.random.random((3, N))"
   ]
  },
  {
   "cell_type": "code",
   "execution_count": null,
   "id": "8980f3a9-383e-4a3f-bbb1-a418652c6640",
   "metadata": {
    "collapsed": false
   },
   "outputs": [],
   "source": [
    "y = rotate(angle,v)"
   ]
  },
  {
   "cell_type": "code",
   "execution_count": null,
   "id": "e28d1106-b90b-4d4b-b24f-5b0d95d2fb53",
   "metadata": {
    "collapsed": false
   },
   "outputs": [],
   "source": [
    "print(angle)\n",
    "print(y[:,0:5].T)"
   ]
  },
  {
   "cell_type": "markdown",
   "id": "0ef360e4-0259-49eb-8a4e-d79ec26baa92",
   "metadata": {
    "collapsed": false
   },
   "source": [
    "### Importando desde un módulo en un archivo\n",
    "\n",
    "También podemos tener las funciones para la rotación en un módulo `rotaciones.py`. Recordemos cómo se importarían en este caso"
   ]
  },
  {
   "cell_type": "code",
   "execution_count": null,
   "id": "08b9b47a-c9a4-445f-ad8d-361a39328230",
   "metadata": {
    "collapsed": false
   },
   "outputs": [],
   "source": [
    "pwd"
   ]
  },
  {
   "cell_type": "code",
   "execution_count": null,
   "id": "abd97a32-8110-477e-877d-a0d6f614b24e",
   "metadata": {
    "collapsed": false
   },
   "outputs": [],
   "source": [
    "cd ../scripts/interfacing_python"
   ]
  },
  {
   "cell_type": "code",
   "execution_count": null,
   "id": "f6515470-d698-4182-bbc0-e1faa6f22994",
   "metadata": {
    "collapsed": false
   },
   "outputs": [],
   "source": [
    "ls"
   ]
  },
  {
   "cell_type": "code",
   "execution_count": null,
   "id": "6280a988-fd29-4e52-99f2-7ecb1a59eb8f",
   "metadata": {
    "collapsed": false
   },
   "outputs": [],
   "source": [
    "import rotaciones as rotp"
   ]
  },
  {
   "cell_type": "code",
   "execution_count": null,
   "id": "4b71318a-fd97-454e-a3ee-3df6f6de5e03",
   "metadata": {
    "collapsed": false
   },
   "outputs": [],
   "source": [
    "help(rotp)"
   ]
  },
  {
   "cell_type": "code",
   "execution_count": null,
   "id": "8ccc15c5-e5f5-4a35-8096-0957b49a4be4",
   "metadata": {
    "collapsed": false
   },
   "outputs": [],
   "source": [
    "yp = rotp.rotate(angle,v)"
   ]
  },
  {
   "cell_type": "code",
   "execution_count": null,
   "id": "e757c136-c4bb-4304-b610-16211a3db16b",
   "metadata": {
    "collapsed": false
   },
   "outputs": [],
   "source": [
    "print(yp[:,0:5].T)\n",
    "np.allclose(y,yp)"
   ]
  },
  {
   "cell_type": "markdown",
   "id": "852b5462-d523-4acc-92a1-c5916576774e",
   "metadata": {
    "collapsed": false,
    "ein.tags": "worksheet-0",
    "slideshow": {
     "slide_type": "-"
    }
   },
   "source": [
    "## Interfaces con Fortran\n",
    "\n",
    "Veamos cómo trabajar si tenemos el código para realizar las rotaciones en Fortran\n",
    "\n",
    "### Primer ejemplo: Nuestro código\n",
    "\n",
    "El código en Fortran que tenemos es:\n",
    "\n",
    "```fortran\n",
    "function rotate(theta, v, N) result(y)\n",
    "  implicit none\n",
    "  integer :: N\n",
    "  real(8), dimension(3), intent(IN) :: theta\n",
    "  real(8), dimension(3,N), intent(IN) :: v\n",
    "  real(8), dimension(3,N) :: y\n",
    "  real(8), dimension(3,3) :: R\n",
    "  real(8) :: cx, cy, cz, sx, sy, sz\n",
    "\n",
    "  ! Senos y Cosenos de los tres ángulos de Euler \n",
    "  cx = cos(theta(1)); cy = cos(theta(2)); cz = cos(theta(3))\n",
    "  sx = sin(theta(1)); sy = sin(theta(2)); sz = sin(theta(3))\n",
    "\n",
    "  ! Matriz de rotación\n",
    "  R(1,1) = cx*cz - sx*cy*sz\n",
    "  R(1,2) = cx*sz + sx*cy*cz\n",
    "  R(1,3) = sx*sy\n",
    "\n",
    "  R(2,1) = -sx*cz - cx*cy*sz\n",
    "  R(2,2) = -sx*sz + cx*cy*cz\n",
    "  R(2,3) = cx*sy\n",
    "\n",
    "  R(3,1) = sy*sz\n",
    "  R(3,2) = -sy*cz\n",
    "  R(3,3) = cy\n",
    "\n",
    "  ! Aplicamos la rotación\n",
    "  y = matmul(R, v)\n",
    "end function rotate\n",
    "```"
   ]
  },
  {
   "cell_type": "code",
   "execution_count": null,
   "id": "e0a310a4-fd93-4740-a9da-66c2ae133d9b",
   "metadata": {
    "collapsed": false
   },
   "outputs": [],
   "source": [
    "cd ../interfacing_F"
   ]
  },
  {
   "cell_type": "markdown",
   "id": "3574522f-70ca-46ac-98a4-0629cbdf883f",
   "metadata": {
    "collapsed": false,
    "ein.tags": "worksheet-0",
    "slideshow": {
     "slide_type": "-"
    }
   },
   "source": [
    "### F2PY\n",
    "F2PY  -Fortran to Python interface generator- es una utilidad que permite generar una interface para utilizar funciones y datos definidos en Fortran desde Python.\n",
    "\n",
    "Información sobre la interfaz entre Fotran y Python, y en particular sobre F2PY, puede encontrarse en:\n",
    "\n",
    "- [Scipy cookbook](http://scipy-cookbook.readthedocs.io/items/idx_interfacing_with_other_languages.html)\n",
    "- [F2PY Users Guide and Reference Manual](https://docs.scipy.org/doc/numpy-dev/f2py/index.html)\n",
    "- [Fortran Best Practices](http://www.fortran90.org/src/best-practices.html#interfacing-with-python)\n",
    "- http://websrv.cs.umt.edu/isis/index.php/F2py_example"
   ]
  },
  {
   "cell_type": "markdown",
   "id": "d5c9e804-0603-4fd5-b81b-ccd659fb6ffe",
   "metadata": {
    "collapsed": false,
    "ein.tags": "worksheet-0",
    "slideshow": {
     "slide_type": "-"
    }
   },
   "source": [
    "El primer paso es utilizar esta utilidad:\n",
    "```bash\n",
    "$ f2py3 -c rotacion.f90 -m rotacion_f\n",
    "```"
   ]
  },
  {
   "cell_type": "code",
   "execution_count": null,
   "id": "a8edf616-49fd-467f-9d8a-002ca9fe22b7",
   "metadata": {
    "autoscroll": false,
    "collapsed": false,
    "ein.tags": "worksheet-0",
    "slideshow": {
     "slide_type": "-"
    }
   },
   "outputs": [],
   "source": [
    "!f2py3 -c rotacion.f90 -m rotacion_f"
   ]
  },
  {
   "cell_type": "code",
   "execution_count": null,
   "id": "9a625559-fab3-4433-80c3-aca7fb5b4ee7",
   "metadata": {
    "autoscroll": false,
    "collapsed": false,
    "ein.tags": "worksheet-0",
    "slideshow": {
     "slide_type": "-"
    }
   },
   "outputs": [],
   "source": [
    "from rotacion_f import rotaciones as rotf"
   ]
  },
  {
   "cell_type": "code",
   "execution_count": null,
   "id": "f7958dfb-5388-4084-8ef1-5ffc1371317d",
   "metadata": {
    "autoscroll": false,
    "collapsed": false,
    "ein.tags": "worksheet-0",
    "slideshow": {
     "slide_type": "-"
    }
   },
   "outputs": [],
   "source": [
    "yf = rotf.rotate(angle, v)\n",
    "print(y[:,0:5].T)\n",
    "print(yf[:,0:5].T)\n",
    "np.allclose(yf,y)"
   ]
  },
  {
   "cell_type": "markdown",
   "id": "ee789a2b-3832-4b2f-b694-583c6c69abe6",
   "metadata": {
    "collapsed": false,
    "ein.tags": "worksheet-0",
    "slideshow": {
     "slide_type": "-"
    }
   },
   "source": [
    "Veamos qué es exactamente lo que importamos:"
   ]
  },
  {
   "cell_type": "code",
   "execution_count": null,
   "id": "077ebb56-ec98-4968-a152-4496d77759c4",
   "metadata": {
    "autoscroll": false,
    "collapsed": false,
    "ein.tags": "worksheet-0",
    "slideshow": {
     "slide_type": "-"
    }
   },
   "outputs": [],
   "source": [
    "np.info(rotf.rotate)"
   ]
  },
  {
   "cell_type": "markdown",
   "id": "f2d05f97-7766-42db-8f38-20f5606c58de",
   "metadata": {
    "collapsed": false,
    "ein.tags": "worksheet-0",
    "slideshow": {
     "slide_type": "-"
    }
   },
   "source": [
    "Como vemos, estamos usando la función `rotate` definida en Fortran. Notar que:\n",
    "* Tiene tres argumentos.\n",
    "   * Dos argumentos requeridos: `angles` y `v`\n",
    "   * Un argumento, correspondiente a la dimensión `n` que F2PY automáticamente detecta como opcional.\n",
    "\n",
    "             "
   ]
  },
  {
   "cell_type": "markdown",
   "id": "76d6a878-3bdd-4d61-869b-519a8f78afbc",
   "metadata": {
    "collapsed": false,
    "ein.tags": "worksheet-0",
    "slideshow": {
     "slide_type": "-"
    }
   },
   "source": [
    "### Segundo Ejemplo: Código heredado\n",
    "\n",
    "La conversión que realizamos con f2py3 la podríamos haber realizado en dos pasos:\n",
    "\n",
    "```bash\n",
    "$ f2py3 rotacion.f90 -m rotacion_f -h rotacion.pyf\n",
    "$ f2py3 -c rotacion.pyf -m rotacion_f\n",
    "```\n",
    "En el primer paso se crea un archivo *signature* que después se utiliza para crear el módulo que llamaremos desde **Python**. Haciéndolo en dos pasos nos permite modificar el texto del archivo *.pyf* antes de ejecutar el segundo comando.\n",
    "\n",
    "Esto es útil cuando el código original no es lo suficientemente \"moderno\", no tiene toda la información necesaria sobre los argumentos o es un código que uno no quiere o puede editar. Veamos que forma tienen con un ejemplo más simple (tomado de la [guía de usuario](https://docs.scipy.org/doc/numpy-dev/f2py/getting-started.html)):\n",
    "\n",
    "```fortran\n",
    "      SUBROUTINE FIB(A,N)\n",
    "C\n",
    "C     CALCULATE FIRST N FIBONACCI NUMBERS\n",
    "C\n",
    "      INTEGER N\n",
    "      REAL*8 A(N)\n",
    "      DO I=1,N\n",
    "         IF (I.EQ.1) THEN\n",
    "            A(I) = 0.0D0\n",
    "         ELSEIF (I.EQ.2) THEN\n",
    "            A(I) = 1.0D0\n",
    "         ELSE \n",
    "            A(I) = A(I-1) + A(I-2)\n",
    "         ENDIF\n",
    "      ENDDO\n",
    "      END\n",
    "```"
   ]
  },
  {
   "cell_type": "code",
   "execution_count": null,
   "id": "e0ab3350-f1fc-44d5-a148-88615f05cae0",
   "metadata": {
    "autoscroll": false,
    "collapsed": false,
    "ein.tags": "worksheet-0",
    "slideshow": {
     "slide_type": "-"
    }
   },
   "outputs": [],
   "source": [
    "!f2py3 --overwrite-signature fib1.f -m fib1 -h fib1.pyf"
   ]
  },
  {
   "cell_type": "code",
   "execution_count": null,
   "id": "63243b9d-947a-4266-9a8e-782b1a92bc87",
   "metadata": {
    "collapsed": false
   },
   "outputs": [],
   "source": [
    "!cat fib1.pyf"
   ]
  },
  {
   "cell_type": "markdown",
   "id": "a4401ebf-0b35-4fb8-9122-58319a8a7e86",
   "metadata": {
    "collapsed": false,
    "ein.tags": "worksheet-0",
    "slideshow": {
     "slide_type": "-"
    }
   },
   "source": [
    "El contenido del archivo `fib1.pyf` es:\n",
    "\n",
    "```fortran90\n",
    "python module fib1 ! in \n",
    "    interface  ! in :fib1\n",
    "        subroutine fib(a,n) ! in :fib1:fib1.f\n",
    "            real*8 dimension(n) :: a\n",
    "            integer, optional,check(len(a)>=n),depend(a) :: n=len(a)\n",
    "        end subroutine fib\n",
    "    end interface \n",
    "end python module fib1\n",
    "```\n",
    "\n",
    "Este código indica que tenemos una subrutina que toma dos argumentos:\n",
    "- `a` es un array\n",
    "- `n` es un entero opcional, que tiene que ser mayor que `len(a)`"
   ]
  },
  {
   "cell_type": "code",
   "execution_count": null,
   "id": "128449a9-5b3b-4b78-9a19-6b56f9cd0f6a",
   "metadata": {
    "autoscroll": false,
    "collapsed": false,
    "ein.tags": "worksheet-0",
    "slideshow": {
     "slide_type": "-"
    }
   },
   "outputs": [],
   "source": [
    "!f2py3  -c fib1.pyf fib1.f "
   ]
  },
  {
   "cell_type": "code",
   "execution_count": null,
   "id": "506517fa-5ccb-49b9-a3f0-a2bd5954a5bb",
   "metadata": {
    "collapsed": false
   },
   "outputs": [],
   "source": [
    "ls"
   ]
  },
  {
   "cell_type": "code",
   "execution_count": null,
   "id": "b00b0a48-3dc8-478a-a14d-7aa63a9e33b4",
   "metadata": {
    "autoscroll": false,
    "collapsed": false,
    "ein.tags": "worksheet-0",
    "slideshow": {
     "slide_type": "-"
    }
   },
   "outputs": [],
   "source": [
    "import fib1"
   ]
  },
  {
   "cell_type": "code",
   "execution_count": null,
   "id": "1f860f03-12c0-4270-ba96-45ce502834ed",
   "metadata": {
    "autoscroll": false,
    "collapsed": false,
    "ein.tags": "worksheet-0",
    "slideshow": {
     "slide_type": "-"
    }
   },
   "outputs": [],
   "source": [
    "print(fib1.fib.__doc__)"
   ]
  },
  {
   "cell_type": "code",
   "execution_count": null,
   "id": "845e15af-e8fe-4138-bce3-3c523fee2b20",
   "metadata": {
    "autoscroll": false,
    "collapsed": false,
    "ein.tags": "worksheet-0",
    "slideshow": {
     "slide_type": "-"
    }
   },
   "outputs": [],
   "source": [
    "a = np.zeros(12)\n",
    "fib1.fib(a)\n",
    "print(a)"
   ]
  },
  {
   "cell_type": "code",
   "execution_count": null,
   "id": "30fd8ad2-6915-494e-94d1-1028f3a09718",
   "metadata": {
    "autoscroll": false,
    "collapsed": false,
    "ein.tags": "worksheet-0",
    "slideshow": {
     "slide_type": "-"
    }
   },
   "outputs": [],
   "source": [
    "a = np.zeros(12)\n",
    "fib1.fib(a,8)\n",
    "print(a)"
   ]
  },
  {
   "cell_type": "code",
   "execution_count": null,
   "id": "b7e52034-3e6b-44c4-97a0-50e5581595b6",
   "metadata": {
    "autoscroll": false,
    "collapsed": false,
    "ein.tags": "worksheet-0",
    "slideshow": {
     "slide_type": "-"
    }
   },
   "outputs": [],
   "source": [
    "a = np.zeros(12)\n",
    "fib1.fib(a,18)\n",
    "print(a)"
   ]
  },
  {
   "cell_type": "markdown",
   "id": "8f85dbaa-6875-4d76-b08d-94b41176deb6",
   "metadata": {
    "collapsed": false,
    "ein.tags": "worksheet-0",
    "slideshow": {
     "slide_type": "-"
    }
   },
   "source": [
    "Esta es una de las características de F2PY: hace un chequeo básico de los argumentos. Hay otro error que no llega a atrapar: Si le pasamos un array que no es del tipo indicado, falla (sin avisar). Éste claramente no es el comportamiento deseado:"
   ]
  },
  {
   "cell_type": "code",
   "execution_count": null,
   "id": "c236887c-e823-443f-a3ae-3f674787d76e",
   "metadata": {
    "autoscroll": false,
    "collapsed": false,
    "ein.tags": "worksheet-0",
    "slideshow": {
     "slide_type": "-"
    }
   },
   "outputs": [],
   "source": [
    "a = np.zeros(12, dtype=int)\n",
    "fib1.fib(a)\n",
    "print(a)"
   ]
  },
  {
   "cell_type": "markdown",
   "id": "6e7664ed-7f0d-4d80-9621-6e516d7a33bc",
   "metadata": {
    "collapsed": false,
    "ein.tags": "worksheet-0",
    "slideshow": {
     "slide_type": "-"
    }
   },
   "source": [
    "Vamos a modificar el archivo de *signature* para enseñarle dos cosas:\n",
    "\n",
    "- El entero es un argumento de entrada (requerido)\n",
    "- El *array* `a` es un archivo de salida **exclusivamente**. Entonces no debemos dárselo. La parte `dimension(n)` y `depend(n)` indica que debe crear un vector de ese tamaño.\n"
   ]
  },
  {
   "cell_type": "code",
   "execution_count": null,
   "id": "b6e091f9-3194-42c2-93d8-6191f4042a44",
   "metadata": {
    "collapsed": false
   },
   "outputs": [],
   "source": [
    "!cat fib1.pyf "
   ]
  },
  {
   "cell_type": "code",
   "execution_count": null,
   "id": "724c2be5-e502-4ab7-b86f-d0a15cb69818",
   "metadata": {
    "collapsed": false
   },
   "outputs": [],
   "source": [
    "!cat fib2.pyf"
   ]
  },
  {
   "cell_type": "code",
   "execution_count": null,
   "id": "0d51e8d0-6251-4a8d-97e9-b91e1b649ede",
   "metadata": {
    "autoscroll": false,
    "collapsed": false,
    "ein.tags": "worksheet-0",
    "slideshow": {
     "slide_type": "-"
    }
   },
   "outputs": [],
   "source": [
    "!f2py3  -c fib2.pyf fib1.f > /dev/null"
   ]
  },
  {
   "cell_type": "code",
   "execution_count": null,
   "id": "67dcdf45-1a09-416f-93cf-3744a8d18bb3",
   "metadata": {
    "autoscroll": false,
    "collapsed": false,
    "ein.tags": "worksheet-0",
    "slideshow": {
     "slide_type": "-"
    }
   },
   "outputs": [],
   "source": [
    "import fib2\n",
    "print(fib2.fib.__doc__)"
   ]
  },
  {
   "cell_type": "code",
   "execution_count": null,
   "id": "5d3722ca-0930-40c9-84f3-f42bf33193b1",
   "metadata": {
    "autoscroll": false,
    "collapsed": false,
    "ein.tags": "worksheet-0",
    "slideshow": {
     "slide_type": "-"
    }
   },
   "outputs": [],
   "source": [
    "fib2.fib(9)"
   ]
  },
  {
   "cell_type": "code",
   "execution_count": null,
   "id": "8811714f-3643-43e4-810c-195166989c73",
   "metadata": {
    "autoscroll": false,
    "collapsed": false,
    "ein.tags": "worksheet-0",
    "slideshow": {
     "slide_type": "-"
    }
   },
   "outputs": [],
   "source": [
    "print(fib2.fib(14))"
   ]
  },
  {
   "cell_type": "markdown",
   "id": "d9a89d47-d605-455b-81c5-ad0e658e4e8c",
   "metadata": {
    "collapsed": false,
    "ein.tags": "worksheet-0",
    "slideshow": {
     "slide_type": "-"
    }
   },
   "source": [
    "La segunda manera de arreglar este problema, en lugar de modificar el archivo de *signature* podría haber sido modificar el código (o hacer una rutina intermedia). Agregando comentarios de la forma `Cf2py` no influimos en la compilación `Fortran` pero F2PY los reconoce. En este caso le damos la información sobre la intención de los argumentos en el código:\n",
    "\n",
    "```fortran\n",
    "      SUBROUTINE FIB(A,N)\n",
    "C\n",
    "C     CALCULATE FIRST N FIBONACCI NUMBERS\n",
    "C\n",
    "      INTEGER N\n",
    "      REAL*8 A(N)\n",
    "Cf2py intent(in) n\n",
    "Cf2py intent(out) a\n",
    "Cf2py depend(n) a\n",
    "      DO I=1,N\n",
    "         IF (I.EQ.1) THEN\n",
    "            A(I) = 0.0D0\n",
    "         ELSEIF (I.EQ.2) THEN\n",
    "            A(I) = 1.0D0\n",
    "         ELSE \n",
    "            A(I) = A(I-1) + A(I-2)\n",
    "         ENDIF\n",
    "      ENDDO\n",
    "      END\n",
    "```"
   ]
  },
  {
   "cell_type": "code",
   "execution_count": null,
   "id": "d6ee43d8-00c3-44f3-ab84-28bc7eeea4a2",
   "metadata": {
    "autoscroll": false,
    "collapsed": false,
    "ein.tags": "worksheet-0",
    "slideshow": {
     "slide_type": "-"
    }
   },
   "outputs": [],
   "source": [
    "!f2py3  -c fib3.f -m fib3 > /dev/null"
   ]
  },
  {
   "cell_type": "code",
   "execution_count": null,
   "id": "e34f86a8-47aa-45f5-9587-bebc0bb702d6",
   "metadata": {
    "autoscroll": false,
    "collapsed": false,
    "ein.tags": "worksheet-0",
    "slideshow": {
     "slide_type": "-"
    }
   },
   "outputs": [],
   "source": [
    "import fib3\n",
    "print(fib3.fib.__doc__)"
   ]
  },
  {
   "cell_type": "code",
   "execution_count": null,
   "id": "75c616f0-3b3c-4af7-8435-32fc12477ff8",
   "metadata": {
    "collapsed": false
   },
   "outputs": [],
   "source": [
    "print(fib2.fib.__doc__)"
   ]
  },
  {
   "cell_type": "markdown",
   "id": "cbe909be-5987-4e99-8f9d-f428754a0b26",
   "metadata": {
    "collapsed": false,
    "ein.tags": "worksheet-0",
    "slideshow": {
     "slide_type": "-"
    }
   },
   "source": [
    "como vemos, son exactamente iguales."
   ]
  },
  {
   "cell_type": "markdown",
   "id": "22e3c384-f4c7-44b2-b82e-0e7acf93df19",
   "metadata": {
    "collapsed": false,
    "ein.tags": "worksheet-0",
    "slideshow": {
     "slide_type": "-"
    }
   },
   "source": [
    "### F2PY para código en C\n",
    "\n",
    "Es posible usar F2PY para código escrito en C, pero en ese caso debemos escribir el *signature file* a mano.\n",
    "\n",
    "Para código en C es conveniente utilizar **Cython**. Cython es un lenguaje de programación pensado para hacer más fácil escribir extensiones a Python en C. Uno escribe el código en Cython, y luego es traducido a C, con optimizaciones.\n",
    "\n",
    "**Cython** también puede utilizarse con Fortran de una manera similar a cómo se usa con C. Para más información ver la [documentación oficial](http://docs.cython.org/en/latest/index.html)\n"
   ]
  }
 ],
 "metadata": {
  "kernelspec": {
   "argv": [
    "/usr/bin/python3",
    "-m",
    "ipykernel_launcher",
    "-f",
    "{connection_file}"
   ],
   "display_name": "Python 3 (ipykernel)",
   "env": null,
   "interrupt_mode": "signal",
   "language": "python",
   "metadata": {
    "debugger": false
   },
   "name": "python3"
  },
  "language_info": {
   "codemirror_mode": {
    "name": "ipython",
    "version": 3
   },
   "file_extension": ".py",
   "mimetype": "text/x-python",
   "name": "python",
   "nbconvert_exporter": "python",
   "pygments_lexer": "ipython3",
   "version": "3.9.5"
  },
  "name": "15_1_interfacing_F.ipynb",
  "toc": {
   "base_numbering": 1,
   "nav_menu": null,
   "number_sections": true,
   "sideBar": true,
   "skip_h1_title": false,
   "title_cell": "Contenidos",
   "title_sidebar": "Contenidos",
   "toc_cell": false,
   "toc_position": null,
   "toc_section_display": true,
   "toc_window_display": true
  }
 },
 "nbformat": 4,
 "nbformat_minor": 1
}
