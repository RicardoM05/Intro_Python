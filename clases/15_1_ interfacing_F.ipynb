{
 "cells": [
  {
   "attachments": {},
   "cell_type": "markdown",
   "metadata": {
    "ein.tags": "worksheet-0",
    "slideshow": {
     "slide_type": "-"
    }
   },
   "source": [
    "# Interfaces con otros lenguajes: Fortran\n",
    "## Ejemplo 1: Rotación de vectores\n",
    "\n",
    "Supongamos que queremos resolver el problema de la rotación de vectores en el espacio usando los [tres ángulos de Euler](https://mathworld.wolfram.com/EulerAngles.html). \n",
    "\n",
    "Dado un array con los tres ángulos de Euler, calculamos la matriz de rotación (de 3 x 3), y la aplicamos (esto es, multiplicamos) a un arreglo de _N_ vectores.\n",
    "\n"
   ]
  },
  {
   "attachments": {},
   "cell_type": "markdown",
   "metadata": {},
   "source": [
    "En una primer versión, podemos hacerlo en Python directamente en el notebook:"
   ]
  },
  {
   "cell_type": "code",
   "execution_count": null,
   "metadata": {
    "autoscroll": false,
    "ein.tags": "worksheet-0",
    "slideshow": {
     "slide_type": "-"
    }
   },
   "outputs": [],
   "source": [
    "import numpy as np\n",
    "\n",
    "def matrix_rotation(angles):\n",
    "  cx, cy, cz = np.cos(angles)\n",
    "  sx, sy, sz = np.sin(angles)\n",
    "  R = np.zeros((3, 3))\n",
    "  R[0, 0] = cx * cz - sx * cy * sz\n",
    "  R[0, 1] = cx * sz + sx * cy * cz\n",
    "  R[0, 2] = sx * sy\n",
    "\n",
    "  R[1, 0] = -sx * cz - cx * cy * sz\n",
    "  R[1, 1] = -sx * sz + cx * cy * cz\n",
    "  R[1, 2] = cx * sy\n",
    "\n",
    "  R[2, 0] = sy * sz\n",
    "  R[2, 1] = -sy * cz\n",
    "  R[2, 2] = cy\n",
    "  return R\n",
    "\n",
    "\n",
    "def rotate(angles, v):\n",
    "  return np.dot(matrix_rotation(angles), v)"
   ]
  },
  {
   "cell_type": "code",
   "execution_count": null,
   "metadata": {},
   "outputs": [],
   "source": [
    "N = 100\n",
    "# Ángulos de Euler\n",
    "angle = np.random.random(3)\n",
    "# Definimos N vectores tridimensionales\n",
    "v = np.random.random((3, N))"
   ]
  },
  {
   "cell_type": "markdown",
   "metadata": {
    "ein.tags": "worksheet-0",
    "slideshow": {
     "slide_type": "-"
    }
   },
   "source": [
    "Si ya tenemos un módulo donde están programadas las funciones necesarias "
   ]
  },
  {
   "cell_type": "code",
   "execution_count": 1,
   "metadata": {
    "autoscroll": false,
    "ein.tags": "worksheet-0",
    "slideshow": {
     "slide_type": "-"
    }
   },
   "outputs": [],
   "source": [
    "# %load rotacion_p.py\n",
    "#! /usr/bin/ipython3\n",
    "import numpy as np\n",
    "\n",
    "\n",
    "def matrix_rotation(angles):\n",
    "  cx, cy, cz = np.cos(angles)\n",
    "  sx, sy, sz = np.sin(angles)\n",
    "  R = np.zeros((3, 3))\n",
    "  R[0, 0] = cx * cz - sx * cy * sz\n",
    "  R[0, 1] = cx * sz + sx * cy * cz\n",
    "  R[0, 2] = sx * sy\n",
    "\n",
    "  R[1, 0] = -sx * cz - cx * cy * sz\n",
    "  R[1, 1] = -sx * sz + cx * cy * cz\n",
    "  R[1, 2] = cx * sy\n",
    "\n",
    "  R[2, 0] = sy * sz\n",
    "  R[2, 1] = -sy * cz\n",
    "  R[2, 2] = cy\n",
    "  return R\n",
    "\n",
    "\n",
    "def rotate(angles, v):\n",
    "  return np.dot(matrix_rotation(angles), v)\n"
   ]
  },
  {
   "attachments": {},
   "cell_type": "markdown",
   "metadata": {
    "ein.tags": "worksheet-0",
    "slideshow": {
     "slide_type": "-"
    }
   },
   "source": [
    "es fácil utilizarlas:"
   ]
  },
  {
   "cell_type": "code",
   "execution_count": 3,
   "metadata": {
    "autoscroll": false,
    "ein.tags": "worksheet-0",
    "slideshow": {
     "slide_type": "-"
    }
   },
   "outputs": [],
   "source": [
    "N = 100\n",
    "# Ángulos de Euler\n",
    "angle = np.random.random(3)\n",
    "# Definimos N vectores tridimensionales\n",
    "v = np.random.random((3, N))"
   ]
  },
  {
   "cell_type": "code",
   "execution_count": 4,
   "metadata": {},
   "outputs": [],
   "source": [
    "y = rotate(angle,v)"
   ]
  },
  {
   "cell_type": "code",
   "execution_count": 10,
   "metadata": {},
   "outputs": [
    {
     "name": "stdout",
     "output_type": "stream",
     "text": [
      "[0.092327   0.18402784 0.3947009 ]\n",
      "[[0.76258077 0.6612162  0.45880844]\n",
      " [0.201221   0.10596722 0.42796712]\n",
      " [0.55555597 0.88086433 0.64075043]\n",
      " [0.64848449 0.89047091 0.73761409]\n",
      " [0.12735801 0.09105968 0.25552533]]\n"
     ]
    }
   ],
   "source": [
    "print(angle)\n",
    "print(y[:,0:5].T)"
   ]
  },
  {
   "attachments": {},
   "cell_type": "markdown",
   "metadata": {},
   "source": [
    "### Importando desde un módulo en un archivo\n",
    "\n",
    "También podemos tener las funciones para la rotación en un módulo `rotaciones.py`. Recordemos cómo se importarían en este caso"
   ]
  },
  {
   "cell_type": "code",
   "execution_count": 6,
   "metadata": {},
   "outputs": [
    {
     "data": {
      "text/plain": [
       "'/Users/flavioc/Library/Mobile Documents/com~apple~CloudDocs/Documents/cursos/Python/intro-python-IB/clases'"
      ]
     },
     "execution_count": 6,
     "metadata": {},
     "output_type": "execute_result"
    }
   ],
   "source": [
    "pwd"
   ]
  },
  {
   "cell_type": "code",
   "execution_count": 7,
   "metadata": {},
   "outputs": [
    {
     "name": "stdout",
     "output_type": "stream",
     "text": [
      "/Users/flavioc/Library/Mobile Documents/com~apple~CloudDocs/Documents/cursos/Python/intro-python-IB/scripts/interfacing_python\n"
     ]
    }
   ],
   "source": [
    "cd ../scripts/interfacing_python"
   ]
  },
  {
   "cell_type": "code",
   "execution_count": 8,
   "metadata": {},
   "outputs": [
    {
     "name": "stdout",
     "output_type": "stream",
     "text": [
      "rotaciones.py\n"
     ]
    }
   ],
   "source": [
    "ls"
   ]
  },
  {
   "cell_type": "code",
   "execution_count": 9,
   "metadata": {},
   "outputs": [],
   "source": [
    "import rotaciones as rotp"
   ]
  },
  {
   "cell_type": "code",
   "execution_count": 11,
   "metadata": {},
   "outputs": [
    {
     "name": "stdout",
     "output_type": "stream",
     "text": [
      "Help on module rotaciones:\n",
      "\n",
      "NAME\n",
      "    rotaciones\n",
      "\n",
      "FUNCTIONS\n",
      "    matrix_rotation(angles)\n",
      "    \n",
      "    rotate(angles, v)\n",
      "\n",
      "FILE\n",
      "    /Users/flavioc/Library/Mobile Documents/com~apple~CloudDocs/Documents/cursos/Python/intro-python-IB/scripts/interfacing_python/rotaciones.py\n",
      "\n",
      "\n"
     ]
    }
   ],
   "source": [
    "help(rotp)"
   ]
  },
  {
   "cell_type": "code",
   "execution_count": 12,
   "metadata": {},
   "outputs": [],
   "source": [
    "yp = rotp.rotate(angle,v)"
   ]
  },
  {
   "cell_type": "code",
   "execution_count": 13,
   "metadata": {},
   "outputs": [
    {
     "name": "stdout",
     "output_type": "stream",
     "text": [
      "[[0.76258077 0.6612162  0.45880844]\n",
      " [0.201221   0.10596722 0.42796712]\n",
      " [0.55555597 0.88086433 0.64075043]\n",
      " [0.64848449 0.89047091 0.73761409]\n",
      " [0.12735801 0.09105968 0.25552533]]\n"
     ]
    },
    {
     "data": {
      "text/plain": [
       "True"
      ]
     },
     "execution_count": 13,
     "metadata": {},
     "output_type": "execute_result"
    }
   ],
   "source": [
    "print(yp[:,0:5].T)\n",
    "np.allclose(y,yp)"
   ]
  },
  {
   "cell_type": "markdown",
   "metadata": {
    "ein.tags": "worksheet-0",
    "slideshow": {
     "slide_type": "-"
    }
   },
   "source": [
    "## Interfaces con Fortran\n",
    "\n",
    "Veamos cómo trabajar si tenemos el código para realizar las rotaciones en Fortran\n",
    "\n",
    "### Primer ejemplo: Nuestro código\n",
    "\n",
    "El código en Fortran que tenemos es:\n",
    "\n",
    "```fortran\n",
    "function rotate(theta, v, N) result(y)\n",
    "  implicit none\n",
    "  integer :: N\n",
    "  real(8), dimension(3), intent(IN) :: theta\n",
    "  real(8), dimension(3,N), intent(IN) :: v\n",
    "  real(8), dimension(3,N) :: y\n",
    "  real(8), dimension(3,3) :: R\n",
    "  real(8) :: cx, cy, cz, sx, sy, sz\n",
    "\n",
    "  ! Senos y Cosenos de los tres ángulos de Euler \n",
    "  cx = cos(theta(1)); cy = cos(theta(2)); cz = cos(theta(3))\n",
    "  sx = sin(theta(1)); sy = sin(theta(2)); sz = sin(theta(3))\n",
    "\n",
    "  ! Matriz de rotación\n",
    "  R(1,1) = cx*cz - sx*cy*sz\n",
    "  R(1,2) = cx*sz + sx*cy*cz\n",
    "  R(1,3) = sx*sy\n",
    "\n",
    "  R(2,1) = -sx*cz - cx*cy*sz\n",
    "  R(2,2) = -sx*sz + cx*cy*cz\n",
    "  R(2,3) = cx*sy\n",
    "\n",
    "  R(3,1) = sy*sz\n",
    "  R(3,2) = -sy*cz\n",
    "  R(3,3) = cy\n",
    "\n",
    "  ! Aplicamos la rotación\n",
    "  y = matmul(R, v)\n",
    "end function rotate\n",
    "```"
   ]
  },
  {
   "cell_type": "code",
   "execution_count": 14,
   "metadata": {},
   "outputs": [
    {
     "name": "stdout",
     "output_type": "stream",
     "text": [
      "/Users/flavioc/Library/Mobile Documents/com~apple~CloudDocs/Documents/cursos/Python/intro-python-IB/scripts/interfacing_F\n"
     ]
    }
   ],
   "source": [
    "cd ../interfacing_F"
   ]
  },
  {
   "cell_type": "markdown",
   "metadata": {
    "ein.tags": "worksheet-0",
    "slideshow": {
     "slide_type": "-"
    }
   },
   "source": [
    "### F2PY\n",
    "F2PY  -Fortran to Python interface generator- es una utilidad que permite generar una interface para utilizar funciones y datos definidos en Fortran desde Python.\n",
    "\n",
    "Información sobre la interfaz entre Fotran y Python, y en particular sobre F2PY, puede encontrarse en:\n",
    "\n",
    "- [Scipy cookbook](http://scipy-cookbook.readthedocs.io/items/idx_interfacing_with_other_languages.html)\n",
    "- [F2PY Users Guide and Reference Manual](https://docs.scipy.org/doc/numpy-dev/f2py/index.html)\n",
    "- [Fortran Best Practices](http://www.fortran90.org/src/best-practices.html#interfacing-with-python)\n",
    "- http://websrv.cs.umt.edu/isis/index.php/F2py_example"
   ]
  },
  {
   "cell_type": "markdown",
   "metadata": {
    "ein.tags": "worksheet-0",
    "slideshow": {
     "slide_type": "-"
    }
   },
   "source": [
    "El primer paso es utilizar esta utilidad:\n",
    "```bash\n",
    "$ f2py3 -c rotacion.f90 -m rotacion_f\n",
    "```"
   ]
  },
  {
   "cell_type": "code",
   "execution_count": 15,
   "metadata": {
    "autoscroll": false,
    "ein.tags": "worksheet-0",
    "slideshow": {
     "slide_type": "-"
    }
   },
   "outputs": [
    {
     "name": "stdout",
     "output_type": "stream",
     "text": [
      "\u001b[39mrunning build\u001b[0m\n",
      "\u001b[39mrunning config_cc\u001b[0m\n",
      "\u001b[39munifing config_cc, config, build_clib, build_ext, build commands --compiler options\u001b[0m\n",
      "\u001b[39mrunning config_fc\u001b[0m\n",
      "\u001b[39munifing config_fc, config, build_clib, build_ext, build commands --fcompiler options\u001b[0m\n",
      "\u001b[39mrunning build_src\u001b[0m\n",
      "\u001b[39mbuild_src\u001b[0m\n",
      "\u001b[39mbuilding extension \"rotacion_f\" sources\u001b[0m\n",
      "\u001b[39mf2py options: []\u001b[0m\n",
      "\u001b[39mf2py:> /var/folders/b8/sx4v8rw56mv_mzsdqmfxz7z00000gn/T/tmpcede5iy4/src.macosx-10.9-x86_64-3.9/rotacion_fmodule.c\u001b[0m\n",
      "\u001b[39mcreating /var/folders/b8/sx4v8rw56mv_mzsdqmfxz7z00000gn/T/tmpcede5iy4/src.macosx-10.9-x86_64-3.9\u001b[0m\n",
      "Reading fortran codes...\n",
      "\tReading file 'rotacion.f90' (format:free)\n",
      "Post-processing...\n",
      "\tBlock: rotacion_f\n",
      "\t\t\tBlock: rotaciones\n",
      "\t\t\t\tBlock: matrix_rotation\n",
      "appenddecl: \"dimension\" not implemented.\n",
      "\t\t\t\tBlock: rotate\n",
      "appenddecl: \"dimension\" not implemented.\n",
      "\t\t\tBlock: test_rotation\n",
      "Post-processing (stage 2)...\n",
      "\tBlock: rotacion_f\n",
      "\t\tBlock: unknown_interface\n",
      "\t\t\tBlock: rotaciones\n",
      "\t\t\t\tBlock: matrix_rotation\n",
      "\t\t\t\tBlock: rotate\n",
      "\t\t\tBlock: test_rotation\n",
      "Building modules...\n",
      "\tBuilding module \"rotacion_f\"...\n",
      "\t\tConstructing F90 module support for \"rotaciones\"...\n",
      "\t\tCreating wrapper for Fortran function \"matrix_rotation\"(\"matrix_rotation\")...\n",
      "\t\t\tConstructing wrapper function \"rotaciones.matrix_rotation\"...\n",
      "\t\t\t  r = matrix_rotation(angles)\n",
      "\t\tCreating wrapper for Fortran function \"rotate\"(\"rotate\")...\n",
      "\t\t\tConstructing wrapper function \"rotaciones.rotate\"...\n",
      "\t\t\t  y = rotate(angles,v,[n])\n",
      "\tWrote C/API module \"rotacion_f\" to file \"/var/folders/b8/sx4v8rw56mv_mzsdqmfxz7z00000gn/T/tmpcede5iy4/src.macosx-10.9-x86_64-3.9/rotacion_fmodule.c\"\n",
      "\tFortran 90 wrappers are saved to \"/var/folders/b8/sx4v8rw56mv_mzsdqmfxz7z00000gn/T/tmpcede5iy4/src.macosx-10.9-x86_64-3.9/rotacion_f-f2pywrappers2.f90\"\n",
      "\u001b[39m  adding '/var/folders/b8/sx4v8rw56mv_mzsdqmfxz7z00000gn/T/tmpcede5iy4/src.macosx-10.9-x86_64-3.9/fortranobject.c' to sources.\u001b[0m\n",
      "\u001b[39m  adding '/var/folders/b8/sx4v8rw56mv_mzsdqmfxz7z00000gn/T/tmpcede5iy4/src.macosx-10.9-x86_64-3.9' to include_dirs.\u001b[0m\n",
      "\u001b[39mcopying /opt/miniconda3/lib/python3.9/site-packages/numpy/f2py/src/fortranobject.c -> /var/folders/b8/sx4v8rw56mv_mzsdqmfxz7z00000gn/T/tmpcede5iy4/src.macosx-10.9-x86_64-3.9\u001b[0m\n",
      "\u001b[39mcopying /opt/miniconda3/lib/python3.9/site-packages/numpy/f2py/src/fortranobject.h -> /var/folders/b8/sx4v8rw56mv_mzsdqmfxz7z00000gn/T/tmpcede5iy4/src.macosx-10.9-x86_64-3.9\u001b[0m\n",
      "\u001b[39m  adding '/var/folders/b8/sx4v8rw56mv_mzsdqmfxz7z00000gn/T/tmpcede5iy4/src.macosx-10.9-x86_64-3.9/rotacion_f-f2pywrappers2.f90' to sources.\u001b[0m\n",
      "\u001b[39mbuild_src: building npy-pkg config files\u001b[0m\n",
      "\u001b[39mrunning build_ext\u001b[0m\n",
      "\u001b[39mcustomize UnixCCompiler\u001b[0m\n",
      "\u001b[39mcustomize UnixCCompiler using build_ext\u001b[0m\n",
      "\u001b[39mget_default_fcompiler: matching types: '['gnu95', 'nag', 'absoft', 'ibm', 'intel', 'gnu', 'g95', 'pg']'\u001b[0m\n",
      "\u001b[39mcustomize Gnu95FCompiler\u001b[0m\n",
      "\u001b[39mFound executable /usr/local/bin/gfortran\u001b[0m\n",
      "\u001b[39mcustomize Gnu95FCompiler\u001b[0m\n",
      "\u001b[39mcustomize Gnu95FCompiler using build_ext\u001b[0m\n",
      "\u001b[39mbuilding 'rotacion_f' extension\u001b[0m\n",
      "\u001b[39mcompiling C sources\u001b[0m\n",
      "\u001b[39mC compiler: clang -Wno-unused-result -Wsign-compare -Wunreachable-code -DNDEBUG -fwrapv -O2 -Wall -fPIC -O2 -isystem /opt/miniconda3/include -arch x86_64 -fPIC -O2 -isystem /opt/miniconda3/include -arch x86_64\n",
      "\u001b[0m\n",
      "\u001b[39mcreating /var/folders/b8/sx4v8rw56mv_mzsdqmfxz7z00000gn/T/tmpcede5iy4/var\u001b[0m\n",
      "\u001b[39mcreating /var/folders/b8/sx4v8rw56mv_mzsdqmfxz7z00000gn/T/tmpcede5iy4/var/folders\u001b[0m\n",
      "\u001b[39mcreating /var/folders/b8/sx4v8rw56mv_mzsdqmfxz7z00000gn/T/tmpcede5iy4/var/folders/b8\u001b[0m\n",
      "\u001b[39mcreating /var/folders/b8/sx4v8rw56mv_mzsdqmfxz7z00000gn/T/tmpcede5iy4/var/folders/b8/sx4v8rw56mv_mzsdqmfxz7z00000gn\u001b[0m\n",
      "\u001b[39mcreating /var/folders/b8/sx4v8rw56mv_mzsdqmfxz7z00000gn/T/tmpcede5iy4/var/folders/b8/sx4v8rw56mv_mzsdqmfxz7z00000gn/T\u001b[0m\n",
      "\u001b[39mcreating /var/folders/b8/sx4v8rw56mv_mzsdqmfxz7z00000gn/T/tmpcede5iy4/var/folders/b8/sx4v8rw56mv_mzsdqmfxz7z00000gn/T/tmpcede5iy4\u001b[0m\n",
      "\u001b[39mcreating /var/folders/b8/sx4v8rw56mv_mzsdqmfxz7z00000gn/T/tmpcede5iy4/var/folders/b8/sx4v8rw56mv_mzsdqmfxz7z00000gn/T/tmpcede5iy4/src.macosx-10.9-x86_64-3.9\u001b[0m\n",
      "\u001b[39mcompile options: '-DNPY_DISABLE_OPTIMIZATION=1 -I/var/folders/b8/sx4v8rw56mv_mzsdqmfxz7z00000gn/T/tmpcede5iy4/src.macosx-10.9-x86_64-3.9 -I/opt/miniconda3/lib/python3.9/site-packages/numpy/core/include -I/opt/miniconda3/include/python3.9 -c'\u001b[0m\n",
      "\u001b[39mclang: /var/folders/b8/sx4v8rw56mv_mzsdqmfxz7z00000gn/T/tmpcede5iy4/src.macosx-10.9-x86_64-3.9/rotacion_fmodule.c\u001b[0m\u001b[39mclang: /var/folders/b8/sx4v8rw56mv_mzsdqmfxz7z00000gn/T/tmpcede5iy4/src.macosx-10.9-x86_64-3.9/fortranobject.c\u001b[0m\n",
      "\n",
      "In file included from /var/folders/b8/sx4v8rw56mv_mzsdqmfxz7z00000gn/T/tmpcede5iy4/src.macosx-10.9-x86_64-3.9/fortranobject.c:In file included from 2/var/folders/b8/sx4v8rw56mv_mzsdqmfxz7z00000gn/T/tmpcede5iy4/src.macosx-10.9-x86_64-3.9/rotacion_fmodule.c:\n",
      ":In file included from 16/var/folders/b8/sx4v8rw56mv_mzsdqmfxz7z00000gn/T/tmpcede5iy4/src.macosx-10.9-x86_64-3.9/fortranobject.h:\n",
      ":In file included from 13:\n",
      "/var/folders/b8/sx4v8rw56mv_mzsdqmfxz7z00000gn/T/tmpcede5iy4/src.macosx-10.9-x86_64-3.9/fortranobject.hIn file included from :/opt/miniconda3/lib/python3.9/site-packages/numpy/core/include/numpy/arrayobject.h13::\n",
      "4In file included from :\n",
      "/opt/miniconda3/lib/python3.9/site-packages/numpy/core/include/numpy/arrayobject.hIn file included from :/opt/miniconda3/lib/python3.9/site-packages/numpy/core/include/numpy/ndarrayobject.h4::\n",
      "12In file included from :\n",
      "/opt/miniconda3/lib/python3.9/site-packages/numpy/core/include/numpy/ndarrayobject.hIn file included from :/opt/miniconda3/lib/python3.9/site-pack12:\n",
      "In file included from /opt/miniconda3/lib/python3.9/site-packages/numpy/core/include/numpy/ndarraytypes.h:1969:\n",
      "ages/numpy/core/include/numpy/ndarraytypes.h:1969:\n",
      "\u001b[1m/opt/miniconda3/lib/python3.9/site-packages/numpy/core/include/numpy/npy_1_7_deprecated_api.h\u001b[1m:/opt/miniconda3/lib/python3.9/site-packages/numpy/core/include/numpy/npy_1_7_deprecated_api.h17::172::2 :\u001b[0m \u001b[0;1;35m\u001b[0mwarning: \u001b[0;1;35m\u001b[0mwarning: \u001b[1m\u001b[0m\"Using deprecated NumPy API, disable it with \"          \"#define NPY_NO_DEPRECATED_API NPY_1_7_API_VERSION\" [-W#warnings]\u001b[1m\u001b[0m\"Using deprecated NumPy API, disable it with \"          \"#define NPY_NO_DEPRECATED_API NPY_1_7_API_VERSION\" [-W#warnings]\n",
      "\u001b[0m\n",
      "#warning \"Using deprecated NumPy API, disable it with \" \\\n",
      "\u001b[0;1;32m ^\n",
      "\u001b[0m#warning \"Using deprecated NumPy API, disable it with \" \\\n",
      "\u001b[0;1;32m ^\n",
      "\u001b[0m\u001b[1m/var/folders/b8/sx4v8rw56mv_mzsdqmfxz7z00000gn/T/tmpcede5iy4/src.macosx-10.9-x86_64-3.9/rotacion_fmodule.c:109:12: \u001b[0m\u001b[0;1;35mwarning: \u001b[0m\u001b[1munused function 'f2py_size' [-Wunused-function]\u001b[0m\n",
      "static int f2py_size(PyArrayObject* var, ...)\n",
      "\u001b[0;1;32m           ^\n",
      "\u001b[0m2 warnings generated.\n",
      "1 warning generated.\n",
      "\u001b[39mcompiling Fortran 90 module sources\u001b[0m\n",
      "\u001b[39mFortran f77 compiler: /usr/local/bin/gfortran -Wall -g -ffixed-form -fno-second-underscore -arch x86_64 -fPIC -O3 -funroll-loops\n",
      "Fortran f90 compiler: /usr/local/bin/gfortran -Wall -g -fno-second-underscore -arch x86_64 -fPIC -O3 -funroll-loops\n",
      "Fortran fix compiler: /usr/local/bin/gfortran -Wall -g -ffixed-form -fno-second-underscore -Wall -g -fno-second-underscore -arch x86_64 -fPIC -O3 -funroll-loops\u001b[0m\n",
      "\u001b[39mcompile options: '-I/var/folders/b8/sx4v8rw56mv_mzsdqmfxz7z00000gn/T/tmpcede5iy4/src.macosx-10.9-x86_64-3.9 -I/opt/miniconda3/lib/python3.9/site-packages/numpy/core/include -I/opt/miniconda3/include/python3.9 -c'\n",
      "extra options: '-J/var/folders/b8/sx4v8rw56mv_mzsdqmfxz7z00000gn/T/tmpcede5iy4/ -I/var/folders/b8/sx4v8rw56mv_mzsdqmfxz7z00000gn/T/tmpcede5iy4/'\u001b[0m\n",
      "\u001b[39mgfortran:f90: rotacion.f90\u001b[0m\n",
      "\u001b[01m\u001b[Krotacion.f90:56:24:\u001b[m\u001b[K\n",
      "\n",
      "   integer :: n, Nloops,i,j\n",
      "                        \u001b[01;35m\u001b[K1\u001b[m\u001b[K\n",
      "\u001b[01;35m\u001b[KWarning:\u001b[m\u001b[K Unused variable ‘\u001b[01m\u001b[Ki\u001b[m\u001b[K’ declared at (1) [\u001b[01;35m\u001b[K-Wunused-variable\u001b[m\u001b[K]\n",
      "\u001b[01m\u001b[Krotacion.f90:56:26:\u001b[m\u001b[K\n",
      "\n",
      "   integer :: n, Nloops,i,j\n",
      "                          \u001b[01;35m\u001b[K1\u001b[m\u001b[K\n",
      "\u001b[01;35m\u001b[KWarning:\u001b[m\u001b[K Unused variable ‘\u001b[01m\u001b[Kj\u001b[m\u001b[K’ declared at (1) [\u001b[01;35m\u001b[K-Wunused-variable\u001b[m\u001b[K]\n",
      "\u001b[01m\u001b[Krotacion.f90:59:31:\u001b[m\u001b[K\n",
      "\n",
      "   real(8), dimension(3, 3) :: R\n",
      "                               \u001b[01;35m\u001b[K1\u001b[m\u001b[K\n",
      "\u001b[01;35m\u001b[KWarning:\u001b[m\u001b[K Unused variable ‘\u001b[01m\u001b[Kr\u001b[m\u001b[K’ declared at (1) [\u001b[01;35m\u001b[K-Wunused-variable\u001b[m\u001b[K]\n",
      "\u001b[01m\u001b[Krotacion.f90:44:0:\u001b[m\u001b[K\n",
      "\n",
      "     y = matmul(matrix_rotation(angles), v)\n",
      " \n",
      "\u001b[01;35m\u001b[KWarning:\u001b[m\u001b[K ‘\u001b[01m\u001b[K__var_1_mma.offset\u001b[m\u001b[K’ is used uninitialized in this function [\u001b[01;35m\u001b[K-Wuninitialized\u001b[m\u001b[K]\n",
      "\u001b[01m\u001b[Krotacion.f90:44:0:\u001b[m\u001b[K \u001b[01;35m\u001b[KWarning:\u001b[m\u001b[K ‘\u001b[01m\u001b[K__var_1_mma.dim[0].lbound\u001b[m\u001b[K’ is used uninitialized in this function [\u001b[01;35m\u001b[K-Wuninitialized\u001b[m\u001b[K]\n",
      "\u001b[01m\u001b[Krotacion.f90:44:0:\u001b[m\u001b[K \u001b[01;35m\u001b[KWarning:\u001b[m\u001b[K ‘\u001b[01m\u001b[K__var_1_mma.dim[0].ubound\u001b[m\u001b[K’ is used uninitialized in this function [\u001b[01;35m\u001b[K-Wuninitialized\u001b[m\u001b[K]\n",
      "\u001b[01m\u001b[Krotacion.f90:44:0:\u001b[m\u001b[K \u001b[01;35m\u001b[KWarning:\u001b[m\u001b[K ‘\u001b[01m\u001b[K__var_1_mma.dim[1].lbound\u001b[m\u001b[K’ is used uninitialized in this function [\u001b[01;35m\u001b[K-Wuninitialized\u001b[m\u001b[K]\n",
      "\u001b[01m\u001b[Krotacion.f90:44:0:\u001b[m\u001b[K \u001b[01;35m\u001b[KWarning:\u001b[m\u001b[K ‘\u001b[01m\u001b[K__var_1_mma.dim[1].ubound\u001b[m\u001b[K’ is used uninitialized in this function [\u001b[01;35m\u001b[K-Wuninitialized\u001b[m\u001b[K]\n",
      "\u001b[39mcompiling Fortran sources\u001b[0m\n",
      "\u001b[39mFortran f77 compiler: /usr/local/bin/gfortran -Wall -g -ffixed-form -fno-second-underscore -arch x86_64 -fPIC -O3 -funroll-loops\n",
      "Fortran f90 compiler: /usr/local/bin/gfortran -Wall -g -fno-second-underscore -arch x86_64 -fPIC -O3 -funroll-loops\n",
      "Fortran fix compiler: /usr/local/bin/gfortran -Wall -g -ffixed-form -fno-second-underscore -Wall -g -fno-second-underscore -arch x86_64 -fPIC -O3 -funroll-loops\u001b[0m\n",
      "\u001b[39mcompile options: '-I/var/folders/b8/sx4v8rw56mv_mzsdqmfxz7z00000gn/T/tmpcede5iy4/src.macosx-10.9-x86_64-3.9 -I/opt/miniconda3/lib/python3.9/site-packages/numpy/core/include -I/opt/miniconda3/include/python3.9 -c'\n",
      "extra options: '-J/var/folders/b8/sx4v8rw56mv_mzsdqmfxz7z00000gn/T/tmpcede5iy4/ -I/var/folders/b8/sx4v8rw56mv_mzsdqmfxz7z00000gn/T/tmpcede5iy4/'\u001b[0m\n",
      "\u001b[39mgfortran:f90: /var/folders/b8/sx4v8rw56mv_mzsdqmfxz7z00000gn/T/tmpcede5iy4/src.macosx-10.9-x86_64-3.9/rotacion_f-f2pywrappers2.f90\u001b[0m\n",
      "\u001b[39m/usr/local/bin/gfortran -Wall -g -arch x86_64 -Wall -g -undefined dynamic_lookup -bundle /var/folders/b8/sx4v8rw56mv_mzsdqmfxz7z00000gn/T/tmpcede5iy4/var/folders/b8/sx4v8rw56mv_mzsdqmfxz7z00000gn/T/tmpcede5iy4/src.macosx-10.9-x86_64-3.9/rotacion_fmodule.o /var/folders/b8/sx4v8rw56mv_mzsdqmfxz7z00000gn/T/tmpcede5iy4/var/folders/b8/sx4v8rw56mv_mzsdqmfxz7z00000gn/T/tmpcede5iy4/src.macosx-10.9-x86_64-3.9/fortranobject.o /var/folders/b8/sx4v8rw56mv_mzsdqmfxz7z00000gn/T/tmpcede5iy4/rotacion.o /var/folders/b8/sx4v8rw56mv_mzsdqmfxz7z00000gn/T/tmpcede5iy4/var/folders/b8/sx4v8rw56mv_mzsdqmfxz7z00000gn/T/tmpcede5iy4/src.macosx-10.9-x86_64-3.9/rotacion_f-f2pywrappers2.o -L/usr/local/gfortran/lib/gcc/x86_64-apple-darwin18/8.2.0 -L/usr/local/gfortran/lib/gcc/x86_64-apple-darwin18/8.2.0/../../.. -L/usr/local/gfortran/lib/gcc/x86_64-apple-darwin18/8.2.0/../../.. -lgfortran -o ./rotacion_f.cpython-39-darwin.so\u001b[0m\n",
      "ld: warning: dylib (/usr/local/gfortran/lib/libgfortran.dylib) was built for newer macOS version (10.14) than being linked (10.9)\n",
      "ld: warning: dylib (/usr/local/gfortran/lib/libquadmath.dylib) was built for newer macOS version (10.14) than being linked (10.9)\n",
      "Removing build directory /var/folders/b8/sx4v8rw56mv_mzsdqmfxz7z00000gn/T/tmpcede5iy4\n"
     ]
    }
   ],
   "source": [
    "!f2py3 -c rotacion.f90 -m rotacion_f"
   ]
  },
  {
   "cell_type": "code",
   "execution_count": 16,
   "metadata": {
    "autoscroll": false,
    "ein.tags": "worksheet-0",
    "slideshow": {
     "slide_type": "-"
    }
   },
   "outputs": [],
   "source": [
    "from rotacion_f import rotaciones as rotf"
   ]
  },
  {
   "cell_type": "code",
   "execution_count": 18,
   "metadata": {
    "autoscroll": false,
    "ein.tags": "worksheet-0",
    "slideshow": {
     "slide_type": "-"
    }
   },
   "outputs": [
    {
     "name": "stdout",
     "output_type": "stream",
     "text": [
      "[[0.76258077 0.6612162  0.45880844]\n",
      " [0.201221   0.10596722 0.42796712]\n",
      " [0.55555597 0.88086433 0.64075043]\n",
      " [0.64848449 0.89047091 0.73761409]\n",
      " [0.12735801 0.09105968 0.25552533]]\n",
      "[[0.76258077 0.6612162  0.45880844]\n",
      " [0.201221   0.10596722 0.42796712]\n",
      " [0.55555597 0.88086433 0.64075043]\n",
      " [0.64848449 0.89047091 0.73761409]\n",
      " [0.12735801 0.09105968 0.25552533]]\n"
     ]
    },
    {
     "data": {
      "text/plain": [
       "True"
      ]
     },
     "execution_count": 18,
     "metadata": {},
     "output_type": "execute_result"
    }
   ],
   "source": [
    "yf = rotf.rotate(angle, v)\n",
    "print(y[:,0:5].T)\n",
    "print(yf[:,0:5].T)\n",
    "np.allclose(yf,y)"
   ]
  },
  {
   "cell_type": "markdown",
   "metadata": {
    "ein.tags": "worksheet-0",
    "slideshow": {
     "slide_type": "-"
    }
   },
   "source": [
    "Veamos qué es exactamente lo que importamos:"
   ]
  },
  {
   "cell_type": "code",
   "execution_count": 19,
   "metadata": {
    "autoscroll": false,
    "ein.tags": "worksheet-0",
    "slideshow": {
     "slide_type": "-"
    }
   },
   "outputs": [
    {
     "name": "stdout",
     "output_type": "stream",
     "text": [
      "y = rotate(angles,v,[n])\n",
      "\n",
      "Wrapper for ``rotate``.\n",
      "\n",
      "Parameters\n",
      "----------\n",
      "angles : input rank-1 array('d') with bounds (3)\n",
      "v : input rank-2 array('d') with bounds (3,n)\n",
      "\n",
      "Other Parameters\n",
      "----------------\n",
      "n : input int, optional\n",
      "    Default: shape(v,1)\n",
      "\n",
      "Returns\n",
      "-------\n",
      "y : rank-2 array('d') with bounds (3,n) and rotate storage\n"
     ]
    }
   ],
   "source": [
    "np.info(rotf.rotate)"
   ]
  },
  {
   "cell_type": "markdown",
   "metadata": {
    "ein.tags": "worksheet-0",
    "slideshow": {
     "slide_type": "-"
    }
   },
   "source": [
    "Como vemos, estamos usando la función `rotate` definida en Fortran. Notar que:\n",
    "* Tiene tres argumentos.\n",
    "   * Dos argumentos requeridos: `angles` y `v`\n",
    "   * Un argumento, correspondiente a la dimensión `n` que F2PY automáticamente detecta como opcional.\n",
    "\n",
    "             "
   ]
  },
  {
   "cell_type": "markdown",
   "metadata": {
    "ein.tags": "worksheet-0",
    "slideshow": {
     "slide_type": "-"
    }
   },
   "source": [
    "### Segundo Ejemplo: Código heredado\n",
    "\n",
    "La conversión que realizamos con f2py3 la podríamos haber realizado en dos pasos:\n",
    "\n",
    "```bash\n",
    "$ f2py3 rotacion.f90 -m rotacion_f -h rotacion.pyf\n",
    "$ f2py3 -c rotacion.pyf -m rotacion_f\n",
    "```\n",
    "En el primer paso se crea un archivo *signature* que después se utiliza para crear el módulo que llamaremos desde **Python**. Haciéndolo en dos pasos nos permite modificar el texto del archivo *.pyf* antes de ejecutar el segundo comando.\n",
    "\n",
    "Esto es útil cuando el código original no es lo suficientemente \"moderno\", no tiene toda la información necesaria sobre los argumentos o es un código que uno no quiere o puede editar. Veamos que forma tienen con un ejemplo más simple (tomado de la [guía de usuario](https://docs.scipy.org/doc/numpy-dev/f2py/getting-started.html)):\n",
    "\n",
    "```fortran\n",
    "      SUBROUTINE FIB(A,N)\n",
    "C\n",
    "C     CALCULATE FIRST N FIBONACCI NUMBERS\n",
    "C\n",
    "      INTEGER N\n",
    "      REAL*8 A(N)\n",
    "      DO I=1,N\n",
    "         IF (I.EQ.1) THEN\n",
    "            A(I) = 0.0D0\n",
    "         ELSEIF (I.EQ.2) THEN\n",
    "            A(I) = 1.0D0\n",
    "         ELSE \n",
    "            A(I) = A(I-1) + A(I-2)\n",
    "         ENDIF\n",
    "      ENDDO\n",
    "      END\n",
    "```"
   ]
  },
  {
   "cell_type": "code",
   "execution_count": 20,
   "metadata": {
    "autoscroll": false,
    "ein.tags": "worksheet-0",
    "slideshow": {
     "slide_type": "-"
    }
   },
   "outputs": [
    {
     "name": "stdout",
     "output_type": "stream",
     "text": [
      "Reading fortran codes...\n",
      "\tReading file 'fib1.f' (format:fix,strict)\n",
      "Post-processing...\n",
      "\tBlock: fib1\n",
      "\t\t\tBlock: fib\n",
      "Post-processing (stage 2)...\n",
      "Saving signatures to file \"./fib1.pyf\"\n"
     ]
    }
   ],
   "source": [
    "!f2py3 --overwrite-signature fib1.f -m fib1 -h fib1.pyf"
   ]
  },
  {
   "cell_type": "code",
   "execution_count": 17,
   "metadata": {},
   "outputs": [
    {
     "name": "stdout",
     "output_type": "stream",
     "text": [
      "!    -*- f90 -*-\n",
      "! Note: the context of this file is case sensitive.\n",
      "\n",
      "python module fib1 ! in \n",
      "    interface  ! in :fib1\n",
      "        subroutine fib(a,n) ! in :fib1:fib1.f\n",
      "            real*8 dimension(n) :: a\n",
      "            integer, optional,check(len(a)>=n),depend(a) :: n=len(a)\n",
      "        end subroutine fib\n",
      "    end interface \n",
      "end python module fib1\n",
      "\n",
      "! This file was auto-generated with f2py (version:1.21.2).\n",
      "! See http://cens.ioc.ee/projects/f2py2e/\n"
     ]
    }
   ],
   "source": [
    "!cat fib1.pyf"
   ]
  },
  {
   "attachments": {},
   "cell_type": "markdown",
   "metadata": {
    "ein.tags": "worksheet-0",
    "slideshow": {
     "slide_type": "-"
    }
   },
   "source": [
    "El contenido del archivo `fib1.pyf` es:\n",
    "\n",
    "```fortran90\n",
    "python module fib1 ! in \n",
    "    interface  ! in :fib1\n",
    "        subroutine fib(a,n) ! in :fib1:fib1.f\n",
    "            real*8 dimension(n) :: a\n",
    "            integer, optional,check(len(a)>=n),depend(a) :: n=len(a)\n",
    "        end subroutine fib\n",
    "    end interface \n",
    "end python module fib1\n",
    "```\n",
    "\n",
    "Este código indica que tenemos una subrutina que toma dos argumentos:\n",
    "- `a` es un array\n",
    "- `n` es un entero opcional, que tiene que ser mayor que `len(a)`"
   ]
  },
  {
   "cell_type": "code",
   "execution_count": 22,
   "metadata": {
    "autoscroll": false,
    "ein.tags": "worksheet-0",
    "slideshow": {
     "slide_type": "-"
    }
   },
   "outputs": [
    {
     "name": "stdout",
     "output_type": "stream",
     "text": [
      "\u001b[39mrunning build\u001b[0m\n",
      "\u001b[39mrunning config_cc\u001b[0m\n",
      "\u001b[39munifing config_cc, config, build_clib, build_ext, build commands --compiler options\u001b[0m\n",
      "\u001b[39mrunning config_fc\u001b[0m\n",
      "\u001b[39munifing config_fc, config, build_clib, build_ext, build commands --fcompiler options\u001b[0m\n",
      "\u001b[39mrunning build_src\u001b[0m\n",
      "\u001b[39mbuild_src\u001b[0m\n",
      "\u001b[39mbuilding extension \"fib1\" sources\u001b[0m\n",
      "\u001b[39mcreating /var/folders/b8/sx4v8rw56mv_mzsdqmfxz7z00000gn/T/tmp_boijeza/src.macosx-10.9-x86_64-3.9\u001b[0m\n",
      "\u001b[39mf2py options: []\u001b[0m\n",
      "\u001b[39mf2py: fib1.pyf\u001b[0m\n",
      "Reading fortran codes...\n",
      "\tReading file 'fib1.pyf' (format:free)\n",
      "Post-processing...\n",
      "\tBlock: fib1\n",
      "\t\t\tBlock: fib\n",
      "Post-processing (stage 2)...\n",
      "Building modules...\n",
      "\tBuilding module \"fib1\"...\n",
      "\t\tConstructing wrapper function \"fib\"...\n",
      "\t\t  fib(a,[n])\n",
      "\tWrote C/API module \"fib1\" to file \"/var/folders/b8/sx4v8rw56mv_mzsdqmfxz7z00000gn/T/tmp_boijeza/src.macosx-10.9-x86_64-3.9/fib1module.c\"\n",
      "\u001b[39m  adding '/var/folders/b8/sx4v8rw56mv_mzsdqmfxz7z00000gn/T/tmp_boijeza/src.macosx-10.9-x86_64-3.9/fortranobject.c' to sources.\u001b[0m\n",
      "\u001b[39m  adding '/var/folders/b8/sx4v8rw56mv_mzsdqmfxz7z00000gn/T/tmp_boijeza/src.macosx-10.9-x86_64-3.9' to include_dirs.\u001b[0m\n",
      "\u001b[39mcopying /opt/miniconda3/lib/python3.9/site-packages/numpy/f2py/src/fortranobject.c -> /var/folders/b8/sx4v8rw56mv_mzsdqmfxz7z00000gn/T/tmp_boijeza/src.macosx-10.9-x86_64-3.9\u001b[0m\n",
      "\u001b[39mcopying /opt/miniconda3/lib/python3.9/site-packages/numpy/f2py/src/fortranobject.h -> /var/folders/b8/sx4v8rw56mv_mzsdqmfxz7z00000gn/T/tmp_boijeza/src.macosx-10.9-x86_64-3.9\u001b[0m\n",
      "\u001b[39mbuild_src: building npy-pkg config files\u001b[0m\n",
      "\u001b[39mrunning build_ext\u001b[0m\n",
      "\u001b[39mcustomize UnixCCompiler\u001b[0m\n",
      "\u001b[39mcustomize UnixCCompiler using build_ext\u001b[0m\n",
      "\u001b[39mget_default_fcompiler: matching types: '['gnu95', 'nag', 'absoft', 'ibm', 'intel', 'gnu', 'g95', 'pg']'\u001b[0m\n",
      "\u001b[39mcustomize Gnu95FCompiler\u001b[0m\n",
      "\u001b[39mFound executable /usr/local/bin/gfortran\u001b[0m\n",
      "\u001b[39mcustomize Gnu95FCompiler\u001b[0m\n",
      "\u001b[39mcustomize Gnu95FCompiler using build_ext\u001b[0m\n",
      "\u001b[39mbuilding 'fib1' extension\u001b[0m\n",
      "\u001b[39mcompiling C sources\u001b[0m\n",
      "\u001b[39mC compiler: clang -Wno-unused-result -Wsign-compare -Wunreachable-code -DNDEBUG -fwrapv -O2 -Wall -fPIC -O2 -isystem /opt/miniconda3/include -arch x86_64 -fPIC -O2 -isystem /opt/miniconda3/include -arch x86_64\n",
      "\u001b[0m\n",
      "\u001b[39mcreating /var/folders/b8/sx4v8rw56mv_mzsdqmfxz7z00000gn/T/tmp_boijeza/var\u001b[0m\n",
      "\u001b[39mcreating /var/folders/b8/sx4v8rw56mv_mzsdqmfxz7z00000gn/T/tmp_boijeza/var/folders\u001b[0m\n",
      "\u001b[39mcreating /var/folders/b8/sx4v8rw56mv_mzsdqmfxz7z00000gn/T/tmp_boijeza/var/folders/b8\u001b[0m\n",
      "\u001b[39mcreating /var/folders/b8/sx4v8rw56mv_mzsdqmfxz7z00000gn/T/tmp_boijeza/var/folders/b8/sx4v8rw56mv_mzsdqmfxz7z00000gn\u001b[0m\n",
      "\u001b[39mcreating /var/folders/b8/sx4v8rw56mv_mzsdqmfxz7z00000gn/T/tmp_boijeza/var/folders/b8/sx4v8rw56mv_mzsdqmfxz7z00000gn/T\u001b[0m\n",
      "\u001b[39mcreating /var/folders/b8/sx4v8rw56mv_mzsdqmfxz7z00000gn/T/tmp_boijeza/var/folders/b8/sx4v8rw56mv_mzsdqmfxz7z00000gn/T/tmp_boijeza\u001b[0m\n",
      "\u001b[39mcreating /var/folders/b8/sx4v8rw56mv_mzsdqmfxz7z00000gn/T/tmp_boijeza/var/folders/b8/sx4v8rw56mv_mzsdqmfxz7z00000gn/T/tmp_boijeza/src.macosx-10.9-x86_64-3.9\u001b[0m\n",
      "\u001b[39mcompile options: '-DNPY_DISABLE_OPTIMIZATION=1 -I/var/folders/b8/sx4v8rw56mv_mzsdqmfxz7z00000gn/T/tmp_boijeza/src.macosx-10.9-x86_64-3.9 -I/opt/miniconda3/lib/python3.9/site-packages/numpy/core/include -I/opt/miniconda3/include/python3.9 -c'\u001b[0m\n",
      "\u001b[39mclang: /var/folders/b8/sx4v8rw56mv_mzsdqmfxz7z00000gn/T/tmp_boijeza/src.macosx-10.9-x86_64-3.9/fib1module.c\u001b[0m\u001b[39mclang: /var/folders/b8/sx4v8rw56mv_mzsdqmfxz7z00000gn/T/tmp_boijeza/src.macosx-10.9-x86_64-3.9/fortranobject.c\u001b[0m\n",
      "\n",
      "In file included from /var/folders/b8/sx4v8rw56mv_mzsdqmfxz7z00000gn/T/tmp_boijeza/src.macosx-10.9-x86_64-3.9/fortranobject.c:2:\n",
      "In file included from /var/folders/b8/sx4v8rw56mv_mzsdqmfxz7z00000gn/T/tmp_boijeza/src.macosx-10.9-x86_64-3.9/fortranobject.h:13:\n",
      "In file included from /opt/miniconda3/lib/python3.9/site-packages/numpy/core/include/numpy/arrayobject.h:4:\n",
      "In file included from /opt/miniconda3/lib/python3.9/site-packages/numpy/core/include/numpy/ndarrayobject.h:12:\n",
      "In file included from /opt/miniconda3/lib/python3.9/site-packages/numpy/core/include/numpy/ndarraytypes.h:1969:\n",
      "\u001b[1m/opt/miniconda3/lib/python3.9/site-packages/numpy/core/include/numpy/npy_1_7_deprecated_api.h:17:2: \u001b[0m\u001b[0;1;35mwarning: \u001b[0m\u001b[1m\"Using deprecated NumPy API, disable it with \"          \"#define NPY_NO_DEPRECATED_API NPY_1_7_API_VERSION\" [-W#warnings]\u001b[0m\n",
      "#warning \"Using deprecated NumPy API, disable it with \" \\\n",
      "\u001b[0;1;32m ^\n",
      "\u001b[0mIn file included from /var/folders/b8/sx4v8rw56mv_mzsdqmfxz7z00000gn/T/tmp_boijeza/src.macosx-10.9-x86_64-3.9/fib1module.c:16:\n",
      "In file included from /var/folders/b8/sx4v8rw56mv_mzsdqmfxz7z00000gn/T/tmp_boijeza/src.macosx-10.9-x86_64-3.9/fortranobject.h:13:\n",
      "In file included from /opt/miniconda3/lib/python3.9/site-packages/numpy/core/include/numpy/arrayobject.h:4:\n",
      "In file included from /opt/miniconda3/lib/python3.9/site-packages/numpy/core/include/numpy/ndarrayobject.h:12:\n",
      "In file included from /opt/miniconda3/lib/python3.9/site-packages/numpy/core/include/numpy/ndarraytypes.h:1969:\n",
      "\u001b[1m/opt/miniconda3/lib/python3.9/site-packages/numpy/core/include/numpy/npy_1_7_deprecated_api.h:17:2: \u001b[0m\u001b[0;1;35mwarning: \u001b[0m\u001b[1m\"Using deprecated NumPy API, disable it with \"          \"#define NPY_NO_DEPRECATED_API NPY_1_7_API_VERSION\" [-W#warnings]\u001b[0m\n",
      "#warning \"Using deprecated NumPy API, disable it with \" \\\n",
      "\u001b[0;1;32m ^\n",
      "\u001b[0m\u001b[1m/var/folders/b8/sx4v8rw56mv_mzsdqmfxz7z00000gn/T/tmp_boijeza/src.macosx-10.9-x86_64-3.9/fib1module.c:109:12: \u001b[0m\u001b[0;1;35mwarning: \u001b[0m\u001b[1munused function 'f2py_size' [-Wunused-function]\u001b[0m\n",
      "static int f2py_size(PyArrayObject* var, ...)\n",
      "\u001b[0;1;32m           ^\n",
      "\u001b[0m2 warnings generated.\n",
      "1 warning generated.\n",
      "\u001b[39mcompiling Fortran sources\u001b[0m\n",
      "\u001b[39mFortran f77 compiler: /usr/local/bin/gfortran -Wall -g -ffixed-form -fno-second-underscore -arch x86_64 -fPIC -O3 -funroll-loops\n",
      "Fortran f90 compiler: /usr/local/bin/gfortran -Wall -g -fno-second-underscore -arch x86_64 -fPIC -O3 -funroll-loops\n",
      "Fortran fix compiler: /usr/local/bin/gfortran -Wall -g -ffixed-form -fno-second-underscore -Wall -g -fno-second-underscore -arch x86_64 -fPIC -O3 -funroll-loops\u001b[0m\n",
      "\u001b[39mcompile options: '-I/var/folders/b8/sx4v8rw56mv_mzsdqmfxz7z00000gn/T/tmp_boijeza/src.macosx-10.9-x86_64-3.9 -I/opt/miniconda3/lib/python3.9/site-packages/numpy/core/include -I/opt/miniconda3/include/python3.9 -c'\u001b[0m\n",
      "\u001b[39mgfortran:f77: fib1.f\u001b[0m\n",
      "\u001b[39m/usr/local/bin/gfortran -Wall -g -arch x86_64 -Wall -g -undefined dynamic_lookup -bundle /var/folders/b8/sx4v8rw56mv_mzsdqmfxz7z00000gn/T/tmp_boijeza/var/folders/b8/sx4v8rw56mv_mzsdqmfxz7z00000gn/T/tmp_boijeza/src.macosx-10.9-x86_64-3.9/fib1module.o /var/folders/b8/sx4v8rw56mv_mzsdqmfxz7z00000gn/T/tmp_boijeza/var/folders/b8/sx4v8rw56mv_mzsdqmfxz7z00000gn/T/tmp_boijeza/src.macosx-10.9-x86_64-3.9/fortranobject.o /var/folders/b8/sx4v8rw56mv_mzsdqmfxz7z00000gn/T/tmp_boijeza/fib1.o -L/usr/local/gfortran/lib/gcc/x86_64-apple-darwin18/8.2.0 -L/usr/local/gfortran/lib/gcc/x86_64-apple-darwin18/8.2.0/../../.. -L/usr/local/gfortran/lib/gcc/x86_64-apple-darwin18/8.2.0/../../.. -lgfortran -o ./fib1.cpython-39-darwin.so\u001b[0m\n",
      "ld: warning: dylib (/usr/local/gfortran/lib/libgfortran.dylib) was built for newer macOS version (10.14) than being linked (10.9)\n",
      "ld: warning: dylib (/usr/local/gfortran/lib/libquadmath.dylib) was built for newer macOS version (10.14) than being linked (10.9)\n",
      "Removing build directory /var/folders/b8/sx4v8rw56mv_mzsdqmfxz7z00000gn/T/tmp_boijeza\n"
     ]
    }
   ],
   "source": [
    "!f2py3  -c fib1.pyf fib1.f "
   ]
  },
  {
   "cell_type": "code",
   "execution_count": 23,
   "metadata": {},
   "outputs": [
    {
     "name": "stdout",
     "output_type": "stream",
     "text": [
      "\u001b[31mfib1.cpython-39-darwin.so\u001b[m\u001b[m*            \u001b[1m\u001b[36mfib3.cpython-39-darwin.so.dSYM\u001b[m\u001b[m/\n",
      "\u001b[1m\u001b[36mfib1.cpython-39-darwin.so.dSYM\u001b[m\u001b[m/       fib3.f\n",
      "fib1.f                                rotacion.f90\n",
      "fib1.pyf                              rotacion.pyf\n",
      "\u001b[31mfib2.cpython-39-darwin.so\u001b[m\u001b[m*            \u001b[31mrotacion_f.cpython-39-darwin.so\u001b[m\u001b[m*\n",
      "\u001b[1m\u001b[36mfib2.cpython-39-darwin.so.dSYM\u001b[m\u001b[m/       \u001b[1m\u001b[36mrotacion_f.cpython-39-darwin.so.dSYM\u001b[m\u001b[m/\n",
      "fib2.pyf                              rotaciones.mod\n",
      "\u001b[31mfib3.cpython-39-darwin.so\u001b[m\u001b[m*\n"
     ]
    }
   ],
   "source": [
    "ls"
   ]
  },
  {
   "cell_type": "code",
   "execution_count": 24,
   "metadata": {
    "autoscroll": false,
    "ein.tags": "worksheet-0",
    "slideshow": {
     "slide_type": "-"
    }
   },
   "outputs": [],
   "source": [
    "import fib1"
   ]
  },
  {
   "cell_type": "code",
   "execution_count": 25,
   "metadata": {
    "autoscroll": false,
    "ein.tags": "worksheet-0",
    "slideshow": {
     "slide_type": "-"
    }
   },
   "outputs": [
    {
     "name": "stdout",
     "output_type": "stream",
     "text": [
      "fib(a,[n])\n",
      "\n",
      "Wrapper for ``fib``.\n",
      "\n",
      "Parameters\n",
      "----------\n",
      "a : input rank-1 array('d') with bounds (n)\n",
      "\n",
      "Other Parameters\n",
      "----------------\n",
      "n : input int, optional\n",
      "    Default: len(a)\n",
      "\n"
     ]
    }
   ],
   "source": [
    "print(fib1.fib.__doc__)"
   ]
  },
  {
   "cell_type": "code",
   "execution_count": 26,
   "metadata": {
    "autoscroll": false,
    "ein.tags": "worksheet-0",
    "slideshow": {
     "slide_type": "-"
    }
   },
   "outputs": [
    {
     "name": "stdout",
     "output_type": "stream",
     "text": [
      "[ 0.  1.  1.  2.  3.  5.  8. 13. 21. 34. 55. 89.]\n"
     ]
    }
   ],
   "source": [
    "a = np.zeros(12)\n",
    "fib1.fib(a)\n",
    "print(a)"
   ]
  },
  {
   "cell_type": "code",
   "execution_count": 27,
   "metadata": {
    "autoscroll": false,
    "ein.tags": "worksheet-0",
    "slideshow": {
     "slide_type": "-"
    }
   },
   "outputs": [
    {
     "name": "stdout",
     "output_type": "stream",
     "text": [
      "[ 0.  1.  1.  2.  3.  5.  8. 13.  0.  0.  0.  0.]\n"
     ]
    }
   ],
   "source": [
    "a = np.zeros(12)\n",
    "fib1.fib(a,8)\n",
    "print(a)"
   ]
  },
  {
   "cell_type": "code",
   "execution_count": 28,
   "metadata": {
    "autoscroll": false,
    "ein.tags": "worksheet-0",
    "slideshow": {
     "slide_type": "-"
    }
   },
   "outputs": [
    {
     "ename": "error",
     "evalue": "(len(a)>=n) failed for 1st keyword n: fib:n=18",
     "output_type": "error",
     "traceback": [
      "\u001b[0;31m---------------------------------------------------------------------------\u001b[0m",
      "\u001b[0;31merror\u001b[0m                                     Traceback (most recent call last)",
      "\u001b[1;32m/Users/flavioc/Library/Mobile Documents/com~apple~CloudDocs/Documents/cursos/Python/intro-python-IB/clases/15_1_ interfacing_F.ipynb Cell 39\u001b[0m in \u001b[0;36m<cell line: 2>\u001b[0;34m()\u001b[0m\n\u001b[1;32m      <a href='vscode-notebook-cell:/Users/flavioc/Library/Mobile%20Documents/com~apple~CloudDocs/Documents/cursos/Python/intro-python-IB/clases/15_1_%20interfacing_F.ipynb#X44sZmlsZQ%3D%3D?line=0'>1</a>\u001b[0m a \u001b[39m=\u001b[39m np\u001b[39m.\u001b[39mzeros(\u001b[39m12\u001b[39m)\n\u001b[0;32m----> <a href='vscode-notebook-cell:/Users/flavioc/Library/Mobile%20Documents/com~apple~CloudDocs/Documents/cursos/Python/intro-python-IB/clases/15_1_%20interfacing_F.ipynb#X44sZmlsZQ%3D%3D?line=1'>2</a>\u001b[0m fib1\u001b[39m.\u001b[39;49mfib(a,\u001b[39m18\u001b[39;49m)\n\u001b[1;32m      <a href='vscode-notebook-cell:/Users/flavioc/Library/Mobile%20Documents/com~apple~CloudDocs/Documents/cursos/Python/intro-python-IB/clases/15_1_%20interfacing_F.ipynb#X44sZmlsZQ%3D%3D?line=2'>3</a>\u001b[0m \u001b[39mprint\u001b[39m(a)\n",
      "\u001b[0;31merror\u001b[0m: (len(a)>=n) failed for 1st keyword n: fib:n=18"
     ]
    }
   ],
   "source": [
    "a = np.zeros(12)\n",
    "fib1.fib(a,18)\n",
    "print(a)"
   ]
  },
  {
   "cell_type": "markdown",
   "metadata": {
    "ein.tags": "worksheet-0",
    "slideshow": {
     "slide_type": "-"
    }
   },
   "source": [
    "Esta es una de las características de F2PY: hace un chequeo básico de los argumentos. Hay otro error que no llega a atrapar: Si le pasamos un array que no es del tipo indicado, falla (sin avisar). Éste claramente no es el comportamiento deseado:"
   ]
  },
  {
   "cell_type": "code",
   "execution_count": 25,
   "metadata": {
    "autoscroll": false,
    "ein.tags": "worksheet-0",
    "slideshow": {
     "slide_type": "-"
    }
   },
   "outputs": [
    {
     "name": "stdout",
     "output_type": "stream",
     "text": [
      "[0 0 0 0 0 0 0 0 0 0 0 0]\n"
     ]
    }
   ],
   "source": [
    "a = np.zeros(12, dtype=int)\n",
    "fib1.fib(a)\n",
    "print(a)"
   ]
  },
  {
   "cell_type": "markdown",
   "metadata": {
    "ein.tags": "worksheet-0",
    "slideshow": {
     "slide_type": "-"
    }
   },
   "source": [
    "Vamos a modificar el archivo de *signature* para enseñarle dos cosas:\n",
    "\n",
    "- El entero es un argumento de entrada (requerido)\n",
    "- El *array* `a` es un archivo de salida **exclusivamente**. Entonces no debemos dárselo. La parte `dimension(n)` y `depend(n)` indica que debe crear un vector de ese tamaño.\n"
   ]
  },
  {
   "cell_type": "code",
   "execution_count": 26,
   "metadata": {},
   "outputs": [
    {
     "name": "stdout",
     "output_type": "stream",
     "text": [
      "!    -*- f90 -*-\r\n",
      "! Note: the context of this file is case sensitive.\r\n",
      "\r\n",
      "python module fib1 ! in \r\n",
      "    interface  ! in :fib1\r\n",
      "        subroutine fib(a,n) ! in :fib1:fib1.f\r\n",
      "            real*8 dimension(n) :: a\r\n",
      "            integer, optional,check(len(a)>=n),depend(a) :: n=len(a)\r\n",
      "        end subroutine fib\r\n",
      "    end interface \r\n",
      "end python module fib1\r\n",
      "\r\n",
      "! This file was auto-generated with f2py (version:1.21.2).\r\n",
      "! See http://cens.ioc.ee/projects/f2py2e/\r\n"
     ]
    }
   ],
   "source": [
    "!cat fib1.pyf "
   ]
  },
  {
   "cell_type": "code",
   "execution_count": 29,
   "metadata": {},
   "outputs": [
    {
     "name": "stdout",
     "output_type": "stream",
     "text": [
      "!    -*- f90 -*-\n",
      "! Note: the context of this file is case sensitive.\n",
      "\n",
      "python module fib2 \n",
      "    interface  \n",
      "        subroutine fib(a,n)\n",
      "            real*8 dimension(n), intent(out), depend(n) :: a\n",
      "            integer intent(in) :: n \n",
      "        end subroutine fib\n",
      "    end interface \n",
      "end python module fib2\n",
      "\n",
      "! This file was auto-generated with f2py (version:1.21.2).\n",
      "! See http://cens.ioc.ee/projects/f2py2e/\n"
     ]
    }
   ],
   "source": [
    "!cat fib2.pyf"
   ]
  },
  {
   "cell_type": "code",
   "execution_count": 30,
   "metadata": {
    "autoscroll": false,
    "ein.tags": "worksheet-0",
    "slideshow": {
     "slide_type": "-"
    }
   },
   "outputs": [
    {
     "name": "stdout",
     "output_type": "stream",
     "text": [
      "In file included from /var/folders/b8/sx4v8rw56mv_mzsdqmfxz7z00000gn/T/tmp8wcveqd5/src.macosx-10.9-x86_64-3.9/fib2module.c:16:\n",
      "In file included from /var/folders/b8/sx4v8rw56mv_mzsdqmfxz7z00000gn/T/tmp8wcveqd5/src.macosx-10.9-x86_64-3.9/fortranobject.h:13:\n",
      "In file included from /opt/miniconda3/lib/python3.9/site-packages/numpy/core/include/numpy/arrayobject.h:4:\n",
      "In file included from /opt/miniconda3/lib/python3.9/site-packages/numpy/core/include/numpy/ndarrayobject.h:12:\n",
      "In file included from /opt/miniconda3/lib/python3.9/site-packages/numpy/core/include/numpy/ndarraytypes.h:1969:\n",
      "\u001b[1m/opt/miniconda3/lib/python3.9/site-packages/numpy/core/include/numpy/npy_1_7_deprecated_api.h:17:2: In file included from \u001b[0m/var/folders/b8/sx4v8rw56mv_mzsdqmfxz7z00000gn/T/tmp8wcveqd5/src.macosx-10.9-x86_64-3.9/fortranobject.c\u001b[0;1;35m:warning: 2\u001b[0m:\n",
      "\u001b[1mIn file included from \"Using deprecated NumPy API, disable it with \"          \"#define NPY_NO_DEPRECATED_API NPY_1_7_API_VERSION\" [-W#warnings]/var/folders/b8/sx4v8rw5\u001b[0m\n",
      "#warning \"Using deprecated NumPy API, disable it with \" \\\n",
      "\u001b[0;1;32m ^\n",
      "\u001b[0m6mv_mzsdqmfxz7z00000gn/T/tmp8wcveqd5/src.macosx-10.9-x86_64-3.9/fortranobject.h:13:\n",
      "In file included from /opt/miniconda3/lib/python3.9/site-packages/numpy/core/include/numpy/arrayobject.h:4:\n",
      "In file included from /opt/miniconda3/lib/python3.9/site-packages/numpy/core/include/numpy/ndarrayobject.h:12:\n",
      "In file included from /opt/miniconda3/lib/python3.9/site-packages/numpy/core/include/numpy/ndarraytypes.h:1969:\n",
      "\u001b[1m/opt/miniconda3/lib/python3.9/site-packages/numpy/core/include/numpy/npy_1_7_deprecated_api.h:17:2: \u001b[0m\u001b[0;1;35mwarning: \u001b[0m\u001b[1m\"Using deprecated NumPy API, disable it with \"          \"#define NPY_NO_DEPRECATED_API NPY_1_7_API_VERSION\" [-W#warnings]\u001b[0m\n",
      "#warning \"Using deprecated NumPy API, disable it with \" \\\n",
      "\u001b[0;1;32m ^\n",
      "\u001b[0m\u001b[1m/var/folders/b8/sx4v8rw56mv_mzsdqmfxz7z00000gn/T/tmp8wcveqd5/src.macosx-10.9-x86_64-3.9/fib2module.c:102:12: \u001b[0m\u001b[0;1;35mwarning: \u001b[0m\u001b[1munused function 'f2py_size' [-Wunused-function]\u001b[0m\n",
      "static int f2py_size(PyArrayObject* var, ...)\n",
      "\u001b[0;1;32m           ^\n",
      "\u001b[0m2 warnings generated.\n",
      "1 warning generated.\n",
      "ld: warning: dylib (/usr/local/gfortran/lib/libgfortran.dylib) was built for newer macOS version (10.14) than being linked (10.9)\n",
      "ld: warning: dylib (/usr/local/gfortran/lib/libquadmath.dylib) was built for newer macOS version (10.14) than being linked (10.9)\n"
     ]
    }
   ],
   "source": [
    "!f2py3  -c fib2.pyf fib1.f > /dev/null"
   ]
  },
  {
   "cell_type": "code",
   "execution_count": 31,
   "metadata": {
    "autoscroll": false,
    "ein.tags": "worksheet-0",
    "slideshow": {
     "slide_type": "-"
    }
   },
   "outputs": [
    {
     "name": "stdout",
     "output_type": "stream",
     "text": [
      "a = fib(n)\n",
      "\n",
      "Wrapper for ``fib``.\n",
      "\n",
      "Parameters\n",
      "----------\n",
      "n : input int\n",
      "\n",
      "Returns\n",
      "-------\n",
      "a : rank-1 array('d') with bounds (n)\n",
      "\n"
     ]
    }
   ],
   "source": [
    "import fib2\n",
    "print(fib2.fib.__doc__)"
   ]
  },
  {
   "cell_type": "code",
   "execution_count": 32,
   "metadata": {
    "autoscroll": false,
    "ein.tags": "worksheet-0",
    "slideshow": {
     "slide_type": "-"
    }
   },
   "outputs": [
    {
     "data": {
      "text/plain": [
       "array([ 0.,  1.,  1.,  2.,  3.,  5.,  8., 13., 21.])"
      ]
     },
     "execution_count": 32,
     "metadata": {},
     "output_type": "execute_result"
    }
   ],
   "source": [
    "fib2.fib(9)"
   ]
  },
  {
   "cell_type": "code",
   "execution_count": 33,
   "metadata": {
    "autoscroll": false,
    "ein.tags": "worksheet-0",
    "slideshow": {
     "slide_type": "-"
    }
   },
   "outputs": [
    {
     "name": "stdout",
     "output_type": "stream",
     "text": [
      "[  0.   1.   1.   2.   3.   5.   8.  13.  21.  34.  55.  89. 144. 233.]\n"
     ]
    }
   ],
   "source": [
    "print(fib2.fib(14))"
   ]
  },
  {
   "cell_type": "markdown",
   "metadata": {
    "ein.tags": "worksheet-0",
    "slideshow": {
     "slide_type": "-"
    }
   },
   "source": [
    "La segunda manera de arreglar este problema, en lugar de modificar el archivo de *signature* podría haber sido modificar el código (o hacer una rutina intermedia). Agregando comentarios de la forma `Cf2py` no influimos en la compilación `Fortran` pero F2PY los reconoce. En este caso le damos la información sobre la intención de los argumentos en el código:\n",
    "\n",
    "```fortran\n",
    "      SUBROUTINE FIB(A,N)\n",
    "C\n",
    "C     CALCULATE FIRST N FIBONACCI NUMBERS\n",
    "C\n",
    "      INTEGER N\n",
    "      REAL*8 A(N)\n",
    "Cf2py intent(in) n\n",
    "Cf2py intent(out) a\n",
    "Cf2py depend(n) a\n",
    "      DO I=1,N\n",
    "         IF (I.EQ.1) THEN\n",
    "            A(I) = 0.0D0\n",
    "         ELSEIF (I.EQ.2) THEN\n",
    "            A(I) = 1.0D0\n",
    "         ELSE \n",
    "            A(I) = A(I-1) + A(I-2)\n",
    "         ENDIF\n",
    "      ENDDO\n",
    "      END\n",
    "```"
   ]
  },
  {
   "cell_type": "code",
   "execution_count": 34,
   "metadata": {
    "autoscroll": false,
    "ein.tags": "worksheet-0",
    "slideshow": {
     "slide_type": "-"
    }
   },
   "outputs": [
    {
     "name": "stdout",
     "output_type": "stream",
     "text": [
      "In file included from /var/folders/b8/sx4v8rw56mv_mzsdqmfxz7z00000gn/T/tmpb3621tga/src.macosx-10.9-x86_64-3.9/fortranobject.c:2:\n",
      "In file included from /var/folders/b8/sx4v8rw56mv_mzsdqmfxz7z00000gn/T/tmpb3621tga/src.macosx-10.9-x86_64-3.9/fortranobject.h:13:\n",
      "In file included from /opt/miniconda3/lib/python3.9/site-packages/numpy/core/include/numpy/arrayobject.h:4:\n",
      "In file included from /opt/miniconda3/lib/python3.9/site-packages/numpy/core/include/numpy/ndarrayobject.h:12:\n",
      "In file included from /opt/miniconda3/lib/python3.9/site-packages/numpy/core/include/numpy/ndarraytypes.h:1969:\n",
      "\u001b[1m/opt/miniconda3/lib/python3.9/site-packages/numpy/core/include/numpy/npy_1_7_deprecated_api.h:17:2: \u001b[0m\u001b[0;1;35mwarning: \u001b[0m\u001b[1m\"Using deprecated NumPy API, disable it with \"          \"#define NPY_NO_DEPRECATED_API NPY_1_7_API_VERSION\" [-W#warnings]\u001b[0m\n",
      "#warning \"Using deprecated NumPy API, disable it with \" \\\n",
      "\u001b[0;1;32m ^\n",
      "\u001b[0mIn file included from /var/folders/b8/sx4v8rw56mv_mzsdqmfxz7z00000gn/T/tmpb3621tga/src.macosx-10.9-x86_64-3.9/fib3module.c:16:\n",
      "In file included from /var/folders/b8/sx4v8rw56mv_mzsdqmfxz7z00000gn/T/tmpb3621tga/src.macosx-10.9-x86_64-3.9/fortranobject.h:13:\n",
      "In file included from /opt/miniconda3/lib/python3.9/site-packages/numpy/core/include/numpy/arrayobject.h:4:\n",
      "In file included from /opt/miniconda3/lib/python3.9/site-packages/numpy/core/include/numpy/ndarrayobject.h:12:\n",
      "In file included from /opt/miniconda3/lib/python3.9/site-packages/numpy/core/include/numpy/ndarraytypes.h:1969:\n",
      "\u001b[1m/opt/miniconda3/lib/python3.9/site-packages/numpy/core/include/numpy/npy_1_7_deprecated_api.h:17:2: \u001b[0m\u001b[0;1;35mwarning: \u001b[0m\u001b[1m\"Using deprecated NumPy API, disable it with \"          \"#define NPY_NO_DEPRECATED_API NPY_1_7_API_VERSION\" [-W#warnings]\u001b[0m\n",
      "#warning \"Using deprecated NumPy API, disable it with \" \\\n",
      "\u001b[0;1;32m ^\n",
      "\u001b[0m\u001b[1m/var/folders/b8/sx4v8rw56mv_mzsdqmfxz7z00000gn/T/tmpb3621tga/src.macosx-10.9-x86_64-3.9/fib3module.c:102:12: \u001b[0m\u001b[0;1;35mwarning: \u001b[0m\u001b[1munused function 'f2py_size' [-Wunused-function]\u001b[0m\n",
      "static int f2py_size(PyArrayObject* var, ...)\n",
      "\u001b[0;1;32m           ^\n",
      "\u001b[0m2 warnings generated.\n",
      "1 warning generated.\n",
      "ld: warning: dylib (/usr/local/gfortran/lib/libgfortran.dylib) was built for newer macOS version (10.14) than being linked (10.9)\n",
      "ld: warning: dylib (/usr/local/gfortran/lib/libquadmath.dylib) was built for newer macOS version (10.14) than being linked (10.9)\n"
     ]
    }
   ],
   "source": [
    "!f2py3  -c fib3.f -m fib3 > /dev/null"
   ]
  },
  {
   "cell_type": "code",
   "execution_count": 30,
   "metadata": {
    "autoscroll": false,
    "ein.tags": "worksheet-0",
    "slideshow": {
     "slide_type": "-"
    }
   },
   "outputs": [
    {
     "name": "stdout",
     "output_type": "stream",
     "text": [
      "a = fib(n)\n",
      "\n",
      "Wrapper for ``fib``.\n",
      "\n",
      "Parameters\n",
      "----------\n",
      "n : input int\n",
      "\n",
      "Returns\n",
      "-------\n",
      "a : rank-1 array('d') with bounds (n)\n",
      "\n"
     ]
    }
   ],
   "source": [
    "import fib3\n",
    "print(fib3.fib.__doc__)"
   ]
  },
  {
   "cell_type": "code",
   "execution_count": 31,
   "metadata": {},
   "outputs": [
    {
     "name": "stdout",
     "output_type": "stream",
     "text": [
      "a = fib(n)\n",
      "\n",
      "Wrapper for ``fib``.\n",
      "\n",
      "Parameters\n",
      "----------\n",
      "n : input int\n",
      "\n",
      "Returns\n",
      "-------\n",
      "a : rank-1 array('d') with bounds (n)\n",
      "\n"
     ]
    }
   ],
   "source": [
    "print(fib2.fib.__doc__)"
   ]
  },
  {
   "cell_type": "markdown",
   "metadata": {
    "ein.tags": "worksheet-0",
    "slideshow": {
     "slide_type": "-"
    }
   },
   "source": [
    "como vemos, son exactamente iguales."
   ]
  },
  {
   "cell_type": "markdown",
   "metadata": {
    "ein.tags": "worksheet-0",
    "slideshow": {
     "slide_type": "-"
    }
   },
   "source": [
    "### F2PY para código en C\n",
    "\n",
    "Es posible usar F2PY para código escrito en C, pero en ese caso debemos escribir el *signature file* a mano.\n",
    "\n",
    "Para código en C es conveniente utilizar **Cython**. Cython es un lenguaje de programación pensado para hacer más fácil escribir extensiones a Python en C. Uno escribe el código en Cython, y luego es traducido a C, con optimizaciones.\n",
    "\n",
    "**Cython** también puede utilizarse con Fortran de una manera similar a cómo se usa con C. Para más información ver la [documentación oficial](http://docs.cython.org/en/latest/index.html)\n"
   ]
  }
 ],
 "metadata": {
  "kernelspec": {
   "display_name": "Python 3 (ipykernel)",
   "language": "python",
   "name": "python3"
  },
  "language_info": {
   "codemirror_mode": {
    "name": "ipython",
    "version": 3
   },
   "file_extension": ".py",
   "mimetype": "text/x-python",
   "name": "python",
   "nbconvert_exporter": "python",
   "pygments_lexer": "ipython3",
   "version": "3.9.5"
  },
  "name": "Untitled.ipynb",
  "toc": {
   "base_numbering": 1,
   "nav_menu": {},
   "number_sections": true,
   "sideBar": true,
   "skip_h1_title": false,
   "title_cell": "Contenidos",
   "title_sidebar": "Contenidos",
   "toc_cell": false,
   "toc_position": {},
   "toc_section_display": true,
   "toc_window_display": true
  }
 },
 "nbformat": 4,
 "nbformat_minor": 1
}
