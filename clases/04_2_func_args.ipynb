{
 "cells": [
  {
   "cell_type": "markdown",
   "id": "e95ddc4c-8b20-4d6c-9065-7c8ace9b3ef4",
   "metadata": {},
   "source": [
    "## Argumentos de las funciones\n"
   ]
  },
  {
   "cell_type": "markdown",
   "id": "502b643d-69d2-41f5-970e-7b8376a40363",
   "metadata": {},
   "source": [
    "\n",
    "### Ámbito de las variables en los argumentos\n",
    "\n",
    "Consideremos la siguiente función\n"
   ]
  },
  {
   "cell_type": "code",
   "execution_count": 1,
   "id": "39a447ae-b972-4884-a35a-fa3ebec9d1fd",
   "metadata": {},
   "outputs": [],
   "source": [
    "def func1(x):\n",
    "  print('x entró a la función con el valor', x)\n",
    "  x = 2\n",
    "  print('El nuevo valor de x es', x)"
   ]
  },
  {
   "cell_type": "code",
   "execution_count": 2,
   "id": "20dfd4b7-605e-4582-b4f5-2772f2471c26",
   "metadata": {},
   "outputs": [
    {
     "name": "stdout",
     "output_type": "stream",
     "text": [
      "Fuera de la función: Originalmente x vale 50\n",
      "x entró a la función con el valor 50\n",
      "El nuevo valor de x es 2\n",
      "Fuera de la función: Ahora x vale 50\n"
     ]
    }
   ],
   "source": [
    "x = 50\n",
    "print('Fuera de la función: Originalmente x vale',x)\n",
    "func1(x)\n",
    "print('Fuera de la función: Ahora x vale',x)  \n"
   ]
  },
  {
   "cell_type": "markdown",
   "id": "61a4b235-e1e1-474d-a6e1-6ce855cd824c",
   "metadata": {},
   "source": [
    "Vemos que la variable `x` que utilizamos como argumento de la función debe ser diferente a la variable `x` que se define fuera de la función, ya que su valor no cambia al salir.\n",
    "\n",
    "Consideremos ahora la siguiente función:"
   ]
  },
  {
   "cell_type": "code",
   "execution_count": 3,
   "id": "096f9642-bc2a-44b7-8dca-c248471f20aa",
   "metadata": {},
   "outputs": [],
   "source": [
    "def func2(x):\n",
    "  print('x entró a la función con el valor', x)\n",
    "  print('Id adentro:',id(x))\n",
    "  x = [2,7]\n",
    "  print('El nuevo valor de x es', x)\n",
    "  print('Id adentro nuevo:',id(x))"
   ]
  },
  {
   "cell_type": "markdown",
   "id": "3b90b743-de84-49ef-8033-879f45487149",
   "metadata": {},
   "source": [
    "La función es muy parecida, sólo que le estamos dando a la variable `x` dentro de la función un nuevo valor del tipo ``lista``. Además usamos la función `id()` para obtener la identidad de la variable"
   ]
  },
  {
   "cell_type": "code",
   "execution_count": 4,
   "id": "587d0671-3525-4632-b556-c916ec8acfc4",
   "metadata": {},
   "outputs": [
    {
     "name": "stdout",
     "output_type": "stream",
     "text": [
      "Fuera de la función: Originalmente x vale 50\n",
      "Fuera de la función: Id: 140648043740424\n",
      "x entró a la función con el valor 50\n",
      "Id adentro: 140648043740424\n",
      "El nuevo valor de x es [2, 7]\n",
      "Id adentro nuevo: 140647704981376\n",
      "Fuera de la función: Ahora x vale 50\n",
      "Fuera de la función: Id: 140648043740424\n"
     ]
    }
   ],
   "source": [
    "x = 50\n",
    "print('Fuera de la función: Originalmente x vale', x)\n",
    "print('Fuera de la función: Id:', id(x))\n",
    "func2(x)\n",
    "print('Fuera de la función: Ahora x vale', x)\n",
    "print('Fuera de la función: Id:', id(x))"
   ]
  },
  {
   "cell_type": "code",
   "execution_count": 5,
   "id": "d85b3344-971f-4f0f-b38e-d44f2ba99235",
   "metadata": {},
   "outputs": [
    {
     "name": "stdout",
     "output_type": "stream",
     "text": [
      "Fuera de la función: Originalmente x vale [50]\n",
      "Fuera de la función: Id: 140647705134528\n",
      "x entró a la función con el valor [50]\n",
      "Id adentro: 140647705134528\n",
      "El nuevo valor de x es [2, 7]\n",
      "Id adentro nuevo: 140647705128320\n",
      "Fuera de la función: Ahora x vale [50]\n",
      "Fuera de la función: Id: 140647705134528\n"
     ]
    }
   ],
   "source": [
    "x = [50]\n",
    "print('Fuera de la función: Originalmente x vale', x)\n",
    "print('Fuera de la función: Id:', id(x))\n",
    "func2(x)\n",
    "print('Fuera de la función: Ahora x vale', x)\n",
    "print('Fuera de la función: Id:', id(x))"
   ]
  },
  {
   "cell_type": "markdown",
   "id": "2dcacf74-e1cc-4ee8-9a3d-d05a015b3b25",
   "metadata": {},
   "source": [
    "¿Qué está pasando acá? \n",
    "\n",
    "- Cuando se realiza la llamada a la función, se le pasa una copia del nombre `x`. \n",
    "- Cuando le damos un nuevo valor dentro de la función, como en el caso `x = [2, 7]`, entonces se crea una nueva variable y el nombre `x` queda asociado a la nueva variable.\n",
    "- La variable original --definida fuera de la función-- no cambia."
   ]
  },
  {
   "cell_type": "markdown",
   "id": "593955e1-e833-4b62-890a-95b7ebe78e81",
   "metadata": {},
   "source": [
    "En el primer caso, como los escalares son inmutables (de la misma manera que los strings y tuplas) no puede ser modificada, y al reasignar el nombre siempre se crea una nueva variable (para cualquier tipo)."
   ]
  },
  {
   "cell_type": "markdown",
   "id": "29663385-a5a0-4dd6-9f2c-17cdb77e5662",
   "metadata": {},
   "source": [
    "Consideremos estas variantes, donde el comportamiento entre tipos mutables e inmutables son diferentes:"
   ]
  },
  {
   "cell_type": "code",
   "execution_count": 6,
   "id": "4b3fbbd9-a17d-46eb-9864-687fe6379384",
   "metadata": {},
   "outputs": [],
   "source": [
    "def func3(x):\n",
    "  print('x entró a la función con el valor', x)\n",
    "  print('Id adentro:',id(x))\n",
    "  x.append(2)\n",
    "  print('El nuevo valor de x es', x)\n",
    "  print('Id adentro nuevo:',id(x))"
   ]
  },
  {
   "cell_type": "code",
   "execution_count": 7,
   "id": "68d470ce-4dbf-44bb-9d4f-e97b4f92b673",
   "metadata": {},
   "outputs": [
    {
     "name": "stdout",
     "output_type": "stream",
     "text": [
      "Originalmente x vale [50]\n",
      "x entró a la función con el valor [50]\n",
      "Id adentro: 140647705004032\n",
      "El nuevo valor de x es [50, 2]\n",
      "Id adentro nuevo: 140647705004032\n",
      "Ahora x vale [50, 2]\n"
     ]
    }
   ],
   "source": [
    "x = [50]\n",
    "print('Originalmente x vale',x)\n",
    "func3(x)\n",
    "print('Ahora x vale',x)  "
   ]
  },
  {
   "cell_type": "markdown",
   "id": "dbab1792-aff6-41a5-bc3a-2799bbc7b4a4",
   "metadata": {},
   "source": [
    "Como no estamos redefiniendo la variable, sino que la estamos modificando, el nuevo valor se mantiene al terminar la ejecución de la función. Otra variante:"
   ]
  },
  {
   "cell_type": "code",
   "execution_count": 8,
   "id": "e0b075fa-586f-4f2b-a2fd-ed5b4117faa9",
   "metadata": {},
   "outputs": [],
   "source": [
    "def func4(x):\n",
    "  print('x entró a la función con el valor', x)\n",
    "  print('Id adentro:',id(x))\n",
    "  x[0] = 2\n",
    "  print('El nuevo valor de x es', x)\n",
    "  print('Id adentro nuevo:',id(x))"
   ]
  },
  {
   "cell_type": "code",
   "execution_count": 9,
   "id": "49cc13e2-f1e3-4c58-b6f9-05f2580c7773",
   "metadata": {},
   "outputs": [
    {
     "name": "stdout",
     "output_type": "stream",
     "text": [
      "Originalmente x vale [50]\n",
      "x entró a la función con el valor [50]\n",
      "Id adentro: 140647704983744\n",
      "El nuevo valor de x es [2]\n",
      "Id adentro nuevo: 140647704983744\n",
      "Ahora x vale [2]\n"
     ]
    }
   ],
   "source": [
    "x = [50]\n",
    "print('Originalmente x vale',x)\n",
    "func4(x)\n",
    "print('Ahora x vale',x)  "
   ]
  },
  {
   "cell_type": "markdown",
   "id": "eb5dedbd-652d-49c9-b5b1-4090ceb66598",
   "metadata": {},
   "source": [
    "Vemos que, cuando modificamos la variable (solo se puede para tipos mutables), asignando un valor a uno o más de sus elementos o agregando/removiendo elementos, la copia sigue apuntando a la variable original y el valor de la variable, definida originalmente afuera, cambia."
   ]
  },
  {
   "cell_type": "markdown",
   "id": "f1751ebc-a9fa-46bb-9cd1-88dac9cc872b",
   "metadata": {},
   "source": [
    "\n",
    "### Funciones con argumentos opcionales\n",
    "\n",
    "Las funciones pueden tener muchos argumentos. En **Python** pueden tener un número variable de argumentos y pueden tener valores por *default* para algunos de ellos. En el caso de la función de caída libre, vamos a extenderlo de manera que podamos usarlo fuera de la tierra (o en otras latitudes) permitiendo cambiar el valor de la gravedad y asumiendo que, a menos que lo pidamos explícitamente se trata de una simple caída libre:"
   ]
  },
  {
   "cell_type": "code",
   "execution_count": 10,
   "id": "015f5cf8-7209-4dca-aa7c-93ce6b36ce92",
   "metadata": {},
   "outputs": [],
   "source": [
    "def caida_libre(t, h0, v0=0., g=9.8):\n",
    "  \"\"\"Devuelve la velocidad y la posición de una partícula en\n",
    "  caída libre para condiciones iniciales dadas\n",
    "\n",
    "  Parameters\n",
    "  ----------\n",
    "  t : float\n",
    "      el tiempo al que queremos realizar el cálculo\n",
    "  h0: float \n",
    "      la altura inicial\n",
    "  v0: float (opcional)\n",
    "      la velocidad inicial (default = 0.0)\n",
    "   g: float (opcional)\n",
    "      valor de la aceleración de la gravedad (default = 9.8)\n",
    "\n",
    "  Returns\n",
    "  -------\n",
    "  (v,h):  tuple of floats\n",
    "       v= v0 - g*t\n",
    "       h= h0 - v0*t -g*t^2/2\n",
    "  \n",
    "  \"\"\"\n",
    "  v = v0 - g*t\n",
    "  h = h0 - v0*t - g*t**2/2.\n",
    "  return v,h\n"
   ]
  },
  {
   "cell_type": "code",
   "execution_count": 11,
   "id": "1bdada36-3db4-4e82-ba03-0fb336bb142e",
   "metadata": {},
   "outputs": [
    {
     "name": "stdout",
     "output_type": "stream",
     "text": [
      "(-19.6, 980.4)\n"
     ]
    }
   ],
   "source": [
    "# Desde 1000 metros con velocidad inicial cero\n",
    "print( caida_libre(2,1000))"
   ]
  },
  {
   "cell_type": "code",
   "execution_count": 12,
   "id": "4a154e00-2d50-4819-b8e6-b8b21ab59961",
   "metadata": {},
   "outputs": [
    {
     "name": "stdout",
     "output_type": "stream",
     "text": [
      "(0.1999999999999993, 985.1)\n"
     ]
    }
   ],
   "source": [
    "# Desde 1000 metros con velocidad inicial hacia arriba\n",
    "print(caida_libre(1, 1000, 10))"
   ]
  },
  {
   "cell_type": "code",
   "execution_count": 13,
   "id": "e4b77d8f-e1bb-437e-a877-5d067d765a74",
   "metadata": {},
   "outputs": [
    {
     "name": "stdout",
     "output_type": "stream",
     "text": [
      "(-19.6, 980.4)\n"
     ]
    }
   ],
   "source": [
    "# Desde 1000 metros con velocidad inicial cero\n",
    "print(caida_libre(h0= 1000, t=2))"
   ]
  },
  {
   "cell_type": "code",
   "execution_count": 14,
   "id": "4fe0308a-b6b0-4008-97db-6a28642a4ef3",
   "metadata": {},
   "outputs": [
    {
     "name": "stdout",
     "output_type": "stream",
     "text": [
      "(-139.99999426000002, 8.199999820135417e-05)\n"
     ]
    }
   ],
   "source": [
    "# Desde 1000 metros con velocidad inicial cero en la luna\n",
    "print( caida_libre( v0=0, h0=1000, t=14.2857137))"
   ]
  },
  {
   "cell_type": "code",
   "execution_count": 15,
   "id": "d1eef07c-b04d-439a-bd16-0e29949b806c",
   "metadata": {},
   "outputs": [
    {
     "name": "stdout",
     "output_type": "stream",
     "text": [
      "(-23.2142847625, 834.1836870663262)\n"
     ]
    }
   ],
   "source": [
    "# Desde 1000 metros con velocidad inicial cero en la luna\n",
    "print( caida_libre( v0=0, h0=1000, t=14.2857137, g=1.625))"
   ]
  },
  {
   "cell_type": "code",
   "execution_count": 16,
   "id": "a7dfec87-1378-42f9-ab21-b9cab299530f",
   "metadata": {},
   "outputs": [
    {
     "name": "stdout",
     "output_type": "stream",
     "text": [
      "Help on function caida_libre in module __main__:\n",
      "\n",
      "caida_libre(t, h0, v0=0.0, g=9.8)\n",
      "    Devuelve la velocidad y la posición de una partícula en\n",
      "    caída libre para condiciones iniciales dadas\n",
      "    \n",
      "    Parameters\n",
      "    ----------\n",
      "    t : float\n",
      "        el tiempo al que queremos realizar el cálculo\n",
      "    h0: float \n",
      "        la altura inicial\n",
      "    v0: float (opcional)\n",
      "        la velocidad inicial (default = 0.0)\n",
      "     g: float (opcional)\n",
      "        valor de la aceleración de la gravedad (default = 9.8)\n",
      "    \n",
      "    Returns\n",
      "    -------\n",
      "    (v,h):  tuple of floats\n",
      "         v= v0 - g*t\n",
      "         h= h0 - v0*t -g*t^2/2\n",
      "\n"
     ]
    }
   ],
   "source": [
    "help(caida_libre)"
   ]
  },
  {
   "cell_type": "markdown",
   "id": "a36cccf6-f15a-428f-af47-e2aa4d49e7b2",
   "metadata": {},
   "source": [
    "\n",
    "-----\n",
    "\n",
    "**Nota:** No se pueden usar argumentos con *nombre* antes de los argumentos requeridos (en este caso ``t``).\n",
    "\n",
    "Tampoco se pueden usar argumentos sin su *nombre* después de haber incluido alguno con su nombre. Por ejemplo no son válidas las llamadas:\n",
    "\n",
    "```python\n",
    "caida_libre(t=2, 0.)\n",
    "caida_libre(2, v0=0., 1000)\n",
    "```\n",
    "\n",
    "-----\n"
   ]
  },
  {
   "cell_type": "markdown",
   "id": "daedd674-a8d0-40b7-94ff-caa2d5da210b",
   "metadata": {},
   "source": [
    "\n",
    "### Tipos mutables en argumentos opcionales\n",
    "\n",
    "Hay que tener cuidado cuando usamos valores por defecto con tipos que pueden modificarse dentro de la función.\n",
    "Consideremos la siguiente función:"
   ]
  },
  {
   "cell_type": "code",
   "execution_count": 17,
   "id": "ac04d797-fbbd-4749-b5ae-c3e186faf0b1",
   "metadata": {},
   "outputs": [],
   "source": [
    "def func2b(x1, x=[]):\n",
    "  print('x entró a la función con el valor', x)\n",
    "  x.append(x1)\n",
    "  print('El nuevo valor de x es', x)"
   ]
  },
  {
   "cell_type": "code",
   "execution_count": 18,
   "id": "4511c2e0-a7ce-4079-8439-4c80474add0a",
   "metadata": {},
   "outputs": [
    {
     "name": "stdout",
     "output_type": "stream",
     "text": [
      "x entró a la función con el valor []\n",
      "El nuevo valor de x es [1]\n"
     ]
    }
   ],
   "source": [
    "func2b(1)"
   ]
  },
  {
   "cell_type": "code",
   "execution_count": 19,
   "id": "12ce9946-30ef-4914-8688-160453ce46c6",
   "metadata": {},
   "outputs": [
    {
     "name": "stdout",
     "output_type": "stream",
     "text": [
      "x entró a la función con el valor [1]\n",
      "El nuevo valor de x es [1, 2]\n"
     ]
    }
   ],
   "source": [
    "func2b(2)"
   ]
  },
  {
   "cell_type": "markdown",
   "id": "f02e47f9-f043-4ab9-aa19-1f24a0ed368c",
   "metadata": {},
   "source": [
    "El argumento opcional `x` tiene como valor por defecto una lista vacía, entonces esperaríamos que el valor de `x` sea igual a `x1`, y en este caso imprima \"El nuevo valor de x es [2]\". Sin embargo, entre llamadas mantiene el valor de `x` anterior. El valor por defecto se fija en la definición y en el caso de tipos mutables puede modificarse."
   ]
  },
  {
   "cell_type": "markdown",
   "id": "6fdf5131-f897-463d-834e-9718fe235dd5",
   "metadata": {},
   "source": [
    "\n",
    "### Número variable de argumentos y argumentos *keywords* \n",
    "\n",
    "Se pueden definir funciones que toman un número variable de argumentos (como una lista), o que aceptan un diccionario como argumento. Este tipo de argumentos se llaman argumentos *keyword* (``kwargs``). \n",
    "Una buena explicación se encuentra en el [Tutorial de la documentación](https://docs.python.org/3/tutorial/controlflow.html#keyword-arguments). Ahora vamos a dar una explicación rápida. Consideremos la función `f`, que imprime sus argumentos:"
   ]
  },
  {
   "cell_type": "code",
   "execution_count": 20,
   "id": "d72a1c1d-4dde-40c4-95df-76000f8debbd",
   "metadata": {},
   "outputs": [],
   "source": [
    "def f(p, *args, **kwargs):\n",
    "  print( f\"p: {p}, tipo: {type(p)}\")\n",
    "  print( f\"args: {args}, tipo: {type(args)}\")\n",
    "  print( f\"kwargs: {kwargs}, tipo: {type(kwargs)}\")"
   ]
  },
  {
   "cell_type": "code",
   "execution_count": 22,
   "id": "81a8e835",
   "metadata": {},
   "outputs": [
    {
     "name": "stdout",
     "output_type": "stream",
     "text": [
      "p: 1, tipo: <class 'int'>\n",
      "args: (), tipo: <class 'tuple'>\n",
      "kwargs: {}, tipo: <class 'dict'>\n"
     ]
    }
   ],
   "source": [
    "f(1)"
   ]
  },
  {
   "cell_type": "code",
   "execution_count": 23,
   "id": "df03fa1c-9921-495b-9994-6ff85d168d8d",
   "metadata": {},
   "outputs": [
    {
     "name": "stdout",
     "output_type": "stream",
     "text": [
      "p: 1, tipo: <class 'int'>\n",
      "args: (2, 3), tipo: <class 'tuple'>\n",
      "kwargs: {}, tipo: <class 'dict'>\n"
     ]
    }
   ],
   "source": [
    "f(1,2,3)"
   ]
  },
  {
   "cell_type": "code",
   "execution_count": 24,
   "id": "44f11d8d-7b0f-4017-a586-5bde85a6cac9",
   "metadata": {},
   "outputs": [
    {
     "name": "stdout",
     "output_type": "stream",
     "text": [
      "p: 1, tipo: <class 'int'>\n",
      "args: (2, 3, 4, 5, 6), tipo: <class 'tuple'>\n",
      "kwargs: {}, tipo: <class 'dict'>\n"
     ]
    }
   ],
   "source": [
    "f(1,2,3,4,5,6)"
   ]
  },
  {
   "cell_type": "markdown",
   "id": "3556648a-c728-496d-bf5e-6c0d467f78e7",
   "metadata": {},
   "source": [
    "En este ejemplo, el primer valor se asigna al argumento requerido `p`, y los siguientes a una variable que se llama `args`, que es del tipo `tuple`"
   ]
  },
  {
   "cell_type": "code",
   "execution_count": 25,
   "id": "293feeab-60d9-4560-8923-2684718d4120",
   "metadata": {},
   "outputs": [
    {
     "name": "stdout",
     "output_type": "stream",
     "text": [
      "p: 1.5, tipo: <class 'float'>\n",
      "args: (2, 3, 5), tipo: <class 'tuple'>\n",
      "kwargs: {'anteultimo': 9, 'ultimo': -1}, tipo: <class 'dict'>\n"
     ]
    }
   ],
   "source": [
    "f(1.5,2, 3, 5, anteultimo= 9, ultimo = -1)"
   ]
  },
  {
   "cell_type": "code",
   "execution_count": 26,
   "id": "e13e1d17-f9be-41fd-9253-88f349f2ea5c",
   "metadata": {},
   "outputs": [
    {
     "name": "stdout",
     "output_type": "stream",
     "text": [
      "p: 1, tipo: <class 'int'>\n",
      "args: ((1, 2, 3), 4), tipo: <class 'tuple'>\n",
      "kwargs: {'ultimo': -1}, tipo: <class 'dict'>\n"
     ]
    }
   ],
   "source": [
    "f(1, (1,2,3), 4, ultimo=-1)"
   ]
  },
  {
   "cell_type": "markdown",
   "id": "1b5ca177-aa84-4fee-97fc-8a4ee9e07a41",
   "metadata": {},
   "source": [
    "En estas otras llamadas a la función, todos los argumentos que se pasan indicando el nombre se asignan a un diccionario."
   ]
  },
  {
   "cell_type": "code",
   "execution_count": 27,
   "id": "0c9a3964",
   "metadata": {},
   "outputs": [
    {
     "name": "stdout",
     "output_type": "stream",
     "text": [
      "Help on built-in function print in module builtins:\n",
      "\n",
      "print(*args, sep=' ', end='\\n', file=None, flush=False)\n",
      "    Prints the values to a stream, or to sys.stdout by default.\n",
      "    \n",
      "    sep\n",
      "      string inserted between values, default a space.\n",
      "    end\n",
      "      string appended after the last value, default a newline.\n",
      "    file\n",
      "      a file-like object (stream); defaults to the current sys.stdout.\n",
      "    flush\n",
      "      whether to forcibly flush the stream.\n",
      "\n"
     ]
    }
   ],
   "source": [
    "help(print)"
   ]
  },
  {
   "cell_type": "markdown",
   "id": "27f3c37f-9b51-4ed3-8f7c-81c62e730eab",
   "metadata": {},
   "source": [
    "Al definir una función, con la construcción `*args` se indica *\"mapear todos los argumentos posicionales no explícitos a una tupla llamada `args`\"*. Con `**kwargs` se indica \"mapear todos los argumentos de palabra clave no explícitos a un diccionario llamado `kwargs`\". Esta acción de convertir un conjunto de argumentos a una tuple o diccionario se conoce como *empacar* o *empaquetar* los datos."
   ]
  },
  {
   "cell_type": "markdown",
   "id": "76adb54e-a8ff-4b26-a5ca-af7381fba02f",
   "metadata": {},
   "source": [
    "------\n",
    "\n",
    "**NOTA:** Por supuesto, no es necesario utilizar los nombres \"args\" y \"kwargs\". Podemos llamarlas de cualquier otra manera! los simbolos que indican cantidades arbitrarias de parametros son `*` y `**`. Además es posible poner parametros \"comunes\" antes de los parametros arbitrarios, como se muestra en el ejemplo.\n",
    "\n",
    "------\n"
   ]
  },
  {
   "cell_type": "markdown",
   "id": "03a82127-c3e2-4b8d-ba8c-a4af73f65c4f",
   "metadata": {},
   "source": [
    "Exploremos otras variantes de llamadas a la función:"
   ]
  },
  {
   "cell_type": "code",
   "execution_count": 28,
   "id": "6068dc87-6aef-4c18-9bb1-8c2c0b060a69",
   "metadata": {},
   "outputs": [
    {
     "name": "stdout",
     "output_type": "stream",
     "text": [
      "p: 1, tipo: <class 'int'>\n",
      "args: (), tipo: <class 'tuple'>\n",
      "kwargs: {'ultimo': -1}, tipo: <class 'dict'>\n"
     ]
    }
   ],
   "source": [
    "f(1, ultimo=-1)"
   ]
  },
  {
   "cell_type": "code",
   "execution_count": 29,
   "id": "d2bd9a23-f2d4-4476-a74d-a50f8c269c6e",
   "metadata": {},
   "outputs": [
    {
     "ename": "SyntaxError",
     "evalue": "positional argument follows keyword argument (4027962979.py, line 1)",
     "output_type": "error",
     "traceback": [
      "\u001b[0;36m  Input \u001b[0;32mIn [29]\u001b[0;36m\u001b[0m\n\u001b[0;31m    f(1, ultimo=-1, 2)\u001b[0m\n\u001b[0m                     ^\u001b[0m\n\u001b[0;31mSyntaxError\u001b[0m\u001b[0;31m:\u001b[0m positional argument follows keyword argument\n"
     ]
    }
   ],
   "source": [
    "f(1, ultimo=-1, 2)"
   ]
  },
  {
   "cell_type": "code",
   "execution_count": 30,
   "id": "a46339c3-f2b9-459e-9998-a8d59e08d6d5",
   "metadata": {},
   "outputs": [
    {
     "name": "stdout",
     "output_type": "stream",
     "text": [
      "p: 2, tipo: <class 'int'>\n",
      "args: (), tipo: <class 'tuple'>\n",
      "kwargs: {'ultimo': -1}, tipo: <class 'dict'>\n"
     ]
    }
   ],
   "source": [
    "f(ultimo=-1, p=2)"
   ]
  },
  {
   "cell_type": "markdown",
   "id": "0ba21e72-1ea8-443b-8d8c-01a767f47fad",
   "metadata": {},
   "source": [
    "Un ejemplo de una función con número variable de argumentos puede ser la función `multiplica`:"
   ]
  },
  {
   "cell_type": "code",
   "execution_count": 31,
   "id": "80ccfa1c-e69d-4faa-8fb7-2b85cdd8437e",
   "metadata": {},
   "outputs": [],
   "source": [
    "def multiplica(*args):\n",
    "  s = 1\n",
    "  for a in args:\n",
    "    s *= a\n",
    "  return s"
   ]
  },
  {
   "cell_type": "code",
   "execution_count": 32,
   "id": "1925be78-8484-4a9d-904c-c89d87765d8e",
   "metadata": {},
   "outputs": [
    {
     "data": {
      "text/plain": [
       "10"
      ]
     },
     "execution_count": 32,
     "metadata": {},
     "output_type": "execute_result"
    }
   ],
   "source": [
    "multiplica(2,5)"
   ]
  },
  {
   "cell_type": "code",
   "execution_count": 33,
   "id": "c9e761e5-3fa9-472f-a069-6557120743cb",
   "metadata": {},
   "outputs": [
    {
     "data": {
      "text/plain": [
       "3240"
      ]
     },
     "execution_count": 33,
     "metadata": {},
     "output_type": "execute_result"
    }
   ],
   "source": [
    "multiplica(2,3,5,9,12)"
   ]
  },
  {
   "cell_type": "markdown",
   "id": "04e799eb-5ad5-4da0-9171-0a386d955c4d",
   "metadata": {},
   "source": [
    "-----\n",
    "\n",
    "## Ejercicios 4 (b)\n",
    "\n",
    "3. Escriba funciones para analizar la divisibilidad de enteros:\n",
    "    * La función `es_divisible1(x)` que retorna verdadero si x es divisible por alguno de `2,3,5,7` o falso en caso contrario.\n",
    "    * La función `es_divisible_por_lista` que cumple la misma función que `es_divisible1` pero recibe dos argumentos: el entero `x` y una variable del tipo lista que contiene los valores para los cuáles debemos examinar la divisibilidad. Las siguientes expresiones deben retornar el mismo valor:\n",
    "    ```python\n",
    "    es_divisible1(x) \n",
    "    es_divisible_por_lista(x, [2,3,5,7])\n",
    "    es_divisible_por_lista(x)\n",
    "    ```\n",
    "    * La función `es_divisible_por` cuyo primer argumento (mandatorio) es `x`, y luego puede aceptar un número indeterminado de argumentos:\n",
    "    ```python\n",
    "    es_divisible_por(x)  # retorna verdadero siempre\n",
    "    es_divisible_por(x, 2) # verdadero si x es par\n",
    "    es_divisible_por(x, 2, 3, 5, 7) # igual resultado que es_divisible1(x) e igual a es_divisible_por_lista(x)\n",
    "    es_divisible_por(x, 2, 3, 5, 7, 9, 11, 13)  # o cualquier secuencia de argumentos debe funcionar\n",
    "    ```\n",
    "\n",
    "-----\n"
   ]
  }
 ],
 "metadata": {
  "kernelspec": {
   "display_name": "Python 3 (ipykernel)",
   "language": "python",
   "name": "python3"
  },
  "language_info": {
   "codemirror_mode": {
    "name": "ipython",
    "version": 3
   },
   "file_extension": ".py",
   "mimetype": "text/x-python",
   "name": "python",
   "nbconvert_exporter": "python",
   "pygments_lexer": "ipython3",
   "version": "3.11.1"
  },
  "name": "04_2_func_args.ipynb",
  "toc": {
   "base_numbering": 1,
   "nav_menu": {
    "height": "124.067px",
    "width": "251.333px"
   },
   "number_sections": true,
   "sideBar": true,
   "skip_h1_title": true,
   "title_cell": "Contenidos",
   "title_sidebar": "Contenidos",
   "toc_cell": false,
   "toc_position": null,
   "toc_section_display": true,
   "toc_window_display": false
  }
 },
 "nbformat": 4,
 "nbformat_minor": 5
}
