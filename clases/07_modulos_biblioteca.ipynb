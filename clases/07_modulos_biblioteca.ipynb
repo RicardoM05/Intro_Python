{
 "cells": [
  {
   "cell_type": "markdown",
   "id": "4432a533-f50f-475a-809b-35cb0c1769d4",
   "metadata": {
    "ein.tags": "worksheet-0",
    "slideshow": {
     "slide_type": "-"
    }
   },
   "source": [
    "## Algunos módulos (biblioteca standard)  <a class=\"tocSkip\">"
   ]
  },
  {
   "cell_type": "markdown",
   "id": "402b53bd-24a1-4144-be1c-1140138a6aa6",
   "metadata": {
    "ein.tags": "worksheet-0",
    "slideshow": {
     "slide_type": "-"
    }
   },
   "source": [
    "Los módulos pueden pensarse como bibliotecas de objetos (funciones, datos, etc) que pueden usarse según la necesidad. Hay una biblioteca standard con rutinas para muchas operaciones comunes, y además existen muchos paquetes específicos para distintas tareas. Veamos algunos ejemplos:\n",
    "\n",
    "### Módulo sys\n",
    "\n",
    "Este módulo da acceso a variables que usa o mantiene el intérprete Python"
   ]
  },
  {
   "cell_type": "code",
   "execution_count": 1,
   "id": "a5aac599-922b-4bcb-9b68-f67363e3b790",
   "metadata": {
    "autoscroll": false,
    "ein.hycell": false,
    "ein.tags": "worksheet-0",
    "slideshow": {
     "slide_type": "-"
    }
   },
   "outputs": [],
   "source": [
    "import sys"
   ]
  },
  {
   "cell_type": "code",
   "execution_count": 2,
   "id": "3d0d0145-2423-412f-8a9b-51ac3a06b518",
   "metadata": {
    "autoscroll": false,
    "ein.hycell": false,
    "ein.tags": "worksheet-0",
    "slideshow": {
     "slide_type": "-"
    }
   },
   "outputs": [
    {
     "data": {
      "text/plain": [
       "['/home/fiol/Clases/IntPython/clases-python/clases',\n",
       " '/usr/lib64/python311.zip',\n",
       " '/usr/lib64/python3.11',\n",
       " '/usr/lib64/python3.11/lib-dynload',\n",
       " '',\n",
       " '/home/fiol/.local/lib/python3.11/site-packages',\n",
       " '/usr/lib64/python3.11/site-packages',\n",
       " '/usr/lib/python3.11/site-packages']"
      ]
     },
     "execution_count": 2,
     "metadata": {},
     "output_type": "execute_result"
    }
   ],
   "source": [
    "sys.path"
   ]
  },
  {
   "cell_type": "code",
   "execution_count": 3,
   "id": "a4e3846b-96e4-4380-8d4a-c789cfb038f0",
   "metadata": {
    "autoscroll": false,
    "ein.hycell": false,
    "ein.tags": "worksheet-0",
    "slideshow": {
     "slide_type": "-"
    }
   },
   "outputs": [
    {
     "data": {
      "text/plain": [
       "'utf-8'"
      ]
     },
     "execution_count": 3,
     "metadata": {},
     "output_type": "execute_result"
    }
   ],
   "source": [
    "sys.getfilesystemencoding()"
   ]
  },
  {
   "cell_type": "code",
   "execution_count": 4,
   "id": "753c70b2-8377-4d17-9fa3-5ab264b75b1f",
   "metadata": {
    "autoscroll": false,
    "ein.hycell": false,
    "ein.tags": "worksheet-0",
    "slideshow": {
     "slide_type": "-"
    }
   },
   "outputs": [
    {
     "data": {
      "text/plain": [
       "28"
      ]
     },
     "execution_count": 4,
     "metadata": {},
     "output_type": "execute_result"
    }
   ],
   "source": [
    "sys.getsizeof(1)"
   ]
  },
  {
   "cell_type": "code",
   "execution_count": 5,
   "id": "0295df1c-6083-46e4-ab68-830bcddf2043",
   "metadata": {
    "autoscroll": false,
    "ein.hycell": false,
    "ein.tags": "worksheet-0",
    "slideshow": {
     "slide_type": "-"
    }
   },
   "outputs": [
    {
     "name": "stdout",
     "output_type": "stream",
     "text": [
      "Help on built-in function getsizeof in module sys:\n",
      "\n",
      "getsizeof(...)\n",
      "    getsizeof(object [, default]) -> int\n",
      "    \n",
      "    Return the size of object in bytes.\n",
      "\n"
     ]
    }
   ],
   "source": [
    "help(sys.getsizeof)"
   ]
  },
  {
   "cell_type": "markdown",
   "id": "25d89a62-a457-49c0-9bd8-db9f6a99cc32",
   "metadata": {
    "ein.tags": "worksheet-0",
    "slideshow": {
     "slide_type": "-"
    }
   },
   "source": [
    "Vemos que para utilizar las variables (path) o funciones (getsizeof) debemos referirlo anteponiendo el módulo en el cuál está definido (sys) y separado por un punto.\n",
    "\n",
    "Cuando hacemos un programa, con definición de variables y funciones. Podemos utilizarlo como un módulo, de la misma manera que los que ya vienen definidos en la biblioteca standard o en los paquetes que instalamos."
   ]
  },
  {
   "cell_type": "markdown",
   "id": "0594a456-1e5e-4149-b485-909d76402a89",
   "metadata": {
    "ein.tags": "worksheet-0",
    "slideshow": {
     "slide_type": "-"
    }
   },
   "source": [
    "### Módulo `os`\n",
    "\n",
    "El módulo `os` tiene utilidades para operar sobre nombres de archivos y directorios de manera segura y portable, de manera que pueda utilizarse en distintos sistemas operativos. Vamos a ver ejemplos de uso de algunas facilidades que brinda:"
   ]
  },
  {
   "cell_type": "code",
   "execution_count": 6,
   "id": "a12bfa0a-00b1-43b1-a83c-7d373ca0c941",
   "metadata": {
    "autoscroll": false,
    "ein.hycell": false,
    "ein.tags": "worksheet-0",
    "slideshow": {
     "slide_type": "-"
    }
   },
   "outputs": [
    {
     "name": "stdout",
     "output_type": "stream",
     "text": [
      ".\n",
      "..\n",
      "/home/fiol/Clases/IntPython/clases-python/clases\n"
     ]
    }
   ],
   "source": [
    "import os\n",
    "\n",
    "print(os.curdir)\n",
    "print(os.pardir)\n",
    "print (os.getcwd())"
   ]
  },
  {
   "cell_type": "code",
   "execution_count": 7,
   "id": "c22e89a0-b8b5-41c2-b1d7-3fc5ed37b3fa",
   "metadata": {
    "autoscroll": false,
    "ein.hycell": false,
    "ein.tags": "worksheet-0",
    "slideshow": {
     "slide_type": "-"
    }
   },
   "outputs": [
    {
     "name": "stdout",
     "output_type": "stream",
     "text": [
      "/home/fiol/Clases/IntPython/clases-python/clases\n",
      "/home/fiol/Clases/IntPython/clases-python\n"
     ]
    }
   ],
   "source": [
    "cur = os.getcwd()\n",
    "par = os.path.abspath(\"..\")\n",
    "print(cur)\n",
    "print(par)\n"
   ]
  },
  {
   "cell_type": "code",
   "execution_count": 8,
   "id": "5c11c526-d67c-41af-97ab-fe0e8bf1a442",
   "metadata": {
    "autoscroll": false,
    "ein.hycell": false,
    "ein.tags": "worksheet-0",
    "slideshow": {
     "slide_type": "-"
    }
   },
   "outputs": [
    {
     "name": "stdout",
     "output_type": "stream",
     "text": [
      "/home/fiol/Clases/IntPython/clases-python/clases\n",
      "/home/fiol/Clases/IntPython/clases-python/clases\n"
     ]
    }
   ],
   "source": [
    "print(os.path.abspath(os.curdir))\n",
    "print(os.getcwd())"
   ]
  },
  {
   "cell_type": "code",
   "execution_count": 9,
   "id": "94758552-ee6a-4da8-b50e-67180d9f64f8",
   "metadata": {
    "autoscroll": false,
    "ein.hycell": false,
    "ein.tags": "worksheet-0",
    "slideshow": {
     "slide_type": "-"
    }
   },
   "outputs": [
    {
     "name": "stdout",
     "output_type": "stream",
     "text": [
      "clases\n",
      "('', '/home/fiol/Clases/IntPython/clases-python/clases')\n"
     ]
    }
   ],
   "source": [
    "print(os.path.basename(cur))\n",
    "print(os.path.splitdrive(cur))"
   ]
  },
  {
   "cell_type": "code",
   "execution_count": 10,
   "id": "48c93294-5a25-410b-a697-9467d61a737b",
   "metadata": {
    "autoscroll": false,
    "ein.hycell": false,
    "ein.tags": "worksheet-0",
    "slideshow": {
     "slide_type": "-"
    }
   },
   "outputs": [
    {
     "name": "stdout",
     "output_type": "stream",
     "text": [
      "/home/fiol/Clases/IntPython/clases-python\n",
      "/home/fiol/Clases/IntPython/clases-python/este/otro.dat\n",
      "('/home/fiol/Clases/IntPython/clases-python/este', 'otro.dat')\n",
      "('/home/fiol/Clases/IntPython/clases-python/este/otro', '.dat')\n",
      "False\n",
      "True\n"
     ]
    }
   ],
   "source": [
    "print(os.path.commonprefix((cur, par)))\n",
    "archivo = os.path.join(par,'este' , 'otro.dat')\n",
    "print (archivo)\n",
    "print (os.path.split(archivo))\n",
    "print (os.path.splitext(archivo))\n",
    "print (os.path.exists(archivo))\n",
    "print (os.path.exists(cur))\n"
   ]
  },
  {
   "cell_type": "markdown",
   "id": "e472ccda-513f-4302-940a-733d0e32c934",
   "metadata": {
    "ein.tags": "worksheet-0",
    "slideshow": {
     "slide_type": "-"
    }
   },
   "source": [
    "Como es aparente de estos ejemplos, se puede acceder a todos los objetos (funciones, variables) de un módulo utilizando simplemente la línea `import <modulo>` pero puede ser tedioso escribir todo con prefijos (como `os.path.abspath`) por lo que existen dos alternativas que pueden ser más convenientes. La primera corresponde a importar todas las definiciones de un módulo en forma implícita:"
   ]
  },
  {
   "cell_type": "code",
   "execution_count": 11,
   "id": "3772093a-98b7-47cc-8bc7-e324cc4fbcd9",
   "metadata": {
    "autoscroll": false,
    "ein.hycell": false,
    "ein.tags": "worksheet-0",
    "slideshow": {
     "slide_type": "-"
    }
   },
   "outputs": [],
   "source": [
    "from os import *"
   ]
  },
  {
   "cell_type": "markdown",
   "id": "06111b7c-08dc-4ded-88d3-d6e60f3694e3",
   "metadata": {
    "ein.tags": "worksheet-0",
    "slideshow": {
     "slide_type": "-"
    }
   },
   "source": [
    "Después de esta declaración usamos los objetos de la misma manera que antes pero obviando la parte de `os.`"
   ]
  },
  {
   "cell_type": "code",
   "execution_count": 12,
   "id": "d13f1693-c044-4735-9b6e-4733df447668",
   "metadata": {
    "autoscroll": false,
    "ein.hycell": false,
    "ein.tags": "worksheet-0",
    "slideshow": {
     "slide_type": "-"
    }
   },
   "outputs": [
    {
     "data": {
      "text/plain": [
       "'/home/fiol/Clases/IntPython/clases-python/clases'"
      ]
     },
     "execution_count": 12,
     "metadata": {},
     "output_type": "execute_result"
    }
   ],
   "source": [
    "path.abspath(curdir)"
   ]
  },
  {
   "cell_type": "markdown",
   "id": "3ba98932-f67e-40a2-965f-21ed54165d59",
   "metadata": {
    "ein.tags": "worksheet-0",
    "slideshow": {
     "slide_type": "-"
    }
   },
   "source": [
    "Esto es conveniente en algunos casos pero no suele ser una buena idea en programas largos ya que distintos módulos pueden definir el mismo nombre, y se pierde información sobre su origen. Una alternativa que es conveniente y permite mantener mejor control es importar explícitamente lo que vamos a usar:"
   ]
  },
  {
   "cell_type": "code",
   "execution_count": 13,
   "id": "9e8b7bd2-4d76-4b6e-9878-2046a7e81718",
   "metadata": {
    "autoscroll": false,
    "ein.hycell": false,
    "ein.tags": "worksheet-0",
    "slideshow": {
     "slide_type": "-"
    }
   },
   "outputs": [
    {
     "name": "stdout",
     "output_type": "stream",
     "text": [
      "/home/fiol/Clases/IntPython/clases-python\n",
      "/home/fiol/Clases/IntPython/clases-python/clases\n",
      "/home/fiol/Clases/IntPython/clases-python/clases\n"
     ]
    }
   ],
   "source": [
    "from os import curdir, pardir, getcwd\n",
    "from os.path import abspath\n",
    "print(abspath(pardir))\n",
    "print(abspath(curdir))\n",
    "print(abspath(getcwd()))\n"
   ]
  },
  {
   "cell_type": "markdown",
   "id": "25463f3d-7056-41e4-b768-cbbdabeb6411",
   "metadata": {
    "ein.tags": "worksheet-0",
    "slideshow": {
     "slide_type": "-"
    }
   },
   "source": [
    "Además podemos darle un nombre diferente al importar módulos u objetos"
   ]
  },
  {
   "cell_type": "code",
   "execution_count": 14,
   "id": "b9bd5038-1d8a-4621-b942-c81026c02814",
   "metadata": {
    "autoscroll": false,
    "ein.hycell": false,
    "ein.tags": "worksheet-0",
    "slideshow": {
     "slide_type": "-"
    }
   },
   "outputs": [],
   "source": [
    "import os.path as path\n",
    "from os import getenv as ge\n"
   ]
  },
  {
   "cell_type": "code",
   "execution_count": 15,
   "id": "c777f2ee-02c1-444b-9e6c-71b61a04df20",
   "metadata": {
    "autoscroll": false,
    "ein.hycell": false,
    "ein.tags": "worksheet-0",
    "slideshow": {
     "slide_type": "-"
    }
   },
   "outputs": [
    {
     "name": "stdout",
     "output_type": "stream",
     "text": [
      "Help on function getenv in module os:\n",
      "\n",
      "getenv(key, default=None)\n",
      "    Get an environment variable, return None if it doesn't exist.\n",
      "    The optional second argument can specify an alternate default.\n",
      "    key, default and the result are str.\n",
      "\n"
     ]
    }
   ],
   "source": [
    "help(ge)"
   ]
  },
  {
   "cell_type": "code",
   "execution_count": 16,
   "id": "88eddd6b-6b79-445c-8268-9e7f276b7294",
   "metadata": {
    "autoscroll": false,
    "ein.hycell": false,
    "ein.tags": "worksheet-0",
    "slideshow": {
     "slide_type": "-"
    }
   },
   "outputs": [
    {
     "data": {
      "text/plain": [
       "'/home/fiol'"
      ]
     },
     "execution_count": 16,
     "metadata": {},
     "output_type": "execute_result"
    }
   ],
   "source": [
    "ge('HOME')"
   ]
  },
  {
   "cell_type": "code",
   "execution_count": 17,
   "id": "f4f2557f-963e-41c1-8544-a5d44e8bba1a",
   "metadata": {
    "autoscroll": false,
    "ein.hycell": false,
    "ein.tags": "worksheet-0",
    "slideshow": {
     "slide_type": "-"
    }
   },
   "outputs": [
    {
     "data": {
      "text/plain": [
       "'/home/fiol/Clases/IntPython/clases-python/clases'"
      ]
     },
     "execution_count": 17,
     "metadata": {},
     "output_type": "execute_result"
    }
   ],
   "source": [
    "path.realpath(curdir)"
   ]
  },
  {
   "cell_type": "markdown",
   "id": "4e154bb4-3a8b-432d-bce3-8ce88d8ad5f6",
   "metadata": {
    "ein.tags": "worksheet-0",
    "slideshow": {
     "slide_type": "-"
    }
   },
   "source": [
    "Acá hemos importado el módulo `os.path` (es un sub-módulo) como `path` y la función `getenv` del módulo `os` y la hemos renombrado `ge`."
   ]
  },
  {
   "cell_type": "code",
   "execution_count": 18,
   "id": "d5aa7bee-6c80-4c41-beca-9bcb0d75ed89",
   "metadata": {
    "autoscroll": false,
    "ein.hycell": false,
    "ein.tags": "worksheet-0",
    "slideshow": {
     "slide_type": "-"
    }
   },
   "outputs": [
    {
     "name": "stdout",
     "output_type": "stream",
     "text": [
      "Help on function walk in module os:\n",
      "\n",
      "walk(top, topdown=True, onerror=None, followlinks=False)\n",
      "    Directory tree generator.\n",
      "    \n",
      "    For each directory in the directory tree rooted at top (including top\n",
      "    itself, but excluding '.' and '..'), yields a 3-tuple\n",
      "    \n",
      "        dirpath, dirnames, filenames\n",
      "    \n",
      "    dirpath is a string, the path to the directory.  dirnames is a list of\n",
      "    the names of the subdirectories in dirpath (including symlinks to directories,\n",
      "    and excluding '.' and '..').\n",
      "    filenames is a list of the names of the non-directory files in dirpath.\n",
      "    Note that the names in the lists are just names, with no path components.\n",
      "    To get a full path (which begins with top) to a file or directory in\n",
      "    dirpath, do os.path.join(dirpath, name).\n",
      "    \n",
      "    If optional arg 'topdown' is true or not specified, the triple for a\n",
      "    directory is generated before the triples for any of its subdirectories\n",
      "    (directories are generated top down).  If topdown is false, the triple\n",
      "    for a directory is generated after the triples for all of its\n",
      "    subdirectories (directories are generated bottom up).\n",
      "    \n",
      "    When topdown is true, the caller can modify the dirnames list in-place\n",
      "    (e.g., via del or slice assignment), and walk will only recurse into the\n",
      "    subdirectories whose names remain in dirnames; this can be used to prune the\n",
      "    search, or to impose a specific order of visiting.  Modifying dirnames when\n",
      "    topdown is false has no effect on the behavior of os.walk(), since the\n",
      "    directories in dirnames have already been generated by the time dirnames\n",
      "    itself is generated. No matter the value of topdown, the list of\n",
      "    subdirectories is retrieved before the tuples for the directory and its\n",
      "    subdirectories are generated.\n",
      "    \n",
      "    By default errors from the os.scandir() call are ignored.  If\n",
      "    optional arg 'onerror' is specified, it should be a function; it\n",
      "    will be called with one argument, an OSError instance.  It can\n",
      "    report the error to continue with the walk, or raise the exception\n",
      "    to abort the walk.  Note that the filename is available as the\n",
      "    filename attribute of the exception object.\n",
      "    \n",
      "    By default, os.walk does not follow symbolic links to subdirectories on\n",
      "    systems that support them.  In order to get this functionality, set the\n",
      "    optional argument 'followlinks' to true.\n",
      "    \n",
      "    Caution:  if you pass a relative pathname for top, don't change the\n",
      "    current working directory between resumptions of walk.  walk never\n",
      "    changes the current directory, and assumes that the client doesn't\n",
      "    either.\n",
      "    \n",
      "    Example:\n",
      "    \n",
      "    import os\n",
      "    from os.path import join, getsize\n",
      "    for root, dirs, files in os.walk('python/Lib/email'):\n",
      "        print(root, \"consumes \")\n",
      "        print(sum(getsize(join(root, name)) for name in files), end=\" \")\n",
      "        print(\"bytes in\", len(files), \"non-directory files\")\n",
      "        if 'CVS' in dirs:\n",
      "            dirs.remove('CVS')  # don't visit CVS directories\n",
      "\n"
     ]
    }
   ],
   "source": [
    "help(os.walk)"
   ]
  },
  {
   "cell_type": "code",
   "execution_count": 19,
   "id": "1665958d-39c1-427f-9f94-e29ac5e6b228",
   "metadata": {
    "autoscroll": false,
    "ein.hycell": false,
    "ein.tags": "worksheet-0",
    "slideshow": {
     "slide_type": "-"
    }
   },
   "outputs": [
    {
     "name": "stdout",
     "output_type": "stream",
     "text": [
      "./ consume 19249.0361328125 kbytes en  121 non-directory files\n",
      "./explicacion_ejercicio_agujas_files consume 8.73828125 kbytes en  2 non-directory files\n",
      "./scripts consume 3240.986328125 kbytes en  56 non-directory files\n",
      "./scripts/animaciones consume 3015.03515625 kbytes en  15 non-directory files\n",
      "./scripts/interfacing consume 1062.0107421875 kbytes en  22 non-directory files\n",
      "./scripts/interfacing/__pycache__ consume 1.69140625 kbytes en  2 non-directory files\n",
      "./scripts/__pycache__ consume 0.556640625 kbytes en  1 non-directory files\n",
      "./version-control consume 55.796875 kbytes en  10 non-directory files\n",
      "./version-control/_images consume 200.9833984375 kbytes en  4 non-directory files\n",
      "./version-control/_sources consume 15.384765625 kbytes en  4 non-directory files\n",
      "./version-control/_static consume 827.212890625 kbytes en  25 non-directory files\n",
      "./version-control/_static/css consume 116.8828125 kbytes en  2 non-directory files\n",
      "./version-control/_static/fonts consume 4132.6220703125 kbytes en  13 non-directory files\n",
      "./version-control/_static/fonts/Lato consume 5672.4013671875 kbytes en  16 non-directory files\n",
      "./version-control/_static/fonts/RobotoSlab consume 786.3271484375 kbytes en  8 non-directory files\n",
      "./version-control/_static/js consume 19.341796875 kbytes en  2 non-directory files\n",
      "./__pycache__ consume 1.181640625 kbytes en  1 non-directory files\n"
     ]
    }
   ],
   "source": [
    "import os\n",
    "from os.path import join, getsize\n",
    "for root, dirs, files in os.walk('./'):\n",
    "    print(root, \"consume \", end=\"\")\n",
    "    print(sum([getsize(join(root, name)) for name in files])/1024, end=\"\")\n",
    "    print(\" kbytes en \", len(files), \"non-directory files\")\n",
    "    if '.ipynb_checkpoints' in dirs:\n",
    "        dirs.remove('.ipynb_checkpoints')  # don't visit CVS directories"
   ]
  },
  {
   "cell_type": "markdown",
   "id": "a9a895b6-bc47-42c7-b923-eb5f5e7fde9d",
   "metadata": {
    "ein.tags": "worksheet-0",
    "slideshow": {
     "slide_type": "-"
    }
   },
   "source": [
    "### Módulo `glob`\n",
    "\n",
    "El módulo `glob` encuentra nombres de archivos (o directorios) utilizando patrones similares a los de la consola. La función más utilizada es `glob.glob()`\n",
    "Veamos algunos ejemplos de uso:"
   ]
  },
  {
   "cell_type": "code",
   "execution_count": 20,
   "id": "92bcc390-2459-4cb0-83d5-655cb662cd2c",
   "metadata": {
    "autoscroll": false,
    "ein.hycell": false,
    "ein.tags": "worksheet-0",
    "slideshow": {
     "slide_type": "-"
    }
   },
   "outputs": [],
   "source": [
    "import glob"
   ]
  },
  {
   "cell_type": "code",
   "execution_count": 21,
   "id": "516b68a3-1c20-49fe-afbb-64395ea5ff8f",
   "metadata": {
    "autoscroll": false,
    "ein.hycell": false,
    "ein.tags": "worksheet-0",
    "slideshow": {
     "slide_type": "-"
    }
   },
   "outputs": [],
   "source": [
    "nb_clase4= glob.glob('04*.ipynb')"
   ]
  },
  {
   "cell_type": "code",
   "execution_count": 22,
   "id": "472a9c4d-cf3d-48a4-95f6-aad8fec7b924",
   "metadata": {
    "autoscroll": false,
    "ein.hycell": false,
    "ein.tags": "worksheet-0",
    "slideshow": {
     "slide_type": "-"
    }
   },
   "outputs": [
    {
     "data": {
      "text/plain": [
       "['04_1_funciones.ipynb', '04_3_func_func.ipynb', '04_2_func_args.ipynb']"
      ]
     },
     "execution_count": 22,
     "metadata": {},
     "output_type": "execute_result"
    }
   ],
   "source": [
    "nb_clase4"
   ]
  },
  {
   "cell_type": "code",
   "execution_count": 23,
   "id": "2ef880b0-a535-4039-98c6-dc00ac0845b4",
   "metadata": {
    "autoscroll": false,
    "ein.hycell": false,
    "ein.tags": "worksheet-0",
    "slideshow": {
     "slide_type": "-"
    }
   },
   "outputs": [],
   "source": [
    "nb_clase4.sort()"
   ]
  },
  {
   "cell_type": "code",
   "execution_count": 24,
   "id": "36210f61-3492-4236-a4bb-1b7d90ba7c59",
   "metadata": {
    "autoscroll": false,
    "ein.hycell": false,
    "ein.tags": "worksheet-0",
    "slideshow": {
     "slide_type": "-"
    }
   },
   "outputs": [
    {
     "data": {
      "text/plain": [
       "['04_1_funciones.ipynb', '04_2_func_args.ipynb', '04_3_func_func.ipynb']"
      ]
     },
     "execution_count": 24,
     "metadata": {},
     "output_type": "execute_result"
    }
   ],
   "source": [
    "nb_clase4"
   ]
  },
  {
   "cell_type": "code",
   "execution_count": 25,
   "id": "c59dcff9-f039-4af1-a23d-0f5203650498",
   "metadata": {
    "autoscroll": false,
    "ein.hycell": false,
    "ein.tags": "worksheet-0",
    "slideshow": {
     "slide_type": "-"
    }
   },
   "outputs": [],
   "source": [
    "nb_clases1a4 = glob.glob('0[0-4]*.ipynb')"
   ]
  },
  {
   "cell_type": "code",
   "execution_count": 26,
   "id": "3484afdd-6af6-4efe-aeeb-4f33fb4fd323",
   "metadata": {
    "autoscroll": false,
    "ein.hycell": false,
    "ein.tags": "worksheet-0",
    "slideshow": {
     "slide_type": "-"
    }
   },
   "outputs": [
    {
     "data": {
      "text/plain": [
       "['00_introd_y_excursion.ipynb',\n",
       " '01_1_instala_y_uso.ipynb',\n",
       " '01_2_introd_python.ipynb',\n",
       " '02_1_tipos_y_control.ipynb',\n",
       " '02_2_listas.ipynb',\n",
       " '03_1_tipos_control.ipynb',\n",
       " '03_2_iteraciones_tipos.ipynb',\n",
       " '04_1_funciones.ipynb',\n",
       " '04_3_func_func.ipynb',\n",
       " '04_2_func_args.ipynb']"
      ]
     },
     "execution_count": 26,
     "metadata": {},
     "output_type": "execute_result"
    }
   ],
   "source": [
    "nb_clases1a4"
   ]
  },
  {
   "cell_type": "code",
   "execution_count": 27,
   "id": "c85fc5d3-e44b-49e1-b814-c7ebf849ead2",
   "metadata": {
    "autoscroll": false,
    "ein.hycell": false,
    "ein.tags": "worksheet-0",
    "slideshow": {
     "slide_type": "-"
    }
   },
   "outputs": [
    {
     "name": "stdout",
     "output_type": "stream",
     "text": [
      "Clase en archivo 00_introd_y_excursion.ipynb\n",
      "Clase en archivo 01_1_instala_y_uso.ipynb\n",
      "Clase en archivo 01_2_introd_python.ipynb\n",
      "Clase en archivo 02_1_tipos_y_control.ipynb\n",
      "Clase en archivo 02_2_listas.ipynb\n",
      "Clase en archivo 03_1_tipos_control.ipynb\n",
      "Clase en archivo 03_2_iteraciones_tipos.ipynb\n",
      "Clase en archivo 04_1_funciones.ipynb\n",
      "Clase en archivo 04_2_func_args.ipynb\n",
      "Clase en archivo 04_3_func_func.ipynb\n"
     ]
    }
   ],
   "source": [
    "for f in sorted(nb_clases1a4):\n",
    "  print('Clase en archivo {}'.format(f))"
   ]
  },
  {
   "cell_type": "markdown",
   "id": "e9dec1f6-5afe-44bd-bd6a-82f39798ae06",
   "metadata": {
    "ein.tags": "worksheet-0",
    "slideshow": {
     "slide_type": "-"
    }
   },
   "source": [
    "### Módulo `re`\n",
    "Este módulo provee la infraestructura para trabajar con *regular expressions*, es decir para encontrar expresiones que verifican \"cierta forma general\". Veamos algunos conceptos básicos y casos más comunes de uso."
   ]
  },
  {
   "cell_type": "markdown",
   "id": "820a20e8-ddc1-434b-b2aa-6c30a3b79c15",
   "metadata": {
    "ein.tags": "worksheet-0",
    "slideshow": {
     "slide_type": "-"
    }
   },
   "source": [
    "#### Búsqueda de un patrón en un texto\n",
    "\n",
    "Empecemos con un ejemplo bastante común. Para encontrar un patrón en un texto podemos utilizar el método `search()`\n"
   ]
  },
  {
   "cell_type": "code",
   "execution_count": 28,
   "id": "bdc67a6f-bdb4-4bfe-bdb5-c654e8a369c7",
   "metadata": {
    "autoscroll": false,
    "ein.hycell": false,
    "ein.tags": "worksheet-0",
    "slideshow": {
     "slide_type": "-"
    }
   },
   "outputs": [],
   "source": [
    "import re"
   ]
  },
  {
   "cell_type": "code",
   "execution_count": 29,
   "id": "63555c1f-647e-445d-9fcf-00fcef8a2372",
   "metadata": {
    "autoscroll": false,
    "ein.hycell": false,
    "ein.tags": "worksheet-0",
    "slideshow": {
     "slide_type": "-"
    }
   },
   "outputs": [
    {
     "name": "stdout",
     "output_type": "stream",
     "text": [
      "Encontré \"un\"\n",
      "en:\n",
      "  \"Otra vez vamos a usar \"Hola Mundo\"\"\n",
      "En las posiciones 29 a 31\n"
     ]
    }
   ],
   "source": [
    "busca = 'un'\n",
    "texto = 'Otra vez vamos a usar \"Hola Mundo\"'\n",
    "\n",
    "match = re.search(busca, texto)\n",
    "\n",
    "print('Encontré \"{}\"\\nen:\\n  \"{}\"'.format(match.re.pattern, match.string))\n",
    "print('En las posiciones {} a {}'.format(match.start(), match.end()))"
   ]
  },
  {
   "cell_type": "markdown",
   "id": "aac66011-242e-48ea-8b23-56ffad793f49",
   "metadata": {
    "ein.tags": "worksheet-0",
    "slideshow": {
     "slide_type": "-"
    }
   },
   "source": [
    "Acá buscamos una expresión (el substring \"un\"). Esto es útil pero no muy diferente a utilizar los métodos de strings. Veamos como se definen los patrones."
   ]
  },
  {
   "cell_type": "markdown",
   "id": "da16f317-c218-408e-8a46-2cda7d4bc1eb",
   "metadata": {
    "ein.tags": "worksheet-0",
    "slideshow": {
     "slide_type": "-"
    }
   },
   "source": [
    "#### Definición de expresiones\n",
    "\n",
    "Vamos a buscar un patrón en un texto. Veamos cómo se definen los patrones a buscar.\n",
    "\n",
    "- La mayoría de los caracteres se identifican consigo mismo (si quiero encontrar \"gato\", uso como patrón \"gato\")\n",
    "\n",
    "- Hay unos pocos caracteres especiales (metacaracteres) que tienen un significado especial, estos son:\n",
    "  ```\n",
    "  . ^ $ * + ? { } [ ] \\ | ( )\n",
    "  ```\n",
    "\n",
    "- Si queremos encontrar uno de los metacaracteres, tenemos que precederlos de `\\`. Por ejemplo si queremos encontrar un corchete usamos `\\[`\n",
    "\n",
    "- Los corchetes \"[\" y \"]\" se usan para definir una clase de caracteres, que es un conjunto de caracteres que uno quiere encontrar.\n",
    "\n",
    "  - Los caracteres a encontrar se pueden dar individualmente. Por ejemplo `[gato]` encontrará cualquiera de `g`, `a`, `t`, `o`.\n",
    "  - Un rango de caracteres se puede dar dando dos caracteres separados por un guión. Por ejemplo `[a-z]` dará cualquier letra entre \"a\" y \"z\". Similarmente `[0-5][0-9]` dará cualquier número entre \"00\" y \"59\".\n",
    "  - Los metacaracteres pierden su significado especial dentro de los corchetes. Por ejemplo `[.*)]` encontrará cualquiera de \".\", \"*\", \")\".\n",
    "\n",
    "- El punto `.` indica *cualquier caracter*\n",
    "\n",
    "- Los símbolos `*`, `+`, `?` indican repetición:\n",
    "\n",
    "  - `?`: Indica 0 o 1 aparición de lo anterior\n",
    "  - `*`: Indica 0 o más apariciones de lo anterior\n",
    "  - `+`: Indica 1 o más apariciones de lo anterior\n",
    "\n",
    "- Para encontrar una cantidad determinada de caracteres, se puede agregar dicha cantidad entre llaves `{}`. Por ejemplo, `[a-z]{3}` resultará en cualquier string de exactamente tres letras minúsculas.  "
   ]
  },
  {
   "cell_type": "code",
   "execution_count": 30,
   "id": "2a7a4a17-6ceb-499b-ac88-d1a299bf2499",
   "metadata": {
    "autoscroll": false,
    "ein.hycell": false,
    "ein.tags": "worksheet-0",
    "slideshow": {
     "slide_type": "-"
    }
   },
   "outputs": [
    {
     "name": "stdout",
     "output_type": "stream",
     "text": [
      "['nombre@server.com', ' apellido@server1.com', ' nombre1995@server.com', ' UnNombreyApellido', ' nombre.apellido82@servidor.com.ar', ' Nombre.Apellido82@servidor.com.ar'] \n",
      "\n",
      "Para la línea: nombre@server.com\n",
      "   Encontré la dirección de correo: nombre@server.com\n",
      "Para la línea:  apellido@server1.com\n",
      "   No encontré dirección de correo!\n",
      "Para la línea:  nombre1995@server.com\n",
      "   No encontré dirección de correo!\n",
      "Para la línea:  UnNombreyApellido\n",
      "   No encontré dirección de correo!\n",
      "Para la línea:  nombre.apellido82@servidor.com.ar\n",
      "   No encontré dirección de correo!\n",
      "Para la línea:  Nombre.Apellido82@servidor.com.ar\n",
      "   No encontré dirección de correo!\n"
     ]
    }
   ],
   "source": [
    "busca = \"[a-z]+@[a-z]+\\.[a-z]+\" # Un patrón para buscar direcciones de email\n",
    "texto = \"nombre@server.com, apellido@server1.com, nombre1995@server.com, UnNombreyApellido, nombre.apellido82@servidor.com.ar, Nombre.Apellido82@servidor.com.ar\".split(',')\n",
    "print(texto,'\\n')\n",
    "\n",
    "for direc in texto:\n",
    "  m= re.search(busca, direc)\n",
    "  print('Para la línea:', direc)\n",
    "  if m is None:\n",
    "    print('   No encontré dirección de correo!')\n",
    "  else:\n",
    "    print('   Encontré la dirección de correo:', m.string)\n",
    "\n"
   ]
  },
  {
   "cell_type": "markdown",
   "id": "02594c64-c30e-41dd-83bf-7d67f29626b1",
   "metadata": {
    "ein.tags": "worksheet-0",
    "slideshow": {
     "slide_type": "-"
    }
   },
   "source": [
    "- Acá la expresión `[a-z]` significa todos los caracteres en el rango \"a\" hasta \"z\".\n",
    "- `[a-z]+` significa cualquier secuencia de una letra o más.\n",
    "\n",
    "- Los corchetes también se pueden usar en la forma `[abc]` y entonces encuentra *cualquiera* de `a`, `b`, o `c`.\n",
    "\n",
    "Vemos que no encontró todas las direcciones posibles. Porque el patrón no está bien diseñado. Un poco mejor sería:"
   ]
  },
  {
   "cell_type": "code",
   "execution_count": 31,
   "id": "81e8b318-24bf-405e-b412-f4c28d8bfdd4",
   "metadata": {
    "autoscroll": false,
    "ein.hycell": false,
    "ein.tags": "worksheet-0",
    "slideshow": {
     "slide_type": "-"
    }
   },
   "outputs": [
    {
     "name": "stdout",
     "output_type": "stream",
     "text": [
      "['nombre@server.com', ' apellido@server1.com', ' nombre1995@server.com', ' UnNombreyApellido', ' nombre.apellido82@servidor.com.ar', ' Nombre.Apellido82@servidor.com.ar'] \n",
      "\n",
      "Para la línea: nombre@server.com\n",
      "   Encontré la dirección de correo: nombre@server.com\n",
      "Para la línea:  apellido@server1.com\n",
      "   Encontré la dirección de correo: apellido@server\n",
      "Para la línea:  nombre1995@server.com\n",
      "   Encontré la dirección de correo: nombre1995@server.com\n",
      "Para la línea:  UnNombreyApellido\n",
      "   No encontré dirección de correo:\n",
      "Para la línea:  nombre.apellido82@servidor.com.ar\n",
      "   Encontré la dirección de correo: nombre.apellido82@servidor.com.ar\n",
      "Para la línea:  Nombre.Apellido82@servidor.com.ar\n",
      "   Encontré la dirección de correo: Nombre.Apellido82@servidor.com.ar\n"
     ]
    }
   ],
   "source": [
    "busca = \"[a-zA-Z0-9.]+@[a-z.]+\" # Un patrón para buscar direcciones de email\n",
    "\n",
    "print(texto,'\\n')\n",
    "\n",
    "for direc in texto:\n",
    "  m= re.search(busca, direc)\n",
    "  print('Para la línea:', direc)\n",
    "  if m is None:\n",
    "    print('   No encontré dirección de correo:')\n",
    "  else:\n",
    "    print('   Encontré la dirección de correo:', m.group())\n",
    "\n"
   ]
  },
  {
   "cell_type": "markdown",
   "id": "b70215dc-8000-4cb4-bf69-9ce3f6df59fd",
   "metadata": {
    "ein.tags": "worksheet-0",
    "slideshow": {
     "slide_type": "-"
    }
   },
   "source": [
    "Los metacaracteres no se activan dentro de clases (adentro de corchetes). En el ejemplo anterior el punto `.` actúa como un punto y no como un metacaracter. En este caso, la primera parte: `[a-zA-Z0-9.]+` significa: \"Encontrar cualquier letra minúscula, mayúscula, número o punto, una o más veces cualquiera de ellos\""
   ]
  },
  {
   "cell_type": "markdown",
   "id": "b7f8b8ec-d945-4b59-8725-425cf34edcbb",
   "metadata": {
    "ein.tags": "worksheet-0",
    "slideshow": {
     "slide_type": "-"
    }
   },
   "source": [
    "#### Repetición de un patrón\n",
    "\n",
    "Si queremos encontrar strings que presentan la secuencia una o más veces podemos usar `findall()` que devuelve todas las ocurrencias del patrón que no se superponen. Por ejemplo:"
   ]
  },
  {
   "cell_type": "code",
   "execution_count": 32,
   "id": "33292306-0149-4e34-89dc-c77556d53609",
   "metadata": {
    "autoscroll": false,
    "ein.hycell": false,
    "ein.tags": "worksheet-0",
    "slideshow": {
     "slide_type": "-"
    }
   },
   "outputs": [
    {
     "name": "stdout",
     "output_type": "stream",
     "text": [
      "['ab', 'ab']\n",
      "<class 'str'>\n",
      "Encontré ab\n",
      "Encontré ab\n"
     ]
    }
   ],
   "source": [
    "texto = 'abbaaabbbbaaaaa'\n",
    "\n",
    "busca = 'ab'\n",
    "\n",
    "mm =  re.findall(busca, texto)\n",
    "print(mm)    \n",
    "print(type(mm[0]))\n",
    "for m in mm:\n",
    "    print('Encontré {}'.format(m))\n"
   ]
  },
  {
   "cell_type": "code",
   "execution_count": 33,
   "id": "1b617a46-096d-4ea6-a625-aa8535989033",
   "metadata": {
    "autoscroll": false,
    "ein.hycell": false,
    "ein.tags": "worksheet-0",
    "slideshow": {
     "slide_type": "-"
    }
   },
   "outputs": [
    {
     "name": "stdout",
     "output_type": "stream",
     "text": [
      "['ab']\n",
      "['abc', 'abccc', 'abc', 'ab', 'abc']\n"
     ]
    }
   ],
   "source": [
    "p = re.compile('abc*')\n",
    "m= p.findall('acholaboy')\n",
    "print(m)\n",
    "m= p.findall('acholabcoynd sabcccs slabc labdc abc')\n",
    "print(m)"
   ]
  },
  {
   "cell_type": "markdown",
   "id": "d18a36a2-590d-44bd-bf58-138fcf8e4ac8",
   "metadata": {
    "ein.tags": "worksheet-0",
    "slideshow": {
     "slide_type": "-"
    }
   },
   "source": [
    "Si va a utilizar expresiones regulares es recomendable que lea más información en la [biblioteca standard](https://docs.python.org/3.6/library/re.html), en [el HOWTO](https://docs.python.org/3.6/howto/regex.html), en [Python Module of the week](https://pymotw.com/3/re/index.html) o [acá](https://pynative.com/python/regex/).\n",
    "\n",
    "Para practicar RegEx, [ésta es una buena página](https://regexone.com/).\n",
    "\n",
    "Si efectivamente tiene que diseñar una expresión regular, [esta página puede ser útil](https://regex101.com/)."
   ]
  },
  {
   "cell_type": "markdown",
   "id": "832af227-381c-4a9d-8336-32c15ea42d2e",
   "metadata": {},
   "source": [
    "### Módulo `Argparse`\n",
    "Este módulo tiene lo necesario para hacer rápidamente un programa para utilizar por línea de comandos, aceptando todo tipo de argumentos y dando información sobre su uso.\n"
   ]
  },
  {
   "cell_type": "markdown",
   "id": "9ac0267d-6d22-4341-bd59-bf53f7bf16a8",
   "metadata": {},
   "source": [
    "```python\n",
    "import argparse\n",
    "VERSION = 1.0\n",
    "\n",
    "parser = argparse.ArgumentParser(\n",
    "      description='\"Mi programa que acepta argumentos por línea de comandos\"')\n",
    "\n",
    "parser.add_argument('-V', '--version', action='version',\n",
    "                      version='%(prog)s version {}'.format(VERSION))\n",
    "  \n",
    "parser.add_argument('-n', '--entero', action=store, dest='n', default=1)\n",
    "\n",
    "args = parser.parse_args()\n",
    "```"
   ]
  },
  {
   "cell_type": "markdown",
   "id": "ba40b625-228d-427d-8941-a7bdae15a071",
   "metadata": {},
   "source": [
    "Más información en la [biblioteca standard](https://docs.python.org/3.6/library/argparse.html) y en [Argparse en Python Module of the week ](https://pymotw.com/3/argparse/index.html)"
   ]
  },
  {
   "cell_type": "markdown",
   "id": "6e851dbf-49a5-4f89-a38d-6a54cc00b54f",
   "metadata": {},
   "source": [
    "### Módulo pathlib\n",
    "\n",
    "El módulo pathlib es \"relativamente nuevo\" y tiene funcionalidades para trabajar con rutas de archivos y directorios con una tratamiento de programación orientada a objetos. Este módulo define un objeto `Path` que contiene mucha de la funcionalidad que usualmente se obtenía sólo de los módulos `os` y `glob`. Veamos algunos ejemplos simples de su uso\n"
   ]
  },
  {
   "cell_type": "code",
   "execution_count": 34,
   "id": "1936ef46-8770-4270-af8f-92dee6aedd14",
   "metadata": {},
   "outputs": [],
   "source": [
    "from pathlib import Path\n"
   ]
  },
  {
   "cell_type": "code",
   "execution_count": 35,
   "id": "1a4cf8f7-f065-434b-9e32-873027d59a16",
   "metadata": {},
   "outputs": [
    {
     "name": "stdout",
     "output_type": "stream",
     "text": [
      ".\n"
     ]
    }
   ],
   "source": [
    "direct = Path('.')\n",
    "print(direct)"
   ]
  },
  {
   "cell_type": "markdown",
   "id": "ae826d66-2810-43e1-8d76-48b27c6fe801",
   "metadata": {},
   "source": [
    "El objeto tiene un iterador que nos permite recorrer todo el directorio. Por ejemplo si queremos listar todos los subdirectorios:"
   ]
  },
  {
   "cell_type": "code",
   "execution_count": 36,
   "id": "64a1a605-92de-4230-9bc8-d2ccc91d2afc",
   "metadata": {},
   "outputs": [
    {
     "data": {
      "text/plain": [
       "[PosixPath('.ipynb_checkpoints'),\n",
       " PosixPath('explicacion_ejercicio_agujas_files'),\n",
       " PosixPath('scripts'),\n",
       " PosixPath('figuras'),\n",
       " PosixPath('version-control'),\n",
       " PosixPath('__pycache__')]"
      ]
     },
     "execution_count": 36,
     "metadata": {},
     "output_type": "execute_result"
    }
   ],
   "source": [
    "[x for x in direct.iterdir() if x.is_dir()]"
   ]
  },
  {
   "cell_type": "markdown",
   "id": "e4c2c5f1-a9a3-4ff0-8637-278f7a0d797d",
   "metadata": {},
   "source": [
    "Trabajo con rutas de archivos"
   ]
  },
  {
   "cell_type": "code",
   "execution_count": 37,
   "id": "6b7dfc64-230a-48cc-bf59-d160c62008bf",
   "metadata": {},
   "outputs": [
    {
     "name": "stdout",
     "output_type": "stream",
     "text": [
      "/home/fiol/Clases/IntPython/clases-python/clases\n"
     ]
    }
   ],
   "source": [
    "print(direct.absolute())"
   ]
  },
  {
   "cell_type": "code",
   "execution_count": 38,
   "id": "1d2d2a76-76f2-460b-b20f-3e215c4be760",
   "metadata": {},
   "outputs": [
    {
     "name": "stdout",
     "output_type": "stream",
     "text": [
      "..\n",
      "/home/fiol/Clases/IntPython/clases-python\n"
     ]
    }
   ],
   "source": [
    "p = direct / \"..\"\n",
    "print(p)\n",
    "print(p.resolve())"
   ]
  },
  {
   "cell_type": "markdown",
   "id": "27002c61-bb72-478b-adf1-8300f5bb0861",
   "metadata": {},
   "source": [
    "Podemos reemplazar el módulo `glob` utilizando este objeto:"
   ]
  },
  {
   "cell_type": "code",
   "execution_count": 39,
   "id": "c5ee5eb2-587e-4795-8387-063201084338",
   "metadata": {},
   "outputs": [
    {
     "name": "stdout",
     "output_type": "stream",
     "text": [
      "01_1_instala_y_uso.ipynb\n",
      "01_2_introd_python.ipynb\n",
      "02_1_tipos_y_control.ipynb\n",
      "02_2_listas.ipynb\n",
      "03_1_tipos_control.ipynb\n",
      "03_2_iteraciones_tipos.ipynb\n",
      "04_1_funciones.ipynb\n",
      "04_2_func_args.ipynb\n",
      "04_3_func_func.ipynb\n",
      "05_1_decoradores.ipynb\n",
      "05_2_inout.ipynb\n",
      "05_3_excepciones.ipynb\n",
      "06_1_objetos.ipynb\n",
      "06_2_objetos.ipynb\n",
      "07_ejemplo_oop.ipynb\n",
      "07_modulos_biblioteca.ipynb\n"
     ]
    }
   ],
   "source": [
    "for fi in sorted(direct.glob(\"0[1-7]*.ipynb\") ):\n",
    "    print(fi)"
   ]
  },
  {
   "cell_type": "code",
   "execution_count": 41,
   "id": "43ede2be-e577-4e2d-8e4f-47e5b6100422",
   "metadata": {},
   "outputs": [],
   "source": [
    "fi = direct / \"programa_detalle.rst\"\n",
    "if fi.exists():\n",
    "    s= fi.read_text()\n",
    "    print(s)"
   ]
  },
  {
   "cell_type": "markdown",
   "id": "4750e23d-6baa-4651-87a5-9b55f7d0dc5a",
   "metadata": {},
   "source": [
    "\n",
    "----\n",
    "\n",
    "## Ejercicios 07\n",
    "\n",
    "### Git\n",
    "1. Además de la clase, puede también que se hayan perdido algunos cuentos de Borges en el directorio. \n",
    "Sus objetivos son\n",
    "- Encontrar alguno de esos cuentos.\n",
    "- Leerlo, si no tuvo la chance alguna vez de hacerlo.\n",
    "- Reportar en el repositorio de GitHub que el nombre del cuento, el personaje principal, y cuál es su opinión sobre el mismo, a través de un _issue_. Para ello tendría que crearse una cuenta en GitHub, ir al buscar el repositorio `fcolavecchia/standard_library_python.git`, seleccionar **Issues** y luego crear un nuevo issue con el botón `New issue`. \n",
    "\n",
    "### RegEx\n",
    "\n",
    "2. Una manera de representar un sudoku es a través de un `string` de exactamente 81 caracteres. Si el sudoku ha sido resuelto, ese string contendrá sólo los números que resuelven el sudoku. Sin embargo, si el sudoku no está resuelto, se representan los casilleros vacíos por el caracter `.`. Por ejemplo:\n",
    "\n",
    "```python\n",
    "sudoku_facil = \"....71............1346.......3.17....27.8..4.5..24.........3.7..4..2...1.61.58.3.\"\n",
    "```\n",
    "\n",
    "sería una representación válida de un sudoku.\n",
    "\n",
    "Usando expresiones regulares, encuentre los sudokus perdidos en el directorio de archivos corruptos usado antes.\n",
    "\n",
    "### Más RegEx\n",
    "\n",
    "3. Si todavía tiene ganas de seguir practicando regex, un ejercicio interesante es encontrar los coeficientes y las potencias de un polinomio que viene descripto como un string:\n",
    "\n",
    "```python\n",
    "polinomio = \"5x^4 + 3x^2 - 2x + 7\"\n",
    "```\n",
    "\n",
    "Este no es un ejercicio fácil, y además, para extraer la información requerida, es necesario poder capturar [grupos de expresiones regulares](https://regexone.com/lesson/capturing_groups).\n",
    "\n",
    "    \n",
    "----\n",
    "\n",
    ".\n"
   ]
  }
 ],
 "metadata": {
  "kernelspec": {
   "display_name": "Python 3 (ipykernel)",
   "language": "python",
   "name": "python3"
  },
  "language_info": {
   "codemirror_mode": {
    "name": "ipython",
    "version": 3
   },
   "file_extension": ".py",
   "mimetype": "text/x-python",
   "name": "python",
   "nbconvert_exporter": "python",
   "pygments_lexer": "ipython3",
   "version": "3.11.1"
  },
  "name": "07_modulos_biblioteca.ipynb",
  "toc": {
   "base_numbering": 1,
   "nav_menu": {
    "height": "213.583px",
    "width": "252px"
   },
   "number_sections": false,
   "sideBar": true,
   "skip_h1_title": true,
   "title_cell": "Contenidos",
   "title_sidebar": "Contenidos",
   "toc_cell": false,
   "toc_position": {
    "height": "calc(100% - 180px)",
    "left": "10px",
    "top": "150px",
    "width": "227.667px"
   },
   "toc_section_display": true,
   "toc_window_display": true
  },
  "vscode": {
   "interpreter": {
    "hash": "3d597f4c481aa0f25dceb95d2a0067e73c0966dcbd003d741d821a7208527ecf"
   }
  }
 },
 "nbformat": 4,
 "nbformat_minor": 5
}
