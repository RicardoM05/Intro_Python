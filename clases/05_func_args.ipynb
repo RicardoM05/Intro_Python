{
 "cells": [
  {
   "cell_type": "markdown",
   "metadata": {
    "ein.tags": "worksheet-0",
    "slideshow": {
     "slide_type": "-"
    }
   },
   "source": [
    "# Funciones <a class=\"tocSkip\">"
   ]
  },
  {
   "cell_type": "markdown",
   "metadata": {
    "ein.tags": "worksheet-0",
    "slideshow": {
     "slide_type": "-"
    }
   },
   "source": [
    "## Empacar y desempacar secuencias o diccionarios\n",
    "\n",
    "Cuando en **Python** creamos una función que acepta un número arbitrario de argumentos estamos utilizando una habilidad del lenguaje que es el \"empaquetamiento\" y \"desempaquetamiento\" automático de variables.\n",
    "\n",
    "Al definir un número variable de argumentos de la forma:\n",
    "```python\n",
    "def f(*v):\n",
    "...\n",
    "```\n",
    "\n",
    "y luego utilizarla en alguna de las formas:\n",
    "\n",
    "```python\n",
    "f(1)\n",
    "f(1,'hola')\n",
    "f(a,2,3.5, 'hola')\n",
    "```\n",
    "\n",
    "**Python** automáticamente convierte los argumentos en una única tupla:\n",
    "```python\n",
    "f(1)                 --> v = (1,)\n",
    "f(1,'hola')          --> v = (1,'hola')\n",
    "f(a,2,3.5, 'hola')   --> v = (a,2,3.5,'hola')\n",
    "```\n",
    "\n",
    "Análogamente, cuando utilizamos funciones podemos desempacar múltiples valores en los argumentos de llamada a las funciones.\n",
    "\n",
    "Si definimos una función que recibe un número determinado de argumentos\n",
    "```python\n",
    "def g(a, b, c):\n",
    "...\n",
    "```\n",
    "y definimos una lista (o tupla)\n",
    "```python\n",
    "t1 = [a1, b1, c1]\n",
    "```\n",
    "podemos realizar la llamada a la función utilizando la notación \"asterisco\" o \"estrella\"\n",
    "```python\n",
    "g(*t1)             -->  g(a1, b1, c1)\n",
    "```\n",
    "\n",
    "Esta notación no se puede utilizar en cualquier contexto. Por ejemplo, es un error tratar de hacer\n",
    "\n",
    "```python\n",
    "t2 = *t1\n",
    "```\n",
    "\n",
    "pero en el contexto de funciones podemos \"desempacarlos\" para convertirlos en varios argumentos que acepta la función usando la expresión con asterisco. Veamos lo que esto quiere decir con la función `caida_libre()` definida anteriormente"
   ]
  },
  {
   "cell_type": "code",
   "execution_count": 48,
   "metadata": {
    "autoscroll": false,
    "ein.hycell": false,
    "ein.tags": "worksheet-0",
    "slideshow": {
     "slide_type": "-"
    }
   },
   "outputs": [],
   "source": [
    "def caida_libre(t, h0, v0 = 0., g=9.8):\n",
    "  \"\"\"Devuelve la velocidad y la posición de una partícula en\n",
    "  caída libre para condiciones iniciales dadas\n",
    "\n",
    "  Parameters\n",
    "  ----------\n",
    "  t : float\n",
    "      el tiempo al que queremos realizar el cálculo\n",
    "  h0: float \n",
    "      la altura inicial\n",
    "  v0: float (opcional)\n",
    "      la velocidad inicial (default = 0.0)\n",
    "   g: float (opcional)\n",
    "      valor de la aceleración de la gravedad (default = 9.8)\n",
    "\n",
    "  Returns\n",
    "  -------\n",
    "  (v,h):  tuple of floats\n",
    "       v= v0 - g*t\n",
    "       h= h0 - v0*t -g*t^2/2\n",
    "  \n",
    "  \"\"\"\n",
    "  v = v0 - g*t\n",
    "  h = h0 - v0*t - g*t**2/2.\n",
    "  return v,h\n"
   ]
  },
  {
   "cell_type": "code",
   "execution_count": 49,
   "metadata": {
    "autoscroll": false,
    "ein.hycell": false,
    "ein.tags": "worksheet-0",
    "slideshow": {
     "slide_type": "-"
    }
   },
   "outputs": [
    {
     "name": "stdout",
     "output_type": "stream",
     "text": [
      "(-52.92000000000001, 857.116)\n"
     ]
    }
   ],
   "source": [
    "datos = (5.4, 1000., 0.)        # Una lista (tuple en realidad)\n",
    "print (caida_libre(*datos))"
   ]
  },
  {
   "cell_type": "markdown",
   "metadata": {
    "ein.tags": "worksheet-0",
    "slideshow": {
     "slide_type": "-"
    }
   },
   "source": [
    "En la llamada a la función, la expresión `*datos` le indica al intérprete Python que la secuencia (tuple) debe convertirse en una sucesión de argumentos, que es lo que acepta la función. "
   ]
  },
  {
   "cell_type": "markdown",
   "metadata": {
    "ein.tags": "worksheet-0",
    "slideshow": {
     "slide_type": "-"
    }
   },
   "source": [
    "Similarmente, para desempacar un diccionario usamos la notación `**diccionario`:"
   ]
  },
  {
   "cell_type": "code",
   "execution_count": 50,
   "metadata": {
    "autoscroll": false,
    "ein.hycell": false,
    "ein.tags": "worksheet-0",
    "slideshow": {
     "slide_type": "-"
    }
   },
   "outputs": [
    {
     "name": "stdout",
     "output_type": "stream",
     "text": [
      "v=-8.775, h=976.3075\n"
     ]
    }
   ],
   "source": [
    "# diccionario, caída libre en la luna\n",
    "otros_datos = {'t':5.4, 'h0': 1000., \"g\" : 1.625} \n",
    "v, h = caida_libre(**otros_datos)\n",
    "print ('v={}, h={}'.format(v,h))\n"
   ]
  },
  {
   "cell_type": "markdown",
   "metadata": {
    "ein.tags": "worksheet-0",
    "slideshow": {
     "slide_type": "-"
    }
   },
   "source": [
    "En resumen:\n",
    "\n",
    "* la notación `(*datos)` convierte la tuple (o lista) en los tres argumentos que acepta la función caída libre. Los siguientes llamados son equivalentes:\n",
    "```python\n",
    "caida_libre(*datos)\n",
    "caida_libre(datos[0], datos[1], datos[2])\n",
    "caida_libre(5.4, 1000., 0.)\n",
    "```\n",
    "* la notación `(**otros_datos)` desempaca el diccionario en pares `clave=valor`, siendo equivalentes los dos llamados:\n",
    "```python\n",
    "caida_libre(**otros_datos)\n",
    "caida_libre(t=5.4, h0=1000., g=0.2)\n",
    "```\n"
   ]
  },
  {
   "cell_type": "markdown",
   "metadata": {
    "ein.tags": "worksheet-0",
    "slideshow": {
     "slide_type": "-"
    }
   },
   "source": [
    "##  Funciones que devuelven funciones\n",
    "\n",
    "Las funciones pueden ser pasadas como argumento y pueden ser retornadas por una función, como cualquier otro objeto (números, listas, tuples, cadenas de caracteres, diccionarios, etc). Veamos un ejemplo simple de funciones que devuelven una función:"
   ]
  },
  {
   "cell_type": "code",
   "execution_count": 52,
   "metadata": {
    "autoscroll": false,
    "ein.hycell": false,
    "ein.tags": "worksheet-0",
    "slideshow": {
     "slide_type": "-"
    }
   },
   "outputs": [],
   "source": [
    "def crear_potencia(n):\n",
    "  \"Devuelve la función x^n\"\n",
    "  def potencia(x):\n",
    "    \"potencia {}-esima de x\".format(n)\n",
    "    return x**n\n",
    "  return potencia"
   ]
  },
  {
   "cell_type": "code",
   "execution_count": 53,
   "metadata": {
    "autoscroll": false,
    "ein.hycell": false,
    "ein.tags": "worksheet-0",
    "slideshow": {
     "slide_type": "-"
    }
   },
   "outputs": [],
   "source": [
    "f = crear_potencia(3)\n",
    "cubos = [f(j) for j in range(5)]"
   ]
  },
  {
   "cell_type": "markdown",
   "metadata": {
    "ein.tags": "worksheet-0",
    "slideshow": {
     "slide_type": "-"
    }
   },
   "source": [
    "## Ejercicios 05 (a)\n",
    "\n",
    "  1. Escriba una función `crear_sen(A, w)` que acepte dos números reales $A, w$ como argumentos y devuelva la función `f(x)`. \n",
    "  \n",
    "  Al evaluar la función `f` en un dado valor $x$ debe dar el resultado: $ f(x) = A \\, \\sin(w x)$\n",
    "  tal que se pueda utilizar de la siguiente manera:\n",
    "  ```python\n",
    "  f = crear_sen(3, 1.5)\n",
    "  f(2)          # Debería imprimir el resultado de 3*sin(1.5*2)=0.4233600241796016\n",
    "  ```\n",
    "\n",
    "  1. Utilizando conjuntos (`set`), escriba una función que compruebe si un string contiene todas las vocales. La función debe devolver  `True` o `False`.\n"
   ]
  },
  {
   "cell_type": "markdown",
   "metadata": {
    "ein.tags": "worksheet-0",
    "slideshow": {
     "slide_type": "-"
    }
   },
   "source": [
    "## Funciones que toman como argumento una función"
   ]
  },
  {
   "cell_type": "code",
   "execution_count": 59,
   "metadata": {
    "autoscroll": false,
    "ein.hycell": false,
    "ein.tags": "worksheet-0",
    "slideshow": {
     "slide_type": "-"
    }
   },
   "outputs": [],
   "source": [
    "def aplicar_fun(f, L):\n",
    "  \"\"\"Aplica la función f a cada elemento del iterable L y devuelve una lista con los resultados.\n",
    "  \n",
    "  IMPORTANTE: Notar que no se realiza ninguna comprobación de validez\n",
    "  \"\"\"\n",
    "  return [f(x) for x in L]"
   ]
  },
  {
   "cell_type": "code",
   "execution_count": 60,
   "metadata": {
    "autoscroll": false,
    "ein.hycell": false,
    "ein.tags": "worksheet-0",
    "slideshow": {
     "slide_type": "-"
    }
   },
   "outputs": [],
   "source": [
    "import math as m\n",
    "Lista = list(range(1,10))\n",
    "t = aplicar_fun(m.sin, Lista)"
   ]
  },
  {
   "cell_type": "code",
   "execution_count": 61,
   "metadata": {
    "autoscroll": false,
    "ein.hycell": false,
    "ein.tags": "worksheet-0",
    "slideshow": {
     "slide_type": "-"
    }
   },
   "outputs": [
    {
     "data": {
      "text/plain": [
       "[0.8414709848078965,\n",
       " 0.9092974268256817,\n",
       " 0.1411200080598672,\n",
       " -0.7568024953079282,\n",
       " -0.9589242746631385,\n",
       " -0.27941549819892586,\n",
       " 0.6569865987187891,\n",
       " 0.9893582466233818,\n",
       " 0.4121184852417566]"
      ]
     },
     "execution_count": 61,
     "metadata": {},
     "output_type": "execute_result"
    }
   ],
   "source": [
    "t"
   ]
  },
  {
   "cell_type": "markdown",
   "metadata": {
    "ein.tags": "worksheet-0",
    "slideshow": {
     "slide_type": "-"
    }
   },
   "source": [
    "El ejemplo anterior se podría escribir"
   ]
  },
  {
   "cell_type": "code",
   "execution_count": 62,
   "metadata": {
    "autoscroll": false,
    "ein.hycell": false,
    "ein.tags": "worksheet-0",
    "slideshow": {
     "slide_type": "-"
    }
   },
   "outputs": [
    {
     "data": {
      "text/plain": [
       "[0, 1, 8, 27, 64]"
      ]
     },
     "execution_count": 62,
     "metadata": {},
     "output_type": "execute_result"
    }
   ],
   "source": [
    "Lista = list(range(5))\n",
    "aplicar_fun(crear_potencia(3), Lista)"
   ]
  },
  {
   "cell_type": "markdown",
   "metadata": {
    "ein.tags": "worksheet-0",
    "slideshow": {
     "slide_type": "-"
    }
   },
   "source": [
    "Notar que definimos la función `aplicar_fun()` que recibe una función y una secuencia, pero no necesariamente una lista, por lo que podemos aplicarla directamente a `range`:"
   ]
  },
  {
   "cell_type": "code",
   "execution_count": 63,
   "metadata": {
    "autoscroll": false,
    "ein.hycell": false,
    "ein.tags": "worksheet-0",
    "slideshow": {
     "slide_type": "-"
    }
   },
   "outputs": [
    {
     "data": {
      "text/plain": [
       "[0, 1, 8, 27, 64]"
      ]
     },
     "execution_count": 63,
     "metadata": {},
     "output_type": "execute_result"
    }
   ],
   "source": [
    "aplicar_fun(crear_potencia(3), range(5)) "
   ]
  },
  {
   "cell_type": "markdown",
   "metadata": {
    "ein.tags": "worksheet-0",
    "slideshow": {
     "slide_type": "-"
    }
   },
   "source": [
    "Además, debido a su definición, el primer argumento de la función `aplicar_fun()` no está restringida a funciones numéricas pero al usarla tenemos que asegurar que la función y el iterable (lista) que pasamos como argumentos son compatibles.\n",
    "\n",
    "Veamos otro ejemplo:"
   ]
  },
  {
   "cell_type": "code",
   "execution_count": 64,
   "metadata": {
    "autoscroll": false,
    "ein.hycell": false,
    "ein.tags": "worksheet-0",
    "slideshow": {
     "slide_type": "-"
    }
   },
   "outputs": [
    {
     "name": "stdout",
     "output_type": "stream",
     "text": [
      "['HOLA', 'CHAU']\n"
     ]
    }
   ],
   "source": [
    "s = ['hola', 'chau']\n",
    "print(aplicar_fun(str.upper, s))"
   ]
  },
  {
   "cell_type": "markdown",
   "metadata": {
    "ein.tags": "worksheet-0",
    "slideshow": {
     "slide_type": "-"
    }
   },
   "source": [
    "donde `str.upper` es una función definida en **Python**, que convierte a mayúsculas el string dado `str.upper('hola') = 'HOLA'`."
   ]
  },
  {
   "cell_type": "markdown",
   "metadata": {
    "ein.tags": "worksheet-0",
    "slideshow": {
     "slide_type": "-"
    }
   },
   "source": [
    "## Aplicacion 1: Ordenamiento de listas\n",
    "\n",
    "Consideremos el problema del ordenamiento de una lista de strings. Como vemos el resultado usual no es necesariamente el deseado"
   ]
  },
  {
   "cell_type": "code",
   "execution_count": 65,
   "metadata": {
    "autoscroll": false,
    "ein.hycell": false,
    "ein.tags": "worksheet-0",
    "slideshow": {
     "slide_type": "-"
    }
   },
   "outputs": [
    {
     "name": "stdout",
     "output_type": "stream",
     "text": [
      "['Estudiantes', 'caballeros', 'Python', 'Curso', 'pc', 'aereo']\n",
      "['Curso', 'Estudiantes', 'Python', 'aereo', 'caballeros', 'pc']\n"
     ]
    }
   ],
   "source": [
    "s1 = ['Estudiantes', 'caballeros', 'Python', 'Curso', 'pc', 'aereo']\n",
    "print(s1)\n",
    "print(sorted(s1))"
   ]
  },
  {
   "cell_type": "markdown",
   "metadata": {
    "ein.tags": "worksheet-0",
    "slideshow": {
     "slide_type": "-"
    }
   },
   "source": [
    "Acá `sorted` es una función, similar al método `str.sort()` que mencionamos anteriormente, con la diferencia que devuelve una nueva lista con los elementos ordenados.\n",
    "Como los elementos son *strings*, la comparación se hace respecto a su posición en el abecedario. En este caso no es lo mismo mayúsculas o minúsculas."
   ]
  },
  {
   "cell_type": "code",
   "execution_count": 66,
   "metadata": {
    "autoscroll": false,
    "ein.hycell": false,
    "ein.tags": "worksheet-0",
    "slideshow": {
     "slide_type": "-"
    }
   },
   "outputs": [
    {
     "name": "stdout",
     "output_type": "stream",
     "text": [
      "['estudiantes', 'caballeros', 'python', 'curso', 'pc', 'aereo']\n",
      "['aereo', 'caballeros', 'curso', 'estudiantes', 'pc', 'python']\n"
     ]
    }
   ],
   "source": [
    "s2 = [s.lower() for s in s1]\n",
    "print(s2)\n",
    "print(sorted(s2))"
   ]
  },
  {
   "cell_type": "markdown",
   "metadata": {
    "ein.tags": "worksheet-0",
    "slideshow": {
     "slide_type": "-"
    }
   },
   "source": [
    "Posiblemente queremos el orden que obtuvimos en segundo lugar pero con los elementos dados originalmente (con sus mayúsculas y minúsculas originales).\n",
    "Para poder modificar el modo en que se ordenan los elementos, la función `sorted` (y el método `sort`) tienen el argumento opcional `key`"
   ]
  },
  {
   "cell_type": "code",
   "execution_count": 67,
   "metadata": {
    "autoscroll": false,
    "ein.hycell": false,
    "ein.tags": "worksheet-0",
    "slideshow": {
     "slide_type": "-"
    }
   },
   "outputs": [
    {
     "name": "stdout",
     "output_type": "stream",
     "text": [
      "Help on built-in function sorted in module builtins:\n",
      "\n",
      "sorted(iterable, /, *, key=None, reverse=False)\n",
      "    Return a new list containing all items from the iterable in ascending order.\n",
      "    \n",
      "    A custom key function can be supplied to customize the sort order, and the\n",
      "    reverse flag can be set to request the result in descending order.\n",
      "\n"
     ]
    }
   ],
   "source": [
    "help(sorted)"
   ]
  },
  {
   "cell_type": "markdown",
   "metadata": {
    "ein.tags": "worksheet-0",
    "slideshow": {
     "slide_type": "-"
    }
   },
   "source": [
    "Como vemos tiene un argumento opcional `key` que es una función. Veamos algunos ejemplos de su uso"
   ]
  },
  {
   "cell_type": "code",
   "execution_count": 68,
   "metadata": {
    "autoscroll": false,
    "ein.hycell": false,
    "ein.tags": "worksheet-0",
    "slideshow": {
     "slide_type": "-"
    }
   },
   "outputs": [
    {
     "data": {
      "text/plain": [
       "['aereo', 'caballeros', 'Curso', 'Estudiantes', 'pc', 'Python']"
      ]
     },
     "execution_count": 68,
     "metadata": {},
     "output_type": "execute_result"
    }
   ],
   "source": [
    "sorted(s1, key=str.lower)"
   ]
  },
  {
   "cell_type": "markdown",
   "metadata": {
    "ein.tags": "worksheet-0",
    "slideshow": {
     "slide_type": "-"
    }
   },
   "source": [
    "Como vemos, los strings están ordenados adecuadamente. Si queremos ordenarlos por longitud de la palabra"
   ]
  },
  {
   "cell_type": "code",
   "execution_count": 69,
   "metadata": {
    "autoscroll": false,
    "ein.hycell": false,
    "ein.tags": "worksheet-0",
    "slideshow": {
     "slide_type": "-"
    }
   },
   "outputs": [
    {
     "data": {
      "text/plain": [
       "['pc', 'Curso', 'aereo', 'Python', 'caballeros', 'Estudiantes']"
      ]
     },
     "execution_count": 69,
     "metadata": {},
     "output_type": "execute_result"
    }
   ],
   "source": [
    "sorted(s1, key=len)"
   ]
  },
  {
   "cell_type": "markdown",
   "metadata": {
    "ein.tags": "worksheet-0",
    "slideshow": {
     "slide_type": "-"
    }
   },
   "source": [
    "Supongamos que queremos ordenarla alfabéticamente por la segunda letra"
   ]
  },
  {
   "cell_type": "code",
   "execution_count": 70,
   "metadata": {
    "autoscroll": false,
    "ein.hycell": false,
    "ein.tags": "worksheet-0",
    "slideshow": {
     "slide_type": "-"
    }
   },
   "outputs": [
    {
     "data": {
      "text/plain": [
       "['caballeros', 'pc', 'aereo', 'Estudiantes', 'Curso', 'Python']"
      ]
     },
     "execution_count": 70,
     "metadata": {},
     "output_type": "execute_result"
    }
   ],
   "source": [
    "def segunda(a):\n",
    "  return a[1]\n",
    "\n",
    "sorted(s1, key=segunda)"
   ]
  },
  {
   "cell_type": "markdown",
   "metadata": {
    "ein.tags": "worksheet-0",
    "slideshow": {
     "slide_type": "-"
    }
   },
   "source": [
    "## Funciones anónimas\n",
    "\n",
    "En ocasiones como esta suele ser más rápido (o conveniente) definir la función, que se va a utilizar una única vez, sin darle un nombre. Estas se llaman funciones *lambda*, y el ejemplo anterior se escribiría"
   ]
  },
  {
   "cell_type": "code",
   "execution_count": 71,
   "metadata": {
    "autoscroll": false,
    "ein.hycell": false,
    "ein.tags": "worksheet-0",
    "slideshow": {
     "slide_type": "-"
    }
   },
   "outputs": [
    {
     "data": {
      "text/plain": [
       "['caballeros', 'pc', 'aereo', 'Estudiantes', 'Curso', 'Python']"
      ]
     },
     "execution_count": 71,
     "metadata": {},
     "output_type": "execute_result"
    }
   ],
   "source": [
    "sorted(s1, key=lambda a: a[1])"
   ]
  },
  {
   "cell_type": "markdown",
   "metadata": {
    "ein.tags": "worksheet-0",
    "slideshow": {
     "slide_type": "-"
    }
   },
   "source": [
    "Si queremos ordenarla alfabéticamente empezando desde la última letra:"
   ]
  },
  {
   "cell_type": "code",
   "execution_count": 72,
   "metadata": {
    "autoscroll": false,
    "ein.hycell": false,
    "ein.tags": "worksheet-0",
    "slideshow": {
     "slide_type": "-"
    }
   },
   "outputs": [
    {
     "data": {
      "text/plain": [
       "['pc', 'Python', 'aereo', 'Curso', 'Estudiantes', 'caballeros']"
      ]
     },
     "execution_count": 72,
     "metadata": {},
     "output_type": "execute_result"
    }
   ],
   "source": [
    "sorted(s1, key=lambda a: a[::-1])"
   ]
  },
  {
   "cell_type": "markdown",
   "metadata": {
    "ein.tags": "worksheet-0",
    "slideshow": {
     "slide_type": "-"
    }
   },
   "source": [
    "## Ejemplo 1: Integración numérica\n",
    "\n",
    "Veamos en más detalle el caso de funciones que reciben como argumento otra función, estudiando un caso usual: una función de integración debe recibir como argumento al menos una función a integrar y los límites de integración:"
   ]
  },
  {
   "cell_type": "code",
   "execution_count": 74,
   "metadata": {
    "autoscroll": false,
    "ein.hycell": false,
    "ein.tags": "worksheet-0",
    "slideshow": {
     "slide_type": "-"
    }
   },
   "outputs": [],
   "source": [
    "# %load scripts/05_ejemplo_1.py\n",
    "def integrate_simps(f, a, b, N=10):\n",
    "  \"\"\"Calcula numéricamente la integral de la función en el intervalo dado\n",
    "  utilizando la regla de Simpson\n",
    "\n",
    "  Keyword Arguments:\n",
    "  f -- Función a integrar\n",
    "  a -- Límite inferior\n",
    "  b -- Límite superior\n",
    "  N -- El intervalo se separa en 2*N intervalos\n",
    "  \"\"\"\n",
    "  h = (b - a) / (2 * N)\n",
    "  I = f(a) - f(b)\n",
    "  for j in range(1, N + 1):\n",
    "    x2j = a + 2 * j * h\n",
    "    x2jm1 = a + (2 * j - 1) * h\n",
    "    I += 2 * f(x2j) + 4 * f(x2jm1)\n",
    "  return I * h / 3\n"
   ]
  },
  {
   "cell_type": "markdown",
   "metadata": {
    "ein.tags": "worksheet-0",
    "slideshow": {
     "slide_type": "-"
    }
   },
   "source": [
    "En este ejemplo programamos la fórmula de integración de Simpson para obtener la integral de una función `f(x)` provista por el usuario, en un dado intervalo:\n",
    "$$\n",
    "\\int _{a}^{b}f(x)\\,dx\\approx \\frac{h}{3} \\bigg[ f(x_{0}) + 2 \\sum_{j=1}^{n/2} f(x_{2j}) + 4 \\sum_{j=1}^{n/2} f(x_{2j-1}) - f(x_{n})\\bigg]\n",
    "$$\n",
    "\n",
    "¿Cómo usamos la función de integración?"
   ]
  },
  {
   "cell_type": "code",
   "execution_count": 75,
   "metadata": {
    "autoscroll": false,
    "ein.hycell": false,
    "ein.tags": "worksheet-0",
    "slideshow": {
     "slide_type": "-"
    }
   },
   "outputs": [
    {
     "data": {
      "text/plain": [
       "9.0"
      ]
     },
     "execution_count": 75,
     "metadata": {},
     "output_type": "execute_result"
    }
   ],
   "source": [
    "def potencia2(x):\n",
    "  return x**2\n",
    "\n",
    "integrate_simps(potencia2, 0, 3, 7)"
   ]
  },
  {
   "cell_type": "markdown",
   "metadata": {
    "ein.tags": "worksheet-0",
    "slideshow": {
     "slide_type": "-"
    }
   },
   "source": [
    "Acá definimos una función, y se la pasamos como argumento a la función de integración. "
   ]
  },
  {
   "cell_type": "markdown",
   "metadata": {
    "ein.tags": "worksheet-0",
    "slideshow": {
     "slide_type": "-"
    }
   },
   "source": [
    "### Uso de funciones anónimas\n",
    "\n",
    "Veamos como sería el uso de funciones anónimas en este contexto"
   ]
  },
  {
   "cell_type": "code",
   "execution_count": 76,
   "metadata": {
    "autoscroll": false,
    "ein.hycell": false,
    "ein.tags": "worksheet-0",
    "slideshow": {
     "slide_type": "-"
    }
   },
   "outputs": [
    {
     "data": {
      "text/plain": [
       "9.0"
      ]
     },
     "execution_count": 76,
     "metadata": {},
     "output_type": "execute_result"
    }
   ],
   "source": [
    "integrate_simps(lambda x: x**2, 0, 3, 7)"
   ]
  },
  {
   "cell_type": "markdown",
   "metadata": {
    "ein.tags": "worksheet-0",
    "slideshow": {
     "slide_type": "-"
    }
   },
   "source": [
    "La notación es un poco más corta, que es cómodo pero no muy relevante para un caso.\n",
    "Si queremos, por ejemplo, aplicar el integrador a una familia de funciones la notación se simplifica notablemente:"
   ]
  },
  {
   "cell_type": "code",
   "execution_count": 77,
   "metadata": {
    "autoscroll": false,
    "ein.hycell": false,
    "ein.tags": "worksheet-0",
    "slideshow": {
     "slide_type": "-"
    }
   },
   "outputs": [
    {
     "name": "stdout",
     "output_type": "stream",
     "text": [
      "Integrales:\n",
      "I ( 1 x^0, 0, 3 ) = 3.00000\n",
      "I ( 2 x^1, 0, 3 ) = 9.00000\n",
      "I ( 3 x^2, 0, 3 ) = 27.00000\n",
      "I ( 4 x^3, 0, 3 ) = 81.00000\n",
      "I ( 5 x^4, 0, 3 ) = 243.00101\n",
      "I ( 6 x^5, 0, 3 ) = 729.00911\n"
     ]
    }
   ],
   "source": [
    "print('Integrales:')\n",
    "a = 0\n",
    "b = 3\n",
    "for n in range(6):\n",
    "  I = integrate_simps(lambda x: (n + 1) * x**n, a, b, 10)\n",
    "  print('I ( {} x^{}, {}, {} ) = {:.5f}'.format(n + 1, n, a, b, I))\n"
   ]
  },
  {
   "cell_type": "markdown",
   "metadata": {
    "ein.tags": "worksheet-0",
    "slideshow": {
     "slide_type": "-"
    }
   },
   "source": [
    "Este es un ejemplo de uso de las funciones anónimas `lambda`. Recordemos que la forma general de las funciones `lambda` es:\n",
    "```python\n",
    "lambda x,y,z: expresión_de(x,y,z)\n",
    "```\n",
    "por ejemplo en el ejemplo anterior, para calcular $(n+1) x^n$, hicimos:\n",
    "```python\n",
    "lambda x: (n+1) * x**n\n",
    "```"
   ]
  },
  {
   "cell_type": "markdown",
   "metadata": {
    "ein.tags": "worksheet-0",
    "slideshow": {
     "slide_type": "-"
    }
   },
   "source": [
    "## Ejemplo 2: Polinomio interpolador\n",
    "\n",
    "Veamos ahora una función que retorna una función. Supongamos que tenemos una tabla de puntos `(x,y)` por los que pasan nuestros datos y queremos interpolar los datos con un polinomio.\n",
    "\n",
    "Sabemos que dados `N` puntos, hay un único polinomio de grado `N` que pasa por todos los puntos. En este ejemplo utilizamos la fórmula de Lagrange para obtenerlo."
   ]
  },
  {
   "cell_type": "code",
   "execution_count": null,
   "metadata": {
    "autoscroll": false,
    "ein.hycell": false,
    "ein.tags": "worksheet-0",
    "slideshow": {
     "slide_type": "-"
    }
   },
   "outputs": [],
   "source": [
    "%load scripts/ejemplo_05_2.py"
   ]
  },
  {
   "cell_type": "code",
   "execution_count": 78,
   "metadata": {
    "autoscroll": false,
    "ein.hycell": false,
    "ein.tags": "worksheet-0",
    "slideshow": {
     "slide_type": "-"
    }
   },
   "outputs": [],
   "source": [
    "# %load scripts/ejemplo_05_2.py\n",
    "def polinomio_interp(x, y):\n",
    "  \"\"\"Devuelve el polinomio interpolador que pasa por los puntos (x_i, y_i)\n",
    "\n",
    "    Warning: La implementación es numéricamente inestable. Funciona para algunos puntos (menor a 20)\n",
    "\n",
    "  Keyword Arguments:\n",
    "  x -- Lista con los valores de x\n",
    "  y -- Lista con los valores de y\n",
    "  \"\"\"\n",
    "\n",
    "  M = len(x)\n",
    "\n",
    "  def polin(xx):\n",
    "    \"\"\"Evalúa el polinomio interpolador de Lagrange\"\"\"\n",
    "    P = 0\n",
    "\n",
    "    for j in range(M):\n",
    "      pt = y[j]\n",
    "      for k in range(M):\n",
    "        if k == j:\n",
    "          continue\n",
    "        fac = x[j] - x[k]\n",
    "        pt *= (xx - x[k]) / fac\n",
    "      P += pt\n",
    "    return P\n",
    "\n",
    "  return polin\n"
   ]
  },
  {
   "cell_type": "markdown",
   "metadata": {
    "ein.tags": "worksheet-0",
    "slideshow": {
     "slide_type": "-"
    }
   },
   "source": [
    "Lo que obtenemos al llamar a esta función es una función"
   ]
  },
  {
   "cell_type": "code",
   "execution_count": 79,
   "metadata": {
    "autoscroll": false,
    "ein.hycell": false,
    "ein.tags": "worksheet-0",
    "slideshow": {
     "slide_type": "-"
    }
   },
   "outputs": [],
   "source": [
    "f = polinomio_interp([0,1], [0,2])"
   ]
  },
  {
   "cell_type": "code",
   "execution_count": 80,
   "metadata": {
    "autoscroll": false,
    "ein.hycell": false,
    "ein.tags": "worksheet-0",
    "slideshow": {
     "slide_type": "-"
    }
   },
   "outputs": [
    {
     "data": {
      "text/plain": [
       "<function __main__.polinomio_interp.<locals>.polin(xx)>"
      ]
     },
     "execution_count": 80,
     "metadata": {},
     "output_type": "execute_result"
    }
   ],
   "source": [
    "f"
   ]
  },
  {
   "cell_type": "code",
   "execution_count": 81,
   "metadata": {
    "autoscroll": false,
    "ein.hycell": false,
    "ein.tags": "worksheet-0",
    "slideshow": {
     "slide_type": "-"
    }
   },
   "outputs": [
    {
     "name": "stdout",
     "output_type": "stream",
     "text": [
      "Help on function polin in module __main__:\n",
      "\n",
      "polin(xx)\n",
      "    Evalúa el polinomio interpolador de Lagrange\n",
      "\n"
     ]
    }
   ],
   "source": [
    "help(f)"
   ]
  },
  {
   "cell_type": "code",
   "execution_count": 82,
   "metadata": {
    "autoscroll": false,
    "ein.hycell": false,
    "ein.tags": "worksheet-0",
    "slideshow": {
     "slide_type": "-"
    }
   },
   "outputs": [
    {
     "data": {
      "text/plain": [
       "6.8"
      ]
     },
     "execution_count": 82,
     "metadata": {},
     "output_type": "execute_result"
    }
   ],
   "source": [
    "f(3.4)"
   ]
  },
  {
   "cell_type": "markdown",
   "metadata": {
    "ein.tags": "worksheet-0",
    "slideshow": {
     "slide_type": "-"
    }
   },
   "source": [
    "Este es el resultado esperado porque queremos el polinomio que pasa por dos puntos (una recta), y en este caso es la recta $y = 2x$. Veamos cómo usarlo, en forma más general:"
   ]
  },
  {
   "cell_type": "code",
   "execution_count": 83,
   "metadata": {
    "autoscroll": false,
    "ein.hycell": false,
    "ein.tags": "worksheet-0",
    "slideshow": {
     "slide_type": "-"
    }
   },
   "outputs": [
    {
     "name": "stdout",
     "output_type": "stream",
     "text": [
      "\n",
      " x   f2(x)   f3(x)\n",
      "------------------\n",
      "0.0   0.00    0.00\n",
      "0.2   0.04    0.02\n",
      "0.4   0.16    0.13\n",
      "0.6   0.36    0.43\n",
      "0.8   0.64    1.02\n",
      "1.0   1.00    2.00\n",
      "1.2   1.44    3.46\n",
      "1.4   1.96    5.49\n",
      "1.6   2.56    8.19\n",
      "1.8   3.24   11.66\n",
      "2.0   4.00   16.00\n",
      "2.2   4.84   21.30\n",
      "2.4   5.76   27.65\n",
      "2.6   6.76   35.15\n",
      "2.8   7.84   43.90\n",
      "3.0   9.00   54.00\n",
      "3.2  10.24   65.54\n",
      "3.4  11.56   78.61\n",
      "3.6  12.96   93.31\n",
      "3.8  14.44  109.74\n",
      "4.0  16.00  128.00\n",
      "4.2  17.64  148.18\n",
      "4.4  19.36  170.37\n",
      "4.6  21.16  194.67\n",
      "4.8  23.04  221.18\n"
     ]
    }
   ],
   "source": [
    "# %load scripts/ejemplo_05_3\n",
    "#from ejemplo_05_2 import polinomio_interp\n",
    "\n",
    "xmax = 5\n",
    "step = 0.2\n",
    "N = int(5 / step)\n",
    "\n",
    "x2, y2 = [1, 2, 3], [1, 4, 9]   # x^2\n",
    "f2 = polinomio_interp(x2, y2)\n",
    "\n",
    "x3, y3 = [0, 1, 2, 3], [0, 2, 16, 54]  # 2 x^3\n",
    "f3 = polinomio_interp(x3, y3)\n",
    "\n",
    "print('\\n x   f2(x)   f3(x)\\n' + 18 * '-')\n",
    "for j in range(N):\n",
    "  x = step * j\n",
    "  print('{:.1f}  {:5.2f}  {:6.2f}'.format(x, f2(x), f3(x)))\n"
   ]
  },
  {
   "cell_type": "markdown",
   "metadata": {
    "ein.tags": "worksheet-0",
    "slideshow": {
     "slide_type": "-"
    }
   },
   "source": [
    "## Ejercicios 05 (b)\n",
    "\n",
    "\n",
    "  1. Escriba una serie de funciones que permitan trabajar con polinomios. Vamos a representar a un polinomio como una lista de números reales, donde cada elemento corresponde a un coeficiente que acompaña una potencia:\n",
    "\n",
    "    * Una función que devuelva el orden del polinomio (un número entero)\n",
    "    * Una función que sume dos polinomios y devuelva un polinomio (objeto del mismo tipo)\n",
    "    * Una función que multiplique dos polinomios y devuelva el resultado en otro polinomio\n",
    "    * Una función devuelva la derivada del polinomio (otro polinomio).\n",
    "    * Una función que, acepte el polinomio y devuelva la función correspondiente.\n",
    "\n"
   ]
  },
  {
   "cell_type": "markdown",
   "metadata": {
    "ein.tags": "worksheet-0",
    "slideshow": {
     "slide_type": "-"
    }
   },
   "source": [
    "## Funciones que aceptan y devuelven funciones (Decoradores)\n",
    "\n",
    "Consideremos la siguiente función `mas_uno`, que toma como argumento una función y devuelve otra función."
   ]
  },
  {
   "cell_type": "code",
   "execution_count": null,
   "metadata": {
    "autoscroll": false,
    "ein.hycell": false,
    "ein.tags": "worksheet-0",
    "slideshow": {
     "slide_type": "-"
    }
   },
   "outputs": [],
   "source": [
    "def mas_uno(func):\n",
    "  \"Devuelve una función\"\n",
    "  def fun(args):\n",
    "    \"Agrega 1 a cada uno de los elementos y luego aplica la función\"\n",
    "    xx = [x+1 for x in args]\n",
    "    y= func(xx)\n",
    "    return y\n",
    "  return fun"
   ]
  },
  {
   "cell_type": "code",
   "execution_count": null,
   "metadata": {
    "autoscroll": false,
    "ein.hycell": false,
    "ein.tags": "worksheet-0",
    "slideshow": {
     "slide_type": "-"
    }
   },
   "outputs": [],
   "source": [
    "ssum= mas_uno(sum)                 # h es una función\n",
    "mmin= mas_uno(min)                 # f es una función\n",
    "mmax= mas_uno(max)                 # g es una función"
   ]
  },
  {
   "cell_type": "code",
   "execution_count": null,
   "metadata": {
    "autoscroll": false,
    "ein.hycell": false,
    "ein.tags": "worksheet-0",
    "slideshow": {
     "slide_type": "-"
    }
   },
   "outputs": [],
   "source": [
    "a = [0, 1, 3.3, 5, 7.5, 2.2]\n",
    "print(a)\n",
    "print(sum(a), ssum(a))\n",
    "print(min(a), mmin(a))\n",
    "print(max(a), mmax(a))\n",
    "\n"
   ]
  },
  {
   "cell_type": "markdown",
   "metadata": {
    "ein.tags": "worksheet-0",
    "slideshow": {
     "slide_type": "-"
    }
   },
   "source": [
    "### Notación para decoradores\n",
    "\n",
    "Podemos aplicar la función tanto a funciones \"intrínsecas\" como a funciones definidas por nosotros"
   ]
  },
  {
   "cell_type": "code",
   "execution_count": null,
   "metadata": {
    "autoscroll": false,
    "ein.hycell": false,
    "ein.tags": "worksheet-0",
    "slideshow": {
     "slide_type": "-"
    }
   },
   "outputs": [],
   "source": [
    "def parabola(v):\n",
    "  return [x**2 + 2*x for x in v]\n"
   ]
  },
  {
   "cell_type": "code",
   "execution_count": null,
   "metadata": {
    "autoscroll": false,
    "ein.hycell": false,
    "ein.tags": "worksheet-0",
    "slideshow": {
     "slide_type": "-"
    }
   },
   "outputs": [],
   "source": [
    "mparabola = mas_uno(parabola)"
   ]
  },
  {
   "cell_type": "code",
   "execution_count": null,
   "metadata": {
    "autoscroll": false,
    "ein.hycell": false,
    "ein.tags": "worksheet-0",
    "slideshow": {
     "slide_type": "-"
    }
   },
   "outputs": [],
   "source": [
    "print(parabola(a))\n",
    "print(mparabola(a))"
   ]
  },
  {
   "cell_type": "markdown",
   "metadata": {
    "ein.tags": "worksheet-0",
    "slideshow": {
     "slide_type": "-"
    }
   },
   "source": [
    "Notemos que al decorar una función estamos creando una enteramente nueva"
   ]
  },
  {
   "cell_type": "code",
   "execution_count": null,
   "metadata": {
    "autoscroll": false,
    "ein.hycell": false,
    "ein.tags": "worksheet-0",
    "slideshow": {
     "slide_type": "-"
    }
   },
   "outputs": [],
   "source": [
    "del parabola                    # Borramos el objeto"
   ]
  },
  {
   "cell_type": "code",
   "execution_count": null,
   "metadata": {
    "autoscroll": false,
    "ein.hycell": false,
    "ein.tags": "worksheet-0",
    "slideshow": {
     "slide_type": "-"
    }
   },
   "outputs": [],
   "source": [
    "parabola(a)"
   ]
  },
  {
   "cell_type": "code",
   "execution_count": null,
   "metadata": {
    "autoscroll": false,
    "ein.hycell": false,
    "ein.tags": "worksheet-0",
    "slideshow": {
     "slide_type": "-"
    }
   },
   "outputs": [],
   "source": [
    "mparabola(a)"
   ]
  },
  {
   "cell_type": "markdown",
   "metadata": {
    "ein.tags": "worksheet-0",
    "slideshow": {
     "slide_type": "-"
    }
   },
   "source": [
    "Algunas veces queremos eso, renombrar la función original (se lo llama \"decorar\"):"
   ]
  },
  {
   "cell_type": "code",
   "execution_count": null,
   "metadata": {
    "autoscroll": false,
    "ein.hycell": false,
    "ein.tags": "worksheet-0",
    "slideshow": {
     "slide_type": "-"
    }
   },
   "outputs": [],
   "source": [
    "def parabola(v):\n",
    "  return [x**2 + 2*x for x in v]\n",
    "mparabola = mas_uno(parabola)\n",
    "del parabola\n",
    "parabola = mparabola\n",
    "del mparabola"
   ]
  },
  {
   "cell_type": "code",
   "execution_count": null,
   "metadata": {
    "autoscroll": false,
    "ein.hycell": false,
    "ein.tags": "worksheet-0",
    "slideshow": {
     "slide_type": "-"
    }
   },
   "outputs": [],
   "source": [
    "Son un montón de líneas, podemos simplificarlo:"
   ]
  },
  {
   "cell_type": "code",
   "execution_count": null,
   "metadata": {
    "autoscroll": false,
    "ein.hycell": false,
    "ein.tags": "worksheet-0",
    "slideshow": {
     "slide_type": "-"
    }
   },
   "outputs": [],
   "source": [
    "def parabola(v):\n",
    "  return [x**2 + 2*x for x in v]\n",
    "parabola = mas_uno(parabola)"
   ]
  },
  {
   "cell_type": "markdown",
   "metadata": {
    "ein.tags": "worksheet-0",
    "slideshow": {
     "slide_type": "-"
    }
   },
   "source": [
    "Esta es una situación que puede darse frecuentemente en algunas áreas. Se decidió simplificar la notación, introduciendo el uso de @. Lo anterior puede escribirse como:"
   ]
  },
  {
   "cell_type": "code",
   "execution_count": null,
   "metadata": {
    "autoscroll": false,
    "ein.hycell": false,
    "ein.tags": "worksheet-0",
    "slideshow": {
     "slide_type": "-"
    }
   },
   "outputs": [],
   "source": [
    "@mas_uno\n",
    "def mi_parabola(v):\n",
    "  return [x**2 + 2*x for x in v]\n"
   ]
  },
  {
   "cell_type": "markdown",
   "metadata": {
    "ein.tags": "worksheet-0",
    "slideshow": {
     "slide_type": "-"
    }
   },
   "source": [
    "La única restricción para utilizar esta notación es que la línea con el decorador debe estar inmediatamente antes de la definición de la función a decorar\n",
    "\n"
   ]
  },
  {
   "cell_type": "code",
   "execution_count": null,
   "metadata": {
    "autoscroll": false,
    "ein.hycell": false,
    "ein.tags": "worksheet-0",
    "slideshow": {
     "slide_type": "-"
    }
   },
   "outputs": [],
   "source": [
    "mi_parabola(a)"
   ]
  },
  {
   "cell_type": "markdown",
   "metadata": {
    "ein.tags": "worksheet-0",
    "slideshow": {
     "slide_type": "-"
    }
   },
   "source": [
    "### Algunos Usos de decoradores\n"
   ]
  },
  {
   "cell_type": "code",
   "execution_count": null,
   "metadata": {
    "autoscroll": false,
    "ein.hycell": false,
    "ein.tags": "worksheet-0",
    "slideshow": {
     "slide_type": "-"
    }
   },
   "outputs": [],
   "source": [
    "mi_parabola(3)"
   ]
  },
  {
   "cell_type": "markdown",
   "metadata": {
    "ein.tags": "worksheet-0",
    "slideshow": {
     "slide_type": "-"
    }
   },
   "source": [
    "El problema aquí es que definimos la función para tomar como argumentos una lista (o al menos un iterable de números) y estamos tratando de aplicarla a un número.\n",
    "Podemos definir un decorador para asegurarnos que el tipo es correcto (que no es del todo correcto)"
   ]
  },
  {
   "cell_type": "code",
   "execution_count": null,
   "metadata": {
    "autoscroll": false,
    "ein.hycell": false,
    "ein.tags": "worksheet-0",
    "slideshow": {
     "slide_type": "-"
    }
   },
   "outputs": [],
   "source": [
    "def test_argumento_list_num(f):\n",
    "  def check(v):\n",
    "    if (type(v) == list):\n",
    "      return f(v)\n",
    "    else:\n",
    "      print(\"Error: El argumento debe ser una lista\")\n",
    "  return check"
   ]
  },
  {
   "cell_type": "code",
   "execution_count": null,
   "metadata": {
    "autoscroll": false,
    "ein.hycell": false,
    "ein.tags": "worksheet-0",
    "slideshow": {
     "slide_type": "-"
    }
   },
   "outputs": [],
   "source": [
    "mi_parabola = test_argumento_list_num(mi_parabola)"
   ]
  },
  {
   "cell_type": "code",
   "execution_count": null,
   "metadata": {
    "autoscroll": false,
    "ein.hycell": false,
    "ein.tags": "worksheet-0",
    "slideshow": {
     "slide_type": "-"
    }
   },
   "outputs": [],
   "source": [
    "mi_parabola(3)"
   ]
  },
  {
   "cell_type": "code",
   "execution_count": null,
   "metadata": {
    "autoscroll": false,
    "ein.hycell": false,
    "ein.tags": "worksheet-0",
    "slideshow": {
     "slide_type": "-"
    }
   },
   "outputs": [],
   "source": [
    "mi_parabola(a)"
   ]
  },
  {
   "cell_type": "markdown",
   "metadata": {
    "ein.tags": "worksheet-0",
    "slideshow": {
     "slide_type": "-"
    }
   },
   "source": [
    "Supongamos que queremos simplemente extender la función para que sea válida también con argumentos escalares. Definimos una nueva función que utilizaremos como decorador"
   ]
  },
  {
   "cell_type": "code",
   "execution_count": null,
   "metadata": {
    "autoscroll": false,
    "ein.hycell": false,
    "ein.tags": "worksheet-0",
    "slideshow": {
     "slide_type": "-"
    }
   },
   "outputs": [],
   "source": [
    "def hace_argumento_list(f):\n",
    "  def check(v):\n",
    "    \"Corrige el argumento si no es una lista\"\n",
    "    if (type(v) == list):\n",
    "      return f(v)\n",
    "    else:\n",
    "      return f([v])\n",
    "  return check  "
   ]
  },
  {
   "cell_type": "code",
   "execution_count": null,
   "metadata": {
    "autoscroll": false,
    "ein.hycell": false,
    "ein.tags": "worksheet-0",
    "slideshow": {
     "slide_type": "-"
    }
   },
   "outputs": [],
   "source": [
    "@hace_argumento_list\n",
    "def parabola(v):\n",
    "  return [x**2 + 2*x for x in v]\n"
   ]
  },
  {
   "cell_type": "code",
   "execution_count": null,
   "metadata": {
    "autoscroll": false,
    "ein.hycell": false,
    "ein.tags": "worksheet-0",
    "slideshow": {
     "slide_type": "-"
    }
   },
   "outputs": [],
   "source": [
    "print(parabola(3))\n",
    "print(parabola([3]))"
   ]
  }
 ],
 "metadata": {
  "kernelspec": {
   "display_name": "Python 3",
   "language": "python",
   "name": "python3"
  },
  "language_info": {
   "codemirror_mode": {
    "name": "ipython",
    "version": 3
   },
   "file_extension": ".py",
   "mimetype": "text/x-python",
   "name": "python",
   "nbconvert_exporter": "python",
   "pygments_lexer": "ipython3",
   "version": "3.7.6"
  },
  "name": "05_algunos_ejemplos.ipynb",
  "toc": {
   "base_numbering": 1,
   "nav_menu": {
    "height": "153.967px",
    "width": "252px"
   },
   "number_sections": true,
   "sideBar": true,
   "skip_h1_title": false,
   "title_cell": "Contenidos",
   "title_sidebar": "Contenidos",
   "toc_cell": false,
   "toc_position": null,
   "toc_section_display": true,
   "toc_window_display": false
  }
 },
 "nbformat": 4,
 "nbformat_minor": 1
}
