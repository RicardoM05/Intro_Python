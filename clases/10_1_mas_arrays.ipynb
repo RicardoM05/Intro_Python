{
 "cells": [
  {
   "cell_type": "markdown",
   "id": "f220e6a3",
   "metadata": {
    "ein.tags": "worksheet-0",
    "slideshow": {
     "slide_type": "-"
    }
   },
   "source": [
    "# Más información sobre **Numpy** <a class=\"tocSkip\">\n",
    "\n",
    "## Creación y operación sobre **Numpy** arrays\n",
    "Vamos a ver algunas características de los `arrays` de Numpy en un poco más de detalle\n",
    "\n",
    "### Funciones para crear arrays\n",
    "\n",
    "Vimos varios métodos que permiten crear e inicializar arrays"
   ]
  },
  {
   "cell_type": "code",
   "execution_count": null,
   "id": "98400512",
   "metadata": {
    "autoscroll": false,
    "ein.hycell": false,
    "ein.tags": "worksheet-0",
    "slideshow": {
     "slide_type": "-"
    }
   },
   "outputs": [],
   "source": [
    "import numpy as np\n",
    "import matplotlib.pyplot as plt"
   ]
  },
  {
   "cell_type": "code",
   "execution_count": null,
   "id": "bfab1e10",
   "metadata": {
    "autoscroll": false,
    "ein.hycell": false,
    "ein.tags": "worksheet-0",
    "slideshow": {
     "slide_type": "-"
    }
   },
   "outputs": [],
   "source": [
    "a= {}\n",
    "a['empty unid'] = np.empty(10)    #  Creación de un array de 10 elementos\n",
    "a['zeros unid'] = np.zeros(10)    #  Creación de un array de 10 elementos inicializados en cero\n",
    "a['zeros bidi'] = np.zeros((5,2)) #  Array bidimensional 10 elementos con *shape* 5x2\n",
    "a['ones bidi'] = np.ones((5,2)) #  Array bidimensional 10 elementos con *shape* 5x2, inicializado en 1\n",
    "a['arange'] = np.arange(10)  # Array inicializado con una secuencia\n",
    "a['lineal'] = np.linspace(0,10,5)  # Array inicializado con una secuencia equiespaciada\n",
    "a['log'] = np.logspace(0,2,10)  # Array inicializado con una secuencia con espaciado logarítmico\n",
    "a['diag'] = np.diag(np.arange(5)) # Matriz diagonal a partir de un vector\n",
    "\n",
    "for k,v in a.items():\n",
    "  print('Array {}:\\n {}\\n'.format(k,v), 80*\"*\")"
   ]
  },
  {
   "cell_type": "markdown",
   "id": "7123d51b",
   "metadata": {
    "ein.tags": "worksheet-0",
    "slideshow": {
     "slide_type": "-"
    }
   },
   "source": [
    "La función `np.tile(A, reps)` permite crear un array repitiendo el patrón `A` las veces indicada por `reps` a lo largo de cada eje"
   ]
  },
  {
   "cell_type": "code",
   "execution_count": null,
   "id": "e315f7cc",
   "metadata": {
    "autoscroll": false,
    "ein.hycell": false,
    "ein.tags": "worksheet-0",
    "slideshow": {
     "slide_type": "-"
    }
   },
   "outputs": [],
   "source": [
    "a = np.arange(1,6,2)\n",
    "a"
   ]
  },
  {
   "cell_type": "code",
   "execution_count": null,
   "id": "fcc24be0",
   "metadata": {
    "autoscroll": false,
    "ein.hycell": false,
    "ein.tags": "worksheet-0",
    "slideshow": {
     "slide_type": "-"
    }
   },
   "outputs": [],
   "source": [
    "np.tile(a, 2)"
   ]
  },
  {
   "cell_type": "code",
   "execution_count": null,
   "id": "c959562f",
   "metadata": {
    "autoscroll": false,
    "ein.hycell": false,
    "ein.tags": "worksheet-0",
    "slideshow": {
     "slide_type": "-"
    }
   },
   "outputs": [],
   "source": [
    "a1=np.tile(a, (1,2))"
   ]
  },
  {
   "cell_type": "code",
   "execution_count": null,
   "id": "ff524768",
   "metadata": {
    "autoscroll": false,
    "ein.hycell": false,
    "ein.tags": "worksheet-0",
    "slideshow": {
     "slide_type": "-"
    }
   },
   "outputs": [],
   "source": [
    "a1.shape"
   ]
  },
  {
   "cell_type": "code",
   "execution_count": null,
   "id": "f51e2bc6",
   "metadata": {
    "autoscroll": false,
    "ein.hycell": false,
    "ein.tags": "worksheet-0",
    "slideshow": {
     "slide_type": "-"
    }
   },
   "outputs": [],
   "source": [
    "a1"
   ]
  },
  {
   "cell_type": "code",
   "execution_count": null,
   "id": "611bbc1d",
   "metadata": {
    "autoscroll": false,
    "ein.hycell": false,
    "ein.tags": "worksheet-0",
    "slideshow": {
     "slide_type": "-"
    }
   },
   "outputs": [],
   "source": [
    "b = [[1,2],[3,4]]"
   ]
  },
  {
   "cell_type": "code",
   "execution_count": null,
   "id": "68444fbc",
   "metadata": {
    "autoscroll": false,
    "ein.hycell": false,
    "ein.tags": "worksheet-0",
    "slideshow": {
     "slide_type": "-"
    }
   },
   "outputs": [],
   "source": [
    "print(b)"
   ]
  },
  {
   "cell_type": "code",
   "execution_count": null,
   "id": "06b4eb36",
   "metadata": {
    "autoscroll": false,
    "ein.hycell": false,
    "ein.tags": "worksheet-0",
    "slideshow": {
     "slide_type": "-"
    }
   },
   "outputs": [],
   "source": [
    "np.tile(b,(1,2))"
   ]
  },
  {
   "cell_type": "code",
   "execution_count": null,
   "id": "0c288e04",
   "metadata": {
    "autoscroll": false,
    "ein.hycell": false,
    "ein.tags": "worksheet-0",
    "slideshow": {
     "slide_type": "-"
    }
   },
   "outputs": [],
   "source": [
    "np.tile(b, (2,1))"
   ]
  },
  {
   "cell_type": "markdown",
   "id": "9e78e92d",
   "metadata": {
    "ein.tags": "worksheet-0",
    "slideshow": {
     "slide_type": "-"
    }
   },
   "source": [
    "En general, el argumento `reps = (nrows, ncols)` indica el número de repeticiones en filas (hacia abajo) y columnas (hacia la derecha), creando nuevas dimensiones si es necesario"
   ]
  },
  {
   "cell_type": "code",
   "execution_count": null,
   "id": "104dde7b",
   "metadata": {
    "autoscroll": false,
    "ein.hycell": false,
    "ein.tags": "worksheet-0",
    "slideshow": {
     "slide_type": "-"
    }
   },
   "outputs": [],
   "source": [
    "a"
   ]
  },
  {
   "cell_type": "code",
   "execution_count": null,
   "id": "7e4877a8",
   "metadata": {
    "autoscroll": false,
    "ein.hycell": false,
    "ein.tags": "worksheet-0",
    "slideshow": {
     "slide_type": "-"
    }
   },
   "outputs": [],
   "source": [
    "np.tile(a, (3,2))"
   ]
  },
  {
   "cell_type": "markdown",
   "id": "9ca36ba9",
   "metadata": {
    "ein.tags": "worksheet-0",
    "slideshow": {
     "slide_type": "-"
    }
   },
   "source": [
    "### Funciones que actúan sobre arrays\n",
    "\n",
    "Numpy incluye muchas funciones matemáticas que actúan sobre arrays completos (de una o más dimensiones). La lista completa se encuentra en la [documentación](http://docs.scipy.org/doc/numpy/reference/ufuncs.html#available-ufuncs) e incluye:"
   ]
  },
  {
   "cell_type": "code",
   "execution_count": null,
   "id": "0c08b2bf",
   "metadata": {
    "autoscroll": false,
    "ein.hycell": false,
    "ein.tags": "worksheet-0",
    "slideshow": {
     "slide_type": "-"
    }
   },
   "outputs": [],
   "source": [
    "x = np.linspace(np.pi/180, np.pi,7)\n",
    "y = np.geomspace(10,100,7)"
   ]
  },
  {
   "cell_type": "code",
   "execution_count": null,
   "id": "52855660",
   "metadata": {
    "autoscroll": false,
    "ein.hycell": false,
    "ein.tags": "worksheet-0",
    "slideshow": {
     "slide_type": "-"
    }
   },
   "outputs": [],
   "source": [
    "print(x)\n",
    "print(y)\n",
    "print(x+y)                      # Suma elemento a elemento\n",
    "print(x*y)                      # Multiplicación elemento a elemento\n",
    "print(y/x)                      # División elemento a elemento\n",
    "print(x//2)                     # División entera elemento a elemento"
   ]
  },
  {
   "cell_type": "code",
   "execution_count": null,
   "id": "71f5d51b",
   "metadata": {
    "autoscroll": false,
    "ein.hycell": false,
    "ein.tags": "worksheet-0",
    "slideshow": {
     "slide_type": "-"
    }
   },
   "outputs": [],
   "source": [
    "print('x =', x)\n",
    "print('square\\n', x**2)              # potencias\n",
    "print('sin\\n',np.sin(x))             # Seno (np.cos, np.tan)\n",
    "print(\"tanh\\n\",np.tanh(x))           # tang hiperb (np.sinh, np.cosh)\n",
    "print('exp\\n', np.exp(-x))           # exponenciales\n",
    "print('log\\n', np.log(x))            # logaritmo en base e (np.log10)\n",
    "print('abs\\n',np.absolute(x))        # Valor absoluto\n",
    "print('resto\\n', np.remainder(x,2))  # Resto"
   ]
  },
  {
   "cell_type": "markdown",
   "id": "8100bceb",
   "metadata": {
    "ein.tags": "worksheet-0",
    "slideshow": {
     "slide_type": "-"
    }
   },
   "source": [
    "### Productos entre arrays y productos vectoriales"
   ]
  },
  {
   "cell_type": "code",
   "execution_count": null,
   "id": "86504223",
   "metadata": {
    "autoscroll": false,
    "ein.hycell": false,
    "ein.tags": "worksheet-0",
    "slideshow": {
     "slide_type": "-"
    }
   },
   "outputs": [],
   "source": [
    "# Creamos arrays unidimensionales (vectores) y bidimensionales (matrices)\n",
    "v1 = np.array([2, 3, 4])\n",
    "v2 = np.array([1, 1, 1])\n",
    "A = np.arange(1,13,2).reshape(2, 3)\n",
    "B = np.linspace(0.5,11.5,12).reshape(3, 4)"
   ]
  },
  {
   "cell_type": "code",
   "execution_count": null,
   "id": "badfd985",
   "metadata": {
    "autoscroll": false,
    "ein.hycell": false,
    "ein.tags": "worksheet-0",
    "slideshow": {
     "slide_type": "-"
    }
   },
   "outputs": [],
   "source": [
    "print(A)"
   ]
  },
  {
   "cell_type": "code",
   "execution_count": null,
   "id": "861d8232",
   "metadata": {
    "autoscroll": false,
    "ein.hycell": false,
    "ein.tags": "worksheet-0",
    "slideshow": {
     "slide_type": "-"
    }
   },
   "outputs": [],
   "source": [
    "print(B)"
   ]
  },
  {
   "cell_type": "code",
   "execution_count": null,
   "id": "d2f5e5c2",
   "metadata": {
    "autoscroll": false,
    "ein.hycell": false,
    "ein.tags": "worksheet-0",
    "slideshow": {
     "slide_type": "-"
    }
   },
   "outputs": [],
   "source": [
    "print(v1*v2)"
   ]
  },
  {
   "cell_type": "code",
   "execution_count": null,
   "id": "bd7143c4",
   "metadata": {
    "autoscroll": false,
    "ein.hycell": false,
    "ein.tags": "worksheet-0",
    "slideshow": {
     "slide_type": "-"
    }
   },
   "outputs": [],
   "source": [
    "print(A*v1)"
   ]
  },
  {
   "cell_type": "markdown",
   "id": "f6ba2941",
   "metadata": {
    "ein.tags": "worksheet-0",
    "slideshow": {
     "slide_type": "-"
    }
   },
   "source": [
    "Los productos se realizan \"elemento a elemento\", si queremos obtener \"productos internos\" o productos entre matrices (o matrices y vectores)"
   ]
  },
  {
   "cell_type": "code",
   "execution_count": null,
   "id": "4683df8c",
   "metadata": {
    "autoscroll": false,
    "ein.hycell": false,
    "ein.tags": "worksheet-0",
    "slideshow": {
     "slide_type": "-"
    }
   },
   "outputs": [],
   "source": [
    "print(v1, '.', v2, '=', np.dot(v1, v2))"
   ]
  },
  {
   "cell_type": "code",
   "execution_count": null,
   "id": "03e696d4",
   "metadata": {
    "autoscroll": false,
    "ein.hycell": false,
    "ein.tags": "worksheet-0",
    "slideshow": {
     "slide_type": "-"
    }
   },
   "outputs": [],
   "source": [
    "print( A, 'x', v1, '=', np.dot(A, v1))\n"
   ]
  },
  {
   "cell_type": "code",
   "execution_count": null,
   "id": "ea06c83f",
   "metadata": {
    "autoscroll": false,
    "ein.hycell": false,
    "ein.tags": "worksheet-0",
    "slideshow": {
     "slide_type": "-"
    }
   },
   "outputs": [],
   "source": [
    "print(A.shape, B.shape)"
   ]
  },
  {
   "cell_type": "code",
   "execution_count": null,
   "id": "65c1e92a",
   "metadata": {
    "autoscroll": false,
    "ein.hycell": false,
    "ein.tags": "worksheet-0",
    "slideshow": {
     "slide_type": "-"
    }
   },
   "outputs": [],
   "source": [
    "print( 'A x B = \\n',np.dot(A, B) )"
   ]
  },
  {
   "cell_type": "code",
   "execution_count": null,
   "id": "d4228d62",
   "metadata": {
    "autoscroll": false,
    "ein.hycell": false,
    "ein.tags": "worksheet-0",
    "slideshow": {
     "slide_type": "-"
    }
   },
   "outputs": [],
   "source": [
    "print( 'B^t x A^t =\\n ',np.dot(B.T, A.T))"
   ]
  },
  {
   "cell_type": "markdown",
   "id": "baed6a49",
   "metadata": {
    "ein.tags": "worksheet-0",
    "slideshow": {
     "slide_type": "-"
    }
   },
   "source": [
    "Además, el módulo numpy.linalg incluye otras funcionalidades como determinantes, normas, determinación de autovalores y autovectores, descomposiciones, etc."
   ]
  },
  {
   "cell_type": "markdown",
   "id": "acccf18c",
   "metadata": {
    "ein.tags": "worksheet-0",
    "slideshow": {
     "slide_type": "-"
    }
   },
   "source": [
    "### Comparaciones entre arrays\n",
    "\n",
    "La comparación, como las operaciones y aplicación de funciones se realiza \"elemento a elemento\".\n",
    "\n",
    "|Funciones                                           |  Operadores    |\n",
    "|:---------------------------------------------------|:--------------:|\n",
    "|greater(x1, x2, /[, out, where, casting, ...])      |    (x1 > x2)   |\n",
    "|greater_equal(x1, x2, /[, out, where, ...]) \t     |    (x1 >= x2)  |\n",
    "|less(x1, x2, /[, out, where, casting, ...]) \t     |    (x1 < x2)   |\n",
    "|less_equal(x1, x2, /[, out, where, casting, ...])   |    (x1 =< x2)  |\n",
    "|not_equal(x1, x2, /[, out, where, casting, ...])    |    (x1 != x2)  |\n",
    "|equal(x1, x2, /[, out, where, casting, ...]) \t     |    (x1 == x2)  |\n"
   ]
  },
  {
   "cell_type": "code",
   "execution_count": null,
   "id": "f99a5a43",
   "metadata": {
    "autoscroll": false,
    "ein.hycell": false,
    "ein.tags": "worksheet-0",
    "slideshow": {
     "slide_type": "-"
    }
   },
   "outputs": [],
   "source": [
    "z = np.array((-1,3,4,0.5,2,9,0.7))"
   ]
  },
  {
   "cell_type": "code",
   "execution_count": null,
   "id": "89df3e70",
   "metadata": {
    "autoscroll": false,
    "ein.hycell": false,
    "ein.tags": "worksheet-0",
    "slideshow": {
     "slide_type": "-"
    }
   },
   "outputs": [],
   "source": [
    "print(x)\n",
    "print(y)\n",
    "print(z)"
   ]
  },
  {
   "cell_type": "code",
   "execution_count": null,
   "id": "439593e0",
   "metadata": {
    "autoscroll": false,
    "ein.hycell": false,
    "ein.tags": "worksheet-0",
    "slideshow": {
     "slide_type": "-"
    }
   },
   "outputs": [],
   "source": [
    "c1 = x <= z\n",
    "c2 = np.less_equal(z,y)\n",
    "c3 = np.less_equal(x,y)\n",
    "print(c1)\n",
    "print(c2)\n",
    "print(c3)\n"
   ]
  },
  {
   "cell_type": "code",
   "execution_count": null,
   "id": "b52d6ef6",
   "metadata": {
    "autoscroll": false,
    "ein.hycell": false,
    "ein.tags": "worksheet-0",
    "slideshow": {
     "slide_type": "-"
    }
   },
   "outputs": [],
   "source": [
    "c1                              # Veamos que tipo de array es:"
   ]
  },
  {
   "cell_type": "code",
   "execution_count": null,
   "id": "1766fe12",
   "metadata": {
    "autoscroll": false,
    "ein.hycell": false,
    "ein.tags": "worksheet-0",
    "slideshow": {
     "slide_type": "-"
    }
   },
   "outputs": [],
   "source": [
    "np.sum(c1), np.sum(c2), c3.sum()"
   ]
  },
  {
   "cell_type": "markdown",
   "id": "04a66d1a",
   "metadata": {
    "ein.tags": "worksheet-0",
    "slideshow": {
     "slide_type": "-"
    }
   },
   "source": [
    "Como vemos, las comparaciones nos dan un vector de variables lógicas.\n",
    "Cuando queremos combinar condiciones no funciona usar las palabras `and` y `or` de *Python* porque estaríamos comparando los dos elementos (arrays completos)."
   ]
  },
  {
   "cell_type": "code",
   "execution_count": null,
   "id": "b9f2d4ca",
   "metadata": {
    "autoscroll": false,
    "ein.hycell": false,
    "ein.tags": "worksheet-0",
    "slideshow": {
     "slide_type": "-"
    }
   },
   "outputs": [],
   "source": [
    "print(np.logical_and(c1, c2))\n",
    "print(c1 & c2)\n",
    "print(np.logical_and(c2, c3))\n",
    "print(c2 & c3)"
   ]
  },
  {
   "cell_type": "code",
   "execution_count": null,
   "id": "d77bccd7",
   "metadata": {
    "autoscroll": false,
    "ein.hycell": false,
    "ein.tags": "worksheet-0",
    "slideshow": {
     "slide_type": "-"
    }
   },
   "outputs": [],
   "source": [
    "print(np.logical_or(c1, c2))\n",
    "print(c1 | c2)\n",
    "print(np.logical_or(c2, c3))\n",
    "print(c2 | c3)"
   ]
  },
  {
   "cell_type": "code",
   "execution_count": null,
   "id": "fa04e9c0",
   "metadata": {
    "autoscroll": false,
    "ein.hycell": false,
    "ein.tags": "worksheet-0",
    "slideshow": {
     "slide_type": "-"
    }
   },
   "outputs": [],
   "source": [
    "print(np.logical_xor(c1, c2))\n",
    "print(np.logical_xor(c2, c3))"
   ]
  },
  {
   "cell_type": "markdown",
   "id": "b5000f16",
   "metadata": {
    "ein.tags": "worksheet-0",
    "slideshow": {
     "slide_type": "-"
    }
   },
   "source": [
    "## Atributos de *arrays*\n",
    "\n",
    "Los array tienen otras propiedades, que pueden explorarse apretando `<TAB>` en una terminal o notebook de **IPython** o leyendo la documentación de [Numpy](http://docs.scipy.org/doc/numpy/user), o utilizando la función `dir(arr)` (donde `arr` es una variable del tipo array) o `dir(np.ndarray)`.\n",
    "\n",
    "En la tabla se muestra una lista de los atributos de los numpy array \n",
    "\n",
    "![](figuras/array_atr.png)\n",
    "\n",
    "\n",
    "Exploremos algunas de ellas\n",
    "\n",
    "### reshape"
   ]
  },
  {
   "cell_type": "code",
   "execution_count": null,
   "id": "c3f9edac",
   "metadata": {
    "autoscroll": false,
    "ein.hycell": false,
    "ein.tags": "worksheet-0",
    "slideshow": {
     "slide_type": "-"
    }
   },
   "outputs": [],
   "source": [
    "arr= np.arange(12)                         # Vector\n",
    "print(\"Vector original:\\n\", arr)\n",
    "arr2= arr.reshape((3,4))                   # Le cambiamos la forma a matriz de 3x4\n",
    "print(\"Cambiando la forma a 3x4:\\n\", arr2)\n",
    "arr3= np.reshape(arr,(4,3))                # Le cambiamos la forma a matriz de 4x3\n",
    "print(\"Cambiando la forma a 4x3:\\n\", arr3)"
   ]
  },
  {
   "cell_type": "code",
   "execution_count": null,
   "id": "2edff98e",
   "metadata": {
    "autoscroll": false,
    "ein.hycell": false,
    "ein.tags": "worksheet-0",
    "slideshow": {
     "slide_type": "-"
    }
   },
   "outputs": [],
   "source": [
    "arr2[0,0] = 5\n",
    "arr2[2,1] = -9"
   ]
  },
  {
   "cell_type": "code",
   "execution_count": null,
   "id": "840b9f2e",
   "metadata": {
    "autoscroll": false,
    "ein.hycell": false,
    "ein.tags": "worksheet-0",
    "slideshow": {
     "slide_type": "-"
    }
   },
   "outputs": [],
   "source": [
    "print(arr2)"
   ]
  },
  {
   "cell_type": "code",
   "execution_count": null,
   "id": "03ce4ec5",
   "metadata": {
    "autoscroll": false,
    "ein.hycell": false,
    "ein.tags": "worksheet-0",
    "slideshow": {
     "slide_type": "-"
    }
   },
   "outputs": [],
   "source": [
    "print(arr)"
   ]
  },
  {
   "cell_type": "code",
   "execution_count": null,
   "id": "95e915b4",
   "metadata": {
    "autoscroll": false,
    "ein.hycell": false,
    "ein.tags": "worksheet-0",
    "slideshow": {
     "slide_type": "-"
    }
   },
   "outputs": [],
   "source": [
    "print(arr3)"
   ]
  },
  {
   "cell_type": "code",
   "execution_count": null,
   "id": "0e8509c4",
   "metadata": {},
   "outputs": [],
   "source": [
    "try:\n",
    "    arr.reshape((3,3))   # Si la nueva forma no es adecuada, falla\n",
    "except ValueError as e:\n",
    "    print(\"Error: la nueva forma es incompatible:\", e)"
   ]
  },
  {
   "cell_type": "markdown",
   "id": "e4eb63b9",
   "metadata": {
    "ein.tags": "worksheet-0",
    "slideshow": {
     "slide_type": "-"
    }
   },
   "source": [
    "### transpose"
   ]
  },
  {
   "cell_type": "code",
   "execution_count": null,
   "id": "b7aaced6",
   "metadata": {
    "autoscroll": false,
    "ein.hycell": false,
    "ein.tags": "worksheet-0",
    "slideshow": {
     "slide_type": "-"
    }
   },
   "outputs": [],
   "source": [
    "print('Transpose:\\n', arr2.T)\n",
    "print('Transpose:\\n', np.transpose(arr2))"
   ]
  },
  {
   "cell_type": "markdown",
   "id": "8b9bbf80",
   "metadata": {
    "ein.tags": "worksheet-0",
    "slideshow": {
     "slide_type": "-"
    }
   },
   "source": [
    "### min, max\n",
    "\n",
    "Las funciones para encontrar mínimo y máximo pueden aplicarse tanto a vectores como a arrays` con más dimensiones. En este último caso puede elegirse si se trabaja sobre uno de los ejes:"
   ]
  },
  {
   "cell_type": "code",
   "execution_count": null,
   "id": "cf14ebf8",
   "metadata": {
    "autoscroll": false,
    "ein.hycell": false,
    "ein.tags": "worksheet-0",
    "slideshow": {
     "slide_type": "-"
    }
   },
   "outputs": [],
   "source": [
    "print(arr2)\n",
    "print(np.max(arr2))\n",
    "print(np.max(arr2,axis=0))\n",
    "print(np.max(arr2,axis=1))\n"
   ]
  },
  {
   "cell_type": "code",
   "execution_count": null,
   "id": "a16a49d9",
   "metadata": {},
   "outputs": [],
   "source": [
    "np.max(arr2[1,:])"
   ]
  },
  {
   "cell_type": "markdown",
   "id": "1db87fe2",
   "metadata": {
    "ein.tags": "worksheet-0",
    "slideshow": {
     "slide_type": "-"
    }
   },
   "source": [
    "El primer eje `(axis=0)` corresponde a las columnas (convención del lenguaje `C`), y por lo tanto dará un valor por cada columna.\n",
    "\n",
    "Si no damos el argumento opcional `axis` ambas funciones nos darán el mínimo o máximo de todos los elementos. Si le damos un eje nos devolverá el mínimo a lo largo de ese eje. "
   ]
  },
  {
   "cell_type": "markdown",
   "id": "bb5d78b3",
   "metadata": {
    "ein.tags": "worksheet-0",
    "slideshow": {
     "slide_type": "-"
    }
   },
   "source": [
    "### argmin, argmax\n",
    "\n",
    "Estas funciones trabajan de la misma manera que `min` y `max` pero devuelve los índices en lugar de los valores."
   ]
  },
  {
   "cell_type": "code",
   "execution_count": null,
   "id": "b6319ae1",
   "metadata": {
    "autoscroll": false,
    "ein.hycell": false,
    "ein.tags": "worksheet-0",
    "slideshow": {
     "slide_type": "-"
    }
   },
   "outputs": [],
   "source": [
    "print(np.argmax(arr2))\n",
    "print(np.argmax(arr2,axis=0))\n",
    "print(np.argmax(arr2,axis=1))\n"
   ]
  },
  {
   "cell_type": "markdown",
   "id": "e6fbe896",
   "metadata": {
    "ein.tags": "worksheet-0",
    "slideshow": {
     "slide_type": "-"
    }
   },
   "source": [
    "### sum, prod, mean, std\n",
    "\n"
   ]
  },
  {
   "cell_type": "code",
   "execution_count": null,
   "id": "6229c89b",
   "metadata": {
    "autoscroll": false,
    "ein.hycell": false,
    "ein.tags": "worksheet-0",
    "slideshow": {
     "slide_type": "-"
    }
   },
   "outputs": [],
   "source": [
    "print(arr2)\n",
    "print('sum', np.sum(arr2))\n",
    "print('sum, 0', np.sum(arr2,axis=0))\n",
    "print('sum, 1', np.sum(arr2,axis=1))\n"
   ]
  },
  {
   "cell_type": "code",
   "execution_count": null,
   "id": "0534a381",
   "metadata": {
    "autoscroll": false,
    "ein.hycell": false,
    "ein.tags": "worksheet-0",
    "slideshow": {
     "slide_type": "-"
    }
   },
   "outputs": [],
   "source": [
    "print(np.prod(arr2))\n",
    "print(np.prod(arr2,axis=0))\n",
    "print(np.prod(arr2,axis=1))"
   ]
  },
  {
   "cell_type": "code",
   "execution_count": null,
   "id": "02202ce2",
   "metadata": {
    "autoscroll": false,
    "ein.hycell": false,
    "ein.tags": "worksheet-0",
    "slideshow": {
     "slide_type": "-"
    }
   },
   "outputs": [],
   "source": [
    "print(arr2.mean(), '=', arr2.sum()/arr2.size)\n",
    "print(np.mean(arr2,axis=0))\n",
    "print(np.mean(arr2,axis=1))\n",
    "print(np.std(arr2))\n",
    "print(np.std(arr2,axis=1))\n"
   ]
  },
  {
   "cell_type": "markdown",
   "id": "c7cd719f",
   "metadata": {
    "ein.tags": "worksheet-0",
    "slideshow": {
     "slide_type": "-"
    }
   },
   "source": [
    "### cumsum, cumprod, trapz"
   ]
  },
  {
   "cell_type": "markdown",
   "id": "6eb7ac48",
   "metadata": {
    "ein.tags": "worksheet-0",
    "slideshow": {
     "slide_type": "-"
    }
   },
   "source": [
    "Las funciones `cumsum` y `cumprod` devuelven la suma y producto acumulativo recorriendo el array, opcionalmente a lo largo de un eje"
   ]
  },
  {
   "cell_type": "code",
   "execution_count": null,
   "id": "00db7602",
   "metadata": {
    "autoscroll": false,
    "ein.hycell": false,
    "ein.tags": "worksheet-0",
    "slideshow": {
     "slide_type": "-"
    }
   },
   "outputs": [],
   "source": [
    "print(arr2)"
   ]
  },
  {
   "cell_type": "code",
   "execution_count": null,
   "id": "0f343701",
   "metadata": {
    "autoscroll": false,
    "ein.hycell": false,
    "ein.tags": "worksheet-0",
    "slideshow": {
     "slide_type": "-"
    }
   },
   "outputs": [],
   "source": [
    "# Suma todos los elementos anteriores y devuelve el array unidimensional\n",
    "print(arr2.cumsum())"
   ]
  },
  {
   "cell_type": "code",
   "execution_count": null,
   "id": "5bb1ea16",
   "metadata": {
    "autoscroll": false,
    "ein.hycell": false,
    "ein.tags": "worksheet-0",
    "slideshow": {
     "slide_type": "-"
    }
   },
   "outputs": [],
   "source": [
    "# Para cada columna, en cada posición suma los elementos anteriores\n",
    "print(arr2.cumsum(axis=0))"
   ]
  },
  {
   "cell_type": "code",
   "execution_count": null,
   "id": "bf89fb67",
   "metadata": {
    "autoscroll": false,
    "ein.hycell": false,
    "ein.tags": "worksheet-0",
    "slideshow": {
     "slide_type": "-"
    }
   },
   "outputs": [],
   "source": [
    "# En cada fila, el valor es la suma de todos los elementos anteriores de la fila\n",
    "print(arr2.cumsum(axis=1))"
   ]
  },
  {
   "cell_type": "code",
   "execution_count": null,
   "id": "0aadaaa4",
   "metadata": {
    "autoscroll": false,
    "ein.hycell": false,
    "ein.tags": "worksheet-0",
    "slideshow": {
     "slide_type": "-"
    }
   },
   "outputs": [],
   "source": [
    "# Igual que antes pero con el producto\n",
    "print(arr2.cumprod(axis=0))"
   ]
  },
  {
   "cell_type": "markdown",
   "id": "c0236498",
   "metadata": {
    "ein.tags": "worksheet-0",
    "slideshow": {
     "slide_type": "-"
    }
   },
   "source": [
    "La función trapz evalúa la integral a lo largo de un eje, usando la regla de los trapecios (la misma que nosotros programamos en un ejercicio)"
   ]
  },
  {
   "cell_type": "code",
   "execution_count": null,
   "id": "b22e01de",
   "metadata": {
    "autoscroll": false,
    "ein.hycell": false,
    "ein.tags": "worksheet-0",
    "slideshow": {
     "slide_type": "-"
    }
   },
   "outputs": [],
   "source": [
    "print(np.trapz(arr2,axis=0))\n",
    "print(np.trapz(arr2,axis=1))"
   ]
  },
  {
   "cell_type": "code",
   "execution_count": null,
   "id": "4311de92",
   "metadata": {
    "autoscroll": false,
    "ein.hycell": false,
    "ein.tags": "worksheet-0",
    "slideshow": {
     "slide_type": "-"
    }
   },
   "outputs": [],
   "source": [
    "# el valor por default de axis es -1\n",
    "print(np.trapz(arr2))"
   ]
  },
  {
   "cell_type": "markdown",
   "id": "b36ce9a5",
   "metadata": {
    "ein.tags": "worksheet-0",
    "slideshow": {
     "slide_type": "-"
    }
   },
   "source": [
    "### nonzero\n",
    "\n",
    "Devuelve una *tupla* de arrays, una por dimensión, que contiene los índices de los elementos no nulos"
   ]
  },
  {
   "cell_type": "code",
   "execution_count": null,
   "id": "a278ef42",
   "metadata": {
    "autoscroll": false,
    "ein.hycell": false,
    "ein.tags": "worksheet-0",
    "slideshow": {
     "slide_type": "-"
    }
   },
   "outputs": [],
   "source": [
    "# El método copy() crea un nuevo array con los mismos valores que el original\n",
    "arr4 = arr2.copy()\n",
    "arr4[1,:2] = arr4[2,2:] = 0\n",
    "arr4"
   ]
  },
  {
   "cell_type": "code",
   "execution_count": null,
   "id": "f5de502a",
   "metadata": {
    "autoscroll": false,
    "ein.hycell": false,
    "ein.tags": "worksheet-0",
    "slideshow": {
     "slide_type": "-"
    }
   },
   "outputs": [],
   "source": [
    "# Vemos que arr2 no se modifica al modificar arr4.\n",
    "arr2"
   ]
  },
  {
   "cell_type": "code",
   "execution_count": null,
   "id": "7d26ef63",
   "metadata": {
    "autoscroll": false,
    "ein.hycell": false,
    "ein.tags": "worksheet-0",
    "slideshow": {
     "slide_type": "-"
    }
   },
   "outputs": [],
   "source": [
    "np.nonzero(arr4)"
   ]
  },
  {
   "cell_type": "code",
   "execution_count": null,
   "id": "95db4d6b",
   "metadata": {
    "autoscroll": false,
    "ein.hycell": false,
    "ein.tags": "worksheet-0",
    "slideshow": {
     "slide_type": "-"
    }
   },
   "outputs": [],
   "source": [
    "np.transpose(arr4.nonzero())"
   ]
  },
  {
   "cell_type": "code",
   "execution_count": null,
   "id": "a449cd3a",
   "metadata": {
    "autoscroll": false,
    "ein.hycell": false,
    "ein.tags": "worksheet-0",
    "slideshow": {
     "slide_type": "-"
    }
   },
   "outputs": [],
   "source": [
    "arr4[arr4.nonzero()]"
   ]
  },
  {
   "cell_type": "markdown",
   "id": "f413dba5",
   "metadata": {
    "ein.tags": "worksheet-0",
    "slideshow": {
     "slide_type": "-"
    }
   },
   "source": [
    "## Conveniencias con arrays\n",
    "\n",
    "### Convertir un array a unidimensional (ravel)\n"
   ]
  },
  {
   "cell_type": "code",
   "execution_count": null,
   "id": "781cbf00",
   "metadata": {
    "autoscroll": false,
    "ein.hycell": false,
    "ein.tags": "worksheet-0",
    "slideshow": {
     "slide_type": "-"
    }
   },
   "outputs": [],
   "source": [
    "a = np.array([[1,2],[3,4]])"
   ]
  },
  {
   "cell_type": "code",
   "execution_count": null,
   "id": "a921abfc",
   "metadata": {
    "autoscroll": false,
    "ein.hycell": false,
    "ein.tags": "worksheet-0",
    "slideshow": {
     "slide_type": "-"
    }
   },
   "outputs": [],
   "source": [
    "print(a)"
   ]
  },
  {
   "cell_type": "code",
   "execution_count": null,
   "id": "35494e78",
   "metadata": {
    "autoscroll": false,
    "ein.hycell": false,
    "ein.tags": "worksheet-0",
    "slideshow": {
     "slide_type": "-"
    }
   },
   "outputs": [],
   "source": [
    "b= np.ravel(a)"
   ]
  },
  {
   "cell_type": "code",
   "execution_count": null,
   "id": "acff591a",
   "metadata": {
    "autoscroll": false,
    "ein.hycell": false,
    "ein.tags": "worksheet-0",
    "slideshow": {
     "slide_type": "-"
    }
   },
   "outputs": [],
   "source": [
    "print(a.shape, b.shape)\n",
    "print(b)"
   ]
  },
  {
   "cell_type": "code",
   "execution_count": null,
   "id": "fcfa6bee",
   "metadata": {
    "autoscroll": false,
    "ein.hycell": false,
    "ein.tags": "worksheet-0",
    "slideshow": {
     "slide_type": "-"
    }
   },
   "outputs": [],
   "source": [
    "b.base  is a"
   ]
  },
  {
   "cell_type": "markdown",
   "id": "04b2c333",
   "metadata": {
    "ein.tags": "worksheet-0",
    "slideshow": {
     "slide_type": "-"
    }
   },
   "source": [
    "`ravel` tiene un argumento opcional 'order'"
   ]
  },
  {
   "cell_type": "code",
   "execution_count": null,
   "id": "d9ac8eb6",
   "metadata": {
    "autoscroll": false,
    "ein.hycell": false,
    "ein.tags": "worksheet-0",
    "slideshow": {
     "slide_type": "-"
    }
   },
   "outputs": [],
   "source": [
    "np.ravel(a, order='C')          # order='C' es el default "
   ]
  },
  {
   "cell_type": "code",
   "execution_count": null,
   "id": "deb034bc",
   "metadata": {
    "autoscroll": false,
    "ein.hycell": false,
    "ein.tags": "worksheet-0",
    "slideshow": {
     "slide_type": "-"
    }
   },
   "outputs": [],
   "source": [
    "np.ravel(a, order='F')"
   ]
  },
  {
   "cell_type": "markdown",
   "id": "940a98ad",
   "metadata": {
    "ein.tags": "worksheet-0",
    "slideshow": {
     "slide_type": "-"
    }
   },
   "source": [
    "El método `flatten` hace algo muy parecido a `ravel`, la diferencia es que `flatten` siempre crea una nueva copia del array, mientras que `ravel` puede devolver una nueva vista del mismo array."
   ]
  },
  {
   "cell_type": "code",
   "execution_count": null,
   "id": "4362b5e5",
   "metadata": {
    "autoscroll": false,
    "ein.hycell": false,
    "ein.tags": "worksheet-0",
    "slideshow": {
     "slide_type": "-"
    }
   },
   "outputs": [],
   "source": [
    "a.flatten()"
   ]
  },
  {
   "cell_type": "markdown",
   "id": "da4777d2",
   "metadata": {},
   "source": [
    "### Enumerate para `ndarrays`\n",
    "\n",
    "Para iterables en **Python** existe la función enumerate que devuelve una tupla con el índice y el valor. En **Numpy** existe un iterador multidimensional llamado `ndenumerate()`"
   ]
  },
  {
   "cell_type": "code",
   "execution_count": null,
   "id": "1c2a61a6",
   "metadata": {},
   "outputs": [],
   "source": [
    "print(arr2)"
   ]
  },
  {
   "cell_type": "code",
   "execution_count": null,
   "id": "21a0f4f8",
   "metadata": {},
   "outputs": [],
   "source": [
    "for (i,j), x in np.ndenumerate(arr2):\n",
    "  print(f'x[{i},{j}]-> {x}')"
   ]
  },
  {
   "cell_type": "markdown",
   "id": "2a8ba4d2",
   "metadata": {},
   "source": [
    "\n",
    "### Vectorización de funciones escalares\n",
    "\n",
    "Si bien en **Numpy** las funciones están vectorizadas, hay ocasiones en que las funciones son el resultado de una simulación, optimización, integración u otro cálculo complejo, y si bien la paralelización puede ser trivial, el cálculo debe ser realizado para cada valor de algún parámetro y no puede ser realizado directamente con un vector. Para ello existe la función `vectorize()`. Veamos un ejemplo, calculando la función *coseno()* como la integral del *seno()*"
   ]
  },
  {
   "cell_type": "code",
   "execution_count": null,
   "id": "14738a2a",
   "metadata": {},
   "outputs": [],
   "source": [
    "def my_trapz(f, a, b):\n",
    "  x = np.linspace(a,b,100)\n",
    "  y = f(x)\n",
    "  return ((y[1:]+y[:-1])*(x[1:]-x[:-1])).sum()/2"
   ]
  },
  {
   "cell_type": "code",
   "execution_count": null,
   "id": "22bd37ee",
   "metadata": {},
   "outputs": [],
   "source": [
    "def mi_cos(t):\n",
    "  return 1-my_trapz(np.sin, 0, t)"
   ]
  },
  {
   "cell_type": "code",
   "execution_count": null,
   "id": "f2affcad",
   "metadata": {},
   "outputs": [],
   "source": [
    "mi_cos(np.pi/4)"
   ]
  },
  {
   "cell_type": "markdown",
   "id": "74108585",
   "metadata": {},
   "source": [
    "que se compara bastante bien con el valor esperado del coseno:"
   ]
  },
  {
   "cell_type": "code",
   "execution_count": null,
   "id": "ca5ad6ec",
   "metadata": {},
   "outputs": [],
   "source": [
    "np.cos(np.pi/4)"
   ]
  },
  {
   "cell_type": "markdown",
   "id": "f05ca27b",
   "metadata": {},
   "source": [
    "Para calcular sobre un conjunto de datos:"
   ]
  },
  {
   "cell_type": "code",
   "execution_count": null,
   "id": "340cc557",
   "metadata": {},
   "outputs": [],
   "source": [
    "x = np.linspace(0,np.pi,30)"
   ]
  },
  {
   "cell_type": "code",
   "execution_count": null,
   "id": "84205bef",
   "metadata": {},
   "outputs": [],
   "source": [
    "print(mi_cos(x))"
   ]
  },
  {
   "cell_type": "markdown",
   "id": "bab7b673",
   "metadata": {},
   "source": [
    "Obtuvimos un valor único que claramente no puede ser el coseno de ningún ángulo. Si calculamos el coseno con el mismo argumento (vectorial) obtenemos un vector de valores como se espera:"
   ]
  },
  {
   "cell_type": "code",
   "execution_count": null,
   "id": "08d27a86",
   "metadata": {},
   "outputs": [],
   "source": [
    "print(np.cos(x))"
   ]
  },
  {
   "cell_type": "markdown",
   "id": "7271528f",
   "metadata": {},
   "source": [
    "Si el cálculo fuera más complejo y no tuviéramos la posibilidad de realizarlo en forma vectorial, debemos realizar una iteración llamando a esta función en cada paso:"
   ]
  },
  {
   "cell_type": "code",
   "execution_count": null,
   "id": "c41d4c1f",
   "metadata": {},
   "outputs": [],
   "source": [
    "y = []\n",
    "for xx in x:\n",
    "  y.append(mi_cos(xx))\n",
    "print(np.array(y))"
   ]
  },
  {
   "cell_type": "code",
   "execution_count": null,
   "id": "96798ed5",
   "metadata": {},
   "outputs": [],
   "source": [
    "y = np.zeros(x.size)\n",
    "for i,xx in enumerate(x):\n",
    "  y[i] = mi_cos(xx)"
   ]
  },
  {
   "cell_type": "code",
   "execution_count": null,
   "id": "e497573f",
   "metadata": {},
   "outputs": [],
   "source": [
    "plt.plot(x,y)"
   ]
  },
  {
   "cell_type": "markdown",
   "id": "06286b38",
   "metadata": {},
   "source": [
    "Como conveniencia, para evitar tener que hacer explícitamente el bucle `for` existe la función `vectorize`, que toma como argumento a una función que toma y devuelve escalares, y retorna una función equivalente que acepta arrays:"
   ]
  },
  {
   "cell_type": "code",
   "execution_count": null,
   "id": "06a09072",
   "metadata": {},
   "outputs": [],
   "source": [
    "coseno = np.vectorize(mi_cos)"
   ]
  },
  {
   "cell_type": "code",
   "execution_count": null,
   "id": "eb251d85",
   "metadata": {},
   "outputs": [],
   "source": [
    "plt.plot(x, coseno(x), '-')"
   ]
  },
  {
   "cell_type": "markdown",
   "id": "012796d3",
   "metadata": {},
   "source": [
    "-----\n",
    "\n",
    "## Ejercicios 10 (a)\n",
    "\n",
    "1. Dado un array `a` de números, creado por ejemplo usando:\n",
    "   ```python\n",
    "   a = np.random.uniform(size=100)\n",
    "   ```\n",
    "   Encontrar el número más cercano a un número escalar dado (por ejemplo x=0.5). Utilice los métodos discutidos.\n",
    "\n",
    "-----\n",
    "\n",
    "."
   ]
  }
 ],
 "metadata": {
  "kernelspec": {
   "display_name": "Python 3 (ipykernel)",
   "language": "python",
   "name": "python3"
  },
  "language_info": {
   "codemirror_mode": {
    "name": "ipython",
    "version": 3
   },
   "file_extension": ".py",
   "mimetype": "text/x-python",
   "name": "python",
   "nbconvert_exporter": "python",
   "pygments_lexer": "ipython3",
   "version": "3.11.1"
  },
  "name": "10_1_mas_arrays.ipynb",
  "toc": {
   "base_numbering": 1,
   "nav_menu": {
    "height": "339.633px",
    "width": "252px"
   },
   "number_sections": true,
   "sideBar": true,
   "skip_h1_title": false,
   "title_cell": "Contenidos",
   "title_sidebar": "Contenidos",
   "toc_cell": false,
   "toc_position": {
    "height": "calc(100% - 180px)",
    "left": "10px",
    "top": "150px",
    "width": "314.4px"
   },
   "toc_section_display": true,
   "toc_window_display": false
  }
 },
 "nbformat": 4,
 "nbformat_minor": 5
}
