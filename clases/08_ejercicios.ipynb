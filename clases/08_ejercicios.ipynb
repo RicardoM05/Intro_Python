{
 "cells": [
  {
   "cell_type": "markdown",
   "metadata": {
    "ein.tags": "worksheet-0",
    "slideshow": {
     "slide_type": "-"
    }
   },
   "source": [
    "## Ejercicios Clase 8\n",
    "\n",
    "1. Genere arrays en 2d, cada uno de tamaño 10x10 con:\n",
    "   a. Un array con valores 1 en la \"diagonal principal\" y 0 en el resto (Matriz identidad).\n",
    "   b. Un array con valores 0 en la \"diagonal principal\" y 1 en el resto.\n",
    "   c. Un array con valores 1 en los bordes y 0 en el interior.\n",
    "   d. Un array con números enteros consecutivos (empezando en 1) en los bordes y 0 en el interior.\n",
    "\n",
    "2. Diga qué resultado produce el siguiente código, y explíquelo\n",
    "  ```python\n",
    "  # Ejemplo propuesto por Jake VanderPlas\n",
    "  print(sum(range(5),-1))\n",
    "  from numpy import *\n",
    "  print(sum(range(5),-1))\n",
    "  ```\n",
    "\n",
    "3. Escriba una función `suma_potencias(p, n)` (utilizando arrays y **Numpy**) que calcule la operación $$s_{2} = \\sum_{k=0}^{n}k^{p}$$. \n",
    "\n",
    "4.   Usando las funciones de numpy `sign` y `maximum` definir las siguientes funciones, que acepten como argumento un array y devuelvan un array con el mismo *shape*:\n",
    "  - función de Heaviside, que vale 1 para valores positivos de su argumento y 0 para valores negativos.\n",
    "  - La función escalón, que vale 0 para valores del argumento fuera del intervalo $(-1,1)$ y 1 para argumentos en el intervalo.\n",
    "  - La función rampa, que vale 0 para valores negativos de $x$ y $x$ para valores positivos.\n",
    "\n",
    "5. **PARA ENTREGAR. Caída libre** Cree un programa que calcule la posición y velocidad de una partícula en caída libre para condiciones iniciales dadas ($h_{0}$, $v_{0}$), y un valor de gravedad dados. Se utilizará la convención de que alturas y velocidades positivas corresponden a vectores apuntando hacia arriba (una velocidad positiva significa que la partícula se aleja de la tierra). \n",
    "\n",
    "El programa debe realizar el cálculo de la velocidad y altura para un conjunto de tiempos equiespaciados. El usuario debe poder decidir o modificar el comportamiento del programa mediante opciones por línea de comandos. \n",
    "\n",
    "  El programa debe aceptar las siguientes opciones por líneas de comando:\n",
    "  - `-v vel` o, equivalentemente `--velocidad=vel`, donde `vel` es el número dando la velocidad inicial en m/s. El valor por defecto será `0`. \n",
    "  - `-h alt` o, equivalentemente `--altura=alt`, donde `alt` es un número dando la altura inicial en metros. El valor por defecto será `1000`. La altura inicial debe ser un número positivo.\n",
    "  - `-g grav`, donde `grav` es el módulo del valor de la aceleración de la gravedad en $m/s^2$. El valor por defecto será `9.8`.\n",
    "  - `-o nombre` o, equivalentemente `--output=nombre`, donde `nombre` será el nombre de un archivo donde se escribirán los resultados. Si el usuario no usa esta opción, debe imprimir por pantalla (`sys.stdout`).\n",
    "  - `-n N` o, equivalentemente `--Ndatos=N`, donde `N` es un número entero indicando la cantidad de datos que deben calcularse. Valor por defecto: `100`\n",
    "  - `--ti=instante_inicial` indica el tiempo inicial de cálculo. Valor por defecto: `0`. No puede ser mayor que el tiempo de llegada a la posición $h=0$\n",
    "  - `--tf=tiempo_final` indica el tiempo inicial de cálculo. Valor por defecto será el correspondiente al tiempo de llegada a la posición $h=0$.\n",
    "\n",
    "**NOTA:** Envíe el programa llamado **Suapellido_08.py** en un adjunto por correo electrónico, con asunto: **Suapellido_08**, antes del día lunes 9 de Marzo.\n",
    "\n",
    "6. Queremos realizar numéricamente la integral\n",
    "  $$\n",
    "  \\int_{a}^{b}f(x)dx\n",
    "  $$\n",
    "  utilizando el método de los trapecios. Para eso partimos el intervalo $[a,b]$ en $N$ subintervalos y aproximamos la curva en cada subintervalo por una recta\n",
    "\n",
    "![](figuras/trapez_rule_wiki.png)\n",
    "\n",
    "  La línea azul representa la función $f(x)$ y la línea roja la interpolación por una recta (figura de https://en.wikipedia.org/wiki/Trapezoidal_rule)\n",
    "\n",
    "  Si llamamos $x_{i}$ ($i=0,\\ldots,n,$ con $x_{0}=a$ y $x_{n}=b$) los puntos equiespaciados, entonces queda\n",
    "  $$\n",
    "     \\int_{a}^{b}f(x)dx\\approx\\frac{h}{2}\\sum_{i=1}^{n}\\left(f(x_{i})+f(x_{i-1})\\right).\n",
    "  $$\n",
    "\n",
    "  * Escriba una función  `trapz(x, y)` que reciba dos arrays unidimensionales `x` e `y` y aplique la fórmula de los trapecios.\n",
    "\n",
    "  * Escriba una función `trapzf(f, a, b, npts=100)` que recibe una función `f`, los límites `a`, `b` y el número de puntos a utilizar `npts`, y devuelve el valor de la integral por trapecios.\n",
    "\n",
    "  * Calcule la integral logarítmica de Euler:\n",
    "  $$\\mathrm{Li}(t) = \\int_2^t \\frac{1}{\\ln x} dx$$\n",
    "  usando la función ´trapzf´ para valores de `npts=10, 20, 30, 40, 50, 60`"
   ]
  },
  {
   "cell_type": "code",
   "execution_count": null,
   "metadata": {
    "autoscroll": false,
    "collapsed": false,
    "ein.hycell": false,
    "ein.tags": "worksheet-0",
    "slideshow": {
     "slide_type": "-"
    }
   },
   "outputs": [],
   "source": []
  },
  {
   "cell_type": "code",
   "execution_count": null,
   "metadata": {
    "autoscroll": false,
    "collapsed": false,
    "ein.hycell": false,
    "ein.tags": "worksheet-0",
    "slideshow": {
     "slide_type": "-"
    }
   },
   "outputs": [],
   "source": []
  },
  {
   "cell_type": "code",
   "execution_count": null,
   "metadata": {
    "autoscroll": false,
    "collapsed": false,
    "ein.hycell": false,
    "ein.tags": "worksheet-0",
    "slideshow": {
     "slide_type": "-"
    }
   },
   "outputs": [],
   "source": []
  },
  {
   "cell_type": "code",
   "execution_count": null,
   "metadata": {
    "autoscroll": false,
    "collapsed": false,
    "ein.hycell": false,
    "ein.tags": "worksheet-0",
    "slideshow": {
     "slide_type": "-"
    }
   },
   "outputs": [],
   "source": []
  }
 ],
 "metadata": {
  "kernelspec": {
   "argv": [
    "/usr/bin/python3",
    "-m",
    "ipykernel_launcher",
    "-f",
    "{connection_file}"
   ],
   "display_name": "Python 3",
   "env": null,
   "interrupt_mode": "signal",
   "language": "python",
   "metadata": null,
   "name": "python3"
  },
  "language_info": {
   "codemirror_mode": {
    "name": "ipython",
    "version": 3
   },
   "file_extension": ".py",
   "mimetype": "text/x-python",
   "name": "python",
   "nbconvert_exporter": "python",
   "pygments_lexer": "ipython3",
   "version": "3.7.6"
  },
  "name": "08_ejercicios.ipynb",
  "toc": {
   "base_numbering": 1,
   "nav_menu": {
    "height": "30.2333px",
    "width": "251.667px"
   },
   "number_sections": true,
   "sideBar": true,
   "skip_h1_title": false,
   "title_cell": "Contenidos",
   "title_sidebar": "Contenidos",
   "toc_cell": false,
   "toc_position": null,
   "toc_section_display": true,
   "toc_window_display": false
  }
 },
 "nbformat": 4,
 "nbformat_minor": 1
}
