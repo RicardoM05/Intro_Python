{
 "cells": [
  {
   "cell_type": "markdown",
   "metadata": {
    "ein.tags": "worksheet-0",
    "slideshow": {
     "slide_type": "-"
    }
   },
   "source": [
    "\n",
    "# Tipos complejos y control de flujo"
   ]
  },
  {
   "cell_type": "markdown",
   "metadata": {},
   "source": [
    "\n",
    "## Diccionarios\n",
    "\n",
    "Los diccionarios son colecciones de objetos  *en principio heterogéneos* que no están ordenados y no se refieren por índice (como L[3]) sino por un nombre o clave (llamado **key**).\n",
    "Las claves pueden ser cualquier objeto inmutable (cadenas, numeros, tuplas) y los valores pueden ser cualquier tipo de objeto. Las claves no se pueden repetir pero los valores sí."
   ]
  },
  {
   "cell_type": "markdown",
   "metadata": {},
   "source": [
    "\n",
    "### Creación\n"
   ]
  },
  {
   "cell_type": "code",
   "execution_count": 1,
   "metadata": {},
   "outputs": [],
   "source": [
    "t1 = list(range(1,11))\n",
    "t2 = [2*i**2 for i in t1]"
   ]
  },
  {
   "cell_type": "code",
   "execution_count": 2,
   "metadata": {},
   "outputs": [],
   "source": [
    "d01 = {}\n",
    "d02 = dict()\n",
    "d1 = {'S': 'Al', 'Z': 13, 'A': 27, 'M':26.98153863 }\n",
    "d2 = {'A': 27, 'M':26.98153863, 'S': 'Al', 'Z': 13 }\n",
    "d3 = dict( [('S','Al'), ('A',27), ('Z',13), ('M',26.98153863)])\n",
    "d4 = {n: n**2 for n in range(6)}"
   ]
  },
  {
   "cell_type": "markdown",
   "metadata": {},
   "source": [
    "Acá estamos creando diccionarios de diferentes maneras:\n",
    "\n",
    "- `d01` y `d02` corresponden a diccionarios vacíos\n",
    "- `d1` y `d2` se crean utilizando el formato `clave: valor`\n",
    "- `d3` se crea a partir de una lista de 2-tuplas donde el primer elemento de cada tupla es la clave y el segundo el valor\n",
    "- `d4` se crea mediante una \"comprensión de diccionarios\""
   ]
  },
  {
   "cell_type": "code",
   "execution_count": 3,
   "metadata": {},
   "outputs": [
    {
     "name": "stdout",
     "output_type": "stream",
     "text": [
      "{}\n",
      "{}\n"
     ]
    }
   ],
   "source": [
    "print(d01)\n",
    "print(d02)"
   ]
  },
  {
   "cell_type": "code",
   "execution_count": 4,
   "metadata": {},
   "outputs": [
    {
     "name": "stdout",
     "output_type": "stream",
     "text": [
      "{0: 0, 1: 1, 2: 4, 3: 9, 4: 16, 5: 25}\n"
     ]
    }
   ],
   "source": [
    "print(d4)"
   ]
  },
  {
   "cell_type": "markdown",
   "metadata": {},
   "source": [
    "Notar que los diccionarios `d1`, `d2`, `d3` tienen las mismas claves y valores, pero se crean con distinto orden"
   ]
  },
  {
   "cell_type": "code",
   "execution_count": 5,
   "metadata": {},
   "outputs": [
    {
     "name": "stdout",
     "output_type": "stream",
     "text": [
      "{'S': 'Al', 'Z': 13, 'A': 27, 'M': 26.98153863}\n",
      "(d1 == d2) = True   y   (d1 == d3) = True\n"
     ]
    }
   ],
   "source": [
    "print(d1)\n",
    "print(f\"{(d1 == d2) = }   y   {(d1 == d3) = }\")"
   ]
  },
  {
   "cell_type": "markdown",
   "metadata": {},
   "source": [
    "Como ocurre con otros tipos complejos, al realizar una asignación de un diccionario a otro, no se crea un nuevo objeto"
   ]
  },
  {
   "cell_type": "code",
   "execution_count": 6,
   "metadata": {},
   "outputs": [
    {
     "name": "stdout",
     "output_type": "stream",
     "text": [
      "True\n",
      "True\n"
     ]
    }
   ],
   "source": [
    "d5 = d2\n",
    "print(d5 == d2)\n",
    "print(d5 is d2)"
   ]
  },
  {
   "cell_type": "code",
   "execution_count": 7,
   "metadata": {},
   "outputs": [
    {
     "data": {
      "text/plain": [
       "False"
      ]
     },
     "execution_count": 7,
     "metadata": {},
     "output_type": "execute_result"
    }
   ],
   "source": [
    "d1 is d2"
   ]
  },
  {
   "cell_type": "markdown",
   "metadata": {},
   "source": [
    "y, por lo tanto, si modificamos uno de ellos también estamos modificando el otro.\n",
    "\n",
    "Para realizar una copia independiente utilizamos el método `copy()`:"
   ]
  },
  {
   "cell_type": "code",
   "execution_count": 9,
   "metadata": {},
   "outputs": [
    {
     "name": "stdout",
     "output_type": "stream",
     "text": [
      "True\n",
      "False\n"
     ]
    }
   ],
   "source": [
    "d6 = d2.copy()\n",
    "print(d6 == d2)\n",
    "print(d6 is d2)"
   ]
  },
  {
   "cell_type": "markdown",
   "metadata": {},
   "source": [
    "\n",
    "### Selección de elementos\n",
    "\n",
    "Para seleccionar un elemento de un diccionario, se lo llama por su clave (`key`)"
   ]
  },
  {
   "cell_type": "code",
   "execution_count": 10,
   "metadata": {},
   "outputs": [
    {
     "data": {
      "text/plain": [
       "27"
      ]
     },
     "execution_count": 10,
     "metadata": {},
     "output_type": "execute_result"
    }
   ],
   "source": [
    "d1['A']"
   ]
  },
  {
   "cell_type": "code",
   "execution_count": 11,
   "metadata": {},
   "outputs": [
    {
     "data": {
      "text/plain": [
       "26.98153863"
      ]
     },
     "execution_count": 11,
     "metadata": {},
     "output_type": "execute_result"
    }
   ],
   "source": [
    "d1['M']"
   ]
  },
  {
   "cell_type": "code",
   "execution_count": 12,
   "metadata": {},
   "outputs": [
    {
     "data": {
      "text/plain": [
       "'Al'"
      ]
     },
     "execution_count": 12,
     "metadata": {},
     "output_type": "execute_result"
    }
   ],
   "source": [
    "d1[\"S\"]"
   ]
  },
  {
   "cell_type": "markdown",
   "metadata": {},
   "source": [
    "Un uso muy común de los diccionarios es la descripción de estructuras complejas, donde cada campo tiene un significado, como podría ser por ejemplo una agenda"
   ]
  },
  {
   "cell_type": "code",
   "execution_count": 13,
   "metadata": {},
   "outputs": [],
   "source": [
    "entrada = {'nombre':'Juan', \n",
    "      'apellido': 'García', \n",
    "      'edad': 109, \n",
    "      'dirección': '''Av Bustillo 9500,''', \n",
    "      'cod':8400,  \n",
    "      'ciudad': \"Bariloche\"}"
   ]
  },
  {
   "cell_type": "code",
   "execution_count": 15,
   "metadata": {},
   "outputs": [
    {
     "name": "stdout",
     "output_type": "stream",
     "text": [
      "Nombre:  Juan\n",
      "\n",
      "Diccionario:\n",
      "------------\n",
      "\n",
      "{'nombre': 'Juan', 'apellido': 'García', 'edad': 109, 'dirección': 'Av Bustillo 9500,', 'cod': 8400, 'ciudad': 'Bariloche'}\n"
     ]
    }
   ],
   "source": [
    "print ('Nombre: ', entrada['nombre'])\n",
    "print ('\\nDiccionario:')\n",
    "print ((len(\"Diccionario:\")*\"-\")+\"\\n\")\n",
    "print (entrada)"
   ]
  },
  {
   "cell_type": "code",
   "execution_count": 16,
   "metadata": {},
   "outputs": [
    {
     "data": {
      "text/plain": [
       "8400"
      ]
     },
     "execution_count": 16,
     "metadata": {},
     "output_type": "execute_result"
    }
   ],
   "source": [
    "entrada['cod']"
   ]
  },
  {
   "cell_type": "code",
   "execution_count": 17,
   "metadata": {},
   "outputs": [],
   "source": [
    "entrada['tel'] = {'cel':1213, 'fijo':23848}"
   ]
  },
  {
   "cell_type": "code",
   "execution_count": 18,
   "metadata": {},
   "outputs": [
    {
     "data": {
      "text/plain": [
       "{'nombre': 'Juan',\n",
       " 'apellido': 'García',\n",
       " 'edad': 109,\n",
       " 'dirección': 'Av Bustillo 9500,',\n",
       " 'cod': 8400,\n",
       " 'ciudad': 'Bariloche',\n",
       " 'tel': {'cel': 1213, 'fijo': 23848}}"
      ]
     },
     "execution_count": 18,
     "metadata": {},
     "output_type": "execute_result"
    }
   ],
   "source": [
    "entrada"
   ]
  },
  {
   "cell_type": "markdown",
   "metadata": {},
   "source": [
    "Un diccionario puede tener elementos de distinto tipo, tanto en claves como en valores"
   ]
  },
  {
   "cell_type": "code",
   "execution_count": 19,
   "metadata": {},
   "outputs": [
    {
     "name": "stdout",
     "output_type": "stream",
     "text": [
      "1213\n",
      "1213\n"
     ]
    }
   ],
   "source": [
    "telefono = entrada['tel']\n",
    "print(telefono['cel'])\n",
    "print(entrada['tel']['cel'])"
   ]
  },
  {
   "cell_type": "markdown",
   "metadata": {},
   "source": [
    "\n",
    "### Acceso a claves y valores\n",
    "\n",
    "Los diccionarios pueden pensarse como pares *key*, *valor*. Para obtener todas las claves (*keys*), valores, o pares (clave, valor) usamos:"
   ]
  },
  {
   "cell_type": "code",
   "execution_count": 20,
   "metadata": {},
   "outputs": [
    {
     "name": "stdout",
     "output_type": "stream",
     "text": [
      "\n",
      "\n",
      "Keys:\n",
      "['nombre', 'apellido', 'edad', 'dirección', 'cod', 'ciudad', 'tel']\n",
      "\n",
      "\n",
      "Values:\n",
      "['Juan', 'García', 109, 'Av Bustillo 9500,', 8400, 'Bariloche', {'cel': 1213, 'fijo': 23848}]\n",
      "\n",
      "\n",
      "Items:\n",
      "[('nombre', 'Juan'), ('apellido', 'García'), ('edad', 109), ('dirección', 'Av Bustillo 9500,'), ('cod', 8400), ('ciudad', 'Bariloche'), ('tel', {'cel': 1213, 'fijo': 23848})]\n"
     ]
    }
   ],
   "source": [
    "print ('\\n\\nKeys:')\n",
    "print (list(entrada.keys()))\n",
    "print ('\\n\\nValues:')\n",
    "print (list(entrada.values()))\n",
    "print ('\\n\\nItems:')\n",
    "print (list(entrada.items()))"
   ]
  },
  {
   "cell_type": "code",
   "execution_count": 21,
   "metadata": {},
   "outputs": [
    {
     "data": {
      "text/plain": [
       "[('nombre', 'Juan'),\n",
       " ('apellido', 'García'),\n",
       " ('edad', 109),\n",
       " ('dirección', 'Av Bustillo 9500,'),\n",
       " ('cod', 8400),\n",
       " ('ciudad', 'Bariloche'),\n",
       " ('tel', {'cel': 1213, 'fijo': 23848})]"
      ]
     },
     "execution_count": 21,
     "metadata": {},
     "output_type": "execute_result"
    }
   ],
   "source": [
    "it = list(entrada.items())\n",
    "it"
   ]
  },
  {
   "cell_type": "code",
   "execution_count": 22,
   "metadata": {},
   "outputs": [
    {
     "data": {
      "text/plain": [
       "{'nombre': 'Juan',\n",
       " 'apellido': 'García',\n",
       " 'edad': 109,\n",
       " 'dirección': 'Av Bustillo 9500,',\n",
       " 'cod': 8400,\n",
       " 'ciudad': 'Bariloche',\n",
       " 'tel': {'cel': 1213, 'fijo': 23848}}"
      ]
     },
     "execution_count": 22,
     "metadata": {},
     "output_type": "execute_result"
    }
   ],
   "source": [
    "dict(it)"
   ]
  },
  {
   "cell_type": "markdown",
   "metadata": {},
   "source": [
    "\n",
    "### Modificación o adición de campos\n",
    "\n",
    "Si queremos modificar un campo o agregar uno nuevo simplemente asignamos un nuevo valor como lo haríamos para una variable. En el siguiente ejemplo agregamos un nuevo campo indicando el \"pais\" y modificamos el valor de la ciudad:"
   ]
  },
  {
   "cell_type": "code",
   "execution_count": 23,
   "metadata": {},
   "outputs": [
    {
     "name": "stdout",
     "output_type": "stream",
     "text": [
      "\n",
      "\n",
      "Datos:\n",
      "\n",
      "Juan García\n",
      "Av Bustillo 9500,\n",
      "San Carlos de Bariloche\n",
      "Argentina\n"
     ]
    }
   ],
   "source": [
    "entrada['pais']= 'Argentina'\n",
    "entrada['ciudad']= \"San Carlos de Bariloche\"\n",
    "# imprimimos\n",
    "print ('\\n\\nDatos:\\n')\n",
    "print (entrada['nombre'] + ' ' + entrada['apellido'])\n",
    "print (entrada[u'dirección'])\n",
    "print (entrada['ciudad'])\n",
    "print (entrada['pais'])"
   ]
  },
  {
   "cell_type": "code",
   "execution_count": 24,
   "metadata": {},
   "outputs": [
    {
     "name": "stdout",
     "output_type": "stream",
     "text": [
      "************************************************************\n",
      "Otro diccionario:\n",
      "d2= {'provincia': 'Río Negro', 'nombre': 'José'}\n",
      "************************************************************\n"
     ]
    }
   ],
   "source": [
    "d2 = {'provincia': 'Río Negro', 'nombre':'José'}\n",
    "print (60*'*'+'\\nOtro diccionario:')\n",
    "print ('d2=',d2)\n",
    "print (60*'*')"
   ]
  },
  {
   "cell_type": "markdown",
   "metadata": {},
   "source": [
    "Vimos que se pueden asignar campos a diccionarios. También se pueden completar utilizando otro diccionario, usando el método `update()`"
   ]
  },
  {
   "cell_type": "code",
   "execution_count": 28,
   "metadata": {},
   "outputs": [
    {
     "name": "stdout",
     "output_type": "stream",
     "text": [
      "entrada = {'nombre': 'José', 'apellido': 'García', 'edad': 109, 'dirección': 'Av Bustillo 9500,', 'cod': 8400, 'ciudad': 'San Carlos de Bariloche', 'tel': {'cel': 1213, 'fijo': 23848}, 'pais': 'Argentina'}\n",
      "\n",
      "Nuevo valor:\n",
      "\n",
      "entrada = {'nombre': 'José', 'apellido': 'García', 'edad': 109, 'dirección': 'Av Bustillo 9500,', 'cod': 8400, 'ciudad': 'San Carlos de Bariloche', 'tel': {'cel': 1213, 'fijo': 23848}, 'pais': 'Argentina', 'provincia': 'Río Negro'}\n"
     ]
    }
   ],
   "source": [
    "print (f'{entrada = }')\n",
    "entrada.update(d2)  # Corregimos valores o agregamos nuevos si no existen\n",
    "print (\"\\nNuevo valor:\\n\")\n",
    "print (f'{entrada = }')"
   ]
  },
  {
   "cell_type": "code",
   "execution_count": 29,
   "metadata": {},
   "outputs": [
    {
     "name": "stdout",
     "output_type": "stream",
     "text": [
      "'provincia' in entrada = True\n",
      "'provincia' in entrada = False\n"
     ]
    }
   ],
   "source": [
    "# Para borrar un campo de un diccionario usamos `del`\n",
    "print (f\"{'provincia' in entrada = }\")\n",
    "if 'provincia' in entrada:\n",
    "  del entrada['provincia']\n",
    "print (f\"{'provincia' in entrada = }\")"
   ]
  },
  {
   "cell_type": "markdown",
   "metadata": {},
   "source": [
    "El método `pop` nos devuelve un valor y lo borra del diccionario."
   ]
  },
  {
   "cell_type": "code",
   "execution_count": 30,
   "metadata": {},
   "outputs": [],
   "source": [
    "entrada[1] = [2,3]         # Agregamos el campo `1`"
   ]
  },
  {
   "cell_type": "code",
   "execution_count": 31,
   "metadata": {},
   "outputs": [
    {
     "data": {
      "text/plain": [
       "{'nombre': 'José',\n",
       " 'apellido': 'García',\n",
       " 'edad': 109,\n",
       " 'dirección': 'Av Bustillo 9500,',\n",
       " 'cod': 8400,\n",
       " 'ciudad': 'San Carlos de Bariloche',\n",
       " 'tel': {'cel': 1213, 'fijo': 23848},\n",
       " 'pais': 'Argentina',\n",
       " 1: [2, 3]}"
      ]
     },
     "execution_count": 31,
     "metadata": {},
     "output_type": "execute_result"
    }
   ],
   "source": [
    "entrada"
   ]
  },
  {
   "cell_type": "code",
   "execution_count": 32,
   "metadata": {},
   "outputs": [
    {
     "data": {
      "text/plain": [
       "[2, 3]"
      ]
     },
     "execution_count": 32,
     "metadata": {},
     "output_type": "execute_result"
    }
   ],
   "source": [
    "entrada.pop(1)"
   ]
  },
  {
   "cell_type": "code",
   "execution_count": 33,
   "metadata": {},
   "outputs": [
    {
     "data": {
      "text/plain": [
       "{'nombre': 'José',\n",
       " 'apellido': 'García',\n",
       " 'edad': 109,\n",
       " 'dirección': 'Av Bustillo 9500,',\n",
       " 'cod': 8400,\n",
       " 'ciudad': 'San Carlos de Bariloche',\n",
       " 'tel': {'cel': 1213, 'fijo': 23848},\n",
       " 'pais': 'Argentina'}"
      ]
     },
     "execution_count": 33,
     "metadata": {},
     "output_type": "execute_result"
    }
   ],
   "source": [
    "entrada"
   ]
  },
  {
   "cell_type": "markdown",
   "metadata": {},
   "source": [
    "## Conjuntos\n",
    "\n",
    "Los conjuntos (`set()`) son grupos de claves únicas e inmutables."
   ]
  },
  {
   "cell_type": "code",
   "execution_count": 34,
   "metadata": {},
   "outputs": [],
   "source": [
    "mamiferos = {'perro', 'gato', 'león', 'perro'}\n",
    "domesticos = {'perro', 'gato', 'gallina', 'ganso'}\n",
    "aves = {\"chimango\", \"bandurria\", 'gallina', 'cóndor', 'ganso'}"
   ]
  },
  {
   "cell_type": "code",
   "execution_count": 35,
   "metadata": {},
   "outputs": [
    {
     "data": {
      "text/plain": [
       "{'gato', 'león', 'perro'}"
      ]
     },
     "execution_count": 35,
     "metadata": {},
     "output_type": "execute_result"
    }
   ],
   "source": [
    "mamiferos"
   ]
  },
  {
   "cell_type": "markdown",
   "metadata": {},
   "source": [
    "Para crear un conjunto vacío utilizamos la palabra `set()`. Notar que: ```conj = {}``` crearía un diccionario:"
   ]
  },
  {
   "cell_type": "code",
   "execution_count": 36,
   "metadata": {},
   "outputs": [
    {
     "name": "stdout",
     "output_type": "stream",
     "text": [
      "set() <class 'set'>\n"
     ]
    }
   ],
   "source": [
    "conj = set()\n",
    "print(conj, type(conj))"
   ]
  },
  {
   "cell_type": "markdown",
   "metadata": {},
   "source": [
    "### Operaciones entre conjuntos"
   ]
  },
  {
   "cell_type": "code",
   "execution_count": 37,
   "metadata": {},
   "outputs": [
    {
     "data": {
      "text/plain": [
       "{'gato', 'perro'}"
      ]
     },
     "execution_count": 37,
     "metadata": {},
     "output_type": "execute_result"
    }
   ],
   "source": [
    "mamiferos.intersection(domesticos)"
   ]
  },
  {
   "cell_type": "code",
   "execution_count": 38,
   "metadata": {},
   "outputs": [
    {
     "data": {
      "text/plain": [
       "{'gato', 'perro'}"
      ]
     },
     "execution_count": 38,
     "metadata": {},
     "output_type": "execute_result"
    }
   ],
   "source": [
    "# También se puede utilizar el operador \"&\" para la intersección\n",
    "mamiferos & domesticos"
   ]
  },
  {
   "cell_type": "code",
   "execution_count": 39,
   "metadata": {},
   "outputs": [
    {
     "data": {
      "text/plain": [
       "{'gallina', 'ganso', 'gato', 'león', 'perro'}"
      ]
     },
     "execution_count": 39,
     "metadata": {},
     "output_type": "execute_result"
    }
   ],
   "source": [
    "mamiferos.union(domesticos)"
   ]
  },
  {
   "cell_type": "code",
   "execution_count": 40,
   "metadata": {},
   "outputs": [
    {
     "data": {
      "text/plain": [
       "{'gallina', 'ganso', 'gato', 'león', 'perro'}"
      ]
     },
     "execution_count": 40,
     "metadata": {},
     "output_type": "execute_result"
    }
   ],
   "source": [
    "# También se puede utilizar el operador \"|\" para la unión\n",
    "mamiferos | domesticos"
   ]
  },
  {
   "cell_type": "code",
   "execution_count": 41,
   "metadata": {},
   "outputs": [
    {
     "data": {
      "text/plain": [
       "{'bandurria', 'chimango', 'cóndor'}"
      ]
     },
     "execution_count": 41,
     "metadata": {},
     "output_type": "execute_result"
    }
   ],
   "source": [
    "aves.difference(domesticos)"
   ]
  },
  {
   "cell_type": "code",
   "execution_count": 42,
   "metadata": {},
   "outputs": [
    {
     "data": {
      "text/plain": [
       "{'bandurria', 'chimango', 'cóndor'}"
      ]
     },
     "execution_count": 42,
     "metadata": {},
     "output_type": "execute_result"
    }
   ],
   "source": [
    "# También se puede utilizar el operador \"-\" para la diferencia\n",
    "aves - domesticos"
   ]
  },
  {
   "cell_type": "code",
   "execution_count": 43,
   "metadata": {},
   "outputs": [
    {
     "data": {
      "text/plain": [
       "{'gato', 'perro'}"
      ]
     },
     "execution_count": 43,
     "metadata": {},
     "output_type": "execute_result"
    }
   ],
   "source": [
    "domesticos - aves"
   ]
  },
  {
   "cell_type": "markdown",
   "metadata": {},
   "source": [
    "\n",
    "### Modificar conjuntos\n",
    "\n",
    "Para agregar o borrar elementos a un conjunto usamos los métodos: `add`, `update`, y `remove`"
   ]
  },
  {
   "cell_type": "code",
   "execution_count": 44,
   "metadata": {},
   "outputs": [
    {
     "data": {
      "text/plain": [
       "{1, 2, 3, 5}"
      ]
     },
     "execution_count": 44,
     "metadata": {},
     "output_type": "execute_result"
    }
   ],
   "source": [
    "c = set([1, 2, 2, 3, 5])\n",
    "c"
   ]
  },
  {
   "cell_type": "code",
   "execution_count": 45,
   "metadata": {},
   "outputs": [],
   "source": [
    "c.add(4)"
   ]
  },
  {
   "cell_type": "code",
   "execution_count": 46,
   "metadata": {},
   "outputs": [
    {
     "data": {
      "text/plain": [
       "{1, 2, 3, 4, 5}"
      ]
     },
     "execution_count": 46,
     "metadata": {},
     "output_type": "execute_result"
    }
   ],
   "source": [
    "c"
   ]
  },
  {
   "cell_type": "code",
   "execution_count": 47,
   "metadata": {},
   "outputs": [
    {
     "data": {
      "text/plain": [
       "{1, 2, 3, 4, 5}"
      ]
     },
     "execution_count": 47,
     "metadata": {},
     "output_type": "execute_result"
    }
   ],
   "source": [
    "c.add(4)\n",
    "c"
   ]
  },
  {
   "cell_type": "code",
   "execution_count": 48,
   "metadata": {},
   "outputs": [],
   "source": [
    "c.update((8,7,6))"
   ]
  },
  {
   "cell_type": "code",
   "execution_count": 49,
   "metadata": {},
   "outputs": [
    {
     "data": {
      "text/plain": [
       "{1, 2, 3, 4, 5, 6, 7, 8}"
      ]
     },
     "execution_count": 49,
     "metadata": {},
     "output_type": "execute_result"
    }
   ],
   "source": [
    "c"
   ]
  },
  {
   "cell_type": "markdown",
   "metadata": {},
   "source": [
    "Para remover un elemento que pertenece al conjunto usamos `remove()`"
   ]
  },
  {
   "cell_type": "code",
   "execution_count": 50,
   "metadata": {},
   "outputs": [],
   "source": [
    "c.remove(2)"
   ]
  },
  {
   "cell_type": "code",
   "execution_count": 51,
   "metadata": {},
   "outputs": [
    {
     "data": {
      "text/plain": [
       "{1, 3, 4, 5, 6, 7, 8}"
      ]
     },
     "execution_count": 51,
     "metadata": {},
     "output_type": "execute_result"
    }
   ],
   "source": [
    "c"
   ]
  },
  {
   "cell_type": "code",
   "execution_count": 52,
   "metadata": {},
   "outputs": [
    {
     "ename": "KeyError",
     "evalue": "2",
     "output_type": "error",
     "traceback": [
      "\u001b[0;31m\u001b[0m",
      "\u001b[0;31mKeyError\u001b[0mTraceback (most recent call last)",
      "\u001b[0;32m<ipython-input-52-b4d051d0e502>\u001b[0m in \u001b[0;36m<module>\u001b[0;34m\u001b[0m\n\u001b[0;32m----> 1\u001b[0;31m \u001b[0mc\u001b[0m\u001b[0;34m.\u001b[0m\u001b[0mremove\u001b[0m\u001b[0;34m(\u001b[0m\u001b[0;36m2\u001b[0m\u001b[0;34m)\u001b[0m\u001b[0;34m\u001b[0m\u001b[0;34m\u001b[0m\u001b[0m\n\u001b[0m",
      "\u001b[0;31mKeyError\u001b[0m: 2"
     ]
    }
   ],
   "source": [
    "c.remove(2)"
   ]
  },
  {
   "cell_type": "markdown",
   "metadata": {},
   "source": [
    "pero da un error si el elemento que quermos remover no pertenece al conjunto. Si no sabemos si el elemento existe, podemos usar el método `discard()`"
   ]
  },
  {
   "cell_type": "code",
   "execution_count": 53,
   "metadata": {},
   "outputs": [],
   "source": [
    "c.discard(2)"
   ]
  },
  {
   "cell_type": "code",
   "execution_count": 54,
   "metadata": {},
   "outputs": [
    {
     "data": {
      "text/plain": [
       "{1, 3, 4, 5, 6, 7, 8}"
      ]
     },
     "execution_count": 54,
     "metadata": {},
     "output_type": "execute_result"
    }
   ],
   "source": [
    "c"
   ]
  },
  {
   "cell_type": "markdown",
   "metadata": {
    "ein.tags": "worksheet-0",
    "slideshow": {
     "slide_type": "-"
    }
   },
   "source": [
    "## Control de flujo\n",
    "\n",
    "### if/elif/else\n",
    "\n",
    "En todo lenguaje necesitamos controlar el flujo de una ejecución segun una condición Verdadero/Falso (booleana). *Si (condicion) es verdadero hacé (bloque A); Sino hacé (Bloque B)*. En pseudo código:\n",
    "\n",
    "```\n",
    "    Si condición 1:\n",
    "        bloque A\n",
    "    sino y condición 2:\n",
    "        bloque B\n",
    "    sino:\n",
    "        bloque C\n",
    "```\n",
    "\n",
    "y en Python es muy parecido! \n",
    "\n",
    "\n",
    "```python\n",
    "    if condición_1:\n",
    "      bloque A\n",
    "    elif condicion_2:\n",
    "      bloque B\n",
    "    elif condicion_3:\n",
    "      bloque C\n",
    "    else:\n",
    "      Bloque final\n",
    "```\n",
    "\n",
    "En un `if`, la conversión a tipo *boolean* es implícita. El tipo `None` (vacío), el `0`,  una secuencia (lista, tupla, string) (o conjunto o diccionario, que ya veremos) vacía siempre evalua a ``False``. Cualquier otro objeto evalua a ``True``.\n",
    "\n",
    "Podemos tener multiples condiciones. Se ejecutará el primer bloque cuya condición sea verdadera, o en su defecto el bloque `else`. Esto es equivalente a la sentencia `switch` de otros lenguajes."
   ]
  },
  {
   "cell_type": "code",
   "execution_count": 55,
   "metadata": {
    "autoscroll": false,
    "ein.hycell": false,
    "ein.tags": "worksheet-0",
    "slideshow": {
     "slide_type": "-"
    }
   },
   "outputs": [
    {
     "name": "stdout",
     "output_type": "stream",
     "text": [
      "Bueno, al menos aprobó!\n"
     ]
    }
   ],
   "source": [
    "Nota = 7\n",
    "if Nota >= 8:\n",
    "    print (\"Aprobó cómodo, felicidades!\")\n",
    "elif 6 <= Nota < 8:\n",
    "    print (\"Bueno, al menos aprobó!\")\n",
    "elif 4 <= Nota < 6 :\n",
    "    print (\"Bastante bien, pero no le alcanzó\")\n",
    "else:\n",
    "    print(\"Siga participando!\")"
   ]
  },
  {
   "cell_type": "markdown",
   "metadata": {
    "ein.tags": "worksheet-0",
    "slideshow": {
     "slide_type": "-"
    }
   },
   "source": [
    "### Iteraciones\n",
    "\n",
    "#### Sentencia for\n",
    "\n",
    "Otro elemento de control es el que permite *iterar* sobre una secuencia (o *\"iterador\"*). Obtener cada elemento para hacer algo. En Python se logra con la sentencia `for`. En lugar de iterar sobre una condición aritmética hasta que se cumpla una condición (como en C o en Fortran) en Python la sentencia `for` itera sobre los ítems de una secuencia en forma ordenada"
   ]
  },
  {
   "cell_type": "code",
   "execution_count": 56,
   "metadata": {
    "autoscroll": false,
    "ein.hycell": false,
    "ein.tags": "worksheet-0",
    "slideshow": {
     "slide_type": "-"
    }
   },
   "outputs": [
    {
     "name": "stdout",
     "output_type": "stream",
     "text": [
      "0, 1, 2, 3, 4, 5, 6, 7, 8, 9, "
     ]
    }
   ],
   "source": [
    "for elemento in range(10):\n",
    "    print(elemento, end=', ')\n"
   ]
  },
  {
   "cell_type": "markdown",
   "metadata": {
    "ein.tags": "worksheet-0",
    "slideshow": {
     "slide_type": "-"
    }
   },
   "source": [
    "Veamos otro ejemplo, iterando sobre una lista:"
   ]
  },
  {
   "cell_type": "code",
   "execution_count": 57,
   "metadata": {},
   "outputs": [
    {
     "name": "stdout",
     "output_type": "stream",
     "text": [
      "auto\n",
      "casa\n",
      "perro\n",
      "gato\n",
      "árbol\n",
      "lechuza\n",
      "banana\n"
     ]
    }
   ],
   "source": [
    "Lista = ['auto', 'casa', \"perro\", \"gato\", \"árbol\", \"lechuza\", \"banana\"]\n",
    "for L in Lista:\n",
    "  print(L)"
   ]
  },
  {
   "cell_type": "markdown",
   "metadata": {},
   "source": [
    "En estos ejemplos, en cada iteración `L` toma sucesivamente los valores de `Lista`. La primera vez es `L='auto'`, la segunda `L='casa'`, ...\n",
    "El cuerpo del *loop* `for`, como todos los bloques en **Python** está definido por la **indentación**. La última línea está fuera del loop y se ejecuta al terminar todas las iteraciones del `for`."
   ]
  },
  {
   "cell_type": "code",
   "execution_count": 58,
   "metadata": {},
   "outputs": [
    {
     "name": "stdout",
     "output_type": "stream",
     "text": [
      "En la palabra auto hay 1 letras \"a\"\n",
      "En la palabra casa hay 2 letras \"a\"\n",
      "En la palabra perro hay 0 letras \"a\"\n",
      "En la palabra gato hay 1 letras \"a\"\n",
      "En la palabra árbol hay 0 letras \"a\"\n",
      "En la palabra lechuza hay 1 letras \"a\"\n",
      "En la palabra banana hay 3 letras \"a\"\n",
      "\n",
      "La palabra más larga es lechuza\n"
     ]
    }
   ],
   "source": [
    "for L in Lista:\n",
    "    print(f'En la palabra {L} hay {L.count(\"a\")} letras \"a\"')\n",
    "    \n",
    "print(f'\\nLa palabra más larga es {max(Lista, key=len)}')"
   ]
  },
  {
   "cell_type": "markdown",
   "metadata": {},
   "source": [
    "Otro ejemplo:"
   ]
  },
  {
   "cell_type": "code",
   "execution_count": 59,
   "metadata": {},
   "outputs": [
    {
     "name": "stdout",
     "output_type": "stream",
     "text": [
      "x=0,  suma parcial=0\n",
      "x=1,  suma parcial=1\n",
      "x=2,  suma parcial=3\n",
      "x=3,  suma parcial=6\n",
      "x=4,  suma parcial=10\n",
      "x=5,  suma parcial=15\n",
      "x=6,  suma parcial=21\n",
      "x=7,  suma parcial=28\n",
      "x=8,  suma parcial=36\n",
      "x=9,  suma parcial=45\n",
      "x=10,  suma parcial=55\n",
      "Suma total = 55\n"
     ]
    }
   ],
   "source": [
    "suma = 0\n",
    "for elemento in range(11):\n",
    "  suma += elemento\n",
    "  print(\"x={},  suma parcial={}\".format(elemento, suma))\n",
    "print ('Suma total =', suma)"
   ]
  },
  {
   "cell_type": "markdown",
   "metadata": {
    "ein.tags": "worksheet-0",
    "slideshow": {
     "slide_type": "-"
    }
   },
   "source": [
    "Notar que utilizamos el operador asignación de suma: `+=`.\n",
    "\n",
    "```python\n",
    "suma += elemento\n",
    "```\n",
    "es equivalente a:\n",
    "```python\n",
    "suma = suma + elemento\n",
    "```\n",
    "que corresponde a realizar la suma de la derecha, y el resultado asignarlo a la variable de la izquierda."
   ]
  },
  {
   "cell_type": "markdown",
   "metadata": {
    "ein.tags": "worksheet-0",
    "slideshow": {
     "slide_type": "-"
    }
   },
   "source": [
    "Por supuesto, para obtener la suma anterior podemos simplemente usar las funciones de python:"
   ]
  },
  {
   "cell_type": "code",
   "execution_count": 60,
   "metadata": {
    "autoscroll": false,
    "ein.hycell": false,
    "ein.tags": "worksheet-0",
    "slideshow": {
     "slide_type": "-"
    }
   },
   "outputs": [
    {
     "name": "stdout",
     "output_type": "stream",
     "text": [
      "55\n"
     ]
    }
   ],
   "source": [
    "print (sum(range(11))) # El ejemplo anterior puede escribirse usando sum y range"
   ]
  },
  {
   "cell_type": "markdown",
   "metadata": {
    "ein.tags": "worksheet-0",
    "slideshow": {
     "slide_type": "-"
    }
   },
   "source": [
    "#### Loops: `for`, `enumerate`, `continue`, `break`, `else`\n",
    "\n",
    "Veamos otras características del bloque `for`. "
   ]
  },
  {
   "cell_type": "code",
   "execution_count": 61,
   "metadata": {
    "autoscroll": false,
    "ein.hycell": false,
    "ein.tags": "worksheet-0",
    "slideshow": {
     "slide_type": "-"
    }
   },
   "outputs": [
    {
     "name": "stdout",
     "output_type": "stream",
     "text": [
      "1 4 16 16\n",
      "3 6 36 52\n",
      "5 8 64 116\n",
      "7 10 100 216\n",
      "9 12 144 360\n",
      "11 14 196 556\n",
      "13 16 256 812\n",
      "15 18 324 1136\n",
      "17 20 400 1536\n",
      "19 22 484 2020\n",
      "21 24 576 2596\n",
      "23 26 676 3272\n",
      "25 28 784 4056\n",
      "sumatoria de números pares al cuadrado entre 3 y 20: 4056\n",
      "cuadrados=  [16, 36, 64, 100, 144, 196, 256, 324, 400, 484, 576, 676, 784]\n"
     ]
    }
   ],
   "source": [
    "suma = 0\n",
    "cuadrados = []\n",
    "for i,elem in enumerate(range(3,30)):\n",
    "  if elem % 2:       # Si resto (%) es diferente de cero -> Impares\n",
    "    continue\n",
    "  suma += elem**2\n",
    "  cuadrados.append(elem**2)\n",
    "  print (i, elem, elem**2, suma)   # Imprimimos el índice y el elem al cuadrado\n",
    "print (\"sumatoria de números pares al cuadrado entre 3 y 20:\", suma)\n",
    "print ('cuadrados= ', cuadrados)"
   ]
  },
  {
   "cell_type": "markdown",
   "metadata": {
    "ein.tags": "worksheet-0",
    "slideshow": {
     "slide_type": "-"
    }
   },
   "source": [
    "**Puntos a notar:**\n",
    "\n",
    " - Inicializamos una variable entera en cero y una lista vacía\n",
    " - `range(3,30)` nos da consecutivamente los números entre 3 y 29 en cada iteración.\n",
    " - `enumerate` nos permite iterar sobre algo, agregando un contador automático.\n",
    " - La línea condicional `if elem % 2:` es equivalente a `if (elem % 2) != 0:` y es verdadero si `elem` no es divisible por 2 (número impar)\n",
    " - La sentencia `continue` hace que se omita la ejecución del resto del bloque por esta iteración\n",
    " - El método `append` agrega el elemento a la lista\n",
    "\n",
    "Antes de seguir veamos otro ejemplo de uso de `enumerate`. Consideremos una iteración sobre una lista como haríamos normalmente en otros lenguajes:"
   ]
  },
  {
   "cell_type": "code",
   "execution_count": 62,
   "metadata": {
    "autoscroll": false,
    "ein.hycell": false,
    "ein.tags": "worksheet-0",
    "slideshow": {
     "slide_type": "-"
    }
   },
   "outputs": [],
   "source": [
    "L = \"I've had a perfectly wonderful evening.  But this wasn't it.\".split()"
   ]
  },
  {
   "cell_type": "code",
   "execution_count": 63,
   "metadata": {
    "autoscroll": false,
    "ein.hycell": false,
    "ein.tags": "worksheet-0",
    "slideshow": {
     "slide_type": "-"
    }
   },
   "outputs": [
    {
     "data": {
      "text/plain": [
       "[\"I've\",\n",
       " 'had',\n",
       " 'a',\n",
       " 'perfectly',\n",
       " 'wonderful',\n",
       " 'evening.',\n",
       " 'But',\n",
       " 'this',\n",
       " \"wasn't\",\n",
       " 'it.']"
      ]
     },
     "execution_count": 63,
     "metadata": {},
     "output_type": "execute_result"
    }
   ],
   "source": [
    "L"
   ]
  },
  {
   "cell_type": "code",
   "execution_count": 65,
   "metadata": {
    "autoscroll": false,
    "ein.hycell": false,
    "ein.tags": "worksheet-0",
    "slideshow": {
     "slide_type": "-"
    }
   },
   "outputs": [
    {
     "name": "stdout",
     "output_type": "stream",
     "text": [
      "Índice: 0 -> I've (4 caracteres)\n",
      "Índice: 1 -> had (3 caracteres)\n",
      "Índice: 2 -> a (1 caracteres)\n",
      "Índice: 3 -> perfectly (9 caracteres)\n",
      "Índice: 4 -> wonderful (9 caracteres)\n",
      "Índice: 5 -> evening. (8 caracteres)\n",
      "Índice: 6 -> But (3 caracteres)\n",
      "Índice: 7 -> this (4 caracteres)\n",
      "Índice: 8 -> wasn't (6 caracteres)\n",
      "Índice: 9 -> it. (3 caracteres)\n"
     ]
    }
   ],
   "source": [
    "for j in range(len(L)):\n",
    "  print(f'Índice: {j} -> {L[j]} ({len(L[j])} caracteres)')"
   ]
  },
  {
   "cell_type": "markdown",
   "metadata": {
    "ein.tags": "worksheet-0",
    "slideshow": {
     "slide_type": "-"
    }
   },
   "source": [
    "Si bien esta es una solución al problema. Python ofrece la función enumerate que agrega un contador automático "
   ]
  },
  {
   "cell_type": "code",
   "execution_count": 67,
   "metadata": {
    "autoscroll": false,
    "ein.hycell": false,
    "ein.tags": "worksheet-0",
    "slideshow": {
     "slide_type": "-"
    }
   },
   "outputs": [
    {
     "name": "stdout",
     "output_type": "stream",
     "text": [
      "Índice: 0 -> I've (4 caracteres)\n",
      "Índice: 1 -> had (3 caracteres)\n",
      "Índice: 2 -> a (1 caracteres)\n",
      "Índice: 3 -> perfectly (9 caracteres)\n",
      "Índice: 4 -> wonderful (9 caracteres)\n",
      "Índice: 5 -> evening. (8 caracteres)\n",
      "Índice: 6 -> But (3 caracteres)\n",
      "Índice: 7 -> this (4 caracteres)\n",
      "Índice: 8 -> wasn't (6 caracteres)\n",
      "Índice: 9 -> it. (3 caracteres)\n"
     ]
    }
   ],
   "source": [
    "for j, elem in enumerate(L):\n",
    "  print(f'Índice: {j} -> {elem} ({len(elem)} caracteres)')"
   ]
  },
  {
   "cell_type": "markdown",
   "metadata": {
    "ein.tags": "worksheet-0",
    "slideshow": {
     "slide_type": "slide"
    }
   },
   "source": [
    "Veamos otro ejemplo, que puede encontrarse en la [documentación oficial](https://docs.python.org/3/tutorial/controlflow.html#break-and-continue-statements-and-else-clauses-on-loops):"
   ]
  },
  {
   "cell_type": "code",
   "execution_count": 68,
   "metadata": {
    "autoscroll": false,
    "ein.hycell": false,
    "ein.tags": "worksheet-0",
    "slideshow": {
     "slide_type": "-"
    }
   },
   "outputs": [
    {
     "name": "stdout",
     "output_type": "stream",
     "text": [
      " 2 es un número primo\n",
      " 3 es un número primo\n",
      " 4 = 2 x 2\n",
      " 5 es un número primo\n",
      " 6 = 2 x 3\n",
      " 7 es un número primo\n",
      " 8 = 2 x 4\n",
      " 9 = 3 x 3\n",
      "10 = 2 x 5\n",
      "11 es un número primo\n",
      "12 = 2 x 6\n",
      "13 es un número primo\n",
      "14 = 2 x 7\n",
      "15 = 3 x 5\n",
      "16 = 2 x 8\n",
      "17 es un número primo\n",
      "18 = 2 x 9\n",
      "19 es un número primo\n"
     ]
    }
   ],
   "source": [
    "for n in range(2, 20):\n",
    "  for x in range(2, n):\n",
    "    if n % x == 0:\n",
    "      print( f'{n:2d} = {x} x {n//x}')\n",
    "      break\n",
    "  else:\n",
    "     # Salió sin encontrar un factor, entonces ...\n",
    "     print('{:2d} es un número primo'.format(n))\n"
   ]
  },
  {
   "cell_type": "markdown",
   "metadata": {
    "ein.tags": "worksheet-0",
    "slideshow": {
     "slide_type": "-"
    }
   },
   "source": [
    "**Puntos a notar:**\n",
    "\n",
    "- Acá estamos usando dos *loops* anidados. Uno recorre `n` entre 2 y 9, y el otro `x` entre 2 y `n`.\n",
    "- La comparación `if n % x == 0:` chequea si `x` es un divisor de `n`\n",
    "- La sentencia `break` interrumpe el *loop* interior (sobre `x`)\n",
    "- Notar la alineación de la sentencia `else`. No está referida a `if` sino a `for`. Es opcional y se ejecuta cuando el loop se termina normalmente (sin `break`)\n"
   ]
  },
  {
   "cell_type": "markdown",
   "metadata": {
    "ein.tags": "worksheet-0",
    "slideshow": {
     "slide_type": "-"
    }
   },
   "source": [
    "#### While\n",
    "\n",
    "Otra sentencia de control es *while*: que permite iterar mientras se cumple una condición. El siguiente ejemplo imprime la serie de Fibonacci (en la cuál cada término es la suma de los dos anteriores)"
   ]
  },
  {
   "cell_type": "code",
   "execution_count": 69,
   "metadata": {
    "autoscroll": false,
    "ein.hycell": false,
    "ein.tags": "worksheet-0",
    "slideshow": {
     "slide_type": "-"
    }
   },
   "outputs": [
    {
     "name": "stdout",
     "output_type": "stream",
     "text": [
      "1 1 2 3 5 8 13 21 34 55 89 144 233 377 610 987 1597 2584 4181 "
     ]
    }
   ],
   "source": [
    "a, b = 0, 1\n",
    "while b < 5000:\n",
    "  print (b, end=' ')\n",
    "  a, b = b, a+b"
   ]
  },
  {
   "cell_type": "code",
   "execution_count": 74,
   "metadata": {
    "autoscroll": false,
    "ein.hycell": false,
    "ein.tags": "worksheet-0",
    "slideshow": {
     "slide_type": "-"
    }
   },
   "outputs": [
    {
     "name": "stdout",
     "output_type": "stream",
     "text": [
      "1 2 3 5 13 21 34 55 89 144 233 377 610 987 1597 2584 4181 6765 "
     ]
    }
   ],
   "source": [
    "a, b = 0, 1\n",
    "while b < 5000:\n",
    "  a, b = b, a+b\n",
    "  if b == 8:\n",
    "    continue\n",
    "  print (b, end=' ')\n"
   ]
  },
  {
   "cell_type": "markdown",
   "metadata": {},
   "source": [
    "----\n",
    "\n",
    "## Ejercicios 03 (a)\n",
    "\n",
    "1. De  los primeros 100 números naturales imprimir aquellos que no son divisibles por alguno de 2, 3, 5 o 7.\n",
    "\n",
    "2. Usando estructuras de control, calcule la suma:\n",
    "   $$ s_{1} = \\frac{1}{2} \\left(\\sum_{k=1}^{100}k^{-1} \\right)$$\n",
    "\n",
    "    1. Incluyendo todos los valores de `k`\n",
    "    2. Incluyendo únicamente los valores pares de `k`.\n",
    "\n",
    "3. Calcule la suma\n",
    "$$s_{2} = \\sum_{k=1}^{\\infty} \\frac{(-1)^{k} (k+1)}{2 k^{3} + k^{2}}$$\n",
    "con un error relativo estimado menor a $\\epsilon=10^{-5}$. Imprima por pantalla el resultado, el valor máximo de $k$ computado y el error relativo estimado.\n",
    "\n",
    "\n",
    "4. Imprima por pantalla una tabla con valores equiespaciados de x entre 0 y 180, con valores de las funciones trigonométricas de la forma:\n",
    "\n",
    "  ```python\n",
    "  \n",
    "  \"\"\"\n",
    "    |=================================|\n",
    "    | x  | sen(x) | cos(x) | tan(-x/4)|\n",
    "    |=================================|\n",
    "    |  0 |  0.000 |  1.000 |  -0.000  |\n",
    "    | 10 |  0.174 |  0.985 |  -0.044  |\n",
    "    | 20 |  0.342 |  0.940 |  -0.087  |\n",
    "    | 30 |  0.500 |  0.866 |  -0.132  |\n",
    "    | 40 |  0.643 |  0.766 |  -0.176  |\n",
    "    | 50 |  0.766 |  0.643 |  -0.222  |\n",
    "    | 60 |  0.866 |  0.500 |  -0.268  |\n",
    "    | 70 |  0.940 |  0.342 |  -0.315  |\n",
    "    | 80 |  0.985 |  0.174 |  -0.364  |\n",
    "    | 90 |  1.000 |  0.000 |  -0.414  |\n",
    "    |100 |  0.985 | -0.174 |  -0.466  |\n",
    "    |110 |  0.940 | -0.342 |  -0.521  |\n",
    "    |120 |  0.866 | -0.500 |  -0.577  |\n",
    "    |130 |  0.766 | -0.643 |  -0.637  |\n",
    "    |140 |  0.643 | -0.766 |  -0.700  |\n",
    "    |150 |  0.500 | -0.866 |  -0.767  |\n",
    "    |160 |  0.342 | -0.940 |  -0.839  |\n",
    "    |170 |  0.174 | -0.985 |  -0.916  |\n",
    "    |=================================|\n",
    "  \"\"\"\n",
    "  ```\n",
    "\n",
    "\n",
    "----"
   ]
  }
 ],
 "metadata": {
  "kernelspec": {
   "display_name": "Python 3",
   "language": "python",
   "name": "python3"
  },
  "language_info": {
   "codemirror_mode": {
    "name": "ipython",
    "version": 3
   },
   "file_extension": ".py",
   "mimetype": "text/x-python",
   "name": "python",
   "nbconvert_exporter": "python",
   "pygments_lexer": "ipython3",
   "version": "3.10.2"
  },
  "name": "03_1_tipos_control.ipynb",
  "toc": {
   "base_numbering": 1,
   "nav_menu": {
    "height": "364.1px",
    "width": "251.333px"
   },
   "number_sections": true,
   "sideBar": true,
   "skip_h1_title": true,
   "title_cell": "Contenidos",
   "title_sidebar": "Contenidos",
   "toc_cell": false,
   "toc_position": null,
   "toc_section_display": true,
   "toc_window_display": false
  }
 },
 "nbformat": 4,
 "nbformat_minor": 1
}
