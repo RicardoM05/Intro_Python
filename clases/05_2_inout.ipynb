{
 "cells": [
  {
   "cell_type": "markdown",
   "id": "ea8a79b8-d10d-4942-b3a4-4bf8edbf624a",
   "metadata": {
    "collapsed": false
   },
   "source": [
    "\n",
    "## Escritura y lectura a archivos\n",
    "\n",
    "Nuestros programas necesitan interactuar con el mundo exterior. Hasta ahora utilizamos la función `print()` para imprimir por pantalla mensajes y resultados. Para leer o escribir un archivo primero debemos abrirlo, utilizando la función `open()`"
   ]
  },
  {
   "cell_type": "code",
   "execution_count": null,
   "id": "7578bfe0-fb65-4523-acd5-bb99f0572e31",
   "metadata": {
    "collapsed": false
   },
   "outputs": [],
   "source": [
    "f = open('../data/names.txt')   # Abrimos el archivo (para leer)"
   ]
  },
  {
   "cell_type": "code",
   "execution_count": null,
   "id": "9ecb6d90-904e-4717-8b25-76eb2016330e",
   "metadata": {
    "collapsed": false
   },
   "outputs": [],
   "source": [
    "f"
   ]
  },
  {
   "cell_type": "code",
   "execution_count": null,
   "id": "9684fd80-98da-4d7e-ab18-9527ccc6638d",
   "metadata": {
    "collapsed": false
   },
   "outputs": [],
   "source": [
    "s = f.read()                    # Leemos el archivo"
   ]
  },
  {
   "cell_type": "code",
   "execution_count": null,
   "id": "9a7d0936-4377-4012-8134-4f74bdb6c168",
   "metadata": {
    "collapsed": false
   },
   "outputs": [],
   "source": [
    "f.close()                       # Cerramos el archivo"
   ]
  },
  {
   "cell_type": "code",
   "execution_count": null,
   "id": "7db13466-db62-4d98-9913-750ca337bff4",
   "metadata": {
    "collapsed": false
   },
   "outputs": [],
   "source": [
    "print(s[:100])"
   ]
  },
  {
   "cell_type": "markdown",
   "id": "d8acadfa-c232-4e95-94cf-e849383c3356",
   "metadata": {
    "collapsed": false
   },
   "source": [
    "Esta secuencia básica de trabajo en adecuada y muy común en el trabajo con archivos. Sin embargo, hay un potencial problema, que ocurrirá si hay algún error entre la apertura y el cierre del archivo. Para ello existe una sintaxis alternativa"
   ]
  },
  {
   "cell_type": "code",
   "execution_count": null,
   "id": "b1541468-1ee7-46f1-8924-06a603800463",
   "metadata": {
    "collapsed": false
   },
   "outputs": [],
   "source": [
    "with open('../data/names.txt') as fi:\n",
    "  s = fi.read()\n",
    "print(s[:50])"
   ]
  },
  {
   "cell_type": "code",
   "execution_count": null,
   "id": "e2dcce46-06c4-40e5-8009-0184d7f2cc67",
   "metadata": {
    "collapsed": false
   },
   "outputs": [],
   "source": [
    "# fi todavía existe pero está cerrado\n",
    "fi"
   ]
  },
  {
   "cell_type": "markdown",
   "id": "f4799551-15e6-415f-9539-a5fc6fb21c37",
   "metadata": {
    "collapsed": false
   },
   "source": [
    "La palabra `with` es una palabra reservada del lenguaje y la construcción se conoce como *contexto*. Básicamente dice que todo lo que está dentro del bloque se realizará en el contexto en que `f` es el objeto de archivo abierto para lectura."
   ]
  },
  {
   "cell_type": "markdown",
   "id": "1f06dcfe-c7c8-4ceb-801f-35b8a3b89a2a",
   "metadata": {
    "collapsed": false
   },
   "source": [
    "### Ejemplos\n",
    "\n",
    "Vamos a repasar algunos de los conceptos discutidos las clases anteriores e introducir algunas nuevas funcionalidades con ejemplos\n",
    "\n",
    "#### Ejemplo 05-1\n"
   ]
  },
  {
   "cell_type": "code",
   "execution_count": null,
   "id": "cb19642b-1f1b-498d-8996-7ec80fb853a1",
   "metadata": {
    "collapsed": false
   },
   "outputs": [],
   "source": [
    "!head ../data/names.txt # Muestro el contenido del archivo"
   ]
  },
  {
   "cell_type": "code",
   "execution_count": null,
   "id": "605d04d0-8864-4e6d-a4af-48056c374301",
   "metadata": {
    "collapsed": false
   },
   "outputs": [],
   "source": [
    "fname = '../data/names.txt'\n",
    "n = 0                           # contador\n",
    "minlen = 3                      # longitud mínima\n",
    "maxlen = 3                      # longitud máxima\n",
    "\n",
    "with  open(fname, 'r') as fi:\n",
    "  lines = fi.readlines()        # El resultado es una lista\n",
    "\n",
    "for line in lines:\n",
    "  if minlen <= len(line.strip()) <= maxlen:\n",
    "    n += 1\n",
    "    print(line.strip(), end=', ')  # No Newline\n",
    "\n",
    "print('\\n')\n",
    "if minlen == maxlen:\n",
    "  mensaje = 'Encontramos {} palabras que tienen {} letras'.format(n, minlen)\n",
    "else:\n",
    "  mensaje = 'Encontramos {0} palabras que tienen entre {1} y {2} letras'\\\n",
    "      .format(n, minlen, maxlen)\n",
    "\n",
    "print(mensaje)\n"
   ]
  },
  {
   "cell_type": "markdown",
   "id": "d71534fe-8972-48fd-b3a1-edb8859cd544",
   "metadata": {
    "collapsed": false
   },
   "source": [
    "Hemos utilizado aquí:\n",
    "\n",
    "* Apertura, lectura, y cerrado de archivos \n",
    "* Iteración en un loop `for`\n",
    "* Bloques condicionesles (if/else)\n",
    "* Formato de cadenas de caracteres con reemplazo\n",
    "* Impresión por pantalla\n",
    "\n",
    " La apertura de archivos se realiza utilizando la función `open` (este es un buen momento para mirar su documentación) con dos argumentos: el primero es el nombre del archivo y el segundo el modo en que queremos abrilo (en este caso la `r` indica lectura).\n",
    "\n",
    "Con el archivo abierto, en la línea 9 leemos línea por línea todo el archivo. El resultado es una lista, donde cada elemento es una línea.\n",
    "\n",
    "Recorremos la lista, y en cada elemento comparamos la longitud de la línea con ciertos valores. Imprimimos las líneas seleccionadas\n",
    "\n",
    "Finalmente, escribimos el número total de líneas.\n",
    "\n",
    "Veamos una leve modificación de este programa\n",
    "\n",
    "#### Ejemplo 05-2"
   ]
  },
  {
   "cell_type": "code",
   "execution_count": null,
   "id": "0c2e7e89-8014-44d0-9b04-d7b26b8bbe27",
   "metadata": {
    "collapsed": false
   },
   "outputs": [],
   "source": [
    "\"\"\"Programa para contar e imprimir las palabras de una longitud dada\"\"\"\n",
    "\n",
    "fname = '../data/names.txt'\n",
    "\n",
    "n = 0                           # contador\n",
    "minlen = 3                      # longitud mínima\n",
    "maxlen = 3                      # longitud máxima\n",
    "\n",
    "with  open(fname, 'r') as fi:\n",
    "  for line in fi:\n",
    "    p = line.strip().lower()\n",
    "    if (minlen <= len(p) <= maxlen) and (p == p[::-1]):\n",
    "      n += 1\n",
    "      print('({:02d}): {}'.format(n, p), end=', ')  # Vamos numerando las coincidencias\n",
    "print('\\n')\n",
    "if minlen == maxlen:\n",
    "  mensaje = ('Encontramos un total de {} palabras capicúa que tienen {} letras'.\n",
    "             format(n, minlen))\n",
    "else:\n",
    "  mensaje = 'Encontramos un total de {} palabras que tienen\\\n",
    " entre {} y {} letras'.format(n, minlen, maxlen)\n",
    "\n",
    "print(mensaje)\n"
   ]
  },
  {
   "cell_type": "markdown",
   "id": "c4601929-64dd-42a3-a0b3-00ba028b2238",
   "metadata": {
    "collapsed": false
   },
   "source": [
    "Aquí en lugar de leer todas las líneas e iterar sobre las líneas resultantes, iteramos directamente sobre el archivo abierto.\n",
    "\n",
    "Además incluimos un string al principio del archivo, que servirá de documentación, y puede accederse mediante los mecanismos usuales de ayuda de Python.\n",
    "\n",
    "Imprimimos el número de palabra junto con la palabra, usamos `02d`, indicando que es un entero (`d`), que queremos que el campo sea de un mínimo número de caracteres de ancho (en este caso 2). Al escribirlo como `02` le pedimos que complete los vacíos con ceros.\n",
    "\n"
   ]
  },
  {
   "cell_type": "code",
   "execution_count": null,
   "id": "16d9ecdc-b3ee-43ce-aa7a-cd1b9699ab35",
   "metadata": {
    "collapsed": false
   },
   "outputs": [],
   "source": [
    "s = \"Hola\\n y chau\"\n",
    "with open('tmp.txt','w') as fo:\n",
    "    fo.write(s)\n",
    "    "
   ]
  },
  {
   "cell_type": "code",
   "execution_count": null,
   "id": "18c80c43-10e6-4194-9083-e2da9e9e067d",
   "metadata": {
    "collapsed": false
   },
   "outputs": [],
   "source": [
    "!cat tmp.txt"
   ]
  },
  {
   "cell_type": "markdown",
   "id": "750dfafc-aeac-4efd-b4a1-5e57f57bbbf3",
   "metadata": {
    "collapsed": false
   },
   "source": [
    "\n",
    "## Archivos comprimidos\n",
    "\n",
    "Existen varias formas de reducir el tamaño de los archivos de datos.  Varios factores, tales como el sistema operativo, nuestra familiaridad con cada uno de ellos, le da una cierta preferencia a algunos de los métodos disponibles. Veamos cómo hacer para leer y escribir algunos de los siguientes formatos: **zip, gzip, bz2** \n"
   ]
  },
  {
   "cell_type": "code",
   "execution_count": null,
   "id": "289006c2-bfec-436c-bcc8-8a058d2003ce",
   "metadata": {
    "collapsed": false
   },
   "outputs": [],
   "source": [
    "import gzip\n",
    "import bz2"
   ]
  },
  {
   "cell_type": "code",
   "execution_count": null,
   "id": "53e8f032-3592-42bb-95cd-4325dfc8069b",
   "metadata": {
    "collapsed": false
   },
   "outputs": [],
   "source": [
    "with gzip.open('../data/palabras.words.gz', 'rb') as fi:\n",
    "  a = fi.read()\n"
   ]
  },
  {
   "cell_type": "code",
   "execution_count": null,
   "id": "98987860-b3fd-4c6f-80f5-ce558aaf0e8f",
   "metadata": {
    "collapsed": false
   },
   "outputs": [],
   "source": [
    "l= a.splitlines()\n",
    "print(l[:10])"
   ]
  },
  {
   "cell_type": "code",
   "execution_count": null,
   "id": "dd3ea63f-2440-491e-9fdd-f6f0c9b09ca8",
   "metadata": {
    "collapsed": false
   },
   "outputs": [],
   "source": [
    "l[0]"
   ]
  },
  {
   "cell_type": "code",
   "execution_count": null,
   "id": "618b9a3c-2603-4550-8bce-f9c96c7db770",
   "metadata": {
    "collapsed": false
   },
   "outputs": [],
   "source": [
    "str(l[0])"
   ]
  },
  {
   "cell_type": "markdown",
   "id": "a48bb432-9f6d-43c6-89d9-309e6b1ba582",
   "metadata": {
    "collapsed": false
   },
   "source": [
    "--------\n",
    "\n",
    "**Nota:** Vemos que el archivo tiene algunos caracteres que no podemos interpretar. Por ejemplo:\n",
    "\n",
    "```python\n",
    "\n",
    "l[0] = \"b'\\\\xc3\\\\x81frica'\"\n",
    "l[0] = str(l[0])\n",
    "\n",
    "```\n",
    "\n",
    "Esto indica que la variable es del tipo \"bytes\", que es la manera en que python describe los strings, pero hay un caracter que no sabemos como mostrar. Para hacerlo debemos codificarlo:\n",
    "\n",
    "\n",
    "```python\n",
    "\n",
    "str(l[0], encoding='utf-8') = 'África'\n",
    "\n",
    "```\n",
    "\n",
    "--------\n"
   ]
  },
  {
   "cell_type": "code",
   "execution_count": null,
   "id": "8839e02a-ddfb-40a9-ae4f-560593771ab7",
   "metadata": {
    "collapsed": false
   },
   "outputs": [],
   "source": [
    "str(l[0], encoding='utf-8')"
   ]
  },
  {
   "cell_type": "markdown",
   "id": "5dbacdf1-c97b-4944-8b84-a98ec85abc7a",
   "metadata": {
    "collapsed": false
   },
   "source": [
    "Con todo esto podríamos escribir (si tuviéramos necesidad) una función que puede leer un archivo en cualquiera de estos formatos"
   ]
  },
  {
   "cell_type": "code",
   "execution_count": null,
   "id": "fda75615-433f-4728-9ada-9bcf4cf428bf",
   "metadata": {
    "collapsed": false
   },
   "outputs": [],
   "source": [
    "import gzip\n",
    "import bz2\n",
    "from os.path import splitext\n",
    "import zipfile\n",
    "\n",
    "def abrir(fname, mode='r'):\n",
    "  if fname.endswith('gz'):\n",
    "    fi= gzip.open(fname, mode=mode)\n",
    "  elif fname.endswith('bz2'):\n",
    "    fi= bz2.open(fname, mode=mode)    \n",
    "  elif fname.endswith('zip'):\n",
    "    fi= zipfile.ZipFile(fname, mode=mode)\n",
    "  else:\n",
    "    fi = open(fname, mode=mode)\n",
    "  return fi"
   ]
  },
  {
   "cell_type": "code",
   "execution_count": null,
   "id": "22a4ea07-9f33-4199-b443-fd235cf25e57",
   "metadata": {
    "collapsed": false
   },
   "outputs": [],
   "source": [
    "ff= abrir('../data/palabras.words.gz')\n",
    "a = ff.read()\n",
    "ff.close()"
   ]
  },
  {
   "cell_type": "code",
   "execution_count": null,
   "id": "f4bb4f3e-63e2-4213-8475-a13f5f86df15",
   "metadata": {
    "collapsed": false
   },
   "outputs": [],
   "source": [
    "l = a.splitlines()"
   ]
  },
  {
   "cell_type": "code",
   "execution_count": null,
   "id": "41600c9f-858d-45b5-b261-48f03a333e2d",
   "metadata": {
    "collapsed": false
   },
   "outputs": [],
   "source": [
    "print(str(l[0], encoding='utf-8'))"
   ]
  },
  {
   "cell_type": "markdown",
   "id": "7d819aea-542e-4fda-baa5-3ad7c92dd7c4",
   "metadata": {
    "collapsed": false
   },
   "source": [
    "-----\n",
    "\n",
    "## Ejercicios 05 (a)\n",
    "\n",
    "1. Realice un programa que:\n",
    "  * Lea el archivo **names.txt**\n",
    "  * Guarde en un nuevo archivo (llamado \"pares.txt\") palabra por medio del archivo original (la primera, tercera, ...) una por línea, pero en el orden inverso al leído\n",
    "  * Agregue al final de dicho archivo, las palabras pares pero separadas por un punto y coma (;)\n",
    "  * En un archivo llamado \"longitudes.txt\" guarde las palabras ordenadas por su longitud, y para cada longitud ordenadas alfabéticamente.\n",
    "  * En un archivo llamado \"letras.txt\" guarde sólo aquellas palabras que contienen las letras `w,x,y,z`, con el formato:\n",
    "    - w: Walter, ....\n",
    "    - x: Xilofón, ...\n",
    "    - y: ....\n",
    "    - z: ....\n",
    "  * Cree un diccionario, donde cada *key* es la primera letra y cada valor es una lista, cuyo elemento es una tuple (palabra, longitud). Por ejemplo:\n",
    "  ```python\n",
    "  d['a'] = [('Aaa',3),('Anna', 4), ...]\n",
    "  ```\n",
    "\n",
    "\n",
    "2. Realice un programa para:\n",
    "    * Leer los datos del archivo **aluminio.dat** y poner los datos del elemento en un diccionario de la forma:\n",
    "```python\n",
    "    d = {'S': 'Al', 'Z':13, 'A':27, 'M': '26.98153863(12)', 'P': 1.0000, 'MS':'26.9815386(8)'}\n",
    "    ```\n",
    "    * Modifique el programa anterior para que las masas sean números (`float`) y descarte el valor de la incerteza (el número entre paréntesis)\n",
    "    * Agregue el código necesario para obtener una impresión de la forma:\n",
    "```\n",
    "    Elemento: Al\n",
    "    Número Atómico: 13\n",
    "    Número de Masa: 27\n",
    "    Masa: 26.98154\n",
    "```\n",
    "\n",
    "      Note que la masa sólo debe contener 5 números decimales\n",
    "\n",
    "-----"
   ]
  },
  {
   "cell_type": "markdown",
   "id": "ac8ff4ea-c6b2-4aa4-9a7f-8f996976de84",
   "metadata": {
    "collapsed": false
   },
   "source": [
    "--------\n",
    "\n",
    "**Nota:** Los archivos de texto \"names.txt\" y \"Aluminio.txt\" (así como otros archivos usados en las clases) pueden encontrarse en la carpeta [intro-python](https://drive.google.com/drive/folders/1jv8qxgY9vVBw-3pBtFwjuQUH-C9aVGSR?usp=sharing)\n",
    "\n",
    "--------\n"
   ]
  }
 ],
 "metadata": {
  "kernelspec": {
   "argv": [
    "python",
    "-m",
    "ipykernel_launcher",
    "-f",
    "{connection_file}"
   ],
   "display_name": "Python 3 (ipykernel)",
   "env": null,
   "interrupt_mode": "signal",
   "language": "python",
   "metadata": {
    "debugger": true
   },
   "name": "python3"
  },
  "language_info": {
   "codemirror_mode": {
    "name": "ipython",
    "version": 3
   },
   "file_extension": ".py",
   "mimetype": "text/x-python",
   "name": "python",
   "nbconvert_exporter": "python",
   "pygments_lexer": "ipython3",
   "version": "3.10.2"
  },
  "name": "05_2_inout.ipynb",
  "toc": {
   "base_numbering": 1,
   "nav_menu": null,
   "number_sections": true,
   "sideBar": true,
   "skip_h1_title": true,
   "title_cell": "Contenidos",
   "title_sidebar": "Contenidos",
   "toc_cell": false,
   "toc_position": null,
   "toc_section_display": true,
   "toc_window_display": false
  }
 },
 "nbformat": 4,
 "nbformat_minor": 4
}
