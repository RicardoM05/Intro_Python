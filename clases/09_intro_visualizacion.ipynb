{
 "cells": [
  {
   "cell_type": "markdown",
   "metadata": {
    "ein.tags": "worksheet-0",
    "slideshow": {
     "slide_type": "-"
    }
   },
   "source": [
    "# Visualización   <a class=\"tocSkip\">\n",
    "\n",
    "Para graficar datos y funciones vamos a usar la biblioteca **Matplotlib**.\n",
    "Vamos a empezar discutiendo algunas de las características más generales del trabajo con esta biblioteca y mostrar algún ejemplo relativamente sencillo.\n",
    "Matplotlib está dividido en tres partes o capas conceptualmente bien delimitadas:\n",
    "\n",
    "* Una parte es la que hace el trabajo más pesado administrando cada parte del gráfico (líneas, texto, figuras, etc)\n",
    "* Una segunda parte que permite un uso simple de las funciones anteriores: El módulo **pyplot**.\n",
    "* Una tercera parte que se encarga de presentar la figura en el formato adecuado. Esto es lo que se llama el *\"Backend\"* y se encarga de mostrar la figura en los distintos sistemas de ventanas, o en formatos de archivos correspondientes. Algunos ejemplos de *backend* son: PS (copias PostScript®), SVG (Scalable Vector Graphics), Agg (salida PNG de muy buena calidad), Cairo (png, pdf, ps, svg), GTK (interactivo, permite integrar matplotlib con aplicaciones Gtk+, que usa GNOME), PDF, WxWidgets (interactivo), Qt (interactivo).\n",
    "\n",
    "Nosotros vamos a concentrarnos principalmente en aprender a utilizar **pyplot**\n"
   ]
  },
  {
   "cell_type": "markdown",
   "metadata": {
    "ein.tags": "worksheet-0",
    "slideshow": {
     "slide_type": "-"
    }
   },
   "source": [
    "## Interactividad\n",
    "### Trabajo con ventanas emergentes\n",
    "\n",
    "Para trabajar en forma interactiva con gráficos vamos a hacerlo desde una terminal de `Ipython`"
   ]
  },
  {
   "cell_type": "markdown",
   "metadata": {
    "ein.tags": "worksheet-0",
    "slideshow": {
     "slide_type": "-"
    }
   },
   "source": [
    "```python\n",
    "  import matplotlib.pyplot as plt # o equivalentemente:\n",
    "  # from matplotlib import pyplot as plt\n",
    "  plt.plot([0,1,4,9,16,25])\n",
    "```"
   ]
  },
  {
   "cell_type": "markdown",
   "metadata": {
    "ein.tags": "worksheet-0",
    "slideshow": {
     "slide_type": "-"
    }
   },
   "source": [
    "El comando (la función) `plot()` crea el gráfico pero no lo muestra. Lo hacemos explícitamente con el comando `show()`\n",
    "```python\n",
    "  plt.show()\n",
    "```"
   ]
  },
  {
   "cell_type": "markdown",
   "metadata": {
    "ein.tags": "worksheet-0",
    "slideshow": {
     "slide_type": "-"
    }
   },
   "source": [
    "Vemos que es muy simple graficar datos.\n",
    "\n",
    "Algunas cosas a notar:\n",
    "\n",
    "1. Se abre una ventana\n",
    "2. Se bloquea la terminal (no podemos dar nuevos comandos)\n",
    "3. Si pasamos el *mouse* sobre el gráfico nos muestra las coordenadas.\n",
    "4. Además del gráfico hay una barra de herramientas:\n",
    "![](figuras/matplotlib_toolbar.png)\n",
    "De derecha a izquierda tenemos:\n",
    "  - **Grabar:** Este botón abre una ventana para guardar el gráfico en alguno de los formatos disponibles.\n",
    "  \n",
    "  - **Configuración de subplots:** Permite modificar el tamaño y posición de cada gráfico en la ventana.\n",
    "  \n",
    "  - **Agrandar (zoom) a rectángulo:**\n",
    "     - Si elegimos una región mientras apretamos el botón **izquierdo**, esta será la nueva región visible ocupando toda la ventana.\n",
    "     - Si elegimos una región mientras apretamos el botón **derecho**, pone toda la vista actual en esta región.\n",
    "  \n",
    "  - **Desplazar y agrandar (Pan and zoom):** Este botón cumple dos funciones diferentes:\n",
    "     - Con el botón izquierdo desplaza la vista. \n",
    "     - Con el botón derecho la vista se agrandará achicará en los ejes horizontal y vertical en una cantidad proporcional al movimiento.\n",
    "     \n",
    "     Si se oprime las teclas `x` o `y` las dos funciones quedan restringidas al eje correspondiente.\n",
    "  \n",
    "  - **Home, Back, Forward** son botones que nos llevan a la vista original, una vista hacia atrás o hacia adelante respectivamente\n",
    "  "
   ]
  },
  {
   "cell_type": "markdown",
   "metadata": {
    "ein.tags": "worksheet-0",
    "slideshow": {
     "slide_type": "-"
    }
   },
   "source": [
    "Si ocurre, como en este caso, que proveemos sólo una lista de datos, la función `plot()` la interpreta como los valores correspondientes al eje vertical (eje y), y toma el índice del dato para la variable independiente (eje x). Si queremos dar valores explícitamente para el eje x debemos pasarlos como primer argumento. "
   ]
  },
  {
   "cell_type": "markdown",
   "metadata": {
    "ein.tags": "worksheet-0",
    "slideshow": {
     "slide_type": "-"
    }
   },
   "source": [
    "```python\n",
    "plt.plot([0,1,2,3,4,5],[0,1,4,9,16,25])\n",
    "plt.show()\n",
    "```"
   ]
  },
  {
   "cell_type": "markdown",
   "metadata": {
    "ein.tags": "worksheet-0",
    "slideshow": {
     "slide_type": "-"
    }
   },
   "source": [
    "Como vemos, para que muestre la ventana debemos hacer un llamado explícito a la función `show()`. Esto es así porque muchas veces queremos realizar más de una operación sobre un gráfico antes de mostrarlo. Sin embargo, hay varias alternativas respecto a la interactividad de matplotlib (e ipython) que permiten adecuarla a nuestro flujo de trabajo. La manera más común en una terminal es utilizando las función `ion()` (**i**nteractive **on**) para hacerlo interactivo y la función `ioff()` para no interactivo."
   ]
  },
  {
   "cell_type": "markdown",
   "metadata": {
    "ein.tags": "worksheet-0",
    "slideshow": {
     "slide_type": "-"
    }
   },
   "source": [
    "```python\n",
    "plt.ion()           # Prendemos el modo interactivo\n",
    "plt.plot([0,1,2,3,4,5],[0,1,4,9,16,25])\n",
    "```\n",
    "\n",
    "En el modo interactivo no sólo `plot()` tiene implícito el comando `show()` sino que podemos seguir ingresando comandos con el gráfico abierto.\n"
   ]
  },
  {
   "cell_type": "markdown",
   "metadata": {
    "ein.tags": "worksheet-0",
    "slideshow": {
     "slide_type": "-"
    }
   },
   "source": [
    "### Trabajo sobre notebooks\n",
    "\n",
    "Para trabajar en *ipython notebooks* suele ser conveniente realizar los gráficos dentro de la misma página donde realizamos los cálculos. Si esto no ocurre automáticamente, se puede obtener con la siguiente línea:\n",
    "```python\n",
    "%matplotlib inline\n",
    "```"
   ]
  },
  {
   "cell_type": "code",
   "execution_count": 4,
   "metadata": {
    "autoscroll": false,
    "ein.hycell": false,
    "ein.tags": "worksheet-0",
    "slideshow": {
     "slide_type": "-"
    }
   },
   "outputs": [
    {
     "data": {
      "text/plain": [
       "[<matplotlib.lines.Line2D at 0x7fa9f8f9ef90>]"
      ]
     },
     "execution_count": 4,
     "metadata": {},
     "output_type": "execute_result"
    },
    {
     "data": {
      "image/png": "[encoded data removed]",
      "text/plain": [
       "<Figure size 432x288 with 1 Axes>"
      ]
     },
     "metadata": {
      "needs_background": "light"
     },
     "output_type": "display_data"
    }
   ],
   "source": [
    "import matplotlib.pyplot as plt\n",
    "# %matplotlib inline\n",
    "plt.plot([1,2,3,4,5,6],[0,1,4,9,16,25])"
   ]
  },
  {
   "cell_type": "markdown",
   "metadata": {
    "ein.tags": "worksheet-0",
    "slideshow": {
     "slide_type": "-"
    }
   },
   "source": [
    "En la práctica vamos a usar siempre **Matplotlib** junto con **Numpy**."
   ]
  },
  {
   "cell_type": "code",
   "execution_count": 3,
   "metadata": {
    "autoscroll": false,
    "ein.hycell": false,
    "ein.tags": "worksheet-0",
    "slideshow": {
     "slide_type": "-"
    }
   },
   "outputs": [],
   "source": [
    "import numpy as np\n",
    "import matplotlib.pyplot as plt"
   ]
  },
  {
   "cell_type": "markdown",
   "metadata": {
    "ein.tags": "worksheet-0",
    "slideshow": {
     "slide_type": "-"
    }
   },
   "source": [
    "## Gráficos simples"
   ]
  },
  {
   "cell_type": "markdown",
   "metadata": {
    "ein.tags": "worksheet-0",
    "slideshow": {
     "slide_type": "-"
    }
   },
   "source": [
    "El paquete *Matplotlib* permite visualizar datos guardados en un archivo con unas pocas líneas"
   ]
  },
  {
   "cell_type": "code",
   "execution_count": 5,
   "metadata": {
    "autoscroll": false,
    "ein.hycell": false,
    "ein.tags": "worksheet-0",
    "slideshow": {
     "slide_type": "-"
    }
   },
   "outputs": [],
   "source": [
    "fdatos = '../data/ej_oscil_aten_err.dat'"
   ]
  },
  {
   "cell_type": "code",
   "execution_count": 6,
   "metadata": {
    "autoscroll": false,
    "ein.hycell": false,
    "ein.tags": "worksheet-0",
    "slideshow": {
     "slide_type": "-"
    }
   },
   "outputs": [
    {
     "data": {
      "text/plain": [
       "[<matplotlib.lines.Line2D at 0x7fa9f8f1a790>]"
      ]
     },
     "execution_count": 6,
     "metadata": {},
     "output_type": "execute_result"
    },
    {
     "data": {
      "image/png": "[encoded data removed]",
      "text/plain": [
       "<Figure size 432x288 with 1 Axes>"
      ]
     },
     "metadata": {
      "needs_background": "light"
     },
     "output_type": "display_data"
    }
   ],
   "source": [
    "x, y, yexp = np.loadtxt(fdatos, unpack=True)\n",
    "plt.plot(x, y)"
   ]
  },
  {
   "cell_type": "markdown",
   "metadata": {
    "ein.tags": "worksheet-0",
    "slideshow": {
     "slide_type": "-"
    }
   },
   "source": [
    "Como vemos, es la curva que graficamos la clase anterior. \n",
    "\n",
    "Si miramos el archivo vamos a ver que tiene una columna más que corresponde a los valores medidos. En consecuencia le asignamos esta tercera columna a una variable adicional `yexp` al leerlo."
   ]
  },
  {
   "cell_type": "code",
   "execution_count": 7,
   "metadata": {
    "autoscroll": false,
    "ein.hycell": false,
    "ein.tags": "worksheet-0",
    "slideshow": {
     "slide_type": "-"
    }
   },
   "outputs": [
    {
     "name": "stdout",
     "output_type": "stream",
     "text": [
      "#   x           teo           exp\r\n",
      "0.0000000e+00 0.0000000e+00 0.0000000e+00\r\n",
      "1.0507000e-02 1.1576170e-05 1.4544540e-05\r\n",
      "2.1014000e-02 9.2052870e-05 7.5934893e-05\r\n",
      "3.1521000e-02 3.0756500e-04 1.8990066e-04\r\n",
      "4.2028000e-02 7.1879320e-04 6.1217896e-04\r\n",
      "5.2534990e-02 1.3784280e-03 1.2133173e-03\r\n",
      "6.3041990e-02 2.3288570e-03 9.5734774e-04\r\n",
      "7.3548990e-02 3.6001450e-03 3.5780825e-03\r\n",
      "8.4055990e-02 5.2083560e-03 4.4485492e-03\r\n"
     ]
    }
   ],
   "source": [
    "!head ../data/ej_oscil_aten_err.dat"
   ]
  },
  {
   "cell_type": "code",
   "execution_count": 8,
   "metadata": {
    "autoscroll": false,
    "ein.hycell": false,
    "ein.tags": "worksheet-0",
    "slideshow": {
     "slide_type": "-"
    }
   },
   "outputs": [
    {
     "data": {
      "text/plain": [
       "[<matplotlib.lines.Line2D at 0x7fa9f8f07850>,\n",
       " <matplotlib.lines.Line2D at 0x7fa9f8f07ad0>]"
      ]
     },
     "execution_count": 8,
     "metadata": {},
     "output_type": "execute_result"
    },
    {
     "data": {
      "image/png": "[encoded data removed]",
      "text/plain": [
       "<Figure size 432x288 with 1 Axes>"
      ]
     },
     "metadata": {
      "needs_background": "light"
     },
     "output_type": "display_data"
    }
   ],
   "source": [
    "# Graficamos las segunda y tercera columna como función de la primera\n",
    "plt.plot(x,yexp, x,y)"
   ]
  },
  {
   "cell_type": "markdown",
   "metadata": {
    "ein.tags": "worksheet-0",
    "slideshow": {
     "slide_type": "-"
    }
   },
   "source": [
    "## Formato de las curvas\n",
    "En los gráficos anteriores usamos la función `plot()` en sus formas más simples.\n",
    "\n",
    "```python\n",
    "plot(y)\n",
    "plot(x,y)\n",
    "plot(x1,y1, x2, y2)\n",
    "```\n",
    "\n",
    "dando a la función `plot()` la información mínima necesaria para graficar los datos.\n",
    "Usualmente queremos poder elegir cómo vamos a graficar nuestros datos.\n"
   ]
  },
  {
   "cell_type": "markdown",
   "metadata": {
    "ein.tags": "worksheet-0",
    "slideshow": {
     "slide_type": "-"
    }
   },
   "source": [
    "### Líneas, símbolos y colores\n",
    "\n",
    "La forma más simple de elegir el modo de graficación de la curva es a través de un tercer argumento.\n",
    "Este argumento, que aparece inmediatamente después de los datos (x e y), permite controlar el tipo de línea o símbolo utilizado en la graficación. En el caso de la línea sólida se puede especificar con un guión ('-') o simplemente no poner nada, ya que línea sólida es el símbolo por defecto. Las dos especificaciones anteriores son equivalentes. También se puede elegir el color, o el símbolo a utilizar con este argumento:\n",
    "\n",
    "```python\n",
    "plot(x,y,'g-')\n",
    "plot(x,y,'ro')\n",
    "plot(x,y,'r-o')\n",
    "```\n",
    "\n",
    "![](figuras/simple_linea_simb.png)\n",
    "\n",
    "Para obtener círculos usamos una especificación que corresponde a 'o'. Además podemos poner en este argumento el color. En este caso elegimos graficar en color \"rojo (r), con una línea (-) + círculos (o)\".\n",
    "\n",
    "Con esta idea modificamos el gráfico anterior"
   ]
  },
  {
   "cell_type": "code",
   "execution_count": 9,
   "metadata": {
    "autoscroll": false,
    "ein.hycell": false,
    "ein.tags": "worksheet-0",
    "slideshow": {
     "slide_type": "-"
    }
   },
   "outputs": [
    {
     "data": {
      "text/plain": [
       "[<matplotlib.lines.Line2D at 0x7fa9f8857d90>,\n",
       " <matplotlib.lines.Line2D at 0x7fa9f8857fd0>]"
      ]
     },
     "execution_count": 9,
     "metadata": {},
     "output_type": "execute_result"
    },
    {
     "data": {
      "image/png": "[encoded data removed]",
      "text/plain": [
       "<Figure size 432x288 with 1 Axes>"
      ]
     },
     "metadata": {
      "needs_background": "light"
     },
     "output_type": "display_data"
    }
   ],
   "source": [
    "plt.plot(x,y,'-', x,yexp, 'ro')"
   ]
  },
  {
   "cell_type": "markdown",
   "metadata": {
    "ein.tags": "worksheet-0",
    "slideshow": {
     "slide_type": "-"
    }
   },
   "source": [
    "Para graficar más de una curva, en este formato simple, podemos ponerlo todo en la misma función `plot()` en la forma `plot(x1, y1, [formato], x2, y2, [formato2])` pero muchas veces es más legible separar los llamados a la función, una para cada curva. "
   ]
  },
  {
   "cell_type": "code",
   "execution_count": 10,
   "metadata": {
    "autoscroll": false,
    "ein.hycell": false,
    "ein.tags": "worksheet-0",
    "slideshow": {
     "slide_type": "-"
    }
   },
   "outputs": [
    {
     "data": {
      "text/plain": [
       "[<matplotlib.lines.Line2D at 0x7fa9f8805a90>]"
      ]
     },
     "execution_count": 10,
     "metadata": {},
     "output_type": "execute_result"
    },
    {
     "data": {
      "image/png": "[encoded data removed]",
      "text/plain": [
       "<Figure size 432x288 with 1 Axes>"
      ]
     },
     "metadata": {
      "needs_background": "light"
     },
     "output_type": "display_data"
    }
   ],
   "source": [
    "plt.plot(x,y, '-')\n",
    "plt.plot(x,yexp, 'or')"
   ]
  },
  {
   "cell_type": "markdown",
   "metadata": {
    "ein.tags": "worksheet-0",
    "slideshow": {
     "slide_type": "-"
    }
   },
   "source": [
    "Al separar los llamados a la función `plot()` obtenemos un código más claro, principalmente cuando agregamos opciones de formato."
   ]
  },
  {
   "cell_type": "markdown",
   "metadata": {
    "ein.tags": "worksheet-0",
    "slideshow": {
     "slide_type": "-"
    }
   },
   "source": [
    "Los siguientes caracteres pueden utilizarse para controlar el símbolo de graficación:\n",
    "\n",
    "\n",
    "| Símbolo   |     Descripción        |\n",
    "|-----------|------------------------|\n",
    "| '-'       | solid line style       |\n",
    "| '--'      | dashed line style      |\n",
    "| '-.'      | dash-dot line style    |\n",
    "| ':'       | dotted line style      |\n",
    "| '.'       | point marker           |\n",
    "| ','       | pixel marker           |\n",
    "| 'o'       | circle marker          |\n",
    "| 'v'       | triangle down  marker  |\n",
    "| '^'       | triangle up  marker    |\n",
    "| '&lt;'    | triangle left  marker  |\n",
    "| '&gt;'    | triangle right  marker |\n",
    "| '1'       | tri down  marker       |\n",
    "| '2'       | tri up  marker         |\n",
    "| '3'       | tri left  marker       |\n",
    "| '4'       | tri right  marker      |\n",
    "| 's'       | square marker          |\n",
    "| 'p'       | pentagon marker        |\n",
    "| '\\*'      | star marker            |\n",
    "| 'h'       | hexagon1 marker        |\n",
    "| 'H'       | hexagon2 marker        |\n",
    "| '+'       | plus marker            |\n",
    "| 'x'       | x marker               |\n",
    "| 'D'       | diamond marker         |\n",
    "| 'd'       | thin diamond marker    |\n",
    "| '&#124;'  | vline marker           |\n",
    "| '\\_'      | hline marker           |\n",
    "\n",
    "\n",
    "Los colores también pueden elegirse usando los siguientes caracteres:\n",
    "\n",
    "\n",
    "|  Letra  |   Color  |\n",
    "|---------|----------|\n",
    "|'b'      |   blue   |\n",
    "|'g'      |   green  |\n",
    "|'r'      |   red    |\n",
    "|'c'      |   cyan   |\n",
    "|'m'      |   magenta|\n",
    "|'y'      |   yellow |\n",
    "|'k'      |   black  |\n",
    "|'w'      |   white  |\n",
    "\n",
    "Por ejemplo, utilizando:\n",
    "\n",
    "```python\n",
    "plt.plot(x, y1, 'gs', x, y2, '-k^', x, y3, '--r' )\n",
    "```\n",
    "\n",
    "obtenemos:\n",
    "![](figuras/simple_varios.png)\n"
   ]
  },
  {
   "cell_type": "markdown",
   "metadata": {
    "ein.tags": "worksheet-0",
    "slideshow": {
     "slide_type": "-"
    }
   },
   "source": [
    "La función `plot()` acepta un número variable de argumentos. Veamos lo que dice la documentación\n",
    "\n",
    "```python\n",
    "\n",
    "Signature: plt.plot(*args, **kwargs)\n",
    "Docstring:\n",
    "Plot y versus x as lines and/or markers.\n",
    "\n",
    "Call signatures::\n",
    "\n",
    "    plot([x], y, [fmt], data=None, **kwargs)\n",
    "    plot([x], y, [fmt], [x2], y2, [fmt2], ..., **kwargs)\n",
    "```\n",
    "\n",
    "En particular, podemos usar los argumentos *keywords* (pares nombre-valor) para cambiar el modo en que se grafican los datos. Algunos de los más comunes son:\n",
    "\n",
    "| Argumento       | Valor                        |\n",
    "|-----------------|------------------------------|\n",
    "| linestyle       | {'-', '–', '-.', ':', '', …} |\n",
    "| linewidth       | número real                  |\n",
    "| color           | un color                     |\n",
    "| marker          | {'o', 's', 'd', ….}          |\n",
    "| markersize      | número real                  |\n",
    "| markeredgecolor | color                        |\n",
    "| markerfacecolor | color                        |\n",
    "| markevery       | número entero                |\n",
    "\n"
   ]
  },
  {
   "cell_type": "code",
   "execution_count": 12,
   "metadata": {
    "autoscroll": false,
    "ein.hycell": false,
    "ein.tags": "worksheet-0",
    "slideshow": {
     "slide_type": "-"
    }
   },
   "outputs": [
    {
     "data": {
      "text/plain": [
       "[<matplotlib.lines.Line2D at 0x7fa9f86fba50>]"
      ]
     },
     "execution_count": 12,
     "metadata": {},
     "output_type": "execute_result"
    },
    {
     "data": {
      "image/png": "[encoded data removed]",
      "text/plain": [
       "<Figure size 432x288 with 1 Axes>"
      ]
     },
     "metadata": {
      "needs_background": "light"
     },
     "output_type": "display_data"
    }
   ],
   "source": [
    "plt.plot(x,y,linewidth=1)\n",
    "plt.plot(x,yexp, 'o', color='red', markersize=2)"
   ]
  },
  {
   "cell_type": "code",
   "execution_count": 13,
   "metadata": {
    "autoscroll": false,
    "ein.hycell": false,
    "ein.tags": "worksheet-0",
    "slideshow": {
     "slide_type": "-"
    }
   },
   "outputs": [
    {
     "data": {
      "text/plain": [
       "[<matplotlib.lines.Line2D at 0x7fa9f86ea410>]"
      ]
     },
     "execution_count": 13,
     "metadata": {},
     "output_type": "execute_result"
    },
    {
     "data": {
      "image/png": "[encoded data removed]",
      "text/plain": [
       "<Figure size 432x288 with 1 Axes>"
      ]
     },
     "metadata": {
      "needs_background": "light"
     },
     "output_type": "display_data"
    }
   ],
   "source": [
    "plt.plot(x,y,linewidth=5)\n",
    "plt.plot(x,yexp, 'o', color='green', markersize=8)"
   ]
  },
  {
   "cell_type": "code",
   "execution_count": 15,
   "metadata": {
    "autoscroll": false,
    "ein.hycell": false,
    "ein.tags": "worksheet-0",
    "slideshow": {
     "slide_type": "-"
    }
   },
   "outputs": [
    {
     "data": {
      "text/plain": [
       "[<matplotlib.lines.Line2D at 0x7fa9f85c9990>]"
      ]
     },
     "execution_count": 15,
     "metadata": {},
     "output_type": "execute_result"
    },
    {
     "data": {
      "image/png": "[encoded data removed]",
      "text/plain": [
       "<Figure size 432x288 with 1 Axes>"
      ]
     },
     "metadata": {
      "needs_background": "light"
     },
     "output_type": "display_data"
    }
   ],
   "source": [
    "plt.plot(x,y,linewidth=5, linestyle='dashed')\n",
    "plt.plot(x,yexp, 'o', color='red', markersize=8, markeredgecolor='black',markevery=4)"
   ]
  },
  {
   "cell_type": "markdown",
   "metadata": {
    "ein.tags": "worksheet-0",
    "slideshow": {
     "slide_type": "-"
    }
   },
   "source": [
    "### Nombres de ejes y leyendas\n",
    "\n",
    "Vamos ahora a agregar nombres a los ejes y a las curvas.\n",
    "\n",
    "Para agregar nombres a las curvas, tenemos que agregar un `label`, en este caso en el mismo comando `plot()`, y luego\n",
    "mostrarlo con `legend()"
   ]
  },
  {
   "cell_type": "code",
   "execution_count": 16,
   "metadata": {
    "autoscroll": false,
    "ein.hycell": false,
    "ein.tags": "worksheet-0",
    "slideshow": {
     "slide_type": "-"
    }
   },
   "outputs": [
    {
     "data": {
      "text/plain": [
       "<matplotlib.legend.Legend at 0x7fa9f8559c50>"
      ]
     },
     "execution_count": 16,
     "metadata": {},
     "output_type": "execute_result"
    },
    {
     "data": {
      "image/png": "[encoded data removed]",
      "text/plain": [
       "<Figure size 432x288 with 1 Axes>"
      ]
     },
     "metadata": {
      "needs_background": "light"
     },
     "output_type": "display_data"
    }
   ],
   "source": [
    "plt.plot(x,y, '-b', label=\"teoría\")\n",
    "plt.plot(x,yexp, 'or', label=\"medición\")\n",
    "plt.legend(loc=\"lower right\", title=\"Mis datos\")"
   ]
  },
  {
   "cell_type": "markdown",
   "metadata": {
    "ein.tags": "worksheet-0",
    "slideshow": {
     "slide_type": "-"
    }
   },
   "source": [
    "Para agregar nombres a los ejes usamos `xlabel` y `ylabel`:"
   ]
  },
  {
   "cell_type": "code",
   "execution_count": 18,
   "metadata": {
    "autoscroll": false,
    "ein.hycell": false,
    "ein.tags": "worksheet-0",
    "slideshow": {
     "slide_type": "-"
    }
   },
   "outputs": [
    {
     "data": {
      "image/png": "[encoded data removed]",
      "text/plain": [
       "<Figure size 432x288 with 1 Axes>"
      ]
     },
     "metadata": {
      "needs_background": "light"
     },
     "output_type": "display_data"
    }
   ],
   "source": [
    "plt.plot(x,yexp, 'or', label=\"medición\")\n",
    "plt.plot(x,y, '-b', label=\"teoría\")\n",
    "plt.legend(loc=\"lower right\", title=\"Mis datos\")\n",
    "plt.xlabel('Tiempo (micro-segundos)')\n",
    "plt.ylabel(\"Voltaje (mV)\");"
   ]
  },
  {
   "cell_type": "markdown",
   "metadata": {
    "ein.tags": "worksheet-0",
    "slideshow": {
     "slide_type": "-"
    }
   },
   "source": [
    "Los títulos a la figura se pueden agregar con `title`"
   ]
  },
  {
   "cell_type": "code",
   "execution_count": 19,
   "metadata": {
    "autoscroll": false,
    "ein.hycell": false,
    "ein.tags": "worksheet-0",
    "slideshow": {
     "slide_type": "-"
    }
   },
   "outputs": [
    {
     "data": {
      "text/plain": [
       "<matplotlib.lines.Line2D at 0x7fa9f83d68d0>"
      ]
     },
     "execution_count": 19,
     "metadata": {},
     "output_type": "execute_result"
    },
    {
     "data": {
      "image/png": "[encoded data removed]",
      "text/plain": [
       "<Figure size 432x288 with 1 Axes>"
      ]
     },
     "metadata": {
      "needs_background": "light"
     },
     "output_type": "display_data"
    }
   ],
   "source": [
    "plt.plot(x,y, '-b', label=\"teoría\")\n",
    "plt.plot(x,yexp, 'or', label=\"medición\")\n",
    "plt.legend(loc=\"lower right\", title=\"Mis datos\")\n",
    "plt.xlabel('Tiempo (micro-segundos)')\n",
    "plt.ylabel(\"Voltaje (mV)\")\n",
    "plt.title(\"Medición de ayer\")\n",
    "plt.axvline(x=1, color='gray')\n",
    "plt.axhline(color='gray')"
   ]
  },
  {
   "cell_type": "markdown",
   "metadata": {
    "ein.tags": "worksheet-0",
    "slideshow": {
     "slide_type": "-"
    }
   },
   "source": [
    "Acá además agregamos una línea vertical y una horizontal."
   ]
  },
  {
   "cell_type": "markdown",
   "metadata": {
    "ein.tags": "worksheet-0",
    "slideshow": {
     "slide_type": "-"
    }
   },
   "source": [
    "## Ejercicios 09 (a)\n",
    "\n",
    "1. Realizar un programa para visualizar la función\n",
    "   $$ f(x,n,w) = x^n |\\sin(w x)| $$\n",
    "\n",
    "   El programa debe realizar el gráfico para $w=10$, con cuatro curvas para $n=1,2,3,4$, similar al que se muestra\n",
    "   en la siguiente figura\n",
    "\n",
    "   ![](figuras/ejerc_vis_f1.png)\n"
   ]
  },
  {
   "cell_type": "markdown",
   "metadata": {
    "ein.tags": "worksheet-0",
    "slideshow": {
     "slide_type": "-"
    }
   },
   "source": [
    "## Escalas y límites de graficación (vista)\n",
    "\n",
    "Para cambiar los límites de graficación se puede usar las funciones `xlim` para el eje horizontal y `ylim` para el vertical"
   ]
  },
  {
   "cell_type": "code",
   "execution_count": 21,
   "metadata": {
    "autoscroll": false,
    "ein.hycell": false,
    "ein.tags": "worksheet-0",
    "slideshow": {
     "slide_type": "-"
    }
   },
   "outputs": [
    {
     "data": {
      "text/plain": [
       "(-0.4, 0.32)"
      ]
     },
     "execution_count": 21,
     "metadata": {},
     "output_type": "execute_result"
    },
    {
     "data": {
      "image/png": "[encoded data removed]",
      "text/plain": [
       "<Figure size 432x288 with 1 Axes>"
      ]
     },
     "metadata": {
      "needs_background": "light"
     },
     "output_type": "display_data"
    }
   ],
   "source": [
    "plt.plot(x,y, '-b', label=\"teoría\")\n",
    "plt.plot(x,yexp, 'or', label=\"medición\")\n",
    "plt.legend(loc=\"lower right\", title=\"Mis datos\")\n",
    "plt.xlabel('Tiempo (micro-segundos)')\n",
    "plt.ylabel(\"Voltaje (mV)\")\n",
    "plt.title(\"Medición de ayer\")\n",
    "plt.axvline(x=1, color='gray')\n",
    "plt.axhline(color='gray')\n",
    "plt.xlim((0,2.5))\n",
    "plt.ylim((-0.4, 0.32))"
   ]
  },
  {
   "cell_type": "markdown",
   "metadata": {
    "ein.tags": "worksheet-0",
    "slideshow": {
     "slide_type": "-"
    }
   },
   "source": [
    "Para pasar a escala logarítmica usamos `xscale` o `yscale`"
   ]
  },
  {
   "cell_type": "code",
   "execution_count": 23,
   "metadata": {
    "autoscroll": false,
    "ein.hycell": false,
    "ein.tags": "worksheet-0",
    "slideshow": {
     "slide_type": "-"
    }
   },
   "outputs": [
    {
     "data": {
      "text/plain": [
       "(-0.4, 0.32)"
      ]
     },
     "execution_count": 23,
     "metadata": {},
     "output_type": "execute_result"
    },
    {
     "data": {
      "image/png": "[encoded data removed]",
      "text/plain": [
       "<Figure size 432x288 with 1 Axes>"
      ]
     },
     "metadata": {
      "needs_background": "light"
     },
     "output_type": "display_data"
    }
   ],
   "source": [
    "plt.plot(x,y, '-b', label=\"teoría\")\n",
    "plt.plot(x,yexp, 'or', label=\"medición\")\n",
    "plt.legend(loc=\"best\", title=\"Mis datos\")\n",
    "plt.xlabel('Tiempo (micro-segundos)')\n",
    "plt.ylabel(\"Voltaje (mV)\")\n",
    "plt.title(\"Medición de ayer\")\n",
    "plt.axvline(x=1, color='gray')\n",
    "plt.axhline(color='gray')\n",
    "plt.xlim((1.e-1,3))\n",
    "plt.xscale('log')\n",
    "plt.ylim((-0.4, 0.32))"
   ]
  },
  {
   "cell_type": "code",
   "execution_count": 26,
   "metadata": {
    "autoscroll": false,
    "ein.hycell": false,
    "ein.tags": "worksheet-0",
    "slideshow": {
     "slide_type": "-"
    }
   },
   "outputs": [
    {
     "data": {
      "text/plain": [
       "(0.6, 1.4)"
      ]
     },
     "execution_count": 26,
     "metadata": {},
     "output_type": "execute_result"
    },
    {
     "data": {
      "image/png": "[encoded data removed]",
      "text/plain": [
       "<Figure size 432x288 with 1 Axes>"
      ]
     },
     "metadata": {
      "needs_background": "light"
     },
     "output_type": "display_data"
    }
   ],
   "source": [
    "plt.plot(x,1+y, '-b', label=\"teoría\")\n",
    "plt.plot(x,1+yexp, 'or', label=\"medición\")\n",
    "plt.legend(loc=\"best\", title=\"Mis datos\")\n",
    "plt.xlabel('Tiempo (micro-segundos)')\n",
    "plt.ylabel(\"Voltaje (mV)\")\n",
    "plt.title(\"Medición de ayer\")\n",
    "plt.axvline(x=1, color='gray')\n",
    "plt.axhline(color='gray')\n",
    "plt.xlim((1.e-1,3))\n",
    "plt.xscale('log')\n",
    "plt.yscale('log')\n",
    "plt.ylim((0.6, 1.4))"
   ]
  },
  {
   "cell_type": "markdown",
   "metadata": {
    "ein.tags": "worksheet-0",
    "slideshow": {
     "slide_type": "-"
    }
   },
   "source": [
    "## Exportar las figuras\n",
    "\n",
    "Para guardar las figuras en alguno de los formatos disponibles utilizamos la función `savefig()`."
   ]
  },
  {
   "cell_type": "code",
   "execution_count": 27,
   "metadata": {
    "autoscroll": false,
    "ein.hycell": false,
    "ein.tags": "worksheet-0",
    "slideshow": {
     "slide_type": "-"
    }
   },
   "outputs": [
    {
     "data": {
      "image/png": "[encoded data removed]",
      "text/plain": [
       "<Figure size 432x288 with 1 Axes>"
      ]
     },
     "metadata": {
      "needs_background": "light"
     },
     "output_type": "display_data"
    }
   ],
   "source": [
    "foname = 'ej_plot_osc'\n",
    "plt.plot(x,y, '-b', label=r\"$\\frac{\\sin(x^2)}{[2 + \\cos (x)]^2}$\")\n",
    "plt.plot(x,yexp, 'or', label=\"$\\mathrm{Medición}$\")\n",
    "plt.legend(loc=\"best\", title=\"Mis datos\", fontsize='x-large')\n",
    "plt.xlabel(r'Tiempo ($\\mu$-segundos)', fontsize='x-large')\n",
    "plt.ylabel(\"Voltaje (mV)\", fontsize='x-large')\n",
    "plt.title(\"Medición de ayer\")\n",
    "plt.axvline(x=1, color='gray')\n",
    "plt.axhline(color='gray')\n",
    "plt.xlim((0,3))\n",
    "plt.ylim((-0.4, 0.32))\n",
    "plt.grid(color='green', linestyle='dashed', linewidth=1)\n",
    "plt.savefig('{}.png'.format(foname), dpi=200)\n",
    "plt.savefig('{}.pdf'.format(foname))"
   ]
  },
  {
   "cell_type": "code",
   "execution_count": 28,
   "metadata": {
    "autoscroll": false,
    "ein.hycell": false,
    "ein.tags": "worksheet-0",
    "slideshow": {
     "slide_type": "-"
    }
   },
   "outputs": [
    {
     "name": "stdout",
     "output_type": "stream",
     "text": [
      "Help on function grid in module matplotlib.pyplot:\n",
      "\n",
      "grid(b=None, which='major', axis='both', **kwargs)\n",
      "    Configure the grid lines.\n",
      "    \n",
      "    Parameters\n",
      "    ----------\n",
      "    b : bool or None, optional\n",
      "        Whether to show the grid lines. If any *kwargs* are supplied,\n",
      "        it is assumed you want the grid on and *b* will be set to True.\n",
      "    \n",
      "        If *b* is *None* and there are no *kwargs*, this toggles the\n",
      "        visibility of the lines.\n",
      "    \n",
      "    which : {'major', 'minor', 'both'}, optional\n",
      "        The grid lines to apply the changes on.\n",
      "    \n",
      "    axis : {'both', 'x', 'y'}, optional\n",
      "        The axis to apply the changes on.\n",
      "    \n",
      "    **kwargs : `.Line2D` properties\n",
      "        Define the line properties of the grid, e.g.::\n",
      "    \n",
      "            grid(color='r', linestyle='-', linewidth=2)\n",
      "    \n",
      "        Valid *kwargs* are\n",
      "    \n",
      "      agg_filter: a filter function, which takes a (m, n, 3) float array and a dpi value, and returns a (m, n, 3) array\n",
      "      alpha: float\n",
      "      animated: bool\n",
      "      antialiased or aa: bool\n",
      "      clip_box: `.Bbox`\n",
      "      clip_on: bool\n",
      "      clip_path: [(`~matplotlib.path.Path`, `.Transform`) | `.Patch` | None]\n",
      "      color or c: color\n",
      "      contains: callable\n",
      "      dash_capstyle: {'butt', 'round', 'projecting'}\n",
      "      dash_joinstyle: {'miter', 'round', 'bevel'}\n",
      "      dashes: sequence of floats (on/off ink in points) or (None, None)\n",
      "      drawstyle or ds: {'default', 'steps', 'steps-pre', 'steps-mid', 'steps-post'}, default: 'default'\n",
      "      figure: `.Figure`\n",
      "      fillstyle: {'full', 'left', 'right', 'bottom', 'top', 'none'}\n",
      "      gid: str\n",
      "      in_layout: bool\n",
      "      label: object\n",
      "      linestyle or ls: {'-', '--', '-.', ':', '', (offset, on-off-seq), ...}\n",
      "      linewidth or lw: float\n",
      "      marker: marker style\n",
      "      markeredgecolor or mec: color\n",
      "      markeredgewidth or mew: float\n",
      "      markerfacecolor or mfc: color\n",
      "      markerfacecoloralt or mfcalt: color\n",
      "      markersize or ms: float\n",
      "      markevery: None or int or (int, int) or slice or List[int] or float or (float, float)\n",
      "      path_effects: `.AbstractPathEffect`\n",
      "      picker: float or callable[[Artist, Event], Tuple[bool, dict]]\n",
      "      pickradius: float\n",
      "      rasterized: bool or None\n",
      "      sketch_params: (scale: float, length: float, randomness: float)\n",
      "      snap: bool or None\n",
      "      solid_capstyle: {'butt', 'round', 'projecting'}\n",
      "      solid_joinstyle: {'miter', 'round', 'bevel'}\n",
      "      transform: `matplotlib.transforms.Transform`\n",
      "      url: str\n",
      "      visible: bool\n",
      "      xdata: 1D array\n",
      "      ydata: 1D array\n",
      "      zorder: float\n",
      "    \n",
      "    Notes\n",
      "    -----\n",
      "    The axis is drawn as a unit, so the effective zorder for drawing the\n",
      "    grid is determined by the zorder of each axis, not by the zorder of the\n",
      "    `.Line2D` objects comprising the grid.  Therefore, to set grid zorder,\n",
      "    use `.set_axisbelow` or, for more control, call the\n",
      "    `~matplotlib.axis.Axis.set_zorder` method of each axis.\n",
      "\n"
     ]
    }
   ],
   "source": [
    "help(plt.grid)"
   ]
  },
  {
   "cell_type": "markdown",
   "metadata": {
    "ein.tags": "worksheet-0",
    "slideshow": {
     "slide_type": "-"
    }
   },
   "source": [
    "Acá también hemos utilizado formato tipo LaTeX para parte del texto. Si utilizamos una expresión encerrada entre los símbolos `$`, matplotlib interpreta que está escrito en (un subconjunto) de LaTeX.\n",
    "\n",
    "**Matplotlib** tiene un procesador de símbolos interno para mostrar la notación en LaTeX que reconoce los elementos más comunes, o puede elegirse utilizar un procesador LaTeX externo."
   ]
  },
  {
   "cell_type": "markdown",
   "metadata": {
    "ein.tags": "worksheet-0",
    "slideshow": {
     "slide_type": "-"
    }
   },
   "source": [
    "## Dos gráficos en la misma figura\n",
    "\n",
    "Hay varias funciones que permiten poner más de un gráfico en la misma figura. Veamos un ejemplo utilizando la función `subplots()`"
   ]
  },
  {
   "cell_type": "code",
   "execution_count": 32,
   "metadata": {},
   "outputs": [
    {
     "data": {
      "text/plain": [
       "'/home/fiol/trabajo/clases/pythons/clases-python/clases'"
      ]
     },
     "execution_count": 32,
     "metadata": {},
     "output_type": "execute_result"
    }
   ],
   "source": [
    "%pwd"
   ]
  },
  {
   "cell_type": "code",
   "execution_count": 33,
   "metadata": {
    "autoscroll": false,
    "ein.hycell": false,
    "ein.tags": "worksheet-0",
    "slideshow": {
     "slide_type": "-"
    }
   },
   "outputs": [
    {
     "data": {
      "image/png": "[encoded data removed]",
      "text/plain": [
       "<Figure size 432x288 with 2 Axes>"
      ]
     },
     "metadata": {
      "needs_background": "light"
     },
     "output_type": "display_data"
    }
   ],
   "source": [
    "# %load scripts/ejemplo_08_5.py\n",
    "#! /usr/bin/ipython3\n",
    "\n",
    "\"\"\" Script realizado durante la clase 8. Dos figuras \"\"\"\n",
    "from os.path import join\n",
    "\n",
    "import numpy as np\n",
    "import matplotlib.pyplot as plt\n",
    "plt.ion()\n",
    "\n",
    "fname = 'ej_oscil_aten_err'\n",
    "# Levantamos los datos\n",
    "pardir = '..'\n",
    "datfile = join(pardir, 'data/{}.dat'.format(fname))\n",
    "\n",
    "x1, y1, y2 = np.loadtxt(datfile, unpack=True)\n",
    "# Vamos a graficar sólo algunos valores (uno de cada 5)\n",
    "x = x1[3:-10:5]\n",
    "y = y1[3:-10:5]\n",
    "yexp = y2[3:-10:5]\n",
    "\n",
    "# Ejemplo de barras de error que dependen del eje x\n",
    "error = 0.05 + 0.3 * y\n",
    "\n",
    "fig, (ax0, ax1) = plt.subplots(num='subplots', nrows=2, sharex=True)\n",
    "ax0.errorbar(x, yexp, yerr=error, fmt='-o')\n",
    "ax1.plot(x, 2 * (yexp - y) / (yexp + y), 'or', markersize=8)\n",
    "\n",
    "\n",
    "# Límites de graficación y títulos\n",
    "ax0.set_title('Datos con error variable')\n",
    "ax1.set_title('Error relativo')\n",
    "ax0.set_ylabel('Voltaje (mV)', fontsize='x-large')\n",
    "ax1.set_xlabel(r'Tiempo ($\\mu$-seg)', fontsize='x-large')\n",
    "ax1.set_ylabel('Error relativo', fontsize='x-large')\n",
    "ax1.set_xlim((0, 3))\n",
    "\n",
    "# Guardamos el resultado\n",
    "plt.savefig('{}.png'.format(fname), dpi=72)\n"
   ]
  },
  {
   "cell_type": "markdown",
   "metadata": {
    "ein.tags": "worksheet-0",
    "slideshow": {
     "slide_type": "-"
    }
   },
   "source": [
    "## Ejercicios 09 (b)\n",
    "\n",
    "2. Para la función definida a trozos:\n",
    "   $$\n",
    "   f(x) =\n",
    "   \\begin{cases}\n",
    "     f_{1}(x) = x^{2}/8 & - \\pi < x \\le \\pi/2  \\\\\n",
    "     f_{2}(x) = -0.3 x  & \\pi/2 < x < \\pi \\\\\n",
    "     f_{3}(x) = -(x - 2 \\pi)^{2}/6 & \\pi \\le x \\le 5 \\pi/2 \\\\\n",
    "     f_{4}(x) = (x - 2 \\pi)/5 & 5 \\pi/2 < x \\le 3 \\pi\n",
    "     \\end{cases}\n",
    "   $$\n",
    "   realizar la siguiente figura de la manera más fiel posible.\n",
    "\n",
    "   ![](figuras/ejercicio_08_1.png)\n",
    "\n",
    "   **Pistas:** Buscar información sobre `plt.fill_between()` y sobre `plt.xticks` y `plt.yticks`. \n",
    "\n",
    "3. Rehacer la siguiente figura:\n",
    "\n",
    "   ![](figuras/ejercicio_08_2.png)\n"
   ]
  },
  {
   "cell_type": "markdown",
   "metadata": {
    "ein.tags": "worksheet-0",
    "slideshow": {
     "slide_type": "-"
    }
   },
   "source": [
    "## Personalizando el modo de visualización\n",
    "\n",
    "**Matplotlib** da la posibilidad de modificar el estilo de la graficación en distintas \"etapas\".\n",
    "\n",
    "### Archivo de configuración\n",
    "\n",
    "\n",
    "Cuando uno carga el módulo busca un archivo de configuración llamado `matplotlibrc`\n",
    "\n",
    "  1. Primero busca un archivo de configuración en el directorio de trabajo también lo lee. En cada caso sobreescribe las variables. \n",
    "  2. Si la variable `MATPLOTLIBRC` existe (para el usuario), busca el archivo `$MATPLOTLIBRC/matplotlibrc`\n",
    "  3. Luego lee un archivo de configuración global del usuario, que dependiendo del sistema operativo puede ser:\n",
    "    * En Linux, `config/matplotlib/matplotlibrc` (o en `$XDG_CONFIG_HOME/matplotlib/matplotlibrc` si la variable `XDG_CONFIG_HOME` existe)\n",
    "    * En otras plataformas puede estar en algún lugar como: `C:\\Documents and Settings\\USUARIO\\.matplotlib`\n",
    "  4. Finalmente lee el archivo global de la instalación, `INSTALL/matplotlib/mpl-data/matplotlibrc`, donde INSTALL se refiere al lugar de instalación\n",
    "\n",
    "En cualquier caso, podemos obtener el directorio y archivo de configuración con las funciones:"
   ]
  },
  {
   "cell_type": "code",
   "execution_count": null,
   "metadata": {
    "autoscroll": false,
    "ein.hycell": false,
    "ein.tags": "worksheet-0",
    "slideshow": {
     "slide_type": "-"
    }
   },
   "outputs": [],
   "source": [
    "import matplotlib"
   ]
  },
  {
   "cell_type": "code",
   "execution_count": null,
   "metadata": {
    "autoscroll": false,
    "ein.hycell": false,
    "ein.tags": "worksheet-0",
    "slideshow": {
     "slide_type": "-"
    }
   },
   "outputs": [],
   "source": [
    "matplotlib.get_configdir()"
   ]
  },
  {
   "cell_type": "code",
   "execution_count": null,
   "metadata": {
    "autoscroll": false,
    "ein.hycell": false,
    "ein.tags": "worksheet-0",
    "slideshow": {
     "slide_type": "-"
    }
   },
   "outputs": [],
   "source": [
    "matplotlib.matplotlib_fname()"
   ]
  },
  {
   "cell_type": "code",
   "execution_count": null,
   "metadata": {
    "autoscroll": false,
    "ein.hycell": false,
    "ein.tags": "worksheet-0",
    "slideshow": {
     "slide_type": "-"
    }
   },
   "outputs": [],
   "source": [
    "!head -n 40 '/home/fiol/.config/matplotlib/matplotlibrc'"
   ]
  },
  {
   "cell_type": "markdown",
   "metadata": {
    "ein.tags": "worksheet-0",
    "slideshow": {
     "slide_type": "-"
    }
   },
   "source": [
    "### Hojas de estilo\n",
    "\n",
    "Matplotlib ha incorporado en los últimos años un paquete que permite cambiar estilos fácilmente utilizando los mismos nombres para los parámetros que hay en el archivo de configuración `matplotlibrc`.\n",
    "\n",
    "Este paquete tiene pre-definidos unos pocos estilos, entre ellos varios que emulan otros paquetes o programas. Veamos un ejemplo:\n"
   ]
  },
  {
   "cell_type": "code",
   "execution_count": null,
   "metadata": {
    "autoscroll": false,
    "ein.hycell": false,
    "ein.tags": "worksheet-0",
    "slideshow": {
     "slide_type": "-"
    }
   },
   "outputs": [],
   "source": [
    "plt.plot(x,y, x, 0.9*y)"
   ]
  },
  {
   "cell_type": "code",
   "execution_count": null,
   "metadata": {
    "autoscroll": false,
    "ein.hycell": false,
    "ein.tags": "worksheet-0",
    "slideshow": {
     "slide_type": "-"
    }
   },
   "outputs": [],
   "source": [
    "with plt.style.context('ggplot'):\n",
    "  plt.plot(x,y, x,0.9*y)"
   ]
  },
  {
   "cell_type": "code",
   "execution_count": null,
   "metadata": {
    "autoscroll": false,
    "ein.hycell": false,
    "ein.tags": "worksheet-0",
    "slideshow": {
     "slide_type": "-"
    }
   },
   "outputs": [],
   "source": [
    "with plt.style.context('grayscale'):\n",
    "  plt.plot(x,y, x,0.9*y)"
   ]
  },
  {
   "cell_type": "code",
   "execution_count": null,
   "metadata": {
    "autoscroll": false,
    "ein.hycell": false,
    "ein.tags": "worksheet-0",
    "slideshow": {
     "slide_type": "-"
    }
   },
   "outputs": [],
   "source": [
    "with plt.style.context('fivethirtyeight'):\n",
    "  plt.plot(x,y, x,0.9*y)"
   ]
  },
  {
   "cell_type": "code",
   "execution_count": null,
   "metadata": {
    "autoscroll": false,
    "ein.hycell": false,
    "ein.tags": "worksheet-0",
    "slideshow": {
     "slide_type": "-"
    }
   },
   "outputs": [],
   "source": [
    "with plt.style.context('seaborn-dark'):\n",
    "  plt.plot(x,y, x,0.9*y)"
   ]
  },
  {
   "cell_type": "markdown",
   "metadata": {
    "ein.tags": "worksheet-0",
    "slideshow": {
     "slide_type": "-"
    }
   },
   "source": [
    "Los estilos disponibles están guardados en la variable `available` (una lista)"
   ]
  },
  {
   "cell_type": "code",
   "execution_count": null,
   "metadata": {
    "autoscroll": false,
    "ein.hycell": false,
    "ein.tags": "worksheet-0",
    "slideshow": {
     "slide_type": "-"
    }
   },
   "outputs": [],
   "source": [
    "plt.style.available"
   ]
  },
  {
   "cell_type": "markdown",
   "metadata": {
    "ein.tags": "worksheet-0",
    "slideshow": {
     "slide_type": "-"
    }
   },
   "source": [
    "#### Combinando estilos\n",
    "\n",
    "Los estilos pueden combinarse. En este caso, debe pasarse una lista de *strings* con los nombres de los estilos a aplicar. Se aplican en forma secuencial. Si dos estilos definen diferentes valores para una variable, el posterior sobreescribe los valores previos. "
   ]
  },
  {
   "cell_type": "code",
   "execution_count": null,
   "metadata": {
    "autoscroll": false,
    "ein.hycell": false,
    "ein.tags": "worksheet-0",
    "slideshow": {
     "slide_type": "-"
    }
   },
   "outputs": [],
   "source": [
    "with plt.style.context(['fivethirtyeight','grayscale']):\n",
    "  plt.plot(x,y, x,0.9*y)"
   ]
  },
  {
   "cell_type": "code",
   "execution_count": null,
   "metadata": {
    "autoscroll": false,
    "ein.hycell": false,
    "ein.tags": "worksheet-0",
    "slideshow": {
     "slide_type": "-"
    }
   },
   "outputs": [],
   "source": [
    "with plt.style.context(['grayscale','fivethirtyeight']):\n",
    "  plt.plot(x,y, x,0.9*y)"
   ]
  },
  {
   "cell_type": "markdown",
   "metadata": {
    "ein.tags": "worksheet-0",
    "slideshow": {
     "slide_type": "-"
    }
   },
   "source": [
    "#### Creación de estilos propios\n",
    "\n",
    "Podemos crear estilos propios, modificando los defaults con una sintaxis similar a la del archivo de configuración. Por ejemplo creemos un archivo 'estilo_test' con algunos parámetros"
   ]
  },
  {
   "cell_type": "code",
   "execution_count": null,
   "metadata": {
    "autoscroll": false,
    "ein.hycell": false,
    "ein.tags": "worksheet-0",
    "slideshow": {
     "slide_type": "-"
    }
   },
   "outputs": [],
   "source": [
    "!echo \"lines.linewidth : 5\" > estilo_test\n",
    "!echo \"xtick.labelsize: 24\" >> estilo_test"
   ]
  },
  {
   "cell_type": "code",
   "execution_count": null,
   "metadata": {
    "autoscroll": false,
    "ein.hycell": false,
    "ein.tags": "worksheet-0",
    "slideshow": {
     "slide_type": "-"
    }
   },
   "outputs": [],
   "source": [
    "!cat estilo_test"
   ]
  },
  {
   "cell_type": "code",
   "execution_count": null,
   "metadata": {
    "autoscroll": false,
    "ein.hycell": false,
    "ein.tags": "worksheet-0",
    "slideshow": {
     "slide_type": "-"
    }
   },
   "outputs": [],
   "source": [
    "plt.plot(x,y)"
   ]
  },
  {
   "cell_type": "code",
   "execution_count": null,
   "metadata": {
    "autoscroll": false,
    "ein.hycell": false,
    "ein.tags": "worksheet-0",
    "slideshow": {
     "slide_type": "-"
    }
   },
   "outputs": [],
   "source": [
    "with plt.style.context('./estilo_test'):\n",
    "  plt.plot(x,y)"
   ]
  },
  {
   "cell_type": "markdown",
   "metadata": {
    "ein.tags": "worksheet-0",
    "slideshow": {
     "slide_type": "-"
    }
   },
   "source": [
    "Para encontrar el lugar donde guardar las hojas de estilo podemos utilizar las funciones de *matplotib*:"
   ]
  },
  {
   "cell_type": "code",
   "execution_count": null,
   "metadata": {
    "autoscroll": false,
    "ein.hycell": false,
    "ein.tags": "worksheet-0",
    "slideshow": {
     "slide_type": "-"
    }
   },
   "outputs": [],
   "source": [
    "matplotlib.get_configdir()"
   ]
  },
  {
   "cell_type": "code",
   "execution_count": null,
   "metadata": {
    "autoscroll": false,
    "ein.hycell": false,
    "ein.tags": "worksheet-0",
    "slideshow": {
     "slide_type": "-"
    }
   },
   "outputs": [],
   "source": [
    "ls /home/fiol/.config/matplotlib/stylelib/"
   ]
  },
  {
   "cell_type": "markdown",
   "metadata": {
    "ein.tags": "worksheet-0",
    "slideshow": {
     "slide_type": "-"
    }
   },
   "source": [
    "### Modificación de parámetros dentro de programas\n",
    "\n",
    "Podemos cambiar directamente los parámetros dentro de nuestros programas modificando el diccionario `matplotlib.rcParams`"
   ]
  },
  {
   "cell_type": "code",
   "execution_count": null,
   "metadata": {
    "autoscroll": false,
    "ein.hycell": false,
    "ein.tags": "worksheet-0",
    "slideshow": {
     "slide_type": "-"
    }
   },
   "outputs": [],
   "source": [
    "import matplotlib as mpl\n",
    "mpl.rcParams"
   ]
  },
  {
   "cell_type": "code",
   "execution_count": null,
   "metadata": {
    "autoscroll": false,
    "ein.hycell": false,
    "ein.tags": "worksheet-0",
    "slideshow": {
     "slide_type": "-"
    }
   },
   "outputs": [],
   "source": [
    "# Plot con valores default\n",
    "plt.plot(x,y)"
   ]
  },
  {
   "cell_type": "code",
   "execution_count": null,
   "metadata": {
    "autoscroll": false,
    "ein.hycell": false,
    "ein.tags": "worksheet-0",
    "slideshow": {
     "slide_type": "-"
    }
   },
   "outputs": [],
   "source": [
    "# Modificamos el valor default de ancho de línea \n",
    "mpl.rcParams['lines.linewidth'] = 7\n",
    "plt.plot(x,y)"
   ]
  },
  {
   "cell_type": "code",
   "execution_count": null,
   "metadata": {
    "autoscroll": false,
    "ein.hycell": false,
    "ein.tags": "worksheet-0",
    "slideshow": {
     "slide_type": "-"
    }
   },
   "outputs": [],
   "source": [
    "# El nuevo valor default podemos sobreescribirlo para este plot particular \n",
    "plt.plot(x,y, lw=3)"
   ]
  },
  {
   "cell_type": "code",
   "execution_count": null,
   "metadata": {
    "autoscroll": false,
    "ein.hycell": false,
    "ein.tags": "worksheet-0",
    "slideshow": {
     "slide_type": "-"
    }
   },
   "outputs": [],
   "source": [
    "# Sin embargo, el nuevo valor default no es modificado\n",
    "plt.plot(x,y)"
   ]
  },
  {
   "cell_type": "markdown",
   "metadata": {
    "ein.tags": "worksheet-0",
    "slideshow": {
     "slide_type": "-"
    }
   },
   "source": [
    "## Ejercicios 09 (c)\n",
    "\n",
    "4. Notando que la curva en color negro corresponde a la suma de las dos curvas en rojo, rehacer la siguiente figura:\n",
    "\n",
    "   ![](figuras/ejercicio_08_3.png)\n",
    "\n",
    "5. Crear una hoja de estilo que permita hacer gráficos adecuados para posters y presentaciones. Debe modificar los tamaños para hacerlos legibles a mayores distancias (sugerencia 16pt). El tamaño de la letra de los nombres de ejes y en las leyendas debe ser mayor también. Las líneas deben ser más gruesas (sugerencia: ~4), los símbolos de mayor tamaño (sugerencia ~10). "
   ]
  }
 ],
 "metadata": {
  "kernelspec": {
   "display_name": "Python 3",
   "language": "python",
   "name": "python3"
  },
  "language_info": {
   "codemirror_mode": {
    "name": "ipython",
    "version": 3
   },
   "file_extension": ".py",
   "mimetype": "text/x-python",
   "name": "python",
   "nbconvert_exporter": "python",
   "pygments_lexer": "ipython3",
   "version": "3.7.6"
  },
  "name": "09_intro_visualizacion.ipynb",
  "toc": {
   "base_numbering": 1,
   "nav_menu": {
    "height": "318.733px",
    "width": "251.667px"
   },
   "number_sections": false,
   "sideBar": true,
   "skip_h1_title": false,
   "title_cell": "Contenidos",
   "title_sidebar": "Contenidos",
   "toc_cell": false,
   "toc_position": {
    "height": "calc(100% - 180px)",
    "left": "10px",
    "top": "150px",
    "width": "384px"
   },
   "toc_section_display": true,
   "toc_window_display": false
  }
 },
 "nbformat": 4,
 "nbformat_minor": 1
}
