{
 "cells": [
  {
   "cell_type": "markdown",
   "id": "9f29a727",
   "metadata": {
    "ein.tags": "worksheet-0",
    "slideshow": {
     "slide_type": "-"
    }
   },
   "source": [
    "# Introducción al paquete Scipy  <a class=\"tocSkip\">\n",
    "\n",
    "El paquete **Scipy** es una colección de algoritmos y funciones construida sobre **Numpy** para facilitar cálculos y actividades relacionadas con el trabajo técnico/científico. \n"
   ]
  },
  {
   "cell_type": "markdown",
   "id": "e62c4380",
   "metadata": {
    "ein.tags": "worksheet-0",
    "slideshow": {
     "slide_type": "-"
    }
   },
   "source": [
    "## Una mirada rápida a Scipy\n",
    "\n",
    "La ayuda de scipy contiene (con `help(scipy)` entre otras cosas)\n",
    "\n",
    "\n",
    "    Contents\n",
    "    --------\n",
    "    SciPy imports all the functions from the NumPy namespace, and in\n",
    "    addition provides:\n",
    "    \n",
    "    Subpackages\n",
    "    -----------\n",
    "    Using any of these subpackages requires an explicit import.  For example,\n",
    "    ``import scipy.cluster``.\n",
    "    \n",
    "    ::\n",
    "    \n",
    "     cluster                      --- Vector Quantization / Kmeans\n",
    "     fftpack                      --- Discrete Fourier Transform algorithms\n",
    "     integrate                    --- Integration routines\n",
    "     interpolate                  --- Interpolation Tools\n",
    "     io                           --- Data input and output\n",
    "     linalg                       --- Linear algebra routines\n",
    "     linalg.blas                  --- Wrappers to BLAS library\n",
    "     linalg.lapack                --- Wrappers to LAPACK library\n",
    "     misc                         --- Various utilities that don't have\n",
    "                                      another home.\n",
    "     ndimage                      --- n-dimensional image package\n",
    "     odr                          --- Orthogonal Distance Regression\n",
    "     optimize                     --- Optimization Tools\n",
    "     signal                       --- Signal Processing Tools\n",
    "     sparse                       --- Sparse Matrices\n",
    "     sparse.linalg                --- Sparse Linear Algebra\n",
    "     sparse.linalg.dsolve         --- Linear Solvers\n",
    "     sparse.linalg.dsolve.umfpack --- :Interface to the UMFPACK library:\n",
    "                                      Conjugate Gradient Method (LOBPCG)\n",
    "     sparse.linalg.eigen          --- Sparse Eigenvalue Solvers\n",
    "     sparse.linalg.eigen.lobpcg   --- Locally Optimal Block Preconditioned\n",
    "                                      Conjugate Gradient Method (LOBPCG)\n",
    "     spatial                      --- Spatial data structures and algorithms\n",
    "     special                      --- Special functions\n",
    "     stats                        --- Statistical Functions\n",
    "     "
   ]
  },
  {
   "cell_type": "markdown",
   "id": "c5ea36fe",
   "metadata": {
    "ein.tags": "worksheet-0",
    "slideshow": {
     "slide_type": "-"
    }
   },
   "source": [
    "Más información puede encontrarse en la [documentación oficial de Scipy](https://docs.scipy.org/doc/scipy/reference)"
   ]
  },
  {
   "cell_type": "code",
   "execution_count": 4,
   "id": "6ab15bf5",
   "metadata": {
    "autoscroll": false,
    "ein.hycell": false,
    "ein.tags": "worksheet-0",
    "slideshow": {
     "slide_type": "-"
    }
   },
   "outputs": [],
   "source": [
    "import numpy as np\n",
    "import matplotlib.pyplot as plt"
   ]
  },
  {
   "cell_type": "markdown",
   "id": "e81e002a",
   "metadata": {
    "ein.tags": "worksheet-0",
    "slideshow": {
     "slide_type": "-"
    }
   },
   "source": [
    "## Funciones especiales\n",
    "\n",
    "En el submódulo `scipy.special` están definidas un número de funciones especiales. Una lista general de las funciones definidas (De cada tipo hay varias funciones) es:\n",
    "\n",
    "-  Airy functions\n",
    "-  Elliptic Functions and Integrals\n",
    "-  Bessel Functions\n",
    "-  Struve Functions\n",
    "-  Raw Statistical Functions\n",
    "-  Information Theory Functions\n",
    "-  Gamma and Related Functions\n",
    "-  Error Function and Fresnel Integrals\n",
    "-  Legendre Functions\n",
    "-  Ellipsoidal Harmonics\n",
    "-  Orthogonal polynomials\n",
    "-  Hypergeometric Functions\n",
    "-  Parabolic Cylinder Functions\n",
    "-  Mathieu and Related Functions\n",
    "-  Spheroidal Wave Functions\n",
    "-  Kelvin Functions\n",
    "-  Combinatorics\n",
    "-  Other Special Functions\n",
    "-  Convenience Functions\n",
    "\n"
   ]
  },
  {
   "cell_type": "code",
   "execution_count": 5,
   "id": "02ed5a06",
   "metadata": {
    "autoscroll": false,
    "ein.hycell": false,
    "ein.tags": "worksheet-0",
    "slideshow": {
     "slide_type": "-"
    }
   },
   "outputs": [],
   "source": [
    "from scipy import special"
   ]
  },
  {
   "cell_type": "markdown",
   "id": "4e70b2de",
   "metadata": {
    "ein.tags": "worksheet-0",
    "slideshow": {
     "slide_type": "-"
    }
   },
   "source": [
    "### Funciones de Bessel\n",
    "\n",
    "Las funciones de Bessel son soluciones de la ecuación diferencial:\n",
    "\n",
    "$$ x^2 \\frac{d^2 y}{dx^2} + x \\frac{dy}{dx} + (x^2 - \\nu^2)y = 0 . $$\n",
    "\n",
    "Para valores enteros de $\\nu$ se trata de una familia de funciones que aparecen como soluciones de problemas de propagación de ondas en problemas con simetría cilíndrica. \n"
   ]
  },
  {
   "cell_type": "code",
   "execution_count": null,
   "id": "292df8cb",
   "metadata": {
    "autoscroll": false,
    "ein.hycell": false,
    "ein.tags": "worksheet-0",
    "slideshow": {
     "slide_type": "-"
    }
   },
   "outputs": [],
   "source": [
    "np.info(special.jv)"
   ]
  },
  {
   "cell_type": "code",
   "execution_count": null,
   "id": "7f94bb98",
   "metadata": {
    "autoscroll": false,
    "ein.hycell": false,
    "ein.tags": "worksheet-0",
    "slideshow": {
     "slide_type": "-"
    }
   },
   "outputs": [],
   "source": [
    "np.info(special.jn_zeros)"
   ]
  },
  {
   "cell_type": "code",
   "execution_count": null,
   "id": "5b4f7872",
   "metadata": {
    "autoscroll": false,
    "ein.hycell": false,
    "ein.tags": "worksheet-0",
    "slideshow": {
     "slide_type": "-"
    }
   },
   "outputs": [],
   "source": [
    "# Ceros de la función de Bessel\n",
    "# Los tres primeros valores de x en los cuales se anula la función de Bessel de orden 4.\n",
    "special.jn_zeros(4,3)"
   ]
  },
  {
   "cell_type": "code",
   "execution_count": null,
   "id": "3497fe99",
   "metadata": {
    "autoscroll": false,
    "ein.hycell": false,
    "ein.tags": "worksheet-0",
    "slideshow": {
     "slide_type": "-"
    }
   },
   "outputs": [],
   "source": [
    "x = np.linspace(0, 16, 50)\n",
    "for n in range(0,8,2):\n",
    "  p= plt.plot(x, special.jn(n, x), label='$J_{}(x)$'.format(n))\n",
    "  z = special.jn_zeros(n, 6)\n",
    "  z = z[z < 15]\n",
    "  plt.plot(z, np.zeros(z.size), 'o', color= p[0].get_color())\n",
    "\n",
    "plt.legend(title='Funciones $J_n$ de Bessel', ncol=2);\n",
    "plt.grid(True)"
   ]
  },
  {
   "cell_type": "code",
   "execution_count": null,
   "id": "0e7198b2",
   "metadata": {
    "autoscroll": false,
    "ein.hycell": false,
    "ein.tags": "worksheet-0",
    "slideshow": {
     "slide_type": "-"
    }
   },
   "outputs": [],
   "source": [
    "# jn es otro nombre para jv\n",
    "print(special.jn == special.jv)\n",
    "print(special.jn is special.jv)"
   ]
  },
  {
   "cell_type": "markdown",
   "id": "9b9f97b5",
   "metadata": {
    "ein.tags": "worksheet-0",
    "slideshow": {
     "slide_type": "-"
    }
   },
   "source": [
    "Como vemos, hay funciones para calcular funciones de Bessel. Aquí mostramos los órdenes enteros pero también se pueden utilizar órdenes $\\nu$ reales. La lista de funciones de Bessel (puede obtenerse de la ayuda sobre `scipy.special`) es:\n",
    "\n",
    " - Bessel Functions\n",
    " - Zeros of Bessel Functions\n",
    " - Faster versions of common Bessel Functions\n",
    " - Integrals of Bessel Functions\n",
    " - Derivatives of Bessel Functions\n",
    " - Spherical Bessel Functions\n",
    " - Riccati-Bessel Functions\n",
    "\n",
    "Por ejemplo, podemos calcular las funciones esféricas de Bessel, que aparecen en problemas con simetría esférica:"
   ]
  },
  {
   "cell_type": "code",
   "execution_count": null,
   "id": "a9fe8d42",
   "metadata": {
    "autoscroll": false,
    "ein.hycell": false,
    "ein.tags": "worksheet-0",
    "slideshow": {
     "slide_type": "-"
    }
   },
   "outputs": [],
   "source": [
    "x = np.linspace(0, 16, 50)\n",
    "for n in range(0,7,2):\n",
    "  p= plt.plot(x, special.spherical_jn(n, x), label='$j_{}(x)$'.format(n))\n",
    "plt.legend(title='Funciones esféricas de Bessel $j_n$', ncol=2);\n",
    "plt.grid(True)"
   ]
  },
  {
   "cell_type": "markdown",
   "id": "717b24e5",
   "metadata": {
    "ein.tags": "worksheet-0",
    "slideshow": {
     "slide_type": "-"
    }
   },
   "source": [
    "### Función Error\n",
    "\n",
    "La función error es el resultado de integrar una función Gaussiana\n",
    "\n",
    "$$ \\operatorname{erf}z=\\frac{2}{\\sqrt{\\pi}}\\int_{0}^{z}e^{-t^{2}}\\mathrm{d}t, $$\n",
    "\n",
    "mientras que las integrales seno y coseno de Fresnel están definidas por:\n",
    "$$\n",
    "\\operatorname{ssa}= \\int_{0}^{z} \\sin(\\pi/2  t^2) \\mathrm{d} t \\\\\n",
    "\\operatorname{csa}= \\int_{0}^{z} \\cos(\\pi/2  t^2) \\mathrm{d} t \n",
    "$$"
   ]
  },
  {
   "cell_type": "code",
   "execution_count": null,
   "id": "424906ff",
   "metadata": {
    "autoscroll": false,
    "ein.hycell": false,
    "ein.tags": "worksheet-0",
    "slideshow": {
     "slide_type": "-"
    }
   },
   "outputs": [],
   "source": [
    "x = np.linspace(-3, 3,100)\n",
    "f = special.fresnel(x)\n",
    "plt.plot(x, special.erf(x),'-', label=r'$\\mathrm{erf}(x)$')\n",
    "plt.plot(x, f[0],'-', label=r'$\\mathrm{ssa}(x)$')\n",
    "plt.plot(x, f[1],'-', label=r'$\\mathrm{csa}(x)$')\n",
    "plt.xlabel('$x$')\n",
    "plt.ylabel('$f(x)$')\n",
    "plt.legend(loc='best')\n",
    "plt.grid(True)"
   ]
  },
  {
   "cell_type": "markdown",
   "id": "513787dd",
   "metadata": {
    "ein.tags": "worksheet-0",
    "slideshow": {
     "slide_type": "-"
    }
   },
   "source": [
    "### Evaluación de polinomios ortogonales\n",
    "\n",
    "`Scipy.special` tiene funciones para evaluar eficientemente polinomios ortogonales\n",
    "\n",
    "Por ejemplo si queremos, evaluar los polinomios de Laguerre, solución de la ecuación diferencial:\n",
    "$$\n",
    "x\\frac{d^2}{dx^2}L_n + (1 - x)\\frac{d}{dx}L_n + nL_n = 0\n",
    "$$"
   ]
  },
  {
   "cell_type": "code",
   "execution_count": null,
   "id": "b24f14b7",
   "metadata": {
    "autoscroll": false,
    "ein.hycell": false,
    "ein.tags": "worksheet-0",
    "slideshow": {
     "slide_type": "-"
    }
   },
   "outputs": [],
   "source": [
    "x = np.linspace(-1, 1,100)\n",
    "for n in range(2,6):\n",
    "  plt.plot(x, special.eval_laguerre(n, x),'-', label=r'$n={}$'.format(n))\n",
    "plt.xlabel('$x$')\n",
    "plt.ylabel('$f(x)$')\n",
    "plt.legend(loc='best', ncol=2)\n",
    "plt.grid(True)"
   ]
  },
  {
   "cell_type": "markdown",
   "id": "debf909b",
   "metadata": {
    "ein.tags": "worksheet-0",
    "slideshow": {
     "slide_type": "-"
    }
   },
   "source": [
    "Los polinomios de Chebyshev son solución de\n",
    "$$ (1 - x^2)\\frac{d^2}{dx^2}T_n - x\\frac{d}{dx}T_n + n^2T_n = 0$$"
   ]
  },
  {
   "cell_type": "code",
   "execution_count": null,
   "id": "f71b8932",
   "metadata": {
    "autoscroll": false,
    "ein.hycell": false,
    "ein.tags": "worksheet-0",
    "slideshow": {
     "slide_type": "-"
    }
   },
   "outputs": [],
   "source": [
    "x = np.linspace(-1, 1,100)\n",
    "for n in range(2,6):\n",
    "  plt.plot(x, special.eval_chebyt(n, x),'-', label=f'$n={n}$')\n",
    "plt.xlabel('$x$')\n",
    "plt.ylabel('$f(x)$')\n",
    "plt.legend(loc='best', ncol=2)\n",
    "plt.ylim((-1.1,2))\n",
    "plt.grid(True)"
   ]
  },
  {
   "cell_type": "markdown",
   "id": "5d95cb39",
   "metadata": {
    "ein.tags": "worksheet-0",
    "slideshow": {
     "slide_type": "-"
    }
   },
   "source": [
    "### Factorial, permutaciones y combinaciones\n",
    "\n",
    "Hay funciones para calcular varias funciones relacionadas con combinatoria\n",
    "\n",
    "La función `comb()` da el número de maneras de elegir `k` de un total de `N` elementos. Sin repeticiones está dada por:\n",
    "$$ \\frac{N!}{k! (N-k)!}$$\n",
    "mientras que si cada elemento puede repetirse, la fórmula es:\n",
    "$$ \\frac{(N+k-1)!}{k! (N-1)!}$$\n"
   ]
  },
  {
   "cell_type": "code",
   "execution_count": null,
   "id": "ab0d3b07",
   "metadata": {
    "autoscroll": false,
    "ein.hycell": false,
    "ein.tags": "worksheet-0",
    "slideshow": {
     "slide_type": "-"
    }
   },
   "outputs": [],
   "source": [
    "N = 10\n",
    "k = np.arange(2,4)"
   ]
  },
  {
   "cell_type": "code",
   "execution_count": null,
   "id": "8593d132",
   "metadata": {
    "autoscroll": false,
    "ein.hycell": false,
    "ein.tags": "worksheet-0",
    "slideshow": {
     "slide_type": "-"
    }
   },
   "outputs": [],
   "source": [
    "special.comb(N, k)"
   ]
  },
  {
   "cell_type": "code",
   "execution_count": null,
   "id": "277e9dfa",
   "metadata": {
    "autoscroll": false,
    "ein.hycell": false,
    "ein.tags": "worksheet-0",
    "slideshow": {
     "slide_type": "-"
    }
   },
   "outputs": [],
   "source": [
    "# Si usamos exact=True, k no puede ser un array\n",
    "special.comb(N,3,exact=True)"
   ]
  },
  {
   "cell_type": "code",
   "execution_count": null,
   "id": "b48c10e6",
   "metadata": {
    "autoscroll": false,
    "ein.hycell": false,
    "ein.tags": "worksheet-0",
    "slideshow": {
     "slide_type": "-"
    }
   },
   "outputs": [],
   "source": [
    "special.comb(N,k, repetition=True)"
   ]
  },
  {
   "cell_type": "markdown",
   "id": "c3e5260e",
   "metadata": {
    "ein.tags": "worksheet-0",
    "slideshow": {
     "slide_type": "-"
    }
   },
   "source": [
    "El número de permutaciones se obtiene con la función `perm()`, y está dado por:\n",
    "$$ \\frac{N!}{(N-k)!}$$"
   ]
  },
  {
   "cell_type": "code",
   "execution_count": null,
   "id": "bd87231e",
   "metadata": {
    "autoscroll": false,
    "ein.hycell": false,
    "ein.tags": "worksheet-0",
    "slideshow": {
     "slide_type": "-"
    }
   },
   "outputs": [],
   "source": [
    "special.perm(N,k)"
   ]
  },
  {
   "cell_type": "markdown",
   "id": "90690119",
   "metadata": {
    "ein.tags": "worksheet-0",
    "slideshow": {
     "slide_type": "-"
    }
   },
   "source": [
    "que corresponde a:\n",
    "$$ \\frac{10!}{(10-3)!} = 10 \\cdot 9 \\cdot 8 $$\n",
    "\n",
    "\n",
    "Los números factorial (N!) y doble factorial (N!!) son:"
   ]
  },
  {
   "cell_type": "code",
   "execution_count": null,
   "id": "73fc638e",
   "metadata": {
    "autoscroll": false,
    "ein.hycell": false,
    "ein.tags": "worksheet-0",
    "slideshow": {
     "slide_type": "-"
    }
   },
   "outputs": [],
   "source": [
    "N = np.array([3,6,8])\n",
    "print(f\"{N}! = {special.factorial(N)}\")\n",
    "print(f\"{N}!! = {special.factorial2(N)}\")"
   ]
  },
  {
   "cell_type": "markdown",
   "id": "5fde2f84",
   "metadata": {
    "ein.tags": "worksheet-0",
    "slideshow": {
     "slide_type": "-"
    }
   },
   "source": [
    "## Integración numérica"
   ]
  },
  {
   "cell_type": "markdown",
   "id": "418d0429",
   "metadata": {
    "ein.tags": "worksheet-0",
    "slideshow": {
     "slide_type": "-"
    }
   },
   "source": [
    "Scipy tiene rutinas para integrar numéricamente funciones o tablas de datos. Por ejemplo para integrar funciones en la forma:\n",
    "$$I= \\int_{a}^{b} f(x)\\, dx $$\n",
    "la función más utilizada es `quad`, que llama a distintas rutinas del paquete **QUADPACK** dependiendo de los argumentos que toma. Entre los aspectos más notables está la posibilidad de elegir una función de peso entre un conjunto definido de funciones, y la posibilidad de elegir un dominio de integración finito o infinito."
   ]
  },
  {
   "cell_type": "code",
   "execution_count": null,
   "id": "ea16a962",
   "metadata": {
    "autoscroll": false,
    "ein.hycell": false,
    "ein.tags": "worksheet-0",
    "slideshow": {
     "slide_type": "-"
    }
   },
   "outputs": [],
   "source": [
    "from scipy import integrate"
   ]
  },
  {
   "cell_type": "code",
   "execution_count": null,
   "id": "a4c6260a",
   "metadata": {
    "autoscroll": false,
    "ein.hycell": false,
    "ein.tags": "worksheet-0",
    "slideshow": {
     "slide_type": "-"
    }
   },
   "outputs": [],
   "source": [
    "x = np.linspace(0., 10, 100)"
   ]
  },
  {
   "cell_type": "code",
   "execution_count": null,
   "id": "79633fce",
   "metadata": {
    "autoscroll": false,
    "ein.hycell": false,
    "ein.tags": "worksheet-0",
    "slideshow": {
     "slide_type": "-"
    }
   },
   "outputs": [],
   "source": [
    "def f1(x):\n",
    "  return np.sin(x)*np.exp(-np.square(x+1)/10)"
   ]
  },
  {
   "cell_type": "code",
   "execution_count": null,
   "id": "25971d76",
   "metadata": {
    "autoscroll": false,
    "ein.hycell": false,
    "ein.tags": "worksheet-0",
    "slideshow": {
     "slide_type": "-"
    }
   },
   "outputs": [],
   "source": [
    "plt.plot(x,f1(x))"
   ]
  },
  {
   "cell_type": "code",
   "execution_count": null,
   "id": "06890976",
   "metadata": {
    "autoscroll": false,
    "ein.hycell": false,
    "ein.tags": "worksheet-0",
    "slideshow": {
     "slide_type": "-"
    }
   },
   "outputs": [],
   "source": [
    "integrate.quad(f1,0,1)"
   ]
  },
  {
   "cell_type": "code",
   "execution_count": null,
   "id": "c20418d6",
   "metadata": {
    "autoscroll": false,
    "ein.hycell": false,
    "ein.tags": "worksheet-0",
    "slideshow": {
     "slide_type": "-"
    }
   },
   "outputs": [],
   "source": [
    "np.info(integrate.quad)"
   ]
  },
  {
   "cell_type": "code",
   "execution_count": null,
   "id": "9254f5c1",
   "metadata": {
    "autoscroll": false,
    "ein.hycell": false,
    "ein.tags": "worksheet-0",
    "slideshow": {
     "slide_type": "-"
    }
   },
   "outputs": [],
   "source": [
    "[((0, xmax), integrate.quad(f1,0,xmax)[0]) for xmax in np.arange(1,5)]"
   ]
  },
  {
   "cell_type": "markdown",
   "id": "18127554",
   "metadata": {
    "ein.tags": "worksheet-0",
    "slideshow": {
     "slide_type": "-"
    }
   },
   "source": [
    "La rutina devuelve dos valores. El primero es la estimación del valor de la integral y el segundo una estimación del **error absoluto** . Además, la función acepta límites de integración infinitos ($\\pm \\infty$, definidos en **Numpy**)"
   ]
  },
  {
   "cell_type": "code",
   "execution_count": null,
   "id": "7ddc58dd",
   "metadata": {
    "autoscroll": false,
    "ein.hycell": false,
    "ein.tags": "worksheet-0",
    "slideshow": {
     "slide_type": "-"
    }
   },
   "outputs": [],
   "source": [
    "integrate.quad(f1,-np.inf,np.inf)"
   ]
  },
  {
   "cell_type": "markdown",
   "id": "1ac44987",
   "metadata": {
    "ein.tags": "worksheet-0",
    "slideshow": {
     "slide_type": "-"
    }
   },
   "source": [
    "### Ejemplo de función fuertemente oscilatoria"
   ]
  },
  {
   "cell_type": "code",
   "execution_count": null,
   "id": "e2bc23e7",
   "metadata": {
    "autoscroll": false,
    "ein.hycell": false,
    "ein.tags": "worksheet-0",
    "slideshow": {
     "slide_type": "-"
    }
   },
   "outputs": [],
   "source": [
    "k = 200\n",
    "L = 2*np.pi\n",
    "a = 0.1\n",
    "def f2(x):\n",
    "  return np.sin(k*x)*np.exp(-a*x)"
   ]
  },
  {
   "cell_type": "code",
   "execution_count": null,
   "id": "3b4fed3e",
   "metadata": {
    "autoscroll": false,
    "ein.hycell": false,
    "ein.tags": "worksheet-0",
    "slideshow": {
     "slide_type": "-"
    }
   },
   "outputs": [],
   "source": [
    "# Valor exacto de la integral\n",
    "I=k/a**2*(np.exp(-a*L)-1)/(1-k**2/a**2)\n",
    "print(I)"
   ]
  },
  {
   "cell_type": "code",
   "execution_count": null,
   "id": "28122dc7",
   "metadata": {
    "autoscroll": false,
    "ein.hycell": false,
    "ein.tags": "worksheet-0",
    "slideshow": {
     "slide_type": "-"
    }
   },
   "outputs": [],
   "source": [
    "Iq= integrate.quad(f2,0,L)"
   ]
  },
  {
   "cell_type": "code",
   "execution_count": null,
   "id": "9cb5e994",
   "metadata": {
    "autoscroll": false,
    "ein.hycell": false,
    "ein.tags": "worksheet-0",
    "slideshow": {
     "slide_type": "-"
    }
   },
   "outputs": [],
   "source": [
    "I_err = (I-Iq[0])/I             # Error relativo con el valor exacto\n",
    "print(\"I= {:.5g} ± {:.5g}\\nError relativo= {:.6g}\\n\".format(*Iq, I_err))"
   ]
  },
  {
   "cell_type": "markdown",
   "id": "d74134df",
   "metadata": {
    "ein.tags": "worksheet-0",
    "slideshow": {
     "slide_type": "-"
    }
   },
   "source": [
    "El error relativo entre el valor obtenido numéricamente y el valor exacto `I` es grande. Esto se debe a la naturaleza del integrando. Grafiquemos sólo una pequeña parte"
   ]
  },
  {
   "cell_type": "code",
   "execution_count": null,
   "id": "f5d07692",
   "metadata": {
    "autoscroll": false,
    "ein.hycell": false,
    "ein.tags": "worksheet-0",
    "slideshow": {
     "slide_type": "-"
    }
   },
   "outputs": [],
   "source": [
    "x = np.linspace(0,L,1500)\n",
    "plt.plot(x, f2(x))"
   ]
  },
  {
   "cell_type": "markdown",
   "id": "d4b2ef04",
   "metadata": {
    "ein.tags": "worksheet-0",
    "slideshow": {
     "slide_type": "-"
    }
   },
   "source": [
    "La rutina `quad` es versatil y tiene una opción específica para integrandos oscilatorios, que permite calcular las integrales de una función $f$ multiplicadas por una función oscilatoria\n",
    "$$I= \\int_{a}^{b} f(x)\\,weight( w x)\\, dx $$\n",
    "Para ello debemos usar el argumento `weight` y `wvar`. En este caso usaremos `weight='sin'`"
   ]
  },
  {
   "cell_type": "code",
   "execution_count": null,
   "id": "a57c25a2",
   "metadata": {
    "autoscroll": false,
    "ein.hycell": false,
    "ein.tags": "worksheet-0",
    "slideshow": {
     "slide_type": "-"
    }
   },
   "outputs": [],
   "source": [
    "# La función sin el factor oscilatorio:\n",
    "def f3(x):\n",
    "  return np.exp(-a*x)"
   ]
  },
  {
   "cell_type": "code",
   "execution_count": null,
   "id": "7c2fe561",
   "metadata": {
    "autoscroll": false,
    "ein.hycell": false,
    "ein.tags": "worksheet-0",
    "slideshow": {
     "slide_type": "-"
    }
   },
   "outputs": [],
   "source": [
    "Is= integrate.quad(f3,0,L, weight='sin', wvar=k)"
   ]
  },
  {
   "cell_type": "code",
   "execution_count": null,
   "id": "3fcb3bb1",
   "metadata": {
    "autoscroll": false,
    "ein.hycell": false,
    "ein.tags": "worksheet-0",
    "slideshow": {
     "slide_type": "-"
    }
   },
   "outputs": [],
   "source": [
    "I_err = (I-Is[0])/I             # Error relativo con el valor exacto \n",
    "print(\"I= {:.5g} ± {:.5g}\\nError relativo= {:.6g}\\n\".format(*Is, I_err))"
   ]
  },
  {
   "cell_type": "markdown",
   "id": "c718f395",
   "metadata": {},
   "source": [
    "Esto es así, porque una vez que separamos el comportamiento oscilatorio, la función es suave y fácilmente integrable"
   ]
  },
  {
   "cell_type": "code",
   "execution_count": null,
   "id": "0aa1cba6",
   "metadata": {},
   "outputs": [],
   "source": [
    "plt.plot(x, f3(x))"
   ]
  },
  {
   "cell_type": "markdown",
   "id": "6d4438c1",
   "metadata": {
    "ein.tags": "worksheet-0",
    "slideshow": {
     "slide_type": "-"
    }
   },
   "source": [
    "El error relativo obtenido respecto al valor exacto es varios órdenes de magnitud menor. Comparemos los tiempos de ejecución:"
   ]
  },
  {
   "cell_type": "code",
   "execution_count": null,
   "id": "a7e87f1b",
   "metadata": {
    "autoscroll": false,
    "ein.hycell": false,
    "ein.tags": "worksheet-0",
    "slideshow": {
     "slide_type": "-"
    }
   },
   "outputs": [],
   "source": [
    "%timeit integrate.quad(f2,0,L)"
   ]
  },
  {
   "cell_type": "code",
   "execution_count": null,
   "id": "c4aa5c34",
   "metadata": {
    "autoscroll": false,
    "ein.hycell": false,
    "ein.tags": "worksheet-0",
    "slideshow": {
     "slide_type": "-"
    }
   },
   "outputs": [],
   "source": [
    "%timeit integrate.quad(f3,0,L, weight='sin', wvar=k)"
   ]
  },
  {
   "cell_type": "markdown",
   "id": "bedbc2e6",
   "metadata": {
    "ein.tags": "worksheet-0",
    "slideshow": {
     "slide_type": "-"
    }
   },
   "source": [
    "Usar un integrador más específico para el integrando no sólo nos da un mejor resultado sino que el tiempo de ejecución es más de 100 veces más corto."
   ]
  },
  {
   "cell_type": "markdown",
   "id": "07bb136e",
   "metadata": {
    "ein.tags": "worksheet-0",
    "slideshow": {
     "slide_type": "-"
    }
   },
   "source": [
    "### Funciones de más de una variable\n",
    "\n",
    "Consideremos el caso en que queremos integrar alguna función especial. Podemos usar Scipy para realizar la integración y para evaluar el integrando.  Como `special.jn` depende de dos variables, tenemos que crear una función intermedia que dependa sólo de la variable de integración"
   ]
  },
  {
   "cell_type": "code",
   "execution_count": null,
   "id": "3c1c17a1",
   "metadata": {
    "autoscroll": false,
    "ein.hycell": false,
    "ein.tags": "worksheet-0",
    "slideshow": {
     "slide_type": "-"
    }
   },
   "outputs": [],
   "source": [
    "integrate.quad(lambda x: special.jn(0,x), 0 , 10)"
   ]
  },
  {
   "cell_type": "markdown",
   "id": "166b8881",
   "metadata": {
    "ein.tags": "worksheet-0",
    "slideshow": {
     "slide_type": "-"
    }
   },
   "source": [
    "En realidad, la función `quad` permite el uso de argumentos que se le pasan a la función a integrar. La forma de llamar al integrador será en general:\n",
    "\n",
    "```python\n",
    "  quad(func, a, b, args=(), full_output=0, epsabs=1.49e-08, epsrel=1.49e-08,\n",
    "      limit=50, points=None, weight=None, wvar=None, wopts=None, maxp1=50,\n",
    "      limlst=50)\n",
    "  ```\n",
    "\n",
    "El argumento `args` debe ser una tupla, y contiene los argumentos extra que acepta la función a integrar, esta función debe llamarse en la forma `func(x, *args)`. O sea que siempre la integramos respecto a su primer argumento. Apliquemos esto a la función de Bessel. En este caso, la variable a integrar es el segundo argumento de `special.jn`, por lo que creamos una función con el orden correcto de argumentos:"
   ]
  },
  {
   "cell_type": "code",
   "execution_count": null,
   "id": "e7730d4b",
   "metadata": {
    "autoscroll": false,
    "ein.hycell": false,
    "ein.tags": "worksheet-0",
    "slideshow": {
     "slide_type": "-"
    }
   },
   "outputs": [],
   "source": [
    "def bessel_n(x, n):\n",
    "  return special.jn(n,x)"
   ]
  },
  {
   "cell_type": "code",
   "execution_count": null,
   "id": "131a36f1",
   "metadata": {
    "autoscroll": false,
    "ein.hycell": false,
    "ein.tags": "worksheet-0",
    "slideshow": {
     "slide_type": "-"
    }
   },
   "outputs": [],
   "source": [
    "integrate.quad(bessel_n, 0, 10, args=(0,))"
   ]
  },
  {
   "cell_type": "code",
   "execution_count": null,
   "id": "b615703b",
   "metadata": {
    "autoscroll": false,
    "ein.hycell": false,
    "ein.tags": "worksheet-0",
    "slideshow": {
     "slide_type": "-"
    }
   },
   "outputs": [],
   "source": [
    "print('n    \\int_0^10  J_n(x) dx')\n",
    "for n in range(6):\n",
    "  print(n,': ', integrate.quad(bessel_n, 0, 10, args=(n,))[0])"
   ]
  },
  {
   "cell_type": "markdown",
   "id": "82f4c488",
   "metadata": {},
   "source": [
    "\n",
    "-------\n",
    "\n",
    "**Nota:**\n",
    "\n",
    "Para calcular integrales múltiples existen rutinas que hacen llamados sucesivos a la rutina `quad()`. Esto incluye rutinas para integrales dobles (rutina `dblquad()`), triples (rutina `tplquad()`) y en general n-dimensionales (rutina `nquad()`)\n",
    "\n",
    "-------\n"
   ]
  },
  {
   "cell_type": "markdown",
   "id": "9091fb2a",
   "metadata": {},
   "source": [
    "-----\n",
    "\n",
    "## Ejercicios 11 (a)\n",
    "\n",
    "1. Graficar para valores de $k=1,2,5,10$ y como función del límite superior $L$, el valor de la integral:\n",
    "\n",
    "$$ I(k,L) = \\int_{0}^{L} x^{k} e^{-k x / 2} \\sin{(k x)} dx $$\n",
    "\n",
    "con rango de variación de $L$ entre $0$ y $2 \\pi$.\n",
    "\n",
    "-----\n",
    "\n",
    "."
   ]
  }
 ],
 "metadata": {
  "kernelspec": {
   "display_name": "Python 3 (ipykernel)",
   "language": "python",
   "name": "python3"
  },
  "language_info": {
   "codemirror_mode": {
    "name": "ipython",
    "version": 3
   },
   "file_extension": ".py",
   "mimetype": "text/x-python",
   "name": "python",
   "nbconvert_exporter": "python",
   "pygments_lexer": "ipython3",
   "version": "3.11.2"
  },
  "name": "11_1_intro_scipy.ipynb",
  "toc": {
   "base_numbering": 1,
   "nav_menu": {
    "height": "469.6px",
    "width": "252px"
   },
   "number_sections": true,
   "sideBar": true,
   "skip_h1_title": false,
   "title_cell": "Contenidos",
   "title_sidebar": "Contenidos",
   "toc_cell": false,
   "toc_position": {
    "height": "calc(100% - 180px)",
    "left": "10px",
    "top": "150px",
    "width": "383.2px"
   },
   "toc_section_display": true,
   "toc_window_display": false
  }
 },
 "nbformat": 4,
 "nbformat_minor": 5
}
