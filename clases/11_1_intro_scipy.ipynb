{
 "cells": [
  {
   "cell_type": "markdown",
   "metadata": {
    "collapsed": false,
    "ein.tags": "worksheet-0",
    "slideshow": {
     "slide_type": "-"
    }
   },
   "source": [
    "# Introducción al paquete Scipy  <a class=\"tocSkip\">\n",
    "\n",
    "El paquete **Scipy** es una colección de algoritmos y funciones construida sobre **Numpy** para facilitar cálculos y actividades relacionadas con el trabajo técnico/científico. \n"
   ]
  },
  {
   "cell_type": "markdown",
   "metadata": {
    "collapsed": false,
    "ein.tags": "worksheet-0",
    "slideshow": {
     "slide_type": "-"
    }
   },
   "source": [
    "## Una mirada rápida a Scipy\n",
    "\n",
    "La ayuda de scipy contiene (con `help(scipy)` entre otras cosas)\n",
    "\n",
    "\n",
    "    Contents\n",
    "    --------\n",
    "    SciPy imports all the functions from the NumPy namespace, and in\n",
    "    addition provides:\n",
    "    \n",
    "    Subpackages\n",
    "    -----------\n",
    "    Using any of these subpackages requires an explicit import.  For example,\n",
    "    ``import scipy.cluster``.\n",
    "    \n",
    "    ::\n",
    "    \n",
    "     cluster                      --- Vector Quantization / Kmeans\n",
    "     fftpack                      --- Discrete Fourier Transform algorithms\n",
    "     integrate                    --- Integration routines\n",
    "     interpolate                  --- Interpolation Tools\n",
    "     io                           --- Data input and output\n",
    "     linalg                       --- Linear algebra routines\n",
    "     linalg.blas                  --- Wrappers to BLAS library\n",
    "     linalg.lapack                --- Wrappers to LAPACK library\n",
    "     misc                         --- Various utilities that don't have\n",
    "                                      another home.\n",
    "     ndimage                      --- n-dimensional image package\n",
    "     odr                          --- Orthogonal Distance Regression\n",
    "     optimize                     --- Optimization Tools\n",
    "     signal                       --- Signal Processing Tools\n",
    "     sparse                       --- Sparse Matrices\n",
    "     sparse.linalg                --- Sparse Linear Algebra\n",
    "     sparse.linalg.dsolve         --- Linear Solvers\n",
    "     sparse.linalg.dsolve.umfpack --- :Interface to the UMFPACK library:\n",
    "                                      Conjugate Gradient Method (LOBPCG)\n",
    "     sparse.linalg.eigen          --- Sparse Eigenvalue Solvers\n",
    "     sparse.linalg.eigen.lobpcg   --- Locally Optimal Block Preconditioned\n",
    "                                      Conjugate Gradient Method (LOBPCG)\n",
    "     spatial                      --- Spatial data structures and algorithms\n",
    "     special                      --- Special functions\n",
    "     stats                        --- Statistical Functions\n",
    "     "
   ]
  },
  {
   "cell_type": "markdown",
   "metadata": {
    "collapsed": false,
    "ein.tags": "worksheet-0",
    "slideshow": {
     "slide_type": "-"
    }
   },
   "source": [
    "Más información puede encontrarse en la [documentación oficial de Scipy](https://docs.scipy.org/doc/scipy/reference)"
   ]
  },
  {
   "cell_type": "code",
   "execution_count": 1,
   "metadata": {
    "autoscroll": false,
    "collapsed": false,
    "ein.hycell": false,
    "ein.tags": "worksheet-0",
    "slideshow": {
     "slide_type": "-"
    }
   },
   "outputs": [],
   "source": [
    "import numpy as np\n",
    "import matplotlib.pyplot as plt\n",
    "%matplotlib inline"
   ]
  },
  {
   "cell_type": "markdown",
   "metadata": {
    "collapsed": false,
    "ein.tags": "worksheet-0",
    "slideshow": {
     "slide_type": "-"
    }
   },
   "source": [
    "## Funciones especiales\n",
    "\n",
    "En el submódulo `scipy.special` están definidas un número de funciones especiales. Una lista general de las funciones definidas (De cada tipo hay varias funciones) es:\n",
    "\n",
    "-  Airy functions\n",
    "-  Elliptic Functions and Integrals\n",
    "-  Bessel Functions\n",
    "-  Struve Functions\n",
    "-  Raw Statistical Functions\n",
    "-  Information Theory Functions\n",
    "-  Gamma and Related Functions\n",
    "-  Error Function and Fresnel Integrals\n",
    "-  Legendre Functions\n",
    "-  Ellipsoidal Harmonics\n",
    "-  Orthogonal polynomials\n",
    "-  Hypergeometric Functions\n",
    "-  Parabolic Cylinder Functions\n",
    "-  Mathieu and Related Functions\n",
    "-  Spheroidal Wave Functions\n",
    "-  Kelvin Functions\n",
    "-  Combinatorics\n",
    "-  Other Special Functions\n",
    "-  Convenience Functions\n",
    "\n"
   ]
  },
  {
   "cell_type": "code",
   "execution_count": 2,
   "metadata": {
    "autoscroll": false,
    "collapsed": false,
    "ein.hycell": false,
    "ein.tags": "worksheet-0",
    "slideshow": {
     "slide_type": "-"
    }
   },
   "outputs": [],
   "source": [
    "from scipy import special"
   ]
  },
  {
   "cell_type": "markdown",
   "metadata": {
    "collapsed": false,
    "ein.tags": "worksheet-0",
    "slideshow": {
     "slide_type": "-"
    }
   },
   "source": [
    "### Funciones de Bessel\n",
    "\n",
    "Las funciones de Bessel son soluciones de la ecuación diferencial:\n",
    "\n",
    "$$ x^2 \\frac{d^2 y}{dx^2} + x \\frac{dy}{dx} + (x^2 - \\nu^2)y = 0 . $$\n",
    "\n",
    "Para valores enteros de $\\nu$ se trata de una familia de funciones que aparecen como soluciones de problemas de propagación de ondas en problemas con simetría cilíndrica. \n"
   ]
  },
  {
   "cell_type": "code",
   "execution_count": 3,
   "metadata": {
    "autoscroll": false,
    "collapsed": false,
    "ein.hycell": false,
    "ein.tags": "worksheet-0",
    "slideshow": {
     "slide_type": "-"
    }
   },
   "outputs": [
    {
     "name": "stdout",
     "output_type": "stream",
     "text": [
      "jv(x1, x2, /, out=None, *, where=True, casting='same_kind', order='K', dtype=None, subok=True[, signature, extobj])\n",
      "\n",
      "jv(v, z)\n",
      "\n",
      "Bessel function of the first kind of real order and complex argument.\n",
      "\n",
      "Parameters\n",
      "----------\n",
      "v : array_like\n",
      "    Order (float).\n",
      "z : array_like\n",
      "    Argument (float or complex).\n",
      "\n",
      "Returns\n",
      "-------\n",
      "J : ndarray\n",
      "    Value of the Bessel function, :math:`J_v(z)`.\n",
      "\n",
      "Notes\n",
      "-----\n",
      "For positive `v` values, the computation is carried out using the AMOS\n",
      "[1]_ `zbesj` routine, which exploits the connection to the modified\n",
      "Bessel function :math:`I_v`,\n",
      "\n",
      ".. math::\n",
      "    J_v(z) = \\exp(v\\pi\\imath/2) I_v(-\\imath z)\\qquad (\\Im z > 0)\n",
      "\n",
      "    J_v(z) = \\exp(-v\\pi\\imath/2) I_v(\\imath z)\\qquad (\\Im z < 0)\n",
      "\n",
      "For negative `v` values the formula,\n",
      "\n",
      ".. math:: J_{-v}(z) = J_v(z) \\cos(\\pi v) - Y_v(z) \\sin(\\pi v)\n",
      "\n",
      "is used, where :math:`Y_v(z)` is the Bessel function of the second\n",
      "kind, computed using the AMOS routine `zbesy`.  Note that the second\n",
      "term is exactly zero for integer `v`; to improve accuracy the second\n",
      "term is explicitly omitted for `v` values such that `v = floor(v)`.\n",
      "\n",
      "Not to be confused with the spherical Bessel functions (see `spherical_jn`).\n",
      "\n",
      "See also\n",
      "--------\n",
      "jve : :math:`J_v` with leading exponential behavior stripped off.\n",
      "spherical_jn : spherical Bessel functions.\n",
      "\n",
      "References\n",
      "----------\n",
      ".. [1] Donald E. Amos, \"AMOS, A Portable Package for Bessel Functions\n",
      "       of a Complex Argument and Nonnegative Order\",\n",
      "       http://netlib.org/amos/\n"
     ]
    }
   ],
   "source": [
    "np.info(special.jv)"
   ]
  },
  {
   "cell_type": "code",
   "execution_count": 4,
   "metadata": {
    "autoscroll": false,
    "collapsed": false,
    "ein.hycell": false,
    "ein.tags": "worksheet-0",
    "slideshow": {
     "slide_type": "-"
    }
   },
   "outputs": [
    {
     "name": "stdout",
     "output_type": "stream",
     "text": [
      " jn_zeros(n, nt)\n",
      "\n",
      "Compute zeros of integer-order Bessel functions Jn.\n",
      "\n",
      "Compute `nt` zeros of the Bessel functions :math:`J_n(x)` on the\n",
      "interval :math:`(0, \\infty)`. The zeros are returned in ascending\n",
      "order. Note that this interval excludes the zero at :math:`x = 0`\n",
      "that exists for :math:`n > 0`.\n",
      "\n",
      "Parameters\n",
      "----------\n",
      "n : int\n",
      "    Order of Bessel function\n",
      "nt : int\n",
      "    Number of zeros to return\n",
      "\n",
      "Returns\n",
      "-------\n",
      "ndarray\n",
      "    First `n` zeros of the Bessel function.\n",
      "\n",
      "See Also\n",
      "--------\n",
      "jv\n",
      "\n",
      "References\n",
      "----------\n",
      ".. [1] Zhang, Shanjie and Jin, Jianming. \"Computation of Special\n",
      "       Functions\", John Wiley and Sons, 1996, chapter 5.\n",
      "       https://people.sc.fsu.edu/~jburkardt/f_src/special_functions/special_functions.html\n",
      "\n",
      "Examples\n",
      "--------\n",
      ">>> import scipy.special as sc\n",
      "\n",
      "We can check that we are getting approximations of the zeros by\n",
      "evaluating them with `jv`.\n",
      "\n",
      ">>> n = 1\n",
      ">>> x = sc.jn_zeros(n, 3)\n",
      ">>> x\n",
      "array([ 3.83170597,  7.01558667, 10.17346814])\n",
      ">>> sc.jv(n, x)\n",
      "array([-0.00000000e+00,  1.72975330e-16,  2.89157291e-16])\n",
      "\n",
      "Note that the zero at ``x = 0`` for ``n > 0`` is not included.\n",
      "\n",
      ">>> sc.jv(1, 0)\n",
      "0.0\n"
     ]
    }
   ],
   "source": [
    "np.info(special.jn_zeros)"
   ]
  },
  {
   "cell_type": "code",
   "execution_count": 5,
   "metadata": {
    "autoscroll": false,
    "collapsed": false,
    "ein.hycell": false,
    "ein.tags": "worksheet-0",
    "slideshow": {
     "slide_type": "-"
    }
   },
   "outputs": [
    {
     "data": {
      "text/plain": [
       "array([ 7.58834243, 11.06470949, 14.37253667])"
      ]
     },
     "execution_count": 5,
     "metadata": {},
     "output_type": "execute_result"
    }
   ],
   "source": [
    "# Ceros de la función de Bessel\n",
    "# Los tres primeros valores de x en los cuales se anula la función de Bessel de orden 4.\n",
    "special.jn_zeros(4,3)"
   ]
  },
  {
   "cell_type": "code",
   "execution_count": 6,
   "metadata": {
    "autoscroll": false,
    "collapsed": false,
    "ein.hycell": false,
    "ein.tags": "worksheet-0",
    "slideshow": {
     "slide_type": "-"
    }
   },
   "outputs": [
    {
     "data": {
      "image/png": "[encoded data removed]",
      "text/plain": [
       "<Figure size 432x288 with 1 Axes>"
      ]
     },
     "metadata": {
      "needs_background": "light"
     },
     "output_type": "display_data"
    }
   ],
   "source": [
    "x = np.linspace(0, 16, 50)\n",
    "for n in range(0,8,2):\n",
    "  p= plt.plot(x, special.jn(n, x), label='$J_{}(x)$'.format(n))\n",
    "  z = special.jn_zeros(n, 6)\n",
    "  z = z[z < 15]\n",
    "  plt.plot(z, np.zeros(z.size), 'o', color= p[0].get_color())\n",
    "\n",
    "plt.legend(title='Funciones $J_n$ de Bessel', ncol=2);\n",
    "plt.grid(True)"
   ]
  },
  {
   "cell_type": "code",
   "execution_count": 7,
   "metadata": {
    "autoscroll": false,
    "collapsed": false,
    "ein.hycell": false,
    "ein.tags": "worksheet-0",
    "slideshow": {
     "slide_type": "-"
    }
   },
   "outputs": [
    {
     "name": "stdout",
     "output_type": "stream",
     "text": [
      "True\n",
      "True\n"
     ]
    }
   ],
   "source": [
    "# jn es otro nombre para jv\n",
    "print(special.jn == special.jv)\n",
    "print(special.jn is special.jv)"
   ]
  },
  {
   "cell_type": "markdown",
   "metadata": {
    "collapsed": false,
    "ein.tags": "worksheet-0",
    "slideshow": {
     "slide_type": "-"
    }
   },
   "source": [
    "Como vemos, hay funciones para calcular funciones de Bessel. Aquí mostramos los órdenes enteros pero también se pueden utilizar órdenes $\\nu$ reales. La lista de funciones de Bessel (puede obtenerse de la ayuda sobre `scipy.special`) es:\n",
    "\n",
    " - Bessel Functions\n",
    " - Zeros of Bessel Functions\n",
    " - Faster versions of common Bessel Functions\n",
    " - Integrals of Bessel Functions\n",
    " - Derivatives of Bessel Functions\n",
    " - Spherical Bessel Functions\n",
    " - Riccati-Bessel Functions\n",
    "\n",
    "Por ejemplo, podemos calcular las funciones esféricas de Bessel, que aparecen en problemas con simetría esférica:"
   ]
  },
  {
   "cell_type": "code",
   "execution_count": 8,
   "metadata": {
    "autoscroll": false,
    "collapsed": false,
    "ein.hycell": false,
    "ein.tags": "worksheet-0",
    "slideshow": {
     "slide_type": "-"
    }
   },
   "outputs": [
    {
     "data": {
      "image/png": "[encoded data removed]",
      "text/plain": [
       "<Figure size 432x288 with 1 Axes>"
      ]
     },
     "metadata": {
      "needs_background": "light"
     },
     "output_type": "display_data"
    }
   ],
   "source": [
    "x = np.linspace(0, 16, 50)\n",
    "for n in range(0,7,2):\n",
    "  p= plt.plot(x, special.spherical_jn(n, x), label='$j_{}(x)$'.format(n))\n",
    "plt.legend(title='Funciones esféricas de Bessel $j_n$', ncol=2);\n",
    "plt.grid(True)"
   ]
  },
  {
   "cell_type": "markdown",
   "metadata": {
    "collapsed": false,
    "ein.tags": "worksheet-0",
    "slideshow": {
     "slide_type": "-"
    }
   },
   "source": [
    "### Función Error\n",
    "\n",
    "La función error es el resultado de integrar una función Gaussiana\n",
    "\n",
    "$$ \\operatorname{erf}z=\\frac{2}{\\sqrt{\\pi}}\\int_{0}^{z}e^{-t^{2}}\\mathrm{d}t, $$\n",
    "\n",
    "mientras que las integrales seno y coseno de Fresnel están definidas por:\n",
    "$$\n",
    "\\operatorname{ssa}= \\int_{0}^{z} \\sin(\\pi/2  t^2) \\mathrm{d} t \\\\\n",
    "\\operatorname{csa}= \\int_{0}^{z} \\cos(\\pi/2  t^2) \\mathrm{d} t \n",
    "$$"
   ]
  },
  {
   "cell_type": "code",
   "execution_count": 9,
   "metadata": {
    "autoscroll": false,
    "collapsed": false,
    "ein.hycell": false,
    "ein.tags": "worksheet-0",
    "slideshow": {
     "slide_type": "-"
    }
   },
   "outputs": [
    {
     "data": {
      "image/png": "[encoded data removed]",
      "text/plain": [
       "<Figure size 432x288 with 1 Axes>"
      ]
     },
     "metadata": {
      "needs_background": "light"
     },
     "output_type": "display_data"
    }
   ],
   "source": [
    "x = np.linspace(-3, 3,100)\n",
    "f = special.fresnel(x)\n",
    "plt.plot(x, special.erf(x),'-', label=r'$\\mathrm{erf}(x)$')\n",
    "plt.plot(x, f[0],'-', label=r'$\\mathrm{ssa}(x)$')\n",
    "plt.plot(x, f[1],'-', label=r'$\\mathrm{csa}(x)$')\n",
    "plt.xlabel('$x$')\n",
    "plt.ylabel('$f(x)$')\n",
    "plt.legend(loc='best')\n",
    "plt.grid(True)"
   ]
  },
  {
   "cell_type": "markdown",
   "metadata": {
    "collapsed": false,
    "ein.tags": "worksheet-0",
    "slideshow": {
     "slide_type": "-"
    }
   },
   "source": [
    "### Evaluación de polinomios ortogonales\n",
    "\n",
    "`Scipy.special` tiene funciones para evaluar eficientemente polinomios ortogonales\n",
    "\n",
    "Por ejemplo si queremos, evaluar los polinomios de Laguerre, solución de la ecuación diferencial:\n",
    "$$\n",
    "x\\frac{d^2}{dx^2}L_n + (1 - x)\\frac{d}{dx}L_n + nL_n = 0\n",
    "$$"
   ]
  },
  {
   "cell_type": "code",
   "execution_count": 10,
   "metadata": {
    "autoscroll": false,
    "collapsed": false,
    "ein.hycell": false,
    "ein.tags": "worksheet-0",
    "slideshow": {
     "slide_type": "-"
    }
   },
   "outputs": [
    {
     "data": {
      "image/png": "[encoded data removed]",
      "text/plain": [
       "<Figure size 432x288 with 1 Axes>"
      ]
     },
     "metadata": {
      "needs_background": "light"
     },
     "output_type": "display_data"
    }
   ],
   "source": [
    "x = np.linspace(-1, 1,100)\n",
    "for n in range(2,6):\n",
    "  plt.plot(x, special.eval_laguerre(n, x),'-', label=r'$n={}$'.format(n))\n",
    "plt.xlabel('$x$')\n",
    "plt.ylabel('$f(x)$')\n",
    "plt.legend(loc='best', ncol=2)\n",
    "plt.grid(True)"
   ]
  },
  {
   "cell_type": "markdown",
   "metadata": {
    "collapsed": false,
    "ein.tags": "worksheet-0",
    "slideshow": {
     "slide_type": "-"
    }
   },
   "source": [
    "Los polinomios de Chebyshev son solución de\n",
    "$$ (1 - x^2)\\frac{d^2}{dx^2}T_n - x\\frac{d}{dx}T_n + n^2T_n = 0$$"
   ]
  },
  {
   "cell_type": "code",
   "execution_count": 11,
   "metadata": {
    "autoscroll": false,
    "collapsed": false,
    "ein.hycell": false,
    "ein.tags": "worksheet-0",
    "slideshow": {
     "slide_type": "-"
    }
   },
   "outputs": [
    {
     "data": {
      "image/png": "[encoded data removed]",
      "text/plain": [
       "<Figure size 432x288 with 1 Axes>"
      ]
     },
     "metadata": {
      "needs_background": "light"
     },
     "output_type": "display_data"
    }
   ],
   "source": [
    "x = np.linspace(-1, 1,100)\n",
    "for n in range(2,6):\n",
    "  plt.plot(x, special.eval_chebyt(n, x),'-', label=f'$n={n}$')\n",
    "plt.xlabel('$x$')\n",
    "plt.ylabel('$f(x)$')\n",
    "plt.legend(loc='best', ncol=2)\n",
    "plt.ylim((-1.1,2))\n",
    "plt.grid(True)"
   ]
  },
  {
   "cell_type": "markdown",
   "metadata": {
    "collapsed": false,
    "ein.tags": "worksheet-0",
    "slideshow": {
     "slide_type": "-"
    }
   },
   "source": [
    "### Factorial, permutaciones y combinaciones\n",
    "\n",
    "Hay funciones para calcular varias funciones relacionadas con combinatoria\n",
    "\n",
    "La función `comb()` da el número de maneras de elegir `k` de un total de `N` elementos. Sin repeticiones está dada por:\n",
    "$$ \\frac{N!}{k! (N-k)!}$$\n",
    "mientras que si cada elemento puede repetirse, la fórmula es:\n",
    "$$ \\frac{(N+k-1)!}{k! (N-1)!}$$\n"
   ]
  },
  {
   "cell_type": "code",
   "execution_count": 12,
   "metadata": {
    "autoscroll": false,
    "collapsed": false,
    "ein.hycell": false,
    "ein.tags": "worksheet-0",
    "slideshow": {
     "slide_type": "-"
    }
   },
   "outputs": [],
   "source": [
    "N = 10\n",
    "k = np.arange(2,4)"
   ]
  },
  {
   "cell_type": "code",
   "execution_count": 13,
   "metadata": {
    "autoscroll": false,
    "collapsed": false,
    "ein.hycell": false,
    "ein.tags": "worksheet-0",
    "slideshow": {
     "slide_type": "-"
    }
   },
   "outputs": [
    {
     "data": {
      "text/plain": [
       "array([ 45., 120.])"
      ]
     },
     "execution_count": 13,
     "metadata": {},
     "output_type": "execute_result"
    }
   ],
   "source": [
    "special.comb(N, k)"
   ]
  },
  {
   "cell_type": "code",
   "execution_count": 14,
   "metadata": {
    "autoscroll": false,
    "collapsed": false,
    "ein.hycell": false,
    "ein.tags": "worksheet-0",
    "slideshow": {
     "slide_type": "-"
    }
   },
   "outputs": [
    {
     "data": {
      "text/plain": [
       "120"
      ]
     },
     "execution_count": 14,
     "metadata": {},
     "output_type": "execute_result"
    }
   ],
   "source": [
    "# Si usamos exact=True, k no puede ser un array\n",
    "special.comb(N,3,exact=True)"
   ]
  },
  {
   "cell_type": "code",
   "execution_count": 15,
   "metadata": {
    "autoscroll": false,
    "collapsed": false,
    "ein.hycell": false,
    "ein.tags": "worksheet-0",
    "slideshow": {
     "slide_type": "-"
    }
   },
   "outputs": [
    {
     "data": {
      "text/plain": [
       "array([ 55., 220.])"
      ]
     },
     "execution_count": 15,
     "metadata": {},
     "output_type": "execute_result"
    }
   ],
   "source": [
    "special.comb(N,k, repetition=True)"
   ]
  },
  {
   "cell_type": "markdown",
   "metadata": {
    "collapsed": false,
    "ein.tags": "worksheet-0",
    "slideshow": {
     "slide_type": "-"
    }
   },
   "source": [
    "El número de permutaciones se obtiene con la función `perm()`, y está dado por:\n",
    "$$ \\frac{N!}{(N-k)!}$$"
   ]
  },
  {
   "cell_type": "code",
   "execution_count": 16,
   "metadata": {
    "autoscroll": false,
    "collapsed": false,
    "ein.hycell": false,
    "ein.tags": "worksheet-0",
    "slideshow": {
     "slide_type": "-"
    }
   },
   "outputs": [
    {
     "data": {
      "text/plain": [
       "array([ 90., 720.])"
      ]
     },
     "execution_count": 16,
     "metadata": {},
     "output_type": "execute_result"
    }
   ],
   "source": [
    "special.perm(N,k)"
   ]
  },
  {
   "cell_type": "markdown",
   "metadata": {
    "collapsed": false,
    "ein.tags": "worksheet-0",
    "slideshow": {
     "slide_type": "-"
    }
   },
   "source": [
    "que corresponde a:\n",
    "$$ \\frac{10!}{(10-3)!} = 10 \\cdot 9 \\cdot 8 $$\n",
    "\n",
    "\n",
    "Los números factorial (N!) y doble factorial (N!!) son:"
   ]
  },
  {
   "cell_type": "code",
   "execution_count": 17,
   "metadata": {
    "autoscroll": false,
    "collapsed": false,
    "ein.hycell": false,
    "ein.tags": "worksheet-0",
    "slideshow": {
     "slide_type": "-"
    }
   },
   "outputs": [
    {
     "name": "stdout",
     "output_type": "stream",
     "text": [
      "[3 6 8]! = [6.000e+00 7.200e+02 4.032e+04]\n",
      "[3 6 8]!! = [  3.  48. 384.]\n"
     ]
    }
   ],
   "source": [
    "N = np.array([3,6,8])\n",
    "print(f\"{N}! = {special.factorial(N)}\")\n",
    "print(f\"{N}!! = {special.factorial2(N)}\")"
   ]
  },
  {
   "cell_type": "markdown",
   "metadata": {
    "collapsed": false,
    "ein.tags": "worksheet-0",
    "slideshow": {
     "slide_type": "-"
    }
   },
   "source": [
    "## Integración numérica"
   ]
  },
  {
   "cell_type": "markdown",
   "metadata": {
    "collapsed": false,
    "ein.tags": "worksheet-0",
    "slideshow": {
     "slide_type": "-"
    }
   },
   "source": [
    "Scipy tiene rutinas para integrar numéricamente funciones o tablas de datos. Por ejemplo para integrar funciones en la forma:\n",
    "$$I= \\int_{a}^{b} f(x)\\, dx $$\n",
    "la función más utilizada es `quad`, que llama a distintas rutinas del paquete **QUADPACK** dependiendo de los argumentos que toma. Entre los aspectos más notables está la posibilidad de elegir una función de peso entre un conjunto definido de funciones, y la posibilidad de elegir un dominio de integración finito o infinito."
   ]
  },
  {
   "cell_type": "code",
   "execution_count": 18,
   "metadata": {
    "autoscroll": false,
    "collapsed": false,
    "ein.hycell": false,
    "ein.tags": "worksheet-0",
    "slideshow": {
     "slide_type": "-"
    }
   },
   "outputs": [],
   "source": [
    "from scipy import integrate"
   ]
  },
  {
   "cell_type": "code",
   "execution_count": 19,
   "metadata": {
    "autoscroll": false,
    "collapsed": false,
    "ein.hycell": false,
    "ein.tags": "worksheet-0",
    "slideshow": {
     "slide_type": "-"
    }
   },
   "outputs": [],
   "source": [
    "x = np.linspace(0., 10, 100)"
   ]
  },
  {
   "cell_type": "code",
   "execution_count": 20,
   "metadata": {
    "autoscroll": false,
    "collapsed": false,
    "ein.hycell": false,
    "ein.tags": "worksheet-0",
    "slideshow": {
     "slide_type": "-"
    }
   },
   "outputs": [],
   "source": [
    "def f1(x):\n",
    "  return np.sin(x)*np.exp(-np.square(x+1)/10)"
   ]
  },
  {
   "cell_type": "code",
   "execution_count": 21,
   "metadata": {
    "autoscroll": false,
    "collapsed": false,
    "ein.hycell": false,
    "ein.tags": "worksheet-0",
    "slideshow": {
     "slide_type": "-"
    }
   },
   "outputs": [
    {
     "data": {
      "text/plain": [
       "[<matplotlib.lines.Line2D at 0x7f0548a9fa90>]"
      ]
     },
     "execution_count": 21,
     "metadata": {},
     "output_type": "execute_result"
    },
    {
     "data": {
      "image/png": "[encoded data removed]",
      "text/plain": [
       "<Figure size 432x288 with 1 Axes>"
      ]
     },
     "metadata": {
      "needs_background": "light"
     },
     "output_type": "display_data"
    }
   ],
   "source": [
    "plt.plot(x,f1(x))"
   ]
  },
  {
   "cell_type": "code",
   "execution_count": 22,
   "metadata": {
    "autoscroll": false,
    "collapsed": false,
    "ein.hycell": false,
    "ein.tags": "worksheet-0",
    "slideshow": {
     "slide_type": "-"
    }
   },
   "outputs": [
    {
     "data": {
      "text/plain": [
       "(0.34858491873298725, 3.870070028144515e-15)"
      ]
     },
     "execution_count": 22,
     "metadata": {},
     "output_type": "execute_result"
    }
   ],
   "source": [
    "integrate.quad(f1,0,1)"
   ]
  },
  {
   "cell_type": "code",
   "execution_count": 23,
   "metadata": {
    "autoscroll": false,
    "collapsed": false,
    "ein.hycell": false,
    "ein.tags": "worksheet-0",
    "slideshow": {
     "slide_type": "-"
    }
   },
   "outputs": [
    {
     "name": "stdout",
     "output_type": "stream",
     "text": [
      " quad(func, a, b, args=(), full_output=0, epsabs=1.49e-08, epsrel=1.49e-08,\n",
      "      limit=50, points=None, weight=None, wvar=None, wopts=None, maxp1=50,\n",
      "      limlst=50)\n",
      "\n",
      "Compute a definite integral.\n",
      "\n",
      "Integrate func from `a` to `b` (possibly infinite interval) using a\n",
      "technique from the Fortran library QUADPACK.\n",
      "\n",
      "Parameters\n",
      "----------\n",
      "func : {function, scipy.LowLevelCallable}\n",
      "    A Python function or method to integrate. If `func` takes many\n",
      "    arguments, it is integrated along the axis corresponding to the\n",
      "    first argument.\n",
      "\n",
      "    If the user desires improved integration performance, then `f` may\n",
      "    be a `scipy.LowLevelCallable` with one of the signatures::\n",
      "\n",
      "        double func(double x)\n",
      "        double func(double x, void *user_data)\n",
      "        double func(int n, double *xx)\n",
      "        double func(int n, double *xx, void *user_data)\n",
      "\n",
      "    The ``user_data`` is the data contained in the `scipy.LowLevelCallable`.\n",
      "    In the call forms with ``xx``,  ``n`` is the length of the ``xx``\n",
      "    array which contains ``xx[0] == x`` and the rest of the items are\n",
      "    numbers contained in the ``args`` argument of quad.\n",
      "\n",
      "    In addition, certain ctypes call signatures are supported for\n",
      "    backward compatibility, but those should not be used in new code.\n",
      "a : float\n",
      "    Lower limit of integration (use -numpy.inf for -infinity).\n",
      "b : float\n",
      "    Upper limit of integration (use numpy.inf for +infinity).\n",
      "args : tuple, optional\n",
      "    Extra arguments to pass to `func`.\n",
      "full_output : int, optional\n",
      "    Non-zero to return a dictionary of integration information.\n",
      "    If non-zero, warning messages are also suppressed and the\n",
      "    message is appended to the output tuple.\n",
      "\n",
      "Returns\n",
      "-------\n",
      "y : float\n",
      "    The integral of func from `a` to `b`.\n",
      "abserr : float\n",
      "    An estimate of the absolute error in the result.\n",
      "infodict : dict\n",
      "    A dictionary containing additional information.\n",
      "    Run scipy.integrate.quad_explain() for more information.\n",
      "message\n",
      "    A convergence message.\n",
      "explain\n",
      "    Appended only with 'cos' or 'sin' weighting and infinite\n",
      "    integration limits, it contains an explanation of the codes in\n",
      "    infodict['ierlst']\n",
      "\n",
      "Other Parameters\n",
      "----------------\n",
      "epsabs : float or int, optional\n",
      "    Absolute error tolerance. Default is 1.49e-8. `quad` tries to obtain\n",
      "    an accuracy of ``abs(i-result) <= max(epsabs, epsrel*abs(i))``\n",
      "    where ``i`` = integral of `func` from `a` to `b`, and ``result`` is the\n",
      "    numerical approximation. See `epsrel` below.\n",
      "epsrel : float or int, optional\n",
      "    Relative error tolerance. Default is 1.49e-8.\n",
      "    If ``epsabs <= 0``, `epsrel` must be greater than both 5e-29\n",
      "    and ``50 * (machine epsilon)``. See `epsabs` above.\n",
      "limit : float or int, optional\n",
      "    An upper bound on the number of subintervals used in the adaptive\n",
      "    algorithm.\n",
      "points : (sequence of floats,ints), optional\n",
      "    A sequence of break points in the bounded integration interval\n",
      "    where local difficulties of the integrand may occur (e.g.,\n",
      "    singularities, discontinuities). The sequence does not have\n",
      "    to be sorted. Note that this option cannot be used in conjunction\n",
      "    with ``weight``.\n",
      "weight : float or int, optional\n",
      "    String indicating weighting function. Full explanation for this\n",
      "    and the remaining arguments can be found below.\n",
      "wvar : optional\n",
      "    Variables for use with weighting functions.\n",
      "wopts : optional\n",
      "    Optional input for reusing Chebyshev moments.\n",
      "maxp1 : float or int, optional\n",
      "    An upper bound on the number of Chebyshev moments.\n",
      "limlst : int, optional\n",
      "    Upper bound on the number of cycles (>=3) for use with a sinusoidal\n",
      "    weighting and an infinite end-point.\n",
      "\n",
      "See Also\n",
      "--------\n",
      "dblquad : double integral\n",
      "tplquad : triple integral\n",
      "nquad : n-dimensional integrals (uses `quad` recursively)\n",
      "fixed_quad : fixed-order Gaussian quadrature\n",
      "quadrature : adaptive Gaussian quadrature\n",
      "odeint : ODE integrator\n",
      "ode : ODE integrator\n",
      "simpson : integrator for sampled data\n",
      "romb : integrator for sampled data\n",
      "scipy.special : for coefficients and roots of orthogonal polynomials\n",
      "\n",
      "Notes\n",
      "-----\n",
      "\n",
      "**Extra information for quad() inputs and outputs**\n",
      "\n",
      "If full_output is non-zero, then the third output argument\n",
      "(infodict) is a dictionary with entries as tabulated below. For\n",
      "infinite limits, the range is transformed to (0,1) and the\n",
      "optional outputs are given with respect to this transformed range.\n",
      "Let M be the input argument limit and let K be infodict['last'].\n",
      "The entries are:\n",
      "\n",
      "'neval'\n",
      "    The number of function evaluations.\n",
      "'last'\n",
      "    The number, K, of subintervals produced in the subdivision process.\n",
      "'alist'\n",
      "    A rank-1 array of length M, the first K elements of which are the\n",
      "    left end points of the subintervals in the partition of the\n",
      "    integration range.\n",
      "'blist'\n",
      "    A rank-1 array of length M, the first K elements of which are the\n",
      "    right end points of the subintervals.\n",
      "'rlist'\n",
      "    A rank-1 array of length M, the first K elements of which are the\n",
      "    integral approximations on the subintervals.\n",
      "'elist'\n",
      "    A rank-1 array of length M, the first K elements of which are the\n",
      "    moduli of the absolute error estimates on the subintervals.\n",
      "'iord'\n",
      "    A rank-1 integer array of length M, the first L elements of\n",
      "    which are pointers to the error estimates over the subintervals\n",
      "    with ``L=K`` if ``K<=M/2+2`` or ``L=M+1-K`` otherwise. Let I be the\n",
      "    sequence ``infodict['iord']`` and let E be the sequence\n",
      "    ``infodict['elist']``.  Then ``E[I[1]], ..., E[I[L]]`` forms a\n",
      "    decreasing sequence.\n",
      "\n",
      "If the input argument points is provided (i.e., it is not None),\n",
      "the following additional outputs are placed in the output\n",
      "dictionary. Assume the points sequence is of length P.\n",
      "\n",
      "'pts'\n",
      "    A rank-1 array of length P+2 containing the integration limits\n",
      "    and the break points of the intervals in ascending order.\n",
      "    This is an array giving the subintervals over which integration\n",
      "    will occur.\n",
      "'level'\n",
      "    A rank-1 integer array of length M (=limit), containing the\n",
      "    subdivision levels of the subintervals, i.e., if (aa,bb) is a\n",
      "    subinterval of ``(pts[1], pts[2])`` where ``pts[0]`` and ``pts[2]``\n",
      "    are adjacent elements of ``infodict['pts']``, then (aa,bb) has level l\n",
      "    if ``|bb-aa| = |pts[2]-pts[1]| * 2**(-l)``.\n",
      "'ndin'\n",
      "    A rank-1 integer array of length P+2. After the first integration\n",
      "    over the intervals (pts[1], pts[2]), the error estimates over some\n",
      "    of the intervals may have been increased artificially in order to\n",
      "    put their subdivision forward. This array has ones in slots\n",
      "    corresponding to the subintervals for which this happens.\n",
      "\n",
      "**Weighting the integrand**\n",
      "\n",
      "The input variables, *weight* and *wvar*, are used to weight the\n",
      "integrand by a select list of functions. Different integration\n",
      "methods are used to compute the integral with these weighting\n",
      "functions, and these do not support specifying break points. The\n",
      "possible values of weight and the corresponding weighting functions are.\n",
      "\n",
      "==========  ===================================   =====================\n",
      "``weight``  Weight function used                  ``wvar``\n",
      "==========  ===================================   =====================\n",
      "'cos'       cos(w*x)                              wvar = w\n",
      "'sin'       sin(w*x)                              wvar = w\n",
      "'alg'       g(x) = ((x-a)**alpha)*((b-x)**beta)   wvar = (alpha, beta)\n",
      "'alg-loga'  g(x)*log(x-a)                         wvar = (alpha, beta)\n",
      "'alg-logb'  g(x)*log(b-x)                         wvar = (alpha, beta)\n",
      "'alg-log'   g(x)*log(x-a)*log(b-x)                wvar = (alpha, beta)\n",
      "'cauchy'    1/(x-c)                               wvar = c\n",
      "==========  ===================================   =====================\n",
      "\n",
      "wvar holds the parameter w, (alpha, beta), or c depending on the weight\n",
      "selected. In these expressions, a and b are the integration limits.\n",
      "\n",
      "For the 'cos' and 'sin' weighting, additional inputs and outputs are\n",
      "available.\n",
      "\n",
      "For finite integration limits, the integration is performed using a\n",
      "Clenshaw-Curtis method which uses Chebyshev moments. For repeated\n",
      "calculations, these moments are saved in the output dictionary:\n",
      "\n",
      "'momcom'\n",
      "    The maximum level of Chebyshev moments that have been computed,\n",
      "    i.e., if ``M_c`` is ``infodict['momcom']`` then the moments have been\n",
      "    computed for intervals of length ``|b-a| * 2**(-l)``,\n",
      "    ``l=0,1,...,M_c``.\n",
      "'nnlog'\n",
      "    A rank-1 integer array of length M(=limit), containing the\n",
      "    subdivision levels of the subintervals, i.e., an element of this\n",
      "    array is equal to l if the corresponding subinterval is\n",
      "    ``|b-a|* 2**(-l)``.\n",
      "'chebmo'\n",
      "    A rank-2 array of shape (25, maxp1) containing the computed\n",
      "    Chebyshev moments. These can be passed on to an integration\n",
      "    over the same interval by passing this array as the second\n",
      "    element of the sequence wopts and passing infodict['momcom'] as\n",
      "    the first element.\n",
      "\n",
      "If one of the integration limits is infinite, then a Fourier integral is\n",
      "computed (assuming w neq 0). If full_output is 1 and a numerical error\n",
      "is encountered, besides the error message attached to the output tuple,\n",
      "a dictionary is also appended to the output tuple which translates the\n",
      "error codes in the array ``info['ierlst']`` to English messages. The\n",
      "output information dictionary contains the following entries instead of\n",
      "'last', 'alist', 'blist', 'rlist', and 'elist':\n",
      "\n",
      "'lst'\n",
      "    The number of subintervals needed for the integration (call it ``K_f``).\n",
      "'rslst'\n",
      "    A rank-1 array of length M_f=limlst, whose first ``K_f`` elements\n",
      "    contain the integral contribution over the interval\n",
      "    ``(a+(k-1)c, a+kc)`` where ``c = (2*floor(|w|) + 1) * pi / |w|``\n",
      "    and ``k=1,2,...,K_f``.\n",
      "'erlst'\n",
      "    A rank-1 array of length ``M_f`` containing the error estimate\n",
      "    corresponding to the interval in the same position in\n",
      "    ``infodict['rslist']``.\n",
      "'ierlst'\n",
      "    A rank-1 integer array of length ``M_f`` containing an error flag\n",
      "    corresponding to the interval in the same position in\n",
      "    ``infodict['rslist']``.  See the explanation dictionary (last entry\n",
      "    in the output tuple) for the meaning of the codes.\n",
      "\n",
      "Examples\n",
      "--------\n",
      "Calculate :math:`\\int^4_0 x^2 dx` and compare with an analytic result\n",
      "\n",
      ">>> from scipy import integrate\n",
      ">>> x2 = lambda x: x**2\n",
      ">>> integrate.quad(x2, 0, 4)\n",
      "(21.333333333333332, 2.3684757858670003e-13)\n",
      ">>> print(4**3 / 3.)  # analytical result\n",
      "21.3333333333\n",
      "\n",
      "Calculate :math:`\\int^\\infty_0 e^{-x} dx`\n",
      "\n",
      ">>> invexp = lambda x: np.exp(-x)\n",
      ">>> integrate.quad(invexp, 0, np.inf)\n",
      "(1.0, 5.842605999138044e-11)\n",
      "\n",
      ">>> f = lambda x,a : a*x\n",
      ">>> y, err = integrate.quad(f, 0, 1, args=(1,))\n",
      ">>> y\n",
      "0.5\n",
      ">>> y, err = integrate.quad(f, 0, 1, args=(3,))\n",
      ">>> y\n",
      "1.5\n",
      "\n",
      "Calculate :math:`\\int^1_0 x^2 + y^2 dx` with ctypes, holding\n",
      "y parameter as 1::\n",
      "\n",
      "    testlib.c =>\n",
      "        double func(int n, double args[n]){\n",
      "            return args[0]*args[0] + args[1]*args[1];}\n",
      "    compile to library testlib.*\n",
      "\n",
      "::\n",
      "\n",
      "   from scipy import integrate\n",
      "   import ctypes\n",
      "   lib = ctypes.CDLL('/home/.../testlib.*') #use absolute path\n",
      "   lib.func.restype = ctypes.c_double\n",
      "   lib.func.argtypes = (ctypes.c_int,ctypes.c_double)\n",
      "   integrate.quad(lib.func,0,1,(1))\n",
      "   #(1.3333333333333333, 1.4802973661668752e-14)\n",
      "   print((1.0**3/3.0 + 1.0) - (0.0**3/3.0 + 0.0)) #Analytic result\n",
      "   # 1.3333333333333333\n",
      "\n",
      "Be aware that pulse shapes and other sharp features as compared to the\n",
      "size of the integration interval may not be integrated correctly using\n",
      "this method. A simplified example of this limitation is integrating a\n",
      "y-axis reflected step function with many zero values within the integrals\n",
      "bounds.\n",
      "\n",
      ">>> y = lambda x: 1 if x<=0 else 0\n",
      ">>> integrate.quad(y, -1, 1)\n",
      "(1.0, 1.1102230246251565e-14)\n",
      ">>> integrate.quad(y, -1, 100)\n",
      "(1.0000000002199108, 1.0189464580163188e-08)\n",
      ">>> integrate.quad(y, -1, 10000)\n",
      "(0.0, 0.0)\n"
     ]
    }
   ],
   "source": [
    "np.info(integrate.quad)"
   ]
  },
  {
   "cell_type": "code",
   "execution_count": 24,
   "metadata": {
    "autoscroll": false,
    "collapsed": false,
    "ein.hycell": false,
    "ein.tags": "worksheet-0",
    "slideshow": {
     "slide_type": "-"
    }
   },
   "outputs": [
    {
     "data": {
      "text/plain": [
       "[((0, 1), 0.34858491873298725),\n",
       " ((0, 2), 0.8600106383901718),\n",
       " ((0, 3), 1.0438816972950689),\n",
       " ((0, 4), 1.0074874684274517)]"
      ]
     },
     "execution_count": 24,
     "metadata": {},
     "output_type": "execute_result"
    }
   ],
   "source": [
    "[((0, xmax), integrate.quad(f1,0,xmax)[0]) for xmax in np.arange(1,5)]"
   ]
  },
  {
   "cell_type": "markdown",
   "metadata": {
    "collapsed": false,
    "ein.tags": "worksheet-0",
    "slideshow": {
     "slide_type": "-"
    }
   },
   "source": [
    "La rutina devuelve dos valores. El primero es la estimación del valor de la integral y el segundo una estimación del **error absoluto** . Además, la función acepta límites de integración infinitos ($\\pm \\infty$, definidos en **Numpy**)"
   ]
  },
  {
   "cell_type": "code",
   "execution_count": 25,
   "metadata": {
    "autoscroll": false,
    "collapsed": false,
    "ein.hycell": false,
    "ein.tags": "worksheet-0",
    "slideshow": {
     "slide_type": "-"
    }
   },
   "outputs": [
    {
     "data": {
      "text/plain": [
       "(-0.3871487639489655, 5.4599545822826244e-09)"
      ]
     },
     "execution_count": 25,
     "metadata": {},
     "output_type": "execute_result"
    }
   ],
   "source": [
    "integrate.quad(f1,-np.inf,np.inf)"
   ]
  },
  {
   "cell_type": "markdown",
   "metadata": {
    "collapsed": false,
    "ein.tags": "worksheet-0",
    "slideshow": {
     "slide_type": "-"
    }
   },
   "source": [
    "### Ejemplo de función fuertemente oscilatoria"
   ]
  },
  {
   "cell_type": "code",
   "execution_count": 26,
   "metadata": {
    "autoscroll": false,
    "collapsed": false,
    "ein.hycell": false,
    "ein.tags": "worksheet-0",
    "slideshow": {
     "slide_type": "-"
    }
   },
   "outputs": [],
   "source": [
    "k = 200\n",
    "L = 2*np.pi\n",
    "a = 0.1\n",
    "def f2(x):\n",
    "  return np.sin(k*x)*np.exp(-a*x)"
   ]
  },
  {
   "cell_type": "code",
   "execution_count": 27,
   "metadata": {
    "autoscroll": false,
    "collapsed": false,
    "ein.hycell": false,
    "ein.tags": "worksheet-0",
    "slideshow": {
     "slide_type": "-"
    }
   },
   "outputs": [
    {
     "name": "stdout",
     "output_type": "stream",
     "text": [
      "0.0023325601276845158\n"
     ]
    }
   ],
   "source": [
    "# Valor exacto de la integral\n",
    "I=k/a**2*(np.exp(-a*L)-1)/(1-k**2/a**2)\n",
    "print(I)"
   ]
  },
  {
   "cell_type": "code",
   "execution_count": 28,
   "metadata": {
    "autoscroll": false,
    "collapsed": false,
    "ein.hycell": false,
    "ein.tags": "worksheet-0",
    "slideshow": {
     "slide_type": "-"
    }
   },
   "outputs": [
    {
     "name": "stderr",
     "output_type": "stream",
     "text": [
      "<ipython-input-28-909b8a42d90d>:1: IntegrationWarning: The maximum number of subdivisions (50) has been achieved.\n",
      "  If increasing the limit yields no improvement it is advised to analyze \n",
      "  the integrand in order to determine the difficulties.  If the position of a \n",
      "  local difficulty can be determined (singularity, discontinuity) one will \n",
      "  probably gain from splitting up the interval and calling the integrator \n",
      "  on the subranges.  Perhaps a special-purpose integrator should be used.\n",
      "  Iq= integrate.quad(f2,0,L)\n"
     ]
    }
   ],
   "source": [
    "Iq= integrate.quad(f2,0,L)"
   ]
  },
  {
   "cell_type": "code",
   "execution_count": 29,
   "metadata": {
    "autoscroll": false,
    "collapsed": false,
    "ein.hycell": false,
    "ein.tags": "worksheet-0",
    "slideshow": {
     "slide_type": "-"
    }
   },
   "outputs": [
    {
     "name": "stdout",
     "output_type": "stream",
     "text": [
      "I= -0.0043611 ± 0.019119\n",
      "Error relativo= 2.86965\n",
      "\n"
     ]
    }
   ],
   "source": [
    "I_err = (I-Iq[0])/I             # Error relativo con el valor exacto\n",
    "print(\"I= {:.5g} ± {:.5g}\\nError relativo= {:.6g}\\n\".format(*Iq, I_err))"
   ]
  },
  {
   "cell_type": "markdown",
   "metadata": {
    "collapsed": false,
    "ein.tags": "worksheet-0",
    "slideshow": {
     "slide_type": "-"
    }
   },
   "source": [
    "El error relativo entre el valor obtenido numéricamente y el valor exacto `I` es grande. Esto se debe a la naturaleza del integrando. Grafiquemos sólo una pequeña parte"
   ]
  },
  {
   "cell_type": "code",
   "execution_count": 30,
   "metadata": {
    "autoscroll": false,
    "collapsed": false,
    "ein.hycell": false,
    "ein.tags": "worksheet-0",
    "slideshow": {
     "slide_type": "-"
    }
   },
   "outputs": [
    {
     "data": {
      "text/plain": [
       "[<matplotlib.lines.Line2D at 0x7f0548b0e710>]"
      ]
     },
     "execution_count": 30,
     "metadata": {},
     "output_type": "execute_result"
    },
    {
     "data": {
      "image/png": "[encoded data removed]",
      "text/plain": [
       "<Figure size 432x288 with 1 Axes>"
      ]
     },
     "metadata": {
      "needs_background": "light"
     },
     "output_type": "display_data"
    }
   ],
   "source": [
    "x = np.linspace(0,L,1500)\n",
    "plt.plot(x, f2(x))"
   ]
  },
  {
   "cell_type": "markdown",
   "metadata": {
    "collapsed": false,
    "ein.tags": "worksheet-0",
    "slideshow": {
     "slide_type": "-"
    }
   },
   "source": [
    "La rutina `quad` es versatil y tiene una opción específica para integrandos oscilatorios, que permite calcular las integrales de una función $f$ multiplicadas por una función oscilatoria\n",
    "$$I= \\int_{a}^{b} f(x)\\,weight( w x)\\, dx $$\n",
    "Para ello debemos usar el argumento `weight` y `wvar`. En este caso usaremos `weight='sin'`"
   ]
  },
  {
   "cell_type": "code",
   "execution_count": 31,
   "metadata": {
    "autoscroll": false,
    "collapsed": false,
    "ein.hycell": false,
    "ein.tags": "worksheet-0",
    "slideshow": {
     "slide_type": "-"
    }
   },
   "outputs": [],
   "source": [
    "# La función sin el factor oscilatorio:\n",
    "def f3(x):\n",
    "  return np.exp(-a*x)"
   ]
  },
  {
   "cell_type": "code",
   "execution_count": 32,
   "metadata": {
    "autoscroll": false,
    "collapsed": false,
    "ein.hycell": false,
    "ein.tags": "worksheet-0",
    "slideshow": {
     "slide_type": "-"
    }
   },
   "outputs": [],
   "source": [
    "Is= integrate.quad(f3,0,L, weight='sin', wvar=k)"
   ]
  },
  {
   "cell_type": "code",
   "execution_count": 33,
   "metadata": {
    "autoscroll": false,
    "collapsed": false,
    "ein.hycell": false,
    "ein.tags": "worksheet-0",
    "slideshow": {
     "slide_type": "-"
    }
   },
   "outputs": [
    {
     "name": "stdout",
     "output_type": "stream",
     "text": [
      "I= 0.0023326 ± 1.1788e-33\n",
      "Error relativo= 5e-07\n",
      "\n"
     ]
    }
   ],
   "source": [
    "I_err = (I-Is[0])/I             # Error relativo con el valor exacto \n",
    "print(\"I= {:.5g} ± {:.5g}\\nError relativo= {:.6g}\\n\".format(*Is, I_err))"
   ]
  },
  {
   "cell_type": "markdown",
   "metadata": {
    "collapsed": false
   },
   "source": [
    "Esto es así, porque una vez que separamos el comportamiento oscilatorio, la función es suave y fácilmente integrable"
   ]
  },
  {
   "cell_type": "code",
   "execution_count": 34,
   "metadata": {
    "collapsed": false
   },
   "outputs": [
    {
     "data": {
      "text/plain": [
       "[<matplotlib.lines.Line2D at 0x7f0548b7a4d0>]"
      ]
     },
     "execution_count": 34,
     "metadata": {},
     "output_type": "execute_result"
    },
    {
     "data": {
      "image/png": "[encoded data removed]",
      "text/plain": [
       "<Figure size 432x288 with 1 Axes>"
      ]
     },
     "metadata": {
      "needs_background": "light"
     },
     "output_type": "display_data"
    }
   ],
   "source": [
    "plt.plot(x, f3(x))"
   ]
  },
  {
   "cell_type": "markdown",
   "metadata": {
    "collapsed": false,
    "ein.tags": "worksheet-0",
    "slideshow": {
     "slide_type": "-"
    }
   },
   "source": [
    "El error relativo obtenido respecto al valor exacto es varios órdenes de magnitud menor. Comparemos los tiempos de ejecución:"
   ]
  },
  {
   "cell_type": "code",
   "execution_count": 35,
   "metadata": {
    "autoscroll": false,
    "collapsed": false,
    "ein.hycell": false,
    "ein.tags": "worksheet-0",
    "slideshow": {
     "slide_type": "-"
    }
   },
   "outputs": [
    {
     "name": "stderr",
     "output_type": "stream",
     "text": [
      "<magic-timeit>:1: IntegrationWarning: The maximum number of subdivisions (50) has been achieved.\n",
      "  If increasing the limit yields no improvement it is advised to analyze \n",
      "  the integrand in order to determine the difficulties.  If the position of a \n",
      "  local difficulty can be determined (singularity, discontinuity) one will \n",
      "  probably gain from splitting up the interval and calling the integrator \n",
      "  on the subranges.  Perhaps a special-purpose integrator should be used.\n"
     ]
    },
    {
     "name": "stdout",
     "output_type": "stream",
     "text": [
      "3.34 ms ± 246 µs per loop (mean ± std. dev. of 7 runs, 100 loops each)\n"
     ]
    }
   ],
   "source": [
    "%timeit integrate.quad(f2,0,L)"
   ]
  },
  {
   "cell_type": "code",
   "execution_count": 36,
   "metadata": {
    "autoscroll": false,
    "collapsed": false,
    "ein.hycell": false,
    "ein.tags": "worksheet-0",
    "slideshow": {
     "slide_type": "-"
    }
   },
   "outputs": [
    {
     "name": "stdout",
     "output_type": "stream",
     "text": [
      "24.8 µs ± 785 ns per loop (mean ± std. dev. of 7 runs, 10000 loops each)\n"
     ]
    }
   ],
   "source": [
    "%timeit integrate.quad(f3,0,L, weight='sin', wvar=k)"
   ]
  },
  {
   "cell_type": "markdown",
   "metadata": {
    "collapsed": false,
    "ein.tags": "worksheet-0",
    "slideshow": {
     "slide_type": "-"
    }
   },
   "source": [
    "Usar un integrador más específico para el integrando no sólo nos da un mejor resultado sino que el tiempo de ejecución es más de 100 veces más corto."
   ]
  },
  {
   "cell_type": "markdown",
   "metadata": {
    "collapsed": false,
    "ein.tags": "worksheet-0",
    "slideshow": {
     "slide_type": "-"
    }
   },
   "source": [
    "### Funciones de más de una variable\n",
    "\n",
    "Consideremos el caso en que queremos integrar alguna función especial. Podemos usar Scipy para realizar la integración y para evaluar el integrando.  Como `special.jn` depende de dos variables, tenemos que crear una función intermedia que dependa sólo de la variable de integración"
   ]
  },
  {
   "cell_type": "code",
   "execution_count": 37,
   "metadata": {
    "autoscroll": false,
    "collapsed": false,
    "ein.hycell": false,
    "ein.tags": "worksheet-0",
    "slideshow": {
     "slide_type": "-"
    }
   },
   "outputs": [
    {
     "data": {
      "text/plain": [
       "(1.0670113039567362, 7.434789460651883e-14)"
      ]
     },
     "execution_count": 37,
     "metadata": {},
     "output_type": "execute_result"
    }
   ],
   "source": [
    "integrate.quad(lambda x: special.jn(0,x), 0 , 10)"
   ]
  },
  {
   "cell_type": "markdown",
   "metadata": {
    "collapsed": false,
    "ein.tags": "worksheet-0",
    "slideshow": {
     "slide_type": "-"
    }
   },
   "source": [
    "En realidad, la función `quad` permite el uso de argumentos que se le pasan a la función a integrar. La forma de llamar al integrador será en general:\n",
    "\n",
    "```python\n",
    "  quad(func, a, b, args=(), full_output=0, epsabs=1.49e-08, epsrel=1.49e-08,\n",
    "      limit=50, points=None, weight=None, wvar=None, wopts=None, maxp1=50,\n",
    "      limlst=50)\n",
    "  ```\n",
    "\n",
    "El argumento `args` debe ser una tupla, y contiene los argumentos extra que acepta la función a integrar, esta función debe llamarse en la forma `func(x, *args)`. O sea que siempre la integramos respecto a su primer argumento. Apliquemos esto a la función de Bessel. En este caso, la variable a integrar es el segundo argumento de `special.jn`, por lo que creamos una función con el orden correcto de argumentos:"
   ]
  },
  {
   "cell_type": "code",
   "execution_count": 38,
   "metadata": {
    "autoscroll": false,
    "collapsed": false,
    "ein.hycell": false,
    "ein.tags": "worksheet-0",
    "slideshow": {
     "slide_type": "-"
    }
   },
   "outputs": [],
   "source": [
    "def bessel_n(x, n):\n",
    "  return special.jn(n,x)"
   ]
  },
  {
   "cell_type": "code",
   "execution_count": 39,
   "metadata": {
    "autoscroll": false,
    "collapsed": false,
    "ein.hycell": false,
    "ein.tags": "worksheet-0",
    "slideshow": {
     "slide_type": "-"
    }
   },
   "outputs": [
    {
     "data": {
      "text/plain": [
       "(1.0670113039567362, 7.434789460651883e-14)"
      ]
     },
     "execution_count": 39,
     "metadata": {},
     "output_type": "execute_result"
    }
   ],
   "source": [
    "integrate.quad(bessel_n, 0, 10, args=(0,))"
   ]
  },
  {
   "cell_type": "code",
   "execution_count": 40,
   "metadata": {
    "autoscroll": false,
    "collapsed": false,
    "ein.hycell": false,
    "ein.tags": "worksheet-0",
    "slideshow": {
     "slide_type": "-"
    }
   },
   "outputs": [
    {
     "name": "stdout",
     "output_type": "stream",
     "text": [
      "n    \\int_0^10  J_n(x) dx\n",
      "0 :  1.0670113039567362\n",
      "1 :  1.2459357644513482\n",
      "2 :  0.9800658116190144\n",
      "3 :  0.7366751370811073\n",
      "4 :  0.8633070530086401\n",
      "5 :  1.1758805092851239\n"
     ]
    }
   ],
   "source": [
    "print('n    \\int_0^10  J_n(x) dx')\n",
    "for n in range(6):\n",
    "  print(n,': ', integrate.quad(bessel_n, 0, 10, args=(n,))[0])"
   ]
  },
  {
   "cell_type": "markdown",
   "metadata": {
    "collapsed": false
   },
   "source": [
    "\n",
    "-------\n",
    "\n",
    "**Nota:**\n",
    "\n",
    "Para calcular integrales múltiples existen rutinas que hacen llamados sucesivos a la rutina `quad()`. Esto incluye rutinas para integrales dobles (rutina `dblquad()`), triples (rutina `tplquad()`) y en general n-dimensionales (rutina `nquad()`)\n",
    "\n",
    "-------\n"
   ]
  },
  {
   "cell_type": "markdown",
   "metadata": {
    "collapsed": false
   },
   "source": [
    "## Ejercicios 11 (a)\n",
    "\n",
    "1. Graficar para valores de $k=1,2,5,10$ y como función del límite superior $L$, el valor de la integral:\n",
    "\n",
    "$$ I(k,L) = \\int_{0}^{L} x^{k} e^{-k x / 2} \\sin{(k x)} dx $$\n",
    "\n",
    "con rango de variación de $L$ entre $0$ y $2 \\pi$.\n"
   ]
  }
 ],
 "metadata": {
  "kernelspec": {
   "argv": [
    "/usr/bin/python3",
    "-m",
    "ipykernel_launcher",
    "-f",
    "{connection_file}"
   ],
   "display_name": "Python 3",
   "env": null,
   "interrupt_mode": "signal",
   "language": "python",
   "metadata": null,
   "name": "python3"
  },
  "language_info": {
   "codemirror_mode": {
    "name": "ipython",
    "version": 3
   },
   "file_extension": ".py",
   "mimetype": "text/x-python",
   "name": "python",
   "nbconvert_exporter": "python",
   "pygments_lexer": "ipython3",
   "version": "3.10.2"
  },
  "name": "11_1_intro_scipy.ipynb",
  "toc": {
   "base_numbering": 1,
   "nav_menu": {
    "height": "469.6px",
    "width": "252px"
   },
   "number_sections": true,
   "sideBar": true,
   "skip_h1_title": false,
   "title_cell": "Contenidos",
   "title_sidebar": "Contenidos",
   "toc_cell": false,
   "toc_position": {
    "height": "calc(100% - 180px)",
    "left": "10px",
    "top": "150px",
    "width": "383.2px"
   },
   "toc_section_display": true,
   "toc_window_display": true
  }
 },
 "nbformat": 4,
 "nbformat_minor": 2
}
