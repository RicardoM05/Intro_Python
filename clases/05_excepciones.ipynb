{
 "cells": [
  {
   "cell_type": "markdown",
   "metadata": {
    "ein.tags": "worksheet-0",
    "slideshow": {
     "slide_type": "-"
    }
   },
   "source": [
    "## Atrapar y administrar errores"
   ]
  },
  {
   "cell_type": "markdown",
   "metadata": {
    "ein.tags": "worksheet-0",
    "slideshow": {
     "slide_type": "-"
    }
   },
   "source": [
    "**Python** tiene incorporado un mecanismo para atrapar errores de distintos tipos, así como para generar errores que den información al usuario sobre usos incorrectos del código.\n",
    "\n",
    "En primer lugar consideremos lo que se llama un error de sintaxis"
   ]
  },
  {
   "cell_type": "code",
   "execution_count": 40,
   "metadata": {
    "autoscroll": false,
    "ein.hycell": false,
    "ein.tags": "worksheet-0",
    "slideshow": {
     "slide_type": "-"
    }
   },
   "outputs": [
    {
     "ename": "SyntaxError",
     "evalue": "invalid syntax (<ipython-input-40-3e8c6f917d42>, line 1)",
     "output_type": "error",
     "traceback": [
      "\u001b[0;36m  File \u001b[0;32m\"<ipython-input-40-3e8c6f917d42>\"\u001b[0;36m, line \u001b[0;32m1\u001b[0m\n\u001b[0;31m    print(\"hola\"))\u001b[0m\n\u001b[0m                 ^\u001b[0m\n\u001b[0;31mSyntaxError\u001b[0m\u001b[0;31m:\u001b[0m invalid syntax\n"
     ]
    }
   ],
   "source": [
    "print(\"hola\"))"
   ]
  },
  {
   "cell_type": "markdown",
   "metadata": {
    "ein.tags": "worksheet-0",
    "slideshow": {
     "slide_type": "-"
    }
   },
   "source": [
    "El intérprete detecta el error y repite la línea donde lo identifica. Este tipo de errores debe corregirse para poder seguir con el programa.\n",
    "\n",
    "Consideremos ahora el código siguiente, que es sintácticamente correcto pero igualmente causa un error"
   ]
  },
  {
   "cell_type": "code",
   "execution_count": 41,
   "metadata": {
    "autoscroll": false,
    "ein.hycell": false,
    "ein.tags": "worksheet-0",
    "slideshow": {
     "slide_type": "-"
    }
   },
   "outputs": [
    {
     "ename": "ZeroDivisionError",
     "evalue": "division by zero",
     "output_type": "error",
     "traceback": [
      "\u001b[0;31m---------------------------------------------------------------------------\u001b[0m",
      "\u001b[0;31mZeroDivisionError\u001b[0m                         Traceback (most recent call last)",
      "\u001b[0;32m<ipython-input-41-fd0e24f40c98>\u001b[0m in \u001b[0;36m<module>\u001b[0;34m\u001b[0m\n\u001b[1;32m      1\u001b[0m \u001b[0ma\u001b[0m \u001b[0;34m=\u001b[0m \u001b[0;36m1\u001b[0m\u001b[0;34m\u001b[0m\u001b[0;34m\u001b[0m\u001b[0m\n\u001b[1;32m      2\u001b[0m \u001b[0mb\u001b[0m \u001b[0;34m=\u001b[0m \u001b[0;36m0\u001b[0m\u001b[0;34m\u001b[0m\u001b[0;34m\u001b[0m\u001b[0m\n\u001b[0;32m----> 3\u001b[0;31m \u001b[0mz\u001b[0m \u001b[0;34m=\u001b[0m \u001b[0ma\u001b[0m \u001b[0;34m/\u001b[0m \u001b[0mb\u001b[0m\u001b[0;34m\u001b[0m\u001b[0;34m\u001b[0m\u001b[0m\n\u001b[0m",
      "\u001b[0;31mZeroDivisionError\u001b[0m: division by zero"
     ]
    }
   ],
   "source": [
    "a = 1\n",
    "b = 0\n",
    "z = a / b"
   ]
  },
  {
   "cell_type": "markdown",
   "metadata": {
    "ein.tags": "worksheet-0",
    "slideshow": {
     "slide_type": "-"
    }
   },
   "source": [
    "Cuando se encuentra un error, **Python** muestra el lugar en que ocurre y de qué tipo de error se trata."
   ]
  },
  {
   "cell_type": "code",
   "execution_count": 42,
   "metadata": {
    "autoscroll": false,
    "ein.hycell": false,
    "ein.tags": "worksheet-0",
    "slideshow": {
     "slide_type": "-"
    }
   },
   "outputs": [
    {
     "ename": "NameError",
     "evalue": "name 'hola' is not defined",
     "output_type": "error",
     "traceback": [
      "\u001b[0;31m---------------------------------------------------------------------------\u001b[0m",
      "\u001b[0;31mNameError\u001b[0m                                 Traceback (most recent call last)",
      "\u001b[0;32m<ipython-input-42-c6948929a301>\u001b[0m in \u001b[0;36m<module>\u001b[0;34m\u001b[0m\n\u001b[0;32m----> 1\u001b[0;31m \u001b[0mprint\u001b[0m \u001b[0;34m(\u001b[0m\u001b[0mhola\u001b[0m\u001b[0;34m)\u001b[0m\u001b[0;34m\u001b[0m\u001b[0;34m\u001b[0m\u001b[0m\n\u001b[0m",
      "\u001b[0;31mNameError\u001b[0m: name 'hola' is not defined"
     ]
    }
   ],
   "source": [
    "print (hola)"
   ]
  },
  {
   "cell_type": "markdown",
   "metadata": {
    "ein.tags": "worksheet-0",
    "slideshow": {
     "slide_type": "-"
    }
   },
   "source": [
    "Este mensaje da un tipo de error diferente. Ambos: `ZeroDivisionError` y `NameError` son tipos de errores (o excepciones). Hay una larga lista de tipos de errores que son parte del lenguaje y puede consultarse en la documentación de [Built-in Exceptions](https://docs.python.org/3/library/exceptions.html#bltin-exceptions)."
   ]
  },
  {
   "cell_type": "markdown",
   "metadata": {
    "ein.tags": "worksheet-0",
    "slideshow": {
     "slide_type": "-"
    }
   },
   "source": [
    "### Administración de excepciones\n",
    "\n",
    "Cuando nuestro programa aumenta en complejidad, aumenta la posibilidad de encontrar errores. Esto se incrementa si se tiene que interactuar con otros usuarios o con datos externos. Consideremos el siguiente ejemplo simple:"
   ]
  },
  {
   "cell_type": "code",
   "execution_count": 49,
   "metadata": {
    "autoscroll": false,
    "ein.hycell": false,
    "ein.tags": "worksheet-0",
    "slideshow": {
     "slide_type": "-"
    }
   },
   "outputs": [
    {
     "name": "stdout",
     "output_type": "stream",
     "text": [
      "1 2\r\n",
      "2 6\r\n",
      "3 9\r\n",
      "4 12\r\n",
      "5.5 30.25\r\n",
      "6\r\n",
      "3 9\r\n"
     ]
    }
   ],
   "source": [
    "%cat ../data/ej_clase5.dat"
   ]
  },
  {
   "cell_type": "code",
   "execution_count": 50,
   "metadata": {
    "autoscroll": false,
    "ein.hycell": false,
    "ein.tags": "worksheet-0",
    "slideshow": {
     "slide_type": "-"
    }
   },
   "outputs": [
    {
     "name": "stdout",
     "output_type": "stream",
     "text": [
      "t = ['1', '2']\n",
      "m = 1, n = 2, m x n = 2\n",
      "t = ['2', '6']\n",
      "m = 2, n = 6, m x n = 12\n",
      "t = ['3', '9']\n",
      "m = 3, n = 9, m x n = 27\n",
      "t = ['4', '12']\n",
      "m = 4, n = 12, m x n = 48\n",
      "t = ['5.5', '30.25']\n"
     ]
    },
    {
     "ename": "ValueError",
     "evalue": "invalid literal for int() with base 10: '5.5'",
     "output_type": "error",
     "traceback": [
      "\u001b[0;31m---------------------------------------------------------------------------\u001b[0m",
      "\u001b[0;31mValueError\u001b[0m                                Traceback (most recent call last)",
      "\u001b[0;32m<ipython-input-50-55192d3677b3>\u001b[0m in \u001b[0;36m<module>\u001b[0;34m\u001b[0m\n\u001b[1;32m      3\u001b[0m     \u001b[0mt\u001b[0m \u001b[0;34m=\u001b[0m \u001b[0ml\u001b[0m\u001b[0;34m.\u001b[0m\u001b[0msplit\u001b[0m\u001b[0;34m(\u001b[0m\u001b[0;34m)\u001b[0m\u001b[0;34m\u001b[0m\u001b[0;34m\u001b[0m\u001b[0m\n\u001b[1;32m      4\u001b[0m     \u001b[0mprint\u001b[0m\u001b[0;34m(\u001b[0m\u001b[0;34m\"t = {}\"\u001b[0m\u001b[0;34m.\u001b[0m\u001b[0mformat\u001b[0m\u001b[0;34m(\u001b[0m\u001b[0mt\u001b[0m\u001b[0;34m)\u001b[0m\u001b[0;34m)\u001b[0m        \u001b[0;31m# Línea sólo para inspección\u001b[0m\u001b[0;34m\u001b[0m\u001b[0;34m\u001b[0m\u001b[0m\n\u001b[0;32m----> 5\u001b[0;31m     \u001b[0mm\u001b[0m \u001b[0;34m=\u001b[0m \u001b[0mint\u001b[0m\u001b[0;34m(\u001b[0m\u001b[0mt\u001b[0m\u001b[0;34m[\u001b[0m\u001b[0;36m0\u001b[0m\u001b[0;34m]\u001b[0m\u001b[0;34m)\u001b[0m\u001b[0;34m\u001b[0m\u001b[0;34m\u001b[0m\u001b[0m\n\u001b[0m\u001b[1;32m      6\u001b[0m     \u001b[0mn\u001b[0m \u001b[0;34m=\u001b[0m \u001b[0mint\u001b[0m\u001b[0;34m(\u001b[0m\u001b[0mt\u001b[0m\u001b[0;34m[\u001b[0m\u001b[0;36m1\u001b[0m\u001b[0;34m]\u001b[0m\u001b[0;34m)\u001b[0m\u001b[0;34m\u001b[0m\u001b[0;34m\u001b[0m\u001b[0m\n\u001b[1;32m      7\u001b[0m     \u001b[0mprint\u001b[0m\u001b[0;34m(\u001b[0m\u001b[0;34m\"m = {}, n = {}, m x n = {}\"\u001b[0m\u001b[0;34m.\u001b[0m\u001b[0mformat\u001b[0m\u001b[0;34m(\u001b[0m\u001b[0mm\u001b[0m\u001b[0;34m,\u001b[0m\u001b[0mn\u001b[0m\u001b[0;34m,\u001b[0m \u001b[0mm\u001b[0m\u001b[0;34m*\u001b[0m\u001b[0mn\u001b[0m\u001b[0;34m)\u001b[0m\u001b[0;34m)\u001b[0m\u001b[0;34m\u001b[0m\u001b[0;34m\u001b[0m\u001b[0m\n",
      "\u001b[0;31mValueError\u001b[0m: invalid literal for int() with base 10: '5.5'"
     ]
    }
   ],
   "source": [
    "with open(\"../data/ej_clase5.dat\") as fi:\n",
    "  for l in fi:\n",
    "    t = l.split()\n",
    "    print(\"t = {}\".format(t))        # Línea sólo para inspección\n",
    "    m = int(t[0])\n",
    "    n = int(t[1])\n",
    "    print(\"m = {}, n = {}, m x n = {}\".format(m,n, m*n))"
   ]
  },
  {
   "cell_type": "markdown",
   "metadata": {
    "ein.tags": "worksheet-0",
    "slideshow": {
     "slide_type": "-"
    }
   },
   "source": [
    "En este caso se \"levanta\" una excepción del tipo `ValueError` debido a que este valor (`5.5`) no se puede convertir a `int`. Podemos modificar nuestro programa para manejar este error:"
   ]
  },
  {
   "cell_type": "code",
   "execution_count": 51,
   "metadata": {
    "autoscroll": false,
    "ein.hycell": false,
    "ein.tags": "worksheet-0",
    "slideshow": {
     "slide_type": "-"
    }
   },
   "outputs": [
    {
     "name": "stdout",
     "output_type": "stream",
     "text": [
      "m = 1, n = 2, m x n = 2\n",
      "m = 2, n = 6, m x n = 12\n",
      "m = 3, n = 9, m x n = 27\n",
      "m = 4, n = 12, m x n = 48\n",
      "Error: t = ['5.5', '30.25'] no puede convertirse a entero\n",
      "Error: t = ['6'] no puede convertirse a entero\n",
      "m = 3, n = 9, m x n = 27\n"
     ]
    }
   ],
   "source": [
    "with open(\"../data/ej_clase5.dat\") as fi:\n",
    "  for l in fi:\n",
    "    t = l.split()\n",
    "    try:\n",
    "      m = int(t[0])\n",
    "      n = int(t[1])\n",
    "      print(\"m = {}, n = {}, m x n = {}\".format(m,n, m*n))\n",
    "    except:\n",
    "      print(\"Error: t = {} no puede convertirse a entero\".format(t))\n",
    "      "
   ]
  },
  {
   "cell_type": "markdown",
   "metadata": {
    "ein.tags": "worksheet-0",
    "slideshow": {
     "slide_type": "-"
    }
   },
   "source": [
    "En este caso podríamos ser más precisos y especificar el tipo de excepción que estamos esperando"
   ]
  },
  {
   "cell_type": "code",
   "execution_count": 46,
   "metadata": {
    "autoscroll": false,
    "ein.hycell": false,
    "ein.tags": "worksheet-0",
    "slideshow": {
     "slide_type": "-"
    }
   },
   "outputs": [
    {
     "name": "stdout",
     "output_type": "stream",
     "text": [
      "m = 1, n = 2, m x n = 2\n",
      "m = 2, n = 6, m x n = 12\n",
      "m = 3, n = 9, m x n = 27\n",
      "m = 4, n = 12, m x n = 48\n",
      "Error: t = ['5.5', '30.25'] no puede convertirse a entero\n"
     ]
    },
    {
     "ename": "IndexError",
     "evalue": "list index out of range",
     "output_type": "error",
     "traceback": [
      "\u001b[0;31m---------------------------------------------------------------------------\u001b[0m",
      "\u001b[0;31mIndexError\u001b[0m                                Traceback (most recent call last)",
      "\u001b[0;32m<ipython-input-46-52fbc3b0e675>\u001b[0m in \u001b[0;36m<module>\u001b[0;34m\u001b[0m\n\u001b[1;32m      4\u001b[0m     \u001b[0;32mtry\u001b[0m\u001b[0;34m:\u001b[0m\u001b[0;34m\u001b[0m\u001b[0;34m\u001b[0m\u001b[0m\n\u001b[1;32m      5\u001b[0m       \u001b[0mm\u001b[0m \u001b[0;34m=\u001b[0m \u001b[0mint\u001b[0m\u001b[0;34m(\u001b[0m\u001b[0mt\u001b[0m\u001b[0;34m[\u001b[0m\u001b[0;36m0\u001b[0m\u001b[0;34m]\u001b[0m\u001b[0;34m)\u001b[0m\u001b[0;34m\u001b[0m\u001b[0;34m\u001b[0m\u001b[0m\n\u001b[0;32m----> 6\u001b[0;31m       \u001b[0mn\u001b[0m \u001b[0;34m=\u001b[0m \u001b[0mint\u001b[0m\u001b[0;34m(\u001b[0m\u001b[0mt\u001b[0m\u001b[0;34m[\u001b[0m\u001b[0;36m1\u001b[0m\u001b[0;34m]\u001b[0m\u001b[0;34m)\u001b[0m\u001b[0;34m\u001b[0m\u001b[0;34m\u001b[0m\u001b[0m\n\u001b[0m\u001b[1;32m      7\u001b[0m       \u001b[0mprint\u001b[0m\u001b[0;34m(\u001b[0m\u001b[0;34m\"m = {}, n = {}, m x n = {}\"\u001b[0m\u001b[0;34m.\u001b[0m\u001b[0mformat\u001b[0m\u001b[0;34m(\u001b[0m\u001b[0mm\u001b[0m\u001b[0;34m,\u001b[0m\u001b[0mn\u001b[0m\u001b[0;34m,\u001b[0m \u001b[0mm\u001b[0m\u001b[0;34m*\u001b[0m\u001b[0mn\u001b[0m\u001b[0;34m)\u001b[0m\u001b[0;34m)\u001b[0m\u001b[0;34m\u001b[0m\u001b[0;34m\u001b[0m\u001b[0m\n\u001b[1;32m      8\u001b[0m     \u001b[0;32mexcept\u001b[0m\u001b[0;34m(\u001b[0m\u001b[0mValueError\u001b[0m\u001b[0;34m)\u001b[0m\u001b[0;34m:\u001b[0m\u001b[0;34m\u001b[0m\u001b[0;34m\u001b[0m\u001b[0m\n",
      "\u001b[0;31mIndexError\u001b[0m: list index out of range"
     ]
    }
   ],
   "source": [
    "with open(\"../data/ej_clase5.dat\") as fi:\n",
    "  for l in fi:\n",
    "    t = l.split()\n",
    "    try:\n",
    "      m = int(t[0])\n",
    "      n = int(t[1])\n",
    "      print(\"m = {}, n = {}, m x n = {}\".format(m,n, m*n))\n",
    "    except(ValueError):\n",
    "      print(\"Error: t = {} no puede convertirse a entero\".format(t))\n",
    "      "
   ]
  },
  {
   "cell_type": "code",
   "execution_count": 48,
   "metadata": {
    "autoscroll": false,
    "ein.hycell": false,
    "ein.tags": "worksheet-0",
    "slideshow": {
     "slide_type": "-"
    }
   },
   "outputs": [
    {
     "name": "stdout",
     "output_type": "stream",
     "text": [
      "m = 1, n = 2, m x n = 2\n",
      "m = 2, n = 6, m x n = 12\n",
      "m = 3, n = 9, m x n = 27\n",
      "m = 4, n = 12, m x n = 48\n",
      "Error: t = ['5.5', '30.25'] no puede convertirse a entero\n",
      "Error: La línea \"6\" no contiene un par\n",
      "m = 3, n = 9, m x n = 27\n"
     ]
    }
   ],
   "source": [
    "with open(\"../data/ej_clase5.dat\") as fi:\n",
    "  for l in fi:\n",
    "    t = l.split()\n",
    "    try:\n",
    "      m = int(t[0])\n",
    "      n = int(t[1])\n",
    "      print(\"m = {}, n = {}, m x n = {}\".format(m,n, m*n))\n",
    "    except(ValueError):\n",
    "      print(\"Error: t = {} no puede convertirse a entero\".format(t))\n",
    "    except(IndexError):\n",
    "      print('Error: La línea \"{}\" no contiene un par'.format(l.strip()))\n",
    "      "
   ]
  },
  {
   "cell_type": "code",
   "execution_count": 52,
   "metadata": {
    "autoscroll": false,
    "ein.hycell": false,
    "ein.tags": "worksheet-0",
    "slideshow": {
     "slide_type": "-"
    }
   },
   "outputs": [
    {
     "name": "stdout",
     "output_type": "stream",
     "text": [
      "m = 1, n = 2, m x n = 2\n",
      "m = 2, n = 6, m x n = 12\n",
      "m = 3, n = 9, m x n = 27\n",
      "m = 4, n = 12, m x n = 48\n",
      "Error: t = ['5.5', '30.25'] no puede convertirse a entero\n",
      "Error: La línea \"6\" no contiene un par\n",
      "m = 6, n = 0, m x n = 0\n",
      "m = 3, n = 9, m x n = 27\n"
     ]
    }
   ],
   "source": [
    "with open(\"../data/ej_clase5.dat\") as fi:\n",
    "  for l in fi:\n",
    "    t = l.split()\n",
    "    try:\n",
    "      m = int(t[0])\n",
    "      n = int(t[1])\n",
    "      print(\"m = {}, n = {}, m x n = {}\".format(m,n, m*n))\n",
    "    except(ValueError):\n",
    "      print(\"Error: t = {} no puede convertirse a entero\".format(t))\n",
    "    except(IndexError):\n",
    "      print('Error: La línea \"{}\" no contiene un par'.format(l.strip()))\n",
    "      m = int(t[0])\n",
    "      n = 0\n",
    "      print(\"m = {}, n = {}, m x n = {}\".format(m,n, m*n))\n",
    "\n",
    "      "
   ]
  },
  {
   "cell_type": "code",
   "execution_count": 54,
   "metadata": {
    "autoscroll": false,
    "ein.hycell": false,
    "ein.tags": "worksheet-0",
    "slideshow": {
     "slide_type": "-"
    }
   },
   "outputs": [
    {
     "name": "stdout",
     "output_type": "stream",
     "text": [
      "m = 1, n = 2, m x n = 2\n",
      "m = 2, n = 6, m x n = 12\n",
      "m = 3, n = 9, m x n = 27\n",
      "m = 4, n = 12, m x n = 48\n",
      "Error: invalid literal for int() with base 10: '5.5'\n",
      "Error: list index out of range\n",
      "m = 3, n = 9, m x n = 27\n"
     ]
    }
   ],
   "source": [
    "with open(\"../data/ej_clase5.dat\") as fi:\n",
    "  for l in fi:\n",
    "    t = l.split()\n",
    "    try:\n",
    "      m = int(t[0])\n",
    "      n = int(t[1])\n",
    "      print(\"m = {}, n = {}, m x n = {}\".format(m,n, m*n))\n",
    "    except Exception as e:\n",
    "      print(\"Error: {}\".format(e))\n",
    "      "
   ]
  },
  {
   "cell_type": "markdown",
   "metadata": {
    "ein.tags": "worksheet-0",
    "slideshow": {
     "slide_type": "-"
    }
   },
   "source": [
    "La forma general\n",
    "\n",
    "La declaración `try` funciona de la siguiente manera:\n",
    "\n",
    "* Primero, se ejecuta el *bloque try* (el código entre las declaración\n",
    "  `try` y `except`).\n",
    "\n",
    "* Si no ocurre ninguna excepción, el *bloque except* se saltea y termina la\n",
    "  ejecución de la declaración `try`.\n",
    "\n",
    "* Si ocurre una excepción durante la ejecución del *bloque try*, el resto del\n",
    "  bloque se saltea.  Luego, si su tipo coincide con la excepción nombrada luego\n",
    "  de la palabra reservada `except`, se ejecuta el *bloque except*,\n",
    "  y la ejecución continúa luego de la declaración `try`.\n",
    "\n",
    "* Si ocurre una excepción que no coincide con la excepción nombrada en el\n",
    "  `except`, esta se pasa a declaraciones `try` de más afuera;\n",
    "  si no se encuentra nada que la maneje, es una *excepción no manejada*, y la\n",
    "  ejecución se frena con un mensaje como los mostrados arriba.\n",
    "\n",
    "\n",
    "El mecanismo es un poco más complejo, y permite un control más fino que lo descripto aquí."
   ]
  },
  {
   "cell_type": "markdown",
   "metadata": {
    "ein.tags": "worksheet-0",
    "slideshow": {
     "slide_type": "-"
    }
   },
   "source": [
    "### \"Levantando\" excepciones\n",
    "\n",
    "Podemos forzar a que nuestro código levante una excepción usando `raise`. Por ejemplo:"
   ]
  },
  {
   "cell_type": "code",
   "execution_count": 55,
   "metadata": {
    "autoscroll": false,
    "ein.hycell": false,
    "ein.tags": "worksheet-0",
    "slideshow": {
     "slide_type": "-"
    }
   },
   "outputs": [
    {
     "ename": "Exception",
     "evalue": "x = 1, no debería ser positivo",
     "output_type": "error",
     "traceback": [
      "\u001b[0;31m---------------------------------------------------------------------------\u001b[0m",
      "\u001b[0;31mException\u001b[0m                                 Traceback (most recent call last)",
      "\u001b[0;32m<ipython-input-55-c3c4a53042e7>\u001b[0m in \u001b[0;36m<module>\u001b[0;34m\u001b[0m\n\u001b[1;32m      1\u001b[0m \u001b[0mx\u001b[0m \u001b[0;34m=\u001b[0m \u001b[0;36m1\u001b[0m\u001b[0;34m\u001b[0m\u001b[0;34m\u001b[0m\u001b[0m\n\u001b[1;32m      2\u001b[0m \u001b[0;32mif\u001b[0m \u001b[0mx\u001b[0m \u001b[0;34m>\u001b[0m \u001b[0;36m0\u001b[0m\u001b[0;34m:\u001b[0m\u001b[0;34m\u001b[0m\u001b[0;34m\u001b[0m\u001b[0m\n\u001b[0;32m----> 3\u001b[0;31m   \u001b[0;32mraise\u001b[0m \u001b[0mException\u001b[0m\u001b[0;34m(\u001b[0m\u001b[0;34m\"x = {}, no debería ser positivo\"\u001b[0m\u001b[0;34m.\u001b[0m\u001b[0mformat\u001b[0m\u001b[0;34m(\u001b[0m\u001b[0mx\u001b[0m\u001b[0;34m)\u001b[0m\u001b[0;34m)\u001b[0m\u001b[0;34m\u001b[0m\u001b[0;34m\u001b[0m\u001b[0m\n\u001b[0m",
      "\u001b[0;31mException\u001b[0m: x = 1, no debería ser positivo"
     ]
    }
   ],
   "source": [
    "x = 1\n",
    "if x > 0:\n",
    "  raise Exception(\"x = {}, no debería ser positivo\".format(x))"
   ]
  },
  {
   "cell_type": "markdown",
   "metadata": {
    "ein.tags": "worksheet-0",
    "slideshow": {
     "slide_type": "-"
    }
   },
   "source": [
    "O podemos ser más específicos, y dar el tipo de error adecuado"
   ]
  },
  {
   "cell_type": "code",
   "execution_count": 56,
   "metadata": {
    "autoscroll": false,
    "ein.hycell": false,
    "ein.tags": "worksheet-0",
    "slideshow": {
     "slide_type": "-"
    }
   },
   "outputs": [
    {
     "ename": "ValueError",
     "evalue": "x = 1, no debería ser positivo",
     "output_type": "error",
     "traceback": [
      "\u001b[0;31m---------------------------------------------------------------------------\u001b[0m",
      "\u001b[0;31mValueError\u001b[0m                                Traceback (most recent call last)",
      "\u001b[0;32m<ipython-input-56-3c0ee90e0415>\u001b[0m in \u001b[0;36m<module>\u001b[0;34m\u001b[0m\n\u001b[1;32m      1\u001b[0m \u001b[0mx\u001b[0m \u001b[0;34m=\u001b[0m \u001b[0;36m1\u001b[0m\u001b[0;34m\u001b[0m\u001b[0;34m\u001b[0m\u001b[0m\n\u001b[1;32m      2\u001b[0m \u001b[0;32mif\u001b[0m \u001b[0mx\u001b[0m \u001b[0;34m>\u001b[0m \u001b[0;36m0\u001b[0m\u001b[0;34m:\u001b[0m\u001b[0;34m\u001b[0m\u001b[0;34m\u001b[0m\u001b[0m\n\u001b[0;32m----> 3\u001b[0;31m   \u001b[0;32mraise\u001b[0m \u001b[0mValueError\u001b[0m\u001b[0;34m(\u001b[0m\u001b[0;34m\"x = {}, no debería ser positivo\"\u001b[0m\u001b[0;34m.\u001b[0m\u001b[0mformat\u001b[0m\u001b[0;34m(\u001b[0m\u001b[0mx\u001b[0m\u001b[0;34m)\u001b[0m\u001b[0;34m)\u001b[0m\u001b[0;34m\u001b[0m\u001b[0;34m\u001b[0m\u001b[0m\n\u001b[0m",
      "\u001b[0;31mValueError\u001b[0m: x = 1, no debería ser positivo"
     ]
    }
   ],
   "source": [
    "x = 1\n",
    "if x > 0:\n",
    "  raise ValueError(\"x = {}, no debería ser positivo\".format(x))"
   ]
  },
  {
   "cell_type": "markdown",
   "metadata": {
    "ein.tags": "worksheet-0",
    "slideshow": {
     "slide_type": "-"
    }
   },
   "source": [
    "## Ejercicios 05 (c)\n",
    "\n",
    "Utilizando manejo de excepciones, cree un decorador para la función:\n",
    "\n",
    "```python\n",
    "def cubos(v):\n",
    "  return [x**3 for x in v]\n",
    "```\n",
    "\n",
    "Debe dar un mensaje si `v` no es un iterable de números. Por ejemplo, debe funcionar para listas, tuplas y conjuntos de números pero debe dar un mensaje de error para escalares o cuando una de las componentes del argumento no es un número."
   ]
  }
 ],
 "metadata": {
  "kernelspec": {
   "display_name": "Python 3",
   "language": "python",
   "name": "python3"
  },
  "language_info": {
   "codemirror_mode": {
    "name": "ipython",
    "version": 3
   },
   "file_extension": ".py",
   "mimetype": "text/x-python",
   "name": "python",
   "nbconvert_exporter": "python",
   "pygments_lexer": "ipython3",
   "version": "3.7.6"
  },
  "name": "05_excepciones.ipynb",
  "toc": {
   "base_numbering": 1,
   "nav_menu": {},
   "number_sections": true,
   "sideBar": true,
   "skip_h1_title": false,
   "title_cell": "Contenidos",
   "title_sidebar": "Contenidos",
   "toc_cell": false,
   "toc_position": {},
   "toc_section_display": true,
   "toc_window_display": false
  }
 },
 "nbformat": 4,
 "nbformat_minor": 2
}
